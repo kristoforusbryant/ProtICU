{
 "cells": [
  {
   "cell_type": "code",
   "execution_count": 1,
   "metadata": {},
   "outputs": [],
   "source": [
    "import pandas as pd \n",
    "import numpy as np\n",
    "import torch \n",
    "import pickle\n",
    "from matplotlib import pyplot as plt"
   ]
  },
  {
   "cell_type": "code",
   "execution_count": 2,
   "metadata": {},
   "outputs": [],
   "source": [
    "from utils.generate_raw_timeseries import generate_raw_timeseries\n",
    "from utils.make_tensor import make_tensor"
   ]
  },
  {
   "cell_type": "markdown",
   "metadata": {},
   "source": [
    "### Generate raw timeseries"
   ]
  },
  {
   "cell_type": "code",
   "execution_count": 3,
   "metadata": {},
   "outputs": [
    {
     "name": "stdout",
     "output_type": "stream",
     "text": [
      "CPU times: user 17.9 s, sys: 15.3 s, total: 33.2 s\n",
      "Wall time: 34.7 s\n"
     ]
    }
   ],
   "source": [
    "%%time \n",
    "generate_raw_timeseries(infile='data/in-hospital-mortality/concatenated_X.csv',\n",
    "                       outfile='data/in-hospital-mortality/raw_hourly_timeseries.pkl')"
   ]
  },
  {
   "cell_type": "markdown",
   "metadata": {},
   "source": [
    "###  Make tensor (mask, discretise, normalise, impute)"
   ]
  },
  {
   "cell_type": "code",
   "execution_count": 4,
   "metadata": {},
   "outputs": [
    {
     "name": "stderr",
     "output_type": "stream",
     "text": [
      "/home/kristoforus/miniconda3/envs/deeplearning/lib/python3.8/site-packages/pandas/core/indexing.py:1048: SettingWithCopyWarning: \n",
      "A value is trying to be set on a copy of a slice from a DataFrame.\n",
      "Try using .loc[row_indexer,col_indexer] = value instead\n",
      "\n",
      "See the caveats in the documentation: https://pandas.pydata.org/pandas-docs/stable/user_guide/indexing.html#returning-a-view-versus-a-copy\n",
      "  self.obj[item_labels[indexer[info_axis]]] = value\n"
     ]
    },
    {
     "name": "stdout",
     "output_type": "stream",
     "text": [
      "CPU times: user 16.9 s, sys: 7.48 s, total: 24.3 s\n",
      "Wall time: 23.9 s\n"
     ]
    }
   ],
   "source": [
    "%%time\n",
    "X = pd.read_pickle('data/in-hospital-mortality/raw_hourly_timeseries.pkl')\n",
    "y = pd.read_csv('data/in-hospital-mortality/concatenated_y.csv')\n",
    "tensors, tensor_features = make_tensor(X, y, normal_type='mean', impute_type='zero', \n",
    "                                 summary_path='data/in-hospital-mortality/summary.pkl')\n",
    "X_tensor, y_tensor = tensors"
   ]
  },
  {
   "cell_type": "code",
   "execution_count": 5,
   "metadata": {},
   "outputs": [
    {
     "name": "stdout",
     "output_type": "stream",
     "text": [
      "torch.Size([21139, 48, 46])\n",
      "torch.Size([21139, 1])\n"
     ]
    }
   ],
   "source": [
    "print(X_tensor.shape)\n",
    "print(y_tensor.shape)"
   ]
  },
  {
   "cell_type": "markdown",
   "metadata": {},
   "source": [
    "### Split to train, val, test"
   ]
  },
  {
   "cell_type": "code",
   "execution_count": 6,
   "metadata": {},
   "outputs": [],
   "source": [
    "index = np.arange(X_tensor.shape[0]) \n",
    "np.random.shuffle(index)"
   ]
  },
  {
   "cell_type": "code",
   "execution_count": 7,
   "metadata": {},
   "outputs": [],
   "source": [
    "index_train = index[: int(0.7 * X_tensor.shape[0])]\n",
    "index_val = index[int(0.7 * X_tensor.shape[0]) : int(0.8* X_tensor.shape[0])] \n",
    "index_test = index[int(0.8* X_tensor.shape[0]):]"
   ]
  },
  {
   "cell_type": "code",
   "execution_count": 8,
   "metadata": {},
   "outputs": [],
   "source": [
    "train = (X_tensor[index_train, :, :], y_tensor[index_train, :])\n",
    "val = (X_tensor[index_val, :, :], y_tensor[index_val, :])\n",
    "test = (X_tensor[index_test, :, :], y_tensor[index_test, :])"
   ]
  },
  {
   "cell_type": "code",
   "execution_count": 9,
   "metadata": {},
   "outputs": [],
   "source": [
    "torch.save((train, val, test), 'data/in-hospital-mortality/tensors.pkl')\n",
    "torch.save(tensor_features, 'data/in-hospital-mortality/tensor_features.pkl')"
   ]
  }
 ],
 "metadata": {
  "kernelspec": {
   "display_name": "deeplearning",
   "language": "python",
   "name": "deeplearning"
  },
  "language_info": {
   "codemirror_mode": {
    "name": "ipython",
    "version": 3
   },
   "file_extension": ".py",
   "mimetype": "text/x-python",
   "name": "python",
   "nbconvert_exporter": "python",
   "pygments_lexer": "ipython3",
   "version": "3.8.3"
  }
 },
 "nbformat": 4,
 "nbformat_minor": 2
}
