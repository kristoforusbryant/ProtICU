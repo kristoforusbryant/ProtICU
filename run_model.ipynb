{
 "cells": [
  {
   "cell_type": "code",
   "execution_count": 1,
   "metadata": {},
   "outputs": [],
   "source": [
    "import numpy as np\n",
    "import torch \n",
    "from collections import OrderedDict\n",
    "\n",
    "from utils.sample_parameters import ParamSamples\n",
    "from models.CNN_1D_vanilla import CNN_1D\n",
    "from utils.train_n_test import TrainTest"
   ]
  },
  {
   "cell_type": "code",
   "execution_count": 2,
   "metadata": {},
   "outputs": [],
   "source": [
    "train, val, test = torch.load('data/in-hospital-mortality/tensors.pkl')"
   ]
  },
  {
   "cell_type": "code",
   "execution_count": 3,
   "metadata": {},
   "outputs": [],
   "source": [
    "# Calculating class weights\n",
    "perc_mort = np.concatenate((train[1], val[1], test[1])).mean()\n",
    "class_weights = torch.Tensor([perc_mort, 1-perc_mort]) "
   ]
  },
  {
   "cell_type": "code",
   "execution_count": 4,
   "metadata": {},
   "outputs": [],
   "source": [
    "params_dict = {\n",
    "    # HYPERMARAMETER RANGES\n",
    "    'BATCH_SIZE': ([48, 64, 128, 256, 512], None),\n",
    "    'EPOCHS': ([20, 40, 50, 75, 100], None),\n",
    "    'OPTIMIZER': ([torch.optim.Adam], None),\n",
    "    'LEARNING_RATE': ([1e-5, 5e-5, 1e-4, 5e-4, 1e-3, 5e-3], None),\n",
    "    'LOSS': ([torch.nn.CrossEntropyLoss(weight= class_weights)], None),\n",
    "    'EARLY_STOPPING': ([True, False], None),\n",
    "    'PATIENCE': (list(range(2,6)), None),\n",
    "    'MIN_DELTA': ([1e-6, 5e-6, 1e-5, 5e-5, 1e-4, 5e-4, 1e-3, 5e-3], None), \n",
    "\n",
    "    # NETWORK PARAMETER RANGES\n",
    "    'HIDDEN_DEPTH': (np.arange(2,3), None),\n",
    "    'HIDDEN_SIZES': ([16, 32, 64, 128, 256, 512], \n",
    "                       {'max_depth': 'HIDDEN_DEPTH', # sample a list of maximum HIDDEN_DEPTH length \n",
    "                        'consecutive': 1}), # list must be increasing \n",
    "    'KERNEL_SIZES': ([3,5,7,9], \n",
    "                        {'max_depth': 'HIDDEN_DEPTH', \n",
    "                        'monotonic': -1}),  \n",
    "    'MAXPOOL': ([2], None),\n",
    "    'FC_DEPTH':  (np.arange(1,3), None),\n",
    "    'FC_SIZES': ([64, 128, 256, 512], \n",
    "                    {'max_depth': 'FC_DEPTH',\n",
    "                    'consecutive': -1}),\n",
    "    'DROPOUT': (np.arange(8)/10, None)\n",
    "}"
   ]
  },
  {
   "cell_type": "code",
   "execution_count": 5,
   "metadata": {},
   "outputs": [],
   "source": [
    "N = 10\n",
    "params = ParamSamples(OrderedDict(params_dict))\n",
    "param_samples = params.SampleAll(N)"
   ]
  },
  {
   "cell_type": "code",
   "execution_count": 6,
   "metadata": {
    "scrolled": true
   },
   "outputs": [
    {
     "name": "stderr",
     "output_type": "stream",
     "text": [
      "\r",
      "  0%|          | 0/308 [00:00<?, ?it/s]"
     ]
    },
    {
     "name": "stdout",
     "output_type": "stream",
     "text": [
      "{'BATCH_SIZE': 48, 'EPOCHS': 75, 'OPTIMIZER': <class 'torch.optim.adam.Adam'>, 'LEARNING_RATE': 0.0001, 'LOSS': CrossEntropyLoss(), 'EARLY_STOPPING': False, 'PATIENCE': 4, 'MIN_DELTA': 1e-05, 'HIDDEN_DEPTH': 2, 'HIDDEN_SIZES': array([256, 512]), 'KERNEL_SIZES': array([7, 5]), 'MAXPOOL': 2, 'FC_DEPTH': 1, 'FC_SIZES': array([512]), 'DROPOUT': 0.4}\n"
     ]
    },
    {
     "name": "stderr",
     "output_type": "stream",
     "text": [
      "100%|██████████| 308/308 [00:40<00:00,  7.62it/s]\n",
      "100%|██████████| 44/44 [00:01<00:00, 36.16it/s]\n",
      "  0%|          | 1/308 [00:00<00:53,  5.79it/s]"
     ]
    },
    {
     "name": "stdout",
     "output_type": "stream",
     "text": [
      "Epoch: 0, train_loss: 0.5953473448753357, valid_loss: 0.5636451244354248\n"
     ]
    },
    {
     "name": "stderr",
     "output_type": "stream",
     "text": [
      "100%|██████████| 308/308 [00:40<00:00,  7.60it/s]\n",
      "100%|██████████| 44/44 [00:01<00:00, 34.96it/s]\n",
      "  0%|          | 1/308 [00:00<00:58,  5.26it/s]"
     ]
    },
    {
     "name": "stdout",
     "output_type": "stream",
     "text": [
      "Epoch: 1, train_loss: 0.5586885809898376, valid_loss: 0.5454126000404358\n"
     ]
    },
    {
     "name": "stderr",
     "output_type": "stream",
     "text": [
      "100%|██████████| 308/308 [00:41<00:00,  7.45it/s]\n",
      "100%|██████████| 44/44 [00:01<00:00, 35.06it/s]\n",
      "  0%|          | 1/308 [00:00<00:56,  5.39it/s]"
     ]
    },
    {
     "name": "stdout",
     "output_type": "stream",
     "text": [
      "Epoch: 2, train_loss: 0.545480489730835, valid_loss: 0.5592143535614014\n"
     ]
    },
    {
     "name": "stderr",
     "output_type": "stream",
     "text": [
      "100%|██████████| 308/308 [00:49<00:00,  6.21it/s]\n",
      "100%|██████████| 44/44 [00:01<00:00, 35.49it/s]\n",
      "  0%|          | 1/308 [00:00<00:54,  5.64it/s]"
     ]
    },
    {
     "name": "stdout",
     "output_type": "stream",
     "text": [
      "Epoch: 3, train_loss: 0.5353419184684753, valid_loss: 0.5323875546455383\n"
     ]
    },
    {
     "name": "stderr",
     "output_type": "stream",
     "text": [
      "100%|██████████| 308/308 [00:43<00:00,  7.01it/s]\n",
      "100%|██████████| 44/44 [00:01<00:00, 36.99it/s]\n",
      "  0%|          | 1/308 [00:00<00:37,  8.24it/s]"
     ]
    },
    {
     "name": "stdout",
     "output_type": "stream",
     "text": [
      "Epoch: 4, train_loss: 0.5224354267120361, valid_loss: 0.5482195615768433\n"
     ]
    },
    {
     "name": "stderr",
     "output_type": "stream",
     "text": [
      "100%|██████████| 308/308 [00:41<00:00,  7.48it/s]\n",
      "100%|██████████| 44/44 [00:01<00:00, 36.58it/s]\n",
      "  0%|          | 1/308 [00:00<00:37,  8.16it/s]"
     ]
    },
    {
     "name": "stdout",
     "output_type": "stream",
     "text": [
      "Epoch: 5, train_loss: 0.5135274529457092, valid_loss: 0.5475167036056519\n"
     ]
    },
    {
     "name": "stderr",
     "output_type": "stream",
     "text": [
      "100%|██████████| 308/308 [00:42<00:00,  7.27it/s]\n",
      "100%|██████████| 44/44 [00:01<00:00, 30.00it/s]\n",
      "  0%|          | 1/308 [00:00<00:48,  6.31it/s]"
     ]
    },
    {
     "name": "stdout",
     "output_type": "stream",
     "text": [
      "Epoch: 6, train_loss: 0.5012543201446533, valid_loss: 0.528819739818573\n"
     ]
    },
    {
     "name": "stderr",
     "output_type": "stream",
     "text": [
      "100%|██████████| 308/308 [00:42<00:00,  7.30it/s]\n",
      "100%|██████████| 44/44 [00:01<00:00, 31.85it/s]\n",
      "  0%|          | 1/308 [00:00<00:38,  7.99it/s]"
     ]
    },
    {
     "name": "stdout",
     "output_type": "stream",
     "text": [
      "Epoch: 7, train_loss: 0.4937552511692047, valid_loss: 0.5297598838806152\n"
     ]
    },
    {
     "name": "stderr",
     "output_type": "stream",
     "text": [
      "100%|██████████| 308/308 [00:42<00:00,  7.17it/s]\n",
      "100%|██████████| 44/44 [00:02<00:00, 21.07it/s]\n",
      "  0%|          | 1/308 [00:00<00:52,  5.81it/s]"
     ]
    },
    {
     "name": "stdout",
     "output_type": "stream",
     "text": [
      "Epoch: 8, train_loss: 0.4742145240306854, valid_loss: 0.5617436766624451\n"
     ]
    },
    {
     "name": "stderr",
     "output_type": "stream",
     "text": [
      "100%|██████████| 308/308 [00:41<00:00,  7.36it/s]\n",
      "100%|██████████| 44/44 [00:01<00:00, 36.80it/s]\n",
      "  0%|          | 1/308 [00:00<00:37,  8.10it/s]"
     ]
    },
    {
     "name": "stdout",
     "output_type": "stream",
     "text": [
      "Epoch: 9, train_loss: 0.45928820967674255, valid_loss: 0.5613499879837036\n"
     ]
    },
    {
     "name": "stderr",
     "output_type": "stream",
     "text": [
      "100%|██████████| 308/308 [00:41<00:00,  7.49it/s]\n",
      "100%|██████████| 44/44 [00:01<00:00, 31.98it/s]\n",
      "  0%|          | 1/308 [00:00<00:37,  8.18it/s]"
     ]
    },
    {
     "name": "stdout",
     "output_type": "stream",
     "text": [
      "Epoch: 10, train_loss: 0.44606325030326843, valid_loss: 0.5430164933204651\n"
     ]
    },
    {
     "name": "stderr",
     "output_type": "stream",
     "text": [
      "100%|██████████| 308/308 [00:41<00:00,  7.39it/s]\n",
      "100%|██████████| 44/44 [00:01<00:00, 35.29it/s]\n",
      "  0%|          | 1/308 [00:00<00:37,  8.18it/s]"
     ]
    },
    {
     "name": "stdout",
     "output_type": "stream",
     "text": [
      "Epoch: 11, train_loss: 0.4306008517742157, valid_loss: 0.5634151697158813\n"
     ]
    },
    {
     "name": "stderr",
     "output_type": "stream",
     "text": [
      "100%|██████████| 308/308 [00:41<00:00,  7.46it/s]\n",
      "100%|██████████| 44/44 [00:01<00:00, 34.90it/s]\n",
      "  0%|          | 1/308 [00:00<00:38,  7.88it/s]"
     ]
    },
    {
     "name": "stdout",
     "output_type": "stream",
     "text": [
      "Epoch: 12, train_loss: 0.42012548446655273, valid_loss: 0.561381995677948\n"
     ]
    },
    {
     "name": "stderr",
     "output_type": "stream",
     "text": [
      "100%|██████████| 308/308 [00:41<00:00,  7.45it/s]\n",
      "100%|██████████| 44/44 [00:01<00:00, 35.64it/s]\n",
      "  0%|          | 1/308 [00:00<00:38,  7.95it/s]"
     ]
    },
    {
     "name": "stdout",
     "output_type": "stream",
     "text": [
      "Epoch: 13, train_loss: 0.41045087575912476, valid_loss: 0.5706738233566284\n"
     ]
    },
    {
     "name": "stderr",
     "output_type": "stream",
     "text": [
      "100%|██████████| 308/308 [00:41<00:00,  7.40it/s]\n",
      "100%|██████████| 44/44 [00:01<00:00, 31.86it/s]\n",
      "  0%|          | 1/308 [00:00<00:37,  8.23it/s]"
     ]
    },
    {
     "name": "stdout",
     "output_type": "stream",
     "text": [
      "Epoch: 14, train_loss: 0.4010877311229706, valid_loss: 0.5773854851722717\n"
     ]
    },
    {
     "name": "stderr",
     "output_type": "stream",
     "text": [
      "100%|██████████| 308/308 [00:41<00:00,  7.44it/s]\n",
      "100%|██████████| 44/44 [00:01<00:00, 32.82it/s]\n",
      "  0%|          | 1/308 [00:00<00:38,  7.93it/s]"
     ]
    },
    {
     "name": "stdout",
     "output_type": "stream",
     "text": [
      "Epoch: 15, train_loss: 0.3915034830570221, valid_loss: 0.5700249671936035\n"
     ]
    },
    {
     "name": "stderr",
     "output_type": "stream",
     "text": [
      "100%|██████████| 308/308 [00:41<00:00,  7.41it/s]\n",
      "100%|██████████| 44/44 [00:01<00:00, 36.54it/s]\n",
      "  0%|          | 1/308 [00:00<00:37,  8.25it/s]"
     ]
    },
    {
     "name": "stdout",
     "output_type": "stream",
     "text": [
      "Epoch: 16, train_loss: 0.38732609152793884, valid_loss: 0.5858981013298035\n"
     ]
    },
    {
     "name": "stderr",
     "output_type": "stream",
     "text": [
      "100%|██████████| 308/308 [00:41<00:00,  7.43it/s]\n",
      "100%|██████████| 44/44 [00:01<00:00, 33.01it/s]\n",
      "  0%|          | 1/308 [00:00<00:36,  8.49it/s]"
     ]
    },
    {
     "name": "stdout",
     "output_type": "stream",
     "text": [
      "Epoch: 17, train_loss: 0.3834947943687439, valid_loss: 0.5895135402679443\n"
     ]
    },
    {
     "name": "stderr",
     "output_type": "stream",
     "text": [
      "100%|██████████| 308/308 [00:41<00:00,  7.45it/s]\n",
      "100%|██████████| 44/44 [00:01<00:00, 36.27it/s]\n",
      "  0%|          | 1/308 [00:00<00:38,  7.93it/s]"
     ]
    },
    {
     "name": "stdout",
     "output_type": "stream",
     "text": [
      "Epoch: 18, train_loss: 0.3771139085292816, valid_loss: 0.6061962842941284\n"
     ]
    },
    {
     "name": "stderr",
     "output_type": "stream",
     "text": [
      "100%|██████████| 308/308 [00:41<00:00,  7.48it/s]\n",
      "100%|██████████| 44/44 [00:01<00:00, 34.05it/s]\n",
      "  0%|          | 1/308 [00:00<00:39,  7.79it/s]"
     ]
    },
    {
     "name": "stdout",
     "output_type": "stream",
     "text": [
      "Epoch: 19, train_loss: 0.3765421211719513, valid_loss: 0.5743927955627441\n"
     ]
    },
    {
     "name": "stderr",
     "output_type": "stream",
     "text": [
      "100%|██████████| 308/308 [00:41<00:00,  7.49it/s]\n",
      "100%|██████████| 44/44 [00:01<00:00, 35.24it/s]\n",
      "  0%|          | 1/308 [00:00<00:38,  8.03it/s]"
     ]
    },
    {
     "name": "stdout",
     "output_type": "stream",
     "text": [
      "Epoch: 20, train_loss: 0.374345988035202, valid_loss: 0.6063973903656006\n"
     ]
    },
    {
     "name": "stderr",
     "output_type": "stream",
     "text": [
      "100%|██████████| 308/308 [00:41<00:00,  7.47it/s]\n",
      "100%|██████████| 44/44 [00:01<00:00, 34.18it/s]\n",
      "  0%|          | 1/308 [00:00<00:38,  7.94it/s]"
     ]
    },
    {
     "name": "stdout",
     "output_type": "stream",
     "text": [
      "Epoch: 21, train_loss: 0.3714742064476013, valid_loss: 0.5673472881317139\n"
     ]
    },
    {
     "name": "stderr",
     "output_type": "stream",
     "text": [
      "100%|██████████| 308/308 [00:41<00:00,  7.39it/s]\n",
      "100%|██████████| 44/44 [00:01<00:00, 35.42it/s]\n",
      "  0%|          | 1/308 [00:00<00:38,  7.99it/s]"
     ]
    },
    {
     "name": "stdout",
     "output_type": "stream",
     "text": [
      "Epoch: 22, train_loss: 0.3663923740386963, valid_loss: 0.5973421931266785\n"
     ]
    },
    {
     "name": "stderr",
     "output_type": "stream",
     "text": [
      "100%|██████████| 308/308 [00:41<00:00,  7.43it/s]\n",
      "100%|██████████| 44/44 [00:01<00:00, 37.01it/s]\n",
      "  0%|          | 1/308 [00:00<00:36,  8.36it/s]"
     ]
    },
    {
     "name": "stdout",
     "output_type": "stream",
     "text": [
      "Epoch: 23, train_loss: 0.36852577328681946, valid_loss: 0.580672025680542\n"
     ]
    },
    {
     "name": "stderr",
     "output_type": "stream",
     "text": [
      "100%|██████████| 308/308 [00:41<00:00,  7.41it/s]\n",
      "100%|██████████| 44/44 [00:01<00:00, 35.72it/s]\n",
      "  0%|          | 1/308 [00:00<00:37,  8.23it/s]"
     ]
    },
    {
     "name": "stdout",
     "output_type": "stream",
     "text": [
      "Epoch: 24, train_loss: 0.36501526832580566, valid_loss: 0.6021761298179626\n"
     ]
    },
    {
     "name": "stderr",
     "output_type": "stream",
     "text": [
      "100%|██████████| 308/308 [00:41<00:00,  7.42it/s]\n",
      "100%|██████████| 44/44 [00:01<00:00, 35.03it/s]\n",
      "  0%|          | 1/308 [00:00<00:37,  8.17it/s]"
     ]
    },
    {
     "name": "stdout",
     "output_type": "stream",
     "text": [
      "Epoch: 25, train_loss: 0.36467525362968445, valid_loss: 0.6011579632759094\n"
     ]
    },
    {
     "name": "stderr",
     "output_type": "stream",
     "text": [
      "100%|██████████| 308/308 [00:41<00:00,  7.44it/s]\n",
      "100%|██████████| 44/44 [00:01<00:00, 25.35it/s]\n",
      "  0%|          | 1/308 [00:00<00:46,  6.64it/s]"
     ]
    },
    {
     "name": "stdout",
     "output_type": "stream",
     "text": [
      "Epoch: 26, train_loss: 0.36799028515815735, valid_loss: 0.5977321267127991\n"
     ]
    },
    {
     "name": "stderr",
     "output_type": "stream",
     "text": [
      "100%|██████████| 308/308 [00:44<00:00,  6.89it/s]\n",
      "100%|██████████| 44/44 [00:01<00:00, 36.45it/s]\n",
      "  0%|          | 1/308 [00:00<00:34,  8.81it/s]"
     ]
    },
    {
     "name": "stdout",
     "output_type": "stream",
     "text": [
      "Epoch: 27, train_loss: 0.3665149211883545, valid_loss: 0.6080703735351562\n"
     ]
    },
    {
     "name": "stderr",
     "output_type": "stream",
     "text": [
      "100%|██████████| 308/308 [00:42<00:00,  7.30it/s]\n",
      "100%|██████████| 44/44 [00:01<00:00, 35.43it/s]\n",
      "  0%|          | 1/308 [00:00<00:38,  8.00it/s]"
     ]
    },
    {
     "name": "stdout",
     "output_type": "stream",
     "text": [
      "Epoch: 28, train_loss: 0.36240896582603455, valid_loss: 0.588430643081665\n"
     ]
    },
    {
     "name": "stderr",
     "output_type": "stream",
     "text": [
      "100%|██████████| 308/308 [00:42<00:00,  7.28it/s]\n",
      "100%|██████████| 44/44 [00:01<00:00, 34.62it/s]\n",
      "  0%|          | 1/308 [00:00<00:35,  8.68it/s]"
     ]
    },
    {
     "name": "stdout",
     "output_type": "stream",
     "text": [
      "Epoch: 29, train_loss: 0.36025241017341614, valid_loss: 0.6152779459953308\n"
     ]
    },
    {
     "name": "stderr",
     "output_type": "stream",
     "text": [
      "100%|██████████| 308/308 [00:41<00:00,  7.40it/s]\n",
      "100%|██████████| 44/44 [00:01<00:00, 36.44it/s]\n",
      "  0%|          | 1/308 [00:00<00:39,  7.84it/s]"
     ]
    },
    {
     "name": "stdout",
     "output_type": "stream",
     "text": [
      "Epoch: 30, train_loss: 0.3590547740459442, valid_loss: 0.5814829468727112\n"
     ]
    },
    {
     "name": "stderr",
     "output_type": "stream",
     "text": [
      "100%|██████████| 308/308 [00:41<00:00,  7.46it/s]\n",
      "100%|██████████| 44/44 [00:01<00:00, 35.89it/s]\n",
      "  0%|          | 1/308 [00:00<00:38,  8.05it/s]"
     ]
    },
    {
     "name": "stdout",
     "output_type": "stream",
     "text": [
      "Epoch: 31, train_loss: 0.3578099310398102, valid_loss: 0.5926910638809204\n"
     ]
    },
    {
     "name": "stderr",
     "output_type": "stream",
     "text": [
      "100%|██████████| 308/308 [00:41<00:00,  7.44it/s]\n",
      "100%|██████████| 44/44 [00:01<00:00, 36.41it/s]\n",
      "  0%|          | 1/308 [00:00<00:38,  8.06it/s]"
     ]
    },
    {
     "name": "stdout",
     "output_type": "stream",
     "text": [
      "Epoch: 32, train_loss: 0.3573364019393921, valid_loss: 0.5916576385498047\n"
     ]
    },
    {
     "name": "stderr",
     "output_type": "stream",
     "text": [
      "100%|██████████| 308/308 [00:41<00:00,  7.47it/s]\n",
      "100%|██████████| 44/44 [00:01<00:00, 34.88it/s]\n",
      "  0%|          | 1/308 [00:00<00:37,  8.19it/s]"
     ]
    },
    {
     "name": "stdout",
     "output_type": "stream",
     "text": [
      "Epoch: 33, train_loss: 0.35577526688575745, valid_loss: 0.597404420375824\n"
     ]
    },
    {
     "name": "stderr",
     "output_type": "stream",
     "text": [
      "100%|██████████| 308/308 [00:41<00:00,  7.47it/s]\n",
      "100%|██████████| 44/44 [00:01<00:00, 36.11it/s]\n",
      "  0%|          | 1/308 [00:00<00:38,  8.07it/s]"
     ]
    },
    {
     "name": "stdout",
     "output_type": "stream",
     "text": [
      "Epoch: 34, train_loss: 0.35689976811408997, valid_loss: 0.5941746234893799\n"
     ]
    },
    {
     "name": "stderr",
     "output_type": "stream",
     "text": [
      "100%|██████████| 308/308 [00:41<00:00,  7.46it/s]\n",
      "100%|██████████| 44/44 [00:01<00:00, 36.70it/s]\n",
      "  0%|          | 1/308 [00:00<00:37,  8.08it/s]"
     ]
    },
    {
     "name": "stdout",
     "output_type": "stream",
     "text": [
      "Epoch: 35, train_loss: 0.35691699385643005, valid_loss: 0.5993049740791321\n"
     ]
    },
    {
     "name": "stderr",
     "output_type": "stream",
     "text": [
      "100%|██████████| 308/308 [00:41<00:00,  7.45it/s]\n",
      "100%|██████████| 44/44 [00:01<00:00, 32.42it/s]\n",
      "  0%|          | 1/308 [00:00<00:34,  8.80it/s]"
     ]
    },
    {
     "name": "stdout",
     "output_type": "stream",
     "text": [
      "Epoch: 36, train_loss: 0.35374972224235535, valid_loss: 0.5971825122833252\n"
     ]
    },
    {
     "name": "stderr",
     "output_type": "stream",
     "text": [
      "100%|██████████| 308/308 [00:41<00:00,  7.45it/s]\n",
      "100%|██████████| 44/44 [00:01<00:00, 36.40it/s]\n",
      "  0%|          | 1/308 [00:00<00:40,  7.59it/s]"
     ]
    },
    {
     "name": "stdout",
     "output_type": "stream",
     "text": [
      "Epoch: 37, train_loss: 0.3547278940677643, valid_loss: 0.5989660024642944\n"
     ]
    },
    {
     "name": "stderr",
     "output_type": "stream",
     "text": [
      "100%|██████████| 308/308 [00:41<00:00,  7.51it/s]\n",
      "100%|██████████| 44/44 [00:01<00:00, 36.45it/s]\n",
      "  0%|          | 1/308 [00:00<00:37,  8.09it/s]"
     ]
    },
    {
     "name": "stdout",
     "output_type": "stream",
     "text": [
      "Epoch: 38, train_loss: 0.3564710021018982, valid_loss: 0.6421445608139038\n"
     ]
    },
    {
     "name": "stderr",
     "output_type": "stream",
     "text": [
      "100%|██████████| 308/308 [00:41<00:00,  7.44it/s]\n",
      "100%|██████████| 44/44 [00:01<00:00, 34.16it/s]\n",
      "  0%|          | 1/308 [00:00<00:36,  8.51it/s]"
     ]
    },
    {
     "name": "stdout",
     "output_type": "stream",
     "text": [
      "Epoch: 39, train_loss: 0.35357651114463806, valid_loss: 0.5695011615753174\n"
     ]
    },
    {
     "name": "stderr",
     "output_type": "stream",
     "text": [
      "100%|██████████| 308/308 [00:41<00:00,  7.48it/s]\n",
      "100%|██████████| 44/44 [00:01<00:00, 34.20it/s]\n",
      "  0%|          | 1/308 [00:00<00:37,  8.13it/s]"
     ]
    },
    {
     "name": "stdout",
     "output_type": "stream",
     "text": [
      "Epoch: 40, train_loss: 0.353635311126709, valid_loss: 0.6183516979217529\n"
     ]
    },
    {
     "name": "stderr",
     "output_type": "stream",
     "text": [
      "100%|██████████| 308/308 [00:41<00:00,  7.45it/s]\n",
      "100%|██████████| 44/44 [00:01<00:00, 35.37it/s]\n",
      "  0%|          | 1/308 [00:00<00:39,  7.85it/s]"
     ]
    },
    {
     "name": "stdout",
     "output_type": "stream",
     "text": [
      "Epoch: 41, train_loss: 0.3542442321777344, valid_loss: 0.6219757199287415\n"
     ]
    },
    {
     "name": "stderr",
     "output_type": "stream",
     "text": [
      "100%|██████████| 308/308 [00:41<00:00,  7.41it/s]\n",
      "100%|██████████| 44/44 [00:01<00:00, 34.67it/s]\n",
      "  0%|          | 1/308 [00:00<00:37,  8.28it/s]"
     ]
    },
    {
     "name": "stdout",
     "output_type": "stream",
     "text": [
      "Epoch: 42, train_loss: 0.3538851737976074, valid_loss: 0.6083139777183533\n"
     ]
    },
    {
     "name": "stderr",
     "output_type": "stream",
     "text": [
      "100%|██████████| 308/308 [00:41<00:00,  7.48it/s]\n",
      "100%|██████████| 44/44 [00:01<00:00, 35.38it/s]\n",
      "  0%|          | 1/308 [00:00<00:38,  8.08it/s]"
     ]
    },
    {
     "name": "stdout",
     "output_type": "stream",
     "text": [
      "Epoch: 43, train_loss: 0.35101333260536194, valid_loss: 0.6095313429832458\n"
     ]
    },
    {
     "name": "stderr",
     "output_type": "stream",
     "text": [
      "100%|██████████| 308/308 [00:41<00:00,  7.43it/s]\n",
      "100%|██████████| 44/44 [00:01<00:00, 34.87it/s]\n",
      "  0%|          | 1/308 [00:00<00:37,  8.10it/s]"
     ]
    },
    {
     "name": "stdout",
     "output_type": "stream",
     "text": [
      "Epoch: 44, train_loss: 0.3520291745662689, valid_loss: 0.5948936939239502\n"
     ]
    },
    {
     "name": "stderr",
     "output_type": "stream",
     "text": [
      "100%|██████████| 308/308 [00:41<00:00,  7.49it/s]\n",
      "100%|██████████| 44/44 [00:01<00:00, 35.79it/s]\n",
      "  0%|          | 1/308 [00:00<00:38,  7.89it/s]"
     ]
    },
    {
     "name": "stdout",
     "output_type": "stream",
     "text": [
      "Epoch: 45, train_loss: 0.3536975085735321, valid_loss: 0.6140925884246826\n"
     ]
    },
    {
     "name": "stderr",
     "output_type": "stream",
     "text": [
      "100%|██████████| 308/308 [00:41<00:00,  7.50it/s]\n",
      "100%|██████████| 44/44 [00:01<00:00, 34.43it/s]\n",
      "  0%|          | 1/308 [00:00<00:34,  8.98it/s]"
     ]
    },
    {
     "name": "stdout",
     "output_type": "stream",
     "text": [
      "Epoch: 46, train_loss: 0.35370779037475586, valid_loss: 0.6356024146080017\n"
     ]
    },
    {
     "name": "stderr",
     "output_type": "stream",
     "text": [
      "100%|██████████| 308/308 [00:41<00:00,  7.47it/s]\n",
      "100%|██████████| 44/44 [00:01<00:00, 35.61it/s]\n",
      "  0%|          | 1/308 [00:00<00:38,  7.97it/s]"
     ]
    },
    {
     "name": "stdout",
     "output_type": "stream",
     "text": [
      "Epoch: 47, train_loss: 0.3500452935695648, valid_loss: 0.6168444156646729\n"
     ]
    },
    {
     "name": "stderr",
     "output_type": "stream",
     "text": [
      "100%|██████████| 308/308 [00:41<00:00,  7.40it/s]\n",
      "100%|██████████| 44/44 [00:01<00:00, 28.76it/s]\n",
      "  0%|          | 1/308 [00:00<00:38,  7.97it/s]"
     ]
    },
    {
     "name": "stdout",
     "output_type": "stream",
     "text": [
      "Epoch: 48, train_loss: 0.35084599256515503, valid_loss: 0.5610761642456055\n"
     ]
    },
    {
     "name": "stderr",
     "output_type": "stream",
     "text": [
      "100%|██████████| 308/308 [00:41<00:00,  7.51it/s]\n",
      "100%|██████████| 44/44 [00:01<00:00, 36.15it/s]\n",
      "  0%|          | 1/308 [00:00<00:54,  5.61it/s]"
     ]
    },
    {
     "name": "stdout",
     "output_type": "stream",
     "text": [
      "Epoch: 49, train_loss: 0.3532630503177643, valid_loss: 0.6334978342056274\n"
     ]
    },
    {
     "name": "stderr",
     "output_type": "stream",
     "text": [
      "100%|██████████| 308/308 [00:41<00:00,  7.48it/s]\n",
      "100%|██████████| 44/44 [00:01<00:00, 36.67it/s]\n",
      "  0%|          | 1/308 [00:00<00:38,  8.06it/s]"
     ]
    },
    {
     "name": "stdout",
     "output_type": "stream",
     "text": [
      "Epoch: 50, train_loss: 0.35158929228782654, valid_loss: 0.6386920809745789\n"
     ]
    },
    {
     "name": "stderr",
     "output_type": "stream",
     "text": [
      "100%|██████████| 308/308 [00:41<00:00,  7.46it/s]\n",
      "100%|██████████| 44/44 [00:01<00:00, 31.49it/s]\n",
      "  0%|          | 1/308 [00:00<00:37,  8.21it/s]"
     ]
    },
    {
     "name": "stdout",
     "output_type": "stream",
     "text": [
      "Epoch: 51, train_loss: 0.3502044677734375, valid_loss: 0.5988273620605469\n"
     ]
    },
    {
     "name": "stderr",
     "output_type": "stream",
     "text": [
      "100%|██████████| 308/308 [00:41<00:00,  7.45it/s]\n",
      "100%|██████████| 44/44 [00:01<00:00, 35.81it/s]\n",
      "  0%|          | 1/308 [00:00<00:37,  8.18it/s]"
     ]
    },
    {
     "name": "stdout",
     "output_type": "stream",
     "text": [
      "Epoch: 52, train_loss: 0.3522634506225586, valid_loss: 0.6217789649963379\n"
     ]
    },
    {
     "name": "stderr",
     "output_type": "stream",
     "text": [
      "100%|██████████| 308/308 [00:41<00:00,  7.46it/s]\n",
      "100%|██████████| 44/44 [00:01<00:00, 34.83it/s]\n",
      "  0%|          | 1/308 [00:00<00:37,  8.20it/s]"
     ]
    },
    {
     "name": "stdout",
     "output_type": "stream",
     "text": [
      "Epoch: 53, train_loss: 0.3506470322608948, valid_loss: 0.5885690450668335\n"
     ]
    },
    {
     "name": "stderr",
     "output_type": "stream",
     "text": [
      "100%|██████████| 308/308 [00:41<00:00,  7.49it/s]\n",
      "100%|██████████| 44/44 [00:01<00:00, 36.76it/s]\n",
      "  0%|          | 1/308 [00:00<00:38,  7.94it/s]"
     ]
    },
    {
     "name": "stdout",
     "output_type": "stream",
     "text": [
      "Epoch: 54, train_loss: 0.35236474871635437, valid_loss: 0.6107621192932129\n"
     ]
    },
    {
     "name": "stderr",
     "output_type": "stream",
     "text": [
      "100%|██████████| 308/308 [00:41<00:00,  7.48it/s]\n",
      "100%|██████████| 44/44 [00:01<00:00, 35.73it/s]\n",
      "  0%|          | 1/308 [00:00<00:38,  7.91it/s]"
     ]
    },
    {
     "name": "stdout",
     "output_type": "stream",
     "text": [
      "Epoch: 55, train_loss: 0.3479604721069336, valid_loss: 0.604800283908844\n"
     ]
    },
    {
     "name": "stderr",
     "output_type": "stream",
     "text": [
      "100%|██████████| 308/308 [00:41<00:00,  7.44it/s]\n",
      "100%|██████████| 44/44 [00:01<00:00, 35.56it/s]\n",
      "  0%|          | 1/308 [00:00<00:33,  9.08it/s]"
     ]
    },
    {
     "name": "stdout",
     "output_type": "stream",
     "text": [
      "Epoch: 56, train_loss: 0.35244184732437134, valid_loss: 0.6092666983604431\n"
     ]
    },
    {
     "name": "stderr",
     "output_type": "stream",
     "text": [
      "100%|██████████| 308/308 [00:41<00:00,  7.50it/s]\n",
      "100%|██████████| 44/44 [00:01<00:00, 34.77it/s]\n",
      "  0%|          | 1/308 [00:00<00:37,  8.25it/s]"
     ]
    },
    {
     "name": "stdout",
     "output_type": "stream",
     "text": [
      "Epoch: 57, train_loss: 0.3478546142578125, valid_loss: 0.6035533547401428\n"
     ]
    },
    {
     "name": "stderr",
     "output_type": "stream",
     "text": [
      "100%|██████████| 308/308 [00:41<00:00,  7.47it/s]\n",
      "100%|██████████| 44/44 [00:01<00:00, 36.39it/s]\n",
      "  0%|          | 1/308 [00:00<00:36,  8.30it/s]"
     ]
    },
    {
     "name": "stdout",
     "output_type": "stream",
     "text": [
      "Epoch: 58, train_loss: 0.3505280911922455, valid_loss: 0.5946475267410278\n"
     ]
    },
    {
     "name": "stderr",
     "output_type": "stream",
     "text": [
      "100%|██████████| 308/308 [00:41<00:00,  7.50it/s]\n",
      "100%|██████████| 44/44 [00:01<00:00, 33.98it/s]\n",
      "  0%|          | 1/308 [00:00<00:38,  8.03it/s]"
     ]
    },
    {
     "name": "stdout",
     "output_type": "stream",
     "text": [
      "Epoch: 59, train_loss: 0.34786391258239746, valid_loss: 0.5915019512176514\n"
     ]
    },
    {
     "name": "stderr",
     "output_type": "stream",
     "text": [
      "100%|██████████| 308/308 [00:40<00:00,  7.51it/s]\n",
      "100%|██████████| 44/44 [00:01<00:00, 33.88it/s]\n",
      "  0%|          | 1/308 [00:00<00:39,  7.81it/s]"
     ]
    },
    {
     "name": "stdout",
     "output_type": "stream",
     "text": [
      "Epoch: 60, train_loss: 0.35108277201652527, valid_loss: 0.5761012434959412\n"
     ]
    },
    {
     "name": "stderr",
     "output_type": "stream",
     "text": [
      "100%|██████████| 308/308 [00:41<00:00,  7.49it/s]\n",
      "100%|██████████| 44/44 [00:01<00:00, 34.98it/s]\n",
      "  0%|          | 1/308 [00:00<00:38,  8.06it/s]"
     ]
    },
    {
     "name": "stdout",
     "output_type": "stream",
     "text": [
      "Epoch: 61, train_loss: 0.3504837453365326, valid_loss: 0.6063673496246338\n"
     ]
    },
    {
     "name": "stderr",
     "output_type": "stream",
     "text": [
      "100%|██████████| 308/308 [00:43<00:00,  7.00it/s]\n",
      "100%|██████████| 44/44 [00:01<00:00, 37.15it/s]\n",
      "  0%|          | 1/308 [00:00<00:41,  7.36it/s]"
     ]
    },
    {
     "name": "stdout",
     "output_type": "stream",
     "text": [
      "Epoch: 62, train_loss: 0.347726970911026, valid_loss: 0.614817202091217\n"
     ]
    },
    {
     "name": "stderr",
     "output_type": "stream",
     "text": [
      "100%|██████████| 308/308 [00:41<00:00,  7.40it/s]\n",
      "100%|██████████| 44/44 [00:01<00:00, 35.00it/s]\n",
      "  0%|          | 1/308 [00:00<00:40,  7.64it/s]"
     ]
    },
    {
     "name": "stdout",
     "output_type": "stream",
     "text": [
      "Epoch: 63, train_loss: 0.34651613235473633, valid_loss: 0.5921325087547302\n"
     ]
    },
    {
     "name": "stderr",
     "output_type": "stream",
     "text": [
      "100%|██████████| 308/308 [00:41<00:00,  7.41it/s]\n",
      "100%|██████████| 44/44 [00:01<00:00, 34.52it/s]\n",
      "  0%|          | 1/308 [00:00<00:36,  8.32it/s]"
     ]
    },
    {
     "name": "stdout",
     "output_type": "stream",
     "text": [
      "Epoch: 64, train_loss: 0.3527180254459381, valid_loss: 0.5762866735458374\n"
     ]
    },
    {
     "name": "stderr",
     "output_type": "stream",
     "text": [
      "100%|██████████| 308/308 [00:41<00:00,  7.45it/s]\n",
      "100%|██████████| 44/44 [00:01<00:00, 34.54it/s]\n",
      "  0%|          | 1/308 [00:00<00:33,  9.06it/s]"
     ]
    },
    {
     "name": "stdout",
     "output_type": "stream",
     "text": [
      "Epoch: 65, train_loss: 0.34955742955207825, valid_loss: 0.6160140633583069\n"
     ]
    },
    {
     "name": "stderr",
     "output_type": "stream",
     "text": [
      "100%|██████████| 308/308 [00:41<00:00,  7.47it/s]\n",
      "100%|██████████| 44/44 [00:01<00:00, 33.75it/s]\n",
      "  0%|          | 1/308 [00:00<00:36,  8.30it/s]"
     ]
    },
    {
     "name": "stdout",
     "output_type": "stream",
     "text": [
      "Epoch: 66, train_loss: 0.3483489453792572, valid_loss: 0.6286879181861877\n"
     ]
    },
    {
     "name": "stderr",
     "output_type": "stream",
     "text": [
      "100%|██████████| 308/308 [00:41<00:00,  7.38it/s]\n",
      "100%|██████████| 44/44 [00:01<00:00, 35.50it/s]\n",
      "  0%|          | 1/308 [00:00<00:37,  8.10it/s]"
     ]
    },
    {
     "name": "stdout",
     "output_type": "stream",
     "text": [
      "Epoch: 67, train_loss: 0.34775200486183167, valid_loss: 0.6190898418426514\n"
     ]
    },
    {
     "name": "stderr",
     "output_type": "stream",
     "text": [
      "100%|██████████| 308/308 [00:42<00:00,  7.31it/s]\n",
      "100%|██████████| 44/44 [00:01<00:00, 23.96it/s]\n",
      "  0%|          | 1/308 [00:00<00:46,  6.63it/s]"
     ]
    },
    {
     "name": "stdout",
     "output_type": "stream",
     "text": [
      "Epoch: 68, train_loss: 0.3501289188861847, valid_loss: 0.59104323387146\n"
     ]
    },
    {
     "name": "stderr",
     "output_type": "stream",
     "text": [
      "100%|██████████| 308/308 [00:42<00:00,  7.18it/s]\n",
      "100%|██████████| 44/44 [00:01<00:00, 34.67it/s]\n",
      "  0%|          | 1/308 [00:00<00:39,  7.74it/s]"
     ]
    },
    {
     "name": "stdout",
     "output_type": "stream",
     "text": [
      "Epoch: 69, train_loss: 0.3474978506565094, valid_loss: 0.5984697341918945\n"
     ]
    },
    {
     "name": "stderr",
     "output_type": "stream",
     "text": [
      "100%|██████████| 308/308 [00:43<00:00,  7.14it/s]\n",
      "100%|██████████| 44/44 [00:01<00:00, 36.49it/s]\n",
      "  0%|          | 1/308 [00:00<00:38,  8.00it/s]"
     ]
    },
    {
     "name": "stdout",
     "output_type": "stream",
     "text": [
      "Epoch: 70, train_loss: 0.34591078758239746, valid_loss: 0.6205065250396729\n"
     ]
    },
    {
     "name": "stderr",
     "output_type": "stream",
     "text": [
      "100%|██████████| 308/308 [00:41<00:00,  7.41it/s]\n",
      "100%|██████████| 44/44 [00:01<00:00, 35.48it/s]\n",
      "  0%|          | 1/308 [00:00<00:36,  8.43it/s]"
     ]
    },
    {
     "name": "stdout",
     "output_type": "stream",
     "text": [
      "Epoch: 71, train_loss: 0.3488427698612213, valid_loss: 0.6141210794448853\n"
     ]
    },
    {
     "name": "stderr",
     "output_type": "stream",
     "text": [
      "100%|██████████| 308/308 [00:41<00:00,  7.37it/s]\n",
      "100%|██████████| 44/44 [00:01<00:00, 34.88it/s]\n",
      "  0%|          | 1/308 [00:00<00:38,  7.98it/s]"
     ]
    },
    {
     "name": "stdout",
     "output_type": "stream",
     "text": [
      "Epoch: 72, train_loss: 0.34801235795021057, valid_loss: 0.6191005706787109\n"
     ]
    },
    {
     "name": "stderr",
     "output_type": "stream",
     "text": [
      "100%|██████████| 308/308 [00:42<00:00,  7.33it/s]\n",
      "100%|██████████| 44/44 [00:01<00:00, 37.16it/s]\n",
      "  0%|          | 1/308 [00:00<00:40,  7.63it/s]"
     ]
    },
    {
     "name": "stdout",
     "output_type": "stream",
     "text": [
      "Epoch: 73, train_loss: 0.35056981444358826, valid_loss: 0.6008223295211792\n"
     ]
    },
    {
     "name": "stderr",
     "output_type": "stream",
     "text": [
      "100%|██████████| 308/308 [00:42<00:00,  7.33it/s]\n",
      "100%|██████████| 44/44 [00:01<00:00, 35.73it/s]\n"
     ]
    },
    {
     "name": "stdout",
     "output_type": "stream",
     "text": [
      "Epoch: 74, train_loss: 0.34630563855171204, valid_loss: 0.6086204051971436\n"
     ]
    },
    {
     "name": "stderr",
     "output_type": "stream",
     "text": [
      "  7%|▋         | 2/28 [00:00<00:01, 13.63it/s]"
     ]
    },
    {
     "name": "stdout",
     "output_type": "stream",
     "text": [
      "{'BATCH_SIZE': 512, 'EPOCHS': 75, 'OPTIMIZER': <class 'torch.optim.adam.Adam'>, 'LEARNING_RATE': 0.0005, 'LOSS': CrossEntropyLoss(), 'EARLY_STOPPING': False, 'PATIENCE': 3, 'MIN_DELTA': 5e-05, 'HIDDEN_DEPTH': 2, 'HIDDEN_SIZES': array([16, 32]), 'KERNEL_SIZES': array([9, 7]), 'MAXPOOL': 2, 'FC_DEPTH': 2, 'FC_SIZES': array([256, 128]), 'DROPOUT': 0.3}\n"
     ]
    },
    {
     "name": "stderr",
     "output_type": "stream",
     "text": [
      "100%|██████████| 28/28 [00:01<00:00, 14.60it/s]\n",
      "100%|██████████| 4/4 [00:00<00:00, 24.82it/s]\n",
      "  7%|▋         | 2/28 [00:00<00:01, 16.75it/s]"
     ]
    },
    {
     "name": "stdout",
     "output_type": "stream",
     "text": [
      "Epoch: 0, train_loss: 0.6585257649421692, valid_loss: 0.5703026056289673\n"
     ]
    },
    {
     "name": "stderr",
     "output_type": "stream",
     "text": [
      "100%|██████████| 28/28 [00:01<00:00, 14.36it/s]\n",
      "100%|██████████| 4/4 [00:00<00:00, 26.81it/s]\n",
      "  7%|▋         | 2/28 [00:00<00:01, 16.29it/s]"
     ]
    },
    {
     "name": "stdout",
     "output_type": "stream",
     "text": [
      "Epoch: 1, train_loss: 0.5839895606040955, valid_loss: 0.5472444295883179\n"
     ]
    },
    {
     "name": "stderr",
     "output_type": "stream",
     "text": [
      "100%|██████████| 28/28 [00:01<00:00, 14.82it/s]\n",
      "100%|██████████| 4/4 [00:00<00:00, 23.58it/s]\n",
      "  7%|▋         | 2/28 [00:00<00:01, 15.89it/s]"
     ]
    },
    {
     "name": "stdout",
     "output_type": "stream",
     "text": [
      "Epoch: 2, train_loss: 0.5705512762069702, valid_loss: 0.5623056888580322\n"
     ]
    },
    {
     "name": "stderr",
     "output_type": "stream",
     "text": [
      "100%|██████████| 28/28 [00:01<00:00, 14.96it/s]\n",
      "100%|██████████| 4/4 [00:00<00:00, 23.28it/s]\n",
      "  7%|▋         | 2/28 [00:00<00:01, 16.17it/s]"
     ]
    },
    {
     "name": "stdout",
     "output_type": "stream",
     "text": [
      "Epoch: 3, train_loss: 0.5644022822380066, valid_loss: 0.5430466532707214\n"
     ]
    },
    {
     "name": "stderr",
     "output_type": "stream",
     "text": [
      "100%|██████████| 28/28 [00:01<00:00, 14.72it/s]\n",
      "100%|██████████| 4/4 [00:00<00:00, 25.36it/s]\n",
      "  7%|▋         | 2/28 [00:00<00:01, 17.13it/s]"
     ]
    },
    {
     "name": "stdout",
     "output_type": "stream",
     "text": [
      "Epoch: 4, train_loss: 0.551117479801178, valid_loss: 0.5399161577224731\n"
     ]
    },
    {
     "name": "stderr",
     "output_type": "stream",
     "text": [
      "100%|██████████| 28/28 [00:01<00:00, 14.88it/s]\n",
      "100%|██████████| 4/4 [00:00<00:00, 25.76it/s]\n",
      "  7%|▋         | 2/28 [00:00<00:01, 16.93it/s]"
     ]
    },
    {
     "name": "stdout",
     "output_type": "stream",
     "text": [
      "Epoch: 5, train_loss: 0.5464248061180115, valid_loss: 0.5370911955833435\n"
     ]
    },
    {
     "name": "stderr",
     "output_type": "stream",
     "text": [
      "100%|██████████| 28/28 [00:01<00:00, 14.89it/s]\n",
      "100%|██████████| 4/4 [00:00<00:00, 25.39it/s]\n",
      "  7%|▋         | 2/28 [00:00<00:01, 16.67it/s]"
     ]
    },
    {
     "name": "stdout",
     "output_type": "stream",
     "text": [
      "Epoch: 6, train_loss: 0.5440862774848938, valid_loss: 0.5402384400367737\n"
     ]
    },
    {
     "name": "stderr",
     "output_type": "stream",
     "text": [
      "100%|██████████| 28/28 [00:01<00:00, 15.16it/s]\n",
      "100%|██████████| 4/4 [00:00<00:00, 23.75it/s]\n",
      "  7%|▋         | 2/28 [00:00<00:01, 16.10it/s]"
     ]
    },
    {
     "name": "stdout",
     "output_type": "stream",
     "text": [
      "Epoch: 7, train_loss: 0.5426527261734009, valid_loss: 0.5319637060165405\n"
     ]
    },
    {
     "name": "stderr",
     "output_type": "stream",
     "text": [
      "100%|██████████| 28/28 [00:01<00:00, 14.41it/s]\n",
      "100%|██████████| 4/4 [00:00<00:00, 24.44it/s]\n",
      "  7%|▋         | 2/28 [00:00<00:01, 15.33it/s]"
     ]
    },
    {
     "name": "stdout",
     "output_type": "stream",
     "text": [
      "Epoch: 8, train_loss: 0.5341693162918091, valid_loss: 0.5318922400474548\n"
     ]
    },
    {
     "name": "stderr",
     "output_type": "stream",
     "text": [
      "100%|██████████| 28/28 [00:01<00:00, 14.61it/s]\n",
      "100%|██████████| 4/4 [00:00<00:00, 23.04it/s]\n",
      "  7%|▋         | 2/28 [00:00<00:01, 16.39it/s]"
     ]
    },
    {
     "name": "stdout",
     "output_type": "stream",
     "text": [
      "Epoch: 9, train_loss: 0.5326987504959106, valid_loss: 0.5356829166412354\n"
     ]
    },
    {
     "name": "stderr",
     "output_type": "stream",
     "text": [
      "100%|██████████| 28/28 [00:01<00:00, 14.74it/s]\n",
      "100%|██████████| 4/4 [00:00<00:00, 24.37it/s]\n",
      "  7%|▋         | 2/28 [00:00<00:01, 16.43it/s]"
     ]
    },
    {
     "name": "stdout",
     "output_type": "stream",
     "text": [
      "Epoch: 10, train_loss: 0.5265312790870667, valid_loss: 0.5385887026786804\n"
     ]
    },
    {
     "name": "stderr",
     "output_type": "stream",
     "text": [
      "100%|██████████| 28/28 [00:01<00:00, 14.84it/s]\n",
      "100%|██████████| 4/4 [00:00<00:00, 23.17it/s]\n",
      "  7%|▋         | 2/28 [00:00<00:01, 16.97it/s]"
     ]
    },
    {
     "name": "stdout",
     "output_type": "stream",
     "text": [
      "Epoch: 11, train_loss: 0.5215833783149719, valid_loss: 0.5368742942810059\n"
     ]
    },
    {
     "name": "stderr",
     "output_type": "stream",
     "text": [
      "100%|██████████| 28/28 [00:01<00:00, 14.86it/s]\n",
      "100%|██████████| 4/4 [00:00<00:00, 24.37it/s]\n",
      "  7%|▋         | 2/28 [00:00<00:01, 16.77it/s]"
     ]
    },
    {
     "name": "stdout",
     "output_type": "stream",
     "text": [
      "Epoch: 12, train_loss: 0.5244572758674622, valid_loss: 0.5470773577690125\n"
     ]
    },
    {
     "name": "stderr",
     "output_type": "stream",
     "text": [
      "100%|██████████| 28/28 [00:01<00:00, 14.88it/s]\n",
      "100%|██████████| 4/4 [00:00<00:00, 25.12it/s]\n",
      "  7%|▋         | 2/28 [00:00<00:01, 15.58it/s]"
     ]
    },
    {
     "name": "stdout",
     "output_type": "stream",
     "text": [
      "Epoch: 13, train_loss: 0.5237998366355896, valid_loss: 0.533870279788971\n"
     ]
    },
    {
     "name": "stderr",
     "output_type": "stream",
     "text": [
      "100%|██████████| 28/28 [00:01<00:00, 14.77it/s]\n",
      "100%|██████████| 4/4 [00:00<00:00, 23.03it/s]\n",
      "  7%|▋         | 2/28 [00:00<00:01, 17.60it/s]"
     ]
    },
    {
     "name": "stdout",
     "output_type": "stream",
     "text": [
      "Epoch: 14, train_loss: 0.5196270942687988, valid_loss: 0.5279204249382019\n"
     ]
    },
    {
     "name": "stderr",
     "output_type": "stream",
     "text": [
      "100%|██████████| 28/28 [00:01<00:00, 14.87it/s]\n",
      "100%|██████████| 4/4 [00:00<00:00, 23.45it/s]\n",
      "  7%|▋         | 2/28 [00:00<00:01, 16.61it/s]"
     ]
    },
    {
     "name": "stdout",
     "output_type": "stream",
     "text": [
      "Epoch: 15, train_loss: 0.5179874897003174, valid_loss: 0.5377286672592163\n"
     ]
    },
    {
     "name": "stderr",
     "output_type": "stream",
     "text": [
      "100%|██████████| 28/28 [00:01<00:00, 14.96it/s]\n",
      "100%|██████████| 4/4 [00:00<00:00, 23.94it/s]\n",
      "  7%|▋         | 2/28 [00:00<00:01, 15.88it/s]"
     ]
    },
    {
     "name": "stdout",
     "output_type": "stream",
     "text": [
      "Epoch: 16, train_loss: 0.5138173699378967, valid_loss: 0.5365110635757446\n"
     ]
    },
    {
     "name": "stderr",
     "output_type": "stream",
     "text": [
      "100%|██████████| 28/28 [00:01<00:00, 14.61it/s]\n",
      "100%|██████████| 4/4 [00:00<00:00, 23.70it/s]\n",
      "  7%|▋         | 2/28 [00:00<00:01, 16.10it/s]"
     ]
    },
    {
     "name": "stdout",
     "output_type": "stream",
     "text": [
      "Epoch: 17, train_loss: 0.5084116458892822, valid_loss: 0.5417250990867615\n"
     ]
    },
    {
     "name": "stderr",
     "output_type": "stream",
     "text": [
      "100%|██████████| 28/28 [00:01<00:00, 14.60it/s]\n",
      "100%|██████████| 4/4 [00:00<00:00, 25.90it/s]\n",
      "  7%|▋         | 2/28 [00:00<00:01, 16.93it/s]"
     ]
    },
    {
     "name": "stdout",
     "output_type": "stream",
     "text": [
      "Epoch: 18, train_loss: 0.5184988379478455, valid_loss: 0.5439725518226624\n"
     ]
    },
    {
     "name": "stderr",
     "output_type": "stream",
     "text": [
      "100%|██████████| 28/28 [00:01<00:00, 14.59it/s]\n",
      "100%|██████████| 4/4 [00:00<00:00, 24.37it/s]\n",
      "  7%|▋         | 2/28 [00:00<00:01, 16.97it/s]"
     ]
    },
    {
     "name": "stdout",
     "output_type": "stream",
     "text": [
      "Epoch: 19, train_loss: 0.5075350999832153, valid_loss: 0.5294612646102905\n"
     ]
    },
    {
     "name": "stderr",
     "output_type": "stream",
     "text": [
      "100%|██████████| 28/28 [00:01<00:00, 14.76it/s]\n",
      "100%|██████████| 4/4 [00:00<00:00, 25.41it/s]\n",
      "  7%|▋         | 2/28 [00:00<00:01, 17.17it/s]"
     ]
    },
    {
     "name": "stdout",
     "output_type": "stream",
     "text": [
      "Epoch: 20, train_loss: 0.5031015872955322, valid_loss: 0.5339088439941406\n"
     ]
    },
    {
     "name": "stderr",
     "output_type": "stream",
     "text": [
      "100%|██████████| 28/28 [00:01<00:00, 14.70it/s]\n",
      "100%|██████████| 4/4 [00:00<00:00, 24.52it/s]\n",
      "  7%|▋         | 2/28 [00:00<00:01, 17.71it/s]"
     ]
    },
    {
     "name": "stdout",
     "output_type": "stream",
     "text": [
      "Epoch: 21, train_loss: 0.5023679137229919, valid_loss: 0.5426589250564575\n"
     ]
    },
    {
     "name": "stderr",
     "output_type": "stream",
     "text": [
      "100%|██████████| 28/28 [00:01<00:00, 14.43it/s]\n",
      "100%|██████████| 4/4 [00:00<00:00, 24.67it/s]\n",
      "  7%|▋         | 2/28 [00:00<00:01, 15.94it/s]"
     ]
    },
    {
     "name": "stdout",
     "output_type": "stream",
     "text": [
      "Epoch: 22, train_loss: 0.507466197013855, valid_loss: 0.539039134979248\n"
     ]
    },
    {
     "name": "stderr",
     "output_type": "stream",
     "text": [
      "100%|██████████| 28/28 [00:01<00:00, 14.70it/s]\n",
      "100%|██████████| 4/4 [00:00<00:00, 23.34it/s]\n",
      "  7%|▋         | 2/28 [00:00<00:01, 15.16it/s]"
     ]
    },
    {
     "name": "stdout",
     "output_type": "stream",
     "text": [
      "Epoch: 23, train_loss: 0.4996821880340576, valid_loss: 0.5286269187927246\n"
     ]
    },
    {
     "name": "stderr",
     "output_type": "stream",
     "text": [
      "100%|██████████| 28/28 [00:01<00:00, 14.67it/s]\n",
      "100%|██████████| 4/4 [00:00<00:00, 23.29it/s]\n",
      "  7%|▋         | 2/28 [00:00<00:01, 15.76it/s]"
     ]
    },
    {
     "name": "stdout",
     "output_type": "stream",
     "text": [
      "Epoch: 24, train_loss: 0.49470600485801697, valid_loss: 0.5317918062210083\n"
     ]
    },
    {
     "name": "stderr",
     "output_type": "stream",
     "text": [
      "100%|██████████| 28/28 [00:01<00:00, 14.78it/s]\n",
      "100%|██████████| 4/4 [00:00<00:00, 23.81it/s]\n",
      "  7%|▋         | 2/28 [00:00<00:01, 17.62it/s]"
     ]
    },
    {
     "name": "stdout",
     "output_type": "stream",
     "text": [
      "Epoch: 25, train_loss: 0.4914204776287079, valid_loss: 0.5414451360702515\n"
     ]
    },
    {
     "name": "stderr",
     "output_type": "stream",
     "text": [
      "100%|██████████| 28/28 [00:01<00:00, 15.17it/s]\n",
      "100%|██████████| 4/4 [00:00<00:00, 22.93it/s]\n",
      "  7%|▋         | 2/28 [00:00<00:01, 15.93it/s]"
     ]
    },
    {
     "name": "stdout",
     "output_type": "stream",
     "text": [
      "Epoch: 26, train_loss: 0.49706244468688965, valid_loss: 0.5286624431610107\n"
     ]
    },
    {
     "name": "stderr",
     "output_type": "stream",
     "text": [
      "100%|██████████| 28/28 [00:01<00:00, 14.74it/s]\n",
      "100%|██████████| 4/4 [00:00<00:00, 23.49it/s]\n",
      "  7%|▋         | 2/28 [00:00<00:01, 18.37it/s]"
     ]
    },
    {
     "name": "stdout",
     "output_type": "stream",
     "text": [
      "Epoch: 27, train_loss: 0.49166685342788696, valid_loss: 0.5324218273162842\n"
     ]
    },
    {
     "name": "stderr",
     "output_type": "stream",
     "text": [
      "100%|██████████| 28/28 [00:01<00:00, 14.41it/s]\n",
      "100%|██████████| 4/4 [00:00<00:00, 23.13it/s]\n",
      "  7%|▋         | 2/28 [00:00<00:01, 17.13it/s]"
     ]
    },
    {
     "name": "stdout",
     "output_type": "stream",
     "text": [
      "Epoch: 28, train_loss: 0.49151962995529175, valid_loss: 0.5559419989585876\n"
     ]
    },
    {
     "name": "stderr",
     "output_type": "stream",
     "text": [
      "100%|██████████| 28/28 [00:01<00:00, 14.88it/s]\n",
      "100%|██████████| 4/4 [00:00<00:00, 23.10it/s]\n",
      "  7%|▋         | 2/28 [00:00<00:01, 17.14it/s]"
     ]
    },
    {
     "name": "stdout",
     "output_type": "stream",
     "text": [
      "Epoch: 29, train_loss: 0.49383896589279175, valid_loss: 0.5311716794967651\n"
     ]
    },
    {
     "name": "stderr",
     "output_type": "stream",
     "text": [
      "100%|██████████| 28/28 [00:01<00:00, 15.02it/s]\n",
      "100%|██████████| 4/4 [00:00<00:00, 24.81it/s]\n",
      "  7%|▋         | 2/28 [00:00<00:01, 15.21it/s]"
     ]
    },
    {
     "name": "stdout",
     "output_type": "stream",
     "text": [
      "Epoch: 30, train_loss: 0.4797988533973694, valid_loss: 0.5426197648048401\n"
     ]
    },
    {
     "name": "stderr",
     "output_type": "stream",
     "text": [
      "100%|██████████| 28/28 [00:01<00:00, 15.14it/s]\n",
      "100%|██████████| 4/4 [00:00<00:00, 23.86it/s]\n",
      "  7%|▋         | 2/28 [00:00<00:01, 17.59it/s]"
     ]
    },
    {
     "name": "stdout",
     "output_type": "stream",
     "text": [
      "Epoch: 31, train_loss: 0.4775156080722809, valid_loss: 0.5333269834518433\n"
     ]
    },
    {
     "name": "stderr",
     "output_type": "stream",
     "text": [
      "100%|██████████| 28/28 [00:01<00:00, 15.21it/s]\n",
      "100%|██████████| 4/4 [00:00<00:00, 25.00it/s]\n",
      "  7%|▋         | 2/28 [00:00<00:01, 16.93it/s]"
     ]
    },
    {
     "name": "stdout",
     "output_type": "stream",
     "text": [
      "Epoch: 32, train_loss: 0.4850747883319855, valid_loss: 0.5453595519065857\n"
     ]
    },
    {
     "name": "stderr",
     "output_type": "stream",
     "text": [
      "100%|██████████| 28/28 [00:01<00:00, 14.91it/s]\n",
      "100%|██████████| 4/4 [00:00<00:00, 24.29it/s]\n",
      "  7%|▋         | 2/28 [00:00<00:01, 16.61it/s]"
     ]
    },
    {
     "name": "stdout",
     "output_type": "stream",
     "text": [
      "Epoch: 33, train_loss: 0.4759550392627716, valid_loss: 0.5385627150535583\n"
     ]
    },
    {
     "name": "stderr",
     "output_type": "stream",
     "text": [
      "100%|██████████| 28/28 [00:01<00:00, 14.78it/s]\n",
      "100%|██████████| 4/4 [00:00<00:00, 22.93it/s]\n",
      "  7%|▋         | 2/28 [00:00<00:01, 16.37it/s]"
     ]
    },
    {
     "name": "stdout",
     "output_type": "stream",
     "text": [
      "Epoch: 34, train_loss: 0.47077226638793945, valid_loss: 0.5408090949058533\n"
     ]
    },
    {
     "name": "stderr",
     "output_type": "stream",
     "text": [
      "100%|██████████| 28/28 [00:01<00:00, 14.41it/s]\n",
      "100%|██████████| 4/4 [00:00<00:00, 23.06it/s]\n",
      "  7%|▋         | 2/28 [00:00<00:01, 15.75it/s]"
     ]
    },
    {
     "name": "stdout",
     "output_type": "stream",
     "text": [
      "Epoch: 35, train_loss: 0.4710034728050232, valid_loss: 0.5372301340103149\n"
     ]
    },
    {
     "name": "stderr",
     "output_type": "stream",
     "text": [
      "100%|██████████| 28/28 [00:01<00:00, 14.95it/s]\n",
      "100%|██████████| 4/4 [00:00<00:00, 23.48it/s]\n",
      "  7%|▋         | 2/28 [00:00<00:01, 16.45it/s]"
     ]
    },
    {
     "name": "stdout",
     "output_type": "stream",
     "text": [
      "Epoch: 36, train_loss: 0.4726988673210144, valid_loss: 0.5466002225875854\n"
     ]
    },
    {
     "name": "stderr",
     "output_type": "stream",
     "text": [
      "100%|██████████| 28/28 [00:01<00:00, 14.93it/s]\n",
      "100%|██████████| 4/4 [00:00<00:00, 23.00it/s]\n",
      "  7%|▋         | 2/28 [00:00<00:01, 17.21it/s]"
     ]
    },
    {
     "name": "stdout",
     "output_type": "stream",
     "text": [
      "Epoch: 37, train_loss: 0.46542420983314514, valid_loss: 0.5314760208129883\n"
     ]
    },
    {
     "name": "stderr",
     "output_type": "stream",
     "text": [
      "100%|██████████| 28/28 [00:01<00:00, 15.00it/s]\n",
      "100%|██████████| 4/4 [00:00<00:00, 23.66it/s]\n",
      "  7%|▋         | 2/28 [00:00<00:01, 14.99it/s]"
     ]
    },
    {
     "name": "stdout",
     "output_type": "stream",
     "text": [
      "Epoch: 38, train_loss: 0.46303537487983704, valid_loss: 0.5617209672927856\n"
     ]
    },
    {
     "name": "stderr",
     "output_type": "stream",
     "text": [
      "100%|██████████| 28/28 [00:01<00:00, 14.81it/s]\n",
      "100%|██████████| 4/4 [00:00<00:00, 25.18it/s]\n",
      "  7%|▋         | 2/28 [00:00<00:01, 15.30it/s]"
     ]
    },
    {
     "name": "stdout",
     "output_type": "stream",
     "text": [
      "Epoch: 39, train_loss: 0.46171608567237854, valid_loss: 0.5340777635574341\n"
     ]
    },
    {
     "name": "stderr",
     "output_type": "stream",
     "text": [
      "100%|██████████| 28/28 [00:01<00:00, 14.63it/s]\n",
      "100%|██████████| 4/4 [00:00<00:00, 23.77it/s]\n",
      "  7%|▋         | 2/28 [00:00<00:01, 16.48it/s]"
     ]
    },
    {
     "name": "stdout",
     "output_type": "stream",
     "text": [
      "Epoch: 40, train_loss: 0.4641576111316681, valid_loss: 0.5586170554161072\n"
     ]
    },
    {
     "name": "stderr",
     "output_type": "stream",
     "text": [
      "100%|██████████| 28/28 [00:01<00:00, 15.22it/s]\n",
      "100%|██████████| 4/4 [00:00<00:00, 23.57it/s]\n",
      "  7%|▋         | 2/28 [00:00<00:01, 16.09it/s]"
     ]
    },
    {
     "name": "stdout",
     "output_type": "stream",
     "text": [
      "Epoch: 41, train_loss: 0.4581453502178192, valid_loss: 0.5421723127365112\n"
     ]
    },
    {
     "name": "stderr",
     "output_type": "stream",
     "text": [
      "100%|██████████| 28/28 [00:01<00:00, 14.48it/s]\n",
      "100%|██████████| 4/4 [00:00<00:00, 23.24it/s]\n",
      "  7%|▋         | 2/28 [00:00<00:01, 15.95it/s]"
     ]
    },
    {
     "name": "stdout",
     "output_type": "stream",
     "text": [
      "Epoch: 42, train_loss: 0.4556461274623871, valid_loss: 0.5370527505874634\n"
     ]
    },
    {
     "name": "stderr",
     "output_type": "stream",
     "text": [
      "100%|██████████| 28/28 [00:01<00:00, 14.75it/s]\n",
      "100%|██████████| 4/4 [00:00<00:00, 24.40it/s]\n",
      "  7%|▋         | 2/28 [00:00<00:01, 16.66it/s]"
     ]
    },
    {
     "name": "stdout",
     "output_type": "stream",
     "text": [
      "Epoch: 43, train_loss: 0.45646506547927856, valid_loss: 0.5459675788879395\n"
     ]
    },
    {
     "name": "stderr",
     "output_type": "stream",
     "text": [
      "100%|██████████| 28/28 [00:01<00:00, 14.78it/s]\n",
      "100%|██████████| 4/4 [00:00<00:00, 22.75it/s]\n",
      "  7%|▋         | 2/28 [00:00<00:01, 17.42it/s]"
     ]
    },
    {
     "name": "stdout",
     "output_type": "stream",
     "text": [
      "Epoch: 44, train_loss: 0.45381641387939453, valid_loss: 0.529785692691803\n"
     ]
    },
    {
     "name": "stderr",
     "output_type": "stream",
     "text": [
      "100%|██████████| 28/28 [00:01<00:00, 14.92it/s]\n",
      "100%|██████████| 4/4 [00:00<00:00, 22.99it/s]\n",
      "  7%|▋         | 2/28 [00:00<00:01, 17.63it/s]"
     ]
    },
    {
     "name": "stdout",
     "output_type": "stream",
     "text": [
      "Epoch: 45, train_loss: 0.45564478635787964, valid_loss: 0.5452422499656677\n"
     ]
    },
    {
     "name": "stderr",
     "output_type": "stream",
     "text": [
      "100%|██████████| 28/28 [00:01<00:00, 14.98it/s]\n",
      "100%|██████████| 4/4 [00:00<00:00, 24.04it/s]\n",
      "  7%|▋         | 2/28 [00:00<00:01, 16.52it/s]"
     ]
    },
    {
     "name": "stdout",
     "output_type": "stream",
     "text": [
      "Epoch: 46, train_loss: 0.4510858654975891, valid_loss: 0.5469453930854797\n"
     ]
    },
    {
     "name": "stderr",
     "output_type": "stream",
     "text": [
      "100%|██████████| 28/28 [00:01<00:00, 14.94it/s]\n",
      "100%|██████████| 4/4 [00:00<00:00, 23.37it/s]\n",
      "  7%|▋         | 2/28 [00:00<00:01, 17.28it/s]"
     ]
    },
    {
     "name": "stdout",
     "output_type": "stream",
     "text": [
      "Epoch: 47, train_loss: 0.4552760720252991, valid_loss: 0.5257852077484131\n"
     ]
    },
    {
     "name": "stderr",
     "output_type": "stream",
     "text": [
      "100%|██████████| 28/28 [00:01<00:00, 15.06it/s]\n",
      "100%|██████████| 4/4 [00:00<00:00, 25.66it/s]\n",
      "  7%|▋         | 2/28 [00:00<00:01, 14.99it/s]"
     ]
    },
    {
     "name": "stdout",
     "output_type": "stream",
     "text": [
      "Epoch: 48, train_loss: 0.45301276445388794, valid_loss: 0.5362939238548279\n"
     ]
    },
    {
     "name": "stderr",
     "output_type": "stream",
     "text": [
      "100%|██████████| 28/28 [00:01<00:00, 14.34it/s]\n",
      "100%|██████████| 4/4 [00:00<00:00, 23.57it/s]\n",
      "  7%|▋         | 2/28 [00:00<00:01, 15.38it/s]"
     ]
    },
    {
     "name": "stdout",
     "output_type": "stream",
     "text": [
      "Epoch: 49, train_loss: 0.44678956270217896, valid_loss: 0.5411401391029358\n"
     ]
    },
    {
     "name": "stderr",
     "output_type": "stream",
     "text": [
      "100%|██████████| 28/28 [00:01<00:00, 14.85it/s]\n",
      "100%|██████████| 4/4 [00:00<00:00, 23.83it/s]\n",
      "  7%|▋         | 2/28 [00:00<00:01, 16.99it/s]"
     ]
    },
    {
     "name": "stdout",
     "output_type": "stream",
     "text": [
      "Epoch: 50, train_loss: 0.44462236762046814, valid_loss: 0.5381559133529663\n"
     ]
    },
    {
     "name": "stderr",
     "output_type": "stream",
     "text": [
      "100%|██████████| 28/28 [00:01<00:00, 14.93it/s]\n",
      "100%|██████████| 4/4 [00:00<00:00, 24.27it/s]\n",
      "  7%|▋         | 2/28 [00:00<00:01, 16.25it/s]"
     ]
    },
    {
     "name": "stdout",
     "output_type": "stream",
     "text": [
      "Epoch: 51, train_loss: 0.444837361574173, valid_loss: 0.5378186106681824\n"
     ]
    },
    {
     "name": "stderr",
     "output_type": "stream",
     "text": [
      "100%|██████████| 28/28 [00:01<00:00, 14.59it/s]\n",
      "100%|██████████| 4/4 [00:00<00:00, 23.76it/s]\n",
      "  7%|▋         | 2/28 [00:00<00:01, 17.02it/s]"
     ]
    },
    {
     "name": "stdout",
     "output_type": "stream",
     "text": [
      "Epoch: 52, train_loss: 0.4471750259399414, valid_loss: 0.5656828880310059\n"
     ]
    },
    {
     "name": "stderr",
     "output_type": "stream",
     "text": [
      "100%|██████████| 28/28 [00:01<00:00, 14.81it/s]\n",
      "100%|██████████| 4/4 [00:00<00:00, 24.72it/s]\n",
      "  7%|▋         | 2/28 [00:00<00:01, 16.72it/s]"
     ]
    },
    {
     "name": "stdout",
     "output_type": "stream",
     "text": [
      "Epoch: 53, train_loss: 0.4478329122066498, valid_loss: 0.5489797592163086\n"
     ]
    },
    {
     "name": "stderr",
     "output_type": "stream",
     "text": [
      "100%|██████████| 28/28 [00:01<00:00, 14.84it/s]\n",
      "100%|██████████| 4/4 [00:00<00:00, 23.41it/s]\n",
      "  7%|▋         | 2/28 [00:00<00:01, 16.80it/s]"
     ]
    },
    {
     "name": "stdout",
     "output_type": "stream",
     "text": [
      "Epoch: 54, train_loss: 0.4432206451892853, valid_loss: 0.529366135597229\n"
     ]
    },
    {
     "name": "stderr",
     "output_type": "stream",
     "text": [
      "100%|██████████| 28/28 [00:01<00:00, 14.96it/s]\n",
      "100%|██████████| 4/4 [00:00<00:00, 23.76it/s]\n",
      "  7%|▋         | 2/28 [00:00<00:02, 10.92it/s]"
     ]
    },
    {
     "name": "stdout",
     "output_type": "stream",
     "text": [
      "Epoch: 55, train_loss: 0.44215911626815796, valid_loss: 0.5391842722892761\n"
     ]
    },
    {
     "name": "stderr",
     "output_type": "stream",
     "text": [
      "100%|██████████| 28/28 [00:01<00:00, 14.49it/s]\n",
      "100%|██████████| 4/4 [00:00<00:00, 24.86it/s]\n",
      "  7%|▋         | 2/28 [00:00<00:01, 17.12it/s]"
     ]
    },
    {
     "name": "stdout",
     "output_type": "stream",
     "text": [
      "Epoch: 56, train_loss: 0.4389655590057373, valid_loss: 0.5523339509963989\n"
     ]
    },
    {
     "name": "stderr",
     "output_type": "stream",
     "text": [
      "100%|██████████| 28/28 [00:01<00:00, 14.15it/s]\n",
      "100%|██████████| 4/4 [00:00<00:00, 22.19it/s]\n",
      "  7%|▋         | 2/28 [00:00<00:01, 13.68it/s]"
     ]
    },
    {
     "name": "stdout",
     "output_type": "stream",
     "text": [
      "Epoch: 57, train_loss: 0.436292827129364, valid_loss: 0.5508167147636414\n"
     ]
    },
    {
     "name": "stderr",
     "output_type": "stream",
     "text": [
      "100%|██████████| 28/28 [00:02<00:00, 12.58it/s]\n",
      "100%|██████████| 4/4 [00:00<00:00, 21.49it/s]\n",
      "  7%|▋         | 2/28 [00:00<00:02, 12.97it/s]"
     ]
    },
    {
     "name": "stdout",
     "output_type": "stream",
     "text": [
      "Epoch: 58, train_loss: 0.4403386116027832, valid_loss: 0.537929117679596\n"
     ]
    },
    {
     "name": "stderr",
     "output_type": "stream",
     "text": [
      "100%|██████████| 28/28 [00:02<00:00, 13.30it/s]\n",
      "100%|██████████| 4/4 [00:00<00:00, 23.01it/s]\n",
      "  7%|▋         | 2/28 [00:00<00:01, 17.40it/s]"
     ]
    },
    {
     "name": "stdout",
     "output_type": "stream",
     "text": [
      "Epoch: 59, train_loss: 0.4421127140522003, valid_loss: 0.5483564138412476\n"
     ]
    },
    {
     "name": "stderr",
     "output_type": "stream",
     "text": [
      "100%|██████████| 28/28 [00:01<00:00, 14.83it/s]\n",
      "100%|██████████| 4/4 [00:00<00:00, 24.53it/s]\n",
      "  7%|▋         | 2/28 [00:00<00:01, 16.36it/s]"
     ]
    },
    {
     "name": "stdout",
     "output_type": "stream",
     "text": [
      "Epoch: 60, train_loss: 0.4437313973903656, valid_loss: 0.558728814125061\n"
     ]
    },
    {
     "name": "stderr",
     "output_type": "stream",
     "text": [
      "100%|██████████| 28/28 [00:01<00:00, 14.71it/s]\n",
      "100%|██████████| 4/4 [00:00<00:00, 24.90it/s]\n",
      "  7%|▋         | 2/28 [00:00<00:01, 14.94it/s]"
     ]
    },
    {
     "name": "stdout",
     "output_type": "stream",
     "text": [
      "Epoch: 61, train_loss: 0.43744179606437683, valid_loss: 0.5489725470542908\n"
     ]
    },
    {
     "name": "stderr",
     "output_type": "stream",
     "text": [
      "100%|██████████| 28/28 [00:01<00:00, 14.95it/s]\n",
      "100%|██████████| 4/4 [00:00<00:00, 18.64it/s]\n",
      "  7%|▋         | 2/28 [00:00<00:01, 16.34it/s]"
     ]
    },
    {
     "name": "stdout",
     "output_type": "stream",
     "text": [
      "Epoch: 62, train_loss: 0.4393899738788605, valid_loss: 0.5395423173904419\n"
     ]
    },
    {
     "name": "stderr",
     "output_type": "stream",
     "text": [
      "100%|██████████| 28/28 [00:01<00:00, 15.01it/s]\n",
      "100%|██████████| 4/4 [00:00<00:00, 24.10it/s]\n",
      "  7%|▋         | 2/28 [00:00<00:01, 15.29it/s]"
     ]
    },
    {
     "name": "stdout",
     "output_type": "stream",
     "text": [
      "Epoch: 63, train_loss: 0.4436487555503845, valid_loss: 0.5484504103660583\n"
     ]
    },
    {
     "name": "stderr",
     "output_type": "stream",
     "text": [
      "100%|██████████| 28/28 [00:01<00:00, 15.01it/s]\n",
      "100%|██████████| 4/4 [00:00<00:00, 23.22it/s]\n",
      "  7%|▋         | 2/28 [00:00<00:01, 15.83it/s]"
     ]
    },
    {
     "name": "stdout",
     "output_type": "stream",
     "text": [
      "Epoch: 64, train_loss: 0.44176122546195984, valid_loss: 0.5666756629943848\n"
     ]
    },
    {
     "name": "stderr",
     "output_type": "stream",
     "text": [
      "100%|██████████| 28/28 [00:01<00:00, 14.91it/s]\n",
      "100%|██████████| 4/4 [00:00<00:00, 23.67it/s]\n",
      "  7%|▋         | 2/28 [00:00<00:01, 16.78it/s]"
     ]
    },
    {
     "name": "stdout",
     "output_type": "stream",
     "text": [
      "Epoch: 65, train_loss: 0.4344601631164551, valid_loss: 0.5454025268554688\n"
     ]
    },
    {
     "name": "stderr",
     "output_type": "stream",
     "text": [
      "100%|██████████| 28/28 [00:01<00:00, 14.48it/s]\n",
      "100%|██████████| 4/4 [00:00<00:00, 22.45it/s]\n",
      "  7%|▋         | 2/28 [00:00<00:01, 16.64it/s]"
     ]
    },
    {
     "name": "stdout",
     "output_type": "stream",
     "text": [
      "Epoch: 66, train_loss: 0.4282233715057373, valid_loss: 0.5540748834609985\n"
     ]
    },
    {
     "name": "stderr",
     "output_type": "stream",
     "text": [
      "100%|██████████| 28/28 [00:01<00:00, 14.88it/s]\n",
      "100%|██████████| 4/4 [00:00<00:00, 23.91it/s]\n",
      "  7%|▋         | 2/28 [00:00<00:01, 15.02it/s]"
     ]
    },
    {
     "name": "stdout",
     "output_type": "stream",
     "text": [
      "Epoch: 67, train_loss: 0.42987412214279175, valid_loss: 0.5473916530609131\n"
     ]
    },
    {
     "name": "stderr",
     "output_type": "stream",
     "text": [
      "100%|██████████| 28/28 [00:01<00:00, 14.85it/s]\n",
      "100%|██████████| 4/4 [00:00<00:00, 23.35it/s]\n",
      "  7%|▋         | 2/28 [00:00<00:01, 17.19it/s]"
     ]
    },
    {
     "name": "stdout",
     "output_type": "stream",
     "text": [
      "Epoch: 68, train_loss: 0.4295921325683594, valid_loss: 0.5448901057243347\n"
     ]
    },
    {
     "name": "stderr",
     "output_type": "stream",
     "text": [
      "100%|██████████| 28/28 [00:01<00:00, 15.05it/s]\n",
      "100%|██████████| 4/4 [00:00<00:00, 23.59it/s]\n",
      "  7%|▋         | 2/28 [00:00<00:01, 16.87it/s]"
     ]
    },
    {
     "name": "stdout",
     "output_type": "stream",
     "text": [
      "Epoch: 69, train_loss: 0.4277590811252594, valid_loss: 0.5427129864692688\n"
     ]
    },
    {
     "name": "stderr",
     "output_type": "stream",
     "text": [
      "100%|██████████| 28/28 [00:01<00:00, 14.39it/s]\n",
      "100%|██████████| 4/4 [00:00<00:00, 22.43it/s]\n",
      "  7%|▋         | 2/28 [00:00<00:01, 15.39it/s]"
     ]
    },
    {
     "name": "stdout",
     "output_type": "stream",
     "text": [
      "Epoch: 70, train_loss: 0.4256305694580078, valid_loss: 0.5502699613571167\n"
     ]
    },
    {
     "name": "stderr",
     "output_type": "stream",
     "text": [
      "100%|██████████| 28/28 [00:01<00:00, 14.87it/s]\n",
      "100%|██████████| 4/4 [00:00<00:00, 24.86it/s]\n",
      "  7%|▋         | 2/28 [00:00<00:01, 16.46it/s]"
     ]
    },
    {
     "name": "stdout",
     "output_type": "stream",
     "text": [
      "Epoch: 71, train_loss: 0.4277784824371338, valid_loss: 0.5630650520324707\n"
     ]
    },
    {
     "name": "stderr",
     "output_type": "stream",
     "text": [
      "100%|██████████| 28/28 [00:01<00:00, 14.61it/s]\n",
      "100%|██████████| 4/4 [00:00<00:00, 24.40it/s]\n",
      "  7%|▋         | 2/28 [00:00<00:01, 16.03it/s]"
     ]
    },
    {
     "name": "stdout",
     "output_type": "stream",
     "text": [
      "Epoch: 72, train_loss: 0.42667248845100403, valid_loss: 0.555656909942627\n"
     ]
    },
    {
     "name": "stderr",
     "output_type": "stream",
     "text": [
      "100%|██████████| 28/28 [00:01<00:00, 15.03it/s]\n",
      "100%|██████████| 4/4 [00:00<00:00, 24.15it/s]\n",
      "  7%|▋         | 2/28 [00:00<00:01, 15.97it/s]"
     ]
    },
    {
     "name": "stdout",
     "output_type": "stream",
     "text": [
      "Epoch: 73, train_loss: 0.4273546040058136, valid_loss: 0.5335462093353271\n"
     ]
    },
    {
     "name": "stderr",
     "output_type": "stream",
     "text": [
      "100%|██████████| 28/28 [00:01<00:00, 14.89it/s]\n",
      "100%|██████████| 4/4 [00:00<00:00, 23.48it/s]\n"
     ]
    },
    {
     "name": "stdout",
     "output_type": "stream",
     "text": [
      "Epoch: 74, train_loss: 0.4245119094848633, valid_loss: 0.5517327189445496\n"
     ]
    },
    {
     "name": "stderr",
     "output_type": "stream",
     "text": [
      "  3%|▎         | 4/115 [00:00<00:03, 32.85it/s]"
     ]
    },
    {
     "name": "stdout",
     "output_type": "stream",
     "text": [
      "{'BATCH_SIZE': 128, 'EPOCHS': 20, 'OPTIMIZER': <class 'torch.optim.adam.Adam'>, 'LEARNING_RATE': 0.001, 'LOSS': CrossEntropyLoss(), 'EARLY_STOPPING': True, 'PATIENCE': 3, 'MIN_DELTA': 0.001, 'HIDDEN_DEPTH': 2, 'HIDDEN_SIZES': array([32, 64]), 'KERNEL_SIZES': array([9, 3]), 'MAXPOOL': 2, 'FC_DEPTH': 2, 'FC_SIZES': array([128,  64]), 'DROPOUT': 0.0}\n"
     ]
    },
    {
     "name": "stderr",
     "output_type": "stream",
     "text": [
      "100%|██████████| 115/115 [00:03<00:00, 32.31it/s]\n",
      "100%|██████████| 16/16 [00:00<00:00, 70.01it/s]\n",
      "  3%|▎         | 4/115 [00:00<00:03, 35.20it/s]"
     ]
    },
    {
     "name": "stdout",
     "output_type": "stream",
     "text": [
      "Epoch: 0, train_loss: 0.5955920815467834, valid_loss: 0.548087477684021\n"
     ]
    },
    {
     "name": "stderr",
     "output_type": "stream",
     "text": [
      "100%|██████████| 115/115 [00:03<00:00, 32.97it/s]\n",
      "100%|██████████| 16/16 [00:00<00:00, 73.48it/s]\n",
      "  3%|▎         | 4/115 [00:00<00:03, 33.87it/s]"
     ]
    },
    {
     "name": "stdout",
     "output_type": "stream",
     "text": [
      "val loss increased, patience count:  1\n",
      "Epoch: 1, train_loss: 0.5557189583778381, valid_loss: 0.5560576915740967\n"
     ]
    },
    {
     "name": "stderr",
     "output_type": "stream",
     "text": [
      "100%|██████████| 115/115 [00:03<00:00, 32.96it/s]\n",
      "100%|██████████| 16/16 [00:00<00:00, 70.41it/s]\n",
      "  3%|▎         | 4/115 [00:00<00:03, 34.74it/s]"
     ]
    },
    {
     "name": "stdout",
     "output_type": "stream",
     "text": [
      "Epoch: 2, train_loss: 0.5504788160324097, valid_loss: 0.5472716689109802\n"
     ]
    },
    {
     "name": "stderr",
     "output_type": "stream",
     "text": [
      "100%|██████████| 115/115 [00:03<00:00, 32.37it/s]\n",
      "100%|██████████| 16/16 [00:00<00:00, 71.90it/s]\n",
      "  3%|▎         | 4/115 [00:00<00:03, 34.46it/s]"
     ]
    },
    {
     "name": "stdout",
     "output_type": "stream",
     "text": [
      "Epoch: 3, train_loss: 0.53987056016922, valid_loss: 0.5443452596664429\n"
     ]
    },
    {
     "name": "stderr",
     "output_type": "stream",
     "text": [
      "100%|██████████| 115/115 [00:03<00:00, 32.72it/s]\n",
      "100%|██████████| 16/16 [00:00<00:00, 78.00it/s]\n",
      "  3%|▎         | 4/115 [00:00<00:03, 35.18it/s]"
     ]
    },
    {
     "name": "stdout",
     "output_type": "stream",
     "text": [
      "val loss increased, patience count:  1\n",
      "Epoch: 4, train_loss: 0.5341115593910217, valid_loss: 0.5818030834197998\n"
     ]
    },
    {
     "name": "stderr",
     "output_type": "stream",
     "text": [
      "100%|██████████| 115/115 [00:03<00:00, 32.80it/s]\n",
      "100%|██████████| 16/16 [00:00<00:00, 74.11it/s]\n",
      "  3%|▎         | 4/115 [00:00<00:03, 35.34it/s]"
     ]
    },
    {
     "name": "stdout",
     "output_type": "stream",
     "text": [
      "Epoch: 5, train_loss: 0.529881477355957, valid_loss: 0.5249402523040771\n"
     ]
    },
    {
     "name": "stderr",
     "output_type": "stream",
     "text": [
      "100%|██████████| 115/115 [00:03<00:00, 32.14it/s]\n",
      "100%|██████████| 16/16 [00:00<00:00, 77.06it/s]\n",
      "  3%|▎         | 4/115 [00:00<00:03, 33.36it/s]"
     ]
    },
    {
     "name": "stdout",
     "output_type": "stream",
     "text": [
      "Epoch: 6, train_loss: 0.5181644558906555, valid_loss: 0.5212383270263672\n"
     ]
    },
    {
     "name": "stderr",
     "output_type": "stream",
     "text": [
      "100%|██████████| 115/115 [00:03<00:00, 32.27it/s]\n",
      "100%|██████████| 16/16 [00:00<00:00, 74.16it/s]\n",
      "  3%|▎         | 4/115 [00:00<00:03, 32.93it/s]"
     ]
    },
    {
     "name": "stdout",
     "output_type": "stream",
     "text": [
      "val loss increased, patience count:  1\n",
      "Epoch: 7, train_loss: 0.5130611062049866, valid_loss: 0.540888786315918\n"
     ]
    },
    {
     "name": "stderr",
     "output_type": "stream",
     "text": [
      "100%|██████████| 115/115 [00:03<00:00, 32.09it/s]\n",
      "100%|██████████| 16/16 [00:00<00:00, 71.64it/s]\n",
      "  3%|▎         | 4/115 [00:00<00:03, 34.47it/s]"
     ]
    },
    {
     "name": "stdout",
     "output_type": "stream",
     "text": [
      "val loss increased, patience count:  2\n",
      "Epoch: 8, train_loss: 0.506011426448822, valid_loss: 0.5293837785720825\n"
     ]
    },
    {
     "name": "stderr",
     "output_type": "stream",
     "text": [
      "100%|██████████| 115/115 [00:03<00:00, 32.31it/s]\n",
      "100%|██████████| 16/16 [00:00<00:00, 75.46it/s]\n",
      "  3%|▎         | 4/115 [00:00<00:03, 32.46it/s]"
     ]
    },
    {
     "name": "stdout",
     "output_type": "stream",
     "text": [
      "val loss increased, patience count:  3\n",
      "Epoch: 9, train_loss: 0.4927407503128052, valid_loss: 0.5380773544311523\n"
     ]
    },
    {
     "name": "stderr",
     "output_type": "stream",
     "text": [
      "100%|██████████| 115/115 [00:03<00:00, 32.60it/s]\n",
      "100%|██████████| 16/16 [00:00<00:00, 74.56it/s]\n"
     ]
    },
    {
     "name": "stdout",
     "output_type": "stream",
     "text": [
      "Early stopped at Epoch:  10\n"
     ]
    },
    {
     "name": "stderr",
     "output_type": "stream",
     "text": [
      "  4%|▎         | 2/57 [00:00<00:03, 14.35it/s]"
     ]
    },
    {
     "name": "stdout",
     "output_type": "stream",
     "text": [
      "{'BATCH_SIZE': 256, 'EPOCHS': 100, 'OPTIMIZER': <class 'torch.optim.adam.Adam'>, 'LEARNING_RATE': 5e-05, 'LOSS': CrossEntropyLoss(), 'EARLY_STOPPING': True, 'PATIENCE': 2, 'MIN_DELTA': 1e-05, 'HIDDEN_DEPTH': 2, 'HIDDEN_SIZES': array([ 64, 128]), 'KERNEL_SIZES': array([5, 3]), 'MAXPOOL': 2, 'FC_DEPTH': 1, 'FC_SIZES': array([256]), 'DROPOUT': 0.4}\n"
     ]
    },
    {
     "name": "stderr",
     "output_type": "stream",
     "text": [
      "100%|██████████| 57/57 [00:04<00:00, 14.03it/s]\n",
      "100%|██████████| 8/8 [00:00<00:00, 33.21it/s]\n",
      "  4%|▎         | 2/57 [00:00<00:03, 15.25it/s]"
     ]
    },
    {
     "name": "stdout",
     "output_type": "stream",
     "text": [
      "Epoch: 0, train_loss: 0.6866440176963806, valid_loss: 0.672098696231842\n"
     ]
    },
    {
     "name": "stderr",
     "output_type": "stream",
     "text": [
      "100%|██████████| 57/57 [00:03<00:00, 14.33it/s]\n",
      "100%|██████████| 8/8 [00:00<00:00, 27.66it/s]\n",
      "  4%|▎         | 2/57 [00:00<00:03, 15.40it/s]"
     ]
    },
    {
     "name": "stdout",
     "output_type": "stream",
     "text": [
      "Epoch: 1, train_loss: 0.6433802247047424, valid_loss: 0.5997236967086792\n"
     ]
    },
    {
     "name": "stderr",
     "output_type": "stream",
     "text": [
      "100%|██████████| 57/57 [00:03<00:00, 14.30it/s]\n",
      "100%|██████████| 8/8 [00:00<00:00, 34.79it/s]\n",
      "  4%|▎         | 2/57 [00:00<00:03, 15.90it/s]"
     ]
    },
    {
     "name": "stdout",
     "output_type": "stream",
     "text": [
      "Epoch: 2, train_loss: 0.5929791927337646, valid_loss: 0.5680027008056641\n"
     ]
    },
    {
     "name": "stderr",
     "output_type": "stream",
     "text": [
      "100%|██████████| 57/57 [00:03<00:00, 14.29it/s]\n",
      "100%|██████████| 8/8 [00:00<00:00, 31.14it/s]\n",
      "  4%|▎         | 2/57 [00:00<00:03, 15.01it/s]"
     ]
    },
    {
     "name": "stdout",
     "output_type": "stream",
     "text": [
      "Epoch: 3, train_loss: 0.57767653465271, valid_loss: 0.5574784278869629\n"
     ]
    },
    {
     "name": "stderr",
     "output_type": "stream",
     "text": [
      "100%|██████████| 57/57 [00:04<00:00, 14.21it/s]\n",
      "100%|██████████| 8/8 [00:00<00:00, 34.63it/s]\n",
      "  4%|▎         | 2/57 [00:00<00:03, 14.19it/s]"
     ]
    },
    {
     "name": "stdout",
     "output_type": "stream",
     "text": [
      "Epoch: 4, train_loss: 0.5699561238288879, valid_loss: 0.5565453767776489\n"
     ]
    },
    {
     "name": "stderr",
     "output_type": "stream",
     "text": [
      "100%|██████████| 57/57 [00:03<00:00, 14.29it/s]\n",
      "100%|██████████| 8/8 [00:00<00:00, 33.06it/s]\n",
      "  4%|▎         | 2/57 [00:00<00:03, 14.47it/s]"
     ]
    },
    {
     "name": "stdout",
     "output_type": "stream",
     "text": [
      "Epoch: 5, train_loss: 0.5637331008911133, valid_loss: 0.5485905408859253\n"
     ]
    },
    {
     "name": "stderr",
     "output_type": "stream",
     "text": [
      "100%|██████████| 57/57 [00:03<00:00, 14.39it/s]\n",
      "100%|██████████| 8/8 [00:00<00:00, 34.64it/s]\n",
      "  4%|▎         | 2/57 [00:00<00:03, 16.37it/s]"
     ]
    },
    {
     "name": "stdout",
     "output_type": "stream",
     "text": [
      "Epoch: 6, train_loss: 0.5594487190246582, valid_loss: 0.5443352460861206\n"
     ]
    },
    {
     "name": "stderr",
     "output_type": "stream",
     "text": [
      "100%|██████████| 57/57 [00:04<00:00, 14.20it/s]\n",
      "100%|██████████| 8/8 [00:00<00:00, 33.26it/s]\n",
      "  4%|▎         | 2/57 [00:00<00:03, 14.76it/s]"
     ]
    },
    {
     "name": "stdout",
     "output_type": "stream",
     "text": [
      "val loss increased, patience count:  1\n",
      "Epoch: 7, train_loss: 0.5553565621376038, valid_loss: 0.550311267375946\n"
     ]
    },
    {
     "name": "stderr",
     "output_type": "stream",
     "text": [
      "100%|██████████| 57/57 [00:04<00:00, 14.08it/s]\n",
      "100%|██████████| 8/8 [00:00<00:00, 32.97it/s]\n",
      "  4%|▎         | 2/57 [00:00<00:03, 15.56it/s]"
     ]
    },
    {
     "name": "stdout",
     "output_type": "stream",
     "text": [
      "val loss increased, patience count:  2\n",
      "Epoch: 8, train_loss: 0.5532667636871338, valid_loss: 0.5458317995071411\n"
     ]
    },
    {
     "name": "stderr",
     "output_type": "stream",
     "text": [
      "100%|██████████| 57/57 [00:03<00:00, 14.35it/s]\n",
      "100%|██████████| 8/8 [00:00<00:00, 31.00it/s]\n"
     ]
    },
    {
     "name": "stdout",
     "output_type": "stream",
     "text": [
      "Early stopped at Epoch:  9\n"
     ]
    },
    {
     "name": "stderr",
     "output_type": "stream",
     "text": [
      "  1%|          | 2/308 [00:00<00:25, 11.78it/s]"
     ]
    },
    {
     "name": "stdout",
     "output_type": "stream",
     "text": [
      "{'BATCH_SIZE': 48, 'EPOCHS': 20, 'OPTIMIZER': <class 'torch.optim.adam.Adam'>, 'LEARNING_RATE': 0.0005, 'LOSS': CrossEntropyLoss(), 'EARLY_STOPPING': False, 'PATIENCE': 3, 'MIN_DELTA': 0.0001, 'HIDDEN_DEPTH': 2, 'HIDDEN_SIZES': array([256, 512]), 'KERNEL_SIZES': array([5, 3]), 'MAXPOOL': 2, 'FC_DEPTH': 1, 'FC_SIZES': array([256]), 'DROPOUT': 0.1}\n"
     ]
    },
    {
     "name": "stderr",
     "output_type": "stream",
     "text": [
      "100%|██████████| 308/308 [00:28<00:00, 10.96it/s]\n",
      "100%|██████████| 44/44 [00:00<00:00, 45.75it/s]\n",
      "  1%|          | 2/308 [00:00<00:25, 11.98it/s]"
     ]
    },
    {
     "name": "stdout",
     "output_type": "stream",
     "text": [
      "Epoch: 0, train_loss: 0.5935396552085876, valid_loss: 0.5628583431243896\n"
     ]
    },
    {
     "name": "stderr",
     "output_type": "stream",
     "text": [
      "100%|██████████| 308/308 [00:28<00:00, 10.80it/s]\n",
      "100%|██████████| 44/44 [00:01<00:00, 43.68it/s]\n",
      "  1%|          | 2/308 [00:00<00:26, 11.41it/s]"
     ]
    },
    {
     "name": "stdout",
     "output_type": "stream",
     "text": [
      "Epoch: 1, train_loss: 0.5574902892112732, valid_loss: 0.5309907793998718\n"
     ]
    },
    {
     "name": "stderr",
     "output_type": "stream",
     "text": [
      "100%|██████████| 308/308 [00:30<00:00, 10.23it/s]\n",
      "100%|██████████| 44/44 [00:00<00:00, 46.81it/s]\n",
      "  1%|          | 2/308 [00:00<00:29, 10.30it/s]"
     ]
    },
    {
     "name": "stdout",
     "output_type": "stream",
     "text": [
      "Epoch: 2, train_loss: 0.5456979870796204, valid_loss: 0.5301375389099121\n"
     ]
    },
    {
     "name": "stderr",
     "output_type": "stream",
     "text": [
      "100%|██████████| 308/308 [00:30<00:00, 10.21it/s]\n",
      "100%|██████████| 44/44 [00:00<00:00, 46.86it/s]\n",
      "  1%|          | 2/308 [00:00<00:28, 10.83it/s]"
     ]
    },
    {
     "name": "stdout",
     "output_type": "stream",
     "text": [
      "Epoch: 3, train_loss: 0.5313363075256348, valid_loss: 0.5332116484642029\n"
     ]
    },
    {
     "name": "stderr",
     "output_type": "stream",
     "text": [
      "100%|██████████| 308/308 [00:30<00:00, 10.26it/s]\n",
      "100%|██████████| 44/44 [00:00<00:00, 47.96it/s]\n",
      "  1%|          | 2/308 [00:00<00:29, 10.49it/s]"
     ]
    },
    {
     "name": "stdout",
     "output_type": "stream",
     "text": [
      "Epoch: 4, train_loss: 0.5198444724082947, valid_loss: 0.5276535749435425\n"
     ]
    },
    {
     "name": "stderr",
     "output_type": "stream",
     "text": [
      "100%|██████████| 308/308 [00:29<00:00, 10.28it/s]\n",
      "100%|██████████| 44/44 [00:00<00:00, 49.78it/s]\n",
      "  1%|          | 2/308 [00:00<00:29, 10.42it/s]"
     ]
    },
    {
     "name": "stdout",
     "output_type": "stream",
     "text": [
      "Epoch: 5, train_loss: 0.5127307772636414, valid_loss: 0.530034065246582\n"
     ]
    },
    {
     "name": "stderr",
     "output_type": "stream",
     "text": [
      "100%|██████████| 308/308 [00:30<00:00, 10.21it/s]\n",
      "100%|██████████| 44/44 [00:00<00:00, 48.44it/s]\n",
      "  1%|          | 2/308 [00:00<00:28, 10.80it/s]"
     ]
    },
    {
     "name": "stdout",
     "output_type": "stream",
     "text": [
      "Epoch: 6, train_loss: 0.4964234530925751, valid_loss: 0.5369689464569092\n"
     ]
    },
    {
     "name": "stderr",
     "output_type": "stream",
     "text": [
      "100%|██████████| 308/308 [00:29<00:00, 10.30it/s]\n",
      "100%|██████████| 44/44 [00:00<00:00, 44.25it/s]\n",
      "  0%|          | 1/308 [00:00<00:30,  9.95it/s]"
     ]
    },
    {
     "name": "stdout",
     "output_type": "stream",
     "text": [
      "Epoch: 7, train_loss: 0.48941749334335327, valid_loss: 0.5866007804870605\n"
     ]
    },
    {
     "name": "stderr",
     "output_type": "stream",
     "text": [
      "100%|██████████| 308/308 [00:30<00:00, 10.21it/s]\n",
      "100%|██████████| 44/44 [00:00<00:00, 46.36it/s]\n",
      "  1%|          | 2/308 [00:00<00:28, 10.68it/s]"
     ]
    },
    {
     "name": "stdout",
     "output_type": "stream",
     "text": [
      "Epoch: 8, train_loss: 0.47657445073127747, valid_loss: 0.5395420789718628\n"
     ]
    },
    {
     "name": "stderr",
     "output_type": "stream",
     "text": [
      "100%|██████████| 308/308 [00:30<00:00, 10.23it/s]\n",
      "100%|██████████| 44/44 [00:00<00:00, 46.57it/s]\n",
      "  1%|          | 2/308 [00:00<00:30, 10.17it/s]"
     ]
    },
    {
     "name": "stdout",
     "output_type": "stream",
     "text": [
      "Epoch: 9, train_loss: 0.4609520137310028, valid_loss: 0.5477370619773865\n"
     ]
    },
    {
     "name": "stderr",
     "output_type": "stream",
     "text": [
      "100%|██████████| 308/308 [00:30<00:00, 10.22it/s]\n",
      "100%|██████████| 44/44 [00:01<00:00, 43.80it/s]\n",
      "  1%|          | 2/308 [00:00<00:27, 11.03it/s]"
     ]
    },
    {
     "name": "stdout",
     "output_type": "stream",
     "text": [
      "Epoch: 10, train_loss: 0.45176270604133606, valid_loss: 0.5484418869018555\n"
     ]
    },
    {
     "name": "stderr",
     "output_type": "stream",
     "text": [
      "100%|██████████| 308/308 [00:30<00:00, 10.11it/s]\n",
      "100%|██████████| 44/44 [00:00<00:00, 46.14it/s]\n",
      "  1%|          | 2/308 [00:00<00:29, 10.43it/s]"
     ]
    },
    {
     "name": "stdout",
     "output_type": "stream",
     "text": [
      "Epoch: 11, train_loss: 0.4345804750919342, valid_loss: 0.5452935695648193\n"
     ]
    },
    {
     "name": "stderr",
     "output_type": "stream",
     "text": [
      "100%|██████████| 308/308 [00:30<00:00, 10.13it/s]\n",
      "100%|██████████| 44/44 [00:00<00:00, 46.61it/s]\n",
      "  1%|          | 2/308 [00:00<00:27, 11.20it/s]"
     ]
    },
    {
     "name": "stdout",
     "output_type": "stream",
     "text": [
      "Epoch: 12, train_loss: 0.4372919201850891, valid_loss: 0.5722450613975525\n"
     ]
    },
    {
     "name": "stderr",
     "output_type": "stream",
     "text": [
      "100%|██████████| 308/308 [00:30<00:00, 10.15it/s]\n",
      "100%|██████████| 44/44 [00:00<00:00, 48.70it/s]\n",
      "  1%|          | 2/308 [00:00<00:27, 10.94it/s]"
     ]
    },
    {
     "name": "stdout",
     "output_type": "stream",
     "text": [
      "Epoch: 13, train_loss: 0.42407503724098206, valid_loss: 0.5554739236831665\n"
     ]
    },
    {
     "name": "stderr",
     "output_type": "stream",
     "text": [
      "100%|██████████| 308/308 [00:30<00:00, 10.01it/s]\n",
      "100%|██████████| 44/44 [00:00<00:00, 45.47it/s]\n",
      "  1%|          | 2/308 [00:00<00:29, 10.28it/s]"
     ]
    },
    {
     "name": "stdout",
     "output_type": "stream",
     "text": [
      "Epoch: 14, train_loss: 0.42054134607315063, valid_loss: 0.5699053406715393\n"
     ]
    },
    {
     "name": "stderr",
     "output_type": "stream",
     "text": [
      "100%|██████████| 308/308 [00:30<00:00, 10.16it/s]\n",
      "100%|██████████| 44/44 [00:00<00:00, 46.46it/s]\n",
      "  0%|          | 1/308 [00:00<00:37,  8.28it/s]"
     ]
    },
    {
     "name": "stdout",
     "output_type": "stream",
     "text": [
      "Epoch: 15, train_loss: 0.41249415278434753, valid_loss: 0.5736758708953857\n"
     ]
    },
    {
     "name": "stderr",
     "output_type": "stream",
     "text": [
      "100%|██████████| 308/308 [00:31<00:00,  9.89it/s]\n",
      "100%|██████████| 44/44 [00:00<00:00, 48.08it/s]\n",
      "  0%|          | 1/308 [00:00<00:31,  9.87it/s]"
     ]
    },
    {
     "name": "stdout",
     "output_type": "stream",
     "text": [
      "Epoch: 16, train_loss: 0.41152215003967285, valid_loss: 0.5757197141647339\n"
     ]
    },
    {
     "name": "stderr",
     "output_type": "stream",
     "text": [
      "100%|██████████| 308/308 [00:31<00:00,  9.75it/s]\n",
      "100%|██████████| 44/44 [00:00<00:00, 45.51it/s]\n",
      "  1%|          | 2/308 [00:00<00:27, 11.12it/s]"
     ]
    },
    {
     "name": "stdout",
     "output_type": "stream",
     "text": [
      "Epoch: 17, train_loss: 0.41078028082847595, valid_loss: 0.5521979928016663\n"
     ]
    },
    {
     "name": "stderr",
     "output_type": "stream",
     "text": [
      "100%|██████████| 308/308 [00:31<00:00,  9.88it/s]\n",
      "100%|██████████| 44/44 [00:01<00:00, 43.15it/s]\n",
      "  0%|          | 0/308 [00:00<?, ?it/s]"
     ]
    },
    {
     "name": "stdout",
     "output_type": "stream",
     "text": [
      "Epoch: 18, train_loss: 0.41413819789886475, valid_loss: 0.583605945110321\n"
     ]
    },
    {
     "name": "stderr",
     "output_type": "stream",
     "text": [
      "100%|██████████| 308/308 [00:31<00:00,  9.87it/s]\n",
      "100%|██████████| 44/44 [00:00<00:00, 50.40it/s]\n"
     ]
    },
    {
     "name": "stdout",
     "output_type": "stream",
     "text": [
      "Epoch: 19, train_loss: 0.4084954857826233, valid_loss: 0.5770962834358215\n"
     ]
    },
    {
     "name": "stderr",
     "output_type": "stream",
     "text": [
      "  3%|▎         | 6/231 [00:00<00:04, 54.39it/s]"
     ]
    },
    {
     "name": "stdout",
     "output_type": "stream",
     "text": [
      "{'BATCH_SIZE': 64, 'EPOCHS': 20, 'OPTIMIZER': <class 'torch.optim.adam.Adam'>, 'LEARNING_RATE': 0.0001, 'LOSS': CrossEntropyLoss(), 'EARLY_STOPPING': True, 'PATIENCE': 3, 'MIN_DELTA': 1e-06, 'HIDDEN_DEPTH': 2, 'HIDDEN_SIZES': array([16, 32]), 'KERNEL_SIZES': array([5, 3]), 'MAXPOOL': 2, 'FC_DEPTH': 2, 'FC_SIZES': array([256, 128]), 'DROPOUT': 0.5}\n"
     ]
    },
    {
     "name": "stderr",
     "output_type": "stream",
     "text": [
      "100%|██████████| 231/231 [00:04<00:00, 55.92it/s]\n",
      "100%|██████████| 33/33 [00:00<00:00, 175.18it/s]\n",
      "  3%|▎         | 7/231 [00:00<00:03, 60.36it/s]"
     ]
    },
    {
     "name": "stdout",
     "output_type": "stream",
     "text": [
      "Epoch: 0, train_loss: 0.6840506196022034, valid_loss: 0.6366057395935059\n"
     ]
    },
    {
     "name": "stderr",
     "output_type": "stream",
     "text": [
      "100%|██████████| 231/231 [00:04<00:00, 56.50it/s]\n",
      "100%|██████████| 33/33 [00:00<00:00, 178.47it/s]\n",
      "  3%|▎         | 6/231 [00:00<00:04, 55.11it/s]"
     ]
    },
    {
     "name": "stdout",
     "output_type": "stream",
     "text": [
      "Epoch: 1, train_loss: 0.596168577671051, valid_loss: 0.5537557005882263\n"
     ]
    },
    {
     "name": "stderr",
     "output_type": "stream",
     "text": [
      "100%|██████████| 231/231 [00:04<00:00, 55.91it/s]\n",
      "100%|██████████| 33/33 [00:00<00:00, 155.66it/s]\n",
      "  3%|▎         | 6/231 [00:00<00:04, 54.61it/s]"
     ]
    },
    {
     "name": "stdout",
     "output_type": "stream",
     "text": [
      "val loss increased, patience count:  1\n",
      "Epoch: 2, train_loss: 0.5761284232139587, valid_loss: 0.554194450378418\n"
     ]
    },
    {
     "name": "stderr",
     "output_type": "stream",
     "text": [
      "100%|██████████| 231/231 [00:04<00:00, 55.32it/s]\n",
      "100%|██████████| 33/33 [00:00<00:00, 156.05it/s]\n",
      "  3%|▎         | 7/231 [00:00<00:03, 61.28it/s]"
     ]
    },
    {
     "name": "stdout",
     "output_type": "stream",
     "text": [
      "Epoch: 3, train_loss: 0.5646010041236877, valid_loss: 0.5479527711868286\n"
     ]
    },
    {
     "name": "stderr",
     "output_type": "stream",
     "text": [
      "100%|██████████| 231/231 [00:04<00:00, 54.97it/s]\n",
      "100%|██████████| 33/33 [00:00<00:00, 160.38it/s]\n",
      "  3%|▎         | 6/231 [00:00<00:03, 56.45it/s]"
     ]
    },
    {
     "name": "stdout",
     "output_type": "stream",
     "text": [
      "Epoch: 4, train_loss: 0.5586761236190796, valid_loss: 0.5444898009300232\n"
     ]
    },
    {
     "name": "stderr",
     "output_type": "stream",
     "text": [
      "100%|██████████| 231/231 [00:04<00:00, 56.58it/s]\n",
      "100%|██████████| 33/33 [00:00<00:00, 171.40it/s]\n",
      "  3%|▎         | 7/231 [00:00<00:03, 61.41it/s]"
     ]
    },
    {
     "name": "stdout",
     "output_type": "stream",
     "text": [
      "Epoch: 5, train_loss: 0.558756947517395, valid_loss: 0.5427280068397522\n"
     ]
    },
    {
     "name": "stderr",
     "output_type": "stream",
     "text": [
      "100%|██████████| 231/231 [00:04<00:00, 56.80it/s]\n",
      "100%|██████████| 33/33 [00:00<00:00, 172.29it/s]\n",
      "  3%|▎         | 6/231 [00:00<00:03, 59.95it/s]"
     ]
    },
    {
     "name": "stdout",
     "output_type": "stream",
     "text": [
      "Epoch: 6, train_loss: 0.5563456416130066, valid_loss: 0.5406725406646729\n"
     ]
    },
    {
     "name": "stderr",
     "output_type": "stream",
     "text": [
      "100%|██████████| 231/231 [00:04<00:00, 55.83it/s]\n",
      "100%|██████████| 33/33 [00:00<00:00, 165.17it/s]\n",
      "  3%|▎         | 6/231 [00:00<00:03, 59.55it/s]"
     ]
    },
    {
     "name": "stdout",
     "output_type": "stream",
     "text": [
      "val loss increased, patience count:  1\n",
      "Epoch: 7, train_loss: 0.5503429174423218, valid_loss: 0.5440128445625305\n"
     ]
    },
    {
     "name": "stderr",
     "output_type": "stream",
     "text": [
      "100%|██████████| 231/231 [00:04<00:00, 56.48it/s]\n",
      "100%|██████████| 33/33 [00:00<00:00, 167.97it/s]\n",
      "  3%|▎         | 6/231 [00:00<00:03, 58.36it/s]"
     ]
    },
    {
     "name": "stdout",
     "output_type": "stream",
     "text": [
      "Epoch: 8, train_loss: 0.5493940114974976, valid_loss: 0.5401792526245117\n"
     ]
    },
    {
     "name": "stderr",
     "output_type": "stream",
     "text": [
      "100%|██████████| 231/231 [00:04<00:00, 56.13it/s]\n",
      "100%|██████████| 33/33 [00:00<00:00, 164.50it/s]\n",
      "  3%|▎         | 6/231 [00:00<00:03, 57.52it/s]"
     ]
    },
    {
     "name": "stdout",
     "output_type": "stream",
     "text": [
      "Epoch: 9, train_loss: 0.5481700897216797, valid_loss: 0.5398396253585815\n"
     ]
    },
    {
     "name": "stderr",
     "output_type": "stream",
     "text": [
      "100%|██████████| 231/231 [00:04<00:00, 56.85it/s]\n",
      "100%|██████████| 33/33 [00:00<00:00, 175.20it/s]\n",
      "  3%|▎         | 6/231 [00:00<00:04, 55.26it/s]"
     ]
    },
    {
     "name": "stdout",
     "output_type": "stream",
     "text": [
      "Epoch: 10, train_loss: 0.5436273813247681, valid_loss: 0.5370172262191772\n"
     ]
    },
    {
     "name": "stderr",
     "output_type": "stream",
     "text": [
      "100%|██████████| 231/231 [00:04<00:00, 56.42it/s]\n",
      "100%|██████████| 33/33 [00:00<00:00, 154.79it/s]\n",
      "  3%|▎         | 6/231 [00:00<00:03, 59.33it/s]"
     ]
    },
    {
     "name": "stdout",
     "output_type": "stream",
     "text": [
      "val loss increased, patience count:  1\n",
      "Epoch: 11, train_loss: 0.5412746667861938, valid_loss: 0.5440682172775269\n"
     ]
    },
    {
     "name": "stderr",
     "output_type": "stream",
     "text": [
      "100%|██████████| 231/231 [00:04<00:00, 57.10it/s]\n",
      "100%|██████████| 33/33 [00:00<00:00, 155.12it/s]\n",
      "  3%|▎         | 6/231 [00:00<00:03, 58.73it/s]"
     ]
    },
    {
     "name": "stdout",
     "output_type": "stream",
     "text": [
      "val loss increased, patience count:  2\n",
      "Epoch: 12, train_loss: 0.5406754612922668, valid_loss: 0.5371547341346741\n"
     ]
    },
    {
     "name": "stderr",
     "output_type": "stream",
     "text": [
      "100%|██████████| 231/231 [00:04<00:00, 56.76it/s]\n",
      "100%|██████████| 33/33 [00:00<00:00, 168.69it/s]\n",
      "  3%|▎         | 6/231 [00:00<00:03, 56.91it/s]"
     ]
    },
    {
     "name": "stdout",
     "output_type": "stream",
     "text": [
      "Epoch: 13, train_loss: 0.5394233465194702, valid_loss: 0.536974310874939\n"
     ]
    },
    {
     "name": "stderr",
     "output_type": "stream",
     "text": [
      "100%|██████████| 231/231 [00:04<00:00, 56.24it/s]\n",
      "100%|██████████| 33/33 [00:00<00:00, 174.89it/s]\n",
      "  3%|▎         | 6/231 [00:00<00:03, 56.76it/s]"
     ]
    },
    {
     "name": "stdout",
     "output_type": "stream",
     "text": [
      "val loss increased, patience count:  1\n",
      "Epoch: 14, train_loss: 0.5394868850708008, valid_loss: 0.5402976870536804\n"
     ]
    },
    {
     "name": "stderr",
     "output_type": "stream",
     "text": [
      "100%|██████████| 231/231 [00:04<00:00, 57.40it/s]\n",
      "100%|██████████| 33/33 [00:00<00:00, 170.36it/s]\n",
      "  3%|▎         | 6/231 [00:00<00:04, 53.61it/s]"
     ]
    },
    {
     "name": "stdout",
     "output_type": "stream",
     "text": [
      "val loss increased, patience count:  2\n",
      "Epoch: 15, train_loss: 0.5356988906860352, valid_loss: 0.5377758145332336\n"
     ]
    },
    {
     "name": "stderr",
     "output_type": "stream",
     "text": [
      "100%|██████████| 231/231 [00:04<00:00, 55.77it/s]\n",
      "100%|██████████| 33/33 [00:00<00:00, 163.20it/s]\n",
      "  3%|▎         | 6/231 [00:00<00:03, 58.09it/s]"
     ]
    },
    {
     "name": "stdout",
     "output_type": "stream",
     "text": [
      "Epoch: 16, train_loss: 0.5363389849662781, valid_loss: 0.5344551801681519\n"
     ]
    },
    {
     "name": "stderr",
     "output_type": "stream",
     "text": [
      "100%|██████████| 231/231 [00:04<00:00, 56.26it/s]\n",
      "100%|██████████| 33/33 [00:00<00:00, 170.90it/s]\n",
      "  3%|▎         | 6/231 [00:00<00:04, 55.20it/s]"
     ]
    },
    {
     "name": "stdout",
     "output_type": "stream",
     "text": [
      "Epoch: 17, train_loss: 0.5319109559059143, valid_loss: 0.5343049168586731\n"
     ]
    },
    {
     "name": "stderr",
     "output_type": "stream",
     "text": [
      "100%|██████████| 231/231 [00:04<00:00, 55.27it/s]\n",
      "100%|██████████| 33/33 [00:00<00:00, 172.69it/s]\n",
      "  3%|▎         | 6/231 [00:00<00:04, 51.31it/s]"
     ]
    },
    {
     "name": "stdout",
     "output_type": "stream",
     "text": [
      "val loss increased, patience count:  1\n",
      "Epoch: 18, train_loss: 0.5324283242225647, valid_loss: 0.536441445350647\n"
     ]
    },
    {
     "name": "stderr",
     "output_type": "stream",
     "text": [
      "100%|██████████| 231/231 [00:04<00:00, 54.91it/s]\n",
      "100%|██████████| 33/33 [00:00<00:00, 163.44it/s]\n",
      "  0%|          | 0/57 [00:00<?, ?it/s]"
     ]
    },
    {
     "name": "stdout",
     "output_type": "stream",
     "text": [
      "Epoch: 19, train_loss: 0.5307326912879944, valid_loss: 0.5328876972198486\n",
      "{'BATCH_SIZE': 256, 'EPOCHS': 50, 'OPTIMIZER': <class 'torch.optim.adam.Adam'>, 'LEARNING_RATE': 0.005, 'LOSS': CrossEntropyLoss(), 'EARLY_STOPPING': True, 'PATIENCE': 4, 'MIN_DELTA': 5e-05, 'HIDDEN_DEPTH': 2, 'HIDDEN_SIZES': array([16, 32]), 'KERNEL_SIZES': array([5, 5]), 'MAXPOOL': 2, 'FC_DEPTH': 1, 'FC_SIZES': array([64]), 'DROPOUT': 0.6}\n"
     ]
    },
    {
     "name": "stderr",
     "output_type": "stream",
     "text": [
      "100%|██████████| 57/57 [00:01<00:00, 34.43it/s]\n",
      "100%|██████████| 8/8 [00:00<00:00, 61.24it/s]\n",
      "  7%|▋         | 4/57 [00:00<00:01, 31.84it/s]"
     ]
    },
    {
     "name": "stdout",
     "output_type": "stream",
     "text": [
      "Epoch: 0, train_loss: 0.6072251796722412, valid_loss: 0.5621955394744873\n"
     ]
    },
    {
     "name": "stderr",
     "output_type": "stream",
     "text": [
      "100%|██████████| 57/57 [00:01<00:00, 33.24it/s]\n",
      "100%|██████████| 8/8 [00:00<00:00, 62.96it/s]\n",
      "  7%|▋         | 4/57 [00:00<00:01, 35.34it/s]"
     ]
    },
    {
     "name": "stdout",
     "output_type": "stream",
     "text": [
      "Epoch: 1, train_loss: 0.5613922476768494, valid_loss: 0.552712082862854\n"
     ]
    },
    {
     "name": "stderr",
     "output_type": "stream",
     "text": [
      "100%|██████████| 57/57 [00:01<00:00, 34.02it/s]\n",
      "100%|██████████| 8/8 [00:00<00:00, 62.90it/s]\n",
      "  7%|▋         | 4/57 [00:00<00:01, 33.88it/s]"
     ]
    },
    {
     "name": "stdout",
     "output_type": "stream",
     "text": [
      "Epoch: 2, train_loss: 0.5618969202041626, valid_loss: 0.5384879112243652\n"
     ]
    },
    {
     "name": "stderr",
     "output_type": "stream",
     "text": [
      "100%|██████████| 57/57 [00:01<00:00, 33.61it/s]\n",
      "100%|██████████| 8/8 [00:00<00:00, 60.65it/s]\n",
      "  7%|▋         | 4/57 [00:00<00:01, 34.47it/s]"
     ]
    },
    {
     "name": "stdout",
     "output_type": "stream",
     "text": [
      "Epoch: 3, train_loss: 0.5528768301010132, valid_loss: 0.5339319109916687\n"
     ]
    },
    {
     "name": "stderr",
     "output_type": "stream",
     "text": [
      "100%|██████████| 57/57 [00:01<00:00, 33.29it/s]\n",
      "100%|██████████| 8/8 [00:00<00:00, 43.22it/s]\n",
      "  7%|▋         | 4/57 [00:00<00:01, 33.83it/s]"
     ]
    },
    {
     "name": "stdout",
     "output_type": "stream",
     "text": [
      "val loss increased, patience count:  1\n",
      "Epoch: 4, train_loss: 0.5454877018928528, valid_loss: 0.549136221408844\n"
     ]
    },
    {
     "name": "stderr",
     "output_type": "stream",
     "text": [
      "100%|██████████| 57/57 [00:01<00:00, 33.87it/s]\n",
      "100%|██████████| 8/8 [00:00<00:00, 62.50it/s]\n",
      "  7%|▋         | 4/57 [00:00<00:01, 34.30it/s]"
     ]
    },
    {
     "name": "stdout",
     "output_type": "stream",
     "text": [
      "val loss increased, patience count:  2\n",
      "Epoch: 5, train_loss: 0.5386199355125427, valid_loss: 0.545060396194458\n"
     ]
    },
    {
     "name": "stderr",
     "output_type": "stream",
     "text": [
      "100%|██████████| 57/57 [00:01<00:00, 33.32it/s]\n",
      "100%|██████████| 8/8 [00:00<00:00, 62.41it/s]\n",
      "  7%|▋         | 4/57 [00:00<00:01, 33.48it/s]"
     ]
    },
    {
     "name": "stdout",
     "output_type": "stream",
     "text": [
      "val loss increased, patience count:  3\n",
      "Epoch: 6, train_loss: 0.5370635986328125, valid_loss: 0.5461103916168213\n"
     ]
    },
    {
     "name": "stderr",
     "output_type": "stream",
     "text": [
      "100%|██████████| 57/57 [00:01<00:00, 34.02it/s]\n",
      "100%|██████████| 8/8 [00:00<00:00, 58.71it/s]\n",
      "  7%|▋         | 4/57 [00:00<00:01, 35.52it/s]"
     ]
    },
    {
     "name": "stdout",
     "output_type": "stream",
     "text": [
      "val loss increased, patience count:  4\n",
      "Epoch: 7, train_loss: 0.5324434638023376, valid_loss: 0.5493249297142029\n"
     ]
    },
    {
     "name": "stderr",
     "output_type": "stream",
     "text": [
      "100%|██████████| 57/57 [00:01<00:00, 33.91it/s]\n",
      "100%|██████████| 8/8 [00:00<00:00, 67.46it/s]\n",
      "  7%|▋         | 4/57 [00:00<00:01, 33.07it/s]"
     ]
    },
    {
     "name": "stdout",
     "output_type": "stream",
     "text": [
      "Epoch: 8, train_loss: 0.5293454527854919, valid_loss: 0.5316479206085205\n"
     ]
    },
    {
     "name": "stderr",
     "output_type": "stream",
     "text": [
      "100%|██████████| 57/57 [00:01<00:00, 33.64it/s]\n",
      "100%|██████████| 8/8 [00:00<00:00, 59.91it/s]\n",
      "  7%|▋         | 4/57 [00:00<00:01, 33.98it/s]"
     ]
    },
    {
     "name": "stdout",
     "output_type": "stream",
     "text": [
      "val loss increased, patience count:  1\n",
      "Epoch: 9, train_loss: 0.5307967662811279, valid_loss: 0.5362939834594727\n"
     ]
    },
    {
     "name": "stderr",
     "output_type": "stream",
     "text": [
      "100%|██████████| 57/57 [00:01<00:00, 33.36it/s]\n",
      "100%|██████████| 8/8 [00:00<00:00, 61.99it/s]\n",
      "  7%|▋         | 4/57 [00:00<00:01, 32.30it/s]"
     ]
    },
    {
     "name": "stdout",
     "output_type": "stream",
     "text": [
      "val loss increased, patience count:  2\n",
      "Epoch: 10, train_loss: 0.5236108899116516, valid_loss: 0.5430266261100769\n"
     ]
    },
    {
     "name": "stderr",
     "output_type": "stream",
     "text": [
      "100%|██████████| 57/57 [00:01<00:00, 33.46it/s]\n",
      "100%|██████████| 8/8 [00:00<00:00, 41.21it/s]\n",
      "  7%|▋         | 4/57 [00:00<00:01, 36.11it/s]"
     ]
    },
    {
     "name": "stdout",
     "output_type": "stream",
     "text": [
      "Epoch: 11, train_loss: 0.5193326473236084, valid_loss: 0.5289150476455688\n"
     ]
    },
    {
     "name": "stderr",
     "output_type": "stream",
     "text": [
      "100%|██████████| 57/57 [00:01<00:00, 34.06it/s]\n",
      "100%|██████████| 8/8 [00:00<00:00, 65.99it/s]\n",
      "  5%|▌         | 3/57 [00:00<00:01, 29.72it/s]"
     ]
    },
    {
     "name": "stdout",
     "output_type": "stream",
     "text": [
      "val loss increased, patience count:  1\n",
      "Epoch: 12, train_loss: 0.5184168815612793, valid_loss: 0.5443433523178101\n"
     ]
    },
    {
     "name": "stderr",
     "output_type": "stream",
     "text": [
      "100%|██████████| 57/57 [00:01<00:00, 33.09it/s]\n",
      "100%|██████████| 8/8 [00:00<00:00, 57.36it/s]\n",
      "  7%|▋         | 4/57 [00:00<00:01, 32.46it/s]"
     ]
    },
    {
     "name": "stdout",
     "output_type": "stream",
     "text": [
      "val loss increased, patience count:  2\n",
      "Epoch: 13, train_loss: 0.5145995020866394, valid_loss: 0.5319655537605286\n"
     ]
    },
    {
     "name": "stderr",
     "output_type": "stream",
     "text": [
      "100%|██████████| 57/57 [00:01<00:00, 33.84it/s]\n",
      "100%|██████████| 8/8 [00:00<00:00, 60.74it/s]\n",
      "  7%|▋         | 4/57 [00:00<00:01, 33.57it/s]"
     ]
    },
    {
     "name": "stdout",
     "output_type": "stream",
     "text": [
      "val loss increased, patience count:  3\n",
      "Epoch: 14, train_loss: 0.5216845870018005, valid_loss: 0.5434044599533081\n"
     ]
    },
    {
     "name": "stderr",
     "output_type": "stream",
     "text": [
      "100%|██████████| 57/57 [00:01<00:00, 33.88it/s]\n",
      "100%|██████████| 8/8 [00:00<00:00, 63.24it/s]\n",
      "  7%|▋         | 4/57 [00:00<00:01, 33.12it/s]"
     ]
    },
    {
     "name": "stdout",
     "output_type": "stream",
     "text": [
      "val loss increased, patience count:  4\n",
      "Epoch: 15, train_loss: 0.5135834217071533, valid_loss: 0.5406532883644104\n"
     ]
    },
    {
     "name": "stderr",
     "output_type": "stream",
     "text": [
      "100%|██████████| 57/57 [00:01<00:00, 33.18it/s]\n",
      "100%|██████████| 8/8 [00:00<00:00, 63.19it/s]\n",
      "  1%|          | 3/308 [00:00<00:10, 29.89it/s]"
     ]
    },
    {
     "name": "stdout",
     "output_type": "stream",
     "text": [
      "Early stopped at Epoch:  16\n",
      "{'BATCH_SIZE': 48, 'EPOCHS': 20, 'OPTIMIZER': <class 'torch.optim.adam.Adam'>, 'LEARNING_RATE': 0.0001, 'LOSS': CrossEntropyLoss(), 'EARLY_STOPPING': False, 'PATIENCE': 5, 'MIN_DELTA': 0.001, 'HIDDEN_DEPTH': 2, 'HIDDEN_SIZES': array([ 64, 128]), 'KERNEL_SIZES': array([9, 7]), 'MAXPOOL': 2, 'FC_DEPTH': 1, 'FC_SIZES': array([512]), 'DROPOUT': 0.7}\n"
     ]
    },
    {
     "name": "stderr",
     "output_type": "stream",
     "text": [
      "100%|██████████| 308/308 [00:10<00:00, 29.69it/s]\n",
      "100%|██████████| 44/44 [00:00<00:00, 114.76it/s]\n",
      "  1%|          | 3/308 [00:00<00:10, 29.70it/s]"
     ]
    },
    {
     "name": "stdout",
     "output_type": "stream",
     "text": [
      "Epoch: 0, train_loss: 0.6097143888473511, valid_loss: 0.5777422189712524\n"
     ]
    },
    {
     "name": "stderr",
     "output_type": "stream",
     "text": [
      "100%|██████████| 308/308 [00:10<00:00, 28.85it/s]\n",
      "100%|██████████| 44/44 [00:00<00:00, 91.59it/s]\n",
      "  1%|          | 3/308 [00:00<00:11, 27.40it/s]"
     ]
    },
    {
     "name": "stdout",
     "output_type": "stream",
     "text": [
      "Epoch: 1, train_loss: 0.5683158040046692, valid_loss: 0.5447871685028076\n"
     ]
    },
    {
     "name": "stderr",
     "output_type": "stream",
     "text": [
      "100%|██████████| 308/308 [00:10<00:00, 29.26it/s]\n",
      "100%|██████████| 44/44 [00:00<00:00, 115.13it/s]\n",
      "  1%|▏         | 4/308 [00:00<00:09, 32.19it/s]"
     ]
    },
    {
     "name": "stdout",
     "output_type": "stream",
     "text": [
      "Epoch: 2, train_loss: 0.5562798380851746, valid_loss: 0.5571900606155396\n"
     ]
    },
    {
     "name": "stderr",
     "output_type": "stream",
     "text": [
      "100%|██████████| 308/308 [00:10<00:00, 29.84it/s]\n",
      "100%|██████████| 44/44 [00:00<00:00, 104.10it/s]\n",
      "  1%|▏         | 4/308 [00:00<00:09, 30.62it/s]"
     ]
    },
    {
     "name": "stdout",
     "output_type": "stream",
     "text": [
      "Epoch: 3, train_loss: 0.5472492575645447, valid_loss: 0.5431652665138245\n"
     ]
    },
    {
     "name": "stderr",
     "output_type": "stream",
     "text": [
      "100%|██████████| 308/308 [00:10<00:00, 29.87it/s]\n",
      "100%|██████████| 44/44 [00:00<00:00, 97.43it/s]\n",
      "  1%|          | 3/308 [00:00<00:10, 29.04it/s]"
     ]
    },
    {
     "name": "stdout",
     "output_type": "stream",
     "text": [
      "Epoch: 4, train_loss: 0.5411542057991028, valid_loss: 0.5339221358299255\n"
     ]
    },
    {
     "name": "stderr",
     "output_type": "stream",
     "text": [
      "100%|██████████| 308/308 [00:10<00:00, 29.86it/s]\n",
      "100%|██████████| 44/44 [00:00<00:00, 108.31it/s]\n",
      "  1%|▏         | 4/308 [00:00<00:10, 29.90it/s]"
     ]
    },
    {
     "name": "stdout",
     "output_type": "stream",
     "text": [
      "Epoch: 5, train_loss: 0.5363684296607971, valid_loss: 0.5282284021377563\n"
     ]
    },
    {
     "name": "stderr",
     "output_type": "stream",
     "text": [
      "100%|██████████| 308/308 [00:10<00:00, 29.84it/s]\n",
      "100%|██████████| 44/44 [00:00<00:00, 103.51it/s]\n",
      "  1%|▏         | 4/308 [00:00<00:09, 31.81it/s]"
     ]
    },
    {
     "name": "stdout",
     "output_type": "stream",
     "text": [
      "Epoch: 6, train_loss: 0.5339205861091614, valid_loss: 0.5274002552032471\n"
     ]
    },
    {
     "name": "stderr",
     "output_type": "stream",
     "text": [
      "100%|██████████| 308/308 [00:10<00:00, 28.68it/s]\n",
      "100%|██████████| 44/44 [00:00<00:00, 86.59it/s]\n",
      "  1%|          | 3/308 [00:00<00:11, 27.65it/s]"
     ]
    },
    {
     "name": "stdout",
     "output_type": "stream",
     "text": [
      "Epoch: 7, train_loss: 0.5301474928855896, valid_loss: 0.5291295051574707\n"
     ]
    },
    {
     "name": "stderr",
     "output_type": "stream",
     "text": [
      "100%|██████████| 308/308 [00:11<00:00, 27.09it/s]\n",
      "100%|██████████| 44/44 [00:00<00:00, 97.75it/s]\n",
      "  1%|          | 3/308 [00:00<00:10, 27.90it/s]"
     ]
    },
    {
     "name": "stdout",
     "output_type": "stream",
     "text": [
      "Epoch: 8, train_loss: 0.5249431729316711, valid_loss: 0.5277052521705627\n"
     ]
    },
    {
     "name": "stderr",
     "output_type": "stream",
     "text": [
      "100%|██████████| 308/308 [00:11<00:00, 26.30it/s]\n",
      "100%|██████████| 44/44 [00:00<00:00, 95.48it/s]\n",
      "  1%|          | 3/308 [00:00<00:10, 28.87it/s]"
     ]
    },
    {
     "name": "stdout",
     "output_type": "stream",
     "text": [
      "Epoch: 9, train_loss: 0.5231727361679077, valid_loss: 0.5275196433067322\n"
     ]
    },
    {
     "name": "stderr",
     "output_type": "stream",
     "text": [
      "100%|██████████| 308/308 [00:10<00:00, 28.39it/s]\n",
      "100%|██████████| 44/44 [00:00<00:00, 103.09it/s]\n",
      "  1%|          | 3/308 [00:00<00:10, 29.57it/s]"
     ]
    },
    {
     "name": "stdout",
     "output_type": "stream",
     "text": [
      "Epoch: 10, train_loss: 0.5198557376861572, valid_loss: 0.5291905999183655\n"
     ]
    },
    {
     "name": "stderr",
     "output_type": "stream",
     "text": [
      "100%|██████████| 308/308 [00:10<00:00, 29.19it/s]\n",
      "100%|██████████| 44/44 [00:00<00:00, 101.79it/s]\n",
      "  1%|▏         | 4/308 [00:00<00:09, 30.48it/s]"
     ]
    },
    {
     "name": "stdout",
     "output_type": "stream",
     "text": [
      "Epoch: 11, train_loss: 0.5185062289237976, valid_loss: 0.5365322828292847\n"
     ]
    },
    {
     "name": "stderr",
     "output_type": "stream",
     "text": [
      "100%|██████████| 308/308 [00:10<00:00, 29.03it/s]\n",
      "100%|██████████| 44/44 [00:00<00:00, 100.29it/s]\n",
      "  1%|▏         | 4/308 [00:00<00:09, 30.58it/s]"
     ]
    },
    {
     "name": "stdout",
     "output_type": "stream",
     "text": [
      "Epoch: 12, train_loss: 0.5139399170875549, valid_loss: 0.5307283997535706\n"
     ]
    },
    {
     "name": "stderr",
     "output_type": "stream",
     "text": [
      "100%|██████████| 308/308 [00:10<00:00, 29.24it/s]\n",
      "100%|██████████| 44/44 [00:00<00:00, 108.87it/s]\n",
      "  1%|▏         | 4/308 [00:00<00:09, 30.42it/s]"
     ]
    },
    {
     "name": "stdout",
     "output_type": "stream",
     "text": [
      "Epoch: 13, train_loss: 0.5109266042709351, valid_loss: 0.5287585258483887\n"
     ]
    },
    {
     "name": "stderr",
     "output_type": "stream",
     "text": [
      "100%|██████████| 308/308 [00:10<00:00, 29.24it/s]\n",
      "100%|██████████| 44/44 [00:00<00:00, 95.52it/s]\n",
      "  1%|▏         | 4/308 [00:00<00:09, 30.71it/s]"
     ]
    },
    {
     "name": "stdout",
     "output_type": "stream",
     "text": [
      "Epoch: 14, train_loss: 0.5066086649894714, valid_loss: 0.524340808391571\n"
     ]
    },
    {
     "name": "stderr",
     "output_type": "stream",
     "text": [
      "100%|██████████| 308/308 [00:10<00:00, 29.28it/s]\n",
      "100%|██████████| 44/44 [00:00<00:00, 105.58it/s]\n",
      "  1%|          | 3/308 [00:00<00:10, 28.51it/s]"
     ]
    },
    {
     "name": "stdout",
     "output_type": "stream",
     "text": [
      "Epoch: 15, train_loss: 0.5016604065895081, valid_loss: 0.5257983803749084\n"
     ]
    },
    {
     "name": "stderr",
     "output_type": "stream",
     "text": [
      "100%|██████████| 308/308 [00:10<00:00, 29.00it/s]\n",
      "100%|██████████| 44/44 [00:00<00:00, 99.87it/s]\n",
      "  1%|          | 3/308 [00:00<00:10, 28.89it/s]"
     ]
    },
    {
     "name": "stdout",
     "output_type": "stream",
     "text": [
      "Epoch: 16, train_loss: 0.49685633182525635, valid_loss: 0.5316013693809509\n"
     ]
    },
    {
     "name": "stderr",
     "output_type": "stream",
     "text": [
      "100%|██████████| 308/308 [00:10<00:00, 29.44it/s]\n",
      "100%|██████████| 44/44 [00:00<00:00, 98.99it/s]\n",
      "  1%|          | 3/308 [00:00<00:10, 28.90it/s]"
     ]
    },
    {
     "name": "stdout",
     "output_type": "stream",
     "text": [
      "Epoch: 17, train_loss: 0.49375587701797485, valid_loss: 0.5264720916748047\n"
     ]
    },
    {
     "name": "stderr",
     "output_type": "stream",
     "text": [
      "100%|██████████| 308/308 [00:10<00:00, 29.11it/s]\n",
      "100%|██████████| 44/44 [00:00<00:00, 105.79it/s]\n",
      "  1%|▏         | 4/308 [00:00<00:09, 31.45it/s]"
     ]
    },
    {
     "name": "stdout",
     "output_type": "stream",
     "text": [
      "Epoch: 18, train_loss: 0.49015921354293823, valid_loss: 0.5373885035514832\n"
     ]
    },
    {
     "name": "stderr",
     "output_type": "stream",
     "text": [
      "100%|██████████| 308/308 [00:10<00:00, 29.30it/s]\n",
      "100%|██████████| 44/44 [00:00<00:00, 103.18it/s]\n"
     ]
    },
    {
     "name": "stdout",
     "output_type": "stream",
     "text": [
      "Epoch: 19, train_loss: 0.48551663756370544, valid_loss: 0.5321776866912842\n"
     ]
    },
    {
     "name": "stderr",
     "output_type": "stream",
     "text": [
      "  2%|▏         | 1/57 [00:00<00:09,  5.62it/s]"
     ]
    },
    {
     "name": "stdout",
     "output_type": "stream",
     "text": [
      "{'BATCH_SIZE': 256, 'EPOCHS': 40, 'OPTIMIZER': <class 'torch.optim.adam.Adam'>, 'LEARNING_RATE': 1e-05, 'LOSS': CrossEntropyLoss(), 'EARLY_STOPPING': False, 'PATIENCE': 4, 'MIN_DELTA': 0.005, 'HIDDEN_DEPTH': 2, 'HIDDEN_SIZES': array([128, 256]), 'KERNEL_SIZES': array([7, 5]), 'MAXPOOL': 2, 'FC_DEPTH': 1, 'FC_SIZES': array([256]), 'DROPOUT': 0.1}\n"
     ]
    },
    {
     "name": "stderr",
     "output_type": "stream",
     "text": [
      "100%|██████████| 57/57 [00:10<00:00,  5.44it/s]\n",
      "100%|██████████| 8/8 [00:00<00:00, 17.47it/s]\n",
      "  2%|▏         | 1/57 [00:00<00:09,  6.02it/s]"
     ]
    },
    {
     "name": "stdout",
     "output_type": "stream",
     "text": [
      "Epoch: 0, train_loss: 0.6902344226837158, valid_loss: 0.6856168508529663\n"
     ]
    },
    {
     "name": "stderr",
     "output_type": "stream",
     "text": [
      "100%|██████████| 57/57 [00:10<00:00,  5.43it/s]\n",
      "100%|██████████| 8/8 [00:00<00:00, 16.59it/s]\n",
      "  2%|▏         | 1/57 [00:00<00:09,  6.01it/s]"
     ]
    },
    {
     "name": "stdout",
     "output_type": "stream",
     "text": [
      "Epoch: 1, train_loss: 0.6797506213188171, valid_loss: 0.6691548824310303\n"
     ]
    },
    {
     "name": "stderr",
     "output_type": "stream",
     "text": [
      "100%|██████████| 57/57 [00:10<00:00,  5.45it/s]\n",
      "100%|██████████| 8/8 [00:00<00:00, 18.98it/s]\n",
      "  2%|▏         | 1/57 [00:00<00:09,  5.80it/s]"
     ]
    },
    {
     "name": "stdout",
     "output_type": "stream",
     "text": [
      "Epoch: 2, train_loss: 0.6587821841239929, valid_loss: 0.6377864480018616\n"
     ]
    },
    {
     "name": "stderr",
     "output_type": "stream",
     "text": [
      "100%|██████████| 57/57 [00:10<00:00,  5.39it/s]\n",
      "100%|██████████| 8/8 [00:00<00:00, 17.55it/s]\n",
      "  2%|▏         | 1/57 [00:00<00:09,  5.84it/s]"
     ]
    },
    {
     "name": "stdout",
     "output_type": "stream",
     "text": [
      "Epoch: 3, train_loss: 0.6311416029930115, valid_loss: 0.6103770732879639\n"
     ]
    },
    {
     "name": "stderr",
     "output_type": "stream",
     "text": [
      "100%|██████████| 57/57 [00:10<00:00,  5.45it/s]\n",
      "100%|██████████| 8/8 [00:00<00:00, 16.58it/s]\n",
      "  2%|▏         | 1/57 [00:00<00:10,  5.55it/s]"
     ]
    },
    {
     "name": "stdout",
     "output_type": "stream",
     "text": [
      "Epoch: 4, train_loss: 0.6088016033172607, valid_loss: 0.590758204460144\n"
     ]
    },
    {
     "name": "stderr",
     "output_type": "stream",
     "text": [
      "100%|██████████| 57/57 [00:10<00:00,  5.42it/s]\n",
      "100%|██████████| 8/8 [00:00<00:00, 16.13it/s]\n",
      "  2%|▏         | 1/57 [00:00<00:09,  5.91it/s]"
     ]
    },
    {
     "name": "stdout",
     "output_type": "stream",
     "text": [
      "Epoch: 5, train_loss: 0.5951162576675415, valid_loss: 0.5767717957496643\n"
     ]
    },
    {
     "name": "stderr",
     "output_type": "stream",
     "text": [
      "100%|██████████| 57/57 [00:10<00:00,  5.42it/s]\n",
      "100%|██████████| 8/8 [00:00<00:00, 16.14it/s]\n",
      "  2%|▏         | 1/57 [00:00<00:09,  6.09it/s]"
     ]
    },
    {
     "name": "stdout",
     "output_type": "stream",
     "text": [
      "Epoch: 6, train_loss: 0.5861520767211914, valid_loss: 0.5717231035232544\n"
     ]
    },
    {
     "name": "stderr",
     "output_type": "stream",
     "text": [
      "100%|██████████| 57/57 [00:10<00:00,  5.46it/s]\n",
      "100%|██████████| 8/8 [00:00<00:00, 16.71it/s]\n",
      "  2%|▏         | 1/57 [00:00<00:09,  5.84it/s]"
     ]
    },
    {
     "name": "stdout",
     "output_type": "stream",
     "text": [
      "Epoch: 7, train_loss: 0.5817466974258423, valid_loss: 0.5681066513061523\n"
     ]
    },
    {
     "name": "stderr",
     "output_type": "stream",
     "text": [
      "100%|██████████| 57/57 [00:10<00:00,  5.38it/s]\n",
      "100%|██████████| 8/8 [00:00<00:00, 16.67it/s]\n",
      "  2%|▏         | 1/57 [00:00<00:09,  5.77it/s]"
     ]
    },
    {
     "name": "stdout",
     "output_type": "stream",
     "text": [
      "Epoch: 8, train_loss: 0.5764781832695007, valid_loss: 0.5608300566673279\n"
     ]
    },
    {
     "name": "stderr",
     "output_type": "stream",
     "text": [
      "100%|██████████| 57/57 [00:10<00:00,  5.41it/s]\n",
      "100%|██████████| 8/8 [00:00<00:00, 16.41it/s]\n",
      "  2%|▏         | 1/57 [00:00<00:09,  5.78it/s]"
     ]
    },
    {
     "name": "stdout",
     "output_type": "stream",
     "text": [
      "Epoch: 9, train_loss: 0.5734579563140869, valid_loss: 0.5566327571868896\n"
     ]
    },
    {
     "name": "stderr",
     "output_type": "stream",
     "text": [
      "100%|██████████| 57/57 [00:10<00:00,  5.42it/s]\n",
      "100%|██████████| 8/8 [00:00<00:00, 16.34it/s]\n",
      "  2%|▏         | 1/57 [00:00<00:08,  6.22it/s]"
     ]
    },
    {
     "name": "stdout",
     "output_type": "stream",
     "text": [
      "Epoch: 10, train_loss: 0.5721588730812073, valid_loss: 0.5573661923408508\n"
     ]
    },
    {
     "name": "stderr",
     "output_type": "stream",
     "text": [
      "100%|██████████| 57/57 [00:10<00:00,  5.36it/s]\n",
      "100%|██████████| 8/8 [00:00<00:00, 16.29it/s]\n",
      "  0%|          | 0/57 [00:00<?, ?it/s]"
     ]
    },
    {
     "name": "stdout",
     "output_type": "stream",
     "text": [
      "Epoch: 11, train_loss: 0.5677139163017273, valid_loss: 0.5544458627700806\n"
     ]
    },
    {
     "name": "stderr",
     "output_type": "stream",
     "text": [
      "100%|██████████| 57/57 [00:10<00:00,  5.31it/s]\n",
      "100%|██████████| 8/8 [00:00<00:00, 17.80it/s]\n",
      "  2%|▏         | 1/57 [00:00<00:09,  5.83it/s]"
     ]
    },
    {
     "name": "stdout",
     "output_type": "stream",
     "text": [
      "Epoch: 12, train_loss: 0.567823052406311, valid_loss: 0.5547259449958801\n"
     ]
    },
    {
     "name": "stderr",
     "output_type": "stream",
     "text": [
      "100%|██████████| 57/57 [00:11<00:00,  4.97it/s]\n",
      "100%|██████████| 8/8 [00:00<00:00, 14.18it/s]\n",
      "  0%|          | 0/57 [00:00<?, ?it/s]"
     ]
    },
    {
     "name": "stdout",
     "output_type": "stream",
     "text": [
      "Epoch: 13, train_loss: 0.5633913278579712, valid_loss: 0.5547739267349243\n"
     ]
    },
    {
     "name": "stderr",
     "output_type": "stream",
     "text": [
      "100%|██████████| 57/57 [00:11<00:00,  4.96it/s]\n",
      "100%|██████████| 8/8 [00:00<00:00, 15.20it/s]\n",
      "  2%|▏         | 1/57 [00:00<00:10,  5.20it/s]"
     ]
    },
    {
     "name": "stdout",
     "output_type": "stream",
     "text": [
      "Epoch: 14, train_loss: 0.5619086027145386, valid_loss: 0.5531874895095825\n"
     ]
    },
    {
     "name": "stderr",
     "output_type": "stream",
     "text": [
      "100%|██████████| 57/57 [00:11<00:00,  5.16it/s]\n",
      "100%|██████████| 8/8 [00:00<00:00, 13.74it/s]\n",
      "  2%|▏         | 1/57 [00:00<00:10,  5.38it/s]"
     ]
    },
    {
     "name": "stdout",
     "output_type": "stream",
     "text": [
      "Epoch: 15, train_loss: 0.5613320469856262, valid_loss: 0.5478647947311401\n"
     ]
    },
    {
     "name": "stderr",
     "output_type": "stream",
     "text": [
      "100%|██████████| 57/57 [00:11<00:00,  5.08it/s]\n",
      "100%|██████████| 8/8 [00:00<00:00, 14.05it/s]\n",
      "  2%|▏         | 1/57 [00:00<00:09,  5.95it/s]"
     ]
    },
    {
     "name": "stdout",
     "output_type": "stream",
     "text": [
      "Epoch: 16, train_loss: 0.5587635636329651, valid_loss: 0.5516157150268555\n"
     ]
    },
    {
     "name": "stderr",
     "output_type": "stream",
     "text": [
      "100%|██████████| 57/57 [00:10<00:00,  5.26it/s]\n",
      "100%|██████████| 8/8 [00:00<00:00, 15.99it/s]\n",
      "  2%|▏         | 1/57 [00:00<00:10,  5.60it/s]"
     ]
    },
    {
     "name": "stdout",
     "output_type": "stream",
     "text": [
      "Epoch: 17, train_loss: 0.5596036911010742, valid_loss: 0.5485554933547974\n"
     ]
    },
    {
     "name": "stderr",
     "output_type": "stream",
     "text": [
      "100%|██████████| 57/57 [00:10<00:00,  5.24it/s]\n",
      "100%|██████████| 8/8 [00:00<00:00, 15.95it/s]\n",
      "  2%|▏         | 1/57 [00:00<00:09,  6.11it/s]"
     ]
    },
    {
     "name": "stdout",
     "output_type": "stream",
     "text": [
      "Epoch: 18, train_loss: 0.5573843717575073, valid_loss: 0.5496737957000732\n"
     ]
    },
    {
     "name": "stderr",
     "output_type": "stream",
     "text": [
      "100%|██████████| 57/57 [00:10<00:00,  5.23it/s]\n",
      "100%|██████████| 8/8 [00:00<00:00, 16.50it/s]\n",
      "  2%|▏         | 1/57 [00:00<00:09,  5.96it/s]"
     ]
    },
    {
     "name": "stdout",
     "output_type": "stream",
     "text": [
      "Epoch: 19, train_loss: 0.557204008102417, valid_loss: 0.5468791723251343\n"
     ]
    },
    {
     "name": "stderr",
     "output_type": "stream",
     "text": [
      "100%|██████████| 57/57 [00:10<00:00,  5.37it/s]\n",
      "100%|██████████| 8/8 [00:00<00:00, 14.17it/s]\n",
      "  0%|          | 0/57 [00:00<?, ?it/s]"
     ]
    },
    {
     "name": "stdout",
     "output_type": "stream",
     "text": [
      "Epoch: 20, train_loss: 0.5540515780448914, valid_loss: 0.5486737489700317\n"
     ]
    },
    {
     "name": "stderr",
     "output_type": "stream",
     "text": [
      "100%|██████████| 57/57 [00:11<00:00,  5.01it/s]\n",
      "100%|██████████| 8/8 [00:00<00:00, 15.44it/s]\n",
      "  2%|▏         | 1/57 [00:00<00:09,  5.60it/s]"
     ]
    },
    {
     "name": "stdout",
     "output_type": "stream",
     "text": [
      "Epoch: 21, train_loss: 0.5530251860618591, valid_loss: 0.5481339693069458\n"
     ]
    },
    {
     "name": "stderr",
     "output_type": "stream",
     "text": [
      "100%|██████████| 57/57 [00:10<00:00,  5.33it/s]\n",
      "100%|██████████| 8/8 [00:00<00:00, 16.59it/s]\n",
      "  2%|▏         | 1/57 [00:00<00:09,  5.93it/s]"
     ]
    },
    {
     "name": "stdout",
     "output_type": "stream",
     "text": [
      "Epoch: 22, train_loss: 0.5521688461303711, valid_loss: 0.5458643436431885\n"
     ]
    },
    {
     "name": "stderr",
     "output_type": "stream",
     "text": [
      "100%|██████████| 57/57 [00:10<00:00,  5.23it/s]\n",
      "100%|██████████| 8/8 [00:00<00:00, 16.17it/s]\n",
      "  2%|▏         | 1/57 [00:00<00:08,  6.61it/s]"
     ]
    },
    {
     "name": "stdout",
     "output_type": "stream",
     "text": [
      "Epoch: 23, train_loss: 0.551729679107666, valid_loss: 0.5447182655334473\n"
     ]
    },
    {
     "name": "stderr",
     "output_type": "stream",
     "text": [
      "100%|██████████| 57/57 [00:10<00:00,  5.21it/s]\n",
      "100%|██████████| 8/8 [00:00<00:00, 15.91it/s]\n",
      "  2%|▏         | 1/57 [00:00<00:09,  6.15it/s]"
     ]
    },
    {
     "name": "stdout",
     "output_type": "stream",
     "text": [
      "Epoch: 24, train_loss: 0.5501881837844849, valid_loss: 0.5443606376647949\n"
     ]
    },
    {
     "name": "stderr",
     "output_type": "stream",
     "text": [
      "100%|██████████| 57/57 [00:10<00:00,  5.30it/s]\n",
      "100%|██████████| 8/8 [00:00<00:00, 14.41it/s]\n",
      "  2%|▏         | 1/57 [00:00<00:09,  6.03it/s]"
     ]
    },
    {
     "name": "stdout",
     "output_type": "stream",
     "text": [
      "Epoch: 25, train_loss: 0.5496945381164551, valid_loss: 0.5406486988067627\n"
     ]
    },
    {
     "name": "stderr",
     "output_type": "stream",
     "text": [
      "100%|██████████| 57/57 [00:10<00:00,  5.34it/s]\n",
      "100%|██████████| 8/8 [00:00<00:00, 16.48it/s]\n",
      "  2%|▏         | 1/57 [00:00<00:10,  5.52it/s]"
     ]
    },
    {
     "name": "stdout",
     "output_type": "stream",
     "text": [
      "Epoch: 26, train_loss: 0.5476621985435486, valid_loss: 0.5421849489212036\n"
     ]
    },
    {
     "name": "stderr",
     "output_type": "stream",
     "text": [
      "100%|██████████| 57/57 [00:10<00:00,  5.31it/s]\n",
      "100%|██████████| 8/8 [00:00<00:00, 15.46it/s]\n",
      "  2%|▏         | 1/57 [00:00<00:10,  5.55it/s]"
     ]
    },
    {
     "name": "stdout",
     "output_type": "stream",
     "text": [
      "Epoch: 27, train_loss: 0.5469200611114502, valid_loss: 0.5425431728363037\n"
     ]
    },
    {
     "name": "stderr",
     "output_type": "stream",
     "text": [
      "100%|██████████| 57/57 [00:11<00:00,  5.03it/s]\n",
      "100%|██████████| 8/8 [00:00<00:00, 17.01it/s]\n",
      "  2%|▏         | 1/57 [00:00<00:10,  5.56it/s]"
     ]
    },
    {
     "name": "stdout",
     "output_type": "stream",
     "text": [
      "Epoch: 28, train_loss: 0.5460670590400696, valid_loss: 0.5433045029640198\n"
     ]
    },
    {
     "name": "stderr",
     "output_type": "stream",
     "text": [
      "100%|██████████| 57/57 [00:11<00:00,  5.11it/s]\n",
      "100%|██████████| 8/8 [00:00<00:00, 14.34it/s]\n",
      "  2%|▏         | 1/57 [00:00<00:10,  5.57it/s]"
     ]
    },
    {
     "name": "stdout",
     "output_type": "stream",
     "text": [
      "Epoch: 29, train_loss: 0.5443353652954102, valid_loss: 0.5464358925819397\n"
     ]
    },
    {
     "name": "stderr",
     "output_type": "stream",
     "text": [
      "100%|██████████| 57/57 [00:12<00:00,  4.71it/s]\n",
      "100%|██████████| 8/8 [00:00<00:00, 10.84it/s]\n",
      "  0%|          | 0/57 [00:00<?, ?it/s]"
     ]
    },
    {
     "name": "stdout",
     "output_type": "stream",
     "text": [
      "Epoch: 30, train_loss: 0.5447017550468445, valid_loss: 0.5398262739181519\n"
     ]
    },
    {
     "name": "stderr",
     "output_type": "stream",
     "text": [
      "100%|██████████| 57/57 [00:11<00:00,  4.76it/s]\n",
      "100%|██████████| 8/8 [00:00<00:00, 14.20it/s]\n",
      "  2%|▏         | 1/57 [00:00<00:10,  5.37it/s]"
     ]
    },
    {
     "name": "stdout",
     "output_type": "stream",
     "text": [
      "Epoch: 31, train_loss: 0.5446944236755371, valid_loss: 0.5420991778373718\n"
     ]
    },
    {
     "name": "stderr",
     "output_type": "stream",
     "text": [
      "100%|██████████| 57/57 [00:12<00:00,  4.52it/s]\n",
      "100%|██████████| 8/8 [00:00<00:00, 13.72it/s]\n",
      "  0%|          | 0/57 [00:00<?, ?it/s]"
     ]
    },
    {
     "name": "stdout",
     "output_type": "stream",
     "text": [
      "Epoch: 32, train_loss: 0.5421695709228516, valid_loss: 0.5482685565948486\n"
     ]
    },
    {
     "name": "stderr",
     "output_type": "stream",
     "text": [
      "100%|██████████| 57/57 [00:12<00:00,  4.63it/s]\n",
      "100%|██████████| 8/8 [00:00<00:00, 14.15it/s]\n",
      "  2%|▏         | 1/57 [00:00<00:10,  5.39it/s]"
     ]
    },
    {
     "name": "stdout",
     "output_type": "stream",
     "text": [
      "Epoch: 33, train_loss: 0.542177140712738, valid_loss: 0.5398135185241699\n"
     ]
    },
    {
     "name": "stderr",
     "output_type": "stream",
     "text": [
      "100%|██████████| 57/57 [00:12<00:00,  4.57it/s]\n",
      "100%|██████████| 8/8 [00:00<00:00, 12.25it/s]\n",
      "  2%|▏         | 1/57 [00:00<00:10,  5.16it/s]"
     ]
    },
    {
     "name": "stdout",
     "output_type": "stream",
     "text": [
      "Epoch: 34, train_loss: 0.5396971702575684, valid_loss: 0.5385160446166992\n"
     ]
    },
    {
     "name": "stderr",
     "output_type": "stream",
     "text": [
      "100%|██████████| 57/57 [00:11<00:00,  4.80it/s]\n",
      "100%|██████████| 8/8 [00:00<00:00, 17.37it/s]\n",
      "  2%|▏         | 1/57 [00:00<00:10,  5.24it/s]"
     ]
    },
    {
     "name": "stdout",
     "output_type": "stream",
     "text": [
      "Epoch: 35, train_loss: 0.540579617023468, valid_loss: 0.5416303873062134\n"
     ]
    },
    {
     "name": "stderr",
     "output_type": "stream",
     "text": [
      "100%|██████████| 57/57 [00:10<00:00,  5.31it/s]\n",
      "100%|██████████| 8/8 [00:00<00:00, 14.70it/s]\n",
      "  2%|▏         | 1/57 [00:00<00:09,  5.77it/s]"
     ]
    },
    {
     "name": "stdout",
     "output_type": "stream",
     "text": [
      "Epoch: 36, train_loss: 0.5393041968345642, valid_loss: 0.5399880409240723\n"
     ]
    },
    {
     "name": "stderr",
     "output_type": "stream",
     "text": [
      "100%|██████████| 57/57 [00:11<00:00,  4.81it/s]\n",
      "100%|██████████| 8/8 [00:00<00:00, 13.56it/s]\n",
      "  0%|          | 0/57 [00:00<?, ?it/s]"
     ]
    },
    {
     "name": "stdout",
     "output_type": "stream",
     "text": [
      "Epoch: 37, train_loss: 0.5391305685043335, valid_loss: 0.5415366291999817\n"
     ]
    },
    {
     "name": "stderr",
     "output_type": "stream",
     "text": [
      "100%|██████████| 57/57 [00:11<00:00,  5.09it/s]\n",
      "100%|██████████| 8/8 [00:00<00:00, 17.88it/s]\n",
      "  2%|▏         | 1/57 [00:00<00:09,  6.06it/s]"
     ]
    },
    {
     "name": "stdout",
     "output_type": "stream",
     "text": [
      "Epoch: 38, train_loss: 0.5389364957809448, valid_loss: 0.5395247936248779\n"
     ]
    },
    {
     "name": "stderr",
     "output_type": "stream",
     "text": [
      "100%|██████████| 57/57 [00:10<00:00,  5.24it/s]\n",
      "100%|██████████| 8/8 [00:00<00:00, 15.25it/s]\n"
     ]
    },
    {
     "name": "stdout",
     "output_type": "stream",
     "text": [
      "Epoch: 39, train_loss: 0.5369526743888855, valid_loss: 0.5412477254867554\n"
     ]
    },
    {
     "name": "stderr",
     "output_type": "stream",
     "text": [
      "  3%|▎         | 4/115 [00:00<00:02, 37.59it/s]"
     ]
    },
    {
     "name": "stdout",
     "output_type": "stream",
     "text": [
      "{'BATCH_SIZE': 128, 'EPOCHS': 40, 'OPTIMIZER': <class 'torch.optim.adam.Adam'>, 'LEARNING_RATE': 1e-05, 'LOSS': CrossEntropyLoss(), 'EARLY_STOPPING': False, 'PATIENCE': 4, 'MIN_DELTA': 5e-05, 'HIDDEN_DEPTH': 2, 'HIDDEN_SIZES': array([16, 32]), 'KERNEL_SIZES': array([9, 7]), 'MAXPOOL': 2, 'FC_DEPTH': 1, 'FC_SIZES': array([128]), 'DROPOUT': 0.1}\n"
     ]
    },
    {
     "name": "stderr",
     "output_type": "stream",
     "text": [
      "100%|██████████| 115/115 [00:02<00:00, 40.59it/s]\n",
      "100%|██████████| 16/16 [00:00<00:00, 86.58it/s]\n",
      "  3%|▎         | 4/115 [00:00<00:02, 39.37it/s]"
     ]
    },
    {
     "name": "stdout",
     "output_type": "stream",
     "text": [
      "Epoch: 0, train_loss: 0.6922425627708435, valid_loss: 0.690994381904602\n"
     ]
    },
    {
     "name": "stderr",
     "output_type": "stream",
     "text": [
      "100%|██████████| 115/115 [00:02<00:00, 40.67it/s]\n",
      "100%|██████████| 16/16 [00:00<00:00, 83.59it/s]\n",
      "  3%|▎         | 4/115 [00:00<00:02, 37.34it/s]"
     ]
    },
    {
     "name": "stdout",
     "output_type": "stream",
     "text": [
      "Epoch: 1, train_loss: 0.69024658203125, valid_loss: 0.6882970929145813\n"
     ]
    },
    {
     "name": "stderr",
     "output_type": "stream",
     "text": [
      "100%|██████████| 115/115 [00:02<00:00, 40.58it/s]\n",
      "100%|██████████| 16/16 [00:00<00:00, 91.52it/s]\n",
      "  4%|▍         | 5/115 [00:00<00:02, 43.50it/s]"
     ]
    },
    {
     "name": "stdout",
     "output_type": "stream",
     "text": [
      "Epoch: 2, train_loss: 0.6865032911300659, valid_loss: 0.6828197836875916\n"
     ]
    },
    {
     "name": "stderr",
     "output_type": "stream",
     "text": [
      "100%|██████████| 115/115 [00:02<00:00, 40.68it/s]\n",
      "100%|██████████| 16/16 [00:00<00:00, 84.58it/s]\n",
      "  4%|▍         | 5/115 [00:00<00:02, 42.49it/s]"
     ]
    },
    {
     "name": "stdout",
     "output_type": "stream",
     "text": [
      "Epoch: 3, train_loss: 0.6791633367538452, valid_loss: 0.6728103160858154\n"
     ]
    },
    {
     "name": "stderr",
     "output_type": "stream",
     "text": [
      "100%|██████████| 115/115 [00:02<00:00, 40.16it/s]\n",
      "100%|██████████| 16/16 [00:00<00:00, 86.53it/s]\n",
      "  4%|▍         | 5/115 [00:00<00:02, 40.37it/s]"
     ]
    },
    {
     "name": "stdout",
     "output_type": "stream",
     "text": [
      "Epoch: 4, train_loss: 0.6684666275978088, valid_loss: 0.6587566137313843\n"
     ]
    },
    {
     "name": "stderr",
     "output_type": "stream",
     "text": [
      "100%|██████████| 115/115 [00:02<00:00, 40.02it/s]\n",
      "100%|██████████| 16/16 [00:00<00:00, 88.29it/s]\n",
      "  4%|▍         | 5/115 [00:00<00:02, 42.03it/s]"
     ]
    },
    {
     "name": "stdout",
     "output_type": "stream",
     "text": [
      "Epoch: 5, train_loss: 0.6551650762557983, valid_loss: 0.6430637836456299\n"
     ]
    },
    {
     "name": "stderr",
     "output_type": "stream",
     "text": [
      "100%|██████████| 115/115 [00:02<00:00, 40.27it/s]\n",
      "100%|██████████| 16/16 [00:00<00:00, 81.45it/s]\n",
      "  4%|▍         | 5/115 [00:00<00:02, 42.46it/s]"
     ]
    },
    {
     "name": "stdout",
     "output_type": "stream",
     "text": [
      "Epoch: 6, train_loss: 0.6397980451583862, valid_loss: 0.6271328926086426\n"
     ]
    },
    {
     "name": "stderr",
     "output_type": "stream",
     "text": [
      "100%|██████████| 115/115 [00:02<00:00, 40.68it/s]\n",
      "100%|██████████| 16/16 [00:00<00:00, 86.45it/s]\n",
      "  4%|▍         | 5/115 [00:00<00:02, 42.42it/s]"
     ]
    },
    {
     "name": "stdout",
     "output_type": "stream",
     "text": [
      "Epoch: 7, train_loss: 0.626108705997467, valid_loss: 0.6121037602424622\n"
     ]
    },
    {
     "name": "stderr",
     "output_type": "stream",
     "text": [
      "100%|██████████| 115/115 [00:02<00:00, 40.11it/s]\n",
      "100%|██████████| 16/16 [00:00<00:00, 82.91it/s]\n",
      "  3%|▎         | 4/115 [00:00<00:02, 38.96it/s]"
     ]
    },
    {
     "name": "stdout",
     "output_type": "stream",
     "text": [
      "Epoch: 8, train_loss: 0.614562451839447, valid_loss: 0.5983259081840515\n"
     ]
    },
    {
     "name": "stderr",
     "output_type": "stream",
     "text": [
      "100%|██████████| 115/115 [00:02<00:00, 40.80it/s]\n",
      "100%|██████████| 16/16 [00:00<00:00, 90.51it/s]\n",
      "  4%|▍         | 5/115 [00:00<00:02, 42.84it/s]"
     ]
    },
    {
     "name": "stdout",
     "output_type": "stream",
     "text": [
      "Epoch: 9, train_loss: 0.6055895090103149, valid_loss: 0.5893933176994324\n"
     ]
    },
    {
     "name": "stderr",
     "output_type": "stream",
     "text": [
      "100%|██████████| 115/115 [00:02<00:00, 40.15it/s]\n",
      "100%|██████████| 16/16 [00:00<00:00, 85.17it/s]\n",
      "  4%|▍         | 5/115 [00:00<00:02, 40.39it/s]"
     ]
    },
    {
     "name": "stdout",
     "output_type": "stream",
     "text": [
      "Epoch: 10, train_loss: 0.5977562665939331, valid_loss: 0.5824100375175476\n"
     ]
    },
    {
     "name": "stderr",
     "output_type": "stream",
     "text": [
      "100%|██████████| 115/115 [00:02<00:00, 40.54it/s]\n",
      "100%|██████████| 16/16 [00:00<00:00, 86.41it/s]\n",
      "  3%|▎         | 4/115 [00:00<00:03, 36.66it/s]"
     ]
    },
    {
     "name": "stdout",
     "output_type": "stream",
     "text": [
      "Epoch: 11, train_loss: 0.5934012532234192, valid_loss: 0.5783882737159729\n"
     ]
    },
    {
     "name": "stderr",
     "output_type": "stream",
     "text": [
      "100%|██████████| 115/115 [00:02<00:00, 40.16it/s]\n",
      "100%|██████████| 16/16 [00:00<00:00, 87.80it/s]\n",
      "  4%|▍         | 5/115 [00:00<00:02, 43.29it/s]"
     ]
    },
    {
     "name": "stdout",
     "output_type": "stream",
     "text": [
      "Epoch: 12, train_loss: 0.5888673067092896, valid_loss: 0.5759523510932922\n"
     ]
    },
    {
     "name": "stderr",
     "output_type": "stream",
     "text": [
      "100%|██████████| 115/115 [00:02<00:00, 39.38it/s]\n",
      "100%|██████████| 16/16 [00:00<00:00, 80.80it/s]\n",
      "  3%|▎         | 4/115 [00:00<00:02, 39.03it/s]"
     ]
    },
    {
     "name": "stdout",
     "output_type": "stream",
     "text": [
      "Epoch: 13, train_loss: 0.5851628184318542, valid_loss: 0.5730820894241333\n"
     ]
    },
    {
     "name": "stderr",
     "output_type": "stream",
     "text": [
      "100%|██████████| 115/115 [00:02<00:00, 39.01it/s]\n",
      "100%|██████████| 16/16 [00:00<00:00, 87.38it/s]\n",
      "  3%|▎         | 4/115 [00:00<00:02, 38.67it/s]"
     ]
    },
    {
     "name": "stdout",
     "output_type": "stream",
     "text": [
      "Epoch: 14, train_loss: 0.5829708576202393, valid_loss: 0.5678917169570923\n"
     ]
    },
    {
     "name": "stderr",
     "output_type": "stream",
     "text": [
      "100%|██████████| 115/115 [00:02<00:00, 40.04it/s]\n",
      "100%|██████████| 16/16 [00:00<00:00, 92.07it/s]\n",
      "  4%|▍         | 5/115 [00:00<00:02, 42.63it/s]"
     ]
    },
    {
     "name": "stdout",
     "output_type": "stream",
     "text": [
      "Epoch: 15, train_loss: 0.5795304775238037, valid_loss: 0.5640250444412231\n"
     ]
    },
    {
     "name": "stderr",
     "output_type": "stream",
     "text": [
      "100%|██████████| 115/115 [00:02<00:00, 38.73it/s]\n",
      "100%|██████████| 16/16 [00:00<00:00, 83.96it/s]\n",
      "  4%|▍         | 5/115 [00:00<00:02, 40.35it/s]"
     ]
    },
    {
     "name": "stdout",
     "output_type": "stream",
     "text": [
      "Epoch: 16, train_loss: 0.5780876874923706, valid_loss: 0.5602031946182251\n"
     ]
    },
    {
     "name": "stderr",
     "output_type": "stream",
     "text": [
      "100%|██████████| 115/115 [00:02<00:00, 39.84it/s]\n",
      "100%|██████████| 16/16 [00:00<00:00, 87.13it/s]\n",
      "  4%|▍         | 5/115 [00:00<00:02, 46.48it/s]"
     ]
    },
    {
     "name": "stdout",
     "output_type": "stream",
     "text": [
      "Epoch: 17, train_loss: 0.5754551291465759, valid_loss: 0.5640018582344055\n"
     ]
    },
    {
     "name": "stderr",
     "output_type": "stream",
     "text": [
      "100%|██████████| 115/115 [00:02<00:00, 39.34it/s]\n",
      "100%|██████████| 16/16 [00:00<00:00, 83.21it/s]\n",
      "  4%|▍         | 5/115 [00:00<00:02, 40.70it/s]"
     ]
    },
    {
     "name": "stdout",
     "output_type": "stream",
     "text": [
      "Epoch: 18, train_loss: 0.5745907425880432, valid_loss: 0.5624257922172546\n"
     ]
    },
    {
     "name": "stderr",
     "output_type": "stream",
     "text": [
      "100%|██████████| 115/115 [00:02<00:00, 40.16it/s]\n",
      "100%|██████████| 16/16 [00:00<00:00, 84.73it/s]\n",
      "  3%|▎         | 4/115 [00:00<00:02, 39.23it/s]"
     ]
    },
    {
     "name": "stdout",
     "output_type": "stream",
     "text": [
      "Epoch: 19, train_loss: 0.5734303593635559, valid_loss: 0.5603724718093872\n"
     ]
    },
    {
     "name": "stderr",
     "output_type": "stream",
     "text": [
      "100%|██████████| 115/115 [00:02<00:00, 40.45it/s]\n",
      "100%|██████████| 16/16 [00:00<00:00, 84.60it/s]\n",
      "  3%|▎         | 4/115 [00:00<00:02, 37.80it/s]"
     ]
    },
    {
     "name": "stdout",
     "output_type": "stream",
     "text": [
      "Epoch: 20, train_loss: 0.5708950161933899, valid_loss: 0.5580092072486877\n"
     ]
    },
    {
     "name": "stderr",
     "output_type": "stream",
     "text": [
      "100%|██████████| 115/115 [00:02<00:00, 40.00it/s]\n",
      "100%|██████████| 16/16 [00:00<00:00, 89.07it/s]\n",
      "  4%|▍         | 5/115 [00:00<00:02, 43.36it/s]"
     ]
    },
    {
     "name": "stdout",
     "output_type": "stream",
     "text": [
      "Epoch: 21, train_loss: 0.5695894956588745, valid_loss: 0.5580759048461914\n"
     ]
    },
    {
     "name": "stderr",
     "output_type": "stream",
     "text": [
      "100%|██████████| 115/115 [00:02<00:00, 40.59it/s]\n",
      "100%|██████████| 16/16 [00:00<00:00, 82.54it/s]\n",
      "  4%|▍         | 5/115 [00:00<00:02, 41.71it/s]"
     ]
    },
    {
     "name": "stdout",
     "output_type": "stream",
     "text": [
      "Epoch: 22, train_loss: 0.569305956363678, valid_loss: 0.5593932867050171\n"
     ]
    },
    {
     "name": "stderr",
     "output_type": "stream",
     "text": [
      "100%|██████████| 115/115 [00:02<00:00, 40.43it/s]\n",
      "100%|██████████| 16/16 [00:00<00:00, 83.86it/s]\n",
      "  4%|▍         | 5/115 [00:00<00:02, 42.12it/s]"
     ]
    },
    {
     "name": "stdout",
     "output_type": "stream",
     "text": [
      "Epoch: 23, train_loss: 0.5671773552894592, valid_loss: 0.5590431094169617\n"
     ]
    },
    {
     "name": "stderr",
     "output_type": "stream",
     "text": [
      "100%|██████████| 115/115 [00:02<00:00, 39.92it/s]\n",
      "100%|██████████| 16/16 [00:00<00:00, 85.00it/s]\n",
      "  3%|▎         | 4/115 [00:00<00:02, 37.80it/s]"
     ]
    },
    {
     "name": "stdout",
     "output_type": "stream",
     "text": [
      "Epoch: 24, train_loss: 0.5655397772789001, valid_loss: 0.5567981600761414\n"
     ]
    },
    {
     "name": "stderr",
     "output_type": "stream",
     "text": [
      "100%|██████████| 115/115 [00:02<00:00, 40.15it/s]\n",
      "100%|██████████| 16/16 [00:00<00:00, 90.44it/s]\n",
      "  4%|▍         | 5/115 [00:00<00:02, 43.09it/s]"
     ]
    },
    {
     "name": "stdout",
     "output_type": "stream",
     "text": [
      "Epoch: 25, train_loss: 0.5655402541160583, valid_loss: 0.5536192059516907\n"
     ]
    },
    {
     "name": "stderr",
     "output_type": "stream",
     "text": [
      "100%|██████████| 115/115 [00:02<00:00, 40.66it/s]\n",
      "100%|██████████| 16/16 [00:00<00:00, 87.84it/s]\n",
      "  4%|▍         | 5/115 [00:00<00:02, 42.78it/s]"
     ]
    },
    {
     "name": "stdout",
     "output_type": "stream",
     "text": [
      "Epoch: 26, train_loss: 0.5645779967308044, valid_loss: 0.5566992163658142\n"
     ]
    },
    {
     "name": "stderr",
     "output_type": "stream",
     "text": [
      "100%|██████████| 115/115 [00:02<00:00, 40.29it/s]\n",
      "100%|██████████| 16/16 [00:00<00:00, 85.01it/s]\n",
      "  4%|▍         | 5/115 [00:00<00:02, 44.95it/s]"
     ]
    },
    {
     "name": "stdout",
     "output_type": "stream",
     "text": [
      "Epoch: 27, train_loss: 0.5638065338134766, valid_loss: 0.552044153213501\n"
     ]
    },
    {
     "name": "stderr",
     "output_type": "stream",
     "text": [
      "100%|██████████| 115/115 [00:02<00:00, 40.26it/s]\n",
      "100%|██████████| 16/16 [00:00<00:00, 86.21it/s]\n",
      "  3%|▎         | 4/115 [00:00<00:02, 39.92it/s]"
     ]
    },
    {
     "name": "stdout",
     "output_type": "stream",
     "text": [
      "Epoch: 28, train_loss: 0.5625940561294556, valid_loss: 0.5509600639343262\n"
     ]
    },
    {
     "name": "stderr",
     "output_type": "stream",
     "text": [
      "100%|██████████| 115/115 [00:02<00:00, 39.44it/s]\n",
      "100%|██████████| 16/16 [00:00<00:00, 85.56it/s]\n",
      "  4%|▍         | 5/115 [00:00<00:02, 40.82it/s]"
     ]
    },
    {
     "name": "stdout",
     "output_type": "stream",
     "text": [
      "Epoch: 29, train_loss: 0.5614520907402039, valid_loss: 0.5538667440414429\n"
     ]
    },
    {
     "name": "stderr",
     "output_type": "stream",
     "text": [
      "100%|██████████| 115/115 [00:02<00:00, 39.34it/s]\n",
      "100%|██████████| 16/16 [00:00<00:00, 89.43it/s]\n",
      "  4%|▍         | 5/115 [00:00<00:02, 40.03it/s]"
     ]
    },
    {
     "name": "stdout",
     "output_type": "stream",
     "text": [
      "Epoch: 30, train_loss: 0.560196578502655, valid_loss: 0.5525494813919067\n"
     ]
    },
    {
     "name": "stderr",
     "output_type": "stream",
     "text": [
      "100%|██████████| 115/115 [00:02<00:00, 39.76it/s]\n",
      "100%|██████████| 16/16 [00:00<00:00, 79.64it/s]\n",
      "  3%|▎         | 4/115 [00:00<00:03, 36.55it/s]"
     ]
    },
    {
     "name": "stdout",
     "output_type": "stream",
     "text": [
      "Epoch: 31, train_loss: 0.5607476830482483, valid_loss: 0.5508711338043213\n"
     ]
    },
    {
     "name": "stderr",
     "output_type": "stream",
     "text": [
      "100%|██████████| 115/115 [00:02<00:00, 40.09it/s]\n",
      "100%|██████████| 16/16 [00:00<00:00, 83.33it/s]\n",
      "  4%|▍         | 5/115 [00:00<00:02, 43.22it/s]"
     ]
    },
    {
     "name": "stdout",
     "output_type": "stream",
     "text": [
      "Epoch: 32, train_loss: 0.5594816207885742, valid_loss: 0.5514789819717407\n"
     ]
    },
    {
     "name": "stderr",
     "output_type": "stream",
     "text": [
      "100%|██████████| 115/115 [00:02<00:00, 39.98it/s]\n",
      "100%|██████████| 16/16 [00:00<00:00, 84.55it/s]\n",
      "  4%|▍         | 5/115 [00:00<00:02, 40.01it/s]"
     ]
    },
    {
     "name": "stdout",
     "output_type": "stream",
     "text": [
      "Epoch: 33, train_loss: 0.558812141418457, valid_loss: 0.550662636756897\n"
     ]
    },
    {
     "name": "stderr",
     "output_type": "stream",
     "text": [
      "100%|██████████| 115/115 [00:02<00:00, 40.19it/s]\n",
      "100%|██████████| 16/16 [00:00<00:00, 83.86it/s]\n",
      "  3%|▎         | 4/115 [00:00<00:02, 39.22it/s]"
     ]
    },
    {
     "name": "stdout",
     "output_type": "stream",
     "text": [
      "Epoch: 34, train_loss: 0.5588740706443787, valid_loss: 0.546871542930603\n"
     ]
    },
    {
     "name": "stderr",
     "output_type": "stream",
     "text": [
      "100%|██████████| 115/115 [00:02<00:00, 40.14it/s]\n",
      "100%|██████████| 16/16 [00:00<00:00, 83.88it/s]\n",
      "  4%|▍         | 5/115 [00:00<00:02, 41.73it/s]"
     ]
    },
    {
     "name": "stdout",
     "output_type": "stream",
     "text": [
      "Epoch: 35, train_loss: 0.5568945407867432, valid_loss: 0.5522240400314331\n"
     ]
    },
    {
     "name": "stderr",
     "output_type": "stream",
     "text": [
      "100%|██████████| 115/115 [00:02<00:00, 40.11it/s]\n",
      "100%|██████████| 16/16 [00:00<00:00, 89.55it/s]\n",
      "  3%|▎         | 4/115 [00:00<00:02, 39.64it/s]"
     ]
    },
    {
     "name": "stdout",
     "output_type": "stream",
     "text": [
      "Epoch: 36, train_loss: 0.5558831095695496, valid_loss: 0.5512977838516235\n"
     ]
    },
    {
     "name": "stderr",
     "output_type": "stream",
     "text": [
      "100%|██████████| 115/115 [00:02<00:00, 39.36it/s]\n",
      "100%|██████████| 16/16 [00:00<00:00, 85.79it/s]\n",
      "  4%|▍         | 5/115 [00:00<00:02, 40.78it/s]"
     ]
    },
    {
     "name": "stdout",
     "output_type": "stream",
     "text": [
      "Epoch: 37, train_loss: 0.5559984445571899, valid_loss: 0.5483764410018921\n"
     ]
    },
    {
     "name": "stderr",
     "output_type": "stream",
     "text": [
      "100%|██████████| 115/115 [00:02<00:00, 39.84it/s]\n",
      "100%|██████████| 16/16 [00:00<00:00, 81.83it/s]\n",
      "  4%|▍         | 5/115 [00:00<00:02, 39.64it/s]"
     ]
    },
    {
     "name": "stdout",
     "output_type": "stream",
     "text": [
      "Epoch: 38, train_loss: 0.5544548630714417, valid_loss: 0.5528843998908997\n"
     ]
    },
    {
     "name": "stderr",
     "output_type": "stream",
     "text": [
      "100%|██████████| 115/115 [00:02<00:00, 39.90it/s]\n",
      "100%|██████████| 16/16 [00:00<00:00, 88.89it/s]\n"
     ]
    },
    {
     "name": "stdout",
     "output_type": "stream",
     "text": [
      "Epoch: 39, train_loss: 0.5542140007019043, valid_loss: 0.5477967262268066\n"
     ]
    }
   ],
   "source": [
    "stats = []\n",
    "for i in np.arange(N): \n",
    "    print(param_samples[i])\n",
    "    run = TrainTest(CNN_1D, (train, val, test), param_samples[i])\n",
    "    run.train()\n",
    "    stats.append(run.test())"
   ]
  },
  {
   "cell_type": "code",
   "execution_count": 7,
   "metadata": {
    "scrolled": true
   },
   "outputs": [],
   "source": [
    "for i in np.arange(N):\n",
    "    for key,val in stats[i].items():\n",
    "        param_samples[i][key] = val"
   ]
  },
  {
   "cell_type": "code",
   "execution_count": 8,
   "metadata": {},
   "outputs": [
    {
     "data": {
      "text/plain": [
       "[{'BATCH_SIZE': 48,\n",
       "  'EPOCHS': 75,\n",
       "  'OPTIMIZER': torch.optim.adam.Adam,\n",
       "  'LEARNING_RATE': 0.0001,\n",
       "  'LOSS': CrossEntropyLoss(),\n",
       "  'EARLY_STOPPING': False,\n",
       "  'PATIENCE': 4,\n",
       "  'MIN_DELTA': 1e-05,\n",
       "  'HIDDEN_DEPTH': 2,\n",
       "  'HIDDEN_SIZES': array([256, 512]),\n",
       "  'KERNEL_SIZES': array([7, 5]),\n",
       "  'MAXPOOL': 2,\n",
       "  'FC_DEPTH': 1,\n",
       "  'FC_SIZES': array([512]),\n",
       "  'DROPOUT': 0.4,\n",
       "  'auroc': 0.796405509359685,\n",
       "  'auprc': 0.3895436300093835,\n",
       "  'acc': 0.8493377483443708,\n",
       "  'f1': 0.4029990627928772},\n",
       " {'BATCH_SIZE': 512,\n",
       "  'EPOCHS': 75,\n",
       "  'OPTIMIZER': torch.optim.adam.Adam,\n",
       "  'LEARNING_RATE': 0.0005,\n",
       "  'LOSS': CrossEntropyLoss(),\n",
       "  'EARLY_STOPPING': False,\n",
       "  'PATIENCE': 3,\n",
       "  'MIN_DELTA': 5e-05,\n",
       "  'HIDDEN_DEPTH': 2,\n",
       "  'HIDDEN_SIZES': array([16, 32]),\n",
       "  'KERNEL_SIZES': array([9, 7]),\n",
       "  'MAXPOOL': 2,\n",
       "  'FC_DEPTH': 2,\n",
       "  'FC_SIZES': array([256, 128]),\n",
       "  'DROPOUT': 0.3,\n",
       "  'auroc': 0.8354126496344502,\n",
       "  'auprc': 0.44532085711186764,\n",
       "  'acc': 0.8299432355723746,\n",
       "  'f1': 0.4778503994190269},\n",
       " {'BATCH_SIZE': 128,\n",
       "  'EPOCHS': 20,\n",
       "  'OPTIMIZER': torch.optim.adam.Adam,\n",
       "  'LEARNING_RATE': 0.001,\n",
       "  'LOSS': CrossEntropyLoss(),\n",
       "  'EARLY_STOPPING': True,\n",
       "  'PATIENCE': 3,\n",
       "  'MIN_DELTA': 0.001,\n",
       "  'HIDDEN_DEPTH': 2,\n",
       "  'HIDDEN_SIZES': array([32, 64]),\n",
       "  'KERNEL_SIZES': array([9, 3]),\n",
       "  'MAXPOOL': 2,\n",
       "  'FC_DEPTH': 2,\n",
       "  'FC_SIZES': array([128,  64]),\n",
       "  'DROPOUT': 0.0,\n",
       "  'epoch_stopped': 10,\n",
       "  'auroc': 0.8413410359926088,\n",
       "  'auprc': 0.4646305583821273,\n",
       "  'acc': 0.7684484389782403,\n",
       "  'f1': 0.44720496894409933},\n",
       " {'BATCH_SIZE': 256,\n",
       "  'EPOCHS': 100,\n",
       "  'OPTIMIZER': torch.optim.adam.Adam,\n",
       "  'LEARNING_RATE': 5e-05,\n",
       "  'LOSS': CrossEntropyLoss(),\n",
       "  'EARLY_STOPPING': True,\n",
       "  'PATIENCE': 2,\n",
       "  'MIN_DELTA': 1e-05,\n",
       "  'HIDDEN_DEPTH': 2,\n",
       "  'HIDDEN_SIZES': array([ 64, 128]),\n",
       "  'KERNEL_SIZES': array([5, 3]),\n",
       "  'MAXPOOL': 2,\n",
       "  'FC_DEPTH': 1,\n",
       "  'FC_SIZES': array([256]),\n",
       "  'DROPOUT': 0.4,\n",
       "  'epoch_stopped': 9,\n",
       "  'auroc': 0.8174695709809594,\n",
       "  'auprc': 0.4281012691779036,\n",
       "  'acc': 0.761116367076632,\n",
       "  'f1': 0.43322109988776647},\n",
       " {'BATCH_SIZE': 48,\n",
       "  'EPOCHS': 20,\n",
       "  'OPTIMIZER': torch.optim.adam.Adam,\n",
       "  'LEARNING_RATE': 0.0005,\n",
       "  'LOSS': CrossEntropyLoss(),\n",
       "  'EARLY_STOPPING': False,\n",
       "  'PATIENCE': 3,\n",
       "  'MIN_DELTA': 0.0001,\n",
       "  'HIDDEN_DEPTH': 2,\n",
       "  'HIDDEN_SIZES': array([256, 512]),\n",
       "  'KERNEL_SIZES': array([5, 3]),\n",
       "  'MAXPOOL': 2,\n",
       "  'FC_DEPTH': 1,\n",
       "  'FC_SIZES': array([256]),\n",
       "  'DROPOUT': 0.1,\n",
       "  'auroc': 0.8156777235478428,\n",
       "  'auprc': 0.43318277596521904,\n",
       "  'acc': 0.8301797540208137,\n",
       "  'f1': 0.440809968847352},\n",
       " {'BATCH_SIZE': 64,\n",
       "  'EPOCHS': 20,\n",
       "  'OPTIMIZER': torch.optim.adam.Adam,\n",
       "  'LEARNING_RATE': 0.0001,\n",
       "  'LOSS': CrossEntropyLoss(),\n",
       "  'EARLY_STOPPING': True,\n",
       "  'PATIENCE': 3,\n",
       "  'MIN_DELTA': 1e-06,\n",
       "  'HIDDEN_DEPTH': 2,\n",
       "  'HIDDEN_SIZES': array([16, 32]),\n",
       "  'KERNEL_SIZES': array([5, 3]),\n",
       "  'MAXPOOL': 2,\n",
       "  'FC_DEPTH': 2,\n",
       "  'FC_SIZES': array([256, 128]),\n",
       "  'DROPOUT': 0.5,\n",
       "  'auroc': 0.84204803366273,\n",
       "  'auprc': 0.465655908152065,\n",
       "  'acc': 0.7996688741721855,\n",
       "  'f1': 0.47554179566563465},\n",
       " {'BATCH_SIZE': 256,\n",
       "  'EPOCHS': 50,\n",
       "  'OPTIMIZER': torch.optim.adam.Adam,\n",
       "  'LEARNING_RATE': 0.005,\n",
       "  'LOSS': CrossEntropyLoss(),\n",
       "  'EARLY_STOPPING': True,\n",
       "  'PATIENCE': 4,\n",
       "  'MIN_DELTA': 5e-05,\n",
       "  'HIDDEN_DEPTH': 2,\n",
       "  'HIDDEN_SIZES': array([16, 32]),\n",
       "  'KERNEL_SIZES': array([5, 5]),\n",
       "  'MAXPOOL': 2,\n",
       "  'FC_DEPTH': 1,\n",
       "  'FC_SIZES': array([64]),\n",
       "  'DROPOUT': 0.6,\n",
       "  'epoch_stopped': 16,\n",
       "  'auroc': 0.8363164818831847,\n",
       "  'auprc': 0.4617290669046567,\n",
       "  'acc': 0.8207190160832545,\n",
       "  'f1': 0.4728789986091794},\n",
       " {'BATCH_SIZE': 48,\n",
       "  'EPOCHS': 20,\n",
       "  'OPTIMIZER': torch.optim.adam.Adam,\n",
       "  'LEARNING_RATE': 0.0001,\n",
       "  'LOSS': CrossEntropyLoss(),\n",
       "  'EARLY_STOPPING': False,\n",
       "  'PATIENCE': 5,\n",
       "  'MIN_DELTA': 0.001,\n",
       "  'HIDDEN_DEPTH': 2,\n",
       "  'HIDDEN_SIZES': array([ 64, 128]),\n",
       "  'KERNEL_SIZES': array([9, 7]),\n",
       "  'MAXPOOL': 2,\n",
       "  'FC_DEPTH': 1,\n",
       "  'FC_SIZES': array([512]),\n",
       "  'DROPOUT': 0.7,\n",
       "  'auroc': 0.8533090302884228,\n",
       "  'auprc': 0.48115957733799136,\n",
       "  'acc': 0.8181173131504257,\n",
       "  'f1': 0.48561872909699005},\n",
       " {'BATCH_SIZE': 256,\n",
       "  'EPOCHS': 40,\n",
       "  'OPTIMIZER': torch.optim.adam.Adam,\n",
       "  'LEARNING_RATE': 1e-05,\n",
       "  'LOSS': CrossEntropyLoss(),\n",
       "  'EARLY_STOPPING': False,\n",
       "  'PATIENCE': 4,\n",
       "  'MIN_DELTA': 0.005,\n",
       "  'HIDDEN_DEPTH': 2,\n",
       "  'HIDDEN_SIZES': array([128, 256]),\n",
       "  'KERNEL_SIZES': array([7, 5]),\n",
       "  'MAXPOOL': 2,\n",
       "  'FC_DEPTH': 1,\n",
       "  'FC_SIZES': array([256]),\n",
       "  'DROPOUT': 0.1,\n",
       "  'auroc': 0.8335911765887363,\n",
       "  'auprc': 0.4546270358169556,\n",
       "  'acc': 0.7852412488174078,\n",
       "  'f1': 0.4543269230769231},\n",
       " {'BATCH_SIZE': 128,\n",
       "  'EPOCHS': 40,\n",
       "  'OPTIMIZER': torch.optim.adam.Adam,\n",
       "  'LEARNING_RATE': 1e-05,\n",
       "  'LOSS': CrossEntropyLoss(),\n",
       "  'EARLY_STOPPING': False,\n",
       "  'PATIENCE': 4,\n",
       "  'MIN_DELTA': 5e-05,\n",
       "  'HIDDEN_DEPTH': 2,\n",
       "  'HIDDEN_SIZES': array([16, 32]),\n",
       "  'KERNEL_SIZES': array([9, 7]),\n",
       "  'MAXPOOL': 2,\n",
       "  'FC_DEPTH': 1,\n",
       "  'FC_SIZES': array([128]),\n",
       "  'DROPOUT': 0.1,\n",
       "  'auroc': 0.8134359685064675,\n",
       "  'auprc': 0.4166958588125663,\n",
       "  'acc': 0.7573320719016083,\n",
       "  'f1': 0.43000000000000005}]"
      ]
     },
     "execution_count": 8,
     "metadata": {},
     "output_type": "execute_result"
    }
   ],
   "source": [
    "param_samples"
   ]
  },
  {
   "cell_type": "code",
   "execution_count": 9,
   "metadata": {},
   "outputs": [],
   "source": [
    "torch.save(param_samples, 'results/CNN1D_experiment_N'+str(N)+'.pkl')"
   ]
  },
  {
   "cell_type": "code",
   "execution_count": 22,
   "metadata": {},
   "outputs": [],
   "source": [
    "#results = pd.DataFrame(param_samples).sort_values(by='auroc', ascending=False)\n",
    "#torch.save(results, 'results/CNN1D_experiment_N'+str(N)+'.pkl')"
   ]
  },
  {
   "cell_type": "code",
   "execution_count": 23,
   "metadata": {},
   "outputs": [],
   "source": [
    "#import matplotlib.pyplot as plt \n",
    "#plt.plot(np.sort(results.auroc))\n",
    "#plt.plot(np.sort(results.auprc))\n",
    "#plt.plot(np.sort(results.acc))\n",
    "#plt.plot(np.sort(results.f1))"
   ]
  }
 ],
 "metadata": {
  "kernelspec": {
   "display_name": "deeplearning",
   "language": "python",
   "name": "deeplearning"
  },
  "language_info": {
   "codemirror_mode": {
    "name": "ipython",
    "version": 3
   },
   "file_extension": ".py",
   "mimetype": "text/x-python",
   "name": "python",
   "nbconvert_exporter": "python",
   "pygments_lexer": "ipython3",
   "version": "3.8.3"
  }
 },
 "nbformat": 4,
 "nbformat_minor": 2
}
