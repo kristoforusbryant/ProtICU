{
 "cells": [
  {
   "cell_type": "code",
   "execution_count": 1,
   "metadata": {},
   "outputs": [],
   "source": [
    "import numpy as np\n",
    "import torch \n",
    "from collections import OrderedDict\n",
    "\n",
    "from utils.sample_parameters import ConsecutiveGenerator, HiddenAndKernelGenerator, SingleGenerator\n",
    "from utils.sample_parameters import ParamGenerators\n",
    "from models.CNN_1D import CNN_1D\n",
    "from models.MLP import MLP\n",
    "from utils.train_n_test import TrainTest"
   ]
  },
  {
   "cell_type": "code",
   "execution_count": 2,
   "metadata": {},
   "outputs": [],
   "source": [
    "train, val, test = torch.load('data/in-hospital-mortality/tensors.pkl')"
   ]
  },
  {
   "cell_type": "code",
   "execution_count": 3,
   "metadata": {},
   "outputs": [],
   "source": [
    "# Calculating class weights\n",
    "perc_mort = np.concatenate((train[1], val[1], test[1])).mean()\n",
    "class_weights = torch.Tensor([perc_mort, 1-perc_mort]) "
   ]
  },
  {
   "cell_type": "markdown",
   "metadata": {},
   "source": [
    "# 1D-CNN"
   ]
  },
  {
   "cell_type": "code",
   "execution_count": 18,
   "metadata": {},
   "outputs": [],
   "source": [
    "generators_dict = {\n",
    "    # HYPERMARAMETER RANGES\n",
    "    'BATCH_SIZE': SingleGenerator([128, 256, 512]),\n",
    "    'EPOCHS': SingleGenerator([20, 40, 50]),\n",
    "    'OPTIMIZER': SingleGenerator([torch.optim.Adam]),\n",
    "    'LEARNING_RATE': SingleGenerator([1e-5, 5e-5, 1e-4, 5e-4]),\n",
    "    'LOSS': SingleGenerator([torch.nn.CrossEntropyLoss(weight= class_weights)]),\n",
    "    'EARLY_STOPPING': SingleGenerator([True]),\n",
    "    'PATIENCE': SingleGenerator(list(range(2,4))),\n",
    "    'MIN_DELTA': SingleGenerator([5e-5, 1e-4, 5e-4, 1e-3, 5e-3]), \n",
    "\n",
    "    # NETWORK PARAMETER RANGES\n",
    "    'HIDDEN_AND_KERNEL_SIZES': HiddenAndKernelGenerator(range(1,4), [64, 128, 256, 512], [3, 5, 7, 9], \n",
    "                               ascending=(True, False)),\n",
    "    'MAXPOOL': SingleGenerator([2]),\n",
    "    'FC_SIZES': ConsecutiveGenerator(range(1,3), [64, 128, 256, 512], ascending=False),\n",
    "    'DROPOUT': SingleGenerator(np.arange(8)/10)\n",
    "} # each of these params are sampled INDEPENDENTLY of one another"
   ]
  },
  {
   "cell_type": "code",
   "execution_count": 19,
   "metadata": {},
   "outputs": [],
   "source": [
    "N = 30\n",
    "gen = ParamGenerators(generators_dict)\n",
    "param_samples = gen.sample(N)"
   ]
  },
  {
   "cell_type": "code",
   "execution_count": 20,
   "metadata": {},
   "outputs": [
    {
     "name": "stderr",
     "output_type": "stream",
     "text": [
      "\r",
      "  0%|          | 0/28 [00:00<?, ?it/s]"
     ]
    },
    {
     "name": "stdout",
     "output_type": "stream",
     "text": [
      "{'BATCH_SIZE': 512, 'EPOCHS': 20, 'OPTIMIZER': <class 'torch.optim.adam.Adam'>, 'LEARNING_RATE': 1e-05, 'LOSS': CrossEntropyLoss(), 'EARLY_STOPPING': True, 'PATIENCE': 2, 'MIN_DELTA': 5e-05, 'MAXPOOL': 2, 'FC_SIZES': array([512, 256]), 'DROPOUT': 0.4, 'HIDDEN_SIZES': array([256]), 'KERNEL_SIZES': array([7])}\n"
     ]
    },
    {
     "name": "stderr",
     "output_type": "stream",
     "text": [
      "100%|██████████| 28/28 [00:12<00:00,  2.20it/s]\n",
      "100%|██████████| 4/4 [00:00<00:00,  7.62it/s]\n",
      "  0%|          | 0/28 [00:00<?, ?it/s]"
     ]
    },
    {
     "name": "stdout",
     "output_type": "stream",
     "text": [
      "Epoch: 0, train_loss: 0.6916839480400085, valid_loss: 0.6888604164123535\n"
     ]
    },
    {
     "name": "stderr",
     "output_type": "stream",
     "text": [
      "100%|██████████| 28/28 [00:12<00:00,  2.28it/s]\n",
      "100%|██████████| 4/4 [00:00<00:00,  7.72it/s]\n",
      "  0%|          | 0/28 [00:00<?, ?it/s]"
     ]
    },
    {
     "name": "stdout",
     "output_type": "stream",
     "text": [
      "Epoch: 1, train_loss: 0.6863657832145691, valid_loss: 0.6817464232444763\n"
     ]
    },
    {
     "name": "stderr",
     "output_type": "stream",
     "text": [
      "100%|██████████| 28/28 [00:12<00:00,  2.30it/s]\n",
      "100%|██████████| 4/4 [00:00<00:00,  7.64it/s]\n",
      "  0%|          | 0/28 [00:00<?, ?it/s]"
     ]
    },
    {
     "name": "stdout",
     "output_type": "stream",
     "text": [
      "Epoch: 2, train_loss: 0.6777191758155823, valid_loss: 0.6717565059661865\n"
     ]
    },
    {
     "name": "stderr",
     "output_type": "stream",
     "text": [
      "100%|██████████| 28/28 [00:12<00:00,  2.29it/s]\n",
      "100%|██████████| 4/4 [00:00<00:00,  7.46it/s]\n",
      "  0%|          | 0/28 [00:00<?, ?it/s]"
     ]
    },
    {
     "name": "stdout",
     "output_type": "stream",
     "text": [
      "Epoch: 3, train_loss: 0.6650317311286926, valid_loss: 0.6582186222076416\n"
     ]
    },
    {
     "name": "stderr",
     "output_type": "stream",
     "text": [
      "100%|██████████| 28/28 [00:12<00:00,  2.27it/s]\n",
      "100%|██████████| 4/4 [00:00<00:00,  7.73it/s]\n",
      "  0%|          | 0/28 [00:00<?, ?it/s]"
     ]
    },
    {
     "name": "stdout",
     "output_type": "stream",
     "text": [
      "Epoch: 4, train_loss: 0.6488810777664185, valid_loss: 0.6452900171279907\n"
     ]
    },
    {
     "name": "stderr",
     "output_type": "stream",
     "text": [
      "100%|██████████| 28/28 [00:12<00:00,  2.26it/s]\n",
      "100%|██████████| 4/4 [00:00<00:00,  7.39it/s]\n",
      "  0%|          | 0/28 [00:00<?, ?it/s]"
     ]
    },
    {
     "name": "stdout",
     "output_type": "stream",
     "text": [
      "Epoch: 5, train_loss: 0.6329199075698853, valid_loss: 0.6331968307495117\n"
     ]
    },
    {
     "name": "stderr",
     "output_type": "stream",
     "text": [
      "100%|██████████| 28/28 [00:12<00:00,  2.30it/s]\n",
      "100%|██████████| 4/4 [00:00<00:00,  7.77it/s]\n",
      "  0%|          | 0/28 [00:00<?, ?it/s]"
     ]
    },
    {
     "name": "stdout",
     "output_type": "stream",
     "text": [
      "Epoch: 6, train_loss: 0.6174927949905396, valid_loss: 0.6219401359558105\n"
     ]
    },
    {
     "name": "stderr",
     "output_type": "stream",
     "text": [
      "100%|██████████| 28/28 [00:12<00:00,  2.30it/s]\n",
      "100%|██████████| 4/4 [00:00<00:00,  7.71it/s]\n",
      "  0%|          | 0/28 [00:00<?, ?it/s]"
     ]
    },
    {
     "name": "stdout",
     "output_type": "stream",
     "text": [
      "Epoch: 7, train_loss: 0.6041408777236938, valid_loss: 0.6143920421600342\n"
     ]
    },
    {
     "name": "stderr",
     "output_type": "stream",
     "text": [
      "100%|██████████| 28/28 [00:12<00:00,  2.28it/s]\n",
      "100%|██████████| 4/4 [00:00<00:00,  7.60it/s]\n",
      "  0%|          | 0/28 [00:00<?, ?it/s]"
     ]
    },
    {
     "name": "stdout",
     "output_type": "stream",
     "text": [
      "Epoch: 8, train_loss: 0.5939056277275085, valid_loss: 0.6056612133979797\n"
     ]
    },
    {
     "name": "stderr",
     "output_type": "stream",
     "text": [
      "100%|██████████| 28/28 [00:12<00:00,  2.28it/s]\n",
      "100%|██████████| 4/4 [00:00<00:00,  7.78it/s]\n",
      "  0%|          | 0/28 [00:00<?, ?it/s]"
     ]
    },
    {
     "name": "stdout",
     "output_type": "stream",
     "text": [
      "Epoch: 9, train_loss: 0.5869659781455994, valid_loss: 0.6010593175888062\n"
     ]
    },
    {
     "name": "stderr",
     "output_type": "stream",
     "text": [
      "100%|██████████| 28/28 [00:12<00:00,  2.28it/s]\n",
      "100%|██████████| 4/4 [00:00<00:00,  7.36it/s]\n",
      "  0%|          | 0/28 [00:00<?, ?it/s]"
     ]
    },
    {
     "name": "stdout",
     "output_type": "stream",
     "text": [
      "Epoch: 10, train_loss: 0.5810566544532776, valid_loss: 0.5975388288497925\n"
     ]
    },
    {
     "name": "stderr",
     "output_type": "stream",
     "text": [
      "100%|██████████| 28/28 [00:12<00:00,  2.29it/s]\n",
      "100%|██████████| 4/4 [00:00<00:00,  7.13it/s]\n",
      "  0%|          | 0/28 [00:00<?, ?it/s]"
     ]
    },
    {
     "name": "stdout",
     "output_type": "stream",
     "text": [
      "Epoch: 11, train_loss: 0.5774818062782288, valid_loss: 0.5920562744140625\n"
     ]
    },
    {
     "name": "stderr",
     "output_type": "stream",
     "text": [
      "100%|██████████| 28/28 [00:12<00:00,  2.27it/s]\n",
      "100%|██████████| 4/4 [00:00<00:00,  7.45it/s]\n",
      "  0%|          | 0/28 [00:00<?, ?it/s]"
     ]
    },
    {
     "name": "stdout",
     "output_type": "stream",
     "text": [
      "val loss increased, patience count:  1\n",
      "Epoch: 12, train_loss: 0.5726965069770813, valid_loss: 0.5939213633537292\n"
     ]
    },
    {
     "name": "stderr",
     "output_type": "stream",
     "text": [
      "100%|██████████| 28/28 [00:12<00:00,  2.26it/s]\n",
      "100%|██████████| 4/4 [00:00<00:00,  7.49it/s]\n",
      "  0%|          | 0/28 [00:00<?, ?it/s]"
     ]
    },
    {
     "name": "stdout",
     "output_type": "stream",
     "text": [
      "Epoch: 13, train_loss: 0.5699938535690308, valid_loss: 0.5860025882720947\n"
     ]
    },
    {
     "name": "stderr",
     "output_type": "stream",
     "text": [
      "100%|██████████| 28/28 [00:12<00:00,  2.26it/s]\n",
      "100%|██████████| 4/4 [00:00<00:00,  7.39it/s]\n",
      "  0%|          | 0/28 [00:00<?, ?it/s]"
     ]
    },
    {
     "name": "stdout",
     "output_type": "stream",
     "text": [
      "val loss increased, patience count:  1\n",
      "Epoch: 14, train_loss: 0.5670726895332336, valid_loss: 0.5864145755767822\n"
     ]
    },
    {
     "name": "stderr",
     "output_type": "stream",
     "text": [
      "100%|██████████| 28/28 [00:12<00:00,  2.28it/s]\n",
      "100%|██████████| 4/4 [00:00<00:00,  7.19it/s]\n",
      "  0%|          | 0/28 [00:00<?, ?it/s]"
     ]
    },
    {
     "name": "stdout",
     "output_type": "stream",
     "text": [
      "Epoch: 15, train_loss: 0.5643168687820435, valid_loss: 0.5851758718490601\n"
     ]
    },
    {
     "name": "stderr",
     "output_type": "stream",
     "text": [
      "100%|██████████| 28/28 [00:12<00:00,  2.28it/s]\n",
      "100%|██████████| 4/4 [00:00<00:00,  7.68it/s]\n",
      "  0%|          | 0/28 [00:00<?, ?it/s]"
     ]
    },
    {
     "name": "stdout",
     "output_type": "stream",
     "text": [
      "Epoch: 16, train_loss: 0.5618599653244019, valid_loss: 0.5814080238342285\n"
     ]
    },
    {
     "name": "stderr",
     "output_type": "stream",
     "text": [
      "100%|██████████| 28/28 [00:12<00:00,  2.29it/s]\n",
      "100%|██████████| 4/4 [00:00<00:00,  7.62it/s]\n",
      "  0%|          | 0/28 [00:00<?, ?it/s]"
     ]
    },
    {
     "name": "stdout",
     "output_type": "stream",
     "text": [
      "val loss increased, patience count:  1\n",
      "Epoch: 17, train_loss: 0.5599079728126526, valid_loss: 0.5846047401428223\n"
     ]
    },
    {
     "name": "stderr",
     "output_type": "stream",
     "text": [
      "100%|██████████| 28/28 [00:12<00:00,  2.27it/s]\n",
      "100%|██████████| 4/4 [00:00<00:00,  7.35it/s]\n",
      "  0%|          | 0/28 [00:00<?, ?it/s]"
     ]
    },
    {
     "name": "stdout",
     "output_type": "stream",
     "text": [
      "Epoch: 18, train_loss: 0.5583152174949646, valid_loss: 0.5781865119934082\n"
     ]
    },
    {
     "name": "stderr",
     "output_type": "stream",
     "text": [
      "100%|██████████| 28/28 [00:12<00:00,  2.24it/s]\n",
      "100%|██████████| 4/4 [00:00<00:00,  7.52it/s]\n"
     ]
    },
    {
     "name": "stdout",
     "output_type": "stream",
     "text": [
      "val loss increased, patience count:  1\n",
      "Epoch: 19, train_loss: 0.5578661561012268, valid_loss: 0.5789201855659485\n"
     ]
    },
    {
     "name": "stderr",
     "output_type": "stream",
     "text": [
      "\r",
      "  0%|          | 0/57 [00:00<?, ?it/s]"
     ]
    },
    {
     "name": "stdout",
     "output_type": "stream",
     "text": [
      "{'BATCH_SIZE': 256, 'EPOCHS': 50, 'OPTIMIZER': <class 'torch.optim.adam.Adam'>, 'LEARNING_RATE': 5e-05, 'LOSS': CrossEntropyLoss(), 'EARLY_STOPPING': True, 'PATIENCE': 3, 'MIN_DELTA': 0.0001, 'MAXPOOL': 2, 'FC_SIZES': array([512, 256]), 'DROPOUT': 0.5, 'HIDDEN_SIZES': array([256]), 'KERNEL_SIZES': array([7])}\n"
     ]
    },
    {
     "name": "stderr",
     "output_type": "stream",
     "text": [
      "100%|██████████| 57/57 [00:11<00:00,  5.08it/s]\n",
      "100%|██████████| 8/8 [00:00<00:00, 13.95it/s]\n",
      "  2%|▏         | 1/57 [00:00<00:11,  5.06it/s]"
     ]
    },
    {
     "name": "stdout",
     "output_type": "stream",
     "text": [
      "Epoch: 0, train_loss: 0.6752797365188599, valid_loss: 0.642681360244751\n"
     ]
    },
    {
     "name": "stderr",
     "output_type": "stream",
     "text": [
      "100%|██████████| 57/57 [00:11<00:00,  5.06it/s]\n",
      "100%|██████████| 8/8 [00:00<00:00, 14.45it/s]\n",
      "  2%|▏         | 1/57 [00:00<00:10,  5.56it/s]"
     ]
    },
    {
     "name": "stdout",
     "output_type": "stream",
     "text": [
      "Epoch: 1, train_loss: 0.6016790866851807, valid_loss: 0.5956312417984009\n"
     ]
    },
    {
     "name": "stderr",
     "output_type": "stream",
     "text": [
      "100%|██████████| 57/57 [00:11<00:00,  5.15it/s]\n",
      "100%|██████████| 8/8 [00:00<00:00, 13.22it/s]\n",
      "  2%|▏         | 1/57 [00:00<00:10,  5.57it/s]"
     ]
    },
    {
     "name": "stdout",
     "output_type": "stream",
     "text": [
      "Epoch: 2, train_loss: 0.571097195148468, valid_loss: 0.5832598209381104\n"
     ]
    },
    {
     "name": "stderr",
     "output_type": "stream",
     "text": [
      "100%|██████████| 57/57 [00:11<00:00,  5.06it/s]\n",
      "100%|██████████| 8/8 [00:00<00:00, 14.60it/s]\n",
      "  2%|▏         | 1/57 [00:00<00:10,  5.44it/s]"
     ]
    },
    {
     "name": "stdout",
     "output_type": "stream",
     "text": [
      "Epoch: 3, train_loss: 0.5588156580924988, valid_loss: 0.5788477659225464\n"
     ]
    },
    {
     "name": "stderr",
     "output_type": "stream",
     "text": [
      "100%|██████████| 57/57 [00:11<00:00,  4.98it/s]\n",
      "100%|██████████| 8/8 [00:00<00:00, 14.43it/s]\n",
      "  2%|▏         | 1/57 [00:00<00:10,  5.25it/s]"
     ]
    },
    {
     "name": "stdout",
     "output_type": "stream",
     "text": [
      "Epoch: 4, train_loss: 0.5519616603851318, valid_loss: 0.5735013484954834\n"
     ]
    },
    {
     "name": "stderr",
     "output_type": "stream",
     "text": [
      "100%|██████████| 57/57 [00:11<00:00,  5.12it/s]\n",
      "100%|██████████| 8/8 [00:00<00:00, 13.93it/s]\n",
      "  2%|▏         | 1/57 [00:00<00:09,  5.62it/s]"
     ]
    },
    {
     "name": "stdout",
     "output_type": "stream",
     "text": [
      "val loss increased, patience count:  1\n",
      "Epoch: 5, train_loss: 0.5482040643692017, valid_loss: 0.5792378187179565\n"
     ]
    },
    {
     "name": "stderr",
     "output_type": "stream",
     "text": [
      "100%|██████████| 57/57 [00:11<00:00,  5.14it/s]\n",
      "100%|██████████| 8/8 [00:00<00:00, 14.02it/s]\n",
      "  2%|▏         | 1/57 [00:00<00:10,  5.37it/s]"
     ]
    },
    {
     "name": "stdout",
     "output_type": "stream",
     "text": [
      "Epoch: 6, train_loss: 0.542371392250061, valid_loss: 0.5689864158630371\n"
     ]
    },
    {
     "name": "stderr",
     "output_type": "stream",
     "text": [
      "100%|██████████| 57/57 [00:11<00:00,  4.97it/s]\n",
      "100%|██████████| 8/8 [00:00<00:00, 14.70it/s]\n",
      "  2%|▏         | 1/57 [00:00<00:10,  5.39it/s]"
     ]
    },
    {
     "name": "stdout",
     "output_type": "stream",
     "text": [
      "Epoch: 7, train_loss: 0.5390934944152832, valid_loss: 0.5670703649520874\n"
     ]
    },
    {
     "name": "stderr",
     "output_type": "stream",
     "text": [
      "100%|██████████| 57/57 [00:11<00:00,  5.13it/s]\n",
      "100%|██████████| 8/8 [00:00<00:00, 14.03it/s]\n",
      "  2%|▏         | 1/57 [00:00<00:10,  5.44it/s]"
     ]
    },
    {
     "name": "stdout",
     "output_type": "stream",
     "text": [
      "Epoch: 8, train_loss: 0.5382643342018127, valid_loss: 0.5628460049629211\n"
     ]
    },
    {
     "name": "stderr",
     "output_type": "stream",
     "text": [
      "100%|██████████| 57/57 [00:11<00:00,  5.07it/s]\n",
      "100%|██████████| 8/8 [00:00<00:00, 13.97it/s]\n",
      "  2%|▏         | 1/57 [00:00<00:10,  5.23it/s]"
     ]
    },
    {
     "name": "stdout",
     "output_type": "stream",
     "text": [
      "Epoch: 9, train_loss: 0.5324649214744568, valid_loss: 0.5621557831764221\n"
     ]
    },
    {
     "name": "stderr",
     "output_type": "stream",
     "text": [
      "100%|██████████| 57/57 [00:11<00:00,  4.99it/s]\n",
      "100%|██████████| 8/8 [00:00<00:00, 14.36it/s]\n",
      "  2%|▏         | 1/57 [00:00<00:10,  5.54it/s]"
     ]
    },
    {
     "name": "stdout",
     "output_type": "stream",
     "text": [
      "Epoch: 10, train_loss: 0.52598637342453, valid_loss: 0.5588953495025635\n"
     ]
    },
    {
     "name": "stderr",
     "output_type": "stream",
     "text": [
      "100%|██████████| 57/57 [00:11<00:00,  5.18it/s]\n",
      "100%|██████████| 8/8 [00:00<00:00, 13.97it/s]\n",
      "  2%|▏         | 1/57 [00:00<00:10,  5.36it/s]"
     ]
    },
    {
     "name": "stdout",
     "output_type": "stream",
     "text": [
      "val loss increased, patience count:  1\n",
      "Epoch: 11, train_loss: 0.5242224335670471, valid_loss: 0.5649170875549316\n"
     ]
    },
    {
     "name": "stderr",
     "output_type": "stream",
     "text": [
      "100%|██████████| 57/57 [00:11<00:00,  5.12it/s]\n",
      "100%|██████████| 8/8 [00:00<00:00, 14.18it/s]\n",
      "  2%|▏         | 1/57 [00:00<00:10,  5.47it/s]"
     ]
    },
    {
     "name": "stdout",
     "output_type": "stream",
     "text": [
      "val loss increased, patience count:  2\n",
      "Epoch: 12, train_loss: 0.5210685729980469, valid_loss: 0.5596505403518677\n"
     ]
    },
    {
     "name": "stderr",
     "output_type": "stream",
     "text": [
      "100%|██████████| 57/57 [00:11<00:00,  5.09it/s]\n",
      "100%|██████████| 8/8 [00:00<00:00, 13.60it/s]\n",
      "  2%|▏         | 1/57 [00:00<00:10,  5.37it/s]"
     ]
    },
    {
     "name": "stdout",
     "output_type": "stream",
     "text": [
      "val loss increased, patience count:  3\n",
      "Epoch: 13, train_loss: 0.5202500224113464, valid_loss: 0.5605415105819702\n"
     ]
    },
    {
     "name": "stderr",
     "output_type": "stream",
     "text": [
      "100%|██████████| 57/57 [00:11<00:00,  5.03it/s]\n",
      "100%|██████████| 8/8 [00:00<00:00, 14.05it/s]\n"
     ]
    },
    {
     "name": "stdout",
     "output_type": "stream",
     "text": [
      "Early stopped at Epoch:  14\n"
     ]
    },
    {
     "name": "stderr",
     "output_type": "stream",
     "text": [
      "  3%|▎         | 3/115 [00:00<00:05, 21.20it/s]"
     ]
    },
    {
     "name": "stdout",
     "output_type": "stream",
     "text": [
      "{'BATCH_SIZE': 128, 'EPOCHS': 40, 'OPTIMIZER': <class 'torch.optim.adam.Adam'>, 'LEARNING_RATE': 0.0001, 'LOSS': CrossEntropyLoss(), 'EARLY_STOPPING': True, 'PATIENCE': 2, 'MIN_DELTA': 0.005, 'MAXPOOL': 2, 'FC_SIZES': array([512, 256]), 'DROPOUT': 0.3, 'HIDDEN_SIZES': array([64]), 'KERNEL_SIZES': array([9])}\n"
     ]
    },
    {
     "name": "stderr",
     "output_type": "stream",
     "text": [
      "100%|██████████| 115/115 [00:05<00:00, 21.35it/s]\n",
      "100%|██████████| 16/16 [00:00<00:00, 50.79it/s]\n",
      "  3%|▎         | 3/115 [00:00<00:04, 22.66it/s]"
     ]
    },
    {
     "name": "stdout",
     "output_type": "stream",
     "text": [
      "Epoch: 0, train_loss: 0.6370878219604492, valid_loss: 0.6095411777496338\n"
     ]
    },
    {
     "name": "stderr",
     "output_type": "stream",
     "text": [
      "100%|██████████| 115/115 [00:05<00:00, 21.45it/s]\n",
      "100%|██████████| 16/16 [00:00<00:00, 49.19it/s]\n",
      "  3%|▎         | 3/115 [00:00<00:04, 22.47it/s]"
     ]
    },
    {
     "name": "stdout",
     "output_type": "stream",
     "text": [
      "Epoch: 1, train_loss: 0.5677289962768555, valid_loss: 0.5817741751670837\n"
     ]
    },
    {
     "name": "stderr",
     "output_type": "stream",
     "text": [
      "100%|██████████| 115/115 [00:05<00:00, 21.68it/s]\n",
      "100%|██████████| 16/16 [00:00<00:00, 53.02it/s]\n",
      "  3%|▎         | 3/115 [00:00<00:04, 23.81it/s]"
     ]
    },
    {
     "name": "stdout",
     "output_type": "stream",
     "text": [
      "Epoch: 2, train_loss: 0.5527729392051697, valid_loss: 0.5687082409858704\n"
     ]
    },
    {
     "name": "stderr",
     "output_type": "stream",
     "text": [
      "100%|██████████| 115/115 [00:05<00:00, 21.75it/s]\n",
      "100%|██████████| 16/16 [00:00<00:00, 51.11it/s]\n",
      "  3%|▎         | 3/115 [00:00<00:04, 23.78it/s]"
     ]
    },
    {
     "name": "stdout",
     "output_type": "stream",
     "text": [
      "Epoch: 3, train_loss: 0.5452883243560791, valid_loss: 0.5615569949150085\n"
     ]
    },
    {
     "name": "stderr",
     "output_type": "stream",
     "text": [
      "100%|██████████| 115/115 [00:05<00:00, 21.99it/s]\n",
      "100%|██████████| 16/16 [00:00<00:00, 50.84it/s]\n",
      "  3%|▎         | 3/115 [00:00<00:04, 23.39it/s]"
     ]
    },
    {
     "name": "stdout",
     "output_type": "stream",
     "text": [
      "val loss increased, patience count:  1\n",
      "Epoch: 4, train_loss: 0.5367429256439209, valid_loss: 0.578579306602478\n"
     ]
    },
    {
     "name": "stderr",
     "output_type": "stream",
     "text": [
      "100%|██████████| 115/115 [00:05<00:00, 21.79it/s]\n",
      "100%|██████████| 16/16 [00:00<00:00, 51.02it/s]\n",
      "  3%|▎         | 3/115 [00:00<00:04, 22.68it/s]"
     ]
    },
    {
     "name": "stdout",
     "output_type": "stream",
     "text": [
      "Epoch: 5, train_loss: 0.5324942469596863, valid_loss: 0.5614371299743652\n"
     ]
    },
    {
     "name": "stderr",
     "output_type": "stream",
     "text": [
      "100%|██████████| 115/115 [00:05<00:00, 21.71it/s]\n",
      "100%|██████████| 16/16 [00:00<00:00, 53.33it/s]\n",
      "  3%|▎         | 3/115 [00:00<00:05, 21.93it/s]"
     ]
    },
    {
     "name": "stdout",
     "output_type": "stream",
     "text": [
      "Epoch: 6, train_loss: 0.5245604515075684, valid_loss: 0.5609654188156128\n"
     ]
    },
    {
     "name": "stderr",
     "output_type": "stream",
     "text": [
      "100%|██████████| 115/115 [00:05<00:00, 21.75it/s]\n",
      "100%|██████████| 16/16 [00:00<00:00, 52.47it/s]\n",
      "  3%|▎         | 3/115 [00:00<00:04, 23.27it/s]"
     ]
    },
    {
     "name": "stdout",
     "output_type": "stream",
     "text": [
      "Epoch: 7, train_loss: 0.5232955813407898, valid_loss: 0.5543259382247925\n"
     ]
    },
    {
     "name": "stderr",
     "output_type": "stream",
     "text": [
      "100%|██████████| 115/115 [00:05<00:00, 21.80it/s]\n",
      "100%|██████████| 16/16 [00:00<00:00, 54.53it/s]\n",
      "  2%|▏         | 2/115 [00:00<00:08, 13.57it/s]"
     ]
    },
    {
     "name": "stdout",
     "output_type": "stream",
     "text": [
      "val loss increased, patience count:  1\n",
      "Epoch: 8, train_loss: 0.5171629190444946, valid_loss: 0.5570197701454163\n"
     ]
    },
    {
     "name": "stderr",
     "output_type": "stream",
     "text": [
      "100%|██████████| 115/115 [00:05<00:00, 21.43it/s]\n",
      "100%|██████████| 16/16 [00:00<00:00, 49.24it/s]\n",
      "  3%|▎         | 3/115 [00:00<00:04, 22.72it/s]"
     ]
    },
    {
     "name": "stdout",
     "output_type": "stream",
     "text": [
      "Epoch: 9, train_loss: 0.5148921608924866, valid_loss: 0.5500531792640686\n"
     ]
    },
    {
     "name": "stderr",
     "output_type": "stream",
     "text": [
      "100%|██████████| 115/115 [00:05<00:00, 22.00it/s]\n",
      "100%|██████████| 16/16 [00:00<00:00, 51.33it/s]\n",
      "  3%|▎         | 3/115 [00:00<00:04, 22.70it/s]"
     ]
    },
    {
     "name": "stdout",
     "output_type": "stream",
     "text": [
      "val loss increased, patience count:  1\n",
      "Epoch: 10, train_loss: 0.5123118758201599, valid_loss: 0.5574299097061157\n"
     ]
    },
    {
     "name": "stderr",
     "output_type": "stream",
     "text": [
      "100%|██████████| 115/115 [00:05<00:00, 21.84it/s]\n",
      "100%|██████████| 16/16 [00:00<00:00, 48.34it/s]\n",
      "  2%|▏         | 2/115 [00:00<00:05, 18.89it/s]"
     ]
    },
    {
     "name": "stdout",
     "output_type": "stream",
     "text": [
      "val loss increased, patience count:  2\n",
      "Epoch: 11, train_loss: 0.5070617198944092, valid_loss: 0.554494321346283\n"
     ]
    },
    {
     "name": "stderr",
     "output_type": "stream",
     "text": [
      "100%|██████████| 115/115 [00:05<00:00, 21.50it/s]\n",
      "100%|██████████| 16/16 [00:00<00:00, 53.27it/s]\n"
     ]
    },
    {
     "name": "stdout",
     "output_type": "stream",
     "text": [
      "Early stopped at Epoch:  12\n"
     ]
    },
    {
     "name": "stderr",
     "output_type": "stream",
     "text": [
      "\r",
      "  0%|          | 0/28 [00:00<?, ?it/s]"
     ]
    },
    {
     "name": "stdout",
     "output_type": "stream",
     "text": [
      "{'BATCH_SIZE': 512, 'EPOCHS': 50, 'OPTIMIZER': <class 'torch.optim.adam.Adam'>, 'LEARNING_RATE': 5e-05, 'LOSS': CrossEntropyLoss(), 'EARLY_STOPPING': True, 'PATIENCE': 2, 'MIN_DELTA': 5e-05, 'MAXPOOL': 2, 'FC_SIZES': array([128,  64]), 'DROPOUT': 0.2, 'HIDDEN_SIZES': array([256]), 'KERNEL_SIZES': array([9])}\n"
     ]
    },
    {
     "name": "stderr",
     "output_type": "stream",
     "text": [
      "100%|██████████| 28/28 [00:08<00:00,  3.24it/s]\n",
      "100%|██████████| 4/4 [00:00<00:00,  7.02it/s]\n",
      "  0%|          | 0/28 [00:00<?, ?it/s]"
     ]
    },
    {
     "name": "stdout",
     "output_type": "stream",
     "text": [
      "Epoch: 0, train_loss: 0.684627890586853, valid_loss: 0.6733350157737732\n"
     ]
    },
    {
     "name": "stderr",
     "output_type": "stream",
     "text": [
      "100%|██████████| 28/28 [00:08<00:00,  3.29it/s]\n",
      "100%|██████████| 4/4 [00:00<00:00,  7.19it/s]\n",
      "  0%|          | 0/28 [00:00<?, ?it/s]"
     ]
    },
    {
     "name": "stdout",
     "output_type": "stream",
     "text": [
      "Epoch: 1, train_loss: 0.652254581451416, valid_loss: 0.6385514736175537\n"
     ]
    },
    {
     "name": "stderr",
     "output_type": "stream",
     "text": [
      "100%|██████████| 28/28 [00:08<00:00,  3.27it/s]\n",
      "100%|██████████| 4/4 [00:00<00:00,  7.18it/s]\n",
      "  0%|          | 0/28 [00:00<?, ?it/s]"
     ]
    },
    {
     "name": "stdout",
     "output_type": "stream",
     "text": [
      "Epoch: 2, train_loss: 0.6110164523124695, valid_loss: 0.610011100769043\n"
     ]
    },
    {
     "name": "stderr",
     "output_type": "stream",
     "text": [
      "100%|██████████| 28/28 [00:08<00:00,  3.23it/s]\n",
      "100%|██████████| 4/4 [00:00<00:00,  7.02it/s]\n",
      "  0%|          | 0/28 [00:00<?, ?it/s]"
     ]
    },
    {
     "name": "stdout",
     "output_type": "stream",
     "text": [
      "Epoch: 3, train_loss: 0.583146870136261, valid_loss: 0.5958520770072937\n"
     ]
    },
    {
     "name": "stderr",
     "output_type": "stream",
     "text": [
      "100%|██████████| 28/28 [00:08<00:00,  3.22it/s]\n",
      "100%|██████████| 4/4 [00:00<00:00,  7.11it/s]\n",
      "  0%|          | 0/28 [00:00<?, ?it/s]"
     ]
    },
    {
     "name": "stdout",
     "output_type": "stream",
     "text": [
      "Epoch: 4, train_loss: 0.5729556679725647, valid_loss: 0.5871873497962952\n"
     ]
    },
    {
     "name": "stderr",
     "output_type": "stream",
     "text": [
      "100%|██████████| 28/28 [00:08<00:00,  3.28it/s]\n",
      "100%|██████████| 4/4 [00:00<00:00,  7.15it/s]\n",
      "  0%|          | 0/28 [00:00<?, ?it/s]"
     ]
    },
    {
     "name": "stdout",
     "output_type": "stream",
     "text": [
      "Epoch: 5, train_loss: 0.5630396008491516, valid_loss: 0.583422839641571\n"
     ]
    },
    {
     "name": "stderr",
     "output_type": "stream",
     "text": [
      "100%|██████████| 28/28 [00:08<00:00,  3.26it/s]\n",
      "100%|██████████| 4/4 [00:00<00:00,  7.34it/s]\n",
      "  0%|          | 0/28 [00:00<?, ?it/s]"
     ]
    },
    {
     "name": "stdout",
     "output_type": "stream",
     "text": [
      "Epoch: 6, train_loss: 0.5559679865837097, valid_loss: 0.5805528163909912\n"
     ]
    },
    {
     "name": "stderr",
     "output_type": "stream",
     "text": [
      "100%|██████████| 28/28 [00:08<00:00,  3.27it/s]\n",
      "100%|██████████| 4/4 [00:00<00:00,  7.15it/s]\n",
      "  0%|          | 0/28 [00:00<?, ?it/s]"
     ]
    },
    {
     "name": "stdout",
     "output_type": "stream",
     "text": [
      "Epoch: 7, train_loss: 0.5539999008178711, valid_loss: 0.5753148794174194\n"
     ]
    },
    {
     "name": "stderr",
     "output_type": "stream",
     "text": [
      "100%|██████████| 28/28 [00:08<00:00,  3.17it/s]\n",
      "100%|██████████| 4/4 [00:00<00:00,  7.18it/s]\n",
      "  0%|          | 0/28 [00:00<?, ?it/s]"
     ]
    },
    {
     "name": "stdout",
     "output_type": "stream",
     "text": [
      "val loss increased, patience count:  1\n",
      "Epoch: 8, train_loss: 0.5526917576789856, valid_loss: 0.5785107612609863\n"
     ]
    },
    {
     "name": "stderr",
     "output_type": "stream",
     "text": [
      "100%|██████████| 28/28 [00:08<00:00,  3.26it/s]\n",
      "100%|██████████| 4/4 [00:00<00:00,  7.09it/s]\n",
      "  0%|          | 0/28 [00:00<?, ?it/s]"
     ]
    },
    {
     "name": "stdout",
     "output_type": "stream",
     "text": [
      "Epoch: 9, train_loss: 0.5485958456993103, valid_loss: 0.5717286467552185\n"
     ]
    },
    {
     "name": "stderr",
     "output_type": "stream",
     "text": [
      "100%|██████████| 28/28 [00:08<00:00,  3.24it/s]\n",
      "100%|██████████| 4/4 [00:00<00:00,  7.40it/s]\n",
      "  0%|          | 0/28 [00:00<?, ?it/s]"
     ]
    },
    {
     "name": "stdout",
     "output_type": "stream",
     "text": [
      "Epoch: 10, train_loss: 0.5424538254737854, valid_loss: 0.5641601085662842\n"
     ]
    },
    {
     "name": "stderr",
     "output_type": "stream",
     "text": [
      "100%|██████████| 28/28 [00:08<00:00,  3.22it/s]\n",
      "100%|██████████| 4/4 [00:00<00:00,  6.69it/s]\n",
      "  0%|          | 0/28 [00:00<?, ?it/s]"
     ]
    },
    {
     "name": "stdout",
     "output_type": "stream",
     "text": [
      "val loss increased, patience count:  1\n",
      "Epoch: 11, train_loss: 0.5446373820304871, valid_loss: 0.5689904093742371\n"
     ]
    },
    {
     "name": "stderr",
     "output_type": "stream",
     "text": [
      "100%|██████████| 28/28 [00:08<00:00,  3.25it/s]\n",
      "100%|██████████| 4/4 [00:00<00:00,  7.19it/s]\n",
      "  0%|          | 0/28 [00:00<?, ?it/s]"
     ]
    },
    {
     "name": "stdout",
     "output_type": "stream",
     "text": [
      "val loss increased, patience count:  2\n",
      "Epoch: 12, train_loss: 0.5408089756965637, valid_loss: 0.5689008235931396\n"
     ]
    },
    {
     "name": "stderr",
     "output_type": "stream",
     "text": [
      "100%|██████████| 28/28 [00:08<00:00,  3.27it/s]\n",
      "100%|██████████| 4/4 [00:00<00:00,  7.28it/s]\n",
      "  0%|          | 0/28 [00:00<?, ?it/s]"
     ]
    },
    {
     "name": "stdout",
     "output_type": "stream",
     "text": [
      "Epoch: 13, train_loss: 0.535925030708313, valid_loss: 0.5639046430587769\n"
     ]
    },
    {
     "name": "stderr",
     "output_type": "stream",
     "text": [
      "100%|██████████| 28/28 [00:08<00:00,  3.23it/s]\n",
      "100%|██████████| 4/4 [00:00<00:00,  7.04it/s]\n",
      "  0%|          | 0/28 [00:00<?, ?it/s]"
     ]
    },
    {
     "name": "stdout",
     "output_type": "stream",
     "text": [
      "val loss increased, patience count:  1\n",
      "Epoch: 14, train_loss: 0.5374715924263, valid_loss: 0.5783831477165222\n"
     ]
    },
    {
     "name": "stderr",
     "output_type": "stream",
     "text": [
      "100%|██████████| 28/28 [00:08<00:00,  3.24it/s]\n",
      "100%|██████████| 4/4 [00:00<00:00,  6.93it/s]\n",
      "  0%|          | 0/28 [00:00<?, ?it/s]"
     ]
    },
    {
     "name": "stdout",
     "output_type": "stream",
     "text": [
      "val loss increased, patience count:  2\n",
      "Epoch: 15, train_loss: 0.5317314863204956, valid_loss: 0.5643966197967529\n"
     ]
    },
    {
     "name": "stderr",
     "output_type": "stream",
     "text": [
      "100%|██████████| 28/28 [00:08<00:00,  3.25it/s]\n",
      "100%|██████████| 4/4 [00:00<00:00,  6.91it/s]\n",
      "  0%|          | 0/28 [00:00<?, ?it/s]"
     ]
    },
    {
     "name": "stdout",
     "output_type": "stream",
     "text": [
      "Epoch: 16, train_loss: 0.5297430753707886, valid_loss: 0.5599715709686279\n"
     ]
    },
    {
     "name": "stderr",
     "output_type": "stream",
     "text": [
      "100%|██████████| 28/28 [00:08<00:00,  3.22it/s]\n",
      "100%|██████████| 4/4 [00:00<00:00,  7.06it/s]\n",
      "  0%|          | 0/28 [00:00<?, ?it/s]"
     ]
    },
    {
     "name": "stdout",
     "output_type": "stream",
     "text": [
      "val loss increased, patience count:  1\n",
      "Epoch: 17, train_loss: 0.5267451405525208, valid_loss: 0.5649373531341553\n"
     ]
    },
    {
     "name": "stderr",
     "output_type": "stream",
     "text": [
      "100%|██████████| 28/28 [00:08<00:00,  3.26it/s]\n",
      "100%|██████████| 4/4 [00:00<00:00,  7.29it/s]\n",
      "  0%|          | 0/28 [00:00<?, ?it/s]"
     ]
    },
    {
     "name": "stdout",
     "output_type": "stream",
     "text": [
      "Epoch: 18, train_loss: 0.5259890556335449, valid_loss: 0.5593273043632507\n"
     ]
    },
    {
     "name": "stderr",
     "output_type": "stream",
     "text": [
      "100%|██████████| 28/28 [00:08<00:00,  3.29it/s]\n",
      "100%|██████████| 4/4 [00:00<00:00,  6.12it/s]\n",
      "  0%|          | 0/28 [00:00<?, ?it/s]"
     ]
    },
    {
     "name": "stdout",
     "output_type": "stream",
     "text": [
      "val loss increased, patience count:  1\n",
      "Epoch: 19, train_loss: 0.5248295068740845, valid_loss: 0.5606446266174316\n"
     ]
    },
    {
     "name": "stderr",
     "output_type": "stream",
     "text": [
      "100%|██████████| 28/28 [00:08<00:00,  3.22it/s]\n",
      "100%|██████████| 4/4 [00:00<00:00,  6.87it/s]\n",
      "  0%|          | 0/28 [00:00<?, ?it/s]"
     ]
    },
    {
     "name": "stdout",
     "output_type": "stream",
     "text": [
      "Epoch: 20, train_loss: 0.523124635219574, valid_loss: 0.5581355690956116\n"
     ]
    },
    {
     "name": "stderr",
     "output_type": "stream",
     "text": [
      "100%|██████████| 28/28 [00:08<00:00,  3.23it/s]\n",
      "100%|██████████| 4/4 [00:00<00:00,  6.48it/s]\n",
      "  0%|          | 0/28 [00:00<?, ?it/s]"
     ]
    },
    {
     "name": "stdout",
     "output_type": "stream",
     "text": [
      "val loss increased, patience count:  1\n",
      "Epoch: 21, train_loss: 0.5195659399032593, valid_loss: 0.5609942674636841\n"
     ]
    },
    {
     "name": "stderr",
     "output_type": "stream",
     "text": [
      "100%|██████████| 28/28 [00:08<00:00,  3.25it/s]\n",
      "100%|██████████| 4/4 [00:00<00:00,  6.73it/s]\n",
      "  0%|          | 0/28 [00:00<?, ?it/s]"
     ]
    },
    {
     "name": "stdout",
     "output_type": "stream",
     "text": [
      "val loss increased, patience count:  2\n",
      "Epoch: 22, train_loss: 0.519450843334198, valid_loss: 0.5617954730987549\n"
     ]
    },
    {
     "name": "stderr",
     "output_type": "stream",
     "text": [
      "100%|██████████| 28/28 [00:08<00:00,  3.24it/s]\n",
      "100%|██████████| 4/4 [00:00<00:00,  7.07it/s]\n"
     ]
    },
    {
     "name": "stdout",
     "output_type": "stream",
     "text": [
      "Early stopped at Epoch:  23\n"
     ]
    },
    {
     "name": "stderr",
     "output_type": "stream",
     "text": [
      "  4%|▎         | 1/28 [00:00<00:04,  6.40it/s]"
     ]
    },
    {
     "name": "stdout",
     "output_type": "stream",
     "text": [
      "{'BATCH_SIZE': 512, 'EPOCHS': 40, 'OPTIMIZER': <class 'torch.optim.adam.Adam'>, 'LEARNING_RATE': 0.0001, 'LOSS': CrossEntropyLoss(), 'EARLY_STOPPING': True, 'PATIENCE': 3, 'MIN_DELTA': 0.005, 'MAXPOOL': 2, 'FC_SIZES': array([512, 256]), 'DROPOUT': 0.1, 'HIDDEN_SIZES': array([128]), 'KERNEL_SIZES': array([7])}\n"
     ]
    },
    {
     "name": "stderr",
     "output_type": "stream",
     "text": [
      "100%|██████████| 28/28 [00:05<00:00,  5.15it/s]\n",
      "100%|██████████| 4/4 [00:00<00:00, 12.32it/s]\n",
      "  4%|▎         | 1/28 [00:00<00:04,  5.43it/s]"
     ]
    },
    {
     "name": "stdout",
     "output_type": "stream",
     "text": [
      "Epoch: 0, train_loss: 0.6627111434936523, valid_loss: 0.6310381293296814\n"
     ]
    },
    {
     "name": "stderr",
     "output_type": "stream",
     "text": [
      "100%|██████████| 28/28 [00:05<00:00,  5.05it/s]\n",
      "100%|██████████| 4/4 [00:00<00:00, 12.50it/s]\n",
      "  4%|▎         | 1/28 [00:00<00:05,  5.36it/s]"
     ]
    },
    {
     "name": "stdout",
     "output_type": "stream",
     "text": [
      "Epoch: 1, train_loss: 0.5846160650253296, valid_loss: 0.5892511606216431\n"
     ]
    },
    {
     "name": "stderr",
     "output_type": "stream",
     "text": [
      "100%|██████████| 28/28 [00:05<00:00,  5.06it/s]\n",
      "100%|██████████| 4/4 [00:00<00:00, 11.88it/s]\n",
      "  4%|▎         | 1/28 [00:00<00:04,  5.40it/s]"
     ]
    },
    {
     "name": "stdout",
     "output_type": "stream",
     "text": [
      "Epoch: 2, train_loss: 0.5606628656387329, valid_loss: 0.5779289603233337\n"
     ]
    },
    {
     "name": "stderr",
     "output_type": "stream",
     "text": [
      "100%|██████████| 28/28 [00:05<00:00,  4.98it/s]\n",
      "100%|██████████| 4/4 [00:00<00:00, 12.80it/s]\n",
      "  4%|▎         | 1/28 [00:00<00:05,  5.27it/s]"
     ]
    },
    {
     "name": "stdout",
     "output_type": "stream",
     "text": [
      "Epoch: 3, train_loss: 0.5508909821510315, valid_loss: 0.5746685266494751\n"
     ]
    },
    {
     "name": "stderr",
     "output_type": "stream",
     "text": [
      "100%|██████████| 28/28 [00:05<00:00,  5.04it/s]\n",
      "100%|██████████| 4/4 [00:00<00:00, 11.99it/s]\n",
      "  4%|▎         | 1/28 [00:00<00:04,  5.49it/s]"
     ]
    },
    {
     "name": "stdout",
     "output_type": "stream",
     "text": [
      "Epoch: 4, train_loss: 0.541450023651123, valid_loss: 0.5699405670166016\n"
     ]
    },
    {
     "name": "stderr",
     "output_type": "stream",
     "text": [
      "100%|██████████| 28/28 [00:05<00:00,  5.02it/s]\n",
      "100%|██████████| 4/4 [00:00<00:00, 12.67it/s]\n",
      "  4%|▎         | 1/28 [00:00<00:05,  5.38it/s]"
     ]
    },
    {
     "name": "stdout",
     "output_type": "stream",
     "text": [
      "Epoch: 5, train_loss: 0.5372088551521301, valid_loss: 0.5697911381721497\n"
     ]
    },
    {
     "name": "stderr",
     "output_type": "stream",
     "text": [
      "100%|██████████| 28/28 [00:05<00:00,  5.01it/s]\n",
      "100%|██████████| 4/4 [00:00<00:00, 12.29it/s]\n",
      "  4%|▎         | 1/28 [00:00<00:04,  5.50it/s]"
     ]
    },
    {
     "name": "stdout",
     "output_type": "stream",
     "text": [
      "val loss increased, patience count:  1\n",
      "Epoch: 6, train_loss: 0.5303147435188293, valid_loss: 0.5806329250335693\n"
     ]
    },
    {
     "name": "stderr",
     "output_type": "stream",
     "text": [
      "100%|██████████| 28/28 [00:05<00:00,  4.99it/s]\n",
      "100%|██████████| 4/4 [00:00<00:00, 12.47it/s]\n",
      "  4%|▎         | 1/28 [00:00<00:05,  5.40it/s]"
     ]
    },
    {
     "name": "stdout",
     "output_type": "stream",
     "text": [
      "val loss increased, patience count:  2\n",
      "Epoch: 7, train_loss: 0.5329849123954773, valid_loss: 0.5723517537117004\n"
     ]
    },
    {
     "name": "stderr",
     "output_type": "stream",
     "text": [
      "100%|██████████| 28/28 [00:05<00:00,  4.93it/s]\n",
      "100%|██████████| 4/4 [00:00<00:00, 12.06it/s]\n",
      "  4%|▎         | 1/28 [00:00<00:05,  5.23it/s]"
     ]
    },
    {
     "name": "stdout",
     "output_type": "stream",
     "text": [
      "Epoch: 8, train_loss: 0.5204768776893616, valid_loss: 0.5605244040489197\n"
     ]
    },
    {
     "name": "stderr",
     "output_type": "stream",
     "text": [
      "100%|██████████| 28/28 [00:05<00:00,  4.95it/s]\n",
      "100%|██████████| 4/4 [00:00<00:00, 12.44it/s]\n",
      "  4%|▎         | 1/28 [00:00<00:04,  5.53it/s]"
     ]
    },
    {
     "name": "stdout",
     "output_type": "stream",
     "text": [
      "val loss increased, patience count:  1\n",
      "Epoch: 9, train_loss: 0.5185894966125488, valid_loss: 0.5606112480163574\n"
     ]
    },
    {
     "name": "stderr",
     "output_type": "stream",
     "text": [
      "100%|██████████| 28/28 [00:05<00:00,  5.05it/s]\n",
      "100%|██████████| 4/4 [00:00<00:00, 12.81it/s]\n",
      "  4%|▎         | 1/28 [00:00<00:04,  5.55it/s]"
     ]
    },
    {
     "name": "stdout",
     "output_type": "stream",
     "text": [
      "val loss increased, patience count:  2\n",
      "Epoch: 10, train_loss: 0.5161105990409851, valid_loss: 0.5708057880401611\n"
     ]
    },
    {
     "name": "stderr",
     "output_type": "stream",
     "text": [
      "100%|██████████| 28/28 [00:05<00:00,  5.05it/s]\n",
      "100%|██████████| 4/4 [00:00<00:00, 12.01it/s]\n",
      "  4%|▎         | 1/28 [00:00<00:04,  5.54it/s]"
     ]
    },
    {
     "name": "stdout",
     "output_type": "stream",
     "text": [
      "Epoch: 11, train_loss: 0.5105231404304504, valid_loss: 0.55234694480896\n"
     ]
    },
    {
     "name": "stderr",
     "output_type": "stream",
     "text": [
      "100%|██████████| 28/28 [00:05<00:00,  5.04it/s]\n",
      "100%|██████████| 4/4 [00:00<00:00, 12.77it/s]\n",
      "  4%|▎         | 1/28 [00:00<00:04,  5.54it/s]"
     ]
    },
    {
     "name": "stdout",
     "output_type": "stream",
     "text": [
      "val loss increased, patience count:  1\n",
      "Epoch: 12, train_loss: 0.5041314363479614, valid_loss: 0.555302619934082\n"
     ]
    },
    {
     "name": "stderr",
     "output_type": "stream",
     "text": [
      "100%|██████████| 28/28 [00:05<00:00,  5.06it/s]\n",
      "100%|██████████| 4/4 [00:00<00:00, 12.22it/s]\n",
      "  4%|▎         | 1/28 [00:00<00:05,  5.32it/s]"
     ]
    },
    {
     "name": "stdout",
     "output_type": "stream",
     "text": [
      "val loss increased, patience count:  2\n",
      "Epoch: 13, train_loss: 0.4995136260986328, valid_loss: 0.5554245114326477\n"
     ]
    },
    {
     "name": "stderr",
     "output_type": "stream",
     "text": [
      "100%|██████████| 28/28 [00:05<00:00,  5.04it/s]\n",
      "100%|██████████| 4/4 [00:00<00:00, 11.76it/s]\n",
      "  4%|▎         | 1/28 [00:00<00:04,  5.41it/s]"
     ]
    },
    {
     "name": "stdout",
     "output_type": "stream",
     "text": [
      "Epoch: 14, train_loss: 0.49575674533843994, valid_loss: 0.5509389638900757\n"
     ]
    },
    {
     "name": "stderr",
     "output_type": "stream",
     "text": [
      "100%|██████████| 28/28 [00:05<00:00,  5.00it/s]\n",
      "100%|██████████| 4/4 [00:00<00:00, 12.58it/s]\n",
      "  4%|▎         | 1/28 [00:00<00:05,  5.36it/s]"
     ]
    },
    {
     "name": "stdout",
     "output_type": "stream",
     "text": [
      "val loss increased, patience count:  1\n",
      "Epoch: 15, train_loss: 0.5005918741226196, valid_loss: 0.5530192852020264\n"
     ]
    },
    {
     "name": "stderr",
     "output_type": "stream",
     "text": [
      "100%|██████████| 28/28 [00:05<00:00,  5.07it/s]\n",
      "100%|██████████| 4/4 [00:00<00:00, 12.40it/s]\n",
      "  0%|          | 0/28 [00:00<?, ?it/s]"
     ]
    },
    {
     "name": "stdout",
     "output_type": "stream",
     "text": [
      "val loss increased, patience count:  2\n",
      "Epoch: 16, train_loss: 0.4944426715373993, valid_loss: 0.5539644956588745\n"
     ]
    },
    {
     "name": "stderr",
     "output_type": "stream",
     "text": [
      "100%|██████████| 28/28 [00:05<00:00,  5.00it/s]\n",
      "100%|██████████| 4/4 [00:00<00:00, 11.65it/s]\n",
      "  4%|▎         | 1/28 [00:00<00:04,  5.53it/s]"
     ]
    },
    {
     "name": "stdout",
     "output_type": "stream",
     "text": [
      "val loss increased, patience count:  3\n",
      "Epoch: 17, train_loss: 0.49116092920303345, valid_loss: 0.556195855140686\n"
     ]
    },
    {
     "name": "stderr",
     "output_type": "stream",
     "text": [
      "100%|██████████| 28/28 [00:05<00:00,  5.01it/s]\n",
      "100%|██████████| 4/4 [00:00<00:00, 12.23it/s]\n"
     ]
    },
    {
     "name": "stdout",
     "output_type": "stream",
     "text": [
      "Early stopped at Epoch:  18\n"
     ]
    },
    {
     "name": "stderr",
     "output_type": "stream",
     "text": [
      "  4%|▎         | 1/28 [00:00<00:04,  5.89it/s]"
     ]
    },
    {
     "name": "stdout",
     "output_type": "stream",
     "text": [
      "{'BATCH_SIZE': 512, 'EPOCHS': 50, 'OPTIMIZER': <class 'torch.optim.adam.Adam'>, 'LEARNING_RATE': 0.0001, 'LOSS': CrossEntropyLoss(), 'EARLY_STOPPING': True, 'PATIENCE': 3, 'MIN_DELTA': 5e-05, 'MAXPOOL': 2, 'FC_SIZES': array([128,  64]), 'DROPOUT': 0.4, 'HIDDEN_SIZES': array([256]), 'KERNEL_SIZES': array([3])}\n"
     ]
    },
    {
     "name": "stderr",
     "output_type": "stream",
     "text": [
      "100%|██████████| 28/28 [00:05<00:00,  5.21it/s]\n",
      "100%|██████████| 4/4 [00:00<00:00, 11.48it/s]\n",
      "  4%|▎         | 1/28 [00:00<00:04,  5.68it/s]"
     ]
    },
    {
     "name": "stdout",
     "output_type": "stream",
     "text": [
      "Epoch: 0, train_loss: 0.6741241812705994, valid_loss: 0.6500095725059509\n"
     ]
    },
    {
     "name": "stderr",
     "output_type": "stream",
     "text": [
      "100%|██████████| 28/28 [00:05<00:00,  5.33it/s]\n",
      "100%|██████████| 4/4 [00:00<00:00, 11.74it/s]\n",
      "  4%|▎         | 1/28 [00:00<00:04,  5.83it/s]"
     ]
    },
    {
     "name": "stdout",
     "output_type": "stream",
     "text": [
      "Epoch: 1, train_loss: 0.6242403984069824, valid_loss: 0.6115562915802002\n"
     ]
    },
    {
     "name": "stderr",
     "output_type": "stream",
     "text": [
      "100%|██████████| 28/28 [00:05<00:00,  5.32it/s]\n",
      "100%|██████████| 4/4 [00:00<00:00, 11.39it/s]\n",
      "  4%|▎         | 1/28 [00:00<00:04,  5.65it/s]"
     ]
    },
    {
     "name": "stdout",
     "output_type": "stream",
     "text": [
      "Epoch: 2, train_loss: 0.5887241959571838, valid_loss: 0.5968009829521179\n"
     ]
    },
    {
     "name": "stderr",
     "output_type": "stream",
     "text": [
      "100%|██████████| 28/28 [00:05<00:00,  5.19it/s]\n",
      "100%|██████████| 4/4 [00:00<00:00, 11.41it/s]\n",
      "  4%|▎         | 1/28 [00:00<00:05,  5.32it/s]"
     ]
    },
    {
     "name": "stdout",
     "output_type": "stream",
     "text": [
      "Epoch: 3, train_loss: 0.5718713998794556, valid_loss: 0.5887715816497803\n"
     ]
    },
    {
     "name": "stderr",
     "output_type": "stream",
     "text": [
      "100%|██████████| 28/28 [00:05<00:00,  5.14it/s]\n",
      "100%|██████████| 4/4 [00:00<00:00, 10.55it/s]\n",
      "  0%|          | 0/28 [00:00<?, ?it/s]"
     ]
    },
    {
     "name": "stdout",
     "output_type": "stream",
     "text": [
      "Epoch: 4, train_loss: 0.5655046701431274, valid_loss: 0.5807750225067139\n"
     ]
    },
    {
     "name": "stderr",
     "output_type": "stream",
     "text": [
      "100%|██████████| 28/28 [00:05<00:00,  5.14it/s]\n",
      "100%|██████████| 4/4 [00:00<00:00, 10.27it/s]\n",
      "  4%|▎         | 1/28 [00:00<00:05,  5.13it/s]"
     ]
    },
    {
     "name": "stdout",
     "output_type": "stream",
     "text": [
      "Epoch: 5, train_loss: 0.5564720630645752, valid_loss: 0.578872561454773\n"
     ]
    },
    {
     "name": "stderr",
     "output_type": "stream",
     "text": [
      "100%|██████████| 28/28 [00:05<00:00,  5.18it/s]\n",
      "100%|██████████| 4/4 [00:00<00:00, 11.01it/s]\n",
      "  4%|▎         | 1/28 [00:00<00:04,  5.83it/s]"
     ]
    },
    {
     "name": "stdout",
     "output_type": "stream",
     "text": [
      "Epoch: 6, train_loss: 0.5526341199874878, valid_loss: 0.5765255689620972\n"
     ]
    },
    {
     "name": "stderr",
     "output_type": "stream",
     "text": [
      "100%|██████████| 28/28 [00:05<00:00,  5.31it/s]\n",
      "100%|██████████| 4/4 [00:00<00:00, 11.14it/s]\n",
      "  4%|▎         | 1/28 [00:00<00:04,  5.66it/s]"
     ]
    },
    {
     "name": "stdout",
     "output_type": "stream",
     "text": [
      "Epoch: 7, train_loss: 0.5484256744384766, valid_loss: 0.5687581300735474\n"
     ]
    },
    {
     "name": "stderr",
     "output_type": "stream",
     "text": [
      "100%|██████████| 28/28 [00:05<00:00,  5.05it/s]\n",
      "100%|██████████| 4/4 [00:00<00:00,  9.98it/s]\n",
      "  4%|▎         | 1/28 [00:00<00:05,  5.27it/s]"
     ]
    },
    {
     "name": "stdout",
     "output_type": "stream",
     "text": [
      "val loss increased, patience count:  1\n",
      "Epoch: 8, train_loss: 0.5430023074150085, valid_loss: 0.5702071785926819\n"
     ]
    },
    {
     "name": "stderr",
     "output_type": "stream",
     "text": [
      "100%|██████████| 28/28 [00:05<00:00,  4.84it/s]\n",
      "100%|██████████| 4/4 [00:00<00:00, 10.05it/s]\n",
      "  0%|          | 0/28 [00:00<?, ?it/s]"
     ]
    },
    {
     "name": "stdout",
     "output_type": "stream",
     "text": [
      "val loss increased, patience count:  2\n",
      "Epoch: 9, train_loss: 0.5427153706550598, valid_loss: 0.5734508037567139\n"
     ]
    },
    {
     "name": "stderr",
     "output_type": "stream",
     "text": [
      "100%|██████████| 28/28 [00:05<00:00,  5.01it/s]\n",
      "100%|██████████| 4/4 [00:00<00:00, 11.06it/s]\n",
      "  4%|▎         | 1/28 [00:00<00:04,  5.72it/s]"
     ]
    },
    {
     "name": "stdout",
     "output_type": "stream",
     "text": [
      "val loss increased, patience count:  3\n",
      "Epoch: 10, train_loss: 0.5411604642868042, valid_loss: 0.5749251842498779\n"
     ]
    },
    {
     "name": "stderr",
     "output_type": "stream",
     "text": [
      "100%|██████████| 28/28 [00:05<00:00,  5.17it/s]\n",
      "100%|██████████| 4/4 [00:00<00:00, 10.19it/s]\n"
     ]
    },
    {
     "name": "stdout",
     "output_type": "stream",
     "text": [
      "Early stopped at Epoch:  11\n"
     ]
    },
    {
     "name": "stderr",
     "output_type": "stream",
     "text": [
      "\r",
      "  0%|          | 0/28 [00:00<?, ?it/s]"
     ]
    },
    {
     "name": "stdout",
     "output_type": "stream",
     "text": [
      "{'BATCH_SIZE': 512, 'EPOCHS': 40, 'OPTIMIZER': <class 'torch.optim.adam.Adam'>, 'LEARNING_RATE': 0.0005, 'LOSS': CrossEntropyLoss(), 'EARLY_STOPPING': True, 'PATIENCE': 3, 'MIN_DELTA': 0.005, 'MAXPOOL': 2, 'FC_SIZES': array([256, 128]), 'DROPOUT': 0.1, 'HIDDEN_SIZES': array([64]), 'KERNEL_SIZES': array([9])}\n"
     ]
    },
    {
     "name": "stderr",
     "output_type": "stream",
     "text": [
      "100%|██████████| 28/28 [00:03<00:00,  8.80it/s]\n",
      "100%|██████████| 4/4 [00:00<00:00, 16.32it/s]\n",
      "  4%|▎         | 1/28 [00:00<00:02,  9.55it/s]"
     ]
    },
    {
     "name": "stdout",
     "output_type": "stream",
     "text": [
      "Epoch: 0, train_loss: 0.6263813972473145, valid_loss: 0.6125977039337158\n"
     ]
    },
    {
     "name": "stderr",
     "output_type": "stream",
     "text": [
      "100%|██████████| 28/28 [00:03<00:00,  8.64it/s]\n",
      "100%|██████████| 4/4 [00:00<00:00, 16.04it/s]\n",
      "  4%|▎         | 1/28 [00:00<00:03,  8.82it/s]"
     ]
    },
    {
     "name": "stdout",
     "output_type": "stream",
     "text": [
      "Epoch: 1, train_loss: 0.5566280484199524, valid_loss: 0.5746719837188721\n"
     ]
    },
    {
     "name": "stderr",
     "output_type": "stream",
     "text": [
      "100%|██████████| 28/28 [00:03<00:00,  8.73it/s]\n",
      "100%|██████████| 4/4 [00:00<00:00, 16.82it/s]\n",
      "  4%|▎         | 1/28 [00:00<00:03,  8.83it/s]"
     ]
    },
    {
     "name": "stdout",
     "output_type": "stream",
     "text": [
      "Epoch: 2, train_loss: 0.5434080362319946, valid_loss: 0.5632500648498535\n"
     ]
    },
    {
     "name": "stderr",
     "output_type": "stream",
     "text": [
      "100%|██████████| 28/28 [00:03<00:00,  8.72it/s]\n",
      "100%|██████████| 4/4 [00:00<00:00, 17.14it/s]\n",
      "  4%|▎         | 1/28 [00:00<00:03,  8.77it/s]"
     ]
    },
    {
     "name": "stdout",
     "output_type": "stream",
     "text": [
      "Epoch: 3, train_loss: 0.531178891658783, valid_loss: 0.5595000386238098\n"
     ]
    },
    {
     "name": "stderr",
     "output_type": "stream",
     "text": [
      "100%|██████████| 28/28 [00:03<00:00,  8.75it/s]\n",
      "100%|██████████| 4/4 [00:00<00:00, 16.01it/s]\n",
      "  4%|▎         | 1/28 [00:00<00:02,  9.24it/s]"
     ]
    },
    {
     "name": "stdout",
     "output_type": "stream",
     "text": [
      "val loss increased, patience count:  1\n",
      "Epoch: 4, train_loss: 0.5216279625892639, valid_loss: 0.5604459047317505\n"
     ]
    },
    {
     "name": "stderr",
     "output_type": "stream",
     "text": [
      "100%|██████████| 28/28 [00:03<00:00,  8.76it/s]\n",
      "100%|██████████| 4/4 [00:00<00:00, 14.29it/s]\n",
      "  4%|▎         | 1/28 [00:00<00:02,  9.07it/s]"
     ]
    },
    {
     "name": "stdout",
     "output_type": "stream",
     "text": [
      "Epoch: 5, train_loss: 0.5173950791358948, valid_loss: 0.5518702864646912\n"
     ]
    },
    {
     "name": "stderr",
     "output_type": "stream",
     "text": [
      "100%|██████████| 28/28 [00:03<00:00,  8.76it/s]\n",
      "100%|██████████| 4/4 [00:00<00:00, 16.21it/s]\n",
      "  4%|▎         | 1/28 [00:00<00:02,  9.52it/s]"
     ]
    },
    {
     "name": "stdout",
     "output_type": "stream",
     "text": [
      "val loss increased, patience count:  1\n",
      "Epoch: 6, train_loss: 0.5141322612762451, valid_loss: 0.5549668073654175\n"
     ]
    },
    {
     "name": "stderr",
     "output_type": "stream",
     "text": [
      "100%|██████████| 28/28 [00:03<00:00,  8.64it/s]\n",
      "100%|██████████| 4/4 [00:00<00:00, 17.01it/s]\n",
      "  4%|▎         | 1/28 [00:00<00:02,  9.49it/s]"
     ]
    },
    {
     "name": "stdout",
     "output_type": "stream",
     "text": [
      "Epoch: 7, train_loss: 0.5054630041122437, valid_loss: 0.550706148147583\n"
     ]
    },
    {
     "name": "stderr",
     "output_type": "stream",
     "text": [
      "100%|██████████| 28/28 [00:03<00:00,  8.54it/s]\n",
      "100%|██████████| 4/4 [00:00<00:00, 16.28it/s]\n",
      "  4%|▎         | 1/28 [00:00<00:02,  9.01it/s]"
     ]
    },
    {
     "name": "stdout",
     "output_type": "stream",
     "text": [
      "val loss increased, patience count:  1\n",
      "Epoch: 8, train_loss: 0.4980800449848175, valid_loss: 0.5607997179031372\n"
     ]
    },
    {
     "name": "stderr",
     "output_type": "stream",
     "text": [
      "100%|██████████| 28/28 [00:03<00:00,  8.76it/s]\n",
      "100%|██████████| 4/4 [00:00<00:00, 16.27it/s]\n",
      "  4%|▎         | 1/28 [00:00<00:03,  8.84it/s]"
     ]
    },
    {
     "name": "stdout",
     "output_type": "stream",
     "text": [
      "val loss increased, patience count:  2\n",
      "Epoch: 9, train_loss: 0.49467235803604126, valid_loss: 0.570871114730835\n"
     ]
    },
    {
     "name": "stderr",
     "output_type": "stream",
     "text": [
      "100%|██████████| 28/28 [00:03<00:00,  8.68it/s]\n",
      "100%|██████████| 4/4 [00:00<00:00, 16.38it/s]\n",
      "  4%|▎         | 1/28 [00:00<00:03,  8.93it/s]"
     ]
    },
    {
     "name": "stdout",
     "output_type": "stream",
     "text": [
      "val loss increased, patience count:  3\n",
      "Epoch: 10, train_loss: 0.4847278296947479, valid_loss: 0.5519166588783264\n"
     ]
    },
    {
     "name": "stderr",
     "output_type": "stream",
     "text": [
      "100%|██████████| 28/28 [00:03<00:00,  8.58it/s]\n",
      "100%|██████████| 4/4 [00:00<00:00, 13.61it/s]\n"
     ]
    },
    {
     "name": "stdout",
     "output_type": "stream",
     "text": [
      "Early stopped at Epoch:  11\n"
     ]
    },
    {
     "name": "stderr",
     "output_type": "stream",
     "text": [
      "  2%|▏         | 2/115 [00:00<00:09, 11.61it/s]"
     ]
    },
    {
     "name": "stdout",
     "output_type": "stream",
     "text": [
      "{'BATCH_SIZE': 128, 'EPOCHS': 20, 'OPTIMIZER': <class 'torch.optim.adam.Adam'>, 'LEARNING_RATE': 0.0001, 'LOSS': CrossEntropyLoss(), 'EARLY_STOPPING': True, 'PATIENCE': 3, 'MIN_DELTA': 0.0005, 'MAXPOOL': 2, 'FC_SIZES': array([128,  64]), 'DROPOUT': 0.7, 'HIDDEN_SIZES': array([256]), 'KERNEL_SIZES': array([9])}\n"
     ]
    },
    {
     "name": "stderr",
     "output_type": "stream",
     "text": [
      "100%|██████████| 115/115 [00:10<00:00, 11.11it/s]\n",
      "100%|██████████| 16/16 [00:00<00:00, 25.81it/s]\n",
      "  2%|▏         | 2/115 [00:00<00:09, 11.63it/s]"
     ]
    },
    {
     "name": "stdout",
     "output_type": "stream",
     "text": [
      "Epoch: 0, train_loss: 0.6700535416603088, valid_loss: 0.6247735619544983\n"
     ]
    },
    {
     "name": "stderr",
     "output_type": "stream",
     "text": [
      "100%|██████████| 115/115 [00:10<00:00, 11.32it/s]\n",
      "100%|██████████| 16/16 [00:00<00:00, 24.04it/s]\n",
      "  2%|▏         | 2/115 [00:00<00:09, 11.34it/s]"
     ]
    },
    {
     "name": "stdout",
     "output_type": "stream",
     "text": [
      "Epoch: 1, train_loss: 0.594406008720398, valid_loss: 0.5867501497268677\n"
     ]
    },
    {
     "name": "stderr",
     "output_type": "stream",
     "text": [
      "100%|██████████| 115/115 [00:10<00:00, 11.30it/s]\n",
      "100%|██████████| 16/16 [00:00<00:00, 25.01it/s]\n",
      "  2%|▏         | 2/115 [00:00<00:09, 11.57it/s]"
     ]
    },
    {
     "name": "stdout",
     "output_type": "stream",
     "text": [
      "Epoch: 2, train_loss: 0.5704041719436646, valid_loss: 0.5836650729179382\n"
     ]
    },
    {
     "name": "stderr",
     "output_type": "stream",
     "text": [
      "100%|██████████| 115/115 [00:10<00:00, 11.33it/s]\n",
      "100%|██████████| 16/16 [00:00<00:00, 25.68it/s]\n",
      "  2%|▏         | 2/115 [00:00<00:09, 12.02it/s]"
     ]
    },
    {
     "name": "stdout",
     "output_type": "stream",
     "text": [
      "Epoch: 3, train_loss: 0.5605427622795105, valid_loss: 0.5733902454376221\n"
     ]
    },
    {
     "name": "stderr",
     "output_type": "stream",
     "text": [
      "100%|██████████| 115/115 [00:10<00:00, 11.37it/s]\n",
      "100%|██████████| 16/16 [00:00<00:00, 25.83it/s]\n",
      "  2%|▏         | 2/115 [00:00<00:09, 12.22it/s]"
     ]
    },
    {
     "name": "stdout",
     "output_type": "stream",
     "text": [
      "Epoch: 4, train_loss: 0.5549036264419556, valid_loss: 0.573132336139679\n"
     ]
    },
    {
     "name": "stderr",
     "output_type": "stream",
     "text": [
      "100%|██████████| 115/115 [00:10<00:00, 11.20it/s]\n",
      "100%|██████████| 16/16 [00:00<00:00, 26.17it/s]\n",
      "  2%|▏         | 2/115 [00:00<00:10, 10.99it/s]"
     ]
    },
    {
     "name": "stdout",
     "output_type": "stream",
     "text": [
      "val loss increased, patience count:  1\n",
      "Epoch: 5, train_loss: 0.5489700436592102, valid_loss: 0.5739845633506775\n"
     ]
    },
    {
     "name": "stderr",
     "output_type": "stream",
     "text": [
      "100%|██████████| 115/115 [00:10<00:00, 11.04it/s]\n",
      "100%|██████████| 16/16 [00:00<00:00, 26.07it/s]\n",
      "  2%|▏         | 2/115 [00:00<00:09, 11.77it/s]"
     ]
    },
    {
     "name": "stdout",
     "output_type": "stream",
     "text": [
      "Epoch: 6, train_loss: 0.5442197918891907, valid_loss: 0.5686025023460388\n"
     ]
    },
    {
     "name": "stderr",
     "output_type": "stream",
     "text": [
      "100%|██████████| 115/115 [00:10<00:00, 11.04it/s]\n",
      "100%|██████████| 16/16 [00:00<00:00, 25.96it/s]\n",
      "  2%|▏         | 2/115 [00:00<00:10, 11.27it/s]"
     ]
    },
    {
     "name": "stdout",
     "output_type": "stream",
     "text": [
      "Epoch: 7, train_loss: 0.5368778109550476, valid_loss: 0.5619229674339294\n"
     ]
    },
    {
     "name": "stderr",
     "output_type": "stream",
     "text": [
      "100%|██████████| 115/115 [00:10<00:00, 11.13it/s]\n",
      "100%|██████████| 16/16 [00:00<00:00, 25.95it/s]\n",
      "  2%|▏         | 2/115 [00:00<00:09, 11.53it/s]"
     ]
    },
    {
     "name": "stdout",
     "output_type": "stream",
     "text": [
      "val loss increased, patience count:  1\n",
      "Epoch: 8, train_loss: 0.5341470837593079, valid_loss: 0.565417468547821\n"
     ]
    },
    {
     "name": "stderr",
     "output_type": "stream",
     "text": [
      "100%|██████████| 115/115 [00:10<00:00, 11.23it/s]\n",
      "100%|██████████| 16/16 [00:00<00:00, 26.92it/s]\n",
      "  2%|▏         | 2/115 [00:00<00:09, 11.68it/s]"
     ]
    },
    {
     "name": "stdout",
     "output_type": "stream",
     "text": [
      "val loss increased, patience count:  2\n",
      "Epoch: 9, train_loss: 0.5325143337249756, valid_loss: 0.5670244693756104\n"
     ]
    },
    {
     "name": "stderr",
     "output_type": "stream",
     "text": [
      "100%|██████████| 115/115 [00:10<00:00, 11.28it/s]\n",
      "100%|██████████| 16/16 [00:00<00:00, 25.66it/s]\n",
      "  2%|▏         | 2/115 [00:00<00:09, 11.33it/s]"
     ]
    },
    {
     "name": "stdout",
     "output_type": "stream",
     "text": [
      "Epoch: 10, train_loss: 0.530994176864624, valid_loss: 0.5531700849533081\n"
     ]
    },
    {
     "name": "stderr",
     "output_type": "stream",
     "text": [
      "100%|██████████| 115/115 [00:10<00:00, 11.15it/s]\n",
      "100%|██████████| 16/16 [00:00<00:00, 25.50it/s]\n",
      "  2%|▏         | 2/115 [00:00<00:09, 11.38it/s]"
     ]
    },
    {
     "name": "stdout",
     "output_type": "stream",
     "text": [
      "val loss increased, patience count:  1\n",
      "Epoch: 11, train_loss: 0.5259864330291748, valid_loss: 0.565147340297699\n"
     ]
    },
    {
     "name": "stderr",
     "output_type": "stream",
     "text": [
      "100%|██████████| 115/115 [00:10<00:00, 11.25it/s]\n",
      "100%|██████████| 16/16 [00:00<00:00, 25.93it/s]\n",
      "  2%|▏         | 2/115 [00:00<00:09, 11.85it/s]"
     ]
    },
    {
     "name": "stdout",
     "output_type": "stream",
     "text": [
      "Epoch: 12, train_loss: 0.5222051739692688, valid_loss: 0.5531267523765564\n"
     ]
    },
    {
     "name": "stderr",
     "output_type": "stream",
     "text": [
      "100%|██████████| 115/115 [00:10<00:00, 11.34it/s]\n",
      "100%|██████████| 16/16 [00:00<00:00, 26.29it/s]\n",
      "  2%|▏         | 2/115 [00:00<00:09, 11.66it/s]"
     ]
    },
    {
     "name": "stdout",
     "output_type": "stream",
     "text": [
      "val loss increased, patience count:  1\n",
      "Epoch: 13, train_loss: 0.5233668088912964, valid_loss: 0.5647106170654297\n"
     ]
    },
    {
     "name": "stderr",
     "output_type": "stream",
     "text": [
      "100%|██████████| 115/115 [00:10<00:00, 11.17it/s]\n",
      "100%|██████████| 16/16 [00:00<00:00, 25.64it/s]\n",
      "  2%|▏         | 2/115 [00:00<00:09, 11.94it/s]"
     ]
    },
    {
     "name": "stdout",
     "output_type": "stream",
     "text": [
      "val loss increased, patience count:  2\n",
      "Epoch: 14, train_loss: 0.5192061066627502, valid_loss: 0.5550892949104309\n"
     ]
    },
    {
     "name": "stderr",
     "output_type": "stream",
     "text": [
      "100%|██████████| 115/115 [00:10<00:00, 11.30it/s]\n",
      "100%|██████████| 16/16 [00:00<00:00, 25.72it/s]\n",
      "  2%|▏         | 2/115 [00:00<00:09, 12.34it/s]"
     ]
    },
    {
     "name": "stdout",
     "output_type": "stream",
     "text": [
      "Epoch: 15, train_loss: 0.5163334608078003, valid_loss: 0.5511961579322815\n"
     ]
    },
    {
     "name": "stderr",
     "output_type": "stream",
     "text": [
      "100%|██████████| 115/115 [00:10<00:00, 11.22it/s]\n",
      "100%|██████████| 16/16 [00:00<00:00, 25.92it/s]\n",
      "  2%|▏         | 2/115 [00:00<00:09, 11.47it/s]"
     ]
    },
    {
     "name": "stdout",
     "output_type": "stream",
     "text": [
      "val loss increased, patience count:  1\n",
      "Epoch: 16, train_loss: 0.5184489488601685, valid_loss: 0.5522159337997437\n"
     ]
    },
    {
     "name": "stderr",
     "output_type": "stream",
     "text": [
      "100%|██████████| 115/115 [00:10<00:00, 11.16it/s]\n",
      "100%|██████████| 16/16 [00:00<00:00, 26.30it/s]\n",
      "  2%|▏         | 2/115 [00:00<00:09, 11.68it/s]"
     ]
    },
    {
     "name": "stdout",
     "output_type": "stream",
     "text": [
      "val loss increased, patience count:  2\n",
      "Epoch: 17, train_loss: 0.5115724802017212, valid_loss: 0.5587069988250732\n"
     ]
    },
    {
     "name": "stderr",
     "output_type": "stream",
     "text": [
      "100%|██████████| 115/115 [00:10<00:00, 11.22it/s]\n",
      "100%|██████████| 16/16 [00:00<00:00, 25.90it/s]\n",
      "  2%|▏         | 2/115 [00:00<00:09, 11.95it/s]"
     ]
    },
    {
     "name": "stdout",
     "output_type": "stream",
     "text": [
      "Epoch: 18, train_loss: 0.5123773217201233, valid_loss: 0.5484780073165894\n"
     ]
    },
    {
     "name": "stderr",
     "output_type": "stream",
     "text": [
      "100%|██████████| 115/115 [00:10<00:00, 11.07it/s]\n",
      "100%|██████████| 16/16 [00:00<00:00, 24.30it/s]\n"
     ]
    },
    {
     "name": "stdout",
     "output_type": "stream",
     "text": [
      "val loss increased, patience count:  1\n",
      "Epoch: 19, train_loss: 0.5106320381164551, valid_loss: 0.5564851760864258\n"
     ]
    },
    {
     "name": "stderr",
     "output_type": "stream",
     "text": [
      "  4%|▎         | 1/28 [00:00<00:03,  7.21it/s]"
     ]
    },
    {
     "name": "stdout",
     "output_type": "stream",
     "text": [
      "{'BATCH_SIZE': 512, 'EPOCHS': 50, 'OPTIMIZER': <class 'torch.optim.adam.Adam'>, 'LEARNING_RATE': 0.0005, 'LOSS': CrossEntropyLoss(), 'EARLY_STOPPING': True, 'PATIENCE': 3, 'MIN_DELTA': 0.0001, 'MAXPOOL': 2, 'FC_SIZES': array([512, 256]), 'DROPOUT': 0.0, 'HIDDEN_SIZES': array([128]), 'KERNEL_SIZES': array([3])}\n"
     ]
    },
    {
     "name": "stderr",
     "output_type": "stream",
     "text": [
      "100%|██████████| 28/28 [00:04<00:00,  6.16it/s]\n",
      "100%|██████████| 4/4 [00:00<00:00, 14.30it/s]\n",
      "  4%|▎         | 1/28 [00:00<00:04,  6.40it/s]"
     ]
    },
    {
     "name": "stdout",
     "output_type": "stream",
     "text": [
      "Epoch: 0, train_loss: 0.5986922383308411, valid_loss: 0.5849162936210632\n"
     ]
    },
    {
     "name": "stderr",
     "output_type": "stream",
     "text": [
      "100%|██████████| 28/28 [00:04<00:00,  6.20it/s]\n",
      "100%|██████████| 4/4 [00:00<00:00, 13.99it/s]\n",
      "  4%|▎         | 1/28 [00:00<00:04,  6.66it/s]"
     ]
    },
    {
     "name": "stdout",
     "output_type": "stream",
     "text": [
      "Epoch: 1, train_loss: 0.5487633347511292, valid_loss: 0.5647668242454529\n"
     ]
    },
    {
     "name": "stderr",
     "output_type": "stream",
     "text": [
      "100%|██████████| 28/28 [00:04<00:00,  6.17it/s]\n",
      "100%|██████████| 4/4 [00:00<00:00, 13.95it/s]\n",
      "  4%|▎         | 1/28 [00:00<00:03,  6.99it/s]"
     ]
    },
    {
     "name": "stdout",
     "output_type": "stream",
     "text": [
      "Epoch: 2, train_loss: 0.5382136106491089, valid_loss: 0.5620679259300232\n"
     ]
    },
    {
     "name": "stderr",
     "output_type": "stream",
     "text": [
      "100%|██████████| 28/28 [00:04<00:00,  6.18it/s]\n",
      "100%|██████████| 4/4 [00:00<00:00, 13.92it/s]\n",
      "  4%|▎         | 1/28 [00:00<00:04,  6.41it/s]"
     ]
    },
    {
     "name": "stdout",
     "output_type": "stream",
     "text": [
      "Epoch: 3, train_loss: 0.5305284857749939, valid_loss: 0.5601635575294495\n"
     ]
    },
    {
     "name": "stderr",
     "output_type": "stream",
     "text": [
      "100%|██████████| 28/28 [00:04<00:00,  6.13it/s]\n",
      "100%|██████████| 4/4 [00:00<00:00, 13.84it/s]\n",
      "  4%|▎         | 1/28 [00:00<00:04,  6.19it/s]"
     ]
    },
    {
     "name": "stdout",
     "output_type": "stream",
     "text": [
      "val loss increased, patience count:  1\n",
      "Epoch: 4, train_loss: 0.5225187540054321, valid_loss: 0.5695176124572754\n"
     ]
    },
    {
     "name": "stderr",
     "output_type": "stream",
     "text": [
      "100%|██████████| 28/28 [00:04<00:00,  6.10it/s]\n",
      "100%|██████████| 4/4 [00:00<00:00, 14.17it/s]\n",
      "  4%|▎         | 1/28 [00:00<00:03,  6.79it/s]"
     ]
    },
    {
     "name": "stdout",
     "output_type": "stream",
     "text": [
      "Epoch: 5, train_loss: 0.5112377405166626, valid_loss: 0.5599221587181091\n"
     ]
    },
    {
     "name": "stderr",
     "output_type": "stream",
     "text": [
      "100%|██████████| 28/28 [00:04<00:00,  6.06it/s]\n",
      "100%|██████████| 4/4 [00:00<00:00, 14.26it/s]\n",
      "  4%|▎         | 1/28 [00:00<00:04,  6.64it/s]"
     ]
    },
    {
     "name": "stdout",
     "output_type": "stream",
     "text": [
      "Epoch: 6, train_loss: 0.507320761680603, valid_loss: 0.5544243454933167\n"
     ]
    },
    {
     "name": "stderr",
     "output_type": "stream",
     "text": [
      "100%|██████████| 28/28 [00:04<00:00,  6.15it/s]\n",
      "100%|██████████| 4/4 [00:00<00:00, 13.95it/s]\n",
      "  4%|▎         | 1/28 [00:00<00:04,  6.64it/s]"
     ]
    },
    {
     "name": "stdout",
     "output_type": "stream",
     "text": [
      "val loss increased, patience count:  1\n",
      "Epoch: 7, train_loss: 0.4966472089290619, valid_loss: 0.5609889030456543\n"
     ]
    },
    {
     "name": "stderr",
     "output_type": "stream",
     "text": [
      "100%|██████████| 28/28 [00:04<00:00,  6.20it/s]\n",
      "100%|██████████| 4/4 [00:00<00:00, 13.70it/s]\n",
      "  4%|▎         | 1/28 [00:00<00:03,  6.87it/s]"
     ]
    },
    {
     "name": "stdout",
     "output_type": "stream",
     "text": [
      "val loss increased, patience count:  2\n",
      "Epoch: 8, train_loss: 0.4847559332847595, valid_loss: 0.5603204369544983\n"
     ]
    },
    {
     "name": "stderr",
     "output_type": "stream",
     "text": [
      "100%|██████████| 28/28 [00:04<00:00,  6.18it/s]\n",
      "100%|██████████| 4/4 [00:00<00:00, 13.31it/s]\n",
      "  4%|▎         | 1/28 [00:00<00:04,  6.22it/s]"
     ]
    },
    {
     "name": "stdout",
     "output_type": "stream",
     "text": [
      "val loss increased, patience count:  3\n",
      "Epoch: 9, train_loss: 0.47488752007484436, valid_loss: 0.5614478588104248\n"
     ]
    },
    {
     "name": "stderr",
     "output_type": "stream",
     "text": [
      "100%|██████████| 28/28 [00:04<00:00,  6.09it/s]\n",
      "100%|██████████| 4/4 [00:00<00:00, 13.79it/s]\n"
     ]
    },
    {
     "name": "stdout",
     "output_type": "stream",
     "text": [
      "Early stopped at Epoch:  10\n"
     ]
    },
    {
     "name": "stderr",
     "output_type": "stream",
     "text": [
      "\r",
      "  0%|          | 0/57 [00:00<?, ?it/s]"
     ]
    },
    {
     "name": "stdout",
     "output_type": "stream",
     "text": [
      "{'BATCH_SIZE': 256, 'EPOCHS': 50, 'OPTIMIZER': <class 'torch.optim.adam.Adam'>, 'LEARNING_RATE': 5e-05, 'LOSS': CrossEntropyLoss(), 'EARLY_STOPPING': True, 'PATIENCE': 2, 'MIN_DELTA': 0.001, 'MAXPOOL': 2, 'FC_SIZES': array([256, 128]), 'DROPOUT': 0.1, 'HIDDEN_SIZES': array([512]), 'KERNEL_SIZES': array([9])}\n"
     ]
    },
    {
     "name": "stderr",
     "output_type": "stream",
     "text": [
      "100%|██████████| 57/57 [00:22<00:00,  2.59it/s]\n",
      "100%|██████████| 8/8 [00:01<00:00,  7.50it/s]\n",
      "  0%|          | 0/57 [00:00<?, ?it/s]"
     ]
    },
    {
     "name": "stdout",
     "output_type": "stream",
     "text": [
      "Epoch: 0, train_loss: 0.6396538019180298, valid_loss: 0.6200332641601562\n"
     ]
    },
    {
     "name": "stderr",
     "output_type": "stream",
     "text": [
      "100%|██████████| 57/57 [00:22<00:00,  2.50it/s]\n",
      "100%|██████████| 8/8 [00:01<00:00,  5.98it/s]\n",
      "  0%|          | 0/57 [00:00<?, ?it/s]"
     ]
    },
    {
     "name": "stdout",
     "output_type": "stream",
     "text": [
      "Epoch: 1, train_loss: 0.5746821761131287, valid_loss: 0.5984213352203369\n"
     ]
    },
    {
     "name": "stderr",
     "output_type": "stream",
     "text": [
      "100%|██████████| 57/57 [00:22<00:00,  2.55it/s]\n",
      "100%|██████████| 8/8 [00:01<00:00,  7.22it/s]\n",
      "  0%|          | 0/57 [00:00<?, ?it/s]"
     ]
    },
    {
     "name": "stdout",
     "output_type": "stream",
     "text": [
      "Epoch: 2, train_loss: 0.554201066493988, valid_loss: 0.5761533975601196\n"
     ]
    },
    {
     "name": "stderr",
     "output_type": "stream",
     "text": [
      "100%|██████████| 57/57 [00:22<00:00,  2.59it/s]\n",
      "100%|██████████| 8/8 [00:01<00:00,  7.31it/s]\n",
      "  0%|          | 0/57 [00:00<?, ?it/s]"
     ]
    },
    {
     "name": "stdout",
     "output_type": "stream",
     "text": [
      "Epoch: 3, train_loss: 0.5462194085121155, valid_loss: 0.5649715662002563\n"
     ]
    },
    {
     "name": "stderr",
     "output_type": "stream",
     "text": [
      "100%|██████████| 57/57 [00:21<00:00,  2.60it/s]\n",
      "100%|██████████| 8/8 [00:01<00:00,  7.34it/s]\n",
      "  0%|          | 0/57 [00:00<?, ?it/s]"
     ]
    },
    {
     "name": "stdout",
     "output_type": "stream",
     "text": [
      "val loss increased, patience count:  1\n",
      "Epoch: 4, train_loss: 0.5390350818634033, valid_loss: 0.573627769947052\n"
     ]
    },
    {
     "name": "stderr",
     "output_type": "stream",
     "text": [
      "100%|██████████| 57/57 [00:22<00:00,  2.58it/s]\n",
      "100%|██████████| 8/8 [00:01<00:00,  7.32it/s]\n",
      "  0%|          | 0/57 [00:00<?, ?it/s]"
     ]
    },
    {
     "name": "stdout",
     "output_type": "stream",
     "text": [
      "val loss increased, patience count:  2\n",
      "Epoch: 5, train_loss: 0.5330116152763367, valid_loss: 0.566012978553772\n"
     ]
    },
    {
     "name": "stderr",
     "output_type": "stream",
     "text": [
      "100%|██████████| 57/57 [00:22<00:00,  2.58it/s]\n",
      "100%|██████████| 8/8 [00:01<00:00,  7.40it/s]\n",
      "  0%|          | 0/57 [00:00<?, ?it/s]"
     ]
    },
    {
     "name": "stdout",
     "output_type": "stream",
     "text": [
      "Epoch: 6, train_loss: 0.5270717740058899, valid_loss: 0.5611257553100586\n"
     ]
    },
    {
     "name": "stderr",
     "output_type": "stream",
     "text": [
      "100%|██████████| 57/57 [00:22<00:00,  2.59it/s]\n",
      "100%|██████████| 8/8 [00:01<00:00,  7.18it/s]\n",
      "  0%|          | 0/57 [00:00<?, ?it/s]"
     ]
    },
    {
     "name": "stdout",
     "output_type": "stream",
     "text": [
      "val loss increased, patience count:  1\n",
      "Epoch: 7, train_loss: 0.5246988534927368, valid_loss: 0.5753370523452759\n"
     ]
    },
    {
     "name": "stderr",
     "output_type": "stream",
     "text": [
      "100%|██████████| 57/57 [00:22<00:00,  2.58it/s]\n",
      "100%|██████████| 8/8 [00:01<00:00,  7.25it/s]\n",
      "  0%|          | 0/57 [00:00<?, ?it/s]"
     ]
    },
    {
     "name": "stdout",
     "output_type": "stream",
     "text": [
      "val loss increased, patience count:  2\n",
      "Epoch: 8, train_loss: 0.5197198390960693, valid_loss: 0.5642896294593811\n"
     ]
    },
    {
     "name": "stderr",
     "output_type": "stream",
     "text": [
      "100%|██████████| 57/57 [00:22<00:00,  2.59it/s]\n",
      "100%|██████████| 8/8 [00:01<00:00,  7.44it/s]\n"
     ]
    },
    {
     "name": "stdout",
     "output_type": "stream",
     "text": [
      "Early stopped at Epoch:  9\n"
     ]
    },
    {
     "name": "stderr",
     "output_type": "stream",
     "text": [
      "  1%|          | 1/115 [00:00<00:14,  7.93it/s]"
     ]
    },
    {
     "name": "stdout",
     "output_type": "stream",
     "text": [
      "{'BATCH_SIZE': 128, 'EPOCHS': 20, 'OPTIMIZER': <class 'torch.optim.adam.Adam'>, 'LEARNING_RATE': 0.0001, 'LOSS': CrossEntropyLoss(), 'EARLY_STOPPING': True, 'PATIENCE': 3, 'MIN_DELTA': 0.001, 'MAXPOOL': 2, 'FC_SIZES': array([256, 128]), 'DROPOUT': 0.1, 'HIDDEN_SIZES': array([256]), 'KERNEL_SIZES': array([3])}\n"
     ]
    },
    {
     "name": "stderr",
     "output_type": "stream",
     "text": [
      "100%|██████████| 115/115 [00:08<00:00, 13.77it/s]\n",
      "100%|██████████| 16/16 [00:00<00:00, 35.23it/s]\n",
      "  2%|▏         | 2/115 [00:00<00:07, 14.95it/s]"
     ]
    },
    {
     "name": "stdout",
     "output_type": "stream",
     "text": [
      "Epoch: 0, train_loss: 0.6198158860206604, valid_loss: 0.5905267000198364\n"
     ]
    },
    {
     "name": "stderr",
     "output_type": "stream",
     "text": [
      "100%|██████████| 115/115 [00:08<00:00, 14.04it/s]\n",
      "100%|██████████| 16/16 [00:00<00:00, 36.83it/s]\n",
      "  2%|▏         | 2/115 [00:00<00:08, 14.08it/s]"
     ]
    },
    {
     "name": "stdout",
     "output_type": "stream",
     "text": [
      "Epoch: 1, train_loss: 0.5575059056282043, valid_loss: 0.5743426084518433\n"
     ]
    },
    {
     "name": "stderr",
     "output_type": "stream",
     "text": [
      "100%|██████████| 115/115 [00:08<00:00, 13.66it/s]\n",
      "100%|██████████| 16/16 [00:00<00:00, 35.89it/s]\n",
      "  2%|▏         | 2/115 [00:00<00:08, 14.05it/s]"
     ]
    },
    {
     "name": "stdout",
     "output_type": "stream",
     "text": [
      "Epoch: 2, train_loss: 0.5451698899269104, valid_loss: 0.5667868852615356\n"
     ]
    },
    {
     "name": "stderr",
     "output_type": "stream",
     "text": [
      "100%|██████████| 115/115 [00:08<00:00, 13.69it/s]\n",
      "100%|██████████| 16/16 [00:00<00:00, 35.47it/s]\n",
      "  2%|▏         | 2/115 [00:00<00:07, 14.61it/s]"
     ]
    },
    {
     "name": "stdout",
     "output_type": "stream",
     "text": [
      "Epoch: 3, train_loss: 0.534105122089386, valid_loss: 0.562057375907898\n"
     ]
    },
    {
     "name": "stderr",
     "output_type": "stream",
     "text": [
      "100%|██████████| 115/115 [00:08<00:00, 13.83it/s]\n",
      "100%|██████████| 16/16 [00:00<00:00, 37.92it/s]\n",
      "  2%|▏         | 2/115 [00:00<00:08, 14.10it/s]"
     ]
    },
    {
     "name": "stdout",
     "output_type": "stream",
     "text": [
      "val loss increased, patience count:  1\n",
      "Epoch: 4, train_loss: 0.5286280512809753, valid_loss: 0.5742237567901611\n"
     ]
    },
    {
     "name": "stderr",
     "output_type": "stream",
     "text": [
      "100%|██████████| 115/115 [00:08<00:00, 13.69it/s]\n",
      "100%|██████████| 16/16 [00:00<00:00, 37.96it/s]\n",
      "  2%|▏         | 2/115 [00:00<00:07, 14.27it/s]"
     ]
    },
    {
     "name": "stdout",
     "output_type": "stream",
     "text": [
      "Epoch: 5, train_loss: 0.5215477347373962, valid_loss: 0.5593489408493042\n"
     ]
    },
    {
     "name": "stderr",
     "output_type": "stream",
     "text": [
      "100%|██████████| 115/115 [00:08<00:00, 13.39it/s]\n",
      "100%|██████████| 16/16 [00:00<00:00, 35.65it/s]\n",
      "  2%|▏         | 2/115 [00:00<00:08, 13.56it/s]"
     ]
    },
    {
     "name": "stdout",
     "output_type": "stream",
     "text": [
      "Epoch: 6, train_loss: 0.5131328105926514, valid_loss: 0.5520312190055847\n"
     ]
    },
    {
     "name": "stderr",
     "output_type": "stream",
     "text": [
      "100%|██████████| 115/115 [00:08<00:00, 13.35it/s]\n",
      "100%|██████████| 16/16 [00:00<00:00, 37.61it/s]\n",
      "  2%|▏         | 2/115 [00:00<00:07, 14.66it/s]"
     ]
    },
    {
     "name": "stdout",
     "output_type": "stream",
     "text": [
      "val loss increased, patience count:  1\n",
      "Epoch: 7, train_loss: 0.5065175294876099, valid_loss: 0.5522994995117188\n"
     ]
    },
    {
     "name": "stderr",
     "output_type": "stream",
     "text": [
      "100%|██████████| 115/115 [00:08<00:00, 13.43it/s]\n",
      "100%|██████████| 16/16 [00:00<00:00, 36.62it/s]\n",
      "  2%|▏         | 2/115 [00:00<00:08, 13.49it/s]"
     ]
    },
    {
     "name": "stdout",
     "output_type": "stream",
     "text": [
      "val loss increased, patience count:  2\n",
      "Epoch: 8, train_loss: 0.5005295872688293, valid_loss: 0.5628430247306824\n"
     ]
    },
    {
     "name": "stderr",
     "output_type": "stream",
     "text": [
      "100%|██████████| 115/115 [00:08<00:00, 13.09it/s]\n",
      "100%|██████████| 16/16 [00:00<00:00, 35.92it/s]\n",
      "  2%|▏         | 2/115 [00:00<00:08, 13.53it/s]"
     ]
    },
    {
     "name": "stdout",
     "output_type": "stream",
     "text": [
      "val loss increased, patience count:  3\n",
      "Epoch: 9, train_loss: 0.4931149482727051, valid_loss: 0.5715653300285339\n"
     ]
    },
    {
     "name": "stderr",
     "output_type": "stream",
     "text": [
      "100%|██████████| 115/115 [00:08<00:00, 13.12it/s]\n",
      "100%|██████████| 16/16 [00:00<00:00, 32.30it/s]\n"
     ]
    },
    {
     "name": "stdout",
     "output_type": "stream",
     "text": [
      "Early stopped at Epoch:  10\n"
     ]
    },
    {
     "name": "stderr",
     "output_type": "stream",
     "text": [
      "\r",
      "  0%|          | 0/28 [00:00<?, ?it/s]"
     ]
    },
    {
     "name": "stdout",
     "output_type": "stream",
     "text": [
      "{'BATCH_SIZE': 512, 'EPOCHS': 20, 'OPTIMIZER': <class 'torch.optim.adam.Adam'>, 'LEARNING_RATE': 0.0005, 'LOSS': CrossEntropyLoss(), 'EARLY_STOPPING': True, 'PATIENCE': 2, 'MIN_DELTA': 0.005, 'MAXPOOL': 2, 'FC_SIZES': array([128,  64]), 'DROPOUT': 0.0, 'HIDDEN_SIZES': array([ 64, 128, 256]), 'KERNEL_SIZES': array([7, 7, 7])}\n"
     ]
    },
    {
     "name": "stderr",
     "output_type": "stream",
     "text": [
      "100%|██████████| 28/28 [00:08<00:00,  3.14it/s]\n",
      "100%|██████████| 4/4 [00:00<00:00,  8.22it/s]\n",
      "  0%|          | 0/28 [00:00<?, ?it/s]"
     ]
    },
    {
     "name": "stdout",
     "output_type": "stream",
     "text": [
      "Epoch: 0, train_loss: 0.6383423805236816, valid_loss: 0.6172688603401184\n"
     ]
    },
    {
     "name": "stderr",
     "output_type": "stream",
     "text": [
      "100%|██████████| 28/28 [00:08<00:00,  3.23it/s]\n",
      "100%|██████████| 4/4 [00:00<00:00,  8.66it/s]\n",
      "  0%|          | 0/28 [00:00<?, ?it/s]"
     ]
    },
    {
     "name": "stdout",
     "output_type": "stream",
     "text": [
      "Epoch: 1, train_loss: 0.5735302567481995, valid_loss: 0.5846269726753235\n"
     ]
    },
    {
     "name": "stderr",
     "output_type": "stream",
     "text": [
      "100%|██████████| 28/28 [00:08<00:00,  3.31it/s]\n",
      "100%|██████████| 4/4 [00:00<00:00,  8.95it/s]\n",
      "  0%|          | 0/28 [00:00<?, ?it/s]"
     ]
    },
    {
     "name": "stdout",
     "output_type": "stream",
     "text": [
      "Epoch: 2, train_loss: 0.5518232583999634, valid_loss: 0.5700705051422119\n"
     ]
    },
    {
     "name": "stderr",
     "output_type": "stream",
     "text": [
      "100%|██████████| 28/28 [00:08<00:00,  3.25it/s]\n",
      "100%|██████████| 4/4 [00:00<00:00,  9.06it/s]\n",
      "  0%|          | 0/28 [00:00<?, ?it/s]"
     ]
    },
    {
     "name": "stdout",
     "output_type": "stream",
     "text": [
      "Epoch: 3, train_loss: 0.5451125502586365, valid_loss: 0.5606390833854675\n"
     ]
    },
    {
     "name": "stderr",
     "output_type": "stream",
     "text": [
      "100%|██████████| 28/28 [00:08<00:00,  3.32it/s]\n",
      "100%|██████████| 4/4 [00:00<00:00,  9.38it/s]\n",
      "  0%|          | 0/28 [00:00<?, ?it/s]"
     ]
    },
    {
     "name": "stdout",
     "output_type": "stream",
     "text": [
      "val loss increased, patience count:  1\n",
      "Epoch: 4, train_loss: 0.5460198521614075, valid_loss: 0.565760612487793\n"
     ]
    },
    {
     "name": "stderr",
     "output_type": "stream",
     "text": [
      "100%|██████████| 28/28 [00:08<00:00,  3.28it/s]\n",
      "100%|██████████| 4/4 [00:00<00:00,  8.52it/s]\n",
      "  0%|          | 0/28 [00:00<?, ?it/s]"
     ]
    },
    {
     "name": "stdout",
     "output_type": "stream",
     "text": [
      "val loss increased, patience count:  2\n",
      "Epoch: 5, train_loss: 0.5404464602470398, valid_loss: 0.5819556713104248\n"
     ]
    },
    {
     "name": "stderr",
     "output_type": "stream",
     "text": [
      "100%|██████████| 28/28 [00:08<00:00,  3.30it/s]\n",
      "100%|██████████| 4/4 [00:00<00:00,  6.69it/s]\n"
     ]
    },
    {
     "name": "stdout",
     "output_type": "stream",
     "text": [
      "Early stopped at Epoch:  6\n"
     ]
    },
    {
     "name": "stderr",
     "output_type": "stream",
     "text": [
      "\r",
      "  0%|          | 0/57 [00:00<?, ?it/s]"
     ]
    },
    {
     "name": "stdout",
     "output_type": "stream",
     "text": [
      "{'BATCH_SIZE': 256, 'EPOCHS': 40, 'OPTIMIZER': <class 'torch.optim.adam.Adam'>, 'LEARNING_RATE': 1e-05, 'LOSS': CrossEntropyLoss(), 'EARLY_STOPPING': True, 'PATIENCE': 3, 'MIN_DELTA': 0.005, 'MAXPOOL': 2, 'FC_SIZES': array([64]), 'DROPOUT': 0.1, 'HIDDEN_SIZES': array([128, 256, 512]), 'KERNEL_SIZES': array([9, 7, 5])}\n"
     ]
    },
    {
     "name": "stderr",
     "output_type": "stream",
     "text": [
      "100%|██████████| 57/57 [00:22<00:00,  2.48it/s]\n",
      "100%|██████████| 8/8 [00:01<00:00,  7.63it/s]\n",
      "  0%|          | 0/57 [00:00<?, ?it/s]"
     ]
    },
    {
     "name": "stdout",
     "output_type": "stream",
     "text": [
      "Epoch: 0, train_loss: 0.6925593018531799, valid_loss: 0.6911386251449585\n"
     ]
    },
    {
     "name": "stderr",
     "output_type": "stream",
     "text": [
      "100%|██████████| 57/57 [00:23<00:00,  2.47it/s]\n",
      "100%|██████████| 8/8 [00:01<00:00,  7.82it/s]\n",
      "  0%|          | 0/57 [00:00<?, ?it/s]"
     ]
    },
    {
     "name": "stdout",
     "output_type": "stream",
     "text": [
      "Epoch: 1, train_loss: 0.6880698204040527, valid_loss: 0.684807300567627\n"
     ]
    },
    {
     "name": "stderr",
     "output_type": "stream",
     "text": [
      "100%|██████████| 57/57 [00:23<00:00,  2.46it/s]\n",
      "100%|██████████| 8/8 [00:01<00:00,  7.61it/s]\n",
      "  0%|          | 0/57 [00:00<?, ?it/s]"
     ]
    },
    {
     "name": "stdout",
     "output_type": "stream",
     "text": [
      "Epoch: 2, train_loss: 0.6735823154449463, valid_loss: 0.6637747287750244\n"
     ]
    },
    {
     "name": "stderr",
     "output_type": "stream",
     "text": [
      "100%|██████████| 57/57 [00:23<00:00,  2.46it/s]\n",
      "100%|██████████| 8/8 [00:01<00:00,  7.61it/s]\n",
      "  0%|          | 0/57 [00:00<?, ?it/s]"
     ]
    },
    {
     "name": "stdout",
     "output_type": "stream",
     "text": [
      "Epoch: 3, train_loss: 0.6391682028770447, valid_loss: 0.6289283037185669\n"
     ]
    },
    {
     "name": "stderr",
     "output_type": "stream",
     "text": [
      "100%|██████████| 57/57 [00:23<00:00,  2.44it/s]\n",
      "100%|██████████| 8/8 [00:01<00:00,  7.48it/s]\n",
      "  0%|          | 0/57 [00:00<?, ?it/s]"
     ]
    },
    {
     "name": "stdout",
     "output_type": "stream",
     "text": [
      "Epoch: 4, train_loss: 0.6041257977485657, valid_loss: 0.6136682033538818\n"
     ]
    },
    {
     "name": "stderr",
     "output_type": "stream",
     "text": [
      "100%|██████████| 57/57 [00:22<00:00,  2.48it/s]\n",
      "100%|██████████| 8/8 [00:01<00:00,  7.63it/s]\n",
      "  0%|          | 0/57 [00:00<?, ?it/s]"
     ]
    },
    {
     "name": "stdout",
     "output_type": "stream",
     "text": [
      "Epoch: 5, train_loss: 0.5861105918884277, valid_loss: 0.602307915687561\n"
     ]
    },
    {
     "name": "stderr",
     "output_type": "stream",
     "text": [
      "100%|██████████| 57/57 [00:23<00:00,  2.46it/s]\n",
      "100%|██████████| 8/8 [00:01<00:00,  7.57it/s]\n",
      "  0%|          | 0/57 [00:00<?, ?it/s]"
     ]
    },
    {
     "name": "stdout",
     "output_type": "stream",
     "text": [
      "Epoch: 6, train_loss: 0.5777150988578796, valid_loss: 0.598798394203186\n"
     ]
    },
    {
     "name": "stderr",
     "output_type": "stream",
     "text": [
      "100%|██████████| 57/57 [00:23<00:00,  2.46it/s]\n",
      "100%|██████████| 8/8 [00:01<00:00,  7.35it/s]\n",
      "  0%|          | 0/57 [00:00<?, ?it/s]"
     ]
    },
    {
     "name": "stdout",
     "output_type": "stream",
     "text": [
      "Epoch: 7, train_loss: 0.5731460452079773, valid_loss: 0.5940870046615601\n"
     ]
    },
    {
     "name": "stderr",
     "output_type": "stream",
     "text": [
      "100%|██████████| 57/57 [00:23<00:00,  2.48it/s]\n",
      "100%|██████████| 8/8 [00:01<00:00,  7.55it/s]\n",
      "  0%|          | 0/57 [00:00<?, ?it/s]"
     ]
    },
    {
     "name": "stdout",
     "output_type": "stream",
     "text": [
      "Epoch: 8, train_loss: 0.5701202750205994, valid_loss: 0.5872467756271362\n"
     ]
    },
    {
     "name": "stderr",
     "output_type": "stream",
     "text": [
      "100%|██████████| 57/57 [00:23<00:00,  2.45it/s]\n",
      "100%|██████████| 8/8 [00:01<00:00,  7.84it/s]\n",
      "  0%|          | 0/57 [00:00<?, ?it/s]"
     ]
    },
    {
     "name": "stdout",
     "output_type": "stream",
     "text": [
      "val loss increased, patience count:  1\n",
      "Epoch: 9, train_loss: 0.5669311881065369, valid_loss: 0.588549017906189\n"
     ]
    },
    {
     "name": "stderr",
     "output_type": "stream",
     "text": [
      "100%|██████████| 57/57 [00:23<00:00,  2.47it/s]\n",
      "100%|██████████| 8/8 [00:01<00:00,  7.85it/s]\n",
      "  0%|          | 0/57 [00:00<?, ?it/s]"
     ]
    },
    {
     "name": "stdout",
     "output_type": "stream",
     "text": [
      "val loss increased, patience count:  2\n",
      "Epoch: 10, train_loss: 0.5656099319458008, valid_loss: 0.5892537832260132\n"
     ]
    },
    {
     "name": "stderr",
     "output_type": "stream",
     "text": [
      "100%|██████████| 57/57 [00:23<00:00,  2.46it/s]\n",
      "100%|██████████| 8/8 [00:01<00:00,  7.76it/s]\n",
      "  0%|          | 0/57 [00:00<?, ?it/s]"
     ]
    },
    {
     "name": "stdout",
     "output_type": "stream",
     "text": [
      "Epoch: 11, train_loss: 0.5612738728523254, valid_loss: 0.5845676064491272\n"
     ]
    },
    {
     "name": "stderr",
     "output_type": "stream",
     "text": [
      "100%|██████████| 57/57 [00:23<00:00,  2.47it/s]\n",
      "100%|██████████| 8/8 [00:01<00:00,  7.72it/s]\n",
      "  0%|          | 0/57 [00:00<?, ?it/s]"
     ]
    },
    {
     "name": "stdout",
     "output_type": "stream",
     "text": [
      "Epoch: 12, train_loss: 0.5607894659042358, valid_loss: 0.5766112804412842\n"
     ]
    },
    {
     "name": "stderr",
     "output_type": "stream",
     "text": [
      "100%|██████████| 57/57 [00:23<00:00,  2.46it/s]\n",
      "100%|██████████| 8/8 [00:01<00:00,  7.60it/s]\n",
      "  0%|          | 0/57 [00:00<?, ?it/s]"
     ]
    },
    {
     "name": "stdout",
     "output_type": "stream",
     "text": [
      "val loss increased, patience count:  1\n",
      "Epoch: 13, train_loss: 0.5590773820877075, valid_loss: 0.5849564075469971\n"
     ]
    },
    {
     "name": "stderr",
     "output_type": "stream",
     "text": [
      "100%|██████████| 57/57 [00:23<00:00,  2.43it/s]\n",
      "100%|██████████| 8/8 [00:01<00:00,  6.66it/s]\n",
      "  0%|          | 0/57 [00:00<?, ?it/s]"
     ]
    },
    {
     "name": "stdout",
     "output_type": "stream",
     "text": [
      "val loss increased, patience count:  2\n",
      "Epoch: 14, train_loss: 0.5579169988632202, valid_loss: 0.5815377235412598\n"
     ]
    },
    {
     "name": "stderr",
     "output_type": "stream",
     "text": [
      "100%|██████████| 57/57 [00:23<00:00,  2.47it/s]\n",
      "100%|██████████| 8/8 [00:01<00:00,  7.61it/s]\n",
      "  0%|          | 0/57 [00:00<?, ?it/s]"
     ]
    },
    {
     "name": "stdout",
     "output_type": "stream",
     "text": [
      "val loss increased, patience count:  3\n",
      "Epoch: 15, train_loss: 0.5564351081848145, valid_loss: 0.5799804329872131\n"
     ]
    },
    {
     "name": "stderr",
     "output_type": "stream",
     "text": [
      "100%|██████████| 57/57 [00:23<00:00,  2.45it/s]\n",
      "100%|██████████| 8/8 [00:01<00:00,  7.95it/s]\n"
     ]
    },
    {
     "name": "stdout",
     "output_type": "stream",
     "text": [
      "Early stopped at Epoch:  16\n"
     ]
    },
    {
     "name": "stderr",
     "output_type": "stream",
     "text": [
      "\r",
      "  0%|          | 0/115 [00:00<?, ?it/s]"
     ]
    },
    {
     "name": "stdout",
     "output_type": "stream",
     "text": [
      "{'BATCH_SIZE': 128, 'EPOCHS': 50, 'OPTIMIZER': <class 'torch.optim.adam.Adam'>, 'LEARNING_RATE': 5e-05, 'LOSS': CrossEntropyLoss(), 'EARLY_STOPPING': True, 'PATIENCE': 2, 'MIN_DELTA': 5e-05, 'MAXPOOL': 2, 'FC_SIZES': array([512]), 'DROPOUT': 0.7, 'HIDDEN_SIZES': array([128, 256, 512]), 'KERNEL_SIZES': array([9, 5, 5])}\n"
     ]
    },
    {
     "name": "stderr",
     "output_type": "stream",
     "text": [
      "100%|██████████| 115/115 [00:26<00:00,  4.30it/s]\n",
      "100%|██████████| 16/16 [00:01<00:00, 14.40it/s]\n",
      "  0%|          | 0/115 [00:00<?, ?it/s]"
     ]
    },
    {
     "name": "stdout",
     "output_type": "stream",
     "text": [
      "Epoch: 0, train_loss: 0.646869957447052, valid_loss: 0.6128722429275513\n"
     ]
    },
    {
     "name": "stderr",
     "output_type": "stream",
     "text": [
      "100%|██████████| 115/115 [00:27<00:00,  4.17it/s]\n",
      "100%|██████████| 16/16 [00:01<00:00, 14.36it/s]\n",
      "  0%|          | 0/115 [00:00<?, ?it/s]"
     ]
    },
    {
     "name": "stdout",
     "output_type": "stream",
     "text": [
      "Epoch: 1, train_loss: 0.570637583732605, valid_loss: 0.5865167379379272\n"
     ]
    },
    {
     "name": "stderr",
     "output_type": "stream",
     "text": [
      "100%|██████████| 115/115 [00:26<00:00,  4.28it/s]\n",
      "100%|██████████| 16/16 [00:01<00:00, 14.55it/s]\n",
      "  0%|          | 0/115 [00:00<?, ?it/s]"
     ]
    },
    {
     "name": "stdout",
     "output_type": "stream",
     "text": [
      "val loss increased, patience count:  1\n",
      "Epoch: 2, train_loss: 0.5606581568717957, valid_loss: 0.5870930552482605\n"
     ]
    },
    {
     "name": "stderr",
     "output_type": "stream",
     "text": [
      "100%|██████████| 115/115 [00:27<00:00,  4.23it/s]\n",
      "100%|██████████| 16/16 [00:01<00:00, 14.10it/s]\n",
      "  0%|          | 0/115 [00:00<?, ?it/s]"
     ]
    },
    {
     "name": "stdout",
     "output_type": "stream",
     "text": [
      "Epoch: 3, train_loss: 0.5532974600791931, valid_loss: 0.5792161226272583\n"
     ]
    },
    {
     "name": "stderr",
     "output_type": "stream",
     "text": [
      "100%|██████████| 115/115 [00:26<00:00,  4.28it/s]\n",
      "100%|██████████| 16/16 [00:01<00:00, 13.77it/s]\n",
      "  0%|          | 0/115 [00:00<?, ?it/s]"
     ]
    },
    {
     "name": "stdout",
     "output_type": "stream",
     "text": [
      "Epoch: 4, train_loss: 0.5460546612739563, valid_loss: 0.5711699724197388\n"
     ]
    },
    {
     "name": "stderr",
     "output_type": "stream",
     "text": [
      "100%|██████████| 115/115 [00:27<00:00,  4.23it/s]\n",
      "100%|██████████| 16/16 [00:01<00:00, 13.18it/s]\n",
      "  0%|          | 0/115 [00:00<?, ?it/s]"
     ]
    },
    {
     "name": "stdout",
     "output_type": "stream",
     "text": [
      "Epoch: 5, train_loss: 0.5415305495262146, valid_loss: 0.5631327629089355\n"
     ]
    },
    {
     "name": "stderr",
     "output_type": "stream",
     "text": [
      "100%|██████████| 115/115 [00:26<00:00,  4.27it/s]\n",
      "100%|██████████| 16/16 [00:01<00:00, 13.85it/s]\n",
      "  0%|          | 0/115 [00:00<?, ?it/s]"
     ]
    },
    {
     "name": "stdout",
     "output_type": "stream",
     "text": [
      "Epoch: 6, train_loss: 0.5380446314811707, valid_loss: 0.560997486114502\n"
     ]
    },
    {
     "name": "stderr",
     "output_type": "stream",
     "text": [
      "100%|██████████| 115/115 [00:27<00:00,  4.25it/s]\n",
      "100%|██████████| 16/16 [00:01<00:00, 14.24it/s]\n",
      "  0%|          | 0/115 [00:00<?, ?it/s]"
     ]
    },
    {
     "name": "stdout",
     "output_type": "stream",
     "text": [
      "val loss increased, patience count:  1\n",
      "Epoch: 7, train_loss: 0.533962607383728, valid_loss: 0.5642322301864624\n"
     ]
    },
    {
     "name": "stderr",
     "output_type": "stream",
     "text": [
      "100%|██████████| 115/115 [00:27<00:00,  4.25it/s]\n",
      "100%|██████████| 16/16 [00:01<00:00, 14.49it/s]\n",
      "  0%|          | 0/115 [00:00<?, ?it/s]"
     ]
    },
    {
     "name": "stdout",
     "output_type": "stream",
     "text": [
      "val loss increased, patience count:  2\n",
      "Epoch: 8, train_loss: 0.5277191400527954, valid_loss: 0.572624683380127\n"
     ]
    },
    {
     "name": "stderr",
     "output_type": "stream",
     "text": [
      "100%|██████████| 115/115 [00:26<00:00,  4.26it/s]\n",
      "100%|██████████| 16/16 [00:01<00:00, 14.09it/s]\n"
     ]
    },
    {
     "name": "stdout",
     "output_type": "stream",
     "text": [
      "Early stopped at Epoch:  9\n"
     ]
    },
    {
     "name": "stderr",
     "output_type": "stream",
     "text": [
      "  2%|▏         | 2/115 [00:00<00:07, 15.70it/s]"
     ]
    },
    {
     "name": "stdout",
     "output_type": "stream",
     "text": [
      "{'BATCH_SIZE': 128, 'EPOCHS': 40, 'OPTIMIZER': <class 'torch.optim.adam.Adam'>, 'LEARNING_RATE': 1e-05, 'LOSS': CrossEntropyLoss(), 'EARLY_STOPPING': True, 'PATIENCE': 2, 'MIN_DELTA': 0.0001, 'MAXPOOL': 2, 'FC_SIZES': array([64]), 'DROPOUT': 0.1, 'HIDDEN_SIZES': array([ 64, 128, 256]), 'KERNEL_SIZES': array([5, 3, 3])}\n"
     ]
    },
    {
     "name": "stderr",
     "output_type": "stream",
     "text": [
      "100%|██████████| 115/115 [00:07<00:00, 14.49it/s]\n",
      "100%|██████████| 16/16 [00:00<00:00, 41.21it/s]\n",
      "  2%|▏         | 2/115 [00:00<00:07, 16.04it/s]"
     ]
    },
    {
     "name": "stdout",
     "output_type": "stream",
     "text": [
      "Epoch: 0, train_loss: 0.6928386688232422, valid_loss: 0.6919801831245422\n"
     ]
    },
    {
     "name": "stderr",
     "output_type": "stream",
     "text": [
      "100%|██████████| 115/115 [00:07<00:00, 14.68it/s]\n",
      "100%|██████████| 16/16 [00:00<00:00, 40.81it/s]\n",
      "  2%|▏         | 2/115 [00:00<00:07, 15.08it/s]"
     ]
    },
    {
     "name": "stdout",
     "output_type": "stream",
     "text": [
      "Epoch: 1, train_loss: 0.6901774406433105, valid_loss: 0.6885294914245605\n"
     ]
    },
    {
     "name": "stderr",
     "output_type": "stream",
     "text": [
      "100%|██████████| 115/115 [00:07<00:00, 14.83it/s]\n",
      "100%|██████████| 16/16 [00:00<00:00, 41.16it/s]\n",
      "  2%|▏         | 2/115 [00:00<00:07, 15.50it/s]"
     ]
    },
    {
     "name": "stdout",
     "output_type": "stream",
     "text": [
      "Epoch: 2, train_loss: 0.6825448274612427, valid_loss: 0.6774915456771851\n"
     ]
    },
    {
     "name": "stderr",
     "output_type": "stream",
     "text": [
      "100%|██████████| 115/115 [00:07<00:00, 14.90it/s]\n",
      "100%|██████████| 16/16 [00:00<00:00, 40.64it/s]\n",
      "  2%|▏         | 2/115 [00:00<00:06, 16.27it/s]"
     ]
    },
    {
     "name": "stdout",
     "output_type": "stream",
     "text": [
      "Epoch: 3, train_loss: 0.6635990142822266, valid_loss: 0.6556580066680908\n"
     ]
    },
    {
     "name": "stderr",
     "output_type": "stream",
     "text": [
      "100%|██████████| 115/115 [00:08<00:00, 13.68it/s]\n",
      "100%|██████████| 16/16 [00:00<00:00, 44.24it/s]\n",
      "  2%|▏         | 2/115 [00:00<00:07, 15.79it/s]"
     ]
    },
    {
     "name": "stdout",
     "output_type": "stream",
     "text": [
      "Epoch: 4, train_loss: 0.6320716142654419, valid_loss: 0.6270299553871155\n"
     ]
    },
    {
     "name": "stderr",
     "output_type": "stream",
     "text": [
      "100%|██████████| 115/115 [00:07<00:00, 14.99it/s]\n",
      "100%|██████████| 16/16 [00:00<00:00, 40.34it/s]\n",
      "  2%|▏         | 2/115 [00:00<00:07, 15.69it/s]"
     ]
    },
    {
     "name": "stdout",
     "output_type": "stream",
     "text": [
      "Epoch: 5, train_loss: 0.6052645444869995, valid_loss: 0.6133973598480225\n"
     ]
    },
    {
     "name": "stderr",
     "output_type": "stream",
     "text": [
      "100%|██████████| 115/115 [00:07<00:00, 14.92it/s]\n",
      "100%|██████████| 16/16 [00:00<00:00, 38.30it/s]\n",
      "  2%|▏         | 2/115 [00:00<00:07, 15.68it/s]"
     ]
    },
    {
     "name": "stdout",
     "output_type": "stream",
     "text": [
      "Epoch: 6, train_loss: 0.5885631442070007, valid_loss: 0.6076564788818359\n"
     ]
    },
    {
     "name": "stderr",
     "output_type": "stream",
     "text": [
      "100%|██████████| 115/115 [00:07<00:00, 14.77it/s]\n",
      "100%|██████████| 16/16 [00:00<00:00, 41.08it/s]\n",
      "  2%|▏         | 2/115 [00:00<00:07, 14.31it/s]"
     ]
    },
    {
     "name": "stdout",
     "output_type": "stream",
     "text": [
      "Epoch: 7, train_loss: 0.5815916657447815, valid_loss: 0.599307656288147\n"
     ]
    },
    {
     "name": "stderr",
     "output_type": "stream",
     "text": [
      "100%|██████████| 115/115 [00:07<00:00, 14.50it/s]\n",
      "100%|██████████| 16/16 [00:00<00:00, 41.61it/s]\n",
      "  2%|▏         | 2/115 [00:00<00:07, 14.88it/s]"
     ]
    },
    {
     "name": "stdout",
     "output_type": "stream",
     "text": [
      "Epoch: 8, train_loss: 0.5765271186828613, valid_loss: 0.5978745222091675\n"
     ]
    },
    {
     "name": "stderr",
     "output_type": "stream",
     "text": [
      "100%|██████████| 115/115 [00:07<00:00, 14.90it/s]\n",
      "100%|██████████| 16/16 [00:00<00:00, 40.71it/s]\n",
      "  2%|▏         | 2/115 [00:00<00:07, 15.97it/s]"
     ]
    },
    {
     "name": "stdout",
     "output_type": "stream",
     "text": [
      "Epoch: 9, train_loss: 0.5724320411682129, valid_loss: 0.5874294638633728\n"
     ]
    },
    {
     "name": "stderr",
     "output_type": "stream",
     "text": [
      "100%|██████████| 115/115 [00:07<00:00, 14.93it/s]\n",
      "100%|██████████| 16/16 [00:00<00:00, 42.40it/s]\n",
      "  2%|▏         | 2/115 [00:00<00:07, 15.70it/s]"
     ]
    },
    {
     "name": "stdout",
     "output_type": "stream",
     "text": [
      "val loss increased, patience count:  1\n",
      "Epoch: 10, train_loss: 0.5688562989234924, valid_loss: 0.5902588963508606\n"
     ]
    },
    {
     "name": "stderr",
     "output_type": "stream",
     "text": [
      "100%|██████████| 115/115 [00:07<00:00, 15.00it/s]\n",
      "100%|██████████| 16/16 [00:00<00:00, 40.79it/s]\n",
      "  2%|▏         | 2/115 [00:00<00:07, 15.96it/s]"
     ]
    },
    {
     "name": "stdout",
     "output_type": "stream",
     "text": [
      "val loss increased, patience count:  2\n",
      "Epoch: 11, train_loss: 0.5663046836853027, valid_loss: 0.5889449119567871\n"
     ]
    },
    {
     "name": "stderr",
     "output_type": "stream",
     "text": [
      "100%|██████████| 115/115 [00:07<00:00, 14.91it/s]\n",
      "100%|██████████| 16/16 [00:00<00:00, 38.48it/s]\n",
      "  2%|▏         | 2/115 [00:00<00:07, 15.63it/s]"
     ]
    },
    {
     "name": "stdout",
     "output_type": "stream",
     "text": [
      "Epoch: 12, train_loss: 0.564117431640625, valid_loss: 0.5821247100830078\n"
     ]
    },
    {
     "name": "stderr",
     "output_type": "stream",
     "text": [
      "100%|██████████| 115/115 [00:07<00:00, 15.03it/s]\n",
      "100%|██████████| 16/16 [00:00<00:00, 39.57it/s]\n",
      "  2%|▏         | 2/115 [00:00<00:07, 15.50it/s]"
     ]
    },
    {
     "name": "stdout",
     "output_type": "stream",
     "text": [
      "val loss increased, patience count:  1\n",
      "Epoch: 13, train_loss: 0.56184321641922, valid_loss: 0.5826466083526611\n"
     ]
    },
    {
     "name": "stderr",
     "output_type": "stream",
     "text": [
      "100%|██████████| 115/115 [00:07<00:00, 14.60it/s]\n",
      "100%|██████████| 16/16 [00:00<00:00, 37.46it/s]\n",
      "  2%|▏         | 2/115 [00:00<00:07, 14.54it/s]"
     ]
    },
    {
     "name": "stdout",
     "output_type": "stream",
     "text": [
      "val loss increased, patience count:  2\n",
      "Epoch: 14, train_loss: 0.56061851978302, valid_loss: 0.5823361277580261\n"
     ]
    },
    {
     "name": "stderr",
     "output_type": "stream",
     "text": [
      "100%|██████████| 115/115 [00:07<00:00, 14.57it/s]\n",
      "100%|██████████| 16/16 [00:00<00:00, 40.79it/s]\n"
     ]
    },
    {
     "name": "stdout",
     "output_type": "stream",
     "text": [
      "Early stopped at Epoch:  15\n"
     ]
    },
    {
     "name": "stderr",
     "output_type": "stream",
     "text": [
      "\r",
      "  0%|          | 0/57 [00:00<?, ?it/s]"
     ]
    },
    {
     "name": "stdout",
     "output_type": "stream",
     "text": [
      "{'BATCH_SIZE': 256, 'EPOCHS': 50, 'OPTIMIZER': <class 'torch.optim.adam.Adam'>, 'LEARNING_RATE': 0.0001, 'LOSS': CrossEntropyLoss(), 'EARLY_STOPPING': True, 'PATIENCE': 2, 'MIN_DELTA': 0.005, 'MAXPOOL': 2, 'FC_SIZES': array([128]), 'DROPOUT': 0.6, 'HIDDEN_SIZES': array([128, 256, 512]), 'KERNEL_SIZES': array([9, 9, 3])}\n"
     ]
    },
    {
     "name": "stderr",
     "output_type": "stream",
     "text": [
      "100%|██████████| 57/57 [00:23<00:00,  2.47it/s]\n",
      "100%|██████████| 8/8 [00:01<00:00,  7.15it/s]\n",
      "  0%|          | 0/57 [00:00<?, ?it/s]"
     ]
    },
    {
     "name": "stdout",
     "output_type": "stream",
     "text": [
      "Epoch: 0, train_loss: 0.6498631834983826, valid_loss: 0.6056712865829468\n"
     ]
    },
    {
     "name": "stderr",
     "output_type": "stream",
     "text": [
      "100%|██████████| 57/57 [00:23<00:00,  2.47it/s]\n",
      "100%|██████████| 8/8 [00:01<00:00,  7.08it/s]\n",
      "  0%|          | 0/57 [00:00<?, ?it/s]"
     ]
    },
    {
     "name": "stdout",
     "output_type": "stream",
     "text": [
      "Epoch: 1, train_loss: 0.5692402124404907, valid_loss: 0.5789146423339844\n"
     ]
    },
    {
     "name": "stderr",
     "output_type": "stream",
     "text": [
      "100%|██████████| 57/57 [00:23<00:00,  2.44it/s]\n",
      "100%|██████████| 8/8 [00:01<00:00,  7.19it/s]\n",
      "  0%|          | 0/57 [00:00<?, ?it/s]"
     ]
    },
    {
     "name": "stdout",
     "output_type": "stream",
     "text": [
      "Epoch: 2, train_loss: 0.5554972887039185, valid_loss: 0.5768688917160034\n"
     ]
    },
    {
     "name": "stderr",
     "output_type": "stream",
     "text": [
      "100%|██████████| 57/57 [00:23<00:00,  2.47it/s]\n",
      "100%|██████████| 8/8 [00:01<00:00,  6.99it/s]\n",
      "  0%|          | 0/57 [00:00<?, ?it/s]"
     ]
    },
    {
     "name": "stdout",
     "output_type": "stream",
     "text": [
      "val loss increased, patience count:  1\n",
      "Epoch: 3, train_loss: 0.5459566712379456, valid_loss: 0.587131917476654\n"
     ]
    },
    {
     "name": "stderr",
     "output_type": "stream",
     "text": [
      "100%|██████████| 57/57 [00:23<00:00,  2.43it/s]\n",
      "100%|██████████| 8/8 [00:01<00:00,  7.11it/s]\n",
      "  0%|          | 0/57 [00:00<?, ?it/s]"
     ]
    },
    {
     "name": "stdout",
     "output_type": "stream",
     "text": [
      "Epoch: 4, train_loss: 0.5403667092323303, valid_loss: 0.5668148994445801\n"
     ]
    },
    {
     "name": "stderr",
     "output_type": "stream",
     "text": [
      "100%|██████████| 57/57 [00:23<00:00,  2.45it/s]\n",
      "100%|██████████| 8/8 [00:01<00:00,  7.00it/s]\n",
      "  0%|          | 0/57 [00:00<?, ?it/s]"
     ]
    },
    {
     "name": "stdout",
     "output_type": "stream",
     "text": [
      "val loss increased, patience count:  1\n",
      "Epoch: 5, train_loss: 0.5361648797988892, valid_loss: 0.5761302709579468\n"
     ]
    },
    {
     "name": "stderr",
     "output_type": "stream",
     "text": [
      "100%|██████████| 57/57 [00:23<00:00,  2.45it/s]\n",
      "100%|██████████| 8/8 [00:01<00:00,  7.05it/s]\n",
      "  0%|          | 0/57 [00:00<?, ?it/s]"
     ]
    },
    {
     "name": "stdout",
     "output_type": "stream",
     "text": [
      "Epoch: 6, train_loss: 0.5301454663276672, valid_loss: 0.5584871768951416\n"
     ]
    },
    {
     "name": "stderr",
     "output_type": "stream",
     "text": [
      "100%|██████████| 57/57 [00:23<00:00,  2.45it/s]\n",
      "100%|██████████| 8/8 [00:01<00:00,  6.72it/s]\n",
      "  0%|          | 0/57 [00:00<?, ?it/s]"
     ]
    },
    {
     "name": "stdout",
     "output_type": "stream",
     "text": [
      "Epoch: 7, train_loss: 0.5256938338279724, valid_loss: 0.5525915622711182\n"
     ]
    },
    {
     "name": "stderr",
     "output_type": "stream",
     "text": [
      "100%|██████████| 57/57 [00:23<00:00,  2.45it/s]\n",
      "100%|██████████| 8/8 [00:01<00:00,  7.09it/s]\n",
      "  0%|          | 0/57 [00:00<?, ?it/s]"
     ]
    },
    {
     "name": "stdout",
     "output_type": "stream",
     "text": [
      "Epoch: 8, train_loss: 0.5206619501113892, valid_loss: 0.5521974563598633\n"
     ]
    },
    {
     "name": "stderr",
     "output_type": "stream",
     "text": [
      "100%|██████████| 57/57 [00:23<00:00,  2.42it/s]\n",
      "100%|██████████| 8/8 [00:01<00:00,  6.92it/s]\n",
      "  0%|          | 0/57 [00:00<?, ?it/s]"
     ]
    },
    {
     "name": "stdout",
     "output_type": "stream",
     "text": [
      "Epoch: 9, train_loss: 0.5156600475311279, valid_loss: 0.5510971546173096\n"
     ]
    },
    {
     "name": "stderr",
     "output_type": "stream",
     "text": [
      "100%|██████████| 57/57 [00:23<00:00,  2.45it/s]\n",
      "100%|██████████| 8/8 [00:01<00:00,  6.96it/s]\n",
      "  0%|          | 0/57 [00:00<?, ?it/s]"
     ]
    },
    {
     "name": "stdout",
     "output_type": "stream",
     "text": [
      "Epoch: 10, train_loss: 0.514847993850708, valid_loss: 0.5502305030822754\n"
     ]
    },
    {
     "name": "stderr",
     "output_type": "stream",
     "text": [
      "100%|██████████| 57/57 [00:23<00:00,  2.39it/s]\n",
      "100%|██████████| 8/8 [00:01<00:00,  6.81it/s]\n",
      "  0%|          | 0/57 [00:00<?, ?it/s]"
     ]
    },
    {
     "name": "stdout",
     "output_type": "stream",
     "text": [
      "val loss increased, patience count:  1\n",
      "Epoch: 11, train_loss: 0.5093894004821777, valid_loss: 0.5705081820487976\n"
     ]
    },
    {
     "name": "stderr",
     "output_type": "stream",
     "text": [
      "100%|██████████| 57/57 [00:23<00:00,  2.45it/s]\n",
      "100%|██████████| 8/8 [00:01<00:00,  6.69it/s]\n",
      "  0%|          | 0/57 [00:00<?, ?it/s]"
     ]
    },
    {
     "name": "stdout",
     "output_type": "stream",
     "text": [
      "val loss increased, patience count:  2\n",
      "Epoch: 12, train_loss: 0.5073185563087463, valid_loss: 0.5603567361831665\n"
     ]
    },
    {
     "name": "stderr",
     "output_type": "stream",
     "text": [
      "100%|██████████| 57/57 [00:23<00:00,  2.44it/s]\n",
      "100%|██████████| 8/8 [00:01<00:00,  6.66it/s]\n",
      "  0%|          | 0/57 [00:00<?, ?it/s]"
     ]
    },
    {
     "name": "stdout",
     "output_type": "stream",
     "text": [
      "Epoch: 13, train_loss: 0.5080510973930359, valid_loss: 0.5493640899658203\n"
     ]
    },
    {
     "name": "stderr",
     "output_type": "stream",
     "text": [
      "100%|██████████| 57/57 [00:23<00:00,  2.43it/s]\n",
      "100%|██████████| 8/8 [00:01<00:00,  7.04it/s]\n",
      "  0%|          | 0/57 [00:00<?, ?it/s]"
     ]
    },
    {
     "name": "stdout",
     "output_type": "stream",
     "text": [
      "val loss increased, patience count:  1\n",
      "Epoch: 14, train_loss: 0.5018529891967773, valid_loss: 0.5553796291351318\n"
     ]
    },
    {
     "name": "stderr",
     "output_type": "stream",
     "text": [
      "100%|██████████| 57/57 [00:23<00:00,  2.46it/s]\n",
      "100%|██████████| 8/8 [00:01<00:00,  7.14it/s]\n",
      "  0%|          | 0/57 [00:00<?, ?it/s]"
     ]
    },
    {
     "name": "stdout",
     "output_type": "stream",
     "text": [
      "val loss increased, patience count:  2\n",
      "Epoch: 15, train_loss: 0.4978126287460327, valid_loss: 0.5540236830711365\n"
     ]
    },
    {
     "name": "stderr",
     "output_type": "stream",
     "text": [
      "100%|██████████| 57/57 [00:23<00:00,  2.45it/s]\n",
      "100%|██████████| 8/8 [00:01<00:00,  6.82it/s]\n"
     ]
    },
    {
     "name": "stdout",
     "output_type": "stream",
     "text": [
      "Early stopped at Epoch:  16\n"
     ]
    },
    {
     "name": "stderr",
     "output_type": "stream",
     "text": [
      "  2%|▏         | 2/115 [00:00<00:08, 13.76it/s]"
     ]
    },
    {
     "name": "stdout",
     "output_type": "stream",
     "text": [
      "{'BATCH_SIZE': 128, 'EPOCHS': 20, 'OPTIMIZER': <class 'torch.optim.adam.Adam'>, 'LEARNING_RATE': 0.0001, 'LOSS': CrossEntropyLoss(), 'EARLY_STOPPING': True, 'PATIENCE': 3, 'MIN_DELTA': 5e-05, 'MAXPOOL': 2, 'FC_SIZES': array([512]), 'DROPOUT': 0.7, 'HIDDEN_SIZES': array([ 64, 128, 256]), 'KERNEL_SIZES': array([7, 3, 3])}\n"
     ]
    },
    {
     "name": "stderr",
     "output_type": "stream",
     "text": [
      "100%|██████████| 115/115 [00:09<00:00, 12.53it/s]\n",
      "100%|██████████| 16/16 [00:00<00:00, 35.51it/s]\n",
      "  2%|▏         | 2/115 [00:00<00:08, 12.78it/s]"
     ]
    },
    {
     "name": "stdout",
     "output_type": "stream",
     "text": [
      "Epoch: 0, train_loss: 0.6410550475120544, valid_loss: 0.6130048632621765\n"
     ]
    },
    {
     "name": "stderr",
     "output_type": "stream",
     "text": [
      "100%|██████████| 115/115 [00:09<00:00, 12.39it/s]\n",
      "100%|██████████| 16/16 [00:00<00:00, 38.29it/s]\n",
      "  2%|▏         | 2/115 [00:00<00:08, 13.32it/s]"
     ]
    },
    {
     "name": "stdout",
     "output_type": "stream",
     "text": [
      "Epoch: 1, train_loss: 0.5699394941329956, valid_loss: 0.5815080404281616\n"
     ]
    },
    {
     "name": "stderr",
     "output_type": "stream",
     "text": [
      "100%|██████████| 115/115 [00:09<00:00, 12.48it/s]\n",
      "100%|██████████| 16/16 [00:00<00:00, 37.43it/s]\n",
      "  2%|▏         | 2/115 [00:00<00:08, 13.10it/s]"
     ]
    },
    {
     "name": "stdout",
     "output_type": "stream",
     "text": [
      "val loss increased, patience count:  1\n",
      "Epoch: 2, train_loss: 0.5538768172264099, valid_loss: 0.5832885503768921\n"
     ]
    },
    {
     "name": "stderr",
     "output_type": "stream",
     "text": [
      "100%|██████████| 115/115 [00:09<00:00, 12.40it/s]\n",
      "100%|██████████| 16/16 [00:00<00:00, 37.11it/s]\n",
      "  2%|▏         | 2/115 [00:00<00:08, 13.21it/s]"
     ]
    },
    {
     "name": "stdout",
     "output_type": "stream",
     "text": [
      "Epoch: 3, train_loss: 0.5508268475532532, valid_loss: 0.5716561079025269\n"
     ]
    },
    {
     "name": "stderr",
     "output_type": "stream",
     "text": [
      "100%|██████████| 115/115 [00:09<00:00, 12.39it/s]\n",
      "100%|██████████| 16/16 [00:00<00:00, 37.39it/s]\n",
      "  2%|▏         | 2/115 [00:00<00:08, 13.16it/s]"
     ]
    },
    {
     "name": "stdout",
     "output_type": "stream",
     "text": [
      "Epoch: 4, train_loss: 0.5431029200553894, valid_loss: 0.5705442428588867\n"
     ]
    },
    {
     "name": "stderr",
     "output_type": "stream",
     "text": [
      "100%|██████████| 115/115 [00:09<00:00, 12.27it/s]\n",
      "100%|██████████| 16/16 [00:00<00:00, 35.42it/s]\n",
      "  2%|▏         | 2/115 [00:00<00:09, 12.37it/s]"
     ]
    },
    {
     "name": "stdout",
     "output_type": "stream",
     "text": [
      "Epoch: 5, train_loss: 0.5435472130775452, valid_loss: 0.5693823099136353\n"
     ]
    },
    {
     "name": "stderr",
     "output_type": "stream",
     "text": [
      "100%|██████████| 115/115 [00:09<00:00, 12.33it/s]\n",
      "100%|██████████| 16/16 [00:00<00:00, 34.25it/s]\n",
      "  2%|▏         | 2/115 [00:00<00:09, 11.59it/s]"
     ]
    },
    {
     "name": "stdout",
     "output_type": "stream",
     "text": [
      "val loss increased, patience count:  1\n",
      "Epoch: 6, train_loss: 0.536829948425293, valid_loss: 0.5734195709228516\n"
     ]
    },
    {
     "name": "stderr",
     "output_type": "stream",
     "text": [
      "100%|██████████| 115/115 [00:09<00:00, 12.30it/s]\n",
      "100%|██████████| 16/16 [00:00<00:00, 37.93it/s]\n",
      "  2%|▏         | 2/115 [00:00<00:08, 12.74it/s]"
     ]
    },
    {
     "name": "stdout",
     "output_type": "stream",
     "text": [
      "Epoch: 7, train_loss: 0.5327175259590149, valid_loss: 0.5643038749694824\n"
     ]
    },
    {
     "name": "stderr",
     "output_type": "stream",
     "text": [
      "100%|██████████| 115/115 [00:09<00:00, 12.39it/s]\n",
      "100%|██████████| 16/16 [00:00<00:00, 37.30it/s]\n",
      "  2%|▏         | 2/115 [00:00<00:09, 12.39it/s]"
     ]
    },
    {
     "name": "stdout",
     "output_type": "stream",
     "text": [
      "Epoch: 8, train_loss: 0.5306453108787537, valid_loss: 0.5596387386322021\n"
     ]
    },
    {
     "name": "stderr",
     "output_type": "stream",
     "text": [
      "100%|██████████| 115/115 [00:09<00:00, 12.51it/s]\n",
      "100%|██████████| 16/16 [00:00<00:00, 38.71it/s]\n",
      "  2%|▏         | 2/115 [00:00<00:08, 13.40it/s]"
     ]
    },
    {
     "name": "stdout",
     "output_type": "stream",
     "text": [
      "Epoch: 9, train_loss: 0.5245159268379211, valid_loss: 0.5574604272842407\n"
     ]
    },
    {
     "name": "stderr",
     "output_type": "stream",
     "text": [
      "100%|██████████| 115/115 [00:09<00:00, 12.12it/s]\n",
      "100%|██████████| 16/16 [00:00<00:00, 33.63it/s]\n",
      "  2%|▏         | 2/115 [00:00<00:09, 11.43it/s]"
     ]
    },
    {
     "name": "stdout",
     "output_type": "stream",
     "text": [
      "val loss increased, patience count:  1\n",
      "Epoch: 10, train_loss: 0.5189506411552429, valid_loss: 0.5667259693145752\n"
     ]
    },
    {
     "name": "stderr",
     "output_type": "stream",
     "text": [
      "100%|██████████| 115/115 [00:09<00:00, 12.07it/s]\n",
      "100%|██████████| 16/16 [00:00<00:00, 37.56it/s]\n",
      "  2%|▏         | 2/115 [00:00<00:08, 13.38it/s]"
     ]
    },
    {
     "name": "stdout",
     "output_type": "stream",
     "text": [
      "val loss increased, patience count:  2\n",
      "Epoch: 11, train_loss: 0.5212781429290771, valid_loss: 0.5641556978225708\n"
     ]
    },
    {
     "name": "stderr",
     "output_type": "stream",
     "text": [
      "100%|██████████| 115/115 [00:09<00:00, 12.00it/s]\n",
      "100%|██████████| 16/16 [00:00<00:00, 38.53it/s]\n",
      "  2%|▏         | 2/115 [00:00<00:08, 13.53it/s]"
     ]
    },
    {
     "name": "stdout",
     "output_type": "stream",
     "text": [
      "val loss increased, patience count:  3\n",
      "Epoch: 12, train_loss: 0.5214258432388306, valid_loss: 0.5588520765304565\n"
     ]
    },
    {
     "name": "stderr",
     "output_type": "stream",
     "text": [
      "100%|██████████| 115/115 [00:09<00:00, 12.46it/s]\n",
      "100%|██████████| 16/16 [00:00<00:00, 37.16it/s]\n",
      "  2%|▏         | 2/115 [00:00<00:08, 13.24it/s]"
     ]
    },
    {
     "name": "stdout",
     "output_type": "stream",
     "text": [
      "Epoch: 13, train_loss: 0.5173848271369934, valid_loss: 0.5512769222259521\n"
     ]
    },
    {
     "name": "stderr",
     "output_type": "stream",
     "text": [
      "100%|██████████| 115/115 [00:09<00:00, 12.40it/s]\n",
      "100%|██████████| 16/16 [00:00<00:00, 37.37it/s]\n",
      "  2%|▏         | 2/115 [00:00<00:08, 13.01it/s]"
     ]
    },
    {
     "name": "stdout",
     "output_type": "stream",
     "text": [
      "Epoch: 14, train_loss: 0.5114668607711792, valid_loss: 0.5472778081893921\n"
     ]
    },
    {
     "name": "stderr",
     "output_type": "stream",
     "text": [
      "100%|██████████| 115/115 [00:09<00:00, 12.34it/s]\n",
      "100%|██████████| 16/16 [00:00<00:00, 36.93it/s]\n",
      "  2%|▏         | 2/115 [00:00<00:08, 13.46it/s]"
     ]
    },
    {
     "name": "stdout",
     "output_type": "stream",
     "text": [
      "val loss increased, patience count:  1\n",
      "Epoch: 15, train_loss: 0.5075399875640869, valid_loss: 0.5499902963638306\n"
     ]
    },
    {
     "name": "stderr",
     "output_type": "stream",
     "text": [
      "100%|██████████| 115/115 [00:09<00:00, 12.41it/s]\n",
      "100%|██████████| 16/16 [00:00<00:00, 33.52it/s]\n",
      "  2%|▏         | 2/115 [00:00<00:09, 12.43it/s]"
     ]
    },
    {
     "name": "stdout",
     "output_type": "stream",
     "text": [
      "val loss increased, patience count:  2\n",
      "Epoch: 16, train_loss: 0.5078949928283691, valid_loss: 0.5563493967056274\n"
     ]
    },
    {
     "name": "stderr",
     "output_type": "stream",
     "text": [
      "100%|██████████| 115/115 [00:09<00:00, 12.08it/s]\n",
      "100%|██████████| 16/16 [00:00<00:00, 32.40it/s]\n",
      "  2%|▏         | 2/115 [00:00<00:09, 11.97it/s]"
     ]
    },
    {
     "name": "stdout",
     "output_type": "stream",
     "text": [
      "val loss increased, patience count:  3\n",
      "Epoch: 17, train_loss: 0.506816029548645, valid_loss: 0.5511341094970703\n"
     ]
    },
    {
     "name": "stderr",
     "output_type": "stream",
     "text": [
      "100%|██████████| 115/115 [00:09<00:00, 12.24it/s]\n",
      "100%|██████████| 16/16 [00:00<00:00, 31.70it/s]\n"
     ]
    },
    {
     "name": "stdout",
     "output_type": "stream",
     "text": [
      "Early stopped at Epoch:  18\n"
     ]
    },
    {
     "name": "stderr",
     "output_type": "stream",
     "text": [
      "\r",
      "  0%|          | 0/115 [00:00<?, ?it/s]"
     ]
    },
    {
     "name": "stdout",
     "output_type": "stream",
     "text": [
      "{'BATCH_SIZE': 128, 'EPOCHS': 20, 'OPTIMIZER': <class 'torch.optim.adam.Adam'>, 'LEARNING_RATE': 0.0005, 'LOSS': CrossEntropyLoss(), 'EARLY_STOPPING': True, 'PATIENCE': 3, 'MIN_DELTA': 0.0005, 'MAXPOOL': 2, 'FC_SIZES': array([64]), 'DROPOUT': 0.0, 'HIDDEN_SIZES': array([128, 256, 512]), 'KERNEL_SIZES': array([7, 7, 5])}\n"
     ]
    },
    {
     "name": "stderr",
     "output_type": "stream",
     "text": [
      "100%|██████████| 115/115 [00:24<00:00,  4.62it/s]\n",
      "100%|██████████| 16/16 [00:01<00:00, 15.93it/s]\n",
      "  0%|          | 0/115 [00:00<?, ?it/s]"
     ]
    },
    {
     "name": "stdout",
     "output_type": "stream",
     "text": [
      "Epoch: 0, train_loss: 0.5849871635437012, valid_loss: 0.5806741714477539\n"
     ]
    },
    {
     "name": "stderr",
     "output_type": "stream",
     "text": [
      "100%|██████████| 115/115 [00:25<00:00,  4.59it/s]\n",
      "100%|██████████| 16/16 [00:01<00:00, 15.83it/s]\n",
      "  0%|          | 0/115 [00:00<?, ?it/s]"
     ]
    },
    {
     "name": "stdout",
     "output_type": "stream",
     "text": [
      "Epoch: 1, train_loss: 0.5488396883010864, valid_loss: 0.5617697238922119\n"
     ]
    },
    {
     "name": "stderr",
     "output_type": "stream",
     "text": [
      "100%|██████████| 115/115 [00:25<00:00,  4.60it/s]\n",
      "100%|██████████| 16/16 [00:01<00:00, 15.81it/s]\n",
      "  0%|          | 0/115 [00:00<?, ?it/s]"
     ]
    },
    {
     "name": "stdout",
     "output_type": "stream",
     "text": [
      "val loss increased, patience count:  1\n",
      "Epoch: 2, train_loss: 0.5389168858528137, valid_loss: 0.567243218421936\n"
     ]
    },
    {
     "name": "stderr",
     "output_type": "stream",
     "text": [
      "100%|██████████| 115/115 [00:25<00:00,  4.56it/s]\n",
      "100%|██████████| 16/16 [00:01<00:00, 15.76it/s]\n",
      "  0%|          | 0/115 [00:00<?, ?it/s]"
     ]
    },
    {
     "name": "stdout",
     "output_type": "stream",
     "text": [
      "Epoch: 3, train_loss: 0.5308399796485901, valid_loss: 0.5489344596862793\n"
     ]
    },
    {
     "name": "stderr",
     "output_type": "stream",
     "text": [
      "100%|██████████| 115/115 [00:25<00:00,  4.56it/s]\n",
      "100%|██████████| 16/16 [00:01<00:00, 15.72it/s]\n",
      "  0%|          | 0/115 [00:00<?, ?it/s]"
     ]
    },
    {
     "name": "stdout",
     "output_type": "stream",
     "text": [
      "val loss increased, patience count:  1\n",
      "Epoch: 4, train_loss: 0.5223290324211121, valid_loss: 0.5493396520614624\n"
     ]
    },
    {
     "name": "stderr",
     "output_type": "stream",
     "text": [
      "100%|██████████| 115/115 [00:25<00:00,  4.59it/s]\n",
      "100%|██████████| 16/16 [00:00<00:00, 16.02it/s]\n",
      "  0%|          | 0/115 [00:00<?, ?it/s]"
     ]
    },
    {
     "name": "stdout",
     "output_type": "stream",
     "text": [
      "val loss increased, patience count:  2\n",
      "Epoch: 5, train_loss: 0.5183976888656616, valid_loss: 0.5665428042411804\n"
     ]
    },
    {
     "name": "stderr",
     "output_type": "stream",
     "text": [
      "100%|██████████| 115/115 [00:25<00:00,  4.53it/s]\n",
      "100%|██████████| 16/16 [00:00<00:00, 16.30it/s]\n",
      "  0%|          | 0/115 [00:00<?, ?it/s]"
     ]
    },
    {
     "name": "stdout",
     "output_type": "stream",
     "text": [
      "Epoch: 6, train_loss: 0.507652759552002, valid_loss: 0.5485951900482178\n"
     ]
    },
    {
     "name": "stderr",
     "output_type": "stream",
     "text": [
      "100%|██████████| 115/115 [00:25<00:00,  4.55it/s]\n",
      "100%|██████████| 16/16 [00:01<00:00, 15.56it/s]\n",
      "  0%|          | 0/115 [00:00<?, ?it/s]"
     ]
    },
    {
     "name": "stdout",
     "output_type": "stream",
     "text": [
      "val loss increased, patience count:  1\n",
      "Epoch: 7, train_loss: 0.5024774074554443, valid_loss: 0.5853337049484253\n"
     ]
    },
    {
     "name": "stderr",
     "output_type": "stream",
     "text": [
      "100%|██████████| 115/115 [00:25<00:00,  4.47it/s]\n",
      "100%|██████████| 16/16 [00:01<00:00, 15.93it/s]\n",
      "  0%|          | 0/115 [00:00<?, ?it/s]"
     ]
    },
    {
     "name": "stdout",
     "output_type": "stream",
     "text": [
      "val loss increased, patience count:  2\n",
      "Epoch: 8, train_loss: 0.4914395213127136, valid_loss: 0.5606197118759155\n"
     ]
    },
    {
     "name": "stderr",
     "output_type": "stream",
     "text": [
      "100%|██████████| 115/115 [00:25<00:00,  4.52it/s]\n",
      "100%|██████████| 16/16 [00:00<00:00, 16.08it/s]\n",
      "  0%|          | 0/115 [00:00<?, ?it/s]"
     ]
    },
    {
     "name": "stdout",
     "output_type": "stream",
     "text": [
      "val loss increased, patience count:  3\n",
      "Epoch: 9, train_loss: 0.47467875480651855, valid_loss: 0.5597079992294312\n"
     ]
    },
    {
     "name": "stderr",
     "output_type": "stream",
     "text": [
      "100%|██████████| 115/115 [00:25<00:00,  4.58it/s]\n",
      "100%|██████████| 16/16 [00:01<00:00, 14.93it/s]\n"
     ]
    },
    {
     "name": "stdout",
     "output_type": "stream",
     "text": [
      "Early stopped at Epoch:  10\n"
     ]
    },
    {
     "name": "stderr",
     "output_type": "stream",
     "text": [
      "  1%|          | 1/115 [00:00<00:19,  5.87it/s]"
     ]
    },
    {
     "name": "stdout",
     "output_type": "stream",
     "text": [
      "{'BATCH_SIZE': 128, 'EPOCHS': 40, 'OPTIMIZER': <class 'torch.optim.adam.Adam'>, 'LEARNING_RATE': 0.0005, 'LOSS': CrossEntropyLoss(), 'EARLY_STOPPING': True, 'PATIENCE': 2, 'MIN_DELTA': 0.0005, 'MAXPOOL': 2, 'FC_SIZES': array([64]), 'DROPOUT': 0.1, 'HIDDEN_SIZES': array([128, 256, 512]), 'KERNEL_SIZES': array([5, 5, 5])}\n"
     ]
    },
    {
     "name": "stderr",
     "output_type": "stream",
     "text": [
      "100%|██████████| 115/115 [00:23<00:00,  5.00it/s]\n",
      "100%|██████████| 16/16 [00:00<00:00, 16.96it/s]\n",
      "  1%|          | 1/115 [00:00<00:21,  5.28it/s]"
     ]
    },
    {
     "name": "stdout",
     "output_type": "stream",
     "text": [
      "Epoch: 0, train_loss: 0.594000518321991, valid_loss: 0.5828307271003723\n"
     ]
    },
    {
     "name": "stderr",
     "output_type": "stream",
     "text": [
      "100%|██████████| 115/115 [00:23<00:00,  4.97it/s]\n",
      "100%|██████████| 16/16 [00:00<00:00, 16.69it/s]\n",
      "  1%|          | 1/115 [00:00<00:21,  5.20it/s]"
     ]
    },
    {
     "name": "stdout",
     "output_type": "stream",
     "text": [
      "Epoch: 1, train_loss: 0.5623854398727417, valid_loss: 0.5794487595558167\n"
     ]
    },
    {
     "name": "stderr",
     "output_type": "stream",
     "text": [
      "100%|██████████| 115/115 [00:23<00:00,  4.98it/s]\n",
      "100%|██████████| 16/16 [00:00<00:00, 17.55it/s]\n",
      "  1%|          | 1/115 [00:00<00:20,  5.45it/s]"
     ]
    },
    {
     "name": "stdout",
     "output_type": "stream",
     "text": [
      "Epoch: 2, train_loss: 0.5488417148590088, valid_loss: 0.5791130065917969\n"
     ]
    },
    {
     "name": "stderr",
     "output_type": "stream",
     "text": [
      "100%|██████████| 115/115 [00:23<00:00,  4.98it/s]\n",
      "100%|██████████| 16/16 [00:00<00:00, 16.40it/s]\n",
      "  1%|          | 1/115 [00:00<00:20,  5.44it/s]"
     ]
    },
    {
     "name": "stdout",
     "output_type": "stream",
     "text": [
      "Epoch: 3, train_loss: 0.5415003299713135, valid_loss: 0.5661755800247192\n"
     ]
    },
    {
     "name": "stderr",
     "output_type": "stream",
     "text": [
      "100%|██████████| 115/115 [00:23<00:00,  4.97it/s]\n",
      "100%|██████████| 16/16 [00:00<00:00, 17.13it/s]\n",
      "  1%|          | 1/115 [00:00<00:21,  5.33it/s]"
     ]
    },
    {
     "name": "stdout",
     "output_type": "stream",
     "text": [
      "Epoch: 4, train_loss: 0.5353561043739319, valid_loss: 0.5488668084144592\n"
     ]
    },
    {
     "name": "stderr",
     "output_type": "stream",
     "text": [
      "100%|██████████| 115/115 [00:23<00:00,  4.98it/s]\n",
      "100%|██████████| 16/16 [00:01<00:00, 15.86it/s]\n",
      "  0%|          | 0/115 [00:00<?, ?it/s]"
     ]
    },
    {
     "name": "stdout",
     "output_type": "stream",
     "text": [
      "val loss increased, patience count:  1\n",
      "Epoch: 5, train_loss: 0.525181770324707, valid_loss: 0.561488687992096\n"
     ]
    },
    {
     "name": "stderr",
     "output_type": "stream",
     "text": [
      "100%|██████████| 115/115 [00:23<00:00,  4.95it/s]\n",
      "100%|██████████| 16/16 [00:00<00:00, 17.05it/s]\n",
      "  1%|          | 1/115 [00:00<00:21,  5.34it/s]"
     ]
    },
    {
     "name": "stdout",
     "output_type": "stream",
     "text": [
      "val loss increased, patience count:  2\n",
      "Epoch: 6, train_loss: 0.5150147676467896, valid_loss: 0.5523160696029663\n"
     ]
    },
    {
     "name": "stderr",
     "output_type": "stream",
     "text": [
      "100%|██████████| 115/115 [00:23<00:00,  4.96it/s]\n",
      "100%|██████████| 16/16 [00:00<00:00, 16.78it/s]\n"
     ]
    },
    {
     "name": "stdout",
     "output_type": "stream",
     "text": [
      "Early stopped at Epoch:  7\n"
     ]
    },
    {
     "name": "stderr",
     "output_type": "stream",
     "text": [
      "\r",
      "  0%|          | 0/28 [00:00<?, ?it/s]"
     ]
    },
    {
     "name": "stdout",
     "output_type": "stream",
     "text": [
      "{'BATCH_SIZE': 512, 'EPOCHS': 50, 'OPTIMIZER': <class 'torch.optim.adam.Adam'>, 'LEARNING_RATE': 1e-05, 'LOSS': CrossEntropyLoss(), 'EARLY_STOPPING': True, 'PATIENCE': 2, 'MIN_DELTA': 0.0001, 'MAXPOOL': 2, 'FC_SIZES': array([512]), 'DROPOUT': 0.7, 'HIDDEN_SIZES': array([128, 256, 512]), 'KERNEL_SIZES': array([7, 5, 5])}\n"
     ]
    },
    {
     "name": "stderr",
     "output_type": "stream",
     "text": [
      "100%|██████████| 28/28 [00:19<00:00,  1.43it/s]\n",
      "100%|██████████| 4/4 [00:00<00:00,  4.36it/s]\n",
      "  0%|          | 0/28 [00:00<?, ?it/s]"
     ]
    },
    {
     "name": "stdout",
     "output_type": "stream",
     "text": [
      "Epoch: 0, train_loss: 0.6929121017456055, valid_loss: 0.6919538974761963\n"
     ]
    },
    {
     "name": "stderr",
     "output_type": "stream",
     "text": [
      "100%|██████████| 28/28 [00:19<00:00,  1.45it/s]\n",
      "100%|██████████| 4/4 [00:00<00:00,  4.19it/s]\n",
      "  0%|          | 0/28 [00:00<?, ?it/s]"
     ]
    },
    {
     "name": "stdout",
     "output_type": "stream",
     "text": [
      "Epoch: 1, train_loss: 0.6913800239562988, valid_loss: 0.6902188658714294\n"
     ]
    },
    {
     "name": "stderr",
     "output_type": "stream",
     "text": [
      "100%|██████████| 28/28 [00:19<00:00,  1.44it/s]\n",
      "100%|██████████| 4/4 [00:00<00:00,  4.45it/s]\n",
      "  0%|          | 0/28 [00:00<?, ?it/s]"
     ]
    },
    {
     "name": "stdout",
     "output_type": "stream",
     "text": [
      "Epoch: 2, train_loss: 0.6888090372085571, valid_loss: 0.6861956715583801\n"
     ]
    },
    {
     "name": "stderr",
     "output_type": "stream",
     "text": [
      "100%|██████████| 28/28 [00:19<00:00,  1.44it/s]\n",
      "100%|██████████| 4/4 [00:00<00:00,  4.51it/s]\n",
      "  0%|          | 0/28 [00:00<?, ?it/s]"
     ]
    },
    {
     "name": "stdout",
     "output_type": "stream",
     "text": [
      "Epoch: 3, train_loss: 0.6829091310501099, valid_loss: 0.67794269323349\n"
     ]
    },
    {
     "name": "stderr",
     "output_type": "stream",
     "text": [
      "100%|██████████| 28/28 [00:19<00:00,  1.40it/s]\n",
      "100%|██████████| 4/4 [00:00<00:00,  4.41it/s]\n",
      "  0%|          | 0/28 [00:00<?, ?it/s]"
     ]
    },
    {
     "name": "stdout",
     "output_type": "stream",
     "text": [
      "Epoch: 4, train_loss: 0.669832706451416, valid_loss: 0.6614425182342529\n"
     ]
    },
    {
     "name": "stderr",
     "output_type": "stream",
     "text": [
      "100%|██████████| 28/28 [00:19<00:00,  1.43it/s]\n",
      "100%|██████████| 4/4 [00:00<00:00,  4.30it/s]\n",
      "  0%|          | 0/28 [00:00<?, ?it/s]"
     ]
    },
    {
     "name": "stdout",
     "output_type": "stream",
     "text": [
      "Epoch: 5, train_loss: 0.6461825370788574, valid_loss: 0.6440377235412598\n"
     ]
    },
    {
     "name": "stderr",
     "output_type": "stream",
     "text": [
      "100%|██████████| 28/28 [00:19<00:00,  1.44it/s]\n",
      "100%|██████████| 4/4 [00:00<00:00,  4.18it/s]\n",
      "  0%|          | 0/28 [00:00<?, ?it/s]"
     ]
    },
    {
     "name": "stdout",
     "output_type": "stream",
     "text": [
      "Epoch: 6, train_loss: 0.6179408431053162, valid_loss: 0.6202468872070312\n"
     ]
    },
    {
     "name": "stderr",
     "output_type": "stream",
     "text": [
      "100%|██████████| 28/28 [00:19<00:00,  1.43it/s]\n",
      "100%|██████████| 4/4 [00:00<00:00,  4.35it/s]\n",
      "  0%|          | 0/28 [00:00<?, ?it/s]"
     ]
    },
    {
     "name": "stdout",
     "output_type": "stream",
     "text": [
      "Epoch: 7, train_loss: 0.5993228554725647, valid_loss: 0.6081175208091736\n"
     ]
    },
    {
     "name": "stderr",
     "output_type": "stream",
     "text": [
      "100%|██████████| 28/28 [00:19<00:00,  1.44it/s]\n",
      "100%|██████████| 4/4 [00:00<00:00,  4.28it/s]\n",
      "  0%|          | 0/28 [00:00<?, ?it/s]"
     ]
    },
    {
     "name": "stdout",
     "output_type": "stream",
     "text": [
      "Epoch: 8, train_loss: 0.5881479382514954, valid_loss: 0.6014001965522766\n"
     ]
    },
    {
     "name": "stderr",
     "output_type": "stream",
     "text": [
      "100%|██████████| 28/28 [00:19<00:00,  1.44it/s]\n",
      "100%|██████████| 4/4 [00:00<00:00,  4.37it/s]\n",
      "  0%|          | 0/28 [00:00<?, ?it/s]"
     ]
    },
    {
     "name": "stdout",
     "output_type": "stream",
     "text": [
      "Epoch: 9, train_loss: 0.5828390717506409, valid_loss: 0.5964692234992981\n"
     ]
    },
    {
     "name": "stderr",
     "output_type": "stream",
     "text": [
      "100%|██████████| 28/28 [00:19<00:00,  1.42it/s]\n",
      "100%|██████████| 4/4 [00:00<00:00,  4.42it/s]\n",
      "  0%|          | 0/28 [00:00<?, ?it/s]"
     ]
    },
    {
     "name": "stdout",
     "output_type": "stream",
     "text": [
      "Epoch: 10, train_loss: 0.5769469141960144, valid_loss: 0.5951505899429321\n"
     ]
    },
    {
     "name": "stderr",
     "output_type": "stream",
     "text": [
      "100%|██████████| 28/28 [00:19<00:00,  1.44it/s]\n",
      "100%|██████████| 4/4 [00:00<00:00,  4.28it/s]\n",
      "  0%|          | 0/28 [00:00<?, ?it/s]"
     ]
    },
    {
     "name": "stdout",
     "output_type": "stream",
     "text": [
      "val loss increased, patience count:  1\n",
      "Epoch: 11, train_loss: 0.5735145807266235, valid_loss: 0.5992032885551453\n"
     ]
    },
    {
     "name": "stderr",
     "output_type": "stream",
     "text": [
      "100%|██████████| 28/28 [00:19<00:00,  1.42it/s]\n",
      "100%|██████████| 4/4 [00:00<00:00,  4.37it/s]\n",
      "  0%|          | 0/28 [00:00<?, ?it/s]"
     ]
    },
    {
     "name": "stdout",
     "output_type": "stream",
     "text": [
      "Epoch: 12, train_loss: 0.5708734393119812, valid_loss: 0.592808723449707\n"
     ]
    },
    {
     "name": "stderr",
     "output_type": "stream",
     "text": [
      "100%|██████████| 28/28 [00:19<00:00,  1.42it/s]\n",
      "100%|██████████| 4/4 [00:00<00:00,  4.28it/s]\n",
      "  0%|          | 0/28 [00:00<?, ?it/s]"
     ]
    },
    {
     "name": "stdout",
     "output_type": "stream",
     "text": [
      "Epoch: 13, train_loss: 0.5691078901290894, valid_loss: 0.5876809358596802\n"
     ]
    },
    {
     "name": "stderr",
     "output_type": "stream",
     "text": [
      "100%|██████████| 28/28 [00:19<00:00,  1.44it/s]\n",
      "100%|██████████| 4/4 [00:00<00:00,  4.27it/s]\n",
      "  0%|          | 0/28 [00:00<?, ?it/s]"
     ]
    },
    {
     "name": "stdout",
     "output_type": "stream",
     "text": [
      "Epoch: 14, train_loss: 0.5678296685218811, valid_loss: 0.5860235691070557\n"
     ]
    },
    {
     "name": "stderr",
     "output_type": "stream",
     "text": [
      "100%|██████████| 28/28 [00:19<00:00,  1.44it/s]\n",
      "100%|██████████| 4/4 [00:00<00:00,  4.45it/s]\n",
      "  0%|          | 0/28 [00:00<?, ?it/s]"
     ]
    },
    {
     "name": "stdout",
     "output_type": "stream",
     "text": [
      "val loss increased, patience count:  1\n",
      "Epoch: 15, train_loss: 0.5663723349571228, valid_loss: 0.5881713628768921\n"
     ]
    },
    {
     "name": "stderr",
     "output_type": "stream",
     "text": [
      "100%|██████████| 28/28 [00:20<00:00,  1.38it/s]\n",
      "100%|██████████| 4/4 [00:00<00:00,  4.31it/s]\n",
      "  0%|          | 0/28 [00:00<?, ?it/s]"
     ]
    },
    {
     "name": "stdout",
     "output_type": "stream",
     "text": [
      "Epoch: 16, train_loss: 0.5653063654899597, valid_loss: 0.5824812054634094\n"
     ]
    },
    {
     "name": "stderr",
     "output_type": "stream",
     "text": [
      "100%|██████████| 28/28 [00:19<00:00,  1.43it/s]\n",
      "100%|██████████| 4/4 [00:00<00:00,  4.40it/s]\n",
      "  0%|          | 0/28 [00:00<?, ?it/s]"
     ]
    },
    {
     "name": "stdout",
     "output_type": "stream",
     "text": [
      "val loss increased, patience count:  1\n",
      "Epoch: 17, train_loss: 0.56256502866745, valid_loss: 0.5835832357406616\n"
     ]
    },
    {
     "name": "stderr",
     "output_type": "stream",
     "text": [
      "100%|██████████| 28/28 [00:19<00:00,  1.43it/s]\n",
      "100%|██████████| 4/4 [00:00<00:00,  4.35it/s]\n",
      "  0%|          | 0/28 [00:00<?, ?it/s]"
     ]
    },
    {
     "name": "stdout",
     "output_type": "stream",
     "text": [
      "Epoch: 18, train_loss: 0.5611602067947388, valid_loss: 0.5796203017234802\n"
     ]
    },
    {
     "name": "stderr",
     "output_type": "stream",
     "text": [
      "100%|██████████| 28/28 [00:19<00:00,  1.43it/s]\n",
      "100%|██████████| 4/4 [00:00<00:00,  4.29it/s]\n",
      "  0%|          | 0/28 [00:00<?, ?it/s]"
     ]
    },
    {
     "name": "stdout",
     "output_type": "stream",
     "text": [
      "val loss increased, patience count:  1\n",
      "Epoch: 19, train_loss: 0.560885488986969, valid_loss: 0.5828965902328491\n"
     ]
    },
    {
     "name": "stderr",
     "output_type": "stream",
     "text": [
      "100%|██████████| 28/28 [00:19<00:00,  1.44it/s]\n",
      "100%|██████████| 4/4 [00:00<00:00,  4.40it/s]\n",
      "  0%|          | 0/28 [00:00<?, ?it/s]"
     ]
    },
    {
     "name": "stdout",
     "output_type": "stream",
     "text": [
      "val loss increased, patience count:  2\n",
      "Epoch: 20, train_loss: 0.5600495338439941, valid_loss: 0.5819627046585083\n"
     ]
    },
    {
     "name": "stderr",
     "output_type": "stream",
     "text": [
      "100%|██████████| 28/28 [00:19<00:00,  1.43it/s]\n",
      "100%|██████████| 4/4 [00:00<00:00,  4.30it/s]\n",
      "  0%|          | 0/28 [00:00<?, ?it/s]"
     ]
    },
    {
     "name": "stdout",
     "output_type": "stream",
     "text": [
      "Epoch: 21, train_loss: 0.5569318532943726, valid_loss: 0.5784209370613098\n"
     ]
    },
    {
     "name": "stderr",
     "output_type": "stream",
     "text": [
      "100%|██████████| 28/28 [00:19<00:00,  1.41it/s]\n",
      "100%|██████████| 4/4 [00:00<00:00,  4.34it/s]\n",
      "  0%|          | 0/28 [00:00<?, ?it/s]"
     ]
    },
    {
     "name": "stdout",
     "output_type": "stream",
     "text": [
      "Epoch: 22, train_loss: 0.5569427013397217, valid_loss: 0.5740155577659607\n"
     ]
    },
    {
     "name": "stderr",
     "output_type": "stream",
     "text": [
      "100%|██████████| 28/28 [00:19<00:00,  1.43it/s]\n",
      "100%|██████████| 4/4 [00:00<00:00,  4.35it/s]\n",
      "  0%|          | 0/28 [00:00<?, ?it/s]"
     ]
    },
    {
     "name": "stdout",
     "output_type": "stream",
     "text": [
      "val loss increased, patience count:  1\n",
      "Epoch: 23, train_loss: 0.5547312498092651, valid_loss: 0.5761411190032959\n"
     ]
    },
    {
     "name": "stderr",
     "output_type": "stream",
     "text": [
      "100%|██████████| 28/28 [00:19<00:00,  1.44it/s]\n",
      "100%|██████████| 4/4 [00:00<00:00,  4.23it/s]\n",
      "  0%|          | 0/28 [00:00<?, ?it/s]"
     ]
    },
    {
     "name": "stdout",
     "output_type": "stream",
     "text": [
      "val loss increased, patience count:  2\n",
      "Epoch: 24, train_loss: 0.553724467754364, valid_loss: 0.5754764080047607\n"
     ]
    },
    {
     "name": "stderr",
     "output_type": "stream",
     "text": [
      "100%|██████████| 28/28 [00:19<00:00,  1.43it/s]\n",
      "100%|██████████| 4/4 [00:00<00:00,  4.37it/s]\n"
     ]
    },
    {
     "name": "stdout",
     "output_type": "stream",
     "text": [
      "Early stopped at Epoch:  25\n"
     ]
    },
    {
     "name": "stderr",
     "output_type": "stream",
     "text": [
      "\r",
      "  0%|          | 0/28 [00:00<?, ?it/s]"
     ]
    },
    {
     "name": "stdout",
     "output_type": "stream",
     "text": [
      "{'BATCH_SIZE': 512, 'EPOCHS': 20, 'OPTIMIZER': <class 'torch.optim.adam.Adam'>, 'LEARNING_RATE': 0.0005, 'LOSS': CrossEntropyLoss(), 'EARLY_STOPPING': True, 'PATIENCE': 2, 'MIN_DELTA': 0.001, 'MAXPOOL': 2, 'FC_SIZES': array([512]), 'DROPOUT': 0.5, 'HIDDEN_SIZES': array([ 64, 128, 256]), 'KERNEL_SIZES': array([7, 5, 3])}\n"
     ]
    },
    {
     "name": "stderr",
     "output_type": "stream",
     "text": [
      "100%|██████████| 28/28 [00:07<00:00,  3.90it/s]\n",
      "100%|██████████| 4/4 [00:00<00:00,  9.99it/s]\n",
      "  0%|          | 0/28 [00:00<?, ?it/s]"
     ]
    },
    {
     "name": "stdout",
     "output_type": "stream",
     "text": [
      "Epoch: 0, train_loss: 0.6273319125175476, valid_loss: 0.5905929803848267\n"
     ]
    },
    {
     "name": "stderr",
     "output_type": "stream",
     "text": [
      "100%|██████████| 28/28 [00:07<00:00,  3.86it/s]\n",
      "100%|██████████| 4/4 [00:00<00:00,  9.71it/s]\n",
      "  0%|          | 0/28 [00:00<?, ?it/s]"
     ]
    },
    {
     "name": "stdout",
     "output_type": "stream",
     "text": [
      "Epoch: 1, train_loss: 0.5574218034744263, valid_loss: 0.5763092041015625\n"
     ]
    },
    {
     "name": "stderr",
     "output_type": "stream",
     "text": [
      "100%|██████████| 28/28 [00:07<00:00,  3.90it/s]\n",
      "100%|██████████| 4/4 [00:00<00:00, 10.29it/s]\n",
      "  0%|          | 0/28 [00:00<?, ?it/s]"
     ]
    },
    {
     "name": "stdout",
     "output_type": "stream",
     "text": [
      "Epoch: 2, train_loss: 0.5535494089126587, valid_loss: 0.5695656538009644\n"
     ]
    },
    {
     "name": "stderr",
     "output_type": "stream",
     "text": [
      "100%|██████████| 28/28 [00:07<00:00,  3.87it/s]\n",
      "100%|██████████| 4/4 [00:00<00:00, 10.27it/s]\n",
      "  0%|          | 0/28 [00:00<?, ?it/s]"
     ]
    },
    {
     "name": "stdout",
     "output_type": "stream",
     "text": [
      "Epoch: 3, train_loss: 0.5441517233848572, valid_loss: 0.5683435201644897\n"
     ]
    },
    {
     "name": "stderr",
     "output_type": "stream",
     "text": [
      "100%|██████████| 28/28 [00:07<00:00,  3.88it/s]\n",
      "100%|██████████| 4/4 [00:00<00:00,  9.75it/s]\n",
      "  0%|          | 0/28 [00:00<?, ?it/s]"
     ]
    },
    {
     "name": "stdout",
     "output_type": "stream",
     "text": [
      "val loss increased, patience count:  1\n",
      "Epoch: 4, train_loss: 0.5415783524513245, valid_loss: 0.5703243613243103\n"
     ]
    },
    {
     "name": "stderr",
     "output_type": "stream",
     "text": [
      "100%|██████████| 28/28 [00:07<00:00,  3.85it/s]\n",
      "100%|██████████| 4/4 [00:00<00:00, 10.02it/s]\n",
      "  0%|          | 0/28 [00:00<?, ?it/s]"
     ]
    },
    {
     "name": "stdout",
     "output_type": "stream",
     "text": [
      "Epoch: 5, train_loss: 0.5273857116699219, valid_loss: 0.5593402981758118\n"
     ]
    },
    {
     "name": "stderr",
     "output_type": "stream",
     "text": [
      "100%|██████████| 28/28 [00:07<00:00,  3.91it/s]\n",
      "100%|██████████| 4/4 [00:00<00:00, 10.00it/s]\n",
      "  0%|          | 0/28 [00:00<?, ?it/s]"
     ]
    },
    {
     "name": "stdout",
     "output_type": "stream",
     "text": [
      "Epoch: 6, train_loss: 0.5174931287765503, valid_loss: 0.5575129389762878\n"
     ]
    },
    {
     "name": "stderr",
     "output_type": "stream",
     "text": [
      "100%|██████████| 28/28 [00:07<00:00,  3.93it/s]\n",
      "100%|██████████| 4/4 [00:00<00:00, 10.20it/s]\n",
      "  0%|          | 0/28 [00:00<?, ?it/s]"
     ]
    },
    {
     "name": "stdout",
     "output_type": "stream",
     "text": [
      "val loss increased, patience count:  1\n",
      "Epoch: 7, train_loss: 0.5305524468421936, valid_loss: 0.5684138536453247\n"
     ]
    },
    {
     "name": "stderr",
     "output_type": "stream",
     "text": [
      "100%|██████████| 28/28 [00:07<00:00,  3.83it/s]\n",
      "100%|██████████| 4/4 [00:00<00:00, 10.77it/s]\n",
      "  0%|          | 0/28 [00:00<?, ?it/s]"
     ]
    },
    {
     "name": "stdout",
     "output_type": "stream",
     "text": [
      "val loss increased, patience count:  2\n",
      "Epoch: 8, train_loss: 0.5150608420372009, valid_loss: 0.5619986057281494\n"
     ]
    },
    {
     "name": "stderr",
     "output_type": "stream",
     "text": [
      "100%|██████████| 28/28 [00:07<00:00,  3.90it/s]\n",
      "100%|██████████| 4/4 [00:00<00:00, 10.30it/s]\n",
      "  0%|          | 0/28 [00:00<?, ?it/s]"
     ]
    },
    {
     "name": "stdout",
     "output_type": "stream",
     "text": [
      "Epoch: 9, train_loss: 0.5048492550849915, valid_loss: 0.5501246452331543\n"
     ]
    },
    {
     "name": "stderr",
     "output_type": "stream",
     "text": [
      "100%|██████████| 28/28 [00:07<00:00,  3.91it/s]\n",
      "100%|██████████| 4/4 [00:00<00:00, 10.46it/s]\n",
      "  0%|          | 0/28 [00:00<?, ?it/s]"
     ]
    },
    {
     "name": "stdout",
     "output_type": "stream",
     "text": [
      "val loss increased, patience count:  1\n",
      "Epoch: 10, train_loss: 0.49918338656425476, valid_loss: 0.5568063259124756\n"
     ]
    },
    {
     "name": "stderr",
     "output_type": "stream",
     "text": [
      "100%|██████████| 28/28 [00:07<00:00,  3.90it/s]\n",
      "100%|██████████| 4/4 [00:00<00:00,  9.67it/s]\n",
      "  0%|          | 0/28 [00:00<?, ?it/s]"
     ]
    },
    {
     "name": "stdout",
     "output_type": "stream",
     "text": [
      "val loss increased, patience count:  2\n",
      "Epoch: 11, train_loss: 0.4925774931907654, valid_loss: 0.553634762763977\n"
     ]
    },
    {
     "name": "stderr",
     "output_type": "stream",
     "text": [
      "100%|██████████| 28/28 [00:07<00:00,  3.84it/s]\n",
      "100%|██████████| 4/4 [00:00<00:00,  9.76it/s]\n"
     ]
    },
    {
     "name": "stdout",
     "output_type": "stream",
     "text": [
      "Early stopped at Epoch:  12\n"
     ]
    },
    {
     "name": "stderr",
     "output_type": "stream",
     "text": [
      "\r",
      "  0%|          | 0/28 [00:00<?, ?it/s]"
     ]
    },
    {
     "name": "stdout",
     "output_type": "stream",
     "text": [
      "{'BATCH_SIZE': 512, 'EPOCHS': 20, 'OPTIMIZER': <class 'torch.optim.adam.Adam'>, 'LEARNING_RATE': 1e-05, 'LOSS': CrossEntropyLoss(), 'EARLY_STOPPING': True, 'PATIENCE': 3, 'MIN_DELTA': 0.005, 'MAXPOOL': 2, 'FC_SIZES': array([64]), 'DROPOUT': 0.3, 'HIDDEN_SIZES': array([128, 256]), 'KERNEL_SIZES': array([5, 3])}\n"
     ]
    },
    {
     "name": "stderr",
     "output_type": "stream",
     "text": [
      "100%|██████████| 28/28 [00:07<00:00,  3.81it/s]\n",
      "100%|██████████| 4/4 [00:00<00:00,  9.56it/s]\n",
      "  0%|          | 0/28 [00:00<?, ?it/s]"
     ]
    },
    {
     "name": "stdout",
     "output_type": "stream",
     "text": [
      "Epoch: 0, train_loss: 0.6923707127571106, valid_loss: 0.6916111707687378\n"
     ]
    },
    {
     "name": "stderr",
     "output_type": "stream",
     "text": [
      "100%|██████████| 28/28 [00:07<00:00,  3.83it/s]\n",
      "100%|██████████| 4/4 [00:00<00:00,  9.73it/s]\n",
      "  0%|          | 0/28 [00:00<?, ?it/s]"
     ]
    },
    {
     "name": "stdout",
     "output_type": "stream",
     "text": [
      "Epoch: 1, train_loss: 0.690689206123352, valid_loss: 0.6900357007980347\n"
     ]
    },
    {
     "name": "stderr",
     "output_type": "stream",
     "text": [
      "100%|██████████| 28/28 [00:07<00:00,  3.87it/s]\n",
      "100%|██████████| 4/4 [00:00<00:00,  9.18it/s]\n",
      "  0%|          | 0/28 [00:00<?, ?it/s]"
     ]
    },
    {
     "name": "stdout",
     "output_type": "stream",
     "text": [
      "Epoch: 2, train_loss: 0.6885905861854553, valid_loss: 0.6879950165748596\n"
     ]
    },
    {
     "name": "stderr",
     "output_type": "stream",
     "text": [
      "100%|██████████| 28/28 [00:07<00:00,  3.80it/s]\n",
      "100%|██████████| 4/4 [00:00<00:00,  9.77it/s]\n",
      "  0%|          | 0/28 [00:00<?, ?it/s]"
     ]
    },
    {
     "name": "stdout",
     "output_type": "stream",
     "text": [
      "Epoch: 3, train_loss: 0.6856707334518433, valid_loss: 0.6850800514221191\n"
     ]
    },
    {
     "name": "stderr",
     "output_type": "stream",
     "text": [
      "100%|██████████| 28/28 [00:07<00:00,  3.84it/s]\n",
      "100%|██████████| 4/4 [00:00<00:00, 10.11it/s]\n",
      "  0%|          | 0/28 [00:00<?, ?it/s]"
     ]
    },
    {
     "name": "stdout",
     "output_type": "stream",
     "text": [
      "Epoch: 4, train_loss: 0.6820258498191833, valid_loss: 0.6812692284584045\n"
     ]
    },
    {
     "name": "stderr",
     "output_type": "stream",
     "text": [
      "100%|██████████| 28/28 [00:07<00:00,  3.80it/s]\n",
      "100%|██████████| 4/4 [00:00<00:00,  9.34it/s]\n",
      "  0%|          | 0/28 [00:00<?, ?it/s]"
     ]
    },
    {
     "name": "stdout",
     "output_type": "stream",
     "text": [
      "Epoch: 5, train_loss: 0.6764710545539856, valid_loss: 0.6760203242301941\n"
     ]
    },
    {
     "name": "stderr",
     "output_type": "stream",
     "text": [
      "100%|██████████| 28/28 [00:07<00:00,  3.79it/s]\n",
      "100%|██████████| 4/4 [00:00<00:00,  9.68it/s]\n",
      "  0%|          | 0/28 [00:00<?, ?it/s]"
     ]
    },
    {
     "name": "stdout",
     "output_type": "stream",
     "text": [
      "Epoch: 6, train_loss: 0.6697389483451843, valid_loss: 0.669216513633728\n"
     ]
    },
    {
     "name": "stderr",
     "output_type": "stream",
     "text": [
      "100%|██████████| 28/28 [00:07<00:00,  3.74it/s]\n",
      "100%|██████████| 4/4 [00:00<00:00,  9.11it/s]\n",
      "  0%|          | 0/28 [00:00<?, ?it/s]"
     ]
    },
    {
     "name": "stdout",
     "output_type": "stream",
     "text": [
      "Epoch: 7, train_loss: 0.661164402961731, valid_loss: 0.6605179309844971\n"
     ]
    },
    {
     "name": "stderr",
     "output_type": "stream",
     "text": [
      "100%|██████████| 28/28 [00:07<00:00,  3.78it/s]\n",
      "100%|██████████| 4/4 [00:00<00:00,  9.33it/s]\n",
      "  0%|          | 0/28 [00:00<?, ?it/s]"
     ]
    },
    {
     "name": "stdout",
     "output_type": "stream",
     "text": [
      "Epoch: 8, train_loss: 0.651374340057373, valid_loss: 0.6524564027786255\n"
     ]
    },
    {
     "name": "stderr",
     "output_type": "stream",
     "text": [
      "100%|██████████| 28/28 [00:07<00:00,  3.83it/s]\n",
      "100%|██████████| 4/4 [00:00<00:00,  9.09it/s]\n",
      "  0%|          | 0/28 [00:00<?, ?it/s]"
     ]
    },
    {
     "name": "stdout",
     "output_type": "stream",
     "text": [
      "Epoch: 9, train_loss: 0.6415315866470337, valid_loss: 0.6438336968421936\n"
     ]
    },
    {
     "name": "stderr",
     "output_type": "stream",
     "text": [
      "100%|██████████| 28/28 [00:07<00:00,  3.84it/s]\n",
      "100%|██████████| 4/4 [00:00<00:00,  9.36it/s]\n",
      "  0%|          | 0/28 [00:00<?, ?it/s]"
     ]
    },
    {
     "name": "stdout",
     "output_type": "stream",
     "text": [
      "Epoch: 10, train_loss: 0.6310116052627563, valid_loss: 0.6382092237472534\n"
     ]
    },
    {
     "name": "stderr",
     "output_type": "stream",
     "text": [
      "100%|██████████| 28/28 [00:07<00:00,  3.78it/s]\n",
      "100%|██████████| 4/4 [00:00<00:00,  9.81it/s]\n",
      "  0%|          | 0/28 [00:00<?, ?it/s]"
     ]
    },
    {
     "name": "stdout",
     "output_type": "stream",
     "text": [
      "Epoch: 11, train_loss: 0.6226420998573303, valid_loss: 0.6299029588699341\n"
     ]
    },
    {
     "name": "stderr",
     "output_type": "stream",
     "text": [
      "100%|██████████| 28/28 [00:07<00:00,  3.81it/s]\n",
      "100%|██████████| 4/4 [00:00<00:00,  8.69it/s]\n",
      "  0%|          | 0/28 [00:00<?, ?it/s]"
     ]
    },
    {
     "name": "stdout",
     "output_type": "stream",
     "text": [
      "Epoch: 12, train_loss: 0.6139600872993469, valid_loss: 0.6213704943656921\n"
     ]
    },
    {
     "name": "stderr",
     "output_type": "stream",
     "text": [
      "100%|██████████| 28/28 [00:07<00:00,  3.83it/s]\n",
      "100%|██████████| 4/4 [00:00<00:00,  9.69it/s]\n",
      "  0%|          | 0/28 [00:00<?, ?it/s]"
     ]
    },
    {
     "name": "stdout",
     "output_type": "stream",
     "text": [
      "Epoch: 13, train_loss: 0.6060380339622498, valid_loss: 0.6171441078186035\n"
     ]
    },
    {
     "name": "stderr",
     "output_type": "stream",
     "text": [
      "100%|██████████| 28/28 [00:07<00:00,  3.77it/s]\n",
      "100%|██████████| 4/4 [00:00<00:00,  9.50it/s]\n",
      "  0%|          | 0/28 [00:00<?, ?it/s]"
     ]
    },
    {
     "name": "stdout",
     "output_type": "stream",
     "text": [
      "Epoch: 14, train_loss: 0.5992419123649597, valid_loss: 0.6148853302001953\n"
     ]
    },
    {
     "name": "stderr",
     "output_type": "stream",
     "text": [
      "100%|██████████| 28/28 [00:07<00:00,  3.74it/s]\n",
      "100%|██████████| 4/4 [00:00<00:00,  9.84it/s]\n",
      "  0%|          | 0/28 [00:00<?, ?it/s]"
     ]
    },
    {
     "name": "stdout",
     "output_type": "stream",
     "text": [
      "Epoch: 15, train_loss: 0.5946350693702698, valid_loss: 0.6122345328330994\n"
     ]
    },
    {
     "name": "stderr",
     "output_type": "stream",
     "text": [
      "100%|██████████| 28/28 [00:07<00:00,  3.81it/s]\n",
      "100%|██████████| 4/4 [00:00<00:00,  9.77it/s]\n",
      "  0%|          | 0/28 [00:00<?, ?it/s]"
     ]
    },
    {
     "name": "stdout",
     "output_type": "stream",
     "text": [
      "Epoch: 16, train_loss: 0.5897841453552246, valid_loss: 0.6069772243499756\n"
     ]
    },
    {
     "name": "stderr",
     "output_type": "stream",
     "text": [
      "100%|██████████| 28/28 [00:07<00:00,  3.83it/s]\n",
      "100%|██████████| 4/4 [00:00<00:00,  9.73it/s]\n",
      "  0%|          | 0/28 [00:00<?, ?it/s]"
     ]
    },
    {
     "name": "stdout",
     "output_type": "stream",
     "text": [
      "Epoch: 17, train_loss: 0.5861492156982422, valid_loss: 0.604459285736084\n"
     ]
    },
    {
     "name": "stderr",
     "output_type": "stream",
     "text": [
      "100%|██████████| 28/28 [00:07<00:00,  3.82it/s]\n",
      "100%|██████████| 4/4 [00:00<00:00,  9.26it/s]\n",
      "  0%|          | 0/28 [00:00<?, ?it/s]"
     ]
    },
    {
     "name": "stdout",
     "output_type": "stream",
     "text": [
      "Epoch: 18, train_loss: 0.5821521878242493, valid_loss: 0.6027402281761169\n"
     ]
    },
    {
     "name": "stderr",
     "output_type": "stream",
     "text": [
      "100%|██████████| 28/28 [00:07<00:00,  3.83it/s]\n",
      "100%|██████████| 4/4 [00:00<00:00,  9.42it/s]\n"
     ]
    },
    {
     "name": "stdout",
     "output_type": "stream",
     "text": [
      "Epoch: 19, train_loss: 0.5799939036369324, valid_loss: 0.5943643450737\n"
     ]
    },
    {
     "name": "stderr",
     "output_type": "stream",
     "text": [
      "\r",
      "  0%|          | 0/115 [00:00<?, ?it/s]"
     ]
    },
    {
     "name": "stdout",
     "output_type": "stream",
     "text": [
      "{'BATCH_SIZE': 128, 'EPOCHS': 40, 'OPTIMIZER': <class 'torch.optim.adam.Adam'>, 'LEARNING_RATE': 1e-05, 'LOSS': CrossEntropyLoss(), 'EARLY_STOPPING': True, 'PATIENCE': 3, 'MIN_DELTA': 5e-05, 'MAXPOOL': 2, 'FC_SIZES': array([512]), 'DROPOUT': 0.7, 'HIDDEN_SIZES': array([128, 256]), 'KERNEL_SIZES': array([5, 3])}\n"
     ]
    },
    {
     "name": "stderr",
     "output_type": "stream",
     "text": [
      "100%|██████████| 115/115 [00:12<00:00,  9.49it/s]\n",
      "100%|██████████| 16/16 [00:00<00:00, 27.00it/s]\n",
      "  2%|▏         | 2/115 [00:00<00:11, 10.22it/s]"
     ]
    },
    {
     "name": "stdout",
     "output_type": "stream",
     "text": [
      "Epoch: 0, train_loss: 0.6911599040031433, valid_loss: 0.6880042552947998\n"
     ]
    },
    {
     "name": "stderr",
     "output_type": "stream",
     "text": [
      "100%|██████████| 115/115 [00:12<00:00,  9.58it/s]\n",
      "100%|██████████| 16/16 [00:00<00:00, 28.85it/s]\n",
      "  0%|          | 0/115 [00:00<?, ?it/s]"
     ]
    },
    {
     "name": "stdout",
     "output_type": "stream",
     "text": [
      "Epoch: 1, train_loss: 0.6822884678840637, valid_loss: 0.6757240891456604\n"
     ]
    },
    {
     "name": "stderr",
     "output_type": "stream",
     "text": [
      "100%|██████████| 115/115 [00:12<00:00,  9.51it/s]\n",
      "100%|██████████| 16/16 [00:00<00:00, 28.99it/s]\n",
      "  2%|▏         | 2/115 [00:00<00:11, 10.21it/s]"
     ]
    },
    {
     "name": "stdout",
     "output_type": "stream",
     "text": [
      "Epoch: 2, train_loss: 0.6619526147842407, valid_loss: 0.6500818729400635\n"
     ]
    },
    {
     "name": "stderr",
     "output_type": "stream",
     "text": [
      "100%|██████████| 115/115 [00:11<00:00,  9.72it/s]\n",
      "100%|██████████| 16/16 [00:00<00:00, 26.61it/s]\n",
      "  2%|▏         | 2/115 [00:00<00:10, 10.90it/s]"
     ]
    },
    {
     "name": "stdout",
     "output_type": "stream",
     "text": [
      "Epoch: 3, train_loss: 0.6292961835861206, valid_loss: 0.6220775842666626\n"
     ]
    },
    {
     "name": "stderr",
     "output_type": "stream",
     "text": [
      "100%|██████████| 115/115 [00:11<00:00,  9.86it/s]\n",
      "100%|██████████| 16/16 [00:00<00:00, 29.09it/s]\n",
      "  1%|          | 1/115 [00:00<00:11,  9.86it/s]"
     ]
    },
    {
     "name": "stdout",
     "output_type": "stream",
     "text": [
      "Epoch: 4, train_loss: 0.6026695370674133, valid_loss: 0.609563946723938\n"
     ]
    },
    {
     "name": "stderr",
     "output_type": "stream",
     "text": [
      "100%|██████████| 115/115 [00:12<00:00,  9.51it/s]\n",
      "100%|██████████| 16/16 [00:00<00:00, 29.23it/s]\n",
      "  1%|          | 1/115 [00:00<00:11,  9.75it/s]"
     ]
    },
    {
     "name": "stdout",
     "output_type": "stream",
     "text": [
      "Epoch: 5, train_loss: 0.5893564820289612, valid_loss: 0.5991262793540955\n"
     ]
    },
    {
     "name": "stderr",
     "output_type": "stream",
     "text": [
      "100%|██████████| 115/115 [00:11<00:00,  9.60it/s]\n",
      "100%|██████████| 16/16 [00:00<00:00, 28.17it/s]\n",
      "  1%|          | 1/115 [00:00<00:11,  9.81it/s]"
     ]
    },
    {
     "name": "stdout",
     "output_type": "stream",
     "text": [
      "Epoch: 6, train_loss: 0.5811754465103149, valid_loss: 0.5969673991203308\n"
     ]
    },
    {
     "name": "stderr",
     "output_type": "stream",
     "text": [
      "100%|██████████| 115/115 [00:11<00:00,  9.69it/s]\n",
      "100%|██████████| 16/16 [00:00<00:00, 28.61it/s]\n",
      "  2%|▏         | 2/115 [00:00<00:10, 10.38it/s]"
     ]
    },
    {
     "name": "stdout",
     "output_type": "stream",
     "text": [
      "Epoch: 7, train_loss: 0.5760282278060913, valid_loss: 0.5951570272445679\n"
     ]
    },
    {
     "name": "stderr",
     "output_type": "stream",
     "text": [
      "100%|██████████| 115/115 [00:11<00:00,  9.81it/s]\n",
      "100%|██████████| 16/16 [00:00<00:00, 29.19it/s]\n",
      "  1%|          | 1/115 [00:00<00:11,  9.95it/s]"
     ]
    },
    {
     "name": "stdout",
     "output_type": "stream",
     "text": [
      "Epoch: 8, train_loss: 0.5716977715492249, valid_loss: 0.5905517935752869\n"
     ]
    },
    {
     "name": "stderr",
     "output_type": "stream",
     "text": [
      "100%|██████████| 115/115 [00:11<00:00,  9.64it/s]\n",
      "100%|██████████| 16/16 [00:00<00:00, 28.94it/s]\n",
      "  1%|          | 1/115 [00:00<00:11,  9.91it/s]"
     ]
    },
    {
     "name": "stdout",
     "output_type": "stream",
     "text": [
      "Epoch: 9, train_loss: 0.5680925846099854, valid_loss: 0.5879434943199158\n"
     ]
    },
    {
     "name": "stderr",
     "output_type": "stream",
     "text": [
      "100%|██████████| 115/115 [00:12<00:00,  9.43it/s]\n",
      "100%|██████████| 16/16 [00:00<00:00, 26.65it/s]\n",
      "  1%|          | 1/115 [00:00<00:12,  9.47it/s]"
     ]
    },
    {
     "name": "stdout",
     "output_type": "stream",
     "text": [
      "Epoch: 10, train_loss: 0.5666648745536804, valid_loss: 0.5860412120819092\n"
     ]
    },
    {
     "name": "stderr",
     "output_type": "stream",
     "text": [
      "100%|██████████| 115/115 [00:14<00:00,  8.06it/s]\n",
      "100%|██████████| 16/16 [00:00<00:00, 21.81it/s]\n",
      "  1%|          | 1/115 [00:00<00:14,  8.02it/s]"
     ]
    },
    {
     "name": "stdout",
     "output_type": "stream",
     "text": [
      "Epoch: 11, train_loss: 0.5648865699768066, valid_loss: 0.5846154689788818\n"
     ]
    },
    {
     "name": "stderr",
     "output_type": "stream",
     "text": [
      "100%|██████████| 115/115 [00:12<00:00,  8.93it/s]\n",
      "100%|██████████| 16/16 [00:00<00:00, 27.46it/s]\n",
      "  1%|          | 1/115 [00:00<00:12,  8.90it/s]"
     ]
    },
    {
     "name": "stdout",
     "output_type": "stream",
     "text": [
      "Epoch: 12, train_loss: 0.5629425644874573, valid_loss: 0.5819336175918579\n"
     ]
    },
    {
     "name": "stderr",
     "output_type": "stream",
     "text": [
      "100%|██████████| 115/115 [00:12<00:00,  9.05it/s]\n",
      "100%|██████████| 16/16 [00:00<00:00, 26.87it/s]\n",
      "  1%|          | 1/115 [00:00<00:12,  9.49it/s]"
     ]
    },
    {
     "name": "stdout",
     "output_type": "stream",
     "text": [
      "Epoch: 13, train_loss: 0.5599164366722107, valid_loss: 0.5819008350372314\n"
     ]
    },
    {
     "name": "stderr",
     "output_type": "stream",
     "text": [
      "100%|██████████| 115/115 [00:12<00:00,  9.40it/s]\n",
      "100%|██████████| 16/16 [00:00<00:00, 27.20it/s]\n",
      "  1%|          | 1/115 [00:00<00:12,  9.01it/s]"
     ]
    },
    {
     "name": "stdout",
     "output_type": "stream",
     "text": [
      "Epoch: 14, train_loss: 0.5584900379180908, valid_loss: 0.5751476287841797\n"
     ]
    },
    {
     "name": "stderr",
     "output_type": "stream",
     "text": [
      "100%|██████████| 115/115 [00:13<00:00,  8.45it/s]\n",
      "100%|██████████| 16/16 [00:00<00:00, 28.61it/s]\n",
      "  2%|▏         | 2/115 [00:00<00:10, 10.42it/s]"
     ]
    },
    {
     "name": "stdout",
     "output_type": "stream",
     "text": [
      "val loss increased, patience count:  1\n",
      "Epoch: 15, train_loss: 0.558087170124054, valid_loss: 0.5792409181594849\n"
     ]
    },
    {
     "name": "stderr",
     "output_type": "stream",
     "text": [
      "100%|██████████| 115/115 [00:13<00:00,  8.65it/s]\n",
      "100%|██████████| 16/16 [00:00<00:00, 28.10it/s]\n",
      "  0%|          | 0/115 [00:00<?, ?it/s]"
     ]
    },
    {
     "name": "stdout",
     "output_type": "stream",
     "text": [
      "val loss increased, patience count:  2\n",
      "Epoch: 16, train_loss: 0.5561894774436951, valid_loss: 0.5770394206047058\n"
     ]
    },
    {
     "name": "stderr",
     "output_type": "stream",
     "text": [
      "100%|██████████| 115/115 [00:11<00:00,  9.73it/s]\n",
      "100%|██████████| 16/16 [00:00<00:00, 29.53it/s]\n",
      "  1%|          | 1/115 [00:00<00:12,  9.35it/s]"
     ]
    },
    {
     "name": "stdout",
     "output_type": "stream",
     "text": [
      "val loss increased, patience count:  3\n",
      "Epoch: 17, train_loss: 0.5533244609832764, valid_loss: 0.5756740570068359\n"
     ]
    },
    {
     "name": "stderr",
     "output_type": "stream",
     "text": [
      "100%|██████████| 115/115 [00:11<00:00,  9.65it/s]\n",
      "100%|██████████| 16/16 [00:00<00:00, 29.36it/s]\n",
      "  1%|          | 1/115 [00:00<00:11,  9.89it/s]"
     ]
    },
    {
     "name": "stdout",
     "output_type": "stream",
     "text": [
      "Epoch: 18, train_loss: 0.5524826645851135, valid_loss: 0.5743253231048584\n"
     ]
    },
    {
     "name": "stderr",
     "output_type": "stream",
     "text": [
      "100%|██████████| 115/115 [00:12<00:00,  9.55it/s]\n",
      "100%|██████████| 16/16 [00:00<00:00, 27.81it/s]\n",
      "  2%|▏         | 2/115 [00:00<00:10, 10.34it/s]"
     ]
    },
    {
     "name": "stdout",
     "output_type": "stream",
     "text": [
      "val loss increased, patience count:  1\n",
      "Epoch: 19, train_loss: 0.551611602306366, valid_loss: 0.5747925043106079\n"
     ]
    },
    {
     "name": "stderr",
     "output_type": "stream",
     "text": [
      "100%|██████████| 115/115 [00:12<00:00,  9.46it/s]\n",
      "100%|██████████| 16/16 [00:00<00:00, 27.50it/s]\n",
      "  1%|          | 1/115 [00:00<00:11,  9.99it/s]"
     ]
    },
    {
     "name": "stdout",
     "output_type": "stream",
     "text": [
      "val loss increased, patience count:  2\n",
      "Epoch: 20, train_loss: 0.5507833361625671, valid_loss: 0.5756779313087463\n"
     ]
    },
    {
     "name": "stderr",
     "output_type": "stream",
     "text": [
      "100%|██████████| 115/115 [00:11<00:00,  9.65it/s]\n",
      "100%|██████████| 16/16 [00:00<00:00, 28.46it/s]\n",
      "  2%|▏         | 2/115 [00:00<00:10, 10.54it/s]"
     ]
    },
    {
     "name": "stdout",
     "output_type": "stream",
     "text": [
      "Epoch: 21, train_loss: 0.5495063662528992, valid_loss: 0.5695115327835083\n"
     ]
    },
    {
     "name": "stderr",
     "output_type": "stream",
     "text": [
      "100%|██████████| 115/115 [00:11<00:00,  9.76it/s]\n",
      "100%|██████████| 16/16 [00:00<00:00, 28.83it/s]\n",
      "  2%|▏         | 2/115 [00:00<00:10, 10.55it/s]"
     ]
    },
    {
     "name": "stdout",
     "output_type": "stream",
     "text": [
      "val loss increased, patience count:  1\n",
      "Epoch: 22, train_loss: 0.5469505190849304, valid_loss: 0.572942316532135\n"
     ]
    },
    {
     "name": "stderr",
     "output_type": "stream",
     "text": [
      "100%|██████████| 115/115 [00:11<00:00,  9.67it/s]\n",
      "100%|██████████| 16/16 [00:00<00:00, 30.09it/s]\n",
      "  1%|          | 1/115 [00:00<00:14,  7.81it/s]"
     ]
    },
    {
     "name": "stdout",
     "output_type": "stream",
     "text": [
      "val loss increased, patience count:  2\n",
      "Epoch: 23, train_loss: 0.5467936992645264, valid_loss: 0.5697328448295593\n"
     ]
    },
    {
     "name": "stderr",
     "output_type": "stream",
     "text": [
      "100%|██████████| 115/115 [00:11<00:00,  9.62it/s]\n",
      "100%|██████████| 16/16 [00:00<00:00, 29.42it/s]\n",
      "  2%|▏         | 2/115 [00:00<00:10, 10.52it/s]"
     ]
    },
    {
     "name": "stdout",
     "output_type": "stream",
     "text": [
      "val loss increased, patience count:  3\n",
      "Epoch: 24, train_loss: 0.5471658706665039, valid_loss: 0.5769187808036804\n"
     ]
    },
    {
     "name": "stderr",
     "output_type": "stream",
     "text": [
      "100%|██████████| 115/115 [00:12<00:00,  9.56it/s]\n",
      "100%|██████████| 16/16 [00:00<00:00, 29.01it/s]\n"
     ]
    },
    {
     "name": "stdout",
     "output_type": "stream",
     "text": [
      "Early stopped at Epoch:  25\n"
     ]
    },
    {
     "name": "stderr",
     "output_type": "stream",
     "text": [
      "  4%|▎         | 2/57 [00:00<00:04, 11.71it/s]"
     ]
    },
    {
     "name": "stdout",
     "output_type": "stream",
     "text": [
      "{'BATCH_SIZE': 256, 'EPOCHS': 50, 'OPTIMIZER': <class 'torch.optim.adam.Adam'>, 'LEARNING_RATE': 0.0005, 'LOSS': CrossEntropyLoss(), 'EARLY_STOPPING': True, 'PATIENCE': 2, 'MIN_DELTA': 0.001, 'MAXPOOL': 2, 'FC_SIZES': array([512]), 'DROPOUT': 0.7, 'HIDDEN_SIZES': array([ 64, 128]), 'KERNEL_SIZES': array([5, 5])}\n"
     ]
    },
    {
     "name": "stderr",
     "output_type": "stream",
     "text": [
      "100%|██████████| 57/57 [00:05<00:00, 10.65it/s]\n",
      "100%|██████████| 8/8 [00:00<00:00, 26.66it/s]\n",
      "  4%|▎         | 2/57 [00:00<00:05, 10.71it/s]"
     ]
    },
    {
     "name": "stdout",
     "output_type": "stream",
     "text": [
      "Epoch: 0, train_loss: 0.60721755027771, valid_loss: 0.5779350996017456\n"
     ]
    },
    {
     "name": "stderr",
     "output_type": "stream",
     "text": [
      "100%|██████████| 57/57 [00:05<00:00, 10.67it/s]\n",
      "100%|██████████| 8/8 [00:00<00:00, 27.19it/s]\n",
      "  4%|▎         | 2/57 [00:00<00:05, 10.74it/s]"
     ]
    },
    {
     "name": "stdout",
     "output_type": "stream",
     "text": [
      "Epoch: 1, train_loss: 0.5567765235900879, valid_loss: 0.5688144564628601\n"
     ]
    },
    {
     "name": "stderr",
     "output_type": "stream",
     "text": [
      "100%|██████████| 57/57 [00:05<00:00, 10.74it/s]\n",
      "100%|██████████| 8/8 [00:00<00:00, 27.20it/s]\n",
      "  4%|▎         | 2/57 [00:00<00:04, 11.32it/s]"
     ]
    },
    {
     "name": "stdout",
     "output_type": "stream",
     "text": [
      "val loss increased, patience count:  1\n",
      "Epoch: 2, train_loss: 0.5554372072219849, valid_loss: 0.5747603178024292\n"
     ]
    },
    {
     "name": "stderr",
     "output_type": "stream",
     "text": [
      "100%|██████████| 57/57 [00:05<00:00, 10.82it/s]\n",
      "100%|██████████| 8/8 [00:00<00:00, 26.27it/s]\n",
      "  4%|▎         | 2/57 [00:00<00:05, 10.67it/s]"
     ]
    },
    {
     "name": "stdout",
     "output_type": "stream",
     "text": [
      "Epoch: 3, train_loss: 0.5435249209403992, valid_loss: 0.5672961473464966\n"
     ]
    },
    {
     "name": "stderr",
     "output_type": "stream",
     "text": [
      "100%|██████████| 57/57 [00:05<00:00, 10.85it/s]\n",
      "100%|██████████| 8/8 [00:00<00:00, 26.94it/s]\n",
      "  4%|▎         | 2/57 [00:00<00:05, 10.78it/s]"
     ]
    },
    {
     "name": "stdout",
     "output_type": "stream",
     "text": [
      "Epoch: 4, train_loss: 0.5377362966537476, valid_loss: 0.5613160133361816\n"
     ]
    },
    {
     "name": "stderr",
     "output_type": "stream",
     "text": [
      "100%|██████████| 57/57 [00:05<00:00, 10.80it/s]\n",
      "100%|██████████| 8/8 [00:00<00:00, 26.41it/s]\n",
      "  4%|▎         | 2/57 [00:00<00:04, 11.25it/s]"
     ]
    },
    {
     "name": "stdout",
     "output_type": "stream",
     "text": [
      "Epoch: 5, train_loss: 0.5298364162445068, valid_loss: 0.5587650537490845\n"
     ]
    },
    {
     "name": "stderr",
     "output_type": "stream",
     "text": [
      "100%|██████████| 57/57 [00:05<00:00, 10.51it/s]\n",
      "100%|██████████| 8/8 [00:00<00:00, 26.64it/s]\n",
      "  4%|▎         | 2/57 [00:00<00:04, 11.11it/s]"
     ]
    },
    {
     "name": "stdout",
     "output_type": "stream",
     "text": [
      "val loss increased, patience count:  1\n",
      "Epoch: 6, train_loss: 0.5244645476341248, valid_loss: 0.5624380111694336\n"
     ]
    },
    {
     "name": "stderr",
     "output_type": "stream",
     "text": [
      "100%|██████████| 57/57 [00:05<00:00, 10.72it/s]\n",
      "100%|██████████| 8/8 [00:00<00:00, 26.03it/s]\n",
      "  4%|▎         | 2/57 [00:00<00:05, 10.90it/s]"
     ]
    },
    {
     "name": "stdout",
     "output_type": "stream",
     "text": [
      "val loss increased, patience count:  2\n",
      "Epoch: 7, train_loss: 0.5258311033248901, valid_loss: 0.5878922939300537\n"
     ]
    },
    {
     "name": "stderr",
     "output_type": "stream",
     "text": [
      "100%|██████████| 57/57 [00:05<00:00, 10.58it/s]\n",
      "100%|██████████| 8/8 [00:00<00:00, 22.37it/s]\n",
      "  4%|▎         | 2/57 [00:00<00:05, 10.57it/s]"
     ]
    },
    {
     "name": "stdout",
     "output_type": "stream",
     "text": [
      "Epoch: 8, train_loss: 0.522143542766571, valid_loss: 0.5474309325218201\n"
     ]
    },
    {
     "name": "stderr",
     "output_type": "stream",
     "text": [
      "100%|██████████| 57/57 [00:05<00:00, 10.56it/s]\n",
      "100%|██████████| 8/8 [00:00<00:00, 27.15it/s]\n",
      "  4%|▎         | 2/57 [00:00<00:04, 11.03it/s]"
     ]
    },
    {
     "name": "stdout",
     "output_type": "stream",
     "text": [
      "val loss increased, patience count:  1\n",
      "Epoch: 9, train_loss: 0.5219632983207703, valid_loss: 0.5637785196304321\n"
     ]
    },
    {
     "name": "stderr",
     "output_type": "stream",
     "text": [
      "100%|██████████| 57/57 [00:05<00:00, 10.59it/s]\n",
      "100%|██████████| 8/8 [00:00<00:00, 24.06it/s]\n",
      "  2%|▏         | 1/57 [00:00<00:05,  9.88it/s]"
     ]
    },
    {
     "name": "stdout",
     "output_type": "stream",
     "text": [
      "val loss increased, patience count:  2\n",
      "Epoch: 10, train_loss: 0.5118241310119629, valid_loss: 0.551048219203949\n"
     ]
    },
    {
     "name": "stderr",
     "output_type": "stream",
     "text": [
      "100%|██████████| 57/57 [00:05<00:00, 10.61it/s]\n",
      "100%|██████████| 8/8 [00:00<00:00, 26.68it/s]\n"
     ]
    },
    {
     "name": "stdout",
     "output_type": "stream",
     "text": [
      "Early stopped at Epoch:  11\n"
     ]
    },
    {
     "name": "stderr",
     "output_type": "stream",
     "text": [
      "  2%|▏         | 1/57 [00:00<00:10,  5.53it/s]"
     ]
    },
    {
     "name": "stdout",
     "output_type": "stream",
     "text": [
      "{'BATCH_SIZE': 256, 'EPOCHS': 20, 'OPTIMIZER': <class 'torch.optim.adam.Adam'>, 'LEARNING_RATE': 5e-05, 'LOSS': CrossEntropyLoss(), 'EARLY_STOPPING': True, 'PATIENCE': 2, 'MIN_DELTA': 0.005, 'MAXPOOL': 2, 'FC_SIZES': array([64]), 'DROPOUT': 0.0, 'HIDDEN_SIZES': array([128, 256]), 'KERNEL_SIZES': array([7, 7])}\n"
     ]
    },
    {
     "name": "stderr",
     "output_type": "stream",
     "text": [
      "100%|██████████| 57/57 [00:11<00:00,  4.91it/s]\n",
      "100%|██████████| 8/8 [00:00<00:00, 14.31it/s]\n",
      "  2%|▏         | 1/57 [00:00<00:10,  5.23it/s]"
     ]
    },
    {
     "name": "stdout",
     "output_type": "stream",
     "text": [
      "Epoch: 0, train_loss: 0.6724882125854492, valid_loss: 0.6441131830215454\n"
     ]
    },
    {
     "name": "stderr",
     "output_type": "stream",
     "text": [
      "100%|██████████| 57/57 [00:11<00:00,  4.88it/s]\n",
      "100%|██████████| 8/8 [00:00<00:00, 13.56it/s]\n",
      "  0%|          | 0/57 [00:00<?, ?it/s]"
     ]
    },
    {
     "name": "stdout",
     "output_type": "stream",
     "text": [
      "Epoch: 1, train_loss: 0.6002981662750244, valid_loss: 0.5983177423477173\n"
     ]
    },
    {
     "name": "stderr",
     "output_type": "stream",
     "text": [
      "100%|██████████| 57/57 [00:11<00:00,  4.89it/s]\n",
      "100%|██████████| 8/8 [00:00<00:00, 13.72it/s]\n",
      "  2%|▏         | 1/57 [00:00<00:10,  5.21it/s]"
     ]
    },
    {
     "name": "stdout",
     "output_type": "stream",
     "text": [
      "Epoch: 2, train_loss: 0.573895275592804, valid_loss: 0.5826361179351807\n"
     ]
    },
    {
     "name": "stderr",
     "output_type": "stream",
     "text": [
      "100%|██████████| 57/57 [00:11<00:00,  4.86it/s]\n",
      "100%|██████████| 8/8 [00:00<00:00, 13.61it/s]\n",
      "  0%|          | 0/57 [00:00<?, ?it/s]"
     ]
    },
    {
     "name": "stdout",
     "output_type": "stream",
     "text": [
      "Epoch: 3, train_loss: 0.5610587000846863, valid_loss: 0.5813902020454407\n"
     ]
    },
    {
     "name": "stderr",
     "output_type": "stream",
     "text": [
      "100%|██████████| 57/57 [00:11<00:00,  4.76it/s]\n",
      "100%|██████████| 8/8 [00:00<00:00, 14.82it/s]\n",
      "  2%|▏         | 1/57 [00:00<00:11,  5.08it/s]"
     ]
    },
    {
     "name": "stdout",
     "output_type": "stream",
     "text": [
      "Epoch: 4, train_loss: 0.5542601943016052, valid_loss: 0.5669395327568054\n"
     ]
    },
    {
     "name": "stderr",
     "output_type": "stream",
     "text": [
      "100%|██████████| 57/57 [00:11<00:00,  4.87it/s]\n",
      "100%|██████████| 8/8 [00:00<00:00, 13.76it/s]\n",
      "  2%|▏         | 1/57 [00:00<00:10,  5.15it/s]"
     ]
    },
    {
     "name": "stdout",
     "output_type": "stream",
     "text": [
      "val loss increased, patience count:  1\n",
      "Epoch: 5, train_loss: 0.5486907362937927, valid_loss: 0.5706354379653931\n"
     ]
    },
    {
     "name": "stderr",
     "output_type": "stream",
     "text": [
      "100%|██████████| 57/57 [00:11<00:00,  4.88it/s]\n",
      "100%|██████████| 8/8 [00:00<00:00, 13.25it/s]\n",
      "  0%|          | 0/57 [00:00<?, ?it/s]"
     ]
    },
    {
     "name": "stdout",
     "output_type": "stream",
     "text": [
      "val loss increased, patience count:  2\n",
      "Epoch: 6, train_loss: 0.5446494817733765, valid_loss: 0.5698556900024414\n"
     ]
    },
    {
     "name": "stderr",
     "output_type": "stream",
     "text": [
      "100%|██████████| 57/57 [00:11<00:00,  4.82it/s]\n",
      "100%|██████████| 8/8 [00:00<00:00, 14.01it/s]\n"
     ]
    },
    {
     "name": "stdout",
     "output_type": "stream",
     "text": [
      "Early stopped at Epoch:  7\n"
     ]
    },
    {
     "name": "stderr",
     "output_type": "stream",
     "text": [
      "  3%|▎         | 3/115 [00:00<00:04, 24.25it/s]"
     ]
    },
    {
     "name": "stdout",
     "output_type": "stream",
     "text": [
      "{'BATCH_SIZE': 128, 'EPOCHS': 50, 'OPTIMIZER': <class 'torch.optim.adam.Adam'>, 'LEARNING_RATE': 0.0005, 'LOSS': CrossEntropyLoss(), 'EARLY_STOPPING': True, 'PATIENCE': 2, 'MIN_DELTA': 0.0005, 'MAXPOOL': 2, 'FC_SIZES': array([256]), 'DROPOUT': 0.7, 'HIDDEN_SIZES': array([ 64, 128]), 'KERNEL_SIZES': array([3, 3])}\n"
     ]
    },
    {
     "name": "stderr",
     "output_type": "stream",
     "text": [
      "100%|██████████| 115/115 [00:05<00:00, 22.59it/s]\n",
      "100%|██████████| 16/16 [00:00<00:00, 57.15it/s]\n",
      "  3%|▎         | 3/115 [00:00<00:04, 24.08it/s]"
     ]
    },
    {
     "name": "stdout",
     "output_type": "stream",
     "text": [
      "Epoch: 0, train_loss: 0.605546772480011, valid_loss: 0.5769239664077759\n"
     ]
    },
    {
     "name": "stderr",
     "output_type": "stream",
     "text": [
      "100%|██████████| 115/115 [00:05<00:00, 21.55it/s]\n",
      "100%|██████████| 16/16 [00:00<00:00, 46.42it/s]\n",
      "  2%|▏         | 2/115 [00:00<00:06, 18.53it/s]"
     ]
    },
    {
     "name": "stdout",
     "output_type": "stream",
     "text": [
      "val loss increased, patience count:  1\n",
      "Epoch: 1, train_loss: 0.5569192171096802, valid_loss: 0.583096981048584\n"
     ]
    },
    {
     "name": "stderr",
     "output_type": "stream",
     "text": [
      "100%|██████████| 115/115 [00:06<00:00, 18.84it/s]\n",
      "100%|██████████| 16/16 [00:00<00:00, 48.01it/s]\n",
      "  3%|▎         | 3/115 [00:00<00:05, 19.62it/s]"
     ]
    },
    {
     "name": "stdout",
     "output_type": "stream",
     "text": [
      "Epoch: 2, train_loss: 0.5442057251930237, valid_loss: 0.5641534328460693\n"
     ]
    },
    {
     "name": "stderr",
     "output_type": "stream",
     "text": [
      "100%|██████████| 115/115 [00:05<00:00, 19.58it/s]\n",
      "100%|██████████| 16/16 [00:00<00:00, 46.03it/s]\n",
      "  2%|▏         | 2/115 [00:00<00:06, 17.96it/s]"
     ]
    },
    {
     "name": "stdout",
     "output_type": "stream",
     "text": [
      "Epoch: 3, train_loss: 0.5445591807365417, valid_loss: 0.5577816367149353\n"
     ]
    },
    {
     "name": "stderr",
     "output_type": "stream",
     "text": [
      "100%|██████████| 115/115 [00:05<00:00, 22.02it/s]\n",
      "100%|██████████| 16/16 [00:00<00:00, 55.94it/s]\n",
      "  3%|▎         | 3/115 [00:00<00:04, 23.52it/s]"
     ]
    },
    {
     "name": "stdout",
     "output_type": "stream",
     "text": [
      "Epoch: 4, train_loss: 0.5348036289215088, valid_loss: 0.5516189336776733\n"
     ]
    },
    {
     "name": "stderr",
     "output_type": "stream",
     "text": [
      "100%|██████████| 115/115 [00:05<00:00, 22.69it/s]\n",
      "100%|██████████| 16/16 [00:00<00:00, 56.15it/s]\n",
      "  3%|▎         | 3/115 [00:00<00:04, 23.91it/s]"
     ]
    },
    {
     "name": "stdout",
     "output_type": "stream",
     "text": [
      "val loss increased, patience count:  1\n",
      "Epoch: 5, train_loss: 0.5289623737335205, valid_loss: 0.5518186688423157\n"
     ]
    },
    {
     "name": "stderr",
     "output_type": "stream",
     "text": [
      "100%|██████████| 115/115 [00:05<00:00, 22.73it/s]\n",
      "100%|██████████| 16/16 [00:00<00:00, 59.76it/s]\n",
      "  3%|▎         | 3/115 [00:00<00:04, 22.56it/s]"
     ]
    },
    {
     "name": "stdout",
     "output_type": "stream",
     "text": [
      "val loss increased, patience count:  2\n",
      "Epoch: 6, train_loss: 0.5271323919296265, valid_loss: 0.5555201172828674\n"
     ]
    },
    {
     "name": "stderr",
     "output_type": "stream",
     "text": [
      "100%|██████████| 115/115 [00:05<00:00, 22.27it/s]\n",
      "100%|██████████| 16/16 [00:00<00:00, 58.98it/s]\n"
     ]
    },
    {
     "name": "stdout",
     "output_type": "stream",
     "text": [
      "Early stopped at Epoch:  7\n"
     ]
    },
    {
     "name": "stderr",
     "output_type": "stream",
     "text": [
      "  2%|▏         | 1/57 [00:00<00:06,  8.32it/s]"
     ]
    },
    {
     "name": "stdout",
     "output_type": "stream",
     "text": [
      "{'BATCH_SIZE': 256, 'EPOCHS': 20, 'OPTIMIZER': <class 'torch.optim.adam.Adam'>, 'LEARNING_RATE': 1e-05, 'LOSS': CrossEntropyLoss(), 'EARLY_STOPPING': True, 'PATIENCE': 3, 'MIN_DELTA': 0.0005, 'MAXPOOL': 2, 'FC_SIZES': array([64]), 'DROPOUT': 0.2, 'HIDDEN_SIZES': array([128, 256]), 'KERNEL_SIZES': array([3, 3])}\n"
     ]
    },
    {
     "name": "stderr",
     "output_type": "stream",
     "text": [
      "100%|██████████| 57/57 [00:07<00:00,  7.35it/s]\n",
      "100%|██████████| 8/8 [00:00<00:00, 18.67it/s]\n",
      "  2%|▏         | 1/57 [00:00<00:07,  7.80it/s]"
     ]
    },
    {
     "name": "stdout",
     "output_type": "stream",
     "text": [
      "Epoch: 0, train_loss: 0.6914392709732056, valid_loss: 0.6904069781303406\n"
     ]
    },
    {
     "name": "stderr",
     "output_type": "stream",
     "text": [
      "100%|██████████| 57/57 [00:07<00:00,  7.31it/s]\n",
      "100%|██████████| 8/8 [00:00<00:00, 17.98it/s]\n",
      "  2%|▏         | 1/57 [00:00<00:07,  7.77it/s]"
     ]
    },
    {
     "name": "stdout",
     "output_type": "stream",
     "text": [
      "Epoch: 1, train_loss: 0.6872761845588684, valid_loss: 0.685512900352478\n"
     ]
    },
    {
     "name": "stderr",
     "output_type": "stream",
     "text": [
      "100%|██████████| 57/57 [00:07<00:00,  7.28it/s]\n",
      "100%|██████████| 8/8 [00:00<00:00, 19.17it/s]\n",
      "  2%|▏         | 1/57 [00:00<00:06,  8.01it/s]"
     ]
    },
    {
     "name": "stdout",
     "output_type": "stream",
     "text": [
      "Epoch: 2, train_loss: 0.6800056099891663, valid_loss: 0.6778411865234375\n"
     ]
    },
    {
     "name": "stderr",
     "output_type": "stream",
     "text": [
      "100%|██████████| 57/57 [00:07<00:00,  7.41it/s]\n",
      "100%|██████████| 8/8 [00:00<00:00, 17.79it/s]\n",
      "  2%|▏         | 1/57 [00:00<00:07,  7.89it/s]"
     ]
    },
    {
     "name": "stdout",
     "output_type": "stream",
     "text": [
      "Epoch: 3, train_loss: 0.6689651608467102, valid_loss: 0.6658212542533875\n"
     ]
    },
    {
     "name": "stderr",
     "output_type": "stream",
     "text": [
      "100%|██████████| 57/57 [00:07<00:00,  7.22it/s]\n",
      "100%|██████████| 8/8 [00:00<00:00, 18.41it/s]\n",
      "  2%|▏         | 1/57 [00:00<00:07,  7.98it/s]"
     ]
    },
    {
     "name": "stdout",
     "output_type": "stream",
     "text": [
      "Epoch: 4, train_loss: 0.6539372205734253, valid_loss: 0.6541605591773987\n"
     ]
    },
    {
     "name": "stderr",
     "output_type": "stream",
     "text": [
      "100%|██████████| 57/57 [00:07<00:00,  7.36it/s]\n",
      "100%|██████████| 8/8 [00:00<00:00, 17.68it/s]\n",
      "  2%|▏         | 1/57 [00:00<00:07,  7.65it/s]"
     ]
    },
    {
     "name": "stdout",
     "output_type": "stream",
     "text": [
      "Epoch: 5, train_loss: 0.6382442116737366, valid_loss: 0.6408226490020752\n"
     ]
    },
    {
     "name": "stderr",
     "output_type": "stream",
     "text": [
      "100%|██████████| 57/57 [00:07<00:00,  7.36it/s]\n",
      "100%|██████████| 8/8 [00:00<00:00, 19.34it/s]\n",
      "  2%|▏         | 1/57 [00:00<00:07,  7.78it/s]"
     ]
    },
    {
     "name": "stdout",
     "output_type": "stream",
     "text": [
      "Epoch: 6, train_loss: 0.6229988932609558, valid_loss: 0.6288889050483704\n"
     ]
    },
    {
     "name": "stderr",
     "output_type": "stream",
     "text": [
      "100%|██████████| 57/57 [00:07<00:00,  7.31it/s]\n",
      "100%|██████████| 8/8 [00:00<00:00, 18.42it/s]\n",
      "  2%|▏         | 1/57 [00:00<00:07,  7.58it/s]"
     ]
    },
    {
     "name": "stdout",
     "output_type": "stream",
     "text": [
      "Epoch: 7, train_loss: 0.6103311777114868, valid_loss: 0.6219123601913452\n"
     ]
    },
    {
     "name": "stderr",
     "output_type": "stream",
     "text": [
      "100%|██████████| 57/57 [00:07<00:00,  7.32it/s]\n",
      "100%|██████████| 8/8 [00:00<00:00, 17.89it/s]\n",
      "  2%|▏         | 1/57 [00:00<00:07,  7.54it/s]"
     ]
    },
    {
     "name": "stdout",
     "output_type": "stream",
     "text": [
      "Epoch: 8, train_loss: 0.6009876728057861, valid_loss: 0.6116961240768433\n"
     ]
    },
    {
     "name": "stderr",
     "output_type": "stream",
     "text": [
      "100%|██████████| 57/57 [00:07<00:00,  7.21it/s]\n",
      "100%|██████████| 8/8 [00:00<00:00, 18.55it/s]\n",
      "  2%|▏         | 1/57 [00:00<00:06,  8.08it/s]"
     ]
    },
    {
     "name": "stdout",
     "output_type": "stream",
     "text": [
      "Epoch: 9, train_loss: 0.5941964387893677, valid_loss: 0.610687255859375\n"
     ]
    },
    {
     "name": "stderr",
     "output_type": "stream",
     "text": [
      "100%|██████████| 57/57 [00:07<00:00,  7.38it/s]\n",
      "100%|██████████| 8/8 [00:00<00:00, 18.89it/s]\n",
      "  2%|▏         | 1/57 [00:00<00:07,  7.90it/s]"
     ]
    },
    {
     "name": "stdout",
     "output_type": "stream",
     "text": [
      "Epoch: 10, train_loss: 0.5878775715827942, valid_loss: 0.6038021445274353\n"
     ]
    },
    {
     "name": "stderr",
     "output_type": "stream",
     "text": [
      "100%|██████████| 57/57 [00:08<00:00,  6.86it/s]\n",
      "100%|██████████| 8/8 [00:00<00:00, 12.90it/s]\n",
      "  2%|▏         | 1/57 [00:00<00:08,  6.80it/s]"
     ]
    },
    {
     "name": "stdout",
     "output_type": "stream",
     "text": [
      "Epoch: 11, train_loss: 0.5826436281204224, valid_loss: 0.600726306438446\n"
     ]
    },
    {
     "name": "stderr",
     "output_type": "stream",
     "text": [
      "100%|██████████| 57/57 [00:09<00:00,  6.24it/s]\n",
      "100%|██████████| 8/8 [00:00<00:00, 13.60it/s]\n",
      "  2%|▏         | 1/57 [00:00<00:07,  7.22it/s]"
     ]
    },
    {
     "name": "stdout",
     "output_type": "stream",
     "text": [
      "Epoch: 12, train_loss: 0.5799837112426758, valid_loss: 0.5994389057159424\n"
     ]
    },
    {
     "name": "stderr",
     "output_type": "stream",
     "text": [
      "100%|██████████| 57/57 [00:08<00:00,  7.04it/s]\n",
      "100%|██████████| 8/8 [00:00<00:00, 18.68it/s]\n",
      "  2%|▏         | 1/57 [00:00<00:07,  7.55it/s]"
     ]
    },
    {
     "name": "stdout",
     "output_type": "stream",
     "text": [
      "Epoch: 13, train_loss: 0.5760459303855896, valid_loss: 0.594135582447052\n"
     ]
    },
    {
     "name": "stderr",
     "output_type": "stream",
     "text": [
      "100%|██████████| 57/57 [00:08<00:00,  6.80it/s]\n",
      "100%|██████████| 8/8 [00:00<00:00, 18.13it/s]\n",
      "  2%|▏         | 1/57 [00:00<00:07,  7.45it/s]"
     ]
    },
    {
     "name": "stdout",
     "output_type": "stream",
     "text": [
      "Epoch: 14, train_loss: 0.5745728611946106, valid_loss: 0.593895673751831\n"
     ]
    },
    {
     "name": "stderr",
     "output_type": "stream",
     "text": [
      "100%|██████████| 57/57 [00:07<00:00,  7.19it/s]\n",
      "100%|██████████| 8/8 [00:00<00:00, 15.47it/s]\n",
      "  2%|▏         | 1/57 [00:00<00:07,  7.13it/s]"
     ]
    },
    {
     "name": "stdout",
     "output_type": "stream",
     "text": [
      "Epoch: 15, train_loss: 0.5722190737724304, valid_loss: 0.5932838916778564\n"
     ]
    },
    {
     "name": "stderr",
     "output_type": "stream",
     "text": [
      "100%|██████████| 57/57 [00:07<00:00,  7.19it/s]\n",
      "100%|██████████| 8/8 [00:00<00:00, 18.50it/s]\n",
      "  2%|▏         | 1/57 [00:00<00:07,  7.93it/s]"
     ]
    },
    {
     "name": "stdout",
     "output_type": "stream",
     "text": [
      "Epoch: 16, train_loss: 0.5695421695709229, valid_loss: 0.5925697088241577\n"
     ]
    },
    {
     "name": "stderr",
     "output_type": "stream",
     "text": [
      "100%|██████████| 57/57 [00:07<00:00,  7.35it/s]\n",
      "100%|██████████| 8/8 [00:00<00:00, 17.84it/s]\n",
      "  2%|▏         | 1/57 [00:00<00:07,  7.81it/s]"
     ]
    },
    {
     "name": "stdout",
     "output_type": "stream",
     "text": [
      "val loss increased, patience count:  1\n",
      "Epoch: 17, train_loss: 0.5679459571838379, valid_loss: 0.5930963158607483\n"
     ]
    },
    {
     "name": "stderr",
     "output_type": "stream",
     "text": [
      "100%|██████████| 57/57 [00:08<00:00,  7.07it/s]\n",
      "100%|██████████| 8/8 [00:00<00:00, 17.05it/s]\n",
      "  2%|▏         | 1/57 [00:00<00:08,  6.51it/s]"
     ]
    },
    {
     "name": "stdout",
     "output_type": "stream",
     "text": [
      "Epoch: 18, train_loss: 0.5651865601539612, valid_loss: 0.5876990556716919\n"
     ]
    },
    {
     "name": "stderr",
     "output_type": "stream",
     "text": [
      "100%|██████████| 57/57 [00:07<00:00,  7.21it/s]\n",
      "100%|██████████| 8/8 [00:00<00:00, 18.07it/s]\n"
     ]
    },
    {
     "name": "stdout",
     "output_type": "stream",
     "text": [
      "Epoch: 19, train_loss: 0.5650347471237183, valid_loss: 0.5845413208007812\n"
     ]
    },
    {
     "name": "stderr",
     "output_type": "stream",
     "text": [
      "  4%|▎         | 1/28 [00:00<00:03,  7.34it/s]"
     ]
    },
    {
     "name": "stdout",
     "output_type": "stream",
     "text": [
      "{'BATCH_SIZE': 512, 'EPOCHS': 20, 'OPTIMIZER': <class 'torch.optim.adam.Adam'>, 'LEARNING_RATE': 1e-05, 'LOSS': CrossEntropyLoss(), 'EARLY_STOPPING': True, 'PATIENCE': 3, 'MIN_DELTA': 0.001, 'MAXPOOL': 2, 'FC_SIZES': array([256]), 'DROPOUT': 0.5, 'HIDDEN_SIZES': array([ 64, 128]), 'KERNEL_SIZES': array([5, 5])}\n"
     ]
    },
    {
     "name": "stderr",
     "output_type": "stream",
     "text": [
      "100%|██████████| 28/28 [00:04<00:00,  6.61it/s]\n",
      "100%|██████████| 4/4 [00:00<00:00, 14.80it/s]\n",
      "  4%|▎         | 1/28 [00:00<00:03,  6.86it/s]"
     ]
    },
    {
     "name": "stdout",
     "output_type": "stream",
     "text": [
      "Epoch: 0, train_loss: 0.6932981014251709, valid_loss: 0.6925570368766785\n"
     ]
    },
    {
     "name": "stderr",
     "output_type": "stream",
     "text": [
      "100%|██████████| 28/28 [00:04<00:00,  6.57it/s]\n",
      "100%|██████████| 4/4 [00:00<00:00, 13.81it/s]\n",
      "  4%|▎         | 1/28 [00:00<00:04,  5.93it/s]"
     ]
    },
    {
     "name": "stdout",
     "output_type": "stream",
     "text": [
      "Epoch: 1, train_loss: 0.6924794912338257, valid_loss: 0.6917816996574402\n"
     ]
    },
    {
     "name": "stderr",
     "output_type": "stream",
     "text": [
      "100%|██████████| 28/28 [00:04<00:00,  6.54it/s]\n",
      "100%|██████████| 4/4 [00:00<00:00, 14.67it/s]\n",
      "  4%|▎         | 1/28 [00:00<00:03,  7.29it/s]"
     ]
    },
    {
     "name": "stdout",
     "output_type": "stream",
     "text": [
      "Epoch: 2, train_loss: 0.6914656758308411, valid_loss: 0.6905537843704224\n"
     ]
    },
    {
     "name": "stderr",
     "output_type": "stream",
     "text": [
      "100%|██████████| 28/28 [00:04<00:00,  6.57it/s]\n",
      "100%|██████████| 4/4 [00:00<00:00, 15.01it/s]\n",
      "  4%|▎         | 1/28 [00:00<00:03,  6.84it/s]"
     ]
    },
    {
     "name": "stdout",
     "output_type": "stream",
     "text": [
      "Epoch: 3, train_loss: 0.6897907853126526, valid_loss: 0.6893959045410156\n"
     ]
    },
    {
     "name": "stderr",
     "output_type": "stream",
     "text": [
      "100%|██████████| 28/28 [00:04<00:00,  6.35it/s]\n",
      "100%|██████████| 4/4 [00:00<00:00, 15.07it/s]\n",
      "  4%|▎         | 1/28 [00:00<00:03,  6.77it/s]"
     ]
    },
    {
     "name": "stdout",
     "output_type": "stream",
     "text": [
      "Epoch: 4, train_loss: 0.6879751086235046, valid_loss: 0.687372088432312\n"
     ]
    },
    {
     "name": "stderr",
     "output_type": "stream",
     "text": [
      "100%|██████████| 28/28 [00:04<00:00,  6.44it/s]\n",
      "100%|██████████| 4/4 [00:00<00:00, 14.69it/s]\n",
      "  4%|▎         | 1/28 [00:00<00:03,  6.76it/s]"
     ]
    },
    {
     "name": "stdout",
     "output_type": "stream",
     "text": [
      "Epoch: 5, train_loss: 0.6859184503555298, valid_loss: 0.684864342212677\n"
     ]
    },
    {
     "name": "stderr",
     "output_type": "stream",
     "text": [
      "100%|██████████| 28/28 [00:04<00:00,  6.56it/s]\n",
      "100%|██████████| 4/4 [00:00<00:00, 12.03it/s]\n",
      "  4%|▎         | 1/28 [00:00<00:04,  6.54it/s]"
     ]
    },
    {
     "name": "stdout",
     "output_type": "stream",
     "text": [
      "Epoch: 6, train_loss: 0.6823623776435852, valid_loss: 0.6811196804046631\n"
     ]
    },
    {
     "name": "stderr",
     "output_type": "stream",
     "text": [
      "100%|██████████| 28/28 [00:04<00:00,  6.60it/s]\n",
      "100%|██████████| 4/4 [00:00<00:00, 14.52it/s]\n",
      "  4%|▎         | 1/28 [00:00<00:04,  6.60it/s]"
     ]
    },
    {
     "name": "stdout",
     "output_type": "stream",
     "text": [
      "Epoch: 7, train_loss: 0.6778932213783264, valid_loss: 0.6763726472854614\n"
     ]
    },
    {
     "name": "stderr",
     "output_type": "stream",
     "text": [
      "100%|██████████| 28/28 [00:04<00:00,  6.59it/s]\n",
      "100%|██████████| 4/4 [00:00<00:00, 14.70it/s]\n",
      "  4%|▎         | 1/28 [00:00<00:03,  7.54it/s]"
     ]
    },
    {
     "name": "stdout",
     "output_type": "stream",
     "text": [
      "Epoch: 8, train_loss: 0.6715191006660461, valid_loss: 0.6691861152648926\n"
     ]
    },
    {
     "name": "stderr",
     "output_type": "stream",
     "text": [
      "100%|██████████| 28/28 [00:04<00:00,  6.54it/s]\n",
      "100%|██████████| 4/4 [00:00<00:00, 15.16it/s]\n",
      "  4%|▎         | 1/28 [00:00<00:03,  6.76it/s]"
     ]
    },
    {
     "name": "stdout",
     "output_type": "stream",
     "text": [
      "Epoch: 9, train_loss: 0.664389967918396, valid_loss: 0.6624469757080078\n"
     ]
    },
    {
     "name": "stderr",
     "output_type": "stream",
     "text": [
      "100%|██████████| 28/28 [00:04<00:00,  6.61it/s]\n",
      "100%|██████████| 4/4 [00:00<00:00, 14.83it/s]\n",
      "  4%|▎         | 1/28 [00:00<00:03,  7.17it/s]"
     ]
    },
    {
     "name": "stdout",
     "output_type": "stream",
     "text": [
      "Epoch: 10, train_loss: 0.6550468802452087, valid_loss: 0.65394127368927\n"
     ]
    },
    {
     "name": "stderr",
     "output_type": "stream",
     "text": [
      "100%|██████████| 28/28 [00:04<00:00,  6.51it/s]\n",
      "100%|██████████| 4/4 [00:00<00:00, 14.95it/s]\n",
      "  4%|▎         | 1/28 [00:00<00:03,  6.78it/s]"
     ]
    },
    {
     "name": "stdout",
     "output_type": "stream",
     "text": [
      "Epoch: 11, train_loss: 0.6431798934936523, valid_loss: 0.6470140218734741\n"
     ]
    },
    {
     "name": "stderr",
     "output_type": "stream",
     "text": [
      "100%|██████████| 28/28 [00:04<00:00,  6.53it/s]\n",
      "100%|██████████| 4/4 [00:00<00:00, 14.43it/s]\n",
      "  4%|▎         | 1/28 [00:00<00:04,  6.62it/s]"
     ]
    },
    {
     "name": "stdout",
     "output_type": "stream",
     "text": [
      "Epoch: 12, train_loss: 0.6344438791275024, valid_loss: 0.6376574039459229\n"
     ]
    },
    {
     "name": "stderr",
     "output_type": "stream",
     "text": [
      "100%|██████████| 28/28 [00:04<00:00,  6.46it/s]\n",
      "100%|██████████| 4/4 [00:00<00:00, 14.75it/s]\n",
      "  4%|▎         | 1/28 [00:00<00:03,  6.96it/s]"
     ]
    },
    {
     "name": "stdout",
     "output_type": "stream",
     "text": [
      "Epoch: 13, train_loss: 0.6235916018486023, valid_loss: 0.6319113373756409\n"
     ]
    },
    {
     "name": "stderr",
     "output_type": "stream",
     "text": [
      "100%|██████████| 28/28 [00:04<00:00,  6.38it/s]\n",
      "100%|██████████| 4/4 [00:00<00:00, 14.89it/s]\n",
      "  4%|▎         | 1/28 [00:00<00:04,  6.51it/s]"
     ]
    },
    {
     "name": "stdout",
     "output_type": "stream",
     "text": [
      "Epoch: 14, train_loss: 0.6164785027503967, valid_loss: 0.6250197887420654\n"
     ]
    },
    {
     "name": "stderr",
     "output_type": "stream",
     "text": [
      "100%|██████████| 28/28 [00:04<00:00,  6.56it/s]\n",
      "100%|██████████| 4/4 [00:00<00:00, 15.22it/s]\n",
      "  4%|▎         | 1/28 [00:00<00:03,  6.83it/s]"
     ]
    },
    {
     "name": "stdout",
     "output_type": "stream",
     "text": [
      "Epoch: 15, train_loss: 0.6082441210746765, valid_loss: 0.61868816614151\n"
     ]
    },
    {
     "name": "stderr",
     "output_type": "stream",
     "text": [
      "100%|██████████| 28/28 [00:04<00:00,  6.62it/s]\n",
      "100%|██████████| 4/4 [00:00<00:00, 14.32it/s]\n",
      "  4%|▎         | 1/28 [00:00<00:03,  6.89it/s]"
     ]
    },
    {
     "name": "stdout",
     "output_type": "stream",
     "text": [
      "Epoch: 16, train_loss: 0.6012573838233948, valid_loss: 0.6146048903465271\n"
     ]
    },
    {
     "name": "stderr",
     "output_type": "stream",
     "text": [
      "100%|██████████| 28/28 [00:04<00:00,  6.49it/s]\n",
      "100%|██████████| 4/4 [00:00<00:00, 14.79it/s]\n",
      "  4%|▎         | 1/28 [00:00<00:03,  6.92it/s]"
     ]
    },
    {
     "name": "stdout",
     "output_type": "stream",
     "text": [
      "Epoch: 17, train_loss: 0.5970991849899292, valid_loss: 0.6101255416870117\n"
     ]
    },
    {
     "name": "stderr",
     "output_type": "stream",
     "text": [
      "100%|██████████| 28/28 [00:04<00:00,  6.32it/s]\n",
      "100%|██████████| 4/4 [00:00<00:00, 14.32it/s]\n",
      "  4%|▎         | 1/28 [00:00<00:04,  6.70it/s]"
     ]
    },
    {
     "name": "stdout",
     "output_type": "stream",
     "text": [
      "Epoch: 18, train_loss: 0.5916188359260559, valid_loss: 0.6084335446357727\n"
     ]
    },
    {
     "name": "stderr",
     "output_type": "stream",
     "text": [
      "100%|██████████| 28/28 [00:05<00:00,  5.56it/s]\n",
      "100%|██████████| 4/4 [00:00<00:00, 12.57it/s]\n"
     ]
    },
    {
     "name": "stdout",
     "output_type": "stream",
     "text": [
      "Epoch: 19, train_loss: 0.5881952047348022, valid_loss: 0.6057900786399841\n"
     ]
    },
    {
     "name": "stderr",
     "output_type": "stream",
     "text": [
      "\r",
      "  0%|          | 0/57 [00:00<?, ?it/s]"
     ]
    },
    {
     "name": "stdout",
     "output_type": "stream",
     "text": [
      "{'BATCH_SIZE': 256, 'EPOCHS': 40, 'OPTIMIZER': <class 'torch.optim.adam.Adam'>, 'LEARNING_RATE': 0.0005, 'LOSS': CrossEntropyLoss(), 'EARLY_STOPPING': True, 'PATIENCE': 2, 'MIN_DELTA': 0.001, 'MAXPOOL': 2, 'FC_SIZES': array([64]), 'DROPOUT': 0.0, 'HIDDEN_SIZES': array([256, 512]), 'KERNEL_SIZES': array([9, 7])}\n"
     ]
    },
    {
     "name": "stderr",
     "output_type": "stream",
     "text": [
      "100%|██████████| 57/57 [00:32<00:00,  1.73it/s]\n",
      "100%|██████████| 8/8 [00:01<00:00,  5.38it/s]\n",
      "  0%|          | 0/57 [00:00<?, ?it/s]"
     ]
    },
    {
     "name": "stdout",
     "output_type": "stream",
     "text": [
      "Epoch: 0, train_loss: 0.5906172394752502, valid_loss: 0.5786661505699158\n"
     ]
    },
    {
     "name": "stderr",
     "output_type": "stream",
     "text": [
      "100%|██████████| 57/57 [00:33<00:00,  1.70it/s]\n",
      "100%|██████████| 8/8 [00:01<00:00,  5.38it/s]\n",
      "  0%|          | 0/57 [00:00<?, ?it/s]"
     ]
    },
    {
     "name": "stdout",
     "output_type": "stream",
     "text": [
      "Epoch: 1, train_loss: 0.5533871650695801, valid_loss: 0.5749732255935669\n"
     ]
    },
    {
     "name": "stderr",
     "output_type": "stream",
     "text": [
      "100%|██████████| 57/57 [00:33<00:00,  1.71it/s]\n",
      "100%|██████████| 8/8 [00:01<00:00,  5.38it/s]\n",
      "  0%|          | 0/57 [00:00<?, ?it/s]"
     ]
    },
    {
     "name": "stdout",
     "output_type": "stream",
     "text": [
      "Epoch: 2, train_loss: 0.5323877930641174, valid_loss: 0.5491000413894653\n"
     ]
    },
    {
     "name": "stderr",
     "output_type": "stream",
     "text": [
      "100%|██████████| 57/57 [00:32<00:00,  1.73it/s]\n",
      "100%|██████████| 8/8 [00:01<00:00,  5.30it/s]\n",
      "  0%|          | 0/57 [00:00<?, ?it/s]"
     ]
    },
    {
     "name": "stdout",
     "output_type": "stream",
     "text": [
      "Epoch: 3, train_loss: 0.5267359018325806, valid_loss: 0.5475482940673828\n"
     ]
    },
    {
     "name": "stderr",
     "output_type": "stream",
     "text": [
      "100%|██████████| 57/57 [00:33<00:00,  1.71it/s]\n",
      "100%|██████████| 8/8 [00:01<00:00,  5.10it/s]\n",
      "  0%|          | 0/57 [00:00<?, ?it/s]"
     ]
    },
    {
     "name": "stdout",
     "output_type": "stream",
     "text": [
      "val loss increased, patience count:  1\n",
      "Epoch: 4, train_loss: 0.5179404020309448, valid_loss: 0.5506276488304138\n"
     ]
    },
    {
     "name": "stderr",
     "output_type": "stream",
     "text": [
      "100%|██████████| 57/57 [00:33<00:00,  1.71it/s]\n",
      "100%|██████████| 8/8 [00:01<00:00,  5.18it/s]\n",
      "  0%|          | 0/57 [00:00<?, ?it/s]"
     ]
    },
    {
     "name": "stdout",
     "output_type": "stream",
     "text": [
      "val loss increased, patience count:  2\n",
      "Epoch: 5, train_loss: 0.5038540363311768, valid_loss: 0.5652737617492676\n"
     ]
    },
    {
     "name": "stderr",
     "output_type": "stream",
     "text": [
      "100%|██████████| 57/57 [00:33<00:00,  1.72it/s]\n",
      "100%|██████████| 8/8 [00:01<00:00,  5.50it/s]\n"
     ]
    },
    {
     "name": "stdout",
     "output_type": "stream",
     "text": [
      "Early stopped at Epoch:  6\n"
     ]
    },
    {
     "name": "stderr",
     "output_type": "stream",
     "text": [
      "\r",
      "  0%|          | 0/28 [00:00<?, ?it/s]"
     ]
    },
    {
     "name": "stdout",
     "output_type": "stream",
     "text": [
      "{'BATCH_SIZE': 512, 'EPOCHS': 40, 'OPTIMIZER': <class 'torch.optim.adam.Adam'>, 'LEARNING_RATE': 0.0005, 'LOSS': CrossEntropyLoss(), 'EARLY_STOPPING': True, 'PATIENCE': 2, 'MIN_DELTA': 0.001, 'MAXPOOL': 2, 'FC_SIZES': array([64]), 'DROPOUT': 0.1, 'HIDDEN_SIZES': array([256, 512]), 'KERNEL_SIZES': array([7, 7])}\n"
     ]
    },
    {
     "name": "stderr",
     "output_type": "stream",
     "text": [
      "100%|██████████| 28/28 [00:28<00:00,  1.01s/it]\n",
      "100%|██████████| 4/4 [00:01<00:00,  2.95it/s]\n",
      "  0%|          | 0/28 [00:00<?, ?it/s]"
     ]
    },
    {
     "name": "stdout",
     "output_type": "stream",
     "text": [
      "Epoch: 0, train_loss: 0.6048876643180847, valid_loss: 0.5964502692222595\n"
     ]
    },
    {
     "name": "stderr",
     "output_type": "stream",
     "text": [
      "100%|██████████| 28/28 [00:28<00:00,  1.03s/it]\n",
      "100%|██████████| 4/4 [00:01<00:00,  2.95it/s]\n",
      "  0%|          | 0/28 [00:00<?, ?it/s]"
     ]
    },
    {
     "name": "stdout",
     "output_type": "stream",
     "text": [
      "Epoch: 1, train_loss: 0.5558274388313293, valid_loss: 0.5802351236343384\n"
     ]
    },
    {
     "name": "stderr",
     "output_type": "stream",
     "text": [
      "100%|██████████| 28/28 [00:28<00:00,  1.02s/it]\n",
      "100%|██████████| 4/4 [00:01<00:00,  3.11it/s]\n",
      "  0%|          | 0/28 [00:00<?, ?it/s]"
     ]
    },
    {
     "name": "stdout",
     "output_type": "stream",
     "text": [
      "Epoch: 2, train_loss: 0.5550176501274109, valid_loss: 0.571073055267334\n"
     ]
    },
    {
     "name": "stderr",
     "output_type": "stream",
     "text": [
      "100%|██████████| 28/28 [00:28<00:00,  1.02s/it]\n",
      "100%|██████████| 4/4 [00:01<00:00,  2.83it/s]\n",
      "  0%|          | 0/28 [00:00<?, ?it/s]"
     ]
    },
    {
     "name": "stdout",
     "output_type": "stream",
     "text": [
      "Epoch: 3, train_loss: 0.5394884347915649, valid_loss: 0.5593241453170776\n"
     ]
    },
    {
     "name": "stderr",
     "output_type": "stream",
     "text": [
      "100%|██████████| 28/28 [00:28<00:00,  1.01s/it]\n",
      "100%|██████████| 4/4 [00:01<00:00,  3.02it/s]\n",
      "  0%|          | 0/28 [00:00<?, ?it/s]"
     ]
    },
    {
     "name": "stdout",
     "output_type": "stream",
     "text": [
      "val loss increased, patience count:  1\n",
      "Epoch: 4, train_loss: 0.5289837121963501, valid_loss: 0.5611085295677185\n"
     ]
    },
    {
     "name": "stderr",
     "output_type": "stream",
     "text": [
      "100%|██████████| 28/28 [00:29<00:00,  1.04s/it]\n",
      "100%|██████████| 4/4 [00:01<00:00,  3.05it/s]\n",
      "  0%|          | 0/28 [00:00<?, ?it/s]"
     ]
    },
    {
     "name": "stdout",
     "output_type": "stream",
     "text": [
      "val loss increased, patience count:  2\n",
      "Epoch: 5, train_loss: 0.5223955512046814, valid_loss: 0.5597814321517944\n"
     ]
    },
    {
     "name": "stderr",
     "output_type": "stream",
     "text": [
      "100%|██████████| 28/28 [00:28<00:00,  1.01s/it]\n",
      "100%|██████████| 4/4 [00:01<00:00,  2.99it/s]\n",
      "  0%|          | 0/28 [00:00<?, ?it/s]"
     ]
    },
    {
     "name": "stdout",
     "output_type": "stream",
     "text": [
      "Epoch: 6, train_loss: 0.5144340395927429, valid_loss: 0.5531696081161499\n"
     ]
    },
    {
     "name": "stderr",
     "output_type": "stream",
     "text": [
      "100%|██████████| 28/28 [00:28<00:00,  1.01s/it]\n",
      "100%|██████████| 4/4 [00:01<00:00,  3.13it/s]\n",
      "  0%|          | 0/28 [00:00<?, ?it/s]"
     ]
    },
    {
     "name": "stdout",
     "output_type": "stream",
     "text": [
      "Epoch: 7, train_loss: 0.5094866156578064, valid_loss: 0.5428001284599304\n"
     ]
    },
    {
     "name": "stderr",
     "output_type": "stream",
     "text": [
      "100%|██████████| 28/28 [00:28<00:00,  1.01s/it]\n",
      "100%|██████████| 4/4 [00:01<00:00,  2.93it/s]\n",
      "  0%|          | 0/28 [00:00<?, ?it/s]"
     ]
    },
    {
     "name": "stdout",
     "output_type": "stream",
     "text": [
      "val loss increased, patience count:  1\n",
      "Epoch: 8, train_loss: 0.49025893211364746, valid_loss: 0.5576475858688354\n"
     ]
    },
    {
     "name": "stderr",
     "output_type": "stream",
     "text": [
      "100%|██████████| 28/28 [00:29<00:00,  1.06s/it]\n",
      "100%|██████████| 4/4 [00:01<00:00,  2.83it/s]\n",
      "  0%|          | 0/28 [00:00<?, ?it/s]"
     ]
    },
    {
     "name": "stdout",
     "output_type": "stream",
     "text": [
      "val loss increased, patience count:  2\n",
      "Epoch: 9, train_loss: 0.4859932065010071, valid_loss: 0.5491513609886169\n"
     ]
    },
    {
     "name": "stderr",
     "output_type": "stream",
     "text": [
      "100%|██████████| 28/28 [00:28<00:00,  1.03s/it]\n",
      "100%|██████████| 4/4 [00:01<00:00,  2.94it/s]\n"
     ]
    },
    {
     "name": "stdout",
     "output_type": "stream",
     "text": [
      "Early stopped at Epoch:  10\n"
     ]
    }
   ],
   "source": [
    "stats = []\n",
    "for i in np.arange(N): \n",
    "    print(param_samples[i])\n",
    "    run = TrainTest(CNN_1D, (train, val, test), param_samples[i])\n",
    "    run.train()\n",
    "    stats.append(run.test())"
   ]
  },
  {
   "cell_type": "code",
   "execution_count": 21,
   "metadata": {
    "scrolled": true
   },
   "outputs": [],
   "source": [
    "for i in np.arange(N):\n",
    "    for key,val in stats[i].items():\n",
    "        param_samples[i][key] = val"
   ]
  },
  {
   "cell_type": "code",
   "execution_count": 22,
   "metadata": {},
   "outputs": [],
   "source": [
    "torch.save(param_samples, 'results/CNN1D_experiment_N'+str(N)+'.pkl')"
   ]
  },
  {
   "cell_type": "code",
   "execution_count": 24,
   "metadata": {},
   "outputs": [],
   "source": [
    "import pandas as pd\n",
    "results = pd.DataFrame(param_samples).sort_values(by='auroc', ascending=False)\n",
    "#torch.save(results, 'results/CNN1D_experiment_N'+str(N)+'.pkl')"
   ]
  },
  {
   "cell_type": "markdown",
   "metadata": {},
   "source": [
    "# MLP"
   ]
  },
  {
   "cell_type": "code",
   "execution_count": 4,
   "metadata": {},
   "outputs": [],
   "source": [
    "generators_dict = {\n",
    "    # HYPERMARAMETER RANGES\n",
    "    'BATCH_SIZE': SingleGenerator([256]),\n",
    "    'EPOCHS': SingleGenerator([20]),\n",
    "    'OPTIMIZER': SingleGenerator([torch.optim.Adam]),\n",
    "    'LEARNING_RATE': SingleGenerator([1e-4]),\n",
    "    'LOSS': SingleGenerator([torch.nn.CrossEntropyLoss(weight= class_weights)]),\n",
    "    'EARLY_STOPPING': SingleGenerator([True]),\n",
    "    'PATIENCE': SingleGenerator(list(range(2,3))),\n",
    "    'MIN_DELTA': SingleGenerator([5e-5]), \n",
    "\n",
    "    # NETWORK PARAMETER RANGES\n",
    "    'FC_SIZES': ConsecutiveGenerator(range(3,5), [64, 128, 256, 512, 1024], ascending=False),\n",
    "    'DROPOUT': SingleGenerator(np.arange(8)/10)\n",
    "} # each of these params are sampled INDEPENDENTLY of one another"
   ]
  },
  {
   "cell_type": "code",
   "execution_count": 5,
   "metadata": {},
   "outputs": [],
   "source": [
    "N = 10\n",
    "gen = ParamGenerators(generators_dict)\n",
    "param_samples = gen.sample(N, hidden_present=False)"
   ]
  },
  {
   "cell_type": "code",
   "execution_count": 6,
   "metadata": {},
   "outputs": [
    {
     "name": "stderr",
     "output_type": "stream",
     "text": [
      "  5%|▌         | 3/57 [00:00<00:02, 25.14it/s]"
     ]
    },
    {
     "name": "stdout",
     "output_type": "stream",
     "text": [
      "{'BATCH_SIZE': 256, 'EPOCHS': 20, 'OPTIMIZER': <class 'torch.optim.adam.Adam'>, 'LEARNING_RATE': 0.0001, 'LOSS': CrossEntropyLoss(), 'EARLY_STOPPING': True, 'PATIENCE': 2, 'MIN_DELTA': 5e-05, 'FC_SIZES': array([256, 128,  64]), 'DROPOUT': 0.2}\n"
     ]
    },
    {
     "name": "stderr",
     "output_type": "stream",
     "text": [
      "100%|██████████| 57/57 [00:01<00:00, 50.31it/s]\n",
      "100%|██████████| 8/8 [00:00<00:00, 107.12it/s]\n",
      "  9%|▉         | 5/57 [00:00<00:01, 46.03it/s]"
     ]
    },
    {
     "name": "stdout",
     "output_type": "stream",
     "text": [
      "Epoch: 0, train_loss: 0.6759189367294312, valid_loss: 0.6434214115142822\n"
     ]
    },
    {
     "name": "stderr",
     "output_type": "stream",
     "text": [
      "100%|██████████| 57/57 [00:01<00:00, 47.43it/s]\n",
      "100%|██████████| 8/8 [00:00<00:00, 112.50it/s]\n",
      "  7%|▋         | 4/57 [00:00<00:01, 39.73it/s]"
     ]
    },
    {
     "name": "stdout",
     "output_type": "stream",
     "text": [
      "Epoch: 1, train_loss: 0.6013957262039185, valid_loss: 0.5892404317855835\n"
     ]
    },
    {
     "name": "stderr",
     "output_type": "stream",
     "text": [
      "100%|██████████| 57/57 [00:01<00:00, 47.80it/s]\n",
      "100%|██████████| 8/8 [00:00<00:00, 65.14it/s]\n",
      "  7%|▋         | 4/57 [00:00<00:01, 39.55it/s]"
     ]
    },
    {
     "name": "stdout",
     "output_type": "stream",
     "text": [
      "Epoch: 2, train_loss: 0.5674644708633423, valid_loss: 0.5802661180496216\n"
     ]
    },
    {
     "name": "stderr",
     "output_type": "stream",
     "text": [
      "100%|██████████| 57/57 [00:01<00:00, 47.51it/s]\n",
      "100%|██████████| 8/8 [00:00<00:00, 110.85it/s]\n",
      "  9%|▉         | 5/57 [00:00<00:01, 41.89it/s]"
     ]
    },
    {
     "name": "stdout",
     "output_type": "stream",
     "text": [
      "Epoch: 3, train_loss: 0.553685188293457, valid_loss: 0.5784443616867065\n"
     ]
    },
    {
     "name": "stderr",
     "output_type": "stream",
     "text": [
      "100%|██████████| 57/57 [00:01<00:00, 54.80it/s]\n",
      "100%|██████████| 8/8 [00:00<00:00, 83.02it/s]\n",
      "  7%|▋         | 4/57 [00:00<00:01, 30.10it/s]"
     ]
    },
    {
     "name": "stdout",
     "output_type": "stream",
     "text": [
      "Epoch: 4, train_loss: 0.5422574281692505, valid_loss: 0.5659482479095459\n"
     ]
    },
    {
     "name": "stderr",
     "output_type": "stream",
     "text": [
      "100%|██████████| 57/57 [00:01<00:00, 37.24it/s]\n",
      "100%|██████████| 8/8 [00:00<00:00, 70.22it/s]\n",
      "  5%|▌         | 3/57 [00:00<00:02, 25.05it/s]"
     ]
    },
    {
     "name": "stdout",
     "output_type": "stream",
     "text": [
      "val loss increased, patience count:  1\n",
      "Epoch: 5, train_loss: 0.536687970161438, valid_loss: 0.5784708261489868\n"
     ]
    },
    {
     "name": "stderr",
     "output_type": "stream",
     "text": [
      "100%|██████████| 57/57 [00:01<00:00, 37.38it/s]\n",
      "100%|██████████| 8/8 [00:00<00:00, 65.93it/s]\n",
      "  5%|▌         | 3/57 [00:00<00:01, 28.60it/s]"
     ]
    },
    {
     "name": "stdout",
     "output_type": "stream",
     "text": [
      "Epoch: 6, train_loss: 0.5292233824729919, valid_loss: 0.5634251832962036\n"
     ]
    },
    {
     "name": "stderr",
     "output_type": "stream",
     "text": [
      "100%|██████████| 57/57 [00:01<00:00, 29.70it/s]\n",
      "100%|██████████| 8/8 [00:00<00:00, 63.59it/s]\n",
      "  5%|▌         | 3/57 [00:00<00:02, 23.82it/s]"
     ]
    },
    {
     "name": "stdout",
     "output_type": "stream",
     "text": [
      "val loss increased, patience count:  1\n",
      "Epoch: 7, train_loss: 0.5270950794219971, valid_loss: 0.5814118385314941\n"
     ]
    },
    {
     "name": "stderr",
     "output_type": "stream",
     "text": [
      "100%|██████████| 57/57 [00:02<00:00, 27.61it/s]\n",
      "100%|██████████| 8/8 [00:00<00:00, 62.68it/s]\n",
      "  5%|▌         | 3/57 [00:00<00:02, 25.96it/s]"
     ]
    },
    {
     "name": "stdout",
     "output_type": "stream",
     "text": [
      "val loss increased, patience count:  2\n",
      "Epoch: 8, train_loss: 0.5232005715370178, valid_loss: 0.5662423372268677\n"
     ]
    },
    {
     "name": "stderr",
     "output_type": "stream",
     "text": [
      "100%|██████████| 57/57 [00:01<00:00, 32.92it/s]\n",
      "100%|██████████| 8/8 [00:00<00:00, 56.75it/s]\n",
      "  0%|          | 0/57 [00:00<?, ?it/s]"
     ]
    },
    {
     "name": "stdout",
     "output_type": "stream",
     "text": [
      "Early stopped at Epoch:  9\n",
      "{'BATCH_SIZE': 256, 'EPOCHS': 20, 'OPTIMIZER': <class 'torch.optim.adam.Adam'>, 'LEARNING_RATE': 0.0001, 'LOSS': CrossEntropyLoss(), 'EARLY_STOPPING': True, 'PATIENCE': 2, 'MIN_DELTA': 5e-05, 'FC_SIZES': array([512, 256, 128]), 'DROPOUT': 0.4}\n"
     ]
    },
    {
     "name": "stderr",
     "output_type": "stream",
     "text": [
      "100%|██████████| 57/57 [00:02<00:00, 22.57it/s]\n",
      "100%|██████████| 8/8 [00:00<00:00, 48.51it/s]\n",
      "  4%|▎         | 2/57 [00:00<00:03, 15.92it/s]"
     ]
    },
    {
     "name": "stdout",
     "output_type": "stream",
     "text": [
      "Epoch: 0, train_loss: 0.6788097023963928, valid_loss: 0.6434890031814575\n"
     ]
    },
    {
     "name": "stderr",
     "output_type": "stream",
     "text": [
      "100%|██████████| 57/57 [00:02<00:00, 25.79it/s]\n",
      "100%|██████████| 8/8 [00:00<00:00, 52.05it/s]\n",
      "  4%|▎         | 2/57 [00:00<00:03, 15.81it/s]"
     ]
    },
    {
     "name": "stdout",
     "output_type": "stream",
     "text": [
      "Epoch: 1, train_loss: 0.6048711538314819, valid_loss: 0.591740608215332\n"
     ]
    },
    {
     "name": "stderr",
     "output_type": "stream",
     "text": [
      "100%|██████████| 57/57 [00:02<00:00, 25.72it/s]\n",
      "100%|██████████| 8/8 [00:00<00:00, 49.00it/s]\n",
      "  4%|▎         | 2/57 [00:00<00:03, 18.22it/s]"
     ]
    },
    {
     "name": "stdout",
     "output_type": "stream",
     "text": [
      "Epoch: 2, train_loss: 0.5688776969909668, valid_loss: 0.5800829529762268\n"
     ]
    },
    {
     "name": "stderr",
     "output_type": "stream",
     "text": [
      "100%|██████████| 57/57 [00:02<00:00, 24.33it/s]\n",
      "100%|██████████| 8/8 [00:00<00:00, 45.44it/s]\n",
      "  4%|▎         | 2/57 [00:00<00:03, 16.76it/s]"
     ]
    },
    {
     "name": "stdout",
     "output_type": "stream",
     "text": [
      "Epoch: 3, train_loss: 0.560355544090271, valid_loss: 0.5759415626525879\n"
     ]
    },
    {
     "name": "stderr",
     "output_type": "stream",
     "text": [
      "100%|██████████| 57/57 [00:02<00:00, 22.37it/s]\n",
      "100%|██████████| 8/8 [00:00<00:00, 48.20it/s]\n",
      "  4%|▎         | 2/57 [00:00<00:03, 17.94it/s]"
     ]
    },
    {
     "name": "stdout",
     "output_type": "stream",
     "text": [
      "val loss increased, patience count:  1\n",
      "Epoch: 4, train_loss: 0.5504885315895081, valid_loss: 0.6032788157463074\n"
     ]
    },
    {
     "name": "stderr",
     "output_type": "stream",
     "text": [
      "100%|██████████| 57/57 [00:02<00:00, 24.83it/s]\n",
      "100%|██████████| 8/8 [00:00<00:00, 49.59it/s]\n",
      "  4%|▎         | 2/57 [00:00<00:02, 19.70it/s]"
     ]
    },
    {
     "name": "stdout",
     "output_type": "stream",
     "text": [
      "Epoch: 5, train_loss: 0.5495091676712036, valid_loss: 0.5699496865272522\n"
     ]
    },
    {
     "name": "stderr",
     "output_type": "stream",
     "text": [
      "100%|██████████| 57/57 [00:02<00:00, 24.36it/s]\n",
      "100%|██████████| 8/8 [00:00<00:00, 49.13it/s]\n",
      "  4%|▎         | 2/57 [00:00<00:03, 18.03it/s]"
     ]
    },
    {
     "name": "stdout",
     "output_type": "stream",
     "text": [
      "val loss increased, patience count:  1\n",
      "Epoch: 6, train_loss: 0.5404913425445557, valid_loss: 0.580241322517395\n"
     ]
    },
    {
     "name": "stderr",
     "output_type": "stream",
     "text": [
      "100%|██████████| 57/57 [00:02<00:00, 25.76it/s]\n",
      "100%|██████████| 8/8 [00:00<00:00, 46.55it/s]\n",
      "  4%|▎         | 2/57 [00:00<00:03, 16.66it/s]"
     ]
    },
    {
     "name": "stdout",
     "output_type": "stream",
     "text": [
      "val loss increased, patience count:  2\n",
      "Epoch: 7, train_loss: 0.5371859669685364, valid_loss: 0.5774242877960205\n"
     ]
    },
    {
     "name": "stderr",
     "output_type": "stream",
     "text": [
      "100%|██████████| 57/57 [00:02<00:00, 24.62it/s]\n",
      "100%|██████████| 8/8 [00:00<00:00, 51.48it/s]\n",
      "  0%|          | 0/57 [00:00<?, ?it/s]"
     ]
    },
    {
     "name": "stdout",
     "output_type": "stream",
     "text": [
      "Early stopped at Epoch:  8\n",
      "{'BATCH_SIZE': 256, 'EPOCHS': 20, 'OPTIMIZER': <class 'torch.optim.adam.Adam'>, 'LEARNING_RATE': 0.0001, 'LOSS': CrossEntropyLoss(), 'EARLY_STOPPING': True, 'PATIENCE': 2, 'MIN_DELTA': 5e-05, 'FC_SIZES': array([256, 128,  64]), 'DROPOUT': 0.4}\n"
     ]
    },
    {
     "name": "stderr",
     "output_type": "stream",
     "text": [
      "100%|██████████| 57/57 [00:01<00:00, 38.45it/s]\n",
      "100%|██████████| 8/8 [00:00<00:00, 63.61it/s]\n",
      "  7%|▋         | 4/57 [00:00<00:01, 37.50it/s]"
     ]
    },
    {
     "name": "stdout",
     "output_type": "stream",
     "text": [
      "Epoch: 0, train_loss: 0.6877439022064209, valid_loss: 0.6741857528686523\n"
     ]
    },
    {
     "name": "stderr",
     "output_type": "stream",
     "text": [
      "100%|██████████| 57/57 [00:01<00:00, 39.54it/s]\n",
      "100%|██████████| 8/8 [00:00<00:00, 62.48it/s]\n",
      "  7%|▋         | 4/57 [00:00<00:01, 36.82it/s]"
     ]
    },
    {
     "name": "stdout",
     "output_type": "stream",
     "text": [
      "Epoch: 1, train_loss: 0.643466591835022, valid_loss: 0.617123007774353\n"
     ]
    },
    {
     "name": "stderr",
     "output_type": "stream",
     "text": [
      "100%|██████████| 57/57 [00:01<00:00, 36.38it/s]\n",
      "100%|██████████| 8/8 [00:00<00:00, 45.25it/s]\n",
      "  7%|▋         | 4/57 [00:00<00:01, 39.03it/s]"
     ]
    },
    {
     "name": "stdout",
     "output_type": "stream",
     "text": [
      "Epoch: 2, train_loss: 0.5952773094177246, valid_loss: 0.5910660028457642\n"
     ]
    },
    {
     "name": "stderr",
     "output_type": "stream",
     "text": [
      "100%|██████████| 57/57 [00:01<00:00, 34.20it/s]\n",
      "100%|██████████| 8/8 [00:00<00:00, 63.41it/s]\n",
      "  5%|▌         | 3/57 [00:00<00:02, 24.98it/s]"
     ]
    },
    {
     "name": "stdout",
     "output_type": "stream",
     "text": [
      "Epoch: 3, train_loss: 0.576062798500061, valid_loss: 0.585830569267273\n"
     ]
    },
    {
     "name": "stderr",
     "output_type": "stream",
     "text": [
      "100%|██████████| 57/57 [00:01<00:00, 31.50it/s]\n",
      "100%|██████████| 8/8 [00:00<00:00, 62.25it/s]\n",
      "  7%|▋         | 4/57 [00:00<00:01, 35.01it/s]"
     ]
    },
    {
     "name": "stdout",
     "output_type": "stream",
     "text": [
      "Epoch: 4, train_loss: 0.5656323432922363, valid_loss: 0.5836546421051025\n"
     ]
    },
    {
     "name": "stderr",
     "output_type": "stream",
     "text": [
      "100%|██████████| 57/57 [00:01<00:00, 38.94it/s]\n",
      "100%|██████████| 8/8 [00:00<00:00, 66.04it/s]\n",
      "  7%|▋         | 4/57 [00:00<00:01, 39.03it/s]"
     ]
    },
    {
     "name": "stdout",
     "output_type": "stream",
     "text": [
      "Epoch: 5, train_loss: 0.5567757487297058, valid_loss: 0.5820314884185791\n"
     ]
    },
    {
     "name": "stderr",
     "output_type": "stream",
     "text": [
      "100%|██████████| 57/57 [00:01<00:00, 39.10it/s]\n",
      "100%|██████████| 8/8 [00:00<00:00, 68.28it/s]\n",
      "  7%|▋         | 4/57 [00:00<00:01, 37.52it/s]"
     ]
    },
    {
     "name": "stdout",
     "output_type": "stream",
     "text": [
      "Epoch: 6, train_loss: 0.5559639930725098, valid_loss: 0.5804164409637451\n"
     ]
    },
    {
     "name": "stderr",
     "output_type": "stream",
     "text": [
      "100%|██████████| 57/57 [00:01<00:00, 38.25it/s]\n",
      "100%|██████████| 8/8 [00:00<00:00, 67.71it/s]\n",
      "  7%|▋         | 4/57 [00:00<00:01, 37.58it/s]"
     ]
    },
    {
     "name": "stdout",
     "output_type": "stream",
     "text": [
      "val loss increased, patience count:  1\n",
      "Epoch: 7, train_loss: 0.5490843653678894, valid_loss: 0.5862939357757568\n"
     ]
    },
    {
     "name": "stderr",
     "output_type": "stream",
     "text": [
      "100%|██████████| 57/57 [00:01<00:00, 38.72it/s]\n",
      "100%|██████████| 8/8 [00:00<00:00, 69.77it/s]\n",
      "  7%|▋         | 4/57 [00:00<00:01, 36.48it/s]"
     ]
    },
    {
     "name": "stdout",
     "output_type": "stream",
     "text": [
      "Epoch: 8, train_loss: 0.5414450168609619, valid_loss: 0.5789844393730164\n"
     ]
    },
    {
     "name": "stderr",
     "output_type": "stream",
     "text": [
      "100%|██████████| 57/57 [00:01<00:00, 36.88it/s]\n",
      "100%|██████████| 8/8 [00:00<00:00, 67.63it/s]\n",
      "  7%|▋         | 4/57 [00:00<00:01, 35.55it/s]"
     ]
    },
    {
     "name": "stdout",
     "output_type": "stream",
     "text": [
      "val loss increased, patience count:  1\n",
      "Epoch: 9, train_loss: 0.5396320819854736, valid_loss: 0.5800976157188416\n"
     ]
    },
    {
     "name": "stderr",
     "output_type": "stream",
     "text": [
      "100%|██████████| 57/57 [00:01<00:00, 38.73it/s]\n",
      "100%|██████████| 8/8 [00:00<00:00, 68.56it/s]\n",
      "  7%|▋         | 4/57 [00:00<00:01, 36.72it/s]"
     ]
    },
    {
     "name": "stdout",
     "output_type": "stream",
     "text": [
      "Epoch: 10, train_loss: 0.53471440076828, valid_loss: 0.5777714848518372\n"
     ]
    },
    {
     "name": "stderr",
     "output_type": "stream",
     "text": [
      "100%|██████████| 57/57 [00:01<00:00, 39.79it/s]\n",
      "100%|██████████| 8/8 [00:00<00:00, 70.77it/s]\n",
      "  7%|▋         | 4/57 [00:00<00:01, 36.38it/s]"
     ]
    },
    {
     "name": "stdout",
     "output_type": "stream",
     "text": [
      "Epoch: 11, train_loss: 0.5369992852210999, valid_loss: 0.5693732500076294\n"
     ]
    },
    {
     "name": "stderr",
     "output_type": "stream",
     "text": [
      "100%|██████████| 57/57 [00:01<00:00, 39.31it/s]\n",
      "100%|██████████| 8/8 [00:00<00:00, 66.88it/s]\n",
      "  7%|▋         | 4/57 [00:00<00:01, 36.32it/s]"
     ]
    },
    {
     "name": "stdout",
     "output_type": "stream",
     "text": [
      "val loss increased, patience count:  1\n",
      "Epoch: 12, train_loss: 0.5354863405227661, valid_loss: 0.5801528096199036\n"
     ]
    },
    {
     "name": "stderr",
     "output_type": "stream",
     "text": [
      "100%|██████████| 57/57 [00:01<00:00, 38.61it/s]\n",
      "100%|██████████| 8/8 [00:00<00:00, 67.02it/s]\n",
      "  7%|▋         | 4/57 [00:00<00:01, 35.74it/s]"
     ]
    },
    {
     "name": "stdout",
     "output_type": "stream",
     "text": [
      "val loss increased, patience count:  2\n",
      "Epoch: 13, train_loss: 0.5332410931587219, valid_loss: 0.5781233310699463\n"
     ]
    },
    {
     "name": "stderr",
     "output_type": "stream",
     "text": [
      "100%|██████████| 57/57 [00:01<00:00, 38.42it/s]\n",
      "100%|██████████| 8/8 [00:00<00:00, 68.02it/s]\n",
      "  0%|          | 0/57 [00:00<?, ?it/s]"
     ]
    },
    {
     "name": "stdout",
     "output_type": "stream",
     "text": [
      "Early stopped at Epoch:  14\n",
      "{'BATCH_SIZE': 256, 'EPOCHS': 20, 'OPTIMIZER': <class 'torch.optim.adam.Adam'>, 'LEARNING_RATE': 0.0001, 'LOSS': CrossEntropyLoss(), 'EARLY_STOPPING': True, 'PATIENCE': 2, 'MIN_DELTA': 5e-05, 'FC_SIZES': array([512, 256, 128]), 'DROPOUT': 0.3}\n"
     ]
    },
    {
     "name": "stderr",
     "output_type": "stream",
     "text": [
      "100%|██████████| 57/57 [00:02<00:00, 25.14it/s]\n",
      "100%|██████████| 8/8 [00:00<00:00, 42.68it/s]\n",
      "  5%|▌         | 3/57 [00:00<00:02, 22.78it/s]"
     ]
    },
    {
     "name": "stdout",
     "output_type": "stream",
     "text": [
      "Epoch: 0, train_loss: 0.6661567687988281, valid_loss: 0.6220421195030212\n"
     ]
    },
    {
     "name": "stderr",
     "output_type": "stream",
     "text": [
      "100%|██████████| 57/57 [00:02<00:00, 25.71it/s]\n",
      "100%|██████████| 8/8 [00:00<00:00, 53.15it/s]\n",
      "  5%|▌         | 3/57 [00:00<00:02, 23.42it/s]"
     ]
    },
    {
     "name": "stdout",
     "output_type": "stream",
     "text": [
      "Epoch: 1, train_loss: 0.5848334431648254, valid_loss: 0.587435781955719\n"
     ]
    },
    {
     "name": "stderr",
     "output_type": "stream",
     "text": [
      "100%|██████████| 57/57 [00:02<00:00, 25.06it/s]\n",
      "100%|██████████| 8/8 [00:00<00:00, 51.43it/s]\n",
      "  4%|▎         | 2/57 [00:00<00:03, 18.24it/s]"
     ]
    },
    {
     "name": "stdout",
     "output_type": "stream",
     "text": [
      "Epoch: 2, train_loss: 0.5585665702819824, valid_loss: 0.5796724557876587\n"
     ]
    },
    {
     "name": "stderr",
     "output_type": "stream",
     "text": [
      "100%|██████████| 57/57 [00:02<00:00, 24.73it/s]\n",
      "100%|██████████| 8/8 [00:00<00:00, 49.80it/s]\n",
      "  5%|▌         | 3/57 [00:00<00:02, 21.16it/s]"
     ]
    },
    {
     "name": "stdout",
     "output_type": "stream",
     "text": [
      "val loss increased, patience count:  1\n",
      "Epoch: 3, train_loss: 0.5510957837104797, valid_loss: 0.5809051394462585\n"
     ]
    },
    {
     "name": "stderr",
     "output_type": "stream",
     "text": [
      "100%|██████████| 57/57 [00:02<00:00, 24.58it/s]\n",
      "100%|██████████| 8/8 [00:00<00:00, 49.30it/s]\n",
      "  5%|▌         | 3/57 [00:00<00:02, 24.91it/s]"
     ]
    },
    {
     "name": "stdout",
     "output_type": "stream",
     "text": [
      "val loss increased, patience count:  2\n",
      "Epoch: 4, train_loss: 0.5436502695083618, valid_loss: 0.5839059948921204\n"
     ]
    },
    {
     "name": "stderr",
     "output_type": "stream",
     "text": [
      "100%|██████████| 57/57 [00:02<00:00, 25.06it/s]\n",
      "100%|██████████| 8/8 [00:00<00:00, 48.79it/s]\n",
      "  0%|          | 0/57 [00:00<?, ?it/s]"
     ]
    },
    {
     "name": "stdout",
     "output_type": "stream",
     "text": [
      "Early stopped at Epoch:  5\n",
      "{'BATCH_SIZE': 256, 'EPOCHS': 20, 'OPTIMIZER': <class 'torch.optim.adam.Adam'>, 'LEARNING_RATE': 0.0001, 'LOSS': CrossEntropyLoss(), 'EARLY_STOPPING': True, 'PATIENCE': 2, 'MIN_DELTA': 5e-05, 'FC_SIZES': array([1024,  512,  256]), 'DROPOUT': 0.5}\n"
     ]
    },
    {
     "name": "stderr",
     "output_type": "stream",
     "text": [
      "100%|██████████| 57/57 [00:04<00:00, 14.12it/s]\n",
      "100%|██████████| 8/8 [00:00<00:00, 34.60it/s]\n",
      "  4%|▎         | 2/57 [00:00<00:03, 14.32it/s]"
     ]
    },
    {
     "name": "stdout",
     "output_type": "stream",
     "text": [
      "Epoch: 0, train_loss: 0.6776481866836548, valid_loss: 0.6407449245452881\n"
     ]
    },
    {
     "name": "stderr",
     "output_type": "stream",
     "text": [
      "100%|██████████| 57/57 [00:04<00:00, 14.21it/s]\n",
      "100%|██████████| 8/8 [00:00<00:00, 39.39it/s]\n",
      "  4%|▎         | 2/57 [00:00<00:03, 14.64it/s]"
     ]
    },
    {
     "name": "stdout",
     "output_type": "stream",
     "text": [
      "Epoch: 1, train_loss: 0.5975653529167175, valid_loss: 0.5943154692649841\n"
     ]
    },
    {
     "name": "stderr",
     "output_type": "stream",
     "text": [
      "100%|██████████| 57/57 [00:04<00:00, 14.14it/s]\n",
      "100%|██████████| 8/8 [00:00<00:00, 34.86it/s]\n",
      "  4%|▎         | 2/57 [00:00<00:03, 14.62it/s]"
     ]
    },
    {
     "name": "stdout",
     "output_type": "stream",
     "text": [
      "val loss increased, patience count:  1\n",
      "Epoch: 2, train_loss: 0.5696360468864441, valid_loss: 0.6052706241607666\n"
     ]
    },
    {
     "name": "stderr",
     "output_type": "stream",
     "text": [
      "100%|██████████| 57/57 [00:03<00:00, 14.38it/s]\n",
      "100%|██████████| 8/8 [00:00<00:00, 32.76it/s]\n",
      "  4%|▎         | 2/57 [00:00<00:03, 14.59it/s]"
     ]
    },
    {
     "name": "stdout",
     "output_type": "stream",
     "text": [
      "Epoch: 3, train_loss: 0.5585728883743286, valid_loss: 0.5891755819320679\n"
     ]
    },
    {
     "name": "stderr",
     "output_type": "stream",
     "text": [
      "100%|██████████| 57/57 [00:03<00:00, 14.38it/s]\n",
      "100%|██████████| 8/8 [00:00<00:00, 37.34it/s]\n",
      "  4%|▎         | 2/57 [00:00<00:03, 14.34it/s]"
     ]
    },
    {
     "name": "stdout",
     "output_type": "stream",
     "text": [
      "Epoch: 4, train_loss: 0.5556355118751526, valid_loss: 0.5837883949279785\n"
     ]
    },
    {
     "name": "stderr",
     "output_type": "stream",
     "text": [
      "100%|██████████| 57/57 [00:03<00:00, 14.32it/s]\n",
      "100%|██████████| 8/8 [00:00<00:00, 34.18it/s]\n",
      "  4%|▎         | 2/57 [00:00<00:03, 14.18it/s]"
     ]
    },
    {
     "name": "stdout",
     "output_type": "stream",
     "text": [
      "val loss increased, patience count:  1\n",
      "Epoch: 5, train_loss: 0.5505721569061279, valid_loss: 0.5901687145233154\n"
     ]
    },
    {
     "name": "stderr",
     "output_type": "stream",
     "text": [
      "100%|██████████| 57/57 [00:04<00:00, 14.15it/s]\n",
      "100%|██████████| 8/8 [00:00<00:00, 34.99it/s]\n",
      "  4%|▎         | 2/57 [00:00<00:03, 14.22it/s]"
     ]
    },
    {
     "name": "stdout",
     "output_type": "stream",
     "text": [
      "Epoch: 6, train_loss: 0.5510671734809875, valid_loss: 0.5772244930267334\n"
     ]
    },
    {
     "name": "stderr",
     "output_type": "stream",
     "text": [
      "100%|██████████| 57/57 [00:03<00:00, 14.26it/s]\n",
      "100%|██████████| 8/8 [00:00<00:00, 26.21it/s]\n",
      "  4%|▎         | 2/57 [00:00<00:03, 14.44it/s]"
     ]
    },
    {
     "name": "stdout",
     "output_type": "stream",
     "text": [
      "val loss increased, patience count:  1\n",
      "Epoch: 7, train_loss: 0.5474989414215088, valid_loss: 0.5843738317489624\n"
     ]
    },
    {
     "name": "stderr",
     "output_type": "stream",
     "text": [
      "100%|██████████| 57/57 [00:04<00:00, 14.20it/s]\n",
      "100%|██████████| 8/8 [00:00<00:00, 38.25it/s]\n",
      "  4%|▎         | 2/57 [00:00<00:03, 15.06it/s]"
     ]
    },
    {
     "name": "stdout",
     "output_type": "stream",
     "text": [
      "val loss increased, patience count:  2\n",
      "Epoch: 8, train_loss: 0.5468454957008362, valid_loss: 0.591614842414856\n"
     ]
    },
    {
     "name": "stderr",
     "output_type": "stream",
     "text": [
      "100%|██████████| 57/57 [00:04<00:00, 14.23it/s]\n",
      "100%|██████████| 8/8 [00:00<00:00, 38.48it/s]\n"
     ]
    },
    {
     "name": "stdout",
     "output_type": "stream",
     "text": [
      "Early stopped at Epoch:  9\n"
     ]
    },
    {
     "name": "stderr",
     "output_type": "stream",
     "text": [
      "\r",
      "  0%|          | 0/57 [00:00<?, ?it/s]"
     ]
    },
    {
     "name": "stdout",
     "output_type": "stream",
     "text": [
      "{'BATCH_SIZE': 256, 'EPOCHS': 20, 'OPTIMIZER': <class 'torch.optim.adam.Adam'>, 'LEARNING_RATE': 0.0001, 'LOSS': CrossEntropyLoss(), 'EARLY_STOPPING': True, 'PATIENCE': 2, 'MIN_DELTA': 5e-05, 'FC_SIZES': array([1024,  512,  256,  128]), 'DROPOUT': 0.6}\n"
     ]
    },
    {
     "name": "stderr",
     "output_type": "stream",
     "text": [
      "100%|██████████| 57/57 [00:04<00:00, 11.58it/s]\n",
      "100%|██████████| 8/8 [00:00<00:00, 28.38it/s]\n",
      "  2%|▏         | 1/57 [00:00<00:06,  8.75it/s]"
     ]
    },
    {
     "name": "stdout",
     "output_type": "stream",
     "text": [
      "Epoch: 0, train_loss: 0.6927005052566528, valid_loss: 0.6913001537322998\n"
     ]
    },
    {
     "name": "stderr",
     "output_type": "stream",
     "text": [
      "100%|██████████| 57/57 [00:04<00:00, 12.29it/s]\n",
      "100%|██████████| 8/8 [00:00<00:00, 36.64it/s]\n",
      "  4%|▎         | 2/57 [00:00<00:04, 11.34it/s]"
     ]
    },
    {
     "name": "stdout",
     "output_type": "stream",
     "text": [
      "Epoch: 1, train_loss: 0.6855357885360718, valid_loss: 0.6660175323486328\n"
     ]
    },
    {
     "name": "stderr",
     "output_type": "stream",
     "text": [
      "100%|██████████| 57/57 [00:04<00:00, 13.38it/s]\n",
      "100%|██████████| 8/8 [00:00<00:00, 38.59it/s]\n",
      "  4%|▎         | 2/57 [00:00<00:03, 14.06it/s]"
     ]
    },
    {
     "name": "stdout",
     "output_type": "stream",
     "text": [
      "Epoch: 2, train_loss: 0.6315666437149048, valid_loss: 0.6020146012306213\n"
     ]
    },
    {
     "name": "stderr",
     "output_type": "stream",
     "text": [
      "100%|██████████| 57/57 [00:04<00:00, 13.23it/s]\n",
      "100%|██████████| 8/8 [00:00<00:00, 32.47it/s]\n",
      "  4%|▎         | 2/57 [00:00<00:04, 13.75it/s]"
     ]
    },
    {
     "name": "stdout",
     "output_type": "stream",
     "text": [
      "Epoch: 3, train_loss: 0.5831723809242249, valid_loss: 0.5932090282440186\n"
     ]
    },
    {
     "name": "stderr",
     "output_type": "stream",
     "text": [
      "100%|██████████| 57/57 [00:04<00:00, 12.37it/s]\n",
      "100%|██████████| 8/8 [00:00<00:00, 33.21it/s]\n",
      "  4%|▎         | 2/57 [00:00<00:03, 13.79it/s]"
     ]
    },
    {
     "name": "stdout",
     "output_type": "stream",
     "text": [
      "Epoch: 4, train_loss: 0.5739114284515381, valid_loss: 0.5852257013320923\n"
     ]
    },
    {
     "name": "stderr",
     "output_type": "stream",
     "text": [
      "100%|██████████| 57/57 [00:04<00:00, 13.69it/s]\n",
      "100%|██████████| 8/8 [00:00<00:00, 33.91it/s]\n",
      "  4%|▎         | 2/57 [00:00<00:03, 14.52it/s]"
     ]
    },
    {
     "name": "stdout",
     "output_type": "stream",
     "text": [
      "val loss increased, patience count:  1\n",
      "Epoch: 5, train_loss: 0.5684850811958313, valid_loss: 0.5920007228851318\n"
     ]
    },
    {
     "name": "stderr",
     "output_type": "stream",
     "text": [
      "100%|██████████| 57/57 [00:04<00:00, 13.53it/s]\n",
      "100%|██████████| 8/8 [00:00<00:00, 34.57it/s]\n",
      "  4%|▎         | 2/57 [00:00<00:03, 14.35it/s]"
     ]
    },
    {
     "name": "stdout",
     "output_type": "stream",
     "text": [
      "val loss increased, patience count:  2\n",
      "Epoch: 6, train_loss: 0.5660962462425232, valid_loss: 0.585774838924408\n"
     ]
    },
    {
     "name": "stderr",
     "output_type": "stream",
     "text": [
      "100%|██████████| 57/57 [00:04<00:00, 13.73it/s]\n",
      "100%|██████████| 8/8 [00:00<00:00, 33.94it/s]\n"
     ]
    },
    {
     "name": "stdout",
     "output_type": "stream",
     "text": [
      "Early stopped at Epoch:  7\n"
     ]
    },
    {
     "name": "stderr",
     "output_type": "stream",
     "text": [
      "  5%|▌         | 3/57 [00:00<00:02, 24.69it/s]"
     ]
    },
    {
     "name": "stdout",
     "output_type": "stream",
     "text": [
      "{'BATCH_SIZE': 256, 'EPOCHS': 20, 'OPTIMIZER': <class 'torch.optim.adam.Adam'>, 'LEARNING_RATE': 0.0001, 'LOSS': CrossEntropyLoss(), 'EARLY_STOPPING': True, 'PATIENCE': 2, 'MIN_DELTA': 5e-05, 'FC_SIZES': array([512, 256, 128,  64]), 'DROPOUT': 0.0}\n"
     ]
    },
    {
     "name": "stderr",
     "output_type": "stream",
     "text": [
      "100%|██████████| 57/57 [00:02<00:00, 24.95it/s]\n",
      "100%|██████████| 8/8 [00:00<00:00, 47.97it/s]\n",
      "  5%|▌         | 3/57 [00:00<00:02, 25.50it/s]"
     ]
    },
    {
     "name": "stdout",
     "output_type": "stream",
     "text": [
      "Epoch: 0, train_loss: 0.665225625038147, valid_loss: 0.6137487292289734\n"
     ]
    },
    {
     "name": "stderr",
     "output_type": "stream",
     "text": [
      "100%|██████████| 57/57 [00:02<00:00, 25.37it/s]\n",
      "100%|██████████| 8/8 [00:00<00:00, 47.49it/s]\n",
      "  5%|▌         | 3/57 [00:00<00:02, 26.52it/s]"
     ]
    },
    {
     "name": "stdout",
     "output_type": "stream",
     "text": [
      "Epoch: 1, train_loss: 0.5696389675140381, valid_loss: 0.5788608193397522\n"
     ]
    },
    {
     "name": "stderr",
     "output_type": "stream",
     "text": [
      "100%|██████████| 57/57 [00:02<00:00, 24.62it/s]\n",
      "100%|██████████| 8/8 [00:00<00:00, 48.15it/s]\n",
      "  5%|▌         | 3/57 [00:00<00:02, 25.44it/s]"
     ]
    },
    {
     "name": "stdout",
     "output_type": "stream",
     "text": [
      "val loss increased, patience count:  1\n",
      "Epoch: 2, train_loss: 0.5428588390350342, valid_loss: 0.5833613872528076\n"
     ]
    },
    {
     "name": "stderr",
     "output_type": "stream",
     "text": [
      "100%|██████████| 57/57 [00:02<00:00, 25.29it/s]\n",
      "100%|██████████| 8/8 [00:00<00:00, 48.00it/s]\n",
      "  5%|▌         | 3/57 [00:00<00:02, 25.33it/s]"
     ]
    },
    {
     "name": "stdout",
     "output_type": "stream",
     "text": [
      "Epoch: 3, train_loss: 0.530619204044342, valid_loss: 0.5697942972183228\n"
     ]
    },
    {
     "name": "stderr",
     "output_type": "stream",
     "text": [
      "100%|██████████| 57/57 [00:02<00:00, 25.05it/s]\n",
      "100%|██████████| 8/8 [00:00<00:00, 49.09it/s]\n",
      "  5%|▌         | 3/57 [00:00<00:02, 26.50it/s]"
     ]
    },
    {
     "name": "stdout",
     "output_type": "stream",
     "text": [
      "Epoch: 4, train_loss: 0.51759934425354, valid_loss: 0.5605030059814453\n"
     ]
    },
    {
     "name": "stderr",
     "output_type": "stream",
     "text": [
      "100%|██████████| 57/57 [00:02<00:00, 25.27it/s]\n",
      "100%|██████████| 8/8 [00:00<00:00, 48.29it/s]\n",
      "  5%|▌         | 3/57 [00:00<00:02, 26.21it/s]"
     ]
    },
    {
     "name": "stdout",
     "output_type": "stream",
     "text": [
      "val loss increased, patience count:  1\n",
      "Epoch: 5, train_loss: 0.5056621432304382, valid_loss: 0.5659180879592896\n"
     ]
    },
    {
     "name": "stderr",
     "output_type": "stream",
     "text": [
      "100%|██████████| 57/57 [00:02<00:00, 25.25it/s]\n",
      "100%|██████████| 8/8 [00:00<00:00, 47.38it/s]\n",
      "  5%|▌         | 3/57 [00:00<00:02, 26.98it/s]"
     ]
    },
    {
     "name": "stdout",
     "output_type": "stream",
     "text": [
      "val loss increased, patience count:  2\n",
      "Epoch: 6, train_loss: 0.5005866289138794, valid_loss: 0.5606860518455505\n"
     ]
    },
    {
     "name": "stderr",
     "output_type": "stream",
     "text": [
      "100%|██████████| 57/57 [00:02<00:00, 25.50it/s]\n",
      "100%|██████████| 8/8 [00:00<00:00, 48.16it/s]\n",
      "  0%|          | 0/57 [00:00<?, ?it/s]"
     ]
    },
    {
     "name": "stdout",
     "output_type": "stream",
     "text": [
      "Early stopped at Epoch:  7\n",
      "{'BATCH_SIZE': 256, 'EPOCHS': 20, 'OPTIMIZER': <class 'torch.optim.adam.Adam'>, 'LEARNING_RATE': 0.0001, 'LOSS': CrossEntropyLoss(), 'EARLY_STOPPING': True, 'PATIENCE': 2, 'MIN_DELTA': 5e-05, 'FC_SIZES': array([1024,  512,  256,  128]), 'DROPOUT': 0.2}\n"
     ]
    },
    {
     "name": "stderr",
     "output_type": "stream",
     "text": [
      "100%|██████████| 57/57 [00:04<00:00, 13.68it/s]\n",
      "100%|██████████| 8/8 [00:00<00:00, 33.87it/s]\n",
      "  4%|▎         | 2/57 [00:00<00:03, 14.22it/s]"
     ]
    },
    {
     "name": "stdout",
     "output_type": "stream",
     "text": [
      "Epoch: 0, train_loss: 0.6630822420120239, valid_loss: 0.6068713665008545\n"
     ]
    },
    {
     "name": "stderr",
     "output_type": "stream",
     "text": [
      "100%|██████████| 57/57 [00:04<00:00, 13.61it/s]\n",
      "100%|██████████| 8/8 [00:00<00:00, 39.72it/s]\n",
      "  4%|▎         | 2/57 [00:00<00:03, 14.16it/s]"
     ]
    },
    {
     "name": "stdout",
     "output_type": "stream",
     "text": [
      "Epoch: 1, train_loss: 0.568824827671051, valid_loss: 0.5801495313644409\n"
     ]
    },
    {
     "name": "stderr",
     "output_type": "stream",
     "text": [
      "100%|██████████| 57/57 [00:04<00:00, 13.79it/s]\n",
      "100%|██████████| 8/8 [00:00<00:00, 36.01it/s]\n",
      "  4%|▎         | 2/57 [00:00<00:03, 14.62it/s]"
     ]
    },
    {
     "name": "stdout",
     "output_type": "stream",
     "text": [
      "Epoch: 2, train_loss: 0.5512437224388123, valid_loss: 0.575173556804657\n"
     ]
    },
    {
     "name": "stderr",
     "output_type": "stream",
     "text": [
      "100%|██████████| 57/57 [00:04<00:00, 13.47it/s]\n",
      "100%|██████████| 8/8 [00:00<00:00, 34.44it/s]\n",
      "  4%|▎         | 2/57 [00:00<00:03, 13.95it/s]"
     ]
    },
    {
     "name": "stdout",
     "output_type": "stream",
     "text": [
      "Epoch: 3, train_loss: 0.5391974449157715, valid_loss: 0.5745024085044861\n"
     ]
    },
    {
     "name": "stderr",
     "output_type": "stream",
     "text": [
      "100%|██████████| 57/57 [00:04<00:00, 13.58it/s]\n",
      "100%|██████████| 8/8 [00:00<00:00, 34.41it/s]\n",
      "  4%|▎         | 2/57 [00:00<00:03, 15.30it/s]"
     ]
    },
    {
     "name": "stdout",
     "output_type": "stream",
     "text": [
      "Epoch: 4, train_loss: 0.5255647897720337, valid_loss: 0.5683081746101379\n"
     ]
    },
    {
     "name": "stderr",
     "output_type": "stream",
     "text": [
      "100%|██████████| 57/57 [00:04<00:00, 13.77it/s]\n",
      "100%|██████████| 8/8 [00:00<00:00, 37.40it/s]\n",
      "  4%|▎         | 2/57 [00:00<00:03, 15.52it/s]"
     ]
    },
    {
     "name": "stdout",
     "output_type": "stream",
     "text": [
      "Epoch: 5, train_loss: 0.5213651061058044, valid_loss: 0.5596831440925598\n"
     ]
    },
    {
     "name": "stderr",
     "output_type": "stream",
     "text": [
      "100%|██████████| 57/57 [00:04<00:00, 13.82it/s]\n",
      "100%|██████████| 8/8 [00:00<00:00, 33.71it/s]\n",
      "  4%|▎         | 2/57 [00:00<00:03, 13.77it/s]"
     ]
    },
    {
     "name": "stdout",
     "output_type": "stream",
     "text": [
      "val loss increased, patience count:  1\n",
      "Epoch: 6, train_loss: 0.5175406336784363, valid_loss: 0.5744672417640686\n"
     ]
    },
    {
     "name": "stderr",
     "output_type": "stream",
     "text": [
      "100%|██████████| 57/57 [00:04<00:00, 13.60it/s]\n",
      "100%|██████████| 8/8 [00:00<00:00, 28.99it/s]\n",
      "  4%|▎         | 2/57 [00:00<00:03, 14.36it/s]"
     ]
    },
    {
     "name": "stdout",
     "output_type": "stream",
     "text": [
      "val loss increased, patience count:  2\n",
      "Epoch: 7, train_loss: 0.51323002576828, valid_loss: 0.5617157220840454\n"
     ]
    },
    {
     "name": "stderr",
     "output_type": "stream",
     "text": [
      "100%|██████████| 57/57 [00:04<00:00, 13.74it/s]\n",
      "100%|██████████| 8/8 [00:00<00:00, 35.34it/s]\n"
     ]
    },
    {
     "name": "stdout",
     "output_type": "stream",
     "text": [
      "Early stopped at Epoch:  8\n"
     ]
    },
    {
     "name": "stderr",
     "output_type": "stream",
     "text": [
      "  5%|▌         | 3/57 [00:00<00:02, 24.90it/s]"
     ]
    },
    {
     "name": "stdout",
     "output_type": "stream",
     "text": [
      "{'BATCH_SIZE': 256, 'EPOCHS': 20, 'OPTIMIZER': <class 'torch.optim.adam.Adam'>, 'LEARNING_RATE': 0.0001, 'LOSS': CrossEntropyLoss(), 'EARLY_STOPPING': True, 'PATIENCE': 2, 'MIN_DELTA': 5e-05, 'FC_SIZES': array([512, 256, 128,  64]), 'DROPOUT': 0.0}\n"
     ]
    },
    {
     "name": "stderr",
     "output_type": "stream",
     "text": [
      "100%|██████████| 57/57 [00:02<00:00, 25.36it/s]\n",
      "100%|██████████| 8/8 [00:00<00:00, 45.64it/s]\n",
      "  5%|▌         | 3/57 [00:00<00:02, 25.49it/s]"
     ]
    },
    {
     "name": "stdout",
     "output_type": "stream",
     "text": [
      "Epoch: 0, train_loss: 0.6624584794044495, valid_loss: 0.6128974556922913\n"
     ]
    },
    {
     "name": "stderr",
     "output_type": "stream",
     "text": [
      "100%|██████████| 57/57 [00:02<00:00, 25.55it/s]\n",
      "100%|██████████| 8/8 [00:00<00:00, 47.06it/s]\n",
      "  5%|▌         | 3/57 [00:00<00:02, 26.99it/s]"
     ]
    },
    {
     "name": "stdout",
     "output_type": "stream",
     "text": [
      "Epoch: 1, train_loss: 0.5667227506637573, valid_loss: 0.5817747116088867\n"
     ]
    },
    {
     "name": "stderr",
     "output_type": "stream",
     "text": [
      "100%|██████████| 57/57 [00:02<00:00, 25.54it/s]\n",
      "100%|██████████| 8/8 [00:00<00:00, 47.05it/s]\n",
      "  5%|▌         | 3/57 [00:00<00:02, 26.54it/s]"
     ]
    },
    {
     "name": "stdout",
     "output_type": "stream",
     "text": [
      "Epoch: 2, train_loss: 0.5410277843475342, valid_loss: 0.5744630098342896\n"
     ]
    },
    {
     "name": "stderr",
     "output_type": "stream",
     "text": [
      "100%|██████████| 57/57 [00:02<00:00, 25.35it/s]\n",
      "100%|██████████| 8/8 [00:00<00:00, 47.15it/s]\n",
      "  5%|▌         | 3/57 [00:00<00:02, 26.23it/s]"
     ]
    },
    {
     "name": "stdout",
     "output_type": "stream",
     "text": [
      "Epoch: 3, train_loss: 0.5265920162200928, valid_loss: 0.5688707828521729\n"
     ]
    },
    {
     "name": "stderr",
     "output_type": "stream",
     "text": [
      "100%|██████████| 57/57 [00:02<00:00, 25.38it/s]\n",
      "100%|██████████| 8/8 [00:00<00:00, 46.68it/s]\n",
      "  5%|▌         | 3/57 [00:00<00:01, 27.21it/s]"
     ]
    },
    {
     "name": "stdout",
     "output_type": "stream",
     "text": [
      "Epoch: 4, train_loss: 0.5159434676170349, valid_loss: 0.5625243186950684\n"
     ]
    },
    {
     "name": "stderr",
     "output_type": "stream",
     "text": [
      "100%|██████████| 57/57 [00:02<00:00, 25.04it/s]\n",
      "100%|██████████| 8/8 [00:00<00:00, 49.60it/s]\n",
      "  5%|▌         | 3/57 [00:00<00:02, 25.61it/s]"
     ]
    },
    {
     "name": "stdout",
     "output_type": "stream",
     "text": [
      "val loss increased, patience count:  1\n",
      "Epoch: 5, train_loss: 0.5052130818367004, valid_loss: 0.5667052865028381\n"
     ]
    },
    {
     "name": "stderr",
     "output_type": "stream",
     "text": [
      "100%|██████████| 57/57 [00:02<00:00, 24.39it/s]\n",
      "100%|██████████| 8/8 [00:00<00:00, 46.12it/s]\n",
      "  5%|▌         | 3/57 [00:00<00:02, 24.48it/s]"
     ]
    },
    {
     "name": "stdout",
     "output_type": "stream",
     "text": [
      "Epoch: 6, train_loss: 0.49470579624176025, valid_loss: 0.5561565160751343\n"
     ]
    },
    {
     "name": "stderr",
     "output_type": "stream",
     "text": [
      "100%|██████████| 57/57 [00:02<00:00, 19.36it/s]\n",
      "100%|██████████| 8/8 [00:00<00:00, 32.48it/s]\n",
      "  4%|▎         | 2/57 [00:00<00:03, 15.83it/s]"
     ]
    },
    {
     "name": "stdout",
     "output_type": "stream",
     "text": [
      "val loss increased, patience count:  1\n",
      "Epoch: 7, train_loss: 0.4991138279438019, valid_loss: 0.5673024654388428\n"
     ]
    },
    {
     "name": "stderr",
     "output_type": "stream",
     "text": [
      "100%|██████████| 57/57 [00:02<00:00, 20.07it/s]\n",
      "100%|██████████| 8/8 [00:00<00:00, 46.18it/s]\n",
      "  5%|▌         | 3/57 [00:00<00:02, 24.74it/s]"
     ]
    },
    {
     "name": "stdout",
     "output_type": "stream",
     "text": [
      "val loss increased, patience count:  2\n",
      "Epoch: 8, train_loss: 0.48064500093460083, valid_loss: 0.5641711950302124\n"
     ]
    },
    {
     "name": "stderr",
     "output_type": "stream",
     "text": [
      "100%|██████████| 57/57 [00:02<00:00, 21.99it/s]\n",
      "100%|██████████| 8/8 [00:00<00:00, 42.92it/s]\n",
      "  0%|          | 0/57 [00:00<?, ?it/s]"
     ]
    },
    {
     "name": "stdout",
     "output_type": "stream",
     "text": [
      "Early stopped at Epoch:  9\n",
      "{'BATCH_SIZE': 256, 'EPOCHS': 20, 'OPTIMIZER': <class 'torch.optim.adam.Adam'>, 'LEARNING_RATE': 0.0001, 'LOSS': CrossEntropyLoss(), 'EARLY_STOPPING': True, 'PATIENCE': 2, 'MIN_DELTA': 5e-05, 'FC_SIZES': array([1024,  512,  256,  128]), 'DROPOUT': 0.2}\n"
     ]
    },
    {
     "name": "stderr",
     "output_type": "stream",
     "text": [
      "100%|██████████| 57/57 [00:04<00:00, 12.55it/s]\n",
      "100%|██████████| 8/8 [00:00<00:00, 34.15it/s]\n",
      "  4%|▎         | 2/57 [00:00<00:03, 14.19it/s]"
     ]
    },
    {
     "name": "stdout",
     "output_type": "stream",
     "text": [
      "Epoch: 0, train_loss: 0.6554171442985535, valid_loss: 0.619066596031189\n"
     ]
    },
    {
     "name": "stderr",
     "output_type": "stream",
     "text": [
      "100%|██████████| 57/57 [00:04<00:00, 13.04it/s]\n",
      "100%|██████████| 8/8 [00:00<00:00, 26.54it/s]\n",
      "  2%|▏         | 1/57 [00:00<00:06,  9.00it/s]"
     ]
    },
    {
     "name": "stdout",
     "output_type": "stream",
     "text": [
      "Epoch: 1, train_loss: 0.5656184554100037, valid_loss: 0.5831954479217529\n"
     ]
    },
    {
     "name": "stderr",
     "output_type": "stream",
     "text": [
      "100%|██████████| 57/57 [00:04<00:00, 12.53it/s]\n",
      "100%|██████████| 8/8 [00:00<00:00, 28.79it/s]\n",
      "  4%|▎         | 2/57 [00:00<00:04, 13.07it/s]"
     ]
    },
    {
     "name": "stdout",
     "output_type": "stream",
     "text": [
      "Epoch: 2, train_loss: 0.5480050444602966, valid_loss: 0.573277473449707\n"
     ]
    },
    {
     "name": "stderr",
     "output_type": "stream",
     "text": [
      "100%|██████████| 57/57 [00:04<00:00, 12.80it/s]\n",
      "100%|██████████| 8/8 [00:00<00:00, 33.77it/s]\n",
      "  4%|▎         | 2/57 [00:00<00:03, 14.59it/s]"
     ]
    },
    {
     "name": "stdout",
     "output_type": "stream",
     "text": [
      "Epoch: 3, train_loss: 0.5361031889915466, valid_loss: 0.571494460105896\n"
     ]
    },
    {
     "name": "stderr",
     "output_type": "stream",
     "text": [
      "100%|██████████| 57/57 [00:04<00:00, 13.58it/s]\n",
      "100%|██████████| 8/8 [00:00<00:00, 35.30it/s]\n",
      "  4%|▎         | 2/57 [00:00<00:04, 13.10it/s]"
     ]
    },
    {
     "name": "stdout",
     "output_type": "stream",
     "text": [
      "val loss increased, patience count:  1\n",
      "Epoch: 4, train_loss: 0.5258565545082092, valid_loss: 0.5717192888259888\n"
     ]
    },
    {
     "name": "stderr",
     "output_type": "stream",
     "text": [
      "100%|██████████| 57/57 [00:04<00:00, 12.19it/s]\n",
      "100%|██████████| 8/8 [00:00<00:00, 31.43it/s]\n",
      "  4%|▎         | 2/57 [00:00<00:03, 14.29it/s]"
     ]
    },
    {
     "name": "stdout",
     "output_type": "stream",
     "text": [
      "val loss increased, patience count:  2\n",
      "Epoch: 5, train_loss: 0.5234124660491943, valid_loss: 0.5764535665512085\n"
     ]
    },
    {
     "name": "stderr",
     "output_type": "stream",
     "text": [
      "100%|██████████| 57/57 [00:04<00:00, 12.92it/s]\n",
      "100%|██████████| 8/8 [00:00<00:00, 30.30it/s]\n",
      "  4%|▎         | 2/57 [00:00<00:04, 13.74it/s]"
     ]
    },
    {
     "name": "stdout",
     "output_type": "stream",
     "text": [
      "Epoch: 6, train_loss: 0.5161067247390747, valid_loss: 0.5676559209823608\n"
     ]
    },
    {
     "name": "stderr",
     "output_type": "stream",
     "text": [
      "100%|██████████| 57/57 [00:04<00:00, 13.29it/s]\n",
      "100%|██████████| 8/8 [00:00<00:00, 33.63it/s]\n",
      "  4%|▎         | 2/57 [00:00<00:04, 12.51it/s]"
     ]
    },
    {
     "name": "stdout",
     "output_type": "stream",
     "text": [
      "Epoch: 7, train_loss: 0.510333776473999, valid_loss: 0.5659023523330688\n"
     ]
    },
    {
     "name": "stderr",
     "output_type": "stream",
     "text": [
      "100%|██████████| 57/57 [00:04<00:00, 13.09it/s]\n",
      "100%|██████████| 8/8 [00:00<00:00, 31.23it/s]\n",
      "  4%|▎         | 2/57 [00:00<00:03, 14.47it/s]"
     ]
    },
    {
     "name": "stdout",
     "output_type": "stream",
     "text": [
      "Epoch: 8, train_loss: 0.509347140789032, valid_loss: 0.5597867369651794\n"
     ]
    },
    {
     "name": "stderr",
     "output_type": "stream",
     "text": [
      "100%|██████████| 57/57 [00:04<00:00, 13.49it/s]\n",
      "100%|██████████| 8/8 [00:00<00:00, 37.78it/s]\n",
      "  4%|▎         | 2/57 [00:00<00:04, 13.49it/s]"
     ]
    },
    {
     "name": "stdout",
     "output_type": "stream",
     "text": [
      "val loss increased, patience count:  1\n",
      "Epoch: 9, train_loss: 0.5033400058746338, valid_loss: 0.5905455946922302\n"
     ]
    },
    {
     "name": "stderr",
     "output_type": "stream",
     "text": [
      "100%|██████████| 57/57 [00:04<00:00, 13.42it/s]\n",
      "100%|██████████| 8/8 [00:00<00:00, 34.02it/s]\n",
      "  4%|▎         | 2/57 [00:00<00:03, 13.99it/s]"
     ]
    },
    {
     "name": "stdout",
     "output_type": "stream",
     "text": [
      "Epoch: 10, train_loss: 0.5002127289772034, valid_loss: 0.5578606724739075\n"
     ]
    },
    {
     "name": "stderr",
     "output_type": "stream",
     "text": [
      "100%|██████████| 57/57 [00:04<00:00, 13.37it/s]\n",
      "100%|██████████| 8/8 [00:00<00:00, 35.29it/s]\n",
      "  4%|▎         | 2/57 [00:00<00:04, 13.75it/s]"
     ]
    },
    {
     "name": "stdout",
     "output_type": "stream",
     "text": [
      "val loss increased, patience count:  1\n",
      "Epoch: 11, train_loss: 0.49900394678115845, valid_loss: 0.5658320188522339\n"
     ]
    },
    {
     "name": "stderr",
     "output_type": "stream",
     "text": [
      "100%|██████████| 57/57 [00:04<00:00, 13.47it/s]\n",
      "100%|██████████| 8/8 [00:00<00:00, 32.90it/s]\n",
      "  4%|▎         | 2/57 [00:00<00:04, 13.53it/s]"
     ]
    },
    {
     "name": "stdout",
     "output_type": "stream",
     "text": [
      "val loss increased, patience count:  2\n",
      "Epoch: 12, train_loss: 0.49110695719718933, valid_loss: 0.57680344581604\n"
     ]
    },
    {
     "name": "stderr",
     "output_type": "stream",
     "text": [
      "100%|██████████| 57/57 [00:04<00:00, 13.26it/s]\n",
      "100%|██████████| 8/8 [00:00<00:00, 35.51it/s]\n"
     ]
    },
    {
     "name": "stdout",
     "output_type": "stream",
     "text": [
      "Early stopped at Epoch:  13\n"
     ]
    }
   ],
   "source": [
    "stats = []\n",
    "for i in np.arange(N): \n",
    "    print(param_samples[i])\n",
    "    run = TrainTest(MLP, (train, val, test), param_samples[i], [])\n",
    "    run.train()\n",
    "    stats.append(run.test())"
   ]
  },
  {
   "cell_type": "code",
   "execution_count": 7,
   "metadata": {},
   "outputs": [],
   "source": [
    "for i in np.arange(N):\n",
    "    for key,val in stats[i].items():\n",
    "        param_samples[i][key] = val\n",
    "\n",
    "torch.save(param_samples, 'results/MLP_experiment_N'+str(N)+'.pkl')\n",
    "\n",
    "import pandas as pd\n",
    "results = pd.DataFrame(param_samples).sort_values(by='auroc', ascending=False)\n",
    "#torch.save(results, 'results/CNN1D_experiment_N'+str(N)+'.pkl')"
   ]
  }
 ],
 "metadata": {
  "kernelspec": {
   "display_name": "deeplearning",
   "language": "python",
   "name": "deeplearning"
  },
  "language_info": {
   "codemirror_mode": {
    "name": "ipython",
    "version": 3
   },
   "file_extension": ".py",
   "mimetype": "text/x-python",
   "name": "python",
   "nbconvert_exporter": "python",
   "pygments_lexer": "ipython3",
   "version": "3.8.3"
  }
 },
 "nbformat": 4,
 "nbformat_minor": 2
}
