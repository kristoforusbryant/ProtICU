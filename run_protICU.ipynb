{
 "cells": [
  {
   "cell_type": "code",
   "execution_count": 1,
   "metadata": {},
   "outputs": [],
   "source": [
    "import torch \n",
    "import torch.nn as nn \n",
    "import numpy as np\n",
    "from collections import OrderedDict\n",
    "\n",
    "from utils.losses import protop_loss\n",
    "from utils.sample_parameters import SingleGenerator, HiddenAndKernelGenerator, MonotonicGenerator\n",
    "from utils.sample_parameters import ParamGenerators\n",
    "from models.ProtICU import ProtICU\n",
    "from utils.train_n_test import TrainTest"
   ]
  },
  {
   "cell_type": "code",
   "execution_count": null,
   "metadata": {},
   "outputs": [],
   "source": [
    "x = "
   ]
  },
  {
   "cell_type": "code",
   "execution_count": 2,
   "metadata": {},
   "outputs": [],
   "source": [
    "train, val, test = torch.load('data/in-hospital-mortality/tensors.pkl')"
   ]
  },
  {
   "cell_type": "code",
   "execution_count": 3,
   "metadata": {},
   "outputs": [],
   "source": [
    "# Calculating class weights\n",
    "perc_mort = np.concatenate((train[1], val[1], test[1])).mean()\n",
    "class_weights = torch.Tensor([perc_mort, 1-perc_mort])"
   ]
  },
  {
   "cell_type": "code",
   "execution_count": 4,
   "metadata": {},
   "outputs": [],
   "source": [
    "generators_dict = {\n",
    "    # HYPERMARAMETER RANGES\n",
    "    'BATCH_SIZE': SingleGenerator([128, 256, 512]),\n",
    "    'EPOCHS': SingleGenerator([20, 40, 50]),\n",
    "    'OPTIMIZER': SingleGenerator([torch.optim.Adam]),\n",
    "    'LEARNING_RATE': SingleGenerator([1e-5, 5e-5, 1e-4, 5e-4]),\n",
    "    'LOSS': SingleGenerator([protop_loss(class_weights, .5 , .5), protop_loss(class_weights, 1, 1),\n",
    "                             protop_loss(class_weights, .1 , .1), protop_loss(class_weights, 1 , .5),\n",
    "                             protop_loss(class_weights, .5 , .1), protop_loss(class_weights, .3 , .1)]),\n",
    "    'EARLY_STOPPING': SingleGenerator([True]),\n",
    "    'PATIENCE': SingleGenerator(list(range(2,4))),\n",
    "    'MIN_DELTA': SingleGenerator([5e-5, 1e-4, 5e-4, 1e-3, 5e-3]), \n",
    "\n",
    "    # NETWORK PARAMETER RANGES\n",
    "    'HIDDEN_AND_KERNEL_SIZES': HiddenAndKernelGenerator(range(2,4), [128, 256, 512], [3, 5, 7, 9], \n",
    "                               ascending=(True, False)),\n",
    "    'MAXPOOL': SingleGenerator([2]),\n",
    "    'OBO_SIZES': MonotonicGenerator(range(1,3), [256, 512], ascending=False),\n",
    "    'PROTOTYPE_NUM': SingleGenerator([10,20]),\n",
    "    'DROPOUT': SingleGenerator(np.arange(8)/10)\n",
    "} # each of these params are sampled INDEPENDENTLY of one another"
   ]
  },
  {
   "cell_type": "code",
   "execution_count": 5,
   "metadata": {},
   "outputs": [],
   "source": [
    "N = 1\n",
    "gen = ParamGenerators(generators_dict)\n",
    "param_samples = gen.sample(N)"
   ]
  },
  {
   "cell_type": "code",
   "execution_count": 8,
   "metadata": {
    "scrolled": true
   },
   "outputs": [
    {
     "name": "stderr",
     "output_type": "stream",
     "text": [
      "\r",
      "  0%|          | 0/57 [00:00<?, ?it/s]"
     ]
    },
    {
     "name": "stdout",
     "output_type": "stream",
     "text": [
      "{'BATCH_SIZE': 256, 'EPOCHS': 40, 'OPTIMIZER': <class 'torch.optim.adam.Adam'>, 'LEARNING_RATE': 1e-05, 'LOSS': protop_loss_1_1, 'EARLY_STOPPING': True, 'PATIENCE': 3, 'MIN_DELTA': 0.005, 'MAXPOOL': 2, 'OBO_SIZES': array([64]), 'PROTOTYPE_NUM': 10, 'DROPOUT': 0.2, 'HIDDEN_SIZES': array([256, 512]), 'KERNEL_SIZES': array([5, 3])}\n"
     ]
    },
    {
     "name": "stderr",
     "output_type": "stream",
     "text": [
      "100%|██████████| 57/57 [00:21<00:00,  2.64it/s]\n",
      "100%|██████████| 8/8 [00:00<00:00,  8.51it/s]\n",
      "  0%|          | 0/57 [00:00<?, ?it/s]"
     ]
    },
    {
     "name": "stdout",
     "output_type": "stream",
     "text": [
      "Epoch: 0, train_loss: -0.036058209836483, valid_loss: -0.3903042674064636\n"
     ]
    },
    {
     "name": "stderr",
     "output_type": "stream",
     "text": [
      "100%|██████████| 57/57 [00:20<00:00,  2.79it/s]\n",
      "100%|██████████| 8/8 [00:00<00:00,  8.37it/s]\n",
      "  0%|          | 0/57 [00:00<?, ?it/s]"
     ]
    },
    {
     "name": "stdout",
     "output_type": "stream",
     "text": [
      "Epoch: 1, train_loss: -0.6252485513687134, valid_loss: -0.7677270174026489\n"
     ]
    },
    {
     "name": "stderr",
     "output_type": "stream",
     "text": [
      "100%|██████████| 57/57 [00:21<00:00,  2.71it/s]\n",
      "100%|██████████| 8/8 [00:00<00:00,  8.89it/s]\n",
      "  0%|          | 0/57 [00:00<?, ?it/s]"
     ]
    },
    {
     "name": "stdout",
     "output_type": "stream",
     "text": [
      "Epoch: 2, train_loss: -0.8237538933753967, valid_loss: -0.8192093372344971\n"
     ]
    },
    {
     "name": "stderr",
     "output_type": "stream",
     "text": [
      "100%|██████████| 57/57 [00:20<00:00,  2.72it/s]\n",
      "100%|██████████| 8/8 [00:00<00:00,  8.52it/s]\n",
      "  0%|          | 0/57 [00:00<?, ?it/s]"
     ]
    },
    {
     "name": "stdout",
     "output_type": "stream",
     "text": [
      "Epoch: 3, train_loss: -0.867855429649353, valid_loss: -0.8515148758888245\n"
     ]
    },
    {
     "name": "stderr",
     "output_type": "stream",
     "text": [
      "100%|██████████| 57/57 [00:20<00:00,  2.73it/s]\n",
      "100%|██████████| 8/8 [00:00<00:00,  8.87it/s]\n",
      "  0%|          | 0/57 [00:00<?, ?it/s]"
     ]
    },
    {
     "name": "stdout",
     "output_type": "stream",
     "text": [
      "Epoch: 4, train_loss: -0.8912255764007568, valid_loss: -0.8687447905540466\n"
     ]
    },
    {
     "name": "stderr",
     "output_type": "stream",
     "text": [
      "100%|██████████| 57/57 [00:20<00:00,  2.78it/s]\n",
      "100%|██████████| 8/8 [00:00<00:00,  8.61it/s]\n",
      "  0%|          | 0/57 [00:00<?, ?it/s]"
     ]
    },
    {
     "name": "stdout",
     "output_type": "stream",
     "text": [
      "Epoch: 5, train_loss: -0.9216858148574829, valid_loss: -0.8996281027793884\n"
     ]
    },
    {
     "name": "stderr",
     "output_type": "stream",
     "text": [
      "100%|██████████| 57/57 [00:20<00:00,  2.78it/s]\n",
      "100%|██████████| 8/8 [00:00<00:00,  8.72it/s]\n",
      "  0%|          | 0/57 [00:00<?, ?it/s]"
     ]
    },
    {
     "name": "stdout",
     "output_type": "stream",
     "text": [
      "Epoch: 6, train_loss: -0.9452568292617798, valid_loss: -0.9253904819488525\n"
     ]
    },
    {
     "name": "stderr",
     "output_type": "stream",
     "text": [
      "100%|██████████| 57/57 [00:20<00:00,  2.75it/s]\n",
      "100%|██████████| 8/8 [00:00<00:00,  8.84it/s]\n",
      "  0%|          | 0/57 [00:00<?, ?it/s]"
     ]
    },
    {
     "name": "stdout",
     "output_type": "stream",
     "text": [
      "Epoch: 7, train_loss: -0.9538345336914062, valid_loss: -0.9276642203330994\n"
     ]
    },
    {
     "name": "stderr",
     "output_type": "stream",
     "text": [
      "100%|██████████| 57/57 [00:20<00:00,  2.75it/s]\n",
      "100%|██████████| 8/8 [00:00<00:00,  8.72it/s]\n",
      "  0%|          | 0/57 [00:00<?, ?it/s]"
     ]
    },
    {
     "name": "stdout",
     "output_type": "stream",
     "text": [
      "Epoch: 8, train_loss: -0.9670011401176453, valid_loss: -0.945454478263855\n"
     ]
    },
    {
     "name": "stderr",
     "output_type": "stream",
     "text": [
      "100%|██████████| 57/57 [00:20<00:00,  2.76it/s]\n",
      "100%|██████████| 8/8 [00:00<00:00,  8.17it/s]\n",
      "  0%|          | 0/57 [00:00<?, ?it/s]"
     ]
    },
    {
     "name": "stdout",
     "output_type": "stream",
     "text": [
      "val loss increased, patience count:  1\n",
      "Epoch: 9, train_loss: -0.9758774638175964, valid_loss: -0.9427952766418457\n"
     ]
    },
    {
     "name": "stderr",
     "output_type": "stream",
     "text": [
      "100%|██████████| 57/57 [00:20<00:00,  2.79it/s]\n",
      "100%|██████████| 8/8 [00:00<00:00,  8.85it/s]\n",
      "  0%|          | 0/57 [00:00<?, ?it/s]"
     ]
    },
    {
     "name": "stdout",
     "output_type": "stream",
     "text": [
      "Epoch: 10, train_loss: -0.981698215007782, valid_loss: -0.9551151394844055\n"
     ]
    },
    {
     "name": "stderr",
     "output_type": "stream",
     "text": [
      "100%|██████████| 57/57 [00:21<00:00,  2.71it/s]\n",
      "100%|██████████| 8/8 [00:00<00:00,  9.09it/s]\n",
      "  0%|          | 0/57 [00:00<?, ?it/s]"
     ]
    },
    {
     "name": "stdout",
     "output_type": "stream",
     "text": [
      "Epoch: 11, train_loss: -0.9868088960647583, valid_loss: -0.9554197788238525\n"
     ]
    },
    {
     "name": "stderr",
     "output_type": "stream",
     "text": [
      "100%|██████████| 57/57 [00:20<00:00,  2.75it/s]\n",
      "100%|██████████| 8/8 [00:00<00:00,  8.22it/s]\n",
      "  0%|          | 0/57 [00:00<?, ?it/s]"
     ]
    },
    {
     "name": "stdout",
     "output_type": "stream",
     "text": [
      "Epoch: 12, train_loss: -0.9987749457359314, valid_loss: -0.976784348487854\n"
     ]
    },
    {
     "name": "stderr",
     "output_type": "stream",
     "text": [
      "100%|██████████| 57/57 [00:20<00:00,  2.76it/s]\n",
      "100%|██████████| 8/8 [00:00<00:00,  8.81it/s]\n",
      "  0%|          | 0/57 [00:00<?, ?it/s]"
     ]
    },
    {
     "name": "stdout",
     "output_type": "stream",
     "text": [
      "Epoch: 13, train_loss: -1.0207501649856567, valid_loss: -0.9878377318382263\n"
     ]
    },
    {
     "name": "stderr",
     "output_type": "stream",
     "text": [
      "100%|██████████| 57/57 [00:20<00:00,  2.76it/s]\n",
      "100%|██████████| 8/8 [00:00<00:00,  8.77it/s]\n",
      "  0%|          | 0/57 [00:00<?, ?it/s]"
     ]
    },
    {
     "name": "stdout",
     "output_type": "stream",
     "text": [
      "val loss increased, patience count:  1\n",
      "Epoch: 14, train_loss: -1.0261913537979126, valid_loss: -0.9774924516677856\n"
     ]
    },
    {
     "name": "stderr",
     "output_type": "stream",
     "text": [
      "100%|██████████| 57/57 [00:20<00:00,  2.80it/s]\n",
      "100%|██████████| 8/8 [00:00<00:00,  8.08it/s]\n",
      "  0%|          | 0/57 [00:00<?, ?it/s]"
     ]
    },
    {
     "name": "stdout",
     "output_type": "stream",
     "text": [
      "val loss increased, patience count:  2\n",
      "Epoch: 15, train_loss: -1.0292412042617798, valid_loss: -0.9849139451980591\n"
     ]
    },
    {
     "name": "stderr",
     "output_type": "stream",
     "text": [
      "100%|██████████| 57/57 [00:20<00:00,  2.79it/s]\n",
      "100%|██████████| 8/8 [00:00<00:00,  8.98it/s]\n",
      "  0%|          | 0/57 [00:00<?, ?it/s]"
     ]
    },
    {
     "name": "stdout",
     "output_type": "stream",
     "text": [
      "Epoch: 16, train_loss: -1.0315061807632446, valid_loss: -0.9994521737098694\n"
     ]
    },
    {
     "name": "stderr",
     "output_type": "stream",
     "text": [
      "100%|██████████| 57/57 [00:21<00:00,  2.69it/s]\n",
      "100%|██████████| 8/8 [00:00<00:00,  9.30it/s]\n",
      "  0%|          | 0/57 [00:00<?, ?it/s]"
     ]
    },
    {
     "name": "stdout",
     "output_type": "stream",
     "text": [
      "val loss increased, patience count:  1\n",
      "Epoch: 17, train_loss: -1.0370186567306519, valid_loss: -0.9960166215896606\n"
     ]
    },
    {
     "name": "stderr",
     "output_type": "stream",
     "text": [
      "100%|██████████| 57/57 [00:22<00:00,  2.58it/s]\n",
      "100%|██████████| 8/8 [00:00<00:00,  8.96it/s]\n",
      "  0%|          | 0/57 [00:00<?, ?it/s]"
     ]
    },
    {
     "name": "stdout",
     "output_type": "stream",
     "text": [
      "val loss increased, patience count:  2\n",
      "Epoch: 18, train_loss: -1.0404632091522217, valid_loss: -0.9986037015914917\n"
     ]
    },
    {
     "name": "stderr",
     "output_type": "stream",
     "text": [
      "100%|██████████| 57/57 [00:20<00:00,  2.75it/s]\n",
      "100%|██████████| 8/8 [00:00<00:00,  8.52it/s]\n",
      "  0%|          | 0/57 [00:00<?, ?it/s]"
     ]
    },
    {
     "name": "stdout",
     "output_type": "stream",
     "text": [
      "Epoch: 19, train_loss: -1.0431793928146362, valid_loss: -1.0005451440811157\n"
     ]
    },
    {
     "name": "stderr",
     "output_type": "stream",
     "text": [
      "100%|██████████| 57/57 [00:22<00:00,  2.53it/s]\n",
      "100%|██████████| 8/8 [00:00<00:00,  8.57it/s]\n",
      "  0%|          | 0/57 [00:00<?, ?it/s]"
     ]
    },
    {
     "name": "stdout",
     "output_type": "stream",
     "text": [
      "Epoch: 20, train_loss: -1.0466198921203613, valid_loss: -1.0185655355453491\n"
     ]
    },
    {
     "name": "stderr",
     "output_type": "stream",
     "text": [
      "100%|██████████| 57/57 [00:20<00:00,  2.78it/s]\n",
      "100%|██████████| 8/8 [00:00<00:00,  8.79it/s]\n",
      "  0%|          | 0/57 [00:00<?, ?it/s]"
     ]
    },
    {
     "name": "stdout",
     "output_type": "stream",
     "text": [
      "Epoch: 21, train_loss: -1.0566914081573486, valid_loss: -1.0226417779922485\n"
     ]
    },
    {
     "name": "stderr",
     "output_type": "stream",
     "text": [
      "100%|██████████| 57/57 [00:20<00:00,  2.80it/s]\n",
      "100%|██████████| 8/8 [00:00<00:00,  8.45it/s]\n",
      "  0%|          | 0/57 [00:00<?, ?it/s]"
     ]
    },
    {
     "name": "stdout",
     "output_type": "stream",
     "text": [
      "Epoch: 22, train_loss: -1.0594971179962158, valid_loss: -1.0406161546707153\n"
     ]
    },
    {
     "name": "stderr",
     "output_type": "stream",
     "text": [
      "100%|██████████| 57/57 [00:20<00:00,  2.76it/s]\n",
      "100%|██████████| 8/8 [00:00<00:00,  8.80it/s]\n",
      "  0%|          | 0/57 [00:00<?, ?it/s]"
     ]
    },
    {
     "name": "stdout",
     "output_type": "stream",
     "text": [
      "val loss increased, patience count:  1\n",
      "Epoch: 23, train_loss: -1.05941903591156, valid_loss: -1.035595178604126\n"
     ]
    },
    {
     "name": "stderr",
     "output_type": "stream",
     "text": [
      "100%|██████████| 57/57 [00:20<00:00,  2.76it/s]\n",
      "100%|██████████| 8/8 [00:01<00:00,  7.56it/s]\n",
      "  0%|          | 0/57 [00:00<?, ?it/s]"
     ]
    },
    {
     "name": "stdout",
     "output_type": "stream",
     "text": [
      "val loss increased, patience count:  2\n",
      "Epoch: 24, train_loss: -1.0666404962539673, valid_loss: -1.040409803390503\n"
     ]
    },
    {
     "name": "stderr",
     "output_type": "stream",
     "text": [
      "100%|██████████| 57/57 [00:20<00:00,  2.75it/s]\n",
      "100%|██████████| 8/8 [00:00<00:00,  8.87it/s]\n",
      "  0%|          | 0/57 [00:00<?, ?it/s]"
     ]
    },
    {
     "name": "stdout",
     "output_type": "stream",
     "text": [
      "val loss increased, patience count:  3\n",
      "Epoch: 25, train_loss: -1.068993330001831, valid_loss: -1.0272648334503174\n"
     ]
    },
    {
     "name": "stderr",
     "output_type": "stream",
     "text": [
      "100%|██████████| 57/57 [00:20<00:00,  2.76it/s]\n",
      "100%|██████████| 8/8 [00:00<00:00,  8.31it/s]\n"
     ]
    },
    {
     "name": "stdout",
     "output_type": "stream",
     "text": [
      "Early stopped at Epoch:  26\n"
     ]
    },
    {
     "name": "stderr",
     "output_type": "stream",
     "text": [
      "\r",
      "  0%|          | 0/28 [00:00<?, ?it/s]"
     ]
    },
    {
     "name": "stdout",
     "output_type": "stream",
     "text": [
      "{'BATCH_SIZE': 512, 'EPOCHS': 50, 'OPTIMIZER': <class 'torch.optim.adam.Adam'>, 'LEARNING_RATE': 5e-05, 'LOSS': protop_loss_0.5_0.5, 'EARLY_STOPPING': True, 'PATIENCE': 2, 'MIN_DELTA': 0.0005, 'MAXPOOL': 2, 'OBO_SIZES': array([512]), 'PROTOTYPE_NUM': 10, 'DROPOUT': 0.7, 'HIDDEN_SIZES': array([256, 512]), 'KERNEL_SIZES': array([9, 9])}\n"
     ]
    },
    {
     "name": "stderr",
     "output_type": "stream",
     "text": [
      "100%|██████████| 28/28 [01:11<00:00,  2.55s/it]\n",
      "100%|██████████| 4/4 [00:03<00:00,  1.01it/s]\n",
      "  0%|          | 0/28 [00:00<?, ?it/s]"
     ]
    },
    {
     "name": "stdout",
     "output_type": "stream",
     "text": [
      "Epoch: 0, train_loss: 0.03863370046019554, valid_loss: -0.46140721440315247\n"
     ]
    },
    {
     "name": "stderr",
     "output_type": "stream",
     "text": [
      "100%|██████████| 28/28 [01:10<00:00,  2.52s/it]\n",
      "100%|██████████| 4/4 [00:04<00:00,  1.01s/it]\n",
      "  0%|          | 0/28 [00:00<?, ?it/s]"
     ]
    },
    {
     "name": "stdout",
     "output_type": "stream",
     "text": [
      "Epoch: 1, train_loss: -0.8170151114463806, valid_loss: -1.0990246534347534\n"
     ]
    },
    {
     "name": "stderr",
     "output_type": "stream",
     "text": [
      "100%|██████████| 28/28 [01:10<00:00,  2.50s/it]\n",
      "100%|██████████| 4/4 [00:04<00:00,  1.08s/it]\n",
      "  0%|          | 0/28 [00:00<?, ?it/s]"
     ]
    },
    {
     "name": "stdout",
     "output_type": "stream",
     "text": [
      "Epoch: 2, train_loss: -1.3016079664230347, valid_loss: -1.3833541870117188\n"
     ]
    },
    {
     "name": "stderr",
     "output_type": "stream",
     "text": [
      "100%|██████████| 28/28 [01:12<00:00,  2.59s/it]\n",
      "100%|██████████| 4/4 [00:04<00:00,  1.01s/it]\n",
      "  0%|          | 0/28 [00:00<?, ?it/s]"
     ]
    },
    {
     "name": "stdout",
     "output_type": "stream",
     "text": [
      "Epoch: 3, train_loss: -1.4660273790359497, valid_loss: -1.4580960273742676\n"
     ]
    },
    {
     "name": "stderr",
     "output_type": "stream",
     "text": [
      "100%|██████████| 28/28 [01:25<00:00,  3.07s/it]\n",
      "100%|██████████| 4/4 [00:04<00:00,  1.15s/it]\n",
      "  0%|          | 0/28 [00:00<?, ?it/s]"
     ]
    },
    {
     "name": "stdout",
     "output_type": "stream",
     "text": [
      "Epoch: 4, train_loss: -1.4957548379898071, valid_loss: -1.4584078788757324\n"
     ]
    },
    {
     "name": "stderr",
     "output_type": "stream",
     "text": [
      "100%|██████████| 28/28 [01:17<00:00,  2.75s/it]\n",
      "100%|██████████| 4/4 [00:03<00:00,  1.01it/s]\n",
      "  0%|          | 0/28 [00:00<?, ?it/s]"
     ]
    },
    {
     "name": "stdout",
     "output_type": "stream",
     "text": [
      "Epoch: 5, train_loss: -1.5165234804153442, valid_loss: -1.4919712543487549\n"
     ]
    },
    {
     "name": "stderr",
     "output_type": "stream",
     "text": [
      "100%|██████████| 28/28 [01:09<00:00,  2.49s/it]\n",
      "100%|██████████| 4/4 [00:04<00:00,  1.00s/it]\n",
      "  0%|          | 0/28 [00:00<?, ?it/s]"
     ]
    },
    {
     "name": "stdout",
     "output_type": "stream",
     "text": [
      "Epoch: 6, train_loss: -1.5463675260543823, valid_loss: -1.5050116777420044\n"
     ]
    },
    {
     "name": "stderr",
     "output_type": "stream",
     "text": [
      "100%|██████████| 28/28 [01:09<00:00,  2.48s/it]\n",
      "100%|██████████| 4/4 [00:04<00:00,  1.01s/it]\n",
      "  0%|          | 0/28 [00:00<?, ?it/s]"
     ]
    },
    {
     "name": "stdout",
     "output_type": "stream",
     "text": [
      "Epoch: 7, train_loss: -1.565654993057251, valid_loss: -1.5254098176956177\n"
     ]
    },
    {
     "name": "stderr",
     "output_type": "stream",
     "text": [
      "100%|██████████| 28/28 [01:13<00:00,  2.64s/it]\n",
      "100%|██████████| 4/4 [00:04<00:00,  1.04s/it]\n",
      "  0%|          | 0/28 [00:00<?, ?it/s]"
     ]
    },
    {
     "name": "stdout",
     "output_type": "stream",
     "text": [
      "val loss increased, patience count:  1\n",
      "Epoch: 8, train_loss: -1.5666340589523315, valid_loss: -1.5237990617752075\n"
     ]
    },
    {
     "name": "stderr",
     "output_type": "stream",
     "text": [
      "100%|██████████| 28/28 [01:12<00:00,  2.58s/it]\n",
      "100%|██████████| 4/4 [00:04<00:00,  1.01s/it]\n",
      "  0%|          | 0/28 [00:00<?, ?it/s]"
     ]
    },
    {
     "name": "stdout",
     "output_type": "stream",
     "text": [
      "val loss increased, patience count:  2\n",
      "Epoch: 9, train_loss: -1.574239730834961, valid_loss: -1.5228114128112793\n"
     ]
    },
    {
     "name": "stderr",
     "output_type": "stream",
     "text": [
      "100%|██████████| 28/28 [01:11<00:00,  2.54s/it]\n",
      "100%|██████████| 4/4 [00:04<00:00,  1.01s/it]\n",
      "  0%|          | 0/28 [00:00<?, ?it/s]"
     ]
    },
    {
     "name": "stdout",
     "output_type": "stream",
     "text": [
      "Epoch: 10, train_loss: -1.5809317827224731, valid_loss: -1.5440486669540405\n"
     ]
    },
    {
     "name": "stderr",
     "output_type": "stream",
     "text": [
      "100%|██████████| 28/28 [01:10<00:00,  2.53s/it]\n",
      "100%|██████████| 4/4 [00:04<00:00,  1.03s/it]\n",
      "  0%|          | 0/28 [00:00<?, ?it/s]"
     ]
    },
    {
     "name": "stdout",
     "output_type": "stream",
     "text": [
      "val loss increased, patience count:  1\n",
      "Epoch: 11, train_loss: -1.5915300846099854, valid_loss: -1.5409862995147705\n"
     ]
    },
    {
     "name": "stderr",
     "output_type": "stream",
     "text": [
      "100%|██████████| 28/28 [01:10<00:00,  2.51s/it]\n",
      "100%|██████████| 4/4 [00:04<00:00,  1.02s/it]\n",
      "  0%|          | 0/28 [00:00<?, ?it/s]"
     ]
    },
    {
     "name": "stdout",
     "output_type": "stream",
     "text": [
      "Epoch: 12, train_loss: -1.5967437028884888, valid_loss: -1.5590851306915283\n"
     ]
    },
    {
     "name": "stderr",
     "output_type": "stream",
     "text": [
      "100%|██████████| 28/28 [01:12<00:00,  2.59s/it]\n",
      "100%|██████████| 4/4 [00:04<00:00,  1.00s/it]\n",
      "  0%|          | 0/28 [00:00<?, ?it/s]"
     ]
    },
    {
     "name": "stdout",
     "output_type": "stream",
     "text": [
      "Epoch: 13, train_loss: -1.5979894399642944, valid_loss: -1.5606017112731934\n"
     ]
    },
    {
     "name": "stderr",
     "output_type": "stream",
     "text": [
      "100%|██████████| 28/28 [01:10<00:00,  2.50s/it]\n",
      "100%|██████████| 4/4 [00:04<00:00,  1.03s/it]\n",
      "  0%|          | 0/28 [00:00<?, ?it/s]"
     ]
    },
    {
     "name": "stdout",
     "output_type": "stream",
     "text": [
      "val loss increased, patience count:  1\n",
      "Epoch: 14, train_loss: -1.6023133993148804, valid_loss: -1.5566225051879883\n"
     ]
    },
    {
     "name": "stderr",
     "output_type": "stream",
     "text": [
      "100%|██████████| 28/28 [01:11<00:00,  2.54s/it]\n",
      "100%|██████████| 4/4 [00:04<00:00,  1.01s/it]\n",
      "  0%|          | 0/28 [00:00<?, ?it/s]"
     ]
    },
    {
     "name": "stdout",
     "output_type": "stream",
     "text": [
      "Epoch: 15, train_loss: -1.612406611442566, valid_loss: -1.5777937173843384\n"
     ]
    },
    {
     "name": "stderr",
     "output_type": "stream",
     "text": [
      "100%|██████████| 28/28 [01:10<00:00,  2.51s/it]\n",
      "100%|██████████| 4/4 [00:04<00:00,  1.00s/it]\n",
      "  0%|          | 0/28 [00:00<?, ?it/s]"
     ]
    },
    {
     "name": "stdout",
     "output_type": "stream",
     "text": [
      "val loss increased, patience count:  1\n",
      "Epoch: 16, train_loss: -1.6088441610336304, valid_loss: -1.5701520442962646\n"
     ]
    },
    {
     "name": "stderr",
     "output_type": "stream",
     "text": [
      "100%|██████████| 28/28 [01:09<00:00,  2.48s/it]\n",
      "100%|██████████| 4/4 [00:04<00:00,  1.01s/it]\n",
      "  0%|          | 0/28 [00:00<?, ?it/s]"
     ]
    },
    {
     "name": "stdout",
     "output_type": "stream",
     "text": [
      "val loss increased, patience count:  2\n",
      "Epoch: 17, train_loss: -1.617267370223999, valid_loss: -1.5726964473724365\n"
     ]
    },
    {
     "name": "stderr",
     "output_type": "stream",
     "text": [
      "100%|██████████| 28/28 [01:11<00:00,  2.57s/it]\n",
      "100%|██████████| 4/4 [00:04<00:00,  1.01s/it]\n"
     ]
    },
    {
     "name": "stdout",
     "output_type": "stream",
     "text": [
      "Early stopped at Epoch:  18\n"
     ]
    },
    {
     "name": "stderr",
     "output_type": "stream",
     "text": [
      "\r",
      "  0%|          | 0/115 [00:00<?, ?it/s]"
     ]
    },
    {
     "name": "stdout",
     "output_type": "stream",
     "text": [
      "{'BATCH_SIZE': 128, 'EPOCHS': 20, 'OPTIMIZER': <class 'torch.optim.adam.Adam'>, 'LEARNING_RATE': 1e-05, 'LOSS': protop_loss_0.5_0.5, 'EARLY_STOPPING': True, 'PATIENCE': 2, 'MIN_DELTA': 0.0005, 'MAXPOOL': 2, 'OBO_SIZES': array([512]), 'PROTOTYPE_NUM': 20, 'DROPOUT': 0.1, 'HIDDEN_SIZES': array([128, 256]), 'KERNEL_SIZES': array([9, 5])}\n"
     ]
    },
    {
     "name": "stderr",
     "output_type": "stream",
     "text": [
      "100%|██████████| 115/115 [01:12<00:00,  1.59it/s]\n",
      "100%|██████████| 16/16 [00:04<00:00,  3.86it/s]\n",
      "  0%|          | 0/115 [00:00<?, ?it/s]"
     ]
    },
    {
     "name": "stdout",
     "output_type": "stream",
     "text": [
      "Epoch: 0, train_loss: 0.40653884410858154, valid_loss: 0.14381852746009827\n"
     ]
    },
    {
     "name": "stderr",
     "output_type": "stream",
     "text": [
      "100%|██████████| 115/115 [01:12<00:00,  1.60it/s]\n",
      "100%|██████████| 16/16 [00:04<00:00,  3.92it/s]\n",
      "  0%|          | 0/115 [00:00<?, ?it/s]"
     ]
    },
    {
     "name": "stdout",
     "output_type": "stream",
     "text": [
      "Epoch: 1, train_loss: -0.17935054004192352, valid_loss: -0.4399358928203583\n"
     ]
    },
    {
     "name": "stderr",
     "output_type": "stream",
     "text": [
      "100%|██████████| 115/115 [01:11<00:00,  1.61it/s]\n",
      "100%|██████████| 16/16 [00:04<00:00,  3.91it/s]\n",
      "  0%|          | 0/115 [00:00<?, ?it/s]"
     ]
    },
    {
     "name": "stdout",
     "output_type": "stream",
     "text": [
      "Epoch: 2, train_loss: -0.6706113219261169, valid_loss: -0.8212414979934692\n"
     ]
    },
    {
     "name": "stderr",
     "output_type": "stream",
     "text": [
      "100%|██████████| 115/115 [01:11<00:00,  1.60it/s]\n",
      "100%|██████████| 16/16 [00:04<00:00,  3.96it/s]\n",
      "  0%|          | 0/115 [00:00<?, ?it/s]"
     ]
    },
    {
     "name": "stdout",
     "output_type": "stream",
     "text": [
      "Epoch: 3, train_loss: -0.9579443335533142, valid_loss: -1.027148723602295\n"
     ]
    },
    {
     "name": "stderr",
     "output_type": "stream",
     "text": [
      "100%|██████████| 115/115 [01:11<00:00,  1.61it/s]\n",
      "100%|██████████| 16/16 [00:04<00:00,  3.97it/s]\n",
      "  0%|          | 0/115 [00:00<?, ?it/s]"
     ]
    },
    {
     "name": "stdout",
     "output_type": "stream",
     "text": [
      "Epoch: 4, train_loss: -1.1286975145339966, valid_loss: -1.1601077318191528\n"
     ]
    },
    {
     "name": "stderr",
     "output_type": "stream",
     "text": [
      "100%|██████████| 115/115 [01:11<00:00,  1.60it/s]\n",
      "100%|██████████| 16/16 [00:04<00:00,  3.92it/s]\n",
      "  0%|          | 0/115 [00:00<?, ?it/s]"
     ]
    },
    {
     "name": "stdout",
     "output_type": "stream",
     "text": [
      "Epoch: 5, train_loss: -1.2365498542785645, valid_loss: -1.2366243600845337\n"
     ]
    },
    {
     "name": "stderr",
     "output_type": "stream",
     "text": [
      "100%|██████████| 115/115 [01:11<00:00,  1.61it/s]\n",
      "100%|██████████| 16/16 [00:04<00:00,  3.94it/s]\n",
      "  0%|          | 0/115 [00:00<?, ?it/s]"
     ]
    },
    {
     "name": "stdout",
     "output_type": "stream",
     "text": [
      "Epoch: 6, train_loss: -1.2959097623825073, valid_loss: -1.2745031118392944\n"
     ]
    },
    {
     "name": "stderr",
     "output_type": "stream",
     "text": [
      "100%|██████████| 115/115 [01:12<00:00,  1.60it/s]\n",
      "100%|██████████| 16/16 [00:04<00:00,  3.82it/s]\n",
      "  0%|          | 0/115 [00:00<?, ?it/s]"
     ]
    },
    {
     "name": "stdout",
     "output_type": "stream",
     "text": [
      "Epoch: 7, train_loss: -1.3274621963500977, valid_loss: -1.3006893396377563\n"
     ]
    },
    {
     "name": "stderr",
     "output_type": "stream",
     "text": [
      "100%|██████████| 115/115 [01:12<00:00,  1.58it/s]\n",
      "100%|██████████| 16/16 [00:04<00:00,  3.85it/s]\n",
      "  0%|          | 0/115 [00:00<?, ?it/s]"
     ]
    },
    {
     "name": "stdout",
     "output_type": "stream",
     "text": [
      "Epoch: 8, train_loss: -1.3448344469070435, valid_loss: -1.3125200271606445\n"
     ]
    },
    {
     "name": "stderr",
     "output_type": "stream",
     "text": [
      "100%|██████████| 115/115 [01:11<00:00,  1.61it/s]\n",
      "100%|██████████| 16/16 [00:04<00:00,  3.96it/s]\n",
      "  0%|          | 0/115 [00:00<?, ?it/s]"
     ]
    },
    {
     "name": "stdout",
     "output_type": "stream",
     "text": [
      "Epoch: 9, train_loss: -1.3571369647979736, valid_loss: -1.317296028137207\n"
     ]
    },
    {
     "name": "stderr",
     "output_type": "stream",
     "text": [
      "100%|██████████| 115/115 [01:12<00:00,  1.58it/s]\n",
      "100%|██████████| 16/16 [00:04<00:00,  3.92it/s]\n",
      "  0%|          | 0/115 [00:00<?, ?it/s]"
     ]
    },
    {
     "name": "stdout",
     "output_type": "stream",
     "text": [
      "Epoch: 10, train_loss: -1.3650784492492676, valid_loss: -1.3186180591583252\n"
     ]
    },
    {
     "name": "stderr",
     "output_type": "stream",
     "text": [
      "100%|██████████| 115/115 [01:11<00:00,  1.60it/s]\n",
      "100%|██████████| 16/16 [00:04<00:00,  3.87it/s]\n",
      "  0%|          | 0/115 [00:00<?, ?it/s]"
     ]
    },
    {
     "name": "stdout",
     "output_type": "stream",
     "text": [
      "Epoch: 11, train_loss: -1.3728106021881104, valid_loss: -1.3431113958358765\n"
     ]
    },
    {
     "name": "stderr",
     "output_type": "stream",
     "text": [
      "100%|██████████| 115/115 [01:13<00:00,  1.56it/s]\n",
      "100%|██████████| 16/16 [00:04<00:00,  3.77it/s]\n",
      "  0%|          | 0/115 [00:00<?, ?it/s]"
     ]
    },
    {
     "name": "stdout",
     "output_type": "stream",
     "text": [
      "val loss increased, patience count:  1\n",
      "Epoch: 12, train_loss: -1.3768761157989502, valid_loss: -1.3350822925567627\n"
     ]
    },
    {
     "name": "stderr",
     "output_type": "stream",
     "text": [
      "100%|██████████| 115/115 [01:11<00:00,  1.60it/s]\n",
      "100%|██████████| 16/16 [00:04<00:00,  3.84it/s]\n",
      "  0%|          | 0/115 [00:00<?, ?it/s]"
     ]
    },
    {
     "name": "stdout",
     "output_type": "stream",
     "text": [
      "Epoch: 13, train_loss: -1.395725131034851, valid_loss: -1.3729689121246338\n"
     ]
    },
    {
     "name": "stderr",
     "output_type": "stream",
     "text": [
      "100%|██████████| 115/115 [01:12<00:00,  1.60it/s]\n",
      "100%|██████████| 16/16 [00:04<00:00,  3.88it/s]\n",
      "  0%|          | 0/115 [00:00<?, ?it/s]"
     ]
    },
    {
     "name": "stdout",
     "output_type": "stream",
     "text": [
      "Epoch: 14, train_loss: -1.4234483242034912, valid_loss: -1.394163966178894\n"
     ]
    },
    {
     "name": "stderr",
     "output_type": "stream",
     "text": [
      "100%|██████████| 115/115 [01:11<00:00,  1.60it/s]\n",
      "100%|██████████| 16/16 [00:04<00:00,  3.86it/s]\n",
      "  0%|          | 0/115 [00:00<?, ?it/s]"
     ]
    },
    {
     "name": "stdout",
     "output_type": "stream",
     "text": [
      "val loss increased, patience count:  1\n",
      "Epoch: 15, train_loss: -1.4317193031311035, valid_loss: -1.3834965229034424\n"
     ]
    },
    {
     "name": "stderr",
     "output_type": "stream",
     "text": [
      "100%|██████████| 115/115 [01:11<00:00,  1.61it/s]\n",
      "100%|██████████| 16/16 [00:04<00:00,  3.88it/s]\n",
      "  0%|          | 0/115 [00:00<?, ?it/s]"
     ]
    },
    {
     "name": "stdout",
     "output_type": "stream",
     "text": [
      "Epoch: 16, train_loss: -1.4341905117034912, valid_loss: -1.4099236726760864\n"
     ]
    },
    {
     "name": "stderr",
     "output_type": "stream",
     "text": [
      "100%|██████████| 115/115 [01:11<00:00,  1.60it/s]\n",
      "100%|██████████| 16/16 [00:04<00:00,  3.82it/s]\n",
      "  0%|          | 0/115 [00:00<?, ?it/s]"
     ]
    },
    {
     "name": "stdout",
     "output_type": "stream",
     "text": [
      "val loss increased, patience count:  1\n",
      "Epoch: 17, train_loss: -1.4395869970321655, valid_loss: -1.3945136070251465\n"
     ]
    },
    {
     "name": "stderr",
     "output_type": "stream",
     "text": [
      "100%|██████████| 115/115 [01:11<00:00,  1.60it/s]\n",
      "100%|██████████| 16/16 [00:04<00:00,  3.83it/s]\n",
      "  0%|          | 0/115 [00:00<?, ?it/s]"
     ]
    },
    {
     "name": "stdout",
     "output_type": "stream",
     "text": [
      "val loss increased, patience count:  2\n",
      "Epoch: 18, train_loss: -1.4406453371047974, valid_loss: -1.407441258430481\n"
     ]
    },
    {
     "name": "stderr",
     "output_type": "stream",
     "text": [
      "100%|██████████| 115/115 [01:11<00:00,  1.60it/s]\n",
      "100%|██████████| 16/16 [00:04<00:00,  3.66it/s]\n"
     ]
    },
    {
     "name": "stdout",
     "output_type": "stream",
     "text": [
      "Early stopped at Epoch:  19\n"
     ]
    },
    {
     "name": "stderr",
     "output_type": "stream",
     "text": [
      "\r",
      "  0%|          | 0/28 [00:00<?, ?it/s]"
     ]
    },
    {
     "name": "stdout",
     "output_type": "stream",
     "text": [
      "{'BATCH_SIZE': 512, 'EPOCHS': 20, 'OPTIMIZER': <class 'torch.optim.adam.Adam'>, 'LEARNING_RATE': 0.0001, 'LOSS': protop_loss_0.1_0.1, 'EARLY_STOPPING': True, 'PATIENCE': 2, 'MIN_DELTA': 0.005, 'MAXPOOL': 2, 'OBO_SIZES': array([64]), 'PROTOTYPE_NUM': 20, 'DROPOUT': 0.5, 'HIDDEN_SIZES': array([128, 256]), 'KERNEL_SIZES': array([7, 3])}\n"
     ]
    },
    {
     "name": "stderr",
     "output_type": "stream",
     "text": [
      "100%|██████████| 28/28 [00:08<00:00,  3.27it/s]\n",
      "100%|██████████| 4/4 [00:00<00:00,  7.70it/s]\n",
      "  0%|          | 0/28 [00:00<?, ?it/s]"
     ]
    },
    {
     "name": "stdout",
     "output_type": "stream",
     "text": [
      "Epoch: 0, train_loss: 0.6159067153930664, valid_loss: 0.5804495811462402\n"
     ]
    },
    {
     "name": "stderr",
     "output_type": "stream",
     "text": [
      "100%|██████████| 28/28 [00:08<00:00,  3.37it/s]\n",
      "100%|██████████| 4/4 [00:00<00:00,  7.95it/s]\n",
      "  0%|          | 0/28 [00:00<?, ?it/s]"
     ]
    },
    {
     "name": "stdout",
     "output_type": "stream",
     "text": [
      "Epoch: 1, train_loss: 0.5611204504966736, valid_loss: 0.5582783222198486\n"
     ]
    },
    {
     "name": "stderr",
     "output_type": "stream",
     "text": [
      "100%|██████████| 28/28 [00:08<00:00,  3.47it/s]\n",
      "100%|██████████| 4/4 [00:00<00:00,  8.04it/s]\n",
      "  0%|          | 0/28 [00:00<?, ?it/s]"
     ]
    },
    {
     "name": "stdout",
     "output_type": "stream",
     "text": [
      "Epoch: 2, train_loss: 0.5492637157440186, valid_loss: 0.5506361722946167\n"
     ]
    },
    {
     "name": "stderr",
     "output_type": "stream",
     "text": [
      "100%|██████████| 28/28 [00:08<00:00,  3.44it/s]\n",
      "100%|██████████| 4/4 [00:00<00:00,  8.24it/s]\n",
      "  0%|          | 0/28 [00:00<?, ?it/s]"
     ]
    },
    {
     "name": "stdout",
     "output_type": "stream",
     "text": [
      "Epoch: 3, train_loss: 0.5369811058044434, valid_loss: 0.5383992195129395\n"
     ]
    },
    {
     "name": "stderr",
     "output_type": "stream",
     "text": [
      "100%|██████████| 28/28 [00:08<00:00,  3.36it/s]\n",
      "100%|██████████| 4/4 [00:00<00:00,  8.07it/s]\n",
      "  0%|          | 0/28 [00:00<?, ?it/s]"
     ]
    },
    {
     "name": "stdout",
     "output_type": "stream",
     "text": [
      "Epoch: 4, train_loss: 0.5272206664085388, valid_loss: 0.5318260788917542\n"
     ]
    },
    {
     "name": "stderr",
     "output_type": "stream",
     "text": [
      "100%|██████████| 28/28 [00:08<00:00,  3.38it/s]\n",
      "100%|██████████| 4/4 [00:00<00:00,  8.26it/s]\n",
      "  0%|          | 0/28 [00:00<?, ?it/s]"
     ]
    },
    {
     "name": "stdout",
     "output_type": "stream",
     "text": [
      "Epoch: 5, train_loss: 0.5214647650718689, valid_loss: 0.5263538956642151\n"
     ]
    },
    {
     "name": "stderr",
     "output_type": "stream",
     "text": [
      "100%|██████████| 28/28 [00:08<00:00,  3.42it/s]\n",
      "100%|██████████| 4/4 [00:00<00:00,  8.18it/s]\n",
      "  0%|          | 0/28 [00:00<?, ?it/s]"
     ]
    },
    {
     "name": "stdout",
     "output_type": "stream",
     "text": [
      "Epoch: 6, train_loss: 0.5191009044647217, valid_loss: 0.5262236595153809\n"
     ]
    },
    {
     "name": "stderr",
     "output_type": "stream",
     "text": [
      "100%|██████████| 28/28 [00:08<00:00,  3.41it/s]\n",
      "100%|██████████| 4/4 [00:00<00:00,  8.15it/s]\n",
      "  0%|          | 0/28 [00:00<?, ?it/s]"
     ]
    },
    {
     "name": "stdout",
     "output_type": "stream",
     "text": [
      "Epoch: 7, train_loss: 0.5159436464309692, valid_loss: 0.5218900442123413\n"
     ]
    },
    {
     "name": "stderr",
     "output_type": "stream",
     "text": [
      "100%|██████████| 28/28 [00:08<00:00,  3.44it/s]\n",
      "100%|██████████| 4/4 [00:00<00:00,  8.47it/s]\n",
      "  0%|          | 0/28 [00:00<?, ?it/s]"
     ]
    },
    {
     "name": "stdout",
     "output_type": "stream",
     "text": [
      "Epoch: 8, train_loss: 0.5087340474128723, valid_loss: 0.5147914886474609\n"
     ]
    },
    {
     "name": "stderr",
     "output_type": "stream",
     "text": [
      "100%|██████████| 28/28 [00:08<00:00,  3.41it/s]\n",
      "100%|██████████| 4/4 [00:00<00:00,  7.55it/s]\n",
      "  0%|          | 0/28 [00:00<?, ?it/s]"
     ]
    },
    {
     "name": "stdout",
     "output_type": "stream",
     "text": [
      "val loss increased, patience count:  1\n",
      "Epoch: 9, train_loss: 0.5064307451248169, valid_loss: 0.5156734585762024\n"
     ]
    },
    {
     "name": "stderr",
     "output_type": "stream",
     "text": [
      "100%|██████████| 28/28 [00:08<00:00,  3.45it/s]\n",
      "100%|██████████| 4/4 [00:00<00:00,  8.16it/s]\n",
      "  0%|          | 0/28 [00:00<?, ?it/s]"
     ]
    },
    {
     "name": "stdout",
     "output_type": "stream",
     "text": [
      "Epoch: 10, train_loss: 0.5046653151512146, valid_loss: 0.5141202211380005\n"
     ]
    },
    {
     "name": "stderr",
     "output_type": "stream",
     "text": [
      "100%|██████████| 28/28 [00:08<00:00,  3.42it/s]\n",
      "100%|██████████| 4/4 [00:00<00:00,  7.85it/s]\n",
      "  0%|          | 0/28 [00:00<?, ?it/s]"
     ]
    },
    {
     "name": "stdout",
     "output_type": "stream",
     "text": [
      "Epoch: 11, train_loss: 0.5028908848762512, valid_loss: 0.5127469301223755\n"
     ]
    },
    {
     "name": "stderr",
     "output_type": "stream",
     "text": [
      "100%|██████████| 28/28 [00:08<00:00,  3.44it/s]\n",
      "100%|██████████| 4/4 [00:00<00:00,  8.40it/s]\n",
      "  0%|          | 0/28 [00:00<?, ?it/s]"
     ]
    },
    {
     "name": "stdout",
     "output_type": "stream",
     "text": [
      "Epoch: 12, train_loss: 0.5024520754814148, valid_loss: 0.5117816925048828\n"
     ]
    },
    {
     "name": "stderr",
     "output_type": "stream",
     "text": [
      "100%|██████████| 28/28 [00:08<00:00,  3.43it/s]\n",
      "100%|██████████| 4/4 [00:00<00:00,  8.35it/s]\n",
      "  0%|          | 0/28 [00:00<?, ?it/s]"
     ]
    },
    {
     "name": "stdout",
     "output_type": "stream",
     "text": [
      "Epoch: 13, train_loss: 0.5002973675727844, valid_loss: 0.5112662315368652\n"
     ]
    },
    {
     "name": "stderr",
     "output_type": "stream",
     "text": [
      "100%|██████████| 28/28 [00:08<00:00,  3.32it/s]\n",
      "100%|██████████| 4/4 [00:00<00:00,  7.89it/s]\n",
      "  0%|          | 0/28 [00:00<?, ?it/s]"
     ]
    },
    {
     "name": "stdout",
     "output_type": "stream",
     "text": [
      "val loss increased, patience count:  1\n",
      "Epoch: 14, train_loss: 0.4995043873786926, valid_loss: 0.5118594169616699\n"
     ]
    },
    {
     "name": "stderr",
     "output_type": "stream",
     "text": [
      "100%|██████████| 28/28 [00:08<00:00,  3.44it/s]\n",
      "100%|██████████| 4/4 [00:00<00:00,  8.33it/s]\n",
      "  0%|          | 0/28 [00:00<?, ?it/s]"
     ]
    },
    {
     "name": "stdout",
     "output_type": "stream",
     "text": [
      "Epoch: 15, train_loss: 0.498278945684433, valid_loss: 0.5089503526687622\n"
     ]
    },
    {
     "name": "stderr",
     "output_type": "stream",
     "text": [
      "100%|██████████| 28/28 [00:08<00:00,  3.49it/s]\n",
      "100%|██████████| 4/4 [00:00<00:00,  7.95it/s]\n",
      "  0%|          | 0/28 [00:00<?, ?it/s]"
     ]
    },
    {
     "name": "stdout",
     "output_type": "stream",
     "text": [
      "val loss increased, patience count:  1\n",
      "Epoch: 16, train_loss: 0.498279333114624, valid_loss: 0.5115395784378052\n"
     ]
    },
    {
     "name": "stderr",
     "output_type": "stream",
     "text": [
      "100%|██████████| 28/28 [00:08<00:00,  3.44it/s]\n",
      "100%|██████████| 4/4 [00:00<00:00,  8.39it/s]\n",
      "  0%|          | 0/28 [00:00<?, ?it/s]"
     ]
    },
    {
     "name": "stdout",
     "output_type": "stream",
     "text": [
      "Epoch: 17, train_loss: 0.49733564257621765, valid_loss: 0.5080986618995667\n"
     ]
    },
    {
     "name": "stderr",
     "output_type": "stream",
     "text": [
      "100%|██████████| 28/28 [00:08<00:00,  3.37it/s]\n",
      "100%|██████████| 4/4 [00:00<00:00,  8.32it/s]\n",
      "  0%|          | 0/28 [00:00<?, ?it/s]"
     ]
    },
    {
     "name": "stdout",
     "output_type": "stream",
     "text": [
      "val loss increased, patience count:  1\n",
      "Epoch: 18, train_loss: 0.4961037337779999, valid_loss: 0.5089075565338135\n"
     ]
    },
    {
     "name": "stderr",
     "output_type": "stream",
     "text": [
      "100%|██████████| 28/28 [00:08<00:00,  3.39it/s]\n",
      "100%|██████████| 4/4 [00:00<00:00,  7.59it/s]\n"
     ]
    },
    {
     "name": "stdout",
     "output_type": "stream",
     "text": [
      "val loss increased, patience count:  2\n",
      "Epoch: 19, train_loss: 0.4956969618797302, valid_loss: 0.5082517266273499\n"
     ]
    },
    {
     "name": "stderr",
     "output_type": "stream",
     "text": [
      "\r",
      "  0%|          | 0/28 [00:00<?, ?it/s]"
     ]
    },
    {
     "name": "stdout",
     "output_type": "stream",
     "text": [
      "{'BATCH_SIZE': 512, 'EPOCHS': 20, 'OPTIMIZER': <class 'torch.optim.adam.Adam'>, 'LEARNING_RATE': 0.0001, 'LOSS': protop_loss_0.3_0.1, 'EARLY_STOPPING': True, 'PATIENCE': 2, 'MIN_DELTA': 5e-05, 'MAXPOOL': 2, 'OBO_SIZES': array([512]), 'PROTOTYPE_NUM': 20, 'DROPOUT': 0.1, 'HIDDEN_SIZES': array([128, 256]), 'KERNEL_SIZES': array([5, 3])}\n"
     ]
    },
    {
     "name": "stderr",
     "output_type": "stream",
     "text": [
      "100%|██████████| 28/28 [01:04<00:00,  2.31s/it]\n",
      "100%|██████████| 4/4 [00:03<00:00,  1.05it/s]\n",
      "  0%|          | 0/28 [00:00<?, ?it/s]"
     ]
    },
    {
     "name": "stdout",
     "output_type": "stream",
     "text": [
      "Epoch: 0, train_loss: 2.678436517715454, valid_loss: 2.355313777923584\n"
     ]
    },
    {
     "name": "stderr",
     "output_type": "stream",
     "text": [
      "100%|██████████| 28/28 [01:04<00:00,  2.31s/it]\n",
      "100%|██████████| 4/4 [00:03<00:00,  1.06it/s]\n",
      "  0%|          | 0/28 [00:00<?, ?it/s]"
     ]
    },
    {
     "name": "stdout",
     "output_type": "stream",
     "text": [
      "Epoch: 1, train_loss: 1.9976812601089478, valid_loss: 1.697884202003479\n"
     ]
    },
    {
     "name": "stderr",
     "output_type": "stream",
     "text": [
      "100%|██████████| 28/28 [01:05<00:00,  2.32s/it]\n",
      "100%|██████████| 4/4 [00:03<00:00,  1.05it/s]\n",
      "  0%|          | 0/28 [00:00<?, ?it/s]"
     ]
    },
    {
     "name": "stdout",
     "output_type": "stream",
     "text": [
      "Epoch: 2, train_loss: 1.5466538667678833, valid_loss: 1.4822417497634888\n"
     ]
    },
    {
     "name": "stderr",
     "output_type": "stream",
     "text": [
      "100%|██████████| 28/28 [01:04<00:00,  2.29s/it]\n",
      "100%|██████████| 4/4 [00:04<00:00,  1.05s/it]\n",
      "  0%|          | 0/28 [00:00<?, ?it/s]"
     ]
    },
    {
     "name": "stdout",
     "output_type": "stream",
     "text": [
      "Epoch: 3, train_loss: 1.4420280456542969, valid_loss: 1.4413628578186035\n"
     ]
    },
    {
     "name": "stderr",
     "output_type": "stream",
     "text": [
      "100%|██████████| 28/28 [01:06<00:00,  2.37s/it]\n",
      "100%|██████████| 4/4 [00:03<00:00,  1.01it/s]\n",
      "  0%|          | 0/28 [00:00<?, ?it/s]"
     ]
    },
    {
     "name": "stdout",
     "output_type": "stream",
     "text": [
      "Epoch: 4, train_loss: 1.4094411134719849, valid_loss: 1.406790852546692\n"
     ]
    },
    {
     "name": "stderr",
     "output_type": "stream",
     "text": [
      "100%|██████████| 28/28 [01:04<00:00,  2.30s/it]\n",
      "100%|██████████| 4/4 [00:03<00:00,  1.06it/s]\n",
      "  0%|          | 0/28 [00:00<?, ?it/s]"
     ]
    },
    {
     "name": "stdout",
     "output_type": "stream",
     "text": [
      "Epoch: 5, train_loss: 1.3799303770065308, valid_loss: 1.390239953994751\n"
     ]
    },
    {
     "name": "stderr",
     "output_type": "stream",
     "text": [
      "100%|██████████| 28/28 [01:04<00:00,  2.31s/it]\n",
      "100%|██████████| 4/4 [00:03<00:00,  1.04it/s]\n",
      "  0%|          | 0/28 [00:00<?, ?it/s]"
     ]
    },
    {
     "name": "stdout",
     "output_type": "stream",
     "text": [
      "Epoch: 6, train_loss: 1.3677215576171875, valid_loss: 1.3758541345596313\n"
     ]
    },
    {
     "name": "stderr",
     "output_type": "stream",
     "text": [
      "100%|██████████| 28/28 [01:04<00:00,  2.30s/it]\n",
      "100%|██████████| 4/4 [00:03<00:00,  1.06it/s]\n",
      "  0%|          | 0/28 [00:00<?, ?it/s]"
     ]
    },
    {
     "name": "stdout",
     "output_type": "stream",
     "text": [
      "Epoch: 7, train_loss: 1.3554283380508423, valid_loss: 1.3644866943359375\n"
     ]
    },
    {
     "name": "stderr",
     "output_type": "stream",
     "text": [
      "100%|██████████| 28/28 [01:04<00:00,  2.30s/it]\n",
      "100%|██████████| 4/4 [00:03<00:00,  1.04it/s]\n",
      "  0%|          | 0/28 [00:00<?, ?it/s]"
     ]
    },
    {
     "name": "stdout",
     "output_type": "stream",
     "text": [
      "Epoch: 8, train_loss: 1.3428574800491333, valid_loss: 1.3506020307540894\n"
     ]
    },
    {
     "name": "stderr",
     "output_type": "stream",
     "text": [
      "100%|██████████| 28/28 [01:04<00:00,  2.31s/it]\n",
      "100%|██████████| 4/4 [00:03<00:00,  1.08it/s]\n",
      "  0%|          | 0/28 [00:00<?, ?it/s]"
     ]
    },
    {
     "name": "stdout",
     "output_type": "stream",
     "text": [
      "Epoch: 9, train_loss: 1.3357328176498413, valid_loss: 1.3461432456970215\n"
     ]
    },
    {
     "name": "stderr",
     "output_type": "stream",
     "text": [
      "100%|██████████| 28/28 [01:05<00:00,  2.33s/it]\n",
      "100%|██████████| 4/4 [00:03<00:00,  1.06it/s]\n",
      "  0%|          | 0/28 [00:00<?, ?it/s]"
     ]
    },
    {
     "name": "stdout",
     "output_type": "stream",
     "text": [
      "Epoch: 10, train_loss: 1.3224172592163086, valid_loss: 1.3328330516815186\n"
     ]
    },
    {
     "name": "stderr",
     "output_type": "stream",
     "text": [
      "100%|██████████| 28/28 [01:04<00:00,  2.31s/it]\n",
      "100%|██████████| 4/4 [00:03<00:00,  1.06it/s]\n",
      "  0%|          | 0/28 [00:00<?, ?it/s]"
     ]
    },
    {
     "name": "stdout",
     "output_type": "stream",
     "text": [
      "Epoch: 11, train_loss: 1.3185824155807495, valid_loss: 1.3288538455963135\n"
     ]
    },
    {
     "name": "stderr",
     "output_type": "stream",
     "text": [
      "100%|██████████| 28/28 [01:04<00:00,  2.29s/it]\n",
      "100%|██████████| 4/4 [00:03<00:00,  1.05it/s]\n",
      "  0%|          | 0/28 [00:00<?, ?it/s]"
     ]
    },
    {
     "name": "stdout",
     "output_type": "stream",
     "text": [
      "Epoch: 12, train_loss: 1.3113361597061157, valid_loss: 1.3205755949020386\n"
     ]
    },
    {
     "name": "stderr",
     "output_type": "stream",
     "text": [
      "100%|██████████| 28/28 [01:04<00:00,  2.30s/it]\n",
      "100%|██████████| 4/4 [00:03<00:00,  1.07it/s]\n",
      "  0%|          | 0/28 [00:00<?, ?it/s]"
     ]
    },
    {
     "name": "stdout",
     "output_type": "stream",
     "text": [
      "Epoch: 13, train_loss: 1.3014785051345825, valid_loss: 1.3177504539489746\n"
     ]
    },
    {
     "name": "stderr",
     "output_type": "stream",
     "text": [
      "100%|██████████| 28/28 [01:04<00:00,  2.31s/it]\n",
      "100%|██████████| 4/4 [00:03<00:00,  1.04it/s]\n",
      "  0%|          | 0/28 [00:00<?, ?it/s]"
     ]
    },
    {
     "name": "stdout",
     "output_type": "stream",
     "text": [
      "Epoch: 14, train_loss: 1.282227635383606, valid_loss: 1.2864649295806885\n"
     ]
    },
    {
     "name": "stderr",
     "output_type": "stream",
     "text": [
      "100%|██████████| 28/28 [01:04<00:00,  2.29s/it]\n",
      "100%|██████████| 4/4 [00:03<00:00,  1.04it/s]\n",
      "  0%|          | 0/28 [00:00<?, ?it/s]"
     ]
    },
    {
     "name": "stdout",
     "output_type": "stream",
     "text": [
      "Epoch: 15, train_loss: 1.267450213432312, valid_loss: 1.281894326210022\n"
     ]
    },
    {
     "name": "stderr",
     "output_type": "stream",
     "text": [
      "100%|██████████| 28/28 [01:04<00:00,  2.30s/it]\n",
      "100%|██████████| 4/4 [00:03<00:00,  1.03it/s]\n",
      "  0%|          | 0/28 [00:00<?, ?it/s]"
     ]
    },
    {
     "name": "stdout",
     "output_type": "stream",
     "text": [
      "Epoch: 16, train_loss: 1.264840006828308, valid_loss: 1.276840329170227\n"
     ]
    },
    {
     "name": "stderr",
     "output_type": "stream",
     "text": [
      "100%|██████████| 28/28 [01:04<00:00,  2.30s/it]\n",
      "100%|██████████| 4/4 [00:03<00:00,  1.05it/s]\n",
      "  0%|          | 0/28 [00:00<?, ?it/s]"
     ]
    },
    {
     "name": "stdout",
     "output_type": "stream",
     "text": [
      "Epoch: 17, train_loss: 1.243027687072754, valid_loss: 1.2481087446212769\n"
     ]
    },
    {
     "name": "stderr",
     "output_type": "stream",
     "text": [
      "100%|██████████| 28/28 [01:04<00:00,  2.30s/it]\n",
      "100%|██████████| 4/4 [00:03<00:00,  1.03it/s]\n",
      "  0%|          | 0/28 [00:00<?, ?it/s]"
     ]
    },
    {
     "name": "stdout",
     "output_type": "stream",
     "text": [
      "val loss increased, patience count:  1\n",
      "Epoch: 18, train_loss: 1.2325810194015503, valid_loss: 1.252503514289856\n"
     ]
    },
    {
     "name": "stderr",
     "output_type": "stream",
     "text": [
      "100%|██████████| 28/28 [01:04<00:00,  2.31s/it]\n",
      "100%|██████████| 4/4 [00:03<00:00,  1.06it/s]\n"
     ]
    },
    {
     "name": "stdout",
     "output_type": "stream",
     "text": [
      "Epoch: 19, train_loss: 1.2303487062454224, valid_loss: 1.2447547912597656\n"
     ]
    },
    {
     "name": "stderr",
     "output_type": "stream",
     "text": [
      "  1%|          | 1/115 [00:00<00:18,  6.22it/s]"
     ]
    },
    {
     "name": "stdout",
     "output_type": "stream",
     "text": [
      "{'BATCH_SIZE': 128, 'EPOCHS': 50, 'OPTIMIZER': <class 'torch.optim.adam.Adam'>, 'LEARNING_RATE': 1e-05, 'LOSS': protop_loss_1_1, 'EARLY_STOPPING': True, 'PATIENCE': 3, 'MIN_DELTA': 0.0005, 'MAXPOOL': 2, 'OBO_SIZES': array([256]), 'PROTOTYPE_NUM': 20, 'DROPOUT': 0.5, 'HIDDEN_SIZES': array([ 64, 128]), 'KERNEL_SIZES': array([5, 3])}\n"
     ]
    },
    {
     "name": "stderr",
     "output_type": "stream",
     "text": [
      "100%|██████████| 115/115 [00:13<00:00,  8.83it/s]\n",
      "100%|██████████| 16/16 [00:00<00:00, 21.80it/s]\n",
      "  0%|          | 0/115 [00:00<?, ?it/s]"
     ]
    },
    {
     "name": "stdout",
     "output_type": "stream",
     "text": [
      "Epoch: 0, train_loss: 0.5674512386322021, valid_loss: 0.42633315920829773\n"
     ]
    },
    {
     "name": "stderr",
     "output_type": "stream",
     "text": [
      "100%|██████████| 115/115 [00:12<00:00,  8.91it/s]\n",
      "100%|██████████| 16/16 [00:00<00:00, 23.06it/s]\n",
      "  1%|          | 1/115 [00:00<00:12,  8.98it/s]"
     ]
    },
    {
     "name": "stdout",
     "output_type": "stream",
     "text": [
      "Epoch: 1, train_loss: 0.24718128144741058, valid_loss: 0.07671733945608139\n"
     ]
    },
    {
     "name": "stderr",
     "output_type": "stream",
     "text": [
      "100%|██████████| 115/115 [00:12<00:00,  8.85it/s]\n",
      "100%|██████████| 16/16 [00:00<00:00, 22.67it/s]\n",
      "  1%|          | 1/115 [00:00<00:11,  9.51it/s]"
     ]
    },
    {
     "name": "stdout",
     "output_type": "stream",
     "text": [
      "Epoch: 2, train_loss: -0.11971834301948547, valid_loss: -0.2821841835975647\n"
     ]
    },
    {
     "name": "stderr",
     "output_type": "stream",
     "text": [
      "100%|██████████| 115/115 [00:13<00:00,  8.74it/s]\n",
      "100%|██████████| 16/16 [00:00<00:00, 19.60it/s]\n",
      "  1%|          | 1/115 [00:00<00:12,  9.31it/s]"
     ]
    },
    {
     "name": "stdout",
     "output_type": "stream",
     "text": [
      "Epoch: 3, train_loss: -0.46727821230888367, valid_loss: -0.6145392656326294\n"
     ]
    },
    {
     "name": "stderr",
     "output_type": "stream",
     "text": [
      "100%|██████████| 115/115 [00:12<00:00,  8.97it/s]\n",
      "100%|██████████| 16/16 [00:00<00:00, 22.93it/s]\n",
      "  1%|          | 1/115 [00:00<00:13,  8.76it/s]"
     ]
    },
    {
     "name": "stdout",
     "output_type": "stream",
     "text": [
      "Epoch: 4, train_loss: -0.7696948051452637, valid_loss: -0.8737965822219849\n"
     ]
    },
    {
     "name": "stderr",
     "output_type": "stream",
     "text": [
      "100%|██████████| 115/115 [00:13<00:00,  8.84it/s]\n",
      "100%|██████████| 16/16 [00:00<00:00, 22.54it/s]\n",
      "  2%|▏         | 2/115 [00:00<00:11, 10.12it/s]"
     ]
    },
    {
     "name": "stdout",
     "output_type": "stream",
     "text": [
      "Epoch: 5, train_loss: -1.017648458480835, valid_loss: -1.0911121368408203\n"
     ]
    },
    {
     "name": "stderr",
     "output_type": "stream",
     "text": [
      "100%|██████████| 115/115 [00:13<00:00,  8.67it/s]\n",
      "100%|██████████| 16/16 [00:00<00:00, 19.37it/s]\n",
      "  1%|          | 1/115 [00:00<00:16,  6.97it/s]"
     ]
    },
    {
     "name": "stdout",
     "output_type": "stream",
     "text": [
      "Epoch: 6, train_loss: -1.247353434562683, valid_loss: -1.3214881420135498\n"
     ]
    },
    {
     "name": "stderr",
     "output_type": "stream",
     "text": [
      "100%|██████████| 115/115 [00:13<00:00,  8.74it/s]\n",
      "100%|██████████| 16/16 [00:00<00:00, 22.20it/s]\n",
      "  1%|          | 1/115 [00:00<00:14,  7.87it/s]"
     ]
    },
    {
     "name": "stdout",
     "output_type": "stream",
     "text": [
      "Epoch: 7, train_loss: -1.4651832580566406, valid_loss: -1.5148518085479736\n"
     ]
    },
    {
     "name": "stderr",
     "output_type": "stream",
     "text": [
      "100%|██████████| 115/115 [00:12<00:00,  8.94it/s]\n",
      "100%|██████████| 16/16 [00:00<00:00, 22.28it/s]\n",
      "  1%|          | 1/115 [00:00<00:12,  9.16it/s]"
     ]
    },
    {
     "name": "stdout",
     "output_type": "stream",
     "text": [
      "Epoch: 8, train_loss: -1.657739520072937, valid_loss: -1.6790591478347778\n"
     ]
    },
    {
     "name": "stderr",
     "output_type": "stream",
     "text": [
      "100%|██████████| 115/115 [00:12<00:00,  8.97it/s]\n",
      "100%|██████████| 16/16 [00:00<00:00, 21.91it/s]\n",
      "  1%|          | 1/115 [00:00<00:14,  7.84it/s]"
     ]
    },
    {
     "name": "stdout",
     "output_type": "stream",
     "text": [
      "Epoch: 9, train_loss: -1.7990684509277344, valid_loss: -1.7919095754623413\n"
     ]
    },
    {
     "name": "stderr",
     "output_type": "stream",
     "text": [
      "100%|██████████| 115/115 [00:12<00:00,  8.92it/s]\n",
      "100%|██████████| 16/16 [00:00<00:00, 21.81it/s]\n",
      "  1%|          | 1/115 [00:00<00:12,  8.85it/s]"
     ]
    },
    {
     "name": "stdout",
     "output_type": "stream",
     "text": [
      "Epoch: 10, train_loss: -1.9062994718551636, valid_loss: -1.9305914640426636\n"
     ]
    },
    {
     "name": "stderr",
     "output_type": "stream",
     "text": [
      "100%|██████████| 115/115 [00:14<00:00,  7.96it/s]\n",
      "100%|██████████| 16/16 [00:00<00:00, 22.39it/s]\n",
      "  1%|          | 1/115 [00:00<00:12,  9.46it/s]"
     ]
    },
    {
     "name": "stdout",
     "output_type": "stream",
     "text": [
      "Epoch: 11, train_loss: -2.012770891189575, valid_loss: -1.9936100244522095\n"
     ]
    },
    {
     "name": "stderr",
     "output_type": "stream",
     "text": [
      "100%|██████████| 115/115 [00:13<00:00,  8.79it/s]\n",
      "100%|██████████| 16/16 [00:00<00:00, 21.96it/s]\n",
      "  1%|          | 1/115 [00:00<00:12,  9.01it/s]"
     ]
    },
    {
     "name": "stdout",
     "output_type": "stream",
     "text": [
      "Epoch: 12, train_loss: -2.0858664512634277, valid_loss: -2.088865280151367\n"
     ]
    },
    {
     "name": "stderr",
     "output_type": "stream",
     "text": [
      "100%|██████████| 115/115 [00:12<00:00,  9.04it/s]\n",
      "100%|██████████| 16/16 [00:00<00:00, 21.78it/s]\n",
      "  1%|          | 1/115 [00:00<00:13,  8.41it/s]"
     ]
    },
    {
     "name": "stdout",
     "output_type": "stream",
     "text": [
      "Epoch: 13, train_loss: -2.1318109035491943, valid_loss: -2.110356330871582\n"
     ]
    },
    {
     "name": "stderr",
     "output_type": "stream",
     "text": [
      "100%|██████████| 115/115 [00:13<00:00,  8.74it/s]\n",
      "100%|██████████| 16/16 [00:00<00:00, 21.73it/s]\n",
      "  1%|          | 1/115 [00:00<00:12,  9.42it/s]"
     ]
    },
    {
     "name": "stdout",
     "output_type": "stream",
     "text": [
      "Epoch: 14, train_loss: -2.194962978363037, valid_loss: -2.1644155979156494\n"
     ]
    },
    {
     "name": "stderr",
     "output_type": "stream",
     "text": [
      "100%|██████████| 115/115 [00:12<00:00,  8.96it/s]\n",
      "100%|██████████| 16/16 [00:00<00:00, 21.97it/s]\n",
      "  1%|          | 1/115 [00:00<00:11,  9.60it/s]"
     ]
    },
    {
     "name": "stdout",
     "output_type": "stream",
     "text": [
      "Epoch: 15, train_loss: -2.236464023590088, valid_loss: -2.1812987327575684\n"
     ]
    },
    {
     "name": "stderr",
     "output_type": "stream",
     "text": [
      "100%|██████████| 115/115 [00:12<00:00,  8.85it/s]\n",
      "100%|██████████| 16/16 [00:00<00:00, 22.27it/s]\n",
      "  1%|          | 1/115 [00:00<00:12,  9.23it/s]"
     ]
    },
    {
     "name": "stdout",
     "output_type": "stream",
     "text": [
      "Epoch: 16, train_loss: -2.260110378265381, valid_loss: -2.224182367324829\n"
     ]
    },
    {
     "name": "stderr",
     "output_type": "stream",
     "text": [
      "100%|██████████| 115/115 [00:13<00:00,  8.44it/s]\n",
      "100%|██████████| 16/16 [00:00<00:00, 22.44it/s]\n",
      "  0%|          | 0/115 [00:00<?, ?it/s]"
     ]
    },
    {
     "name": "stdout",
     "output_type": "stream",
     "text": [
      "Epoch: 17, train_loss: -2.2890467643737793, valid_loss: -2.2422351837158203\n"
     ]
    },
    {
     "name": "stderr",
     "output_type": "stream",
     "text": [
      "100%|██████████| 115/115 [00:13<00:00,  8.78it/s]\n",
      "100%|██████████| 16/16 [00:00<00:00, 22.09it/s]\n",
      "  1%|          | 1/115 [00:00<00:11,  9.83it/s]"
     ]
    },
    {
     "name": "stdout",
     "output_type": "stream",
     "text": [
      "Epoch: 18, train_loss: -2.326486587524414, valid_loss: -2.274984359741211\n"
     ]
    },
    {
     "name": "stderr",
     "output_type": "stream",
     "text": [
      "100%|██████████| 115/115 [00:12<00:00,  9.04it/s]\n",
      "100%|██████████| 16/16 [00:00<00:00, 22.65it/s]\n",
      "  1%|          | 1/115 [00:00<00:11,  9.53it/s]"
     ]
    },
    {
     "name": "stdout",
     "output_type": "stream",
     "text": [
      "Epoch: 19, train_loss: -2.363485097885132, valid_loss: -2.3173515796661377\n"
     ]
    },
    {
     "name": "stderr",
     "output_type": "stream",
     "text": [
      "100%|██████████| 115/115 [00:12<00:00,  8.86it/s]\n",
      "100%|██████████| 16/16 [00:00<00:00, 22.92it/s]\n",
      "  1%|          | 1/115 [00:00<00:11,  9.75it/s]"
     ]
    },
    {
     "name": "stdout",
     "output_type": "stream",
     "text": [
      "Epoch: 20, train_loss: -2.392119884490967, valid_loss: -2.3314623832702637\n"
     ]
    },
    {
     "name": "stderr",
     "output_type": "stream",
     "text": [
      "100%|██████████| 115/115 [00:12<00:00,  8.91it/s]\n",
      "100%|██████████| 16/16 [00:00<00:00, 21.94it/s]\n",
      "  1%|          | 1/115 [00:00<00:13,  8.60it/s]"
     ]
    },
    {
     "name": "stdout",
     "output_type": "stream",
     "text": [
      "Epoch: 21, train_loss: -2.404784917831421, valid_loss: -2.3414463996887207\n"
     ]
    },
    {
     "name": "stderr",
     "output_type": "stream",
     "text": [
      "100%|██████████| 115/115 [00:12<00:00,  8.92it/s]\n",
      "100%|██████████| 16/16 [00:00<00:00, 22.59it/s]\n",
      "  1%|          | 1/115 [00:00<00:11,  9.91it/s]"
     ]
    },
    {
     "name": "stdout",
     "output_type": "stream",
     "text": [
      "Epoch: 22, train_loss: -2.4147720336914062, valid_loss: -2.3574891090393066\n"
     ]
    },
    {
     "name": "stderr",
     "output_type": "stream",
     "text": [
      "100%|██████████| 115/115 [00:12<00:00,  8.88it/s]\n",
      "100%|██████████| 16/16 [00:00<00:00, 22.13it/s]\n",
      "  1%|          | 1/115 [00:00<00:12,  9.47it/s]"
     ]
    },
    {
     "name": "stdout",
     "output_type": "stream",
     "text": [
      "Epoch: 23, train_loss: -2.4188969135284424, valid_loss: -2.3696393966674805\n"
     ]
    },
    {
     "name": "stderr",
     "output_type": "stream",
     "text": [
      "100%|██████████| 115/115 [00:12<00:00,  8.95it/s]\n",
      "100%|██████████| 16/16 [00:00<00:00, 22.45it/s]\n",
      "  1%|          | 1/115 [00:00<00:13,  8.64it/s]"
     ]
    },
    {
     "name": "stdout",
     "output_type": "stream",
     "text": [
      "Epoch: 24, train_loss: -2.42510986328125, valid_loss: -2.3742964267730713\n"
     ]
    },
    {
     "name": "stderr",
     "output_type": "stream",
     "text": [
      "100%|██████████| 115/115 [00:12<00:00,  9.02it/s]\n",
      "100%|██████████| 16/16 [00:00<00:00, 22.71it/s]\n",
      "  1%|          | 1/115 [00:00<00:11,  9.56it/s]"
     ]
    },
    {
     "name": "stdout",
     "output_type": "stream",
     "text": [
      "Epoch: 25, train_loss: -2.4323723316192627, valid_loss: -2.377974033355713\n"
     ]
    },
    {
     "name": "stderr",
     "output_type": "stream",
     "text": [
      "100%|██████████| 115/115 [00:13<00:00,  8.72it/s]\n",
      "100%|██████████| 16/16 [00:00<00:00, 22.10it/s]\n",
      "  1%|          | 1/115 [00:00<00:11,  9.99it/s]"
     ]
    },
    {
     "name": "stdout",
     "output_type": "stream",
     "text": [
      "val loss increased, patience count:  1\n",
      "Epoch: 26, train_loss: -2.4424397945404053, valid_loss: -2.3603599071502686\n"
     ]
    },
    {
     "name": "stderr",
     "output_type": "stream",
     "text": [
      "100%|██████████| 115/115 [00:13<00:00,  8.83it/s]\n",
      "100%|██████████| 16/16 [00:00<00:00, 22.79it/s]\n",
      "  1%|          | 1/115 [00:00<00:12,  8.85it/s]"
     ]
    },
    {
     "name": "stdout",
     "output_type": "stream",
     "text": [
      "Epoch: 27, train_loss: -2.4474549293518066, valid_loss: -2.3984920978546143\n"
     ]
    },
    {
     "name": "stderr",
     "output_type": "stream",
     "text": [
      "100%|██████████| 115/115 [00:12<00:00,  8.91it/s]\n",
      "100%|██████████| 16/16 [00:00<00:00, 22.32it/s]\n",
      "  0%|          | 0/115 [00:00<?, ?it/s]"
     ]
    },
    {
     "name": "stdout",
     "output_type": "stream",
     "text": [
      "Epoch: 28, train_loss: -2.4505481719970703, valid_loss: -2.403759241104126\n"
     ]
    },
    {
     "name": "stderr",
     "output_type": "stream",
     "text": [
      "100%|██████████| 115/115 [00:12<00:00,  8.87it/s]\n",
      "100%|██████████| 16/16 [00:00<00:00, 23.27it/s]\n",
      "  1%|          | 1/115 [00:00<00:13,  8.60it/s]"
     ]
    },
    {
     "name": "stdout",
     "output_type": "stream",
     "text": [
      "Epoch: 29, train_loss: -2.451590061187744, valid_loss: -2.417989730834961\n"
     ]
    },
    {
     "name": "stderr",
     "output_type": "stream",
     "text": [
      "100%|██████████| 115/115 [00:12<00:00,  8.93it/s]\n",
      "100%|██████████| 16/16 [00:00<00:00, 22.43it/s]\n",
      "  1%|          | 1/115 [00:00<00:13,  8.16it/s]"
     ]
    },
    {
     "name": "stdout",
     "output_type": "stream",
     "text": [
      "Epoch: 30, train_loss: -2.4594168663024902, valid_loss: -2.4217817783355713\n"
     ]
    },
    {
     "name": "stderr",
     "output_type": "stream",
     "text": [
      "100%|██████████| 115/115 [00:13<00:00,  8.78it/s]\n",
      "100%|██████████| 16/16 [00:00<00:00, 22.87it/s]\n",
      "  1%|          | 1/115 [00:00<00:11,  9.65it/s]"
     ]
    },
    {
     "name": "stdout",
     "output_type": "stream",
     "text": [
      "val loss increased, patience count:  1\n",
      "Epoch: 31, train_loss: -2.4621458053588867, valid_loss: -2.409597873687744\n"
     ]
    },
    {
     "name": "stderr",
     "output_type": "stream",
     "text": [
      "100%|██████████| 115/115 [00:12<00:00,  8.89it/s]\n",
      "100%|██████████| 16/16 [00:00<00:00, 20.95it/s]\n",
      "  1%|          | 1/115 [00:00<00:13,  8.76it/s]"
     ]
    },
    {
     "name": "stdout",
     "output_type": "stream",
     "text": [
      "val loss increased, patience count:  2\n",
      "Epoch: 32, train_loss: -2.4680733680725098, valid_loss: -2.41422176361084\n"
     ]
    },
    {
     "name": "stderr",
     "output_type": "stream",
     "text": [
      "100%|██████████| 115/115 [00:12<00:00,  8.87it/s]\n",
      "100%|██████████| 16/16 [00:00<00:00, 21.74it/s]\n",
      "  1%|          | 1/115 [00:00<00:13,  8.70it/s]"
     ]
    },
    {
     "name": "stdout",
     "output_type": "stream",
     "text": [
      "val loss increased, patience count:  3\n",
      "Epoch: 33, train_loss: -2.4731600284576416, valid_loss: -2.403172731399536\n"
     ]
    },
    {
     "name": "stderr",
     "output_type": "stream",
     "text": [
      "100%|██████████| 115/115 [00:15<00:00,  7.31it/s]\n",
      "100%|██████████| 16/16 [00:00<00:00, 22.24it/s]\n",
      "  2%|▏         | 2/115 [00:00<00:11, 10.15it/s]"
     ]
    },
    {
     "name": "stdout",
     "output_type": "stream",
     "text": [
      "Epoch: 34, train_loss: -2.4729816913604736, valid_loss: -2.4246137142181396\n"
     ]
    },
    {
     "name": "stderr",
     "output_type": "stream",
     "text": [
      "100%|██████████| 115/115 [00:13<00:00,  8.80it/s]\n",
      "100%|██████████| 16/16 [00:00<00:00, 22.31it/s]\n",
      "  1%|          | 1/115 [00:00<00:13,  8.75it/s]"
     ]
    },
    {
     "name": "stdout",
     "output_type": "stream",
     "text": [
      "Epoch: 35, train_loss: -2.47481369972229, valid_loss: -2.42808198928833\n"
     ]
    },
    {
     "name": "stderr",
     "output_type": "stream",
     "text": [
      "100%|██████████| 115/115 [00:12<00:00,  8.94it/s]\n",
      "100%|██████████| 16/16 [00:00<00:00, 22.48it/s]\n",
      "  1%|          | 1/115 [00:00<00:12,  9.44it/s]"
     ]
    },
    {
     "name": "stdout",
     "output_type": "stream",
     "text": [
      "val loss increased, patience count:  1\n",
      "Epoch: 36, train_loss: -2.4806227684020996, valid_loss: -2.4179229736328125\n"
     ]
    },
    {
     "name": "stderr",
     "output_type": "stream",
     "text": [
      "100%|██████████| 115/115 [00:13<00:00,  8.71it/s]\n",
      "100%|██████████| 16/16 [00:00<00:00, 23.38it/s]\n",
      "  1%|          | 1/115 [00:00<00:12,  9.43it/s]"
     ]
    },
    {
     "name": "stdout",
     "output_type": "stream",
     "text": [
      "val loss increased, patience count:  2\n",
      "Epoch: 37, train_loss: -2.4846339225769043, valid_loss: -2.425616502761841\n"
     ]
    },
    {
     "name": "stderr",
     "output_type": "stream",
     "text": [
      "100%|██████████| 115/115 [00:12<00:00,  8.92it/s]\n",
      "100%|██████████| 16/16 [00:00<00:00, 22.30it/s]\n",
      "  1%|          | 1/115 [00:00<00:12,  9.35it/s]"
     ]
    },
    {
     "name": "stdout",
     "output_type": "stream",
     "text": [
      "val loss increased, patience count:  3\n",
      "Epoch: 38, train_loss: -2.487576961517334, valid_loss: -2.4232516288757324\n"
     ]
    },
    {
     "name": "stderr",
     "output_type": "stream",
     "text": [
      "100%|██████████| 115/115 [00:12<00:00,  8.92it/s]\n",
      "100%|██████████| 16/16 [00:00<00:00, 22.81it/s]\n",
      "  1%|          | 1/115 [00:00<00:11,  9.90it/s]"
     ]
    },
    {
     "name": "stdout",
     "output_type": "stream",
     "text": [
      "Epoch: 39, train_loss: -2.491260528564453, valid_loss: -2.4302592277526855\n"
     ]
    },
    {
     "name": "stderr",
     "output_type": "stream",
     "text": [
      "100%|██████████| 115/115 [00:13<00:00,  8.79it/s]\n",
      "100%|██████████| 16/16 [00:00<00:00, 23.10it/s]\n",
      "  1%|          | 1/115 [00:00<00:12,  8.84it/s]"
     ]
    },
    {
     "name": "stdout",
     "output_type": "stream",
     "text": [
      "val loss increased, patience count:  1\n",
      "Epoch: 40, train_loss: -2.494863271713257, valid_loss: -2.414274215698242\n"
     ]
    },
    {
     "name": "stderr",
     "output_type": "stream",
     "text": [
      "100%|██████████| 115/115 [00:12<00:00,  8.96it/s]\n",
      "100%|██████████| 16/16 [00:00<00:00, 21.85it/s]\n",
      "  1%|          | 1/115 [00:00<00:12,  8.97it/s]"
     ]
    },
    {
     "name": "stdout",
     "output_type": "stream",
     "text": [
      "Epoch: 41, train_loss: -2.5025827884674072, valid_loss: -2.449963092803955\n"
     ]
    },
    {
     "name": "stderr",
     "output_type": "stream",
     "text": [
      "100%|██████████| 115/115 [00:12<00:00,  8.93it/s]\n",
      "100%|██████████| 16/16 [00:00<00:00, 23.24it/s]\n",
      "  1%|          | 1/115 [00:00<00:12,  9.07it/s]"
     ]
    },
    {
     "name": "stdout",
     "output_type": "stream",
     "text": [
      "Epoch: 42, train_loss: -2.5101397037506104, valid_loss: -2.4507644176483154\n"
     ]
    },
    {
     "name": "stderr",
     "output_type": "stream",
     "text": [
      "100%|██████████| 115/115 [00:12<00:00,  8.96it/s]\n",
      "100%|██████████| 16/16 [00:00<00:00, 21.20it/s]\n",
      "  1%|          | 1/115 [00:00<00:12,  9.49it/s]"
     ]
    },
    {
     "name": "stdout",
     "output_type": "stream",
     "text": [
      "Epoch: 43, train_loss: -2.5176539421081543, valid_loss: -2.459653377532959\n"
     ]
    },
    {
     "name": "stderr",
     "output_type": "stream",
     "text": [
      "100%|██████████| 115/115 [00:13<00:00,  8.83it/s]\n",
      "100%|██████████| 16/16 [00:00<00:00, 22.47it/s]\n",
      "  1%|          | 1/115 [00:00<00:13,  8.42it/s]"
     ]
    },
    {
     "name": "stdout",
     "output_type": "stream",
     "text": [
      "val loss increased, patience count:  1\n",
      "Epoch: 44, train_loss: -2.517350435256958, valid_loss: -2.4535422325134277\n"
     ]
    },
    {
     "name": "stderr",
     "output_type": "stream",
     "text": [
      "100%|██████████| 115/115 [00:12<00:00,  8.85it/s]\n",
      "100%|██████████| 16/16 [00:00<00:00, 23.46it/s]\n",
      "  1%|          | 1/115 [00:00<00:11,  9.62it/s]"
     ]
    },
    {
     "name": "stdout",
     "output_type": "stream",
     "text": [
      "Epoch: 45, train_loss: -2.5206072330474854, valid_loss: -2.4658169746398926\n"
     ]
    },
    {
     "name": "stderr",
     "output_type": "stream",
     "text": [
      "100%|██████████| 115/115 [00:13<00:00,  8.76it/s]\n",
      "100%|██████████| 16/16 [00:00<00:00, 22.11it/s]\n",
      "  0%|          | 0/115 [00:00<?, ?it/s]"
     ]
    },
    {
     "name": "stdout",
     "output_type": "stream",
     "text": [
      "val loss increased, patience count:  1\n",
      "Epoch: 46, train_loss: -2.52449369430542, valid_loss: -2.4646546840667725\n"
     ]
    },
    {
     "name": "stderr",
     "output_type": "stream",
     "text": [
      "100%|██████████| 115/115 [00:12<00:00,  9.00it/s]\n",
      "100%|██████████| 16/16 [00:00<00:00, 21.86it/s]\n",
      "  1%|          | 1/115 [00:00<00:13,  8.39it/s]"
     ]
    },
    {
     "name": "stdout",
     "output_type": "stream",
     "text": [
      "Epoch: 47, train_loss: -2.524332046508789, valid_loss: -2.467376708984375\n"
     ]
    },
    {
     "name": "stderr",
     "output_type": "stream",
     "text": [
      "100%|██████████| 115/115 [00:12<00:00,  8.96it/s]\n",
      "100%|██████████| 16/16 [00:00<00:00, 22.49it/s]\n",
      "  1%|          | 1/115 [00:00<00:11,  9.55it/s]"
     ]
    },
    {
     "name": "stdout",
     "output_type": "stream",
     "text": [
      "val loss increased, patience count:  1\n",
      "Epoch: 48, train_loss: -2.5274853706359863, valid_loss: -2.4652862548828125\n"
     ]
    },
    {
     "name": "stderr",
     "output_type": "stream",
     "text": [
      "100%|██████████| 115/115 [00:13<00:00,  8.80it/s]\n",
      "100%|██████████| 16/16 [00:00<00:00, 21.16it/s]\n"
     ]
    },
    {
     "name": "stdout",
     "output_type": "stream",
     "text": [
      "Epoch: 49, train_loss: -2.528139352798462, valid_loss: -2.4813013076782227\n"
     ]
    },
    {
     "name": "stderr",
     "output_type": "stream",
     "text": [
      "\r",
      "  0%|          | 0/28 [00:00<?, ?it/s]"
     ]
    },
    {
     "name": "stdout",
     "output_type": "stream",
     "text": [
      "{'BATCH_SIZE': 512, 'EPOCHS': 50, 'OPTIMIZER': <class 'torch.optim.adam.Adam'>, 'LEARNING_RATE': 5e-05, 'LOSS': protop_loss_0.5_0.5, 'EARLY_STOPPING': True, 'PATIENCE': 3, 'MIN_DELTA': 0.0001, 'MAXPOOL': 2, 'OBO_SIZES': array([512]), 'PROTOTYPE_NUM': 20, 'DROPOUT': 0.7, 'HIDDEN_SIZES': array([128, 256]), 'KERNEL_SIZES': array([9, 3])}\n"
     ]
    },
    {
     "name": "stderr",
     "output_type": "stream",
     "text": [
      "100%|██████████| 28/28 [01:05<00:00,  2.34s/it]\n",
      "100%|██████████| 4/4 [00:04<00:00,  1.04s/it]\n",
      "  0%|          | 0/28 [00:00<?, ?it/s]"
     ]
    },
    {
     "name": "stdout",
     "output_type": "stream",
     "text": [
      "Epoch: 0, train_loss: 0.5226174592971802, valid_loss: 0.3765115737915039\n"
     ]
    },
    {
     "name": "stderr",
     "output_type": "stream",
     "text": [
      "100%|██████████| 28/28 [01:05<00:00,  2.34s/it]\n",
      "100%|██████████| 4/4 [00:03<00:00,  1.02it/s]\n",
      "  0%|          | 0/28 [00:00<?, ?it/s]"
     ]
    },
    {
     "name": "stdout",
     "output_type": "stream",
     "text": [
      "Epoch: 1, train_loss: 0.1719803661108017, valid_loss: -0.04352378845214844\n"
     ]
    },
    {
     "name": "stderr",
     "output_type": "stream",
     "text": [
      "100%|██████████| 28/28 [01:05<00:00,  2.35s/it]\n",
      "100%|██████████| 4/4 [00:03<00:00,  1.02it/s]\n",
      "  0%|          | 0/28 [00:00<?, ?it/s]"
     ]
    },
    {
     "name": "stdout",
     "output_type": "stream",
     "text": [
      "Epoch: 2, train_loss: -0.2860599458217621, valid_loss: -0.49159932136535645\n"
     ]
    },
    {
     "name": "stderr",
     "output_type": "stream",
     "text": [
      "100%|██████████| 28/28 [01:05<00:00,  2.34s/it]\n",
      "100%|██████████| 4/4 [00:03<00:00,  1.03it/s]\n",
      "  0%|          | 0/28 [00:00<?, ?it/s]"
     ]
    },
    {
     "name": "stdout",
     "output_type": "stream",
     "text": [
      "Epoch: 3, train_loss: -0.6709427237510681, valid_loss: -0.8119447231292725\n"
     ]
    },
    {
     "name": "stderr",
     "output_type": "stream",
     "text": [
      "100%|██████████| 28/28 [01:05<00:00,  2.36s/it]\n",
      "100%|██████████| 4/4 [00:03<00:00,  1.00it/s]\n",
      "  0%|          | 0/28 [00:00<?, ?it/s]"
     ]
    },
    {
     "name": "stdout",
     "output_type": "stream",
     "text": [
      "Epoch: 4, train_loss: -0.9921545386314392, valid_loss: -1.061238408088684\n"
     ]
    },
    {
     "name": "stderr",
     "output_type": "stream",
     "text": [
      "100%|██████████| 28/28 [01:05<00:00,  2.34s/it]\n",
      "100%|██████████| 4/4 [00:03<00:00,  1.03it/s]\n",
      "  0%|          | 0/28 [00:00<?, ?it/s]"
     ]
    },
    {
     "name": "stdout",
     "output_type": "stream",
     "text": [
      "Epoch: 5, train_loss: -1.1389659643173218, valid_loss: -1.1313308477401733\n"
     ]
    },
    {
     "name": "stderr",
     "output_type": "stream",
     "text": [
      "100%|██████████| 28/28 [01:06<00:00,  2.37s/it]\n",
      "100%|██████████| 4/4 [00:03<00:00,  1.04it/s]\n",
      "  0%|          | 0/28 [00:00<?, ?it/s]"
     ]
    },
    {
     "name": "stdout",
     "output_type": "stream",
     "text": [
      "Epoch: 6, train_loss: -1.1920448541641235, valid_loss: -1.1747890710830688\n"
     ]
    },
    {
     "name": "stderr",
     "output_type": "stream",
     "text": [
      "100%|██████████| 28/28 [01:05<00:00,  2.34s/it]\n",
      "100%|██████████| 4/4 [00:03<00:00,  1.03it/s]\n",
      "  0%|          | 0/28 [00:00<?, ?it/s]"
     ]
    },
    {
     "name": "stdout",
     "output_type": "stream",
     "text": [
      "Epoch: 7, train_loss: -1.2186148166656494, valid_loss: -1.2042409181594849\n"
     ]
    },
    {
     "name": "stderr",
     "output_type": "stream",
     "text": [
      "100%|██████████| 28/28 [01:05<00:00,  2.35s/it]\n",
      "100%|██████████| 4/4 [00:03<00:00,  1.04it/s]\n",
      "  0%|          | 0/28 [00:00<?, ?it/s]"
     ]
    },
    {
     "name": "stdout",
     "output_type": "stream",
     "text": [
      "Epoch: 8, train_loss: -1.2335137128829956, valid_loss: -1.2045420408248901\n"
     ]
    },
    {
     "name": "stderr",
     "output_type": "stream",
     "text": [
      "100%|██████████| 28/28 [01:05<00:00,  2.36s/it]\n",
      "100%|██████████| 4/4 [00:03<00:00,  1.03it/s]\n",
      "  0%|          | 0/28 [00:00<?, ?it/s]"
     ]
    },
    {
     "name": "stdout",
     "output_type": "stream",
     "text": [
      "Epoch: 9, train_loss: -1.2489283084869385, valid_loss: -1.2128279209136963\n"
     ]
    },
    {
     "name": "stderr",
     "output_type": "stream",
     "text": [
      "100%|██████████| 28/28 [01:05<00:00,  2.34s/it]\n",
      "100%|██████████| 4/4 [00:03<00:00,  1.02it/s]\n",
      "  0%|          | 0/28 [00:00<?, ?it/s]"
     ]
    },
    {
     "name": "stdout",
     "output_type": "stream",
     "text": [
      "Epoch: 10, train_loss: -1.263825535774231, valid_loss: -1.228581190109253\n"
     ]
    },
    {
     "name": "stderr",
     "output_type": "stream",
     "text": [
      "100%|██████████| 28/28 [01:05<00:00,  2.35s/it]\n",
      "100%|██████████| 4/4 [00:03<00:00,  1.04it/s]\n",
      "  0%|          | 0/28 [00:00<?, ?it/s]"
     ]
    },
    {
     "name": "stdout",
     "output_type": "stream",
     "text": [
      "Epoch: 11, train_loss: -1.2669780254364014, valid_loss: -1.2339504957199097\n"
     ]
    },
    {
     "name": "stderr",
     "output_type": "stream",
     "text": [
      "100%|██████████| 28/28 [01:05<00:00,  2.33s/it]\n",
      "100%|██████████| 4/4 [00:04<00:00,  1.00s/it]\n",
      "  0%|          | 0/28 [00:00<?, ?it/s]"
     ]
    },
    {
     "name": "stdout",
     "output_type": "stream",
     "text": [
      "val loss increased, patience count:  1\n",
      "Epoch: 12, train_loss: -1.271655797958374, valid_loss: -1.2324376106262207\n"
     ]
    },
    {
     "name": "stderr",
     "output_type": "stream",
     "text": [
      "100%|██████████| 28/28 [01:06<00:00,  2.36s/it]\n",
      "100%|██████████| 4/4 [00:04<00:00,  1.00s/it]\n",
      "  0%|          | 0/28 [00:00<?, ?it/s]"
     ]
    },
    {
     "name": "stdout",
     "output_type": "stream",
     "text": [
      "Epoch: 13, train_loss: -1.2832404375076294, valid_loss: -1.2402091026306152\n"
     ]
    },
    {
     "name": "stderr",
     "output_type": "stream",
     "text": [
      "100%|██████████| 28/28 [01:05<00:00,  2.33s/it]\n",
      "100%|██████████| 4/4 [00:03<00:00,  1.05it/s]\n",
      "  0%|          | 0/28 [00:00<?, ?it/s]"
     ]
    },
    {
     "name": "stdout",
     "output_type": "stream",
     "text": [
      "Epoch: 14, train_loss: -1.283423662185669, valid_loss: -1.2541701793670654\n"
     ]
    },
    {
     "name": "stderr",
     "output_type": "stream",
     "text": [
      "100%|██████████| 28/28 [01:05<00:00,  2.34s/it]\n",
      "100%|██████████| 4/4 [00:03<00:00,  1.03it/s]\n",
      "  0%|          | 0/28 [00:00<?, ?it/s]"
     ]
    },
    {
     "name": "stdout",
     "output_type": "stream",
     "text": [
      "Epoch: 15, train_loss: -1.2860468626022339, valid_loss: -1.2640149593353271\n"
     ]
    },
    {
     "name": "stderr",
     "output_type": "stream",
     "text": [
      "100%|██████████| 28/28 [01:05<00:00,  2.33s/it]\n",
      "100%|██████████| 4/4 [00:04<00:00,  1.04s/it]\n",
      "  0%|          | 0/28 [00:00<?, ?it/s]"
     ]
    },
    {
     "name": "stdout",
     "output_type": "stream",
     "text": [
      "val loss increased, patience count:  1\n",
      "Epoch: 16, train_loss: -1.2865647077560425, valid_loss: -1.2556971311569214\n"
     ]
    },
    {
     "name": "stderr",
     "output_type": "stream",
     "text": [
      "100%|██████████| 28/28 [01:05<00:00,  2.34s/it]\n",
      "100%|██████████| 4/4 [00:03<00:00,  1.03it/s]\n",
      "  0%|          | 0/28 [00:00<?, ?it/s]"
     ]
    },
    {
     "name": "stdout",
     "output_type": "stream",
     "text": [
      "val loss increased, patience count:  2\n",
      "Epoch: 17, train_loss: -1.2908374071121216, valid_loss: -1.2542173862457275\n"
     ]
    },
    {
     "name": "stderr",
     "output_type": "stream",
     "text": [
      "100%|██████████| 28/28 [01:05<00:00,  2.34s/it]\n",
      "100%|██████████| 4/4 [00:03<00:00,  1.05it/s]\n",
      "  0%|          | 0/28 [00:00<?, ?it/s]"
     ]
    },
    {
     "name": "stdout",
     "output_type": "stream",
     "text": [
      "val loss increased, patience count:  3\n",
      "Epoch: 18, train_loss: -1.2905555963516235, valid_loss: -1.2622908353805542\n"
     ]
    },
    {
     "name": "stderr",
     "output_type": "stream",
     "text": [
      "100%|██████████| 28/28 [01:05<00:00,  2.35s/it]\n",
      "100%|██████████| 4/4 [00:03<00:00,  1.02it/s]\n"
     ]
    },
    {
     "name": "stdout",
     "output_type": "stream",
     "text": [
      "Early stopped at Epoch:  19\n"
     ]
    },
    {
     "name": "stderr",
     "output_type": "stream",
     "text": [
      "\r",
      "  0%|          | 0/28 [00:00<?, ?it/s]"
     ]
    },
    {
     "name": "stdout",
     "output_type": "stream",
     "text": [
      "{'BATCH_SIZE': 512, 'EPOCHS': 40, 'OPTIMIZER': <class 'torch.optim.adam.Adam'>, 'LEARNING_RATE': 0.0005, 'LOSS': protop_loss_0.3_0.1, 'EARLY_STOPPING': True, 'PATIENCE': 2, 'MIN_DELTA': 0.001, 'MAXPOOL': 2, 'OBO_SIZES': array([64]), 'PROTOTYPE_NUM': 20, 'DROPOUT': 0.3, 'HIDDEN_SIZES': array([128, 256]), 'KERNEL_SIZES': array([7, 5])}\n"
     ]
    },
    {
     "name": "stderr",
     "output_type": "stream",
     "text": [
      "100%|██████████| 28/28 [00:09<00:00,  3.02it/s]\n",
      "100%|██████████| 4/4 [00:00<00:00,  7.69it/s]\n",
      "  0%|          | 0/28 [00:00<?, ?it/s]"
     ]
    },
    {
     "name": "stdout",
     "output_type": "stream",
     "text": [
      "Epoch: 0, train_loss: 1.0553327798843384, valid_loss: 0.9345985054969788\n"
     ]
    },
    {
     "name": "stderr",
     "output_type": "stream",
     "text": [
      "100%|██████████| 28/28 [00:09<00:00,  3.04it/s]\n",
      "100%|██████████| 4/4 [00:00<00:00,  7.55it/s]\n",
      "  0%|          | 0/28 [00:00<?, ?it/s]"
     ]
    },
    {
     "name": "stdout",
     "output_type": "stream",
     "text": [
      "Epoch: 1, train_loss: 0.8898323774337769, valid_loss: 0.852617621421814\n"
     ]
    },
    {
     "name": "stderr",
     "output_type": "stream",
     "text": [
      "100%|██████████| 28/28 [00:09<00:00,  2.88it/s]\n",
      "100%|██████████| 4/4 [00:00<00:00,  7.32it/s]\n",
      "  0%|          | 0/28 [00:00<?, ?it/s]"
     ]
    },
    {
     "name": "stdout",
     "output_type": "stream",
     "text": [
      "Epoch: 2, train_loss: 0.822794497013092, valid_loss: 0.8218615055084229\n"
     ]
    },
    {
     "name": "stderr",
     "output_type": "stream",
     "text": [
      "100%|██████████| 28/28 [00:09<00:00,  3.04it/s]\n",
      "100%|██████████| 4/4 [00:00<00:00,  7.49it/s]\n",
      "  0%|          | 0/28 [00:00<?, ?it/s]"
     ]
    },
    {
     "name": "stdout",
     "output_type": "stream",
     "text": [
      "Epoch: 3, train_loss: 0.7974034547805786, valid_loss: 0.7991580963134766\n"
     ]
    },
    {
     "name": "stderr",
     "output_type": "stream",
     "text": [
      "100%|██████████| 28/28 [00:09<00:00,  3.00it/s]\n",
      "100%|██████████| 4/4 [00:00<00:00,  7.52it/s]\n",
      "  0%|          | 0/28 [00:00<?, ?it/s]"
     ]
    },
    {
     "name": "stdout",
     "output_type": "stream",
     "text": [
      "Epoch: 4, train_loss: 0.7764649391174316, valid_loss: 0.7861174941062927\n"
     ]
    },
    {
     "name": "stderr",
     "output_type": "stream",
     "text": [
      "100%|██████████| 28/28 [00:09<00:00,  3.06it/s]\n",
      "100%|██████████| 4/4 [00:00<00:00,  7.70it/s]\n",
      "  0%|          | 0/28 [00:00<?, ?it/s]"
     ]
    },
    {
     "name": "stdout",
     "output_type": "stream",
     "text": [
      "Epoch: 5, train_loss: 0.7604154944419861, valid_loss: 0.7745488882064819\n"
     ]
    },
    {
     "name": "stderr",
     "output_type": "stream",
     "text": [
      "100%|██████████| 28/28 [00:09<00:00,  3.09it/s]\n",
      "100%|██████████| 4/4 [00:00<00:00,  7.41it/s]\n",
      "  0%|          | 0/28 [00:00<?, ?it/s]"
     ]
    },
    {
     "name": "stdout",
     "output_type": "stream",
     "text": [
      "Epoch: 6, train_loss: 0.7404688000679016, valid_loss: 0.7539917826652527\n"
     ]
    },
    {
     "name": "stderr",
     "output_type": "stream",
     "text": [
      "100%|██████████| 28/28 [00:09<00:00,  3.07it/s]\n",
      "100%|██████████| 4/4 [00:00<00:00,  6.52it/s]\n",
      "  0%|          | 0/28 [00:00<?, ?it/s]"
     ]
    },
    {
     "name": "stdout",
     "output_type": "stream",
     "text": [
      "Epoch: 7, train_loss: 0.7201477885246277, valid_loss: 0.7453600168228149\n"
     ]
    },
    {
     "name": "stderr",
     "output_type": "stream",
     "text": [
      "100%|██████████| 28/28 [00:09<00:00,  3.03it/s]\n",
      "100%|██████████| 4/4 [00:00<00:00,  7.08it/s]\n",
      "  0%|          | 0/28 [00:00<?, ?it/s]"
     ]
    },
    {
     "name": "stdout",
     "output_type": "stream",
     "text": [
      "Epoch: 8, train_loss: 0.7117811441421509, valid_loss: 0.7407451868057251\n"
     ]
    },
    {
     "name": "stderr",
     "output_type": "stream",
     "text": [
      "100%|██████████| 28/28 [00:09<00:00,  3.04it/s]\n",
      "100%|██████████| 4/4 [00:00<00:00,  7.48it/s]\n",
      "  0%|          | 0/28 [00:00<?, ?it/s]"
     ]
    },
    {
     "name": "stdout",
     "output_type": "stream",
     "text": [
      "Epoch: 9, train_loss: 0.7040916681289673, valid_loss: 0.7377313375473022\n"
     ]
    },
    {
     "name": "stderr",
     "output_type": "stream",
     "text": [
      "100%|██████████| 28/28 [00:09<00:00,  3.04it/s]\n",
      "100%|██████████| 4/4 [00:00<00:00,  7.45it/s]\n",
      "  0%|          | 0/28 [00:00<?, ?it/s]"
     ]
    },
    {
     "name": "stdout",
     "output_type": "stream",
     "text": [
      "Epoch: 10, train_loss: 0.697175145149231, valid_loss: 0.7355974912643433\n"
     ]
    },
    {
     "name": "stderr",
     "output_type": "stream",
     "text": [
      "100%|██████████| 28/28 [00:09<00:00,  3.07it/s]\n",
      "100%|██████████| 4/4 [00:00<00:00,  7.10it/s]\n",
      "  0%|          | 0/28 [00:00<?, ?it/s]"
     ]
    },
    {
     "name": "stdout",
     "output_type": "stream",
     "text": [
      "val loss increased, patience count:  1\n",
      "Epoch: 11, train_loss: 0.6909209489822388, valid_loss: 0.7358688712120056\n"
     ]
    },
    {
     "name": "stderr",
     "output_type": "stream",
     "text": [
      "100%|██████████| 28/28 [00:09<00:00,  3.04it/s]\n",
      "100%|██████████| 4/4 [00:00<00:00,  7.79it/s]\n",
      "  0%|          | 0/28 [00:00<?, ?it/s]"
     ]
    },
    {
     "name": "stdout",
     "output_type": "stream",
     "text": [
      "val loss increased, patience count:  2\n",
      "Epoch: 12, train_loss: 0.6862891912460327, valid_loss: 0.7357069849967957\n"
     ]
    },
    {
     "name": "stderr",
     "output_type": "stream",
     "text": [
      "100%|██████████| 28/28 [00:09<00:00,  2.99it/s]\n",
      "100%|██████████| 4/4 [00:00<00:00,  6.99it/s]\n",
      "  0%|          | 0/28 [00:00<?, ?it/s]"
     ]
    },
    {
     "name": "stdout",
     "output_type": "stream",
     "text": [
      "Epoch: 13, train_loss: 0.6776670217514038, valid_loss: 0.7328359484672546\n"
     ]
    },
    {
     "name": "stderr",
     "output_type": "stream",
     "text": [
      "100%|██████████| 28/28 [00:09<00:00,  2.99it/s]\n",
      "100%|██████████| 4/4 [00:00<00:00,  7.42it/s]\n",
      "  0%|          | 0/28 [00:00<?, ?it/s]"
     ]
    },
    {
     "name": "stdout",
     "output_type": "stream",
     "text": [
      "val loss increased, patience count:  1\n",
      "Epoch: 14, train_loss: 0.6720060706138611, valid_loss: 0.7330242991447449\n"
     ]
    },
    {
     "name": "stderr",
     "output_type": "stream",
     "text": [
      "100%|██████████| 28/28 [00:09<00:00,  3.05it/s]\n",
      "100%|██████████| 4/4 [00:00<00:00,  7.17it/s]\n",
      "  0%|          | 0/28 [00:00<?, ?it/s]"
     ]
    },
    {
     "name": "stdout",
     "output_type": "stream",
     "text": [
      "Epoch: 15, train_loss: 0.6619085073471069, valid_loss: 0.7265836000442505\n"
     ]
    },
    {
     "name": "stderr",
     "output_type": "stream",
     "text": [
      "100%|██████████| 28/28 [00:09<00:00,  3.03it/s]\n",
      "100%|██████████| 4/4 [00:00<00:00,  7.19it/s]\n",
      "  0%|          | 0/28 [00:00<?, ?it/s]"
     ]
    },
    {
     "name": "stdout",
     "output_type": "stream",
     "text": [
      "val loss increased, patience count:  1\n",
      "Epoch: 16, train_loss: 0.6562806367874146, valid_loss: 0.729577898979187\n"
     ]
    },
    {
     "name": "stderr",
     "output_type": "stream",
     "text": [
      "100%|██████████| 28/28 [00:09<00:00,  3.04it/s]\n",
      "100%|██████████| 4/4 [00:00<00:00,  7.52it/s]\n",
      "  0%|          | 0/28 [00:00<?, ?it/s]"
     ]
    },
    {
     "name": "stdout",
     "output_type": "stream",
     "text": [
      "val loss increased, patience count:  2\n",
      "Epoch: 17, train_loss: 0.6479954719543457, valid_loss: 0.7316992282867432\n"
     ]
    },
    {
     "name": "stderr",
     "output_type": "stream",
     "text": [
      "100%|██████████| 28/28 [00:09<00:00,  3.09it/s]\n",
      "100%|██████████| 4/4 [00:00<00:00,  7.53it/s]\n",
      "  0%|          | 0/28 [00:00<?, ?it/s]"
     ]
    },
    {
     "name": "stdout",
     "output_type": "stream",
     "text": [
      "Epoch: 18, train_loss: 0.5956240296363831, valid_loss: 0.6170060038566589\n"
     ]
    },
    {
     "name": "stderr",
     "output_type": "stream",
     "text": [
      "100%|██████████| 28/28 [00:09<00:00,  3.00it/s]\n",
      "100%|██████████| 4/4 [00:00<00:00,  7.80it/s]\n",
      "  0%|          | 0/28 [00:00<?, ?it/s]"
     ]
    },
    {
     "name": "stdout",
     "output_type": "stream",
     "text": [
      "Epoch: 19, train_loss: 0.48096105456352234, valid_loss: 0.6012462377548218\n"
     ]
    },
    {
     "name": "stderr",
     "output_type": "stream",
     "text": [
      "100%|██████████| 28/28 [00:09<00:00,  3.03it/s]\n",
      "100%|██████████| 4/4 [00:00<00:00,  7.16it/s]\n",
      "  0%|          | 0/28 [00:00<?, ?it/s]"
     ]
    },
    {
     "name": "stdout",
     "output_type": "stream",
     "text": [
      "Epoch: 20, train_loss: 0.4604763686656952, valid_loss: 0.5879024863243103\n"
     ]
    },
    {
     "name": "stderr",
     "output_type": "stream",
     "text": [
      "100%|██████████| 28/28 [00:09<00:00,  3.05it/s]\n",
      "100%|██████████| 4/4 [00:00<00:00,  7.69it/s]\n",
      "  0%|          | 0/28 [00:00<?, ?it/s]"
     ]
    },
    {
     "name": "stdout",
     "output_type": "stream",
     "text": [
      "val loss increased, patience count:  1\n",
      "Epoch: 21, train_loss: 0.4490158259868622, valid_loss: 0.6102654933929443\n"
     ]
    },
    {
     "name": "stderr",
     "output_type": "stream",
     "text": [
      "100%|██████████| 28/28 [00:09<00:00,  3.02it/s]\n",
      "100%|██████████| 4/4 [00:00<00:00,  7.52it/s]\n",
      "  0%|          | 0/28 [00:00<?, ?it/s]"
     ]
    },
    {
     "name": "stdout",
     "output_type": "stream",
     "text": [
      "val loss increased, patience count:  2\n",
      "Epoch: 22, train_loss: 0.43987149000167847, valid_loss: 0.588352382183075\n"
     ]
    },
    {
     "name": "stderr",
     "output_type": "stream",
     "text": [
      "100%|██████████| 28/28 [00:09<00:00,  3.03it/s]\n",
      "100%|██████████| 4/4 [00:00<00:00,  7.19it/s]\n"
     ]
    },
    {
     "name": "stdout",
     "output_type": "stream",
     "text": [
      "Early stopped at Epoch:  23\n"
     ]
    },
    {
     "name": "stderr",
     "output_type": "stream",
     "text": [
      "\r",
      "  0%|          | 0/28 [00:00<?, ?it/s]"
     ]
    },
    {
     "name": "stdout",
     "output_type": "stream",
     "text": [
      "{'BATCH_SIZE': 512, 'EPOCHS': 50, 'OPTIMIZER': <class 'torch.optim.adam.Adam'>, 'LEARNING_RATE': 0.0001, 'LOSS': protop_loss_0.5_0.5, 'EARLY_STOPPING': True, 'PATIENCE': 3, 'MIN_DELTA': 0.0001, 'MAXPOOL': 2, 'OBO_SIZES': array([256]), 'PROTOTYPE_NUM': 20, 'DROPOUT': 0.3, 'HIDDEN_SIZES': array([256, 512]), 'KERNEL_SIZES': array([9, 5])}\n"
     ]
    },
    {
     "name": "stderr",
     "output_type": "stream",
     "text": [
      "100%|██████████| 28/28 [00:51<00:00,  1.85s/it]\n",
      "100%|██████████| 4/4 [00:02<00:00,  1.35it/s]\n",
      "  0%|          | 0/28 [00:00<?, ?it/s]"
     ]
    },
    {
     "name": "stdout",
     "output_type": "stream",
     "text": [
      "Epoch: 0, train_loss: 0.049583081156015396, valid_loss: -0.44537460803985596\n"
     ]
    },
    {
     "name": "stderr",
     "output_type": "stream",
     "text": [
      "100%|██████████| 28/28 [00:50<00:00,  1.82s/it]\n",
      "100%|██████████| 4/4 [00:02<00:00,  1.35it/s]\n",
      "  0%|          | 0/28 [00:00<?, ?it/s]"
     ]
    },
    {
     "name": "stdout",
     "output_type": "stream",
     "text": [
      "Epoch: 1, train_loss: -0.7070085406303406, valid_loss: -0.8067436814308167\n"
     ]
    },
    {
     "name": "stderr",
     "output_type": "stream",
     "text": [
      "100%|██████████| 28/28 [00:51<00:00,  1.85s/it]\n",
      "100%|██████████| 4/4 [00:03<00:00,  1.19it/s]\n",
      "  0%|          | 0/28 [00:00<?, ?it/s]"
     ]
    },
    {
     "name": "stdout",
     "output_type": "stream",
     "text": [
      "Epoch: 2, train_loss: -0.8697219491004944, valid_loss: -0.8540986180305481\n"
     ]
    },
    {
     "name": "stderr",
     "output_type": "stream",
     "text": [
      "100%|██████████| 28/28 [00:51<00:00,  1.84s/it]\n",
      "100%|██████████| 4/4 [00:03<00:00,  1.30it/s]\n",
      "  0%|          | 0/28 [00:00<?, ?it/s]"
     ]
    },
    {
     "name": "stdout",
     "output_type": "stream",
     "text": [
      "Epoch: 3, train_loss: -0.8984348177909851, valid_loss: -0.8794687986373901\n"
     ]
    },
    {
     "name": "stderr",
     "output_type": "stream",
     "text": [
      "100%|██████████| 28/28 [00:52<00:00,  1.86s/it]\n",
      "100%|██████████| 4/4 [00:02<00:00,  1.36it/s]\n",
      "  0%|          | 0/28 [00:00<?, ?it/s]"
     ]
    },
    {
     "name": "stdout",
     "output_type": "stream",
     "text": [
      "val loss increased, patience count:  1\n",
      "Epoch: 4, train_loss: -0.9063199758529663, valid_loss: -0.8732808828353882\n"
     ]
    },
    {
     "name": "stderr",
     "output_type": "stream",
     "text": [
      "100%|██████████| 28/28 [00:50<00:00,  1.82s/it]\n",
      "100%|██████████| 4/4 [00:02<00:00,  1.35it/s]\n",
      "  0%|          | 0/28 [00:00<?, ?it/s]"
     ]
    },
    {
     "name": "stdout",
     "output_type": "stream",
     "text": [
      "Epoch: 5, train_loss: -0.9114617705345154, valid_loss: -0.8850789070129395\n"
     ]
    },
    {
     "name": "stderr",
     "output_type": "stream",
     "text": [
      "100%|██████████| 28/28 [00:52<00:00,  1.86s/it]\n",
      "100%|██████████| 4/4 [00:03<00:00,  1.07it/s]\n",
      "  0%|          | 0/28 [00:00<?, ?it/s]"
     ]
    },
    {
     "name": "stdout",
     "output_type": "stream",
     "text": [
      "Epoch: 6, train_loss: -0.9144037365913391, valid_loss: -0.8926268219947815\n"
     ]
    },
    {
     "name": "stderr",
     "output_type": "stream",
     "text": [
      "100%|██████████| 28/28 [00:52<00:00,  1.87s/it]\n",
      "100%|██████████| 4/4 [00:02<00:00,  1.34it/s]\n",
      "  0%|          | 0/28 [00:00<?, ?it/s]"
     ]
    },
    {
     "name": "stdout",
     "output_type": "stream",
     "text": [
      "Epoch: 7, train_loss: -0.9217028021812439, valid_loss: -0.9049591422080994\n"
     ]
    },
    {
     "name": "stderr",
     "output_type": "stream",
     "text": [
      "100%|██████████| 28/28 [00:51<00:00,  1.84s/it]\n",
      "100%|██████████| 4/4 [00:02<00:00,  1.36it/s]\n",
      "  0%|          | 0/28 [00:00<?, ?it/s]"
     ]
    },
    {
     "name": "stdout",
     "output_type": "stream",
     "text": [
      "val loss increased, patience count:  1\n",
      "Epoch: 8, train_loss: -0.9225187301635742, valid_loss: -0.9016225337982178\n"
     ]
    },
    {
     "name": "stderr",
     "output_type": "stream",
     "text": [
      "100%|██████████| 28/28 [00:50<00:00,  1.82s/it]\n",
      "100%|██████████| 4/4 [00:02<00:00,  1.39it/s]\n",
      "  0%|          | 0/28 [00:00<?, ?it/s]"
     ]
    },
    {
     "name": "stdout",
     "output_type": "stream",
     "text": [
      "val loss increased, patience count:  2\n",
      "Epoch: 9, train_loss: -0.9230176210403442, valid_loss: -0.8886083364486694\n"
     ]
    },
    {
     "name": "stderr",
     "output_type": "stream",
     "text": [
      "100%|██████████| 28/28 [00:51<00:00,  1.84s/it]\n",
      "100%|██████████| 4/4 [00:02<00:00,  1.35it/s]\n",
      "  0%|          | 0/28 [00:00<?, ?it/s]"
     ]
    },
    {
     "name": "stdout",
     "output_type": "stream",
     "text": [
      "val loss increased, patience count:  3\n",
      "Epoch: 10, train_loss: -0.9296789765357971, valid_loss: -0.903069019317627\n"
     ]
    },
    {
     "name": "stderr",
     "output_type": "stream",
     "text": [
      "100%|██████████| 28/28 [00:52<00:00,  1.86s/it]\n",
      "100%|██████████| 4/4 [00:02<00:00,  1.34it/s]\n"
     ]
    },
    {
     "name": "stdout",
     "output_type": "stream",
     "text": [
      "Early stopped at Epoch:  11\n"
     ]
    },
    {
     "name": "stderr",
     "output_type": "stream",
     "text": [
      "\r",
      "  0%|          | 0/28 [00:00<?, ?it/s]"
     ]
    },
    {
     "name": "stdout",
     "output_type": "stream",
     "text": [
      "{'BATCH_SIZE': 512, 'EPOCHS': 20, 'OPTIMIZER': <class 'torch.optim.adam.Adam'>, 'LEARNING_RATE': 0.0005, 'LOSS': protop_loss_1_0.5, 'EARLY_STOPPING': True, 'PATIENCE': 3, 'MIN_DELTA': 0.005, 'MAXPOOL': 2, 'OBO_SIZES': array([128]), 'PROTOTYPE_NUM': 20, 'DROPOUT': 0.1, 'HIDDEN_SIZES': array([128, 256]), 'KERNEL_SIZES': array([9, 3])}\n"
     ]
    },
    {
     "name": "stderr",
     "output_type": "stream",
     "text": [
      "100%|██████████| 28/28 [00:21<00:00,  1.30it/s]\n",
      "100%|██████████| 4/4 [00:01<00:00,  2.96it/s]\n",
      "  0%|          | 0/28 [00:00<?, ?it/s]"
     ]
    },
    {
     "name": "stdout",
     "output_type": "stream",
     "text": [
      "Epoch: 0, train_loss: 1.6450210809707642, valid_loss: 0.8751429319381714\n"
     ]
    },
    {
     "name": "stderr",
     "output_type": "stream",
     "text": [
      "100%|██████████| 28/28 [00:21<00:00,  1.28it/s]\n",
      "100%|██████████| 4/4 [00:01<00:00,  2.87it/s]\n",
      "  0%|          | 0/28 [00:00<?, ?it/s]"
     ]
    },
    {
     "name": "stdout",
     "output_type": "stream",
     "text": [
      "Epoch: 1, train_loss: 0.5487469434738159, valid_loss: 0.45821624994277954\n"
     ]
    },
    {
     "name": "stderr",
     "output_type": "stream",
     "text": [
      "100%|██████████| 28/28 [00:21<00:00,  1.29it/s]\n",
      "100%|██████████| 4/4 [00:01<00:00,  2.91it/s]\n",
      "  0%|          | 0/28 [00:00<?, ?it/s]"
     ]
    },
    {
     "name": "stdout",
     "output_type": "stream",
     "text": [
      "Epoch: 2, train_loss: 0.3792303502559662, valid_loss: 0.3890116512775421\n"
     ]
    },
    {
     "name": "stderr",
     "output_type": "stream",
     "text": [
      "100%|██████████| 28/28 [00:21<00:00,  1.28it/s]\n",
      "100%|██████████| 4/4 [00:01<00:00,  3.05it/s]\n",
      "  0%|          | 0/28 [00:00<?, ?it/s]"
     ]
    },
    {
     "name": "stdout",
     "output_type": "stream",
     "text": [
      "Epoch: 3, train_loss: 0.3451358675956726, valid_loss: 0.3790072500705719\n"
     ]
    },
    {
     "name": "stderr",
     "output_type": "stream",
     "text": [
      "100%|██████████| 28/28 [00:21<00:00,  1.29it/s]\n",
      "100%|██████████| 4/4 [00:01<00:00,  3.13it/s]\n",
      "  0%|          | 0/28 [00:00<?, ?it/s]"
     ]
    },
    {
     "name": "stdout",
     "output_type": "stream",
     "text": [
      "Epoch: 4, train_loss: 0.33092284202575684, valid_loss: 0.36093661189079285\n"
     ]
    },
    {
     "name": "stderr",
     "output_type": "stream",
     "text": [
      "100%|██████████| 28/28 [00:21<00:00,  1.30it/s]\n",
      "100%|██████████| 4/4 [00:01<00:00,  3.02it/s]\n",
      "  0%|          | 0/28 [00:00<?, ?it/s]"
     ]
    },
    {
     "name": "stdout",
     "output_type": "stream",
     "text": [
      "Epoch: 5, train_loss: 0.3191494941711426, valid_loss: 0.34616947174072266\n"
     ]
    },
    {
     "name": "stderr",
     "output_type": "stream",
     "text": [
      "100%|██████████| 28/28 [00:21<00:00,  1.29it/s]\n",
      "100%|██████████| 4/4 [00:01<00:00,  3.07it/s]\n",
      "  0%|          | 0/28 [00:00<?, ?it/s]"
     ]
    },
    {
     "name": "stdout",
     "output_type": "stream",
     "text": [
      "Epoch: 6, train_loss: 0.30127623677253723, valid_loss: 0.33882153034210205\n"
     ]
    },
    {
     "name": "stderr",
     "output_type": "stream",
     "text": [
      "100%|██████████| 28/28 [00:21<00:00,  1.28it/s]\n",
      "100%|██████████| 4/4 [00:01<00:00,  3.05it/s]\n",
      "  0%|          | 0/28 [00:00<?, ?it/s]"
     ]
    },
    {
     "name": "stdout",
     "output_type": "stream",
     "text": [
      "Epoch: 7, train_loss: 0.2815548777580261, valid_loss: 0.322370707988739\n"
     ]
    },
    {
     "name": "stderr",
     "output_type": "stream",
     "text": [
      "100%|██████████| 28/28 [00:21<00:00,  1.30it/s]\n",
      "100%|██████████| 4/4 [00:01<00:00,  3.05it/s]\n",
      "  0%|          | 0/28 [00:00<?, ?it/s]"
     ]
    },
    {
     "name": "stdout",
     "output_type": "stream",
     "text": [
      "Epoch: 8, train_loss: 0.26857343316078186, valid_loss: 0.29467272758483887\n"
     ]
    },
    {
     "name": "stderr",
     "output_type": "stream",
     "text": [
      "100%|██████████| 28/28 [00:21<00:00,  1.30it/s]\n",
      "100%|██████████| 4/4 [00:01<00:00,  2.96it/s]\n",
      "  0%|          | 0/28 [00:00<?, ?it/s]"
     ]
    },
    {
     "name": "stdout",
     "output_type": "stream",
     "text": [
      "val loss increased, patience count:  1\n",
      "Epoch: 9, train_loss: 0.2596834599971771, valid_loss: 0.3144332766532898\n"
     ]
    },
    {
     "name": "stderr",
     "output_type": "stream",
     "text": [
      "100%|██████████| 28/28 [00:21<00:00,  1.29it/s]\n",
      "100%|██████████| 4/4 [00:01<00:00,  3.08it/s]\n",
      "  0%|          | 0/28 [00:00<?, ?it/s]"
     ]
    },
    {
     "name": "stdout",
     "output_type": "stream",
     "text": [
      "val loss increased, patience count:  2\n",
      "Epoch: 10, train_loss: 0.24351082742214203, valid_loss: 0.3032459020614624\n"
     ]
    },
    {
     "name": "stderr",
     "output_type": "stream",
     "text": [
      "100%|██████████| 28/28 [00:21<00:00,  1.30it/s]\n",
      "100%|██████████| 4/4 [00:01<00:00,  3.08it/s]\n",
      "  0%|          | 0/28 [00:00<?, ?it/s]"
     ]
    },
    {
     "name": "stdout",
     "output_type": "stream",
     "text": [
      "Epoch: 11, train_loss: 0.23165437579154968, valid_loss: 0.277249813079834\n"
     ]
    },
    {
     "name": "stderr",
     "output_type": "stream",
     "text": [
      "100%|██████████| 28/28 [00:21<00:00,  1.28it/s]\n",
      "100%|██████████| 4/4 [00:01<00:00,  3.09it/s]\n",
      "  0%|          | 0/28 [00:00<?, ?it/s]"
     ]
    },
    {
     "name": "stdout",
     "output_type": "stream",
     "text": [
      "Epoch: 12, train_loss: 0.21685893833637238, valid_loss: 0.26130878925323486\n"
     ]
    },
    {
     "name": "stderr",
     "output_type": "stream",
     "text": [
      "100%|██████████| 28/28 [00:21<00:00,  1.30it/s]\n",
      "100%|██████████| 4/4 [00:01<00:00,  3.06it/s]\n",
      "  0%|          | 0/28 [00:00<?, ?it/s]"
     ]
    },
    {
     "name": "stdout",
     "output_type": "stream",
     "text": [
      "val loss increased, patience count:  1\n",
      "Epoch: 13, train_loss: 0.21025358140468597, valid_loss: 0.2744450569152832\n"
     ]
    },
    {
     "name": "stderr",
     "output_type": "stream",
     "text": [
      "100%|██████████| 28/28 [00:21<00:00,  1.29it/s]\n",
      "100%|██████████| 4/4 [00:01<00:00,  2.97it/s]\n",
      "  0%|          | 0/28 [00:00<?, ?it/s]"
     ]
    },
    {
     "name": "stdout",
     "output_type": "stream",
     "text": [
      "val loss increased, patience count:  2\n",
      "Epoch: 14, train_loss: 0.20752617716789246, valid_loss: 0.26238155364990234\n"
     ]
    },
    {
     "name": "stderr",
     "output_type": "stream",
     "text": [
      "100%|██████████| 28/28 [00:21<00:00,  1.30it/s]\n",
      "100%|██████████| 4/4 [00:01<00:00,  3.11it/s]\n",
      "  0%|          | 0/28 [00:00<?, ?it/s]"
     ]
    },
    {
     "name": "stdout",
     "output_type": "stream",
     "text": [
      "val loss increased, patience count:  3\n",
      "Epoch: 15, train_loss: 0.19486549496650696, valid_loss: 0.2666589021682739\n"
     ]
    },
    {
     "name": "stderr",
     "output_type": "stream",
     "text": [
      "100%|██████████| 28/28 [00:21<00:00,  1.31it/s]\n",
      "100%|██████████| 4/4 [00:01<00:00,  2.93it/s]\n",
      "  0%|          | 0/28 [00:00<?, ?it/s]"
     ]
    },
    {
     "name": "stdout",
     "output_type": "stream",
     "text": [
      "Epoch: 16, train_loss: 0.18868544697761536, valid_loss: 0.23882949352264404\n"
     ]
    },
    {
     "name": "stderr",
     "output_type": "stream",
     "text": [
      "100%|██████████| 28/28 [00:21<00:00,  1.29it/s]\n",
      "100%|██████████| 4/4 [00:01<00:00,  3.13it/s]\n",
      "  0%|          | 0/28 [00:00<?, ?it/s]"
     ]
    },
    {
     "name": "stdout",
     "output_type": "stream",
     "text": [
      "val loss increased, patience count:  1\n",
      "Epoch: 17, train_loss: 0.18536032736301422, valid_loss: 0.2569490671157837\n"
     ]
    },
    {
     "name": "stderr",
     "output_type": "stream",
     "text": [
      "100%|██████████| 28/28 [00:21<00:00,  1.28it/s]\n",
      "100%|██████████| 4/4 [00:01<00:00,  3.05it/s]\n",
      "  0%|          | 0/28 [00:00<?, ?it/s]"
     ]
    },
    {
     "name": "stdout",
     "output_type": "stream",
     "text": [
      "val loss increased, patience count:  2\n",
      "Epoch: 18, train_loss: 0.1770954728126526, valid_loss: 0.25783759355545044\n"
     ]
    },
    {
     "name": "stderr",
     "output_type": "stream",
     "text": [
      "100%|██████████| 28/28 [00:21<00:00,  1.30it/s]\n",
      "100%|██████████| 4/4 [00:01<00:00,  3.05it/s]\n"
     ]
    },
    {
     "name": "stdout",
     "output_type": "stream",
     "text": [
      "Epoch: 19, train_loss: 0.16796357929706573, valid_loss: 0.23444139957427979\n"
     ]
    },
    {
     "name": "stderr",
     "output_type": "stream",
     "text": [
      "\r",
      "  0%|          | 0/115 [00:00<?, ?it/s]"
     ]
    },
    {
     "name": "stdout",
     "output_type": "stream",
     "text": [
      "{'BATCH_SIZE': 128, 'EPOCHS': 20, 'OPTIMIZER': <class 'torch.optim.adam.Adam'>, 'LEARNING_RATE': 0.0001, 'LOSS': protop_loss_0.3_0.1, 'EARLY_STOPPING': True, 'PATIENCE': 3, 'MIN_DELTA': 0.0001, 'MAXPOOL': 2, 'OBO_SIZES': array([256]), 'PROTOTYPE_NUM': 20, 'DROPOUT': 0.6, 'HIDDEN_SIZES': array([256, 512]), 'KERNEL_SIZES': array([3, 3])}\n"
     ]
    },
    {
     "name": "stderr",
     "output_type": "stream",
     "text": [
      "100%|██████████| 115/115 [00:26<00:00,  4.37it/s]\n",
      "100%|██████████| 16/16 [00:01<00:00, 11.97it/s]\n",
      "  0%|          | 0/115 [00:00<?, ?it/s]"
     ]
    },
    {
     "name": "stdout",
     "output_type": "stream",
     "text": [
      "Epoch: 0, train_loss: 1.3460758924484253, valid_loss: 1.0926768779754639\n"
     ]
    },
    {
     "name": "stderr",
     "output_type": "stream",
     "text": [
      "100%|██████████| 115/115 [00:26<00:00,  4.38it/s]\n",
      "100%|██████████| 16/16 [00:01<00:00, 11.82it/s]\n",
      "  0%|          | 0/115 [00:00<?, ?it/s]"
     ]
    },
    {
     "name": "stdout",
     "output_type": "stream",
     "text": [
      "Epoch: 1, train_loss: 1.0634719133377075, valid_loss: 1.0669386386871338\n"
     ]
    },
    {
     "name": "stderr",
     "output_type": "stream",
     "text": [
      "100%|██████████| 115/115 [00:26<00:00,  4.39it/s]\n",
      "100%|██████████| 16/16 [00:01<00:00, 11.30it/s]\n",
      "  0%|          | 0/115 [00:00<?, ?it/s]"
     ]
    },
    {
     "name": "stdout",
     "output_type": "stream",
     "text": [
      "Epoch: 2, train_loss: 1.0377728939056396, valid_loss: 1.0354300737380981\n"
     ]
    },
    {
     "name": "stderr",
     "output_type": "stream",
     "text": [
      "100%|██████████| 115/115 [00:26<00:00,  4.36it/s]\n",
      "100%|██████████| 16/16 [00:01<00:00, 11.40it/s]\n",
      "  0%|          | 0/115 [00:00<?, ?it/s]"
     ]
    },
    {
     "name": "stdout",
     "output_type": "stream",
     "text": [
      "Epoch: 3, train_loss: 1.0020560026168823, valid_loss: 1.0098545551300049\n"
     ]
    },
    {
     "name": "stderr",
     "output_type": "stream",
     "text": [
      "100%|██████████| 115/115 [00:26<00:00,  4.39it/s]\n",
      "100%|██████████| 16/16 [00:01<00:00, 12.03it/s]\n",
      "  0%|          | 0/115 [00:00<?, ?it/s]"
     ]
    },
    {
     "name": "stdout",
     "output_type": "stream",
     "text": [
      "Epoch: 4, train_loss: 0.962921679019928, valid_loss: 0.9660162925720215\n"
     ]
    },
    {
     "name": "stderr",
     "output_type": "stream",
     "text": [
      "100%|██████████| 115/115 [00:26<00:00,  4.40it/s]\n",
      "100%|██████████| 16/16 [00:01<00:00, 12.12it/s]\n",
      "  0%|          | 0/115 [00:00<?, ?it/s]"
     ]
    },
    {
     "name": "stdout",
     "output_type": "stream",
     "text": [
      "Epoch: 5, train_loss: 0.9414709806442261, valid_loss: 0.9566525816917419\n"
     ]
    },
    {
     "name": "stderr",
     "output_type": "stream",
     "text": [
      "100%|██████████| 115/115 [00:25<00:00,  4.43it/s]\n",
      "100%|██████████| 16/16 [00:01<00:00, 12.27it/s]\n",
      "  0%|          | 0/115 [00:00<?, ?it/s]"
     ]
    },
    {
     "name": "stdout",
     "output_type": "stream",
     "text": [
      "Epoch: 6, train_loss: 0.9307392835617065, valid_loss: 0.9474765658378601\n"
     ]
    },
    {
     "name": "stderr",
     "output_type": "stream",
     "text": [
      "100%|██████████| 115/115 [00:26<00:00,  4.31it/s]\n",
      "100%|██████████| 16/16 [00:01<00:00, 11.93it/s]\n",
      "  0%|          | 0/115 [00:00<?, ?it/s]"
     ]
    },
    {
     "name": "stdout",
     "output_type": "stream",
     "text": [
      "Epoch: 7, train_loss: 0.9251185059547424, valid_loss: 0.9434213638305664\n"
     ]
    },
    {
     "name": "stderr",
     "output_type": "stream",
     "text": [
      "100%|██████████| 115/115 [00:27<00:00,  4.21it/s]\n",
      "100%|██████████| 16/16 [00:01<00:00, 11.28it/s]\n",
      "  0%|          | 0/115 [00:00<?, ?it/s]"
     ]
    },
    {
     "name": "stdout",
     "output_type": "stream",
     "text": [
      "Epoch: 8, train_loss: 0.9201102256774902, valid_loss: 0.9390774965286255\n"
     ]
    },
    {
     "name": "stderr",
     "output_type": "stream",
     "text": [
      "100%|██████████| 115/115 [00:26<00:00,  4.35it/s]\n",
      "100%|██████████| 16/16 [00:01<00:00, 11.93it/s]\n",
      "  0%|          | 0/115 [00:00<?, ?it/s]"
     ]
    },
    {
     "name": "stdout",
     "output_type": "stream",
     "text": [
      "Epoch: 9, train_loss: 0.9129875898361206, valid_loss: 0.9314302206039429\n"
     ]
    },
    {
     "name": "stderr",
     "output_type": "stream",
     "text": [
      "100%|██████████| 115/115 [00:27<00:00,  4.23it/s]\n",
      "100%|██████████| 16/16 [00:01<00:00, 11.58it/s]\n",
      "  0%|          | 0/115 [00:00<?, ?it/s]"
     ]
    },
    {
     "name": "stdout",
     "output_type": "stream",
     "text": [
      "val loss increased, patience count:  1\n",
      "Epoch: 10, train_loss: 0.908987283706665, valid_loss: 0.9332593679428101\n"
     ]
    },
    {
     "name": "stderr",
     "output_type": "stream",
     "text": [
      "100%|██████████| 115/115 [00:25<00:00,  4.45it/s]\n",
      "100%|██████████| 16/16 [00:01<00:00, 11.73it/s]\n",
      "  0%|          | 0/115 [00:00<?, ?it/s]"
     ]
    },
    {
     "name": "stdout",
     "output_type": "stream",
     "text": [
      "Epoch: 11, train_loss: 0.9058391451835632, valid_loss: 0.9303147792816162\n"
     ]
    },
    {
     "name": "stderr",
     "output_type": "stream",
     "text": [
      "100%|██████████| 115/115 [00:26<00:00,  4.42it/s]\n",
      "100%|██████████| 16/16 [00:01<00:00, 11.91it/s]\n",
      "  0%|          | 0/115 [00:00<?, ?it/s]"
     ]
    },
    {
     "name": "stdout",
     "output_type": "stream",
     "text": [
      "Epoch: 12, train_loss: 0.901616632938385, valid_loss: 0.9268506169319153\n"
     ]
    },
    {
     "name": "stderr",
     "output_type": "stream",
     "text": [
      "100%|██████████| 115/115 [00:25<00:00,  4.47it/s]\n",
      "100%|██████████| 16/16 [00:01<00:00, 12.01it/s]\n",
      "  0%|          | 0/115 [00:00<?, ?it/s]"
     ]
    },
    {
     "name": "stdout",
     "output_type": "stream",
     "text": [
      "Epoch: 13, train_loss: 0.8970741033554077, valid_loss: 0.9244694113731384\n"
     ]
    },
    {
     "name": "stderr",
     "output_type": "stream",
     "text": [
      "100%|██████████| 115/115 [00:26<00:00,  4.29it/s]\n",
      "100%|██████████| 16/16 [00:01<00:00, 11.76it/s]\n",
      "  0%|          | 0/115 [00:00<?, ?it/s]"
     ]
    },
    {
     "name": "stdout",
     "output_type": "stream",
     "text": [
      "val loss increased, patience count:  1\n",
      "Epoch: 14, train_loss: 0.8951946496963501, valid_loss: 0.9247493743896484\n"
     ]
    },
    {
     "name": "stderr",
     "output_type": "stream",
     "text": [
      "100%|██████████| 115/115 [00:26<00:00,  4.37it/s]\n",
      "100%|██████████| 16/16 [00:01<00:00, 11.96it/s]\n",
      "  0%|          | 0/115 [00:00<?, ?it/s]"
     ]
    },
    {
     "name": "stdout",
     "output_type": "stream",
     "text": [
      "Epoch: 15, train_loss: 0.8894182443618774, valid_loss: 0.9238423109054565\n"
     ]
    },
    {
     "name": "stderr",
     "output_type": "stream",
     "text": [
      "100%|██████████| 115/115 [00:25<00:00,  4.45it/s]\n",
      "100%|██████████| 16/16 [00:01<00:00, 11.87it/s]\n",
      "  0%|          | 0/115 [00:00<?, ?it/s]"
     ]
    },
    {
     "name": "stdout",
     "output_type": "stream",
     "text": [
      "Epoch: 16, train_loss: 0.8872352838516235, valid_loss: 0.9174577593803406\n"
     ]
    },
    {
     "name": "stderr",
     "output_type": "stream",
     "text": [
      "100%|██████████| 115/115 [00:26<00:00,  4.41it/s]\n",
      "100%|██████████| 16/16 [00:01<00:00, 11.47it/s]\n",
      "  0%|          | 0/115 [00:00<?, ?it/s]"
     ]
    },
    {
     "name": "stdout",
     "output_type": "stream",
     "text": [
      "Epoch: 17, train_loss: 0.8850588798522949, valid_loss: 0.9164249897003174\n"
     ]
    },
    {
     "name": "stderr",
     "output_type": "stream",
     "text": [
      "100%|██████████| 115/115 [00:25<00:00,  4.43it/s]\n",
      "100%|██████████| 16/16 [00:01<00:00, 11.79it/s]\n",
      "  0%|          | 0/115 [00:00<?, ?it/s]"
     ]
    },
    {
     "name": "stdout",
     "output_type": "stream",
     "text": [
      "Epoch: 18, train_loss: 0.8813704252243042, valid_loss: 0.9143462181091309\n"
     ]
    },
    {
     "name": "stderr",
     "output_type": "stream",
     "text": [
      "100%|██████████| 115/115 [00:26<00:00,  4.38it/s]\n",
      "100%|██████████| 16/16 [00:01<00:00, 11.81it/s]\n"
     ]
    },
    {
     "name": "stdout",
     "output_type": "stream",
     "text": [
      "Epoch: 19, train_loss: 0.8781771063804626, valid_loss: 0.9127546548843384\n"
     ]
    },
    {
     "name": "stderr",
     "output_type": "stream",
     "text": [
      "\r",
      "  0%|          | 0/57 [00:00<?, ?it/s]"
     ]
    },
    {
     "name": "stdout",
     "output_type": "stream",
     "text": [
      "{'BATCH_SIZE': 256, 'EPOCHS': 40, 'OPTIMIZER': <class 'torch.optim.adam.Adam'>, 'LEARNING_RATE': 1e-05, 'LOSS': protop_loss_0.1_0.1, 'EARLY_STOPPING': True, 'PATIENCE': 2, 'MIN_DELTA': 0.005, 'MAXPOOL': 2, 'OBO_SIZES': array([256]), 'PROTOTYPE_NUM': 10, 'DROPOUT': 0.1, 'HIDDEN_SIZES': array([256, 512]), 'KERNEL_SIZES': array([7, 5])}\n"
     ]
    },
    {
     "name": "stderr",
     "output_type": "stream",
     "text": [
      "100%|██████████| 57/57 [00:26<00:00,  2.13it/s]\n",
      "100%|██████████| 8/8 [00:01<00:00,  5.95it/s]\n",
      "  0%|          | 0/57 [00:00<?, ?it/s]"
     ]
    },
    {
     "name": "stdout",
     "output_type": "stream",
     "text": [
      "Epoch: 0, train_loss: 0.6349443793296814, valid_loss: 0.5933308005332947\n"
     ]
    },
    {
     "name": "stderr",
     "output_type": "stream",
     "text": [
      "100%|██████████| 57/57 [00:29<00:00,  1.95it/s]\n",
      "100%|██████████| 8/8 [00:01<00:00,  5.43it/s]\n",
      "  0%|          | 0/57 [00:00<?, ?it/s]"
     ]
    },
    {
     "name": "stdout",
     "output_type": "stream",
     "text": [
      "Epoch: 1, train_loss: 0.5534206032752991, valid_loss: 0.5223225355148315\n"
     ]
    },
    {
     "name": "stderr",
     "output_type": "stream",
     "text": [
      "100%|██████████| 57/57 [00:26<00:00,  2.13it/s]\n",
      "100%|██████████| 8/8 [00:01<00:00,  5.94it/s]\n",
      "  0%|          | 0/57 [00:00<?, ?it/s]"
     ]
    },
    {
     "name": "stdout",
     "output_type": "stream",
     "text": [
      "Epoch: 2, train_loss: 0.4918077886104584, valid_loss: 0.4755880832672119\n"
     ]
    },
    {
     "name": "stderr",
     "output_type": "stream",
     "text": [
      "100%|██████████| 57/57 [00:26<00:00,  2.13it/s]\n",
      "100%|██████████| 8/8 [00:01<00:00,  5.84it/s]\n",
      "  0%|          | 0/57 [00:00<?, ?it/s]"
     ]
    },
    {
     "name": "stdout",
     "output_type": "stream",
     "text": [
      "Epoch: 3, train_loss: 0.45051679015159607, valid_loss: 0.44017547369003296\n"
     ]
    },
    {
     "name": "stderr",
     "output_type": "stream",
     "text": [
      "100%|██████████| 57/57 [00:26<00:00,  2.15it/s]\n",
      "100%|██████████| 8/8 [00:01<00:00,  6.00it/s]\n",
      "  0%|          | 0/57 [00:00<?, ?it/s]"
     ]
    },
    {
     "name": "stdout",
     "output_type": "stream",
     "text": [
      "Epoch: 4, train_loss: 0.4228725731372833, valid_loss: 0.4221436679363251\n"
     ]
    },
    {
     "name": "stderr",
     "output_type": "stream",
     "text": [
      "100%|██████████| 57/57 [00:26<00:00,  2.16it/s]\n",
      "100%|██████████| 8/8 [00:01<00:00,  5.84it/s]\n",
      "  0%|          | 0/57 [00:00<?, ?it/s]"
     ]
    },
    {
     "name": "stdout",
     "output_type": "stream",
     "text": [
      "Epoch: 5, train_loss: 0.4095292091369629, valid_loss: 0.41181883215904236\n"
     ]
    },
    {
     "name": "stderr",
     "output_type": "stream",
     "text": [
      "100%|██████████| 57/57 [00:26<00:00,  2.11it/s]\n",
      "100%|██████████| 8/8 [00:01<00:00,  5.49it/s]\n",
      "  0%|          | 0/57 [00:00<?, ?it/s]"
     ]
    },
    {
     "name": "stdout",
     "output_type": "stream",
     "text": [
      "Epoch: 6, train_loss: 0.40198925137519836, valid_loss: 0.40700262784957886\n"
     ]
    },
    {
     "name": "stderr",
     "output_type": "stream",
     "text": [
      "100%|██████████| 57/57 [00:26<00:00,  2.14it/s]\n",
      "100%|██████████| 8/8 [00:01<00:00,  5.87it/s]\n",
      "  0%|          | 0/57 [00:00<?, ?it/s]"
     ]
    },
    {
     "name": "stdout",
     "output_type": "stream",
     "text": [
      "Epoch: 7, train_loss: 0.3980984389781952, valid_loss: 0.40135034918785095\n"
     ]
    },
    {
     "name": "stderr",
     "output_type": "stream",
     "text": [
      "100%|██████████| 57/57 [00:26<00:00,  2.15it/s]\n",
      "100%|██████████| 8/8 [00:01<00:00,  5.93it/s]\n",
      "  0%|          | 0/57 [00:00<?, ?it/s]"
     ]
    },
    {
     "name": "stdout",
     "output_type": "stream",
     "text": [
      "val loss increased, patience count:  1\n",
      "Epoch: 8, train_loss: 0.3954232335090637, valid_loss: 0.40152838826179504\n"
     ]
    },
    {
     "name": "stderr",
     "output_type": "stream",
     "text": [
      "100%|██████████| 57/57 [00:26<00:00,  2.15it/s]\n",
      "100%|██████████| 8/8 [00:01<00:00,  5.90it/s]\n",
      "  0%|          | 0/57 [00:00<?, ?it/s]"
     ]
    },
    {
     "name": "stdout",
     "output_type": "stream",
     "text": [
      "Epoch: 9, train_loss: 0.393130362033844, valid_loss: 0.40017661452293396\n"
     ]
    },
    {
     "name": "stderr",
     "output_type": "stream",
     "text": [
      "100%|██████████| 57/57 [00:26<00:00,  2.15it/s]\n",
      "100%|██████████| 8/8 [00:01<00:00,  5.62it/s]\n",
      "  0%|          | 0/57 [00:00<?, ?it/s]"
     ]
    },
    {
     "name": "stdout",
     "output_type": "stream",
     "text": [
      "val loss increased, patience count:  1\n",
      "Epoch: 10, train_loss: 0.3917215168476105, valid_loss: 0.4009510278701782\n"
     ]
    },
    {
     "name": "stderr",
     "output_type": "stream",
     "text": [
      "100%|██████████| 57/57 [00:26<00:00,  2.13it/s]\n",
      "100%|██████████| 8/8 [00:01<00:00,  6.03it/s]\n",
      "  0%|          | 0/57 [00:00<?, ?it/s]"
     ]
    },
    {
     "name": "stdout",
     "output_type": "stream",
     "text": [
      "Epoch: 11, train_loss: 0.3909192383289337, valid_loss: 0.3977583646774292\n"
     ]
    },
    {
     "name": "stderr",
     "output_type": "stream",
     "text": [
      "100%|██████████| 57/57 [00:26<00:00,  2.13it/s]\n",
      "100%|██████████| 8/8 [00:01<00:00,  5.62it/s]\n",
      "  0%|          | 0/57 [00:00<?, ?it/s]"
     ]
    },
    {
     "name": "stdout",
     "output_type": "stream",
     "text": [
      "Epoch: 12, train_loss: 0.38958483934402466, valid_loss: 0.3974079191684723\n"
     ]
    },
    {
     "name": "stderr",
     "output_type": "stream",
     "text": [
      "100%|██████████| 57/57 [00:26<00:00,  2.13it/s]\n",
      "100%|██████████| 8/8 [00:01<00:00,  5.70it/s]\n",
      "  0%|          | 0/57 [00:00<?, ?it/s]"
     ]
    },
    {
     "name": "stdout",
     "output_type": "stream",
     "text": [
      "Epoch: 13, train_loss: 0.38904744386672974, valid_loss: 0.39557740092277527\n"
     ]
    },
    {
     "name": "stderr",
     "output_type": "stream",
     "text": [
      "100%|██████████| 57/57 [00:26<00:00,  2.15it/s]\n",
      "100%|██████████| 8/8 [00:01<00:00,  5.95it/s]\n",
      "  0%|          | 0/57 [00:00<?, ?it/s]"
     ]
    },
    {
     "name": "stdout",
     "output_type": "stream",
     "text": [
      "val loss increased, patience count:  1\n",
      "Epoch: 14, train_loss: 0.38906651735305786, valid_loss: 0.39607733488082886\n"
     ]
    },
    {
     "name": "stderr",
     "output_type": "stream",
     "text": [
      "100%|██████████| 57/57 [00:26<00:00,  2.12it/s]\n",
      "100%|██████████| 8/8 [00:01<00:00,  5.68it/s]\n",
      "  0%|          | 0/57 [00:00<?, ?it/s]"
     ]
    },
    {
     "name": "stdout",
     "output_type": "stream",
     "text": [
      "Epoch: 15, train_loss: 0.3881298899650574, valid_loss: 0.3947552740573883\n"
     ]
    },
    {
     "name": "stderr",
     "output_type": "stream",
     "text": [
      "100%|██████████| 57/57 [00:26<00:00,  2.15it/s]\n",
      "100%|██████████| 8/8 [00:01<00:00,  5.95it/s]\n",
      "  0%|          | 0/57 [00:00<?, ?it/s]"
     ]
    },
    {
     "name": "stdout",
     "output_type": "stream",
     "text": [
      "Epoch: 16, train_loss: 0.3873777985572815, valid_loss: 0.3946652412414551\n"
     ]
    },
    {
     "name": "stderr",
     "output_type": "stream",
     "text": [
      "100%|██████████| 57/57 [00:26<00:00,  2.13it/s]\n",
      "100%|██████████| 8/8 [00:01<00:00,  5.63it/s]\n",
      "  0%|          | 0/57 [00:00<?, ?it/s]"
     ]
    },
    {
     "name": "stdout",
     "output_type": "stream",
     "text": [
      "val loss increased, patience count:  1\n",
      "Epoch: 17, train_loss: 0.3869187533855438, valid_loss: 0.3954457640647888\n"
     ]
    },
    {
     "name": "stderr",
     "output_type": "stream",
     "text": [
      "100%|██████████| 57/57 [00:26<00:00,  2.15it/s]\n",
      "100%|██████████| 8/8 [00:01<00:00,  5.74it/s]\n",
      "  0%|          | 0/57 [00:00<?, ?it/s]"
     ]
    },
    {
     "name": "stdout",
     "output_type": "stream",
     "text": [
      "Epoch: 18, train_loss: 0.38675254583358765, valid_loss: 0.3921331465244293\n"
     ]
    },
    {
     "name": "stderr",
     "output_type": "stream",
     "text": [
      "100%|██████████| 57/57 [00:26<00:00,  2.17it/s]\n",
      "100%|██████████| 8/8 [00:01<00:00,  5.73it/s]\n",
      "  0%|          | 0/57 [00:00<?, ?it/s]"
     ]
    },
    {
     "name": "stdout",
     "output_type": "stream",
     "text": [
      "val loss increased, patience count:  1\n",
      "Epoch: 19, train_loss: 0.386610209941864, valid_loss: 0.3940824270248413\n"
     ]
    },
    {
     "name": "stderr",
     "output_type": "stream",
     "text": [
      "100%|██████████| 57/57 [00:26<00:00,  2.12it/s]\n",
      "100%|██████████| 8/8 [00:01<00:00,  5.92it/s]\n",
      "  0%|          | 0/57 [00:00<?, ?it/s]"
     ]
    },
    {
     "name": "stdout",
     "output_type": "stream",
     "text": [
      "val loss increased, patience count:  2\n",
      "Epoch: 20, train_loss: 0.3867565095424652, valid_loss: 0.3924875855445862\n"
     ]
    },
    {
     "name": "stderr",
     "output_type": "stream",
     "text": [
      "100%|██████████| 57/57 [00:26<00:00,  2.15it/s]\n",
      "100%|██████████| 8/8 [00:01<00:00,  5.96it/s]\n",
      "  0%|          | 0/57 [00:00<?, ?it/s]"
     ]
    },
    {
     "name": "stdout",
     "output_type": "stream",
     "text": [
      "Epoch: 21, train_loss: 0.38607168197631836, valid_loss: 0.3917587697505951\n"
     ]
    },
    {
     "name": "stderr",
     "output_type": "stream",
     "text": [
      "100%|██████████| 57/57 [00:26<00:00,  2.13it/s]\n",
      "100%|██████████| 8/8 [00:01<00:00,  5.62it/s]\n",
      "  0%|          | 0/57 [00:00<?, ?it/s]"
     ]
    },
    {
     "name": "stdout",
     "output_type": "stream",
     "text": [
      "Epoch: 22, train_loss: 0.3853658139705658, valid_loss: 0.39129799604415894\n"
     ]
    },
    {
     "name": "stderr",
     "output_type": "stream",
     "text": [
      "100%|██████████| 57/57 [00:26<00:00,  2.15it/s]\n",
      "100%|██████████| 8/8 [00:01<00:00,  5.90it/s]\n",
      "  0%|          | 0/57 [00:00<?, ?it/s]"
     ]
    },
    {
     "name": "stdout",
     "output_type": "stream",
     "text": [
      "Epoch: 23, train_loss: 0.3858248293399811, valid_loss: 0.3901706337928772\n"
     ]
    },
    {
     "name": "stderr",
     "output_type": "stream",
     "text": [
      "100%|██████████| 57/57 [00:26<00:00,  2.12it/s]\n",
      "100%|██████████| 8/8 [00:01<00:00,  6.01it/s]\n",
      "  0%|          | 0/57 [00:00<?, ?it/s]"
     ]
    },
    {
     "name": "stdout",
     "output_type": "stream",
     "text": [
      "Epoch: 24, train_loss: 0.38512149453163147, valid_loss: 0.38965272903442383\n"
     ]
    },
    {
     "name": "stderr",
     "output_type": "stream",
     "text": [
      "100%|██████████| 57/57 [00:26<00:00,  2.16it/s]\n",
      "100%|██████████| 8/8 [00:01<00:00,  5.90it/s]\n",
      "  0%|          | 0/57 [00:00<?, ?it/s]"
     ]
    },
    {
     "name": "stdout",
     "output_type": "stream",
     "text": [
      "val loss increased, patience count:  1\n",
      "Epoch: 25, train_loss: 0.38496291637420654, valid_loss: 0.3928469717502594\n"
     ]
    },
    {
     "name": "stderr",
     "output_type": "stream",
     "text": [
      "100%|██████████| 57/57 [00:27<00:00,  2.06it/s]\n",
      "100%|██████████| 8/8 [00:01<00:00,  5.43it/s]\n",
      "  0%|          | 0/57 [00:00<?, ?it/s]"
     ]
    },
    {
     "name": "stdout",
     "output_type": "stream",
     "text": [
      "val loss increased, patience count:  2\n",
      "Epoch: 26, train_loss: 0.3844054043292999, valid_loss: 0.39214780926704407\n"
     ]
    },
    {
     "name": "stderr",
     "output_type": "stream",
     "text": [
      "100%|██████████| 57/57 [00:26<00:00,  2.15it/s]\n",
      "100%|██████████| 8/8 [00:01<00:00,  6.04it/s]\n"
     ]
    },
    {
     "name": "stdout",
     "output_type": "stream",
     "text": [
      "Early stopped at Epoch:  27\n"
     ]
    },
    {
     "name": "stderr",
     "output_type": "stream",
     "text": [
      "\r",
      "  0%|          | 0/57 [00:00<?, ?it/s]"
     ]
    },
    {
     "name": "stdout",
     "output_type": "stream",
     "text": [
      "{'BATCH_SIZE': 256, 'EPOCHS': 40, 'OPTIMIZER': <class 'torch.optim.adam.Adam'>, 'LEARNING_RATE': 5e-05, 'LOSS': protop_loss_0.3_0.1, 'EARLY_STOPPING': True, 'PATIENCE': 2, 'MIN_DELTA': 0.001, 'MAXPOOL': 2, 'OBO_SIZES': array([512]), 'PROTOTYPE_NUM': 10, 'DROPOUT': 0.4, 'HIDDEN_SIZES': array([256, 512]), 'KERNEL_SIZES': array([3, 3])}\n"
     ]
    },
    {
     "name": "stderr",
     "output_type": "stream",
     "text": [
      "100%|██████████| 57/57 [00:48<00:00,  1.17it/s]\n",
      "100%|██████████| 8/8 [00:02<00:00,  2.91it/s]\n",
      "  0%|          | 0/57 [00:00<?, ?it/s]"
     ]
    },
    {
     "name": "stdout",
     "output_type": "stream",
     "text": [
      "Epoch: 0, train_loss: 2.392117977142334, valid_loss: 1.8743363618850708\n"
     ]
    },
    {
     "name": "stderr",
     "output_type": "stream",
     "text": [
      "100%|██████████| 57/57 [00:49<00:00,  1.16it/s]\n",
      "100%|██████████| 8/8 [00:02<00:00,  2.85it/s]\n",
      "  0%|          | 0/57 [00:00<?, ?it/s]"
     ]
    },
    {
     "name": "stdout",
     "output_type": "stream",
     "text": [
      "Epoch: 1, train_loss: 1.6128473281860352, valid_loss: 1.5120549201965332\n"
     ]
    },
    {
     "name": "stderr",
     "output_type": "stream",
     "text": [
      "100%|██████████| 57/57 [00:48<00:00,  1.18it/s]\n",
      "100%|██████████| 8/8 [00:02<00:00,  3.04it/s]\n",
      "  0%|          | 0/57 [00:00<?, ?it/s]"
     ]
    },
    {
     "name": "stdout",
     "output_type": "stream",
     "text": [
      "Epoch: 2, train_loss: 1.448456048965454, valid_loss: 1.4385126829147339\n"
     ]
    },
    {
     "name": "stderr",
     "output_type": "stream",
     "text": [
      "100%|██████████| 57/57 [00:48<00:00,  1.17it/s]\n",
      "100%|██████████| 8/8 [00:02<00:00,  2.98it/s]\n",
      "  0%|          | 0/57 [00:00<?, ?it/s]"
     ]
    },
    {
     "name": "stdout",
     "output_type": "stream",
     "text": [
      "Epoch: 3, train_loss: 1.4110051393508911, valid_loss: 1.4215093851089478\n"
     ]
    },
    {
     "name": "stderr",
     "output_type": "stream",
     "text": [
      "100%|██████████| 57/57 [00:48<00:00,  1.18it/s]\n",
      "100%|██████████| 8/8 [00:02<00:00,  3.03it/s]\n",
      "  0%|          | 0/57 [00:00<?, ?it/s]"
     ]
    },
    {
     "name": "stdout",
     "output_type": "stream",
     "text": [
      "Epoch: 4, train_loss: 1.3738982677459717, valid_loss: 1.3735718727111816\n"
     ]
    },
    {
     "name": "stderr",
     "output_type": "stream",
     "text": [
      "100%|██████████| 57/57 [00:48<00:00,  1.18it/s]\n",
      "100%|██████████| 8/8 [00:02<00:00,  2.99it/s]\n",
      "  0%|          | 0/57 [00:00<?, ?it/s]"
     ]
    },
    {
     "name": "stdout",
     "output_type": "stream",
     "text": [
      "Epoch: 5, train_loss: 1.337319254875183, valid_loss: 1.3276901245117188\n"
     ]
    },
    {
     "name": "stderr",
     "output_type": "stream",
     "text": [
      "100%|██████████| 57/57 [00:48<00:00,  1.17it/s]\n",
      "100%|██████████| 8/8 [00:02<00:00,  2.90it/s]\n",
      "  0%|          | 0/57 [00:00<?, ?it/s]"
     ]
    },
    {
     "name": "stdout",
     "output_type": "stream",
     "text": [
      "Epoch: 6, train_loss: 1.284587025642395, valid_loss: 1.2892078161239624\n"
     ]
    },
    {
     "name": "stderr",
     "output_type": "stream",
     "text": [
      "100%|██████████| 57/57 [00:47<00:00,  1.19it/s]\n",
      "100%|██████████| 8/8 [00:02<00:00,  3.01it/s]\n",
      "  0%|          | 0/57 [00:00<?, ?it/s]"
     ]
    },
    {
     "name": "stdout",
     "output_type": "stream",
     "text": [
      "Epoch: 7, train_loss: 1.267979621887207, valid_loss: 1.2786853313446045\n"
     ]
    },
    {
     "name": "stderr",
     "output_type": "stream",
     "text": [
      "100%|██████████| 57/57 [00:48<00:00,  1.18it/s]\n",
      "100%|██████████| 8/8 [00:02<00:00,  2.88it/s]\n",
      "  0%|          | 0/57 [00:00<?, ?it/s]"
     ]
    },
    {
     "name": "stdout",
     "output_type": "stream",
     "text": [
      "Epoch: 8, train_loss: 1.2567055225372314, valid_loss: 1.2715344429016113\n"
     ]
    },
    {
     "name": "stderr",
     "output_type": "stream",
     "text": [
      "100%|██████████| 57/57 [00:48<00:00,  1.17it/s]\n",
      "100%|██████████| 8/8 [00:02<00:00,  3.03it/s]\n",
      "  0%|          | 0/57 [00:00<?, ?it/s]"
     ]
    },
    {
     "name": "stdout",
     "output_type": "stream",
     "text": [
      "Epoch: 9, train_loss: 1.2473613023757935, valid_loss: 1.2650864124298096\n"
     ]
    },
    {
     "name": "stderr",
     "output_type": "stream",
     "text": [
      "100%|██████████| 57/57 [00:47<00:00,  1.19it/s]\n",
      "100%|██████████| 8/8 [00:02<00:00,  2.90it/s]\n",
      "  0%|          | 0/57 [00:00<?, ?it/s]"
     ]
    },
    {
     "name": "stdout",
     "output_type": "stream",
     "text": [
      "Epoch: 10, train_loss: 1.2361376285552979, valid_loss: 1.2506201267242432\n"
     ]
    },
    {
     "name": "stderr",
     "output_type": "stream",
     "text": [
      "100%|██████████| 57/57 [00:48<00:00,  1.18it/s]\n",
      "100%|██████████| 8/8 [00:02<00:00,  2.97it/s]\n",
      "  0%|          | 0/57 [00:00<?, ?it/s]"
     ]
    },
    {
     "name": "stdout",
     "output_type": "stream",
     "text": [
      "Epoch: 11, train_loss: 1.2276829481124878, valid_loss: 1.2422313690185547\n"
     ]
    },
    {
     "name": "stderr",
     "output_type": "stream",
     "text": [
      "100%|██████████| 57/57 [00:48<00:00,  1.18it/s]\n",
      "100%|██████████| 8/8 [00:02<00:00,  3.03it/s]\n",
      "  0%|          | 0/57 [00:00<?, ?it/s]"
     ]
    },
    {
     "name": "stdout",
     "output_type": "stream",
     "text": [
      "Epoch: 12, train_loss: 1.2165005207061768, valid_loss: 1.2364284992218018\n"
     ]
    },
    {
     "name": "stderr",
     "output_type": "stream",
     "text": [
      "100%|██████████| 57/57 [00:48<00:00,  1.17it/s]\n",
      "100%|██████████| 8/8 [00:02<00:00,  2.99it/s]\n",
      "  0%|          | 0/57 [00:00<?, ?it/s]"
     ]
    },
    {
     "name": "stdout",
     "output_type": "stream",
     "text": [
      "Epoch: 13, train_loss: 1.2121787071228027, valid_loss: 1.2243860960006714\n"
     ]
    },
    {
     "name": "stderr",
     "output_type": "stream",
     "text": [
      "100%|██████████| 57/57 [00:48<00:00,  1.19it/s]\n",
      "100%|██████████| 8/8 [00:02<00:00,  2.92it/s]\n",
      "  0%|          | 0/57 [00:00<?, ?it/s]"
     ]
    },
    {
     "name": "stdout",
     "output_type": "stream",
     "text": [
      "Epoch: 14, train_loss: 1.171473741531372, valid_loss: 1.1775550842285156\n"
     ]
    },
    {
     "name": "stderr",
     "output_type": "stream",
     "text": [
      "100%|██████████| 57/57 [00:48<00:00,  1.18it/s]\n",
      "100%|██████████| 8/8 [00:02<00:00,  2.99it/s]\n",
      "  0%|          | 0/57 [00:00<?, ?it/s]"
     ]
    },
    {
     "name": "stdout",
     "output_type": "stream",
     "text": [
      "Epoch: 15, train_loss: 1.148402214050293, valid_loss: 1.167410135269165\n"
     ]
    },
    {
     "name": "stderr",
     "output_type": "stream",
     "text": [
      "100%|██████████| 57/57 [00:48<00:00,  1.17it/s]\n",
      "100%|██████████| 8/8 [00:02<00:00,  2.94it/s]\n",
      "  0%|          | 0/57 [00:00<?, ?it/s]"
     ]
    },
    {
     "name": "stdout",
     "output_type": "stream",
     "text": [
      "Epoch: 16, train_loss: 1.1447516679763794, valid_loss: 1.1651725769042969\n"
     ]
    },
    {
     "name": "stderr",
     "output_type": "stream",
     "text": [
      "100%|██████████| 57/57 [00:48<00:00,  1.18it/s]\n",
      "100%|██████████| 8/8 [00:02<00:00,  3.05it/s]\n",
      "  0%|          | 0/57 [00:00<?, ?it/s]"
     ]
    },
    {
     "name": "stdout",
     "output_type": "stream",
     "text": [
      "Epoch: 17, train_loss: 1.1390283107757568, valid_loss: 1.159204125404358\n"
     ]
    },
    {
     "name": "stderr",
     "output_type": "stream",
     "text": [
      "100%|██████████| 57/57 [00:47<00:00,  1.19it/s]\n",
      "100%|██████████| 8/8 [00:02<00:00,  2.96it/s]\n",
      "  0%|          | 0/57 [00:00<?, ?it/s]"
     ]
    },
    {
     "name": "stdout",
     "output_type": "stream",
     "text": [
      "Epoch: 18, train_loss: 1.1328504085540771, valid_loss: 1.153624176979065\n"
     ]
    },
    {
     "name": "stderr",
     "output_type": "stream",
     "text": [
      "100%|██████████| 57/57 [00:48<00:00,  1.18it/s]\n",
      "100%|██████████| 8/8 [00:02<00:00,  2.77it/s]\n",
      "  0%|          | 0/57 [00:00<?, ?it/s]"
     ]
    },
    {
     "name": "stdout",
     "output_type": "stream",
     "text": [
      "Epoch: 19, train_loss: 1.126734972000122, valid_loss: 1.1496284008026123\n"
     ]
    },
    {
     "name": "stderr",
     "output_type": "stream",
     "text": [
      "100%|██████████| 57/57 [00:48<00:00,  1.19it/s]\n",
      "100%|██████████| 8/8 [00:03<00:00,  2.66it/s]\n",
      "  0%|          | 0/57 [00:00<?, ?it/s]"
     ]
    },
    {
     "name": "stdout",
     "output_type": "stream",
     "text": [
      "Epoch: 20, train_loss: 1.120564341545105, valid_loss: 1.1417937278747559\n"
     ]
    },
    {
     "name": "stderr",
     "output_type": "stream",
     "text": [
      "100%|██████████| 57/57 [00:48<00:00,  1.18it/s]\n",
      "100%|██████████| 8/8 [00:02<00:00,  2.85it/s]\n",
      "  0%|          | 0/57 [00:00<?, ?it/s]"
     ]
    },
    {
     "name": "stdout",
     "output_type": "stream",
     "text": [
      "val loss increased, patience count:  1\n",
      "Epoch: 21, train_loss: 1.1171486377716064, valid_loss: 1.1420249938964844\n"
     ]
    },
    {
     "name": "stderr",
     "output_type": "stream",
     "text": [
      "100%|██████████| 57/57 [00:48<00:00,  1.18it/s]\n",
      "100%|██████████| 8/8 [00:02<00:00,  2.92it/s]\n",
      "  0%|          | 0/57 [00:00<?, ?it/s]"
     ]
    },
    {
     "name": "stdout",
     "output_type": "stream",
     "text": [
      "Epoch: 22, train_loss: 1.1154588460922241, valid_loss: 1.1397356986999512\n"
     ]
    },
    {
     "name": "stderr",
     "output_type": "stream",
     "text": [
      "100%|██████████| 57/57 [00:48<00:00,  1.18it/s]\n",
      "100%|██████████| 8/8 [00:02<00:00,  2.97it/s]\n",
      "  0%|          | 0/57 [00:00<?, ?it/s]"
     ]
    },
    {
     "name": "stdout",
     "output_type": "stream",
     "text": [
      "Epoch: 23, train_loss: 1.1114758253097534, valid_loss: 1.1377243995666504\n"
     ]
    },
    {
     "name": "stderr",
     "output_type": "stream",
     "text": [
      "100%|██████████| 57/57 [00:47<00:00,  1.19it/s]\n",
      "100%|██████████| 8/8 [00:02<00:00,  3.00it/s]\n",
      "  0%|          | 0/57 [00:00<?, ?it/s]"
     ]
    },
    {
     "name": "stdout",
     "output_type": "stream",
     "text": [
      "Epoch: 24, train_loss: 1.1073639392852783, valid_loss: 1.1321287155151367\n"
     ]
    },
    {
     "name": "stderr",
     "output_type": "stream",
     "text": [
      "100%|██████████| 57/57 [00:48<00:00,  1.17it/s]\n",
      "100%|██████████| 8/8 [00:02<00:00,  3.00it/s]\n",
      "  0%|          | 0/57 [00:00<?, ?it/s]"
     ]
    },
    {
     "name": "stdout",
     "output_type": "stream",
     "text": [
      "Epoch: 25, train_loss: 1.105003833770752, valid_loss: 1.1249088048934937\n"
     ]
    },
    {
     "name": "stderr",
     "output_type": "stream",
     "text": [
      "100%|██████████| 57/57 [00:48<00:00,  1.17it/s]\n",
      "100%|██████████| 8/8 [00:02<00:00,  2.96it/s]\n",
      "  0%|          | 0/57 [00:00<?, ?it/s]"
     ]
    },
    {
     "name": "stdout",
     "output_type": "stream",
     "text": [
      "val loss increased, patience count:  1\n",
      "Epoch: 26, train_loss: 1.1027541160583496, valid_loss: 1.131929636001587\n"
     ]
    },
    {
     "name": "stderr",
     "output_type": "stream",
     "text": [
      "100%|██████████| 57/57 [00:48<00:00,  1.18it/s]\n",
      "100%|██████████| 8/8 [00:02<00:00,  3.03it/s]\n",
      "  0%|          | 0/57 [00:00<?, ?it/s]"
     ]
    },
    {
     "name": "stdout",
     "output_type": "stream",
     "text": [
      "val loss increased, patience count:  2\n",
      "Epoch: 27, train_loss: 1.1010398864746094, valid_loss: 1.131471872329712\n"
     ]
    },
    {
     "name": "stderr",
     "output_type": "stream",
     "text": [
      "100%|██████████| 57/57 [00:48<00:00,  1.19it/s]\n",
      "100%|██████████| 8/8 [00:02<00:00,  2.98it/s]\n"
     ]
    },
    {
     "name": "stdout",
     "output_type": "stream",
     "text": [
      "Early stopped at Epoch:  28\n"
     ]
    },
    {
     "name": "stderr",
     "output_type": "stream",
     "text": [
      "  1%|          | 1/115 [00:00<00:12,  9.41it/s]"
     ]
    },
    {
     "name": "stdout",
     "output_type": "stream",
     "text": [
      "{'BATCH_SIZE': 128, 'EPOCHS': 40, 'OPTIMIZER': <class 'torch.optim.adam.Adam'>, 'LEARNING_RATE': 1e-05, 'LOSS': protop_loss_0.1_0.1, 'EARLY_STOPPING': True, 'PATIENCE': 3, 'MIN_DELTA': 0.005, 'MAXPOOL': 2, 'OBO_SIZES': array([128]), 'PROTOTYPE_NUM': 10, 'DROPOUT': 0.1, 'HIDDEN_SIZES': array([128, 256]), 'KERNEL_SIZES': array([9, 3])}\n"
     ]
    },
    {
     "name": "stderr",
     "output_type": "stream",
     "text": [
      "100%|██████████| 115/115 [00:11<00:00, 10.28it/s]\n",
      "100%|██████████| 16/16 [00:00<00:00, 25.60it/s]\n",
      "  2%|▏         | 2/115 [00:00<00:10, 10.81it/s]"
     ]
    },
    {
     "name": "stdout",
     "output_type": "stream",
     "text": [
      "Epoch: 0, train_loss: 0.6801099181175232, valid_loss: 0.6402219533920288\n"
     ]
    },
    {
     "name": "stderr",
     "output_type": "stream",
     "text": [
      "100%|██████████| 115/115 [00:11<00:00, 10.31it/s]\n",
      "100%|██████████| 16/16 [00:00<00:00, 24.58it/s]\n",
      "  1%|          | 1/115 [00:00<00:12,  8.85it/s]"
     ]
    },
    {
     "name": "stdout",
     "output_type": "stream",
     "text": [
      "Epoch: 1, train_loss: 0.6044288277626038, valid_loss: 0.578466534614563\n"
     ]
    },
    {
     "name": "stderr",
     "output_type": "stream",
     "text": [
      "100%|██████████| 115/115 [00:11<00:00, 10.09it/s]\n",
      "100%|██████████| 16/16 [00:00<00:00, 25.25it/s]\n",
      "  2%|▏         | 2/115 [00:00<00:10, 10.94it/s]"
     ]
    },
    {
     "name": "stdout",
     "output_type": "stream",
     "text": [
      "Epoch: 2, train_loss: 0.5579071044921875, valid_loss: 0.5478920936584473\n"
     ]
    },
    {
     "name": "stderr",
     "output_type": "stream",
     "text": [
      "100%|██████████| 115/115 [00:11<00:00, 10.38it/s]\n",
      "100%|██████████| 16/16 [00:00<00:00, 24.43it/s]\n",
      "  1%|          | 1/115 [00:00<00:12,  9.28it/s]"
     ]
    },
    {
     "name": "stdout",
     "output_type": "stream",
     "text": [
      "Epoch: 3, train_loss: 0.5333371758460999, valid_loss: 0.5270718336105347\n"
     ]
    },
    {
     "name": "stderr",
     "output_type": "stream",
     "text": [
      "100%|██████████| 115/115 [00:10<00:00, 10.46it/s]\n",
      "100%|██████████| 16/16 [00:00<00:00, 25.74it/s]\n",
      "  2%|▏         | 2/115 [00:00<00:10, 10.58it/s]"
     ]
    },
    {
     "name": "stdout",
     "output_type": "stream",
     "text": [
      "Epoch: 4, train_loss: 0.5175915956497192, valid_loss: 0.5153656005859375\n"
     ]
    },
    {
     "name": "stderr",
     "output_type": "stream",
     "text": [
      "100%|██████████| 115/115 [00:11<00:00, 10.41it/s]\n",
      "100%|██████████| 16/16 [00:00<00:00, 25.07it/s]\n",
      "  2%|▏         | 2/115 [00:00<00:10, 11.12it/s]"
     ]
    },
    {
     "name": "stdout",
     "output_type": "stream",
     "text": [
      "Epoch: 5, train_loss: 0.5032086372375488, valid_loss: 0.5025851726531982\n"
     ]
    },
    {
     "name": "stderr",
     "output_type": "stream",
     "text": [
      "100%|██████████| 115/115 [00:10<00:00, 10.53it/s]\n",
      "100%|██████████| 16/16 [00:00<00:00, 23.88it/s]\n",
      "  2%|▏         | 2/115 [00:00<00:10, 10.45it/s]"
     ]
    },
    {
     "name": "stdout",
     "output_type": "stream",
     "text": [
      "Epoch: 6, train_loss: 0.4931185245513916, valid_loss: 0.49546846747398376\n"
     ]
    },
    {
     "name": "stderr",
     "output_type": "stream",
     "text": [
      "100%|██████████| 115/115 [00:11<00:00, 10.27it/s]\n",
      "100%|██████████| 16/16 [00:00<00:00, 24.21it/s]\n",
      "  1%|          | 1/115 [00:00<00:11,  9.68it/s]"
     ]
    },
    {
     "name": "stdout",
     "output_type": "stream",
     "text": [
      "Epoch: 7, train_loss: 0.4879956543445587, valid_loss: 0.4894610047340393\n"
     ]
    },
    {
     "name": "stderr",
     "output_type": "stream",
     "text": [
      "100%|██████████| 115/115 [00:11<00:00, 10.08it/s]\n",
      "100%|██████████| 16/16 [00:00<00:00, 25.08it/s]\n",
      "  1%|          | 1/115 [00:00<00:12,  8.88it/s]"
     ]
    },
    {
     "name": "stdout",
     "output_type": "stream",
     "text": [
      "Epoch: 8, train_loss: 0.4786296486854553, valid_loss: 0.48176467418670654\n"
     ]
    },
    {
     "name": "stderr",
     "output_type": "stream",
     "text": [
      "100%|██████████| 115/115 [00:11<00:00, 10.44it/s]\n",
      "100%|██████████| 16/16 [00:00<00:00, 26.09it/s]\n",
      "  2%|▏         | 2/115 [00:00<00:10, 11.25it/s]"
     ]
    },
    {
     "name": "stdout",
     "output_type": "stream",
     "text": [
      "Epoch: 9, train_loss: 0.47368496656417847, valid_loss: 0.47765952348709106\n"
     ]
    },
    {
     "name": "stderr",
     "output_type": "stream",
     "text": [
      "100%|██████████| 115/115 [00:10<00:00, 10.52it/s]\n",
      "100%|██████████| 16/16 [00:00<00:00, 24.58it/s]\n",
      "  2%|▏         | 2/115 [00:00<00:10, 11.15it/s]"
     ]
    },
    {
     "name": "stdout",
     "output_type": "stream",
     "text": [
      "Epoch: 10, train_loss: 0.4718649089336395, valid_loss: 0.47670692205429077\n"
     ]
    },
    {
     "name": "stderr",
     "output_type": "stream",
     "text": [
      "100%|██████████| 115/115 [00:11<00:00, 10.23it/s]\n",
      "100%|██████████| 16/16 [00:00<00:00, 25.09it/s]\n",
      "  1%|          | 1/115 [00:00<00:11,  9.85it/s]"
     ]
    },
    {
     "name": "stdout",
     "output_type": "stream",
     "text": [
      "Epoch: 11, train_loss: 0.47088560461997986, valid_loss: 0.4763663113117218\n"
     ]
    },
    {
     "name": "stderr",
     "output_type": "stream",
     "text": [
      "100%|██████████| 115/115 [00:11<00:00, 10.40it/s]\n",
      "100%|██████████| 16/16 [00:00<00:00, 25.81it/s]\n",
      "  2%|▏         | 2/115 [00:00<00:10, 10.67it/s]"
     ]
    },
    {
     "name": "stdout",
     "output_type": "stream",
     "text": [
      "Epoch: 12, train_loss: 0.4699479341506958, valid_loss: 0.47346484661102295\n"
     ]
    },
    {
     "name": "stderr",
     "output_type": "stream",
     "text": [
      "100%|██████████| 115/115 [00:11<00:00, 10.26it/s]\n",
      "100%|██████████| 16/16 [00:00<00:00, 23.76it/s]\n",
      "  2%|▏         | 2/115 [00:00<00:10, 10.74it/s]"
     ]
    },
    {
     "name": "stdout",
     "output_type": "stream",
     "text": [
      "val loss increased, patience count:  1\n",
      "Epoch: 13, train_loss: 0.4691300392150879, valid_loss: 0.4748629927635193\n"
     ]
    },
    {
     "name": "stderr",
     "output_type": "stream",
     "text": [
      "100%|██████████| 115/115 [00:11<00:00, 10.36it/s]\n",
      "100%|██████████| 16/16 [00:00<00:00, 25.46it/s]\n",
      "  2%|▏         | 2/115 [00:00<00:10, 10.43it/s]"
     ]
    },
    {
     "name": "stdout",
     "output_type": "stream",
     "text": [
      "val loss increased, patience count:  2\n",
      "Epoch: 14, train_loss: 0.4686027467250824, valid_loss: 0.47390326857566833\n"
     ]
    },
    {
     "name": "stderr",
     "output_type": "stream",
     "text": [
      "100%|██████████| 115/115 [00:10<00:00, 10.54it/s]\n",
      "100%|██████████| 16/16 [00:00<00:00, 24.12it/s]\n",
      "  2%|▏         | 2/115 [00:00<00:10, 11.22it/s]"
     ]
    },
    {
     "name": "stdout",
     "output_type": "stream",
     "text": [
      "val loss increased, patience count:  3\n",
      "Epoch: 15, train_loss: 0.46777310967445374, valid_loss: 0.47449791431427\n"
     ]
    },
    {
     "name": "stderr",
     "output_type": "stream",
     "text": [
      "100%|██████████| 115/115 [00:11<00:00, 10.44it/s]\n",
      "100%|██████████| 16/16 [00:00<00:00, 25.42it/s]\n",
      "  2%|▏         | 2/115 [00:00<00:09, 11.41it/s]"
     ]
    },
    {
     "name": "stdout",
     "output_type": "stream",
     "text": [
      "Epoch: 16, train_loss: 0.4659597873687744, valid_loss: 0.4694420099258423\n"
     ]
    },
    {
     "name": "stderr",
     "output_type": "stream",
     "text": [
      "100%|██████████| 115/115 [00:10<00:00, 10.53it/s]\n",
      "100%|██████████| 16/16 [00:00<00:00, 24.06it/s]\n",
      "  2%|▏         | 2/115 [00:00<00:10, 10.63it/s]"
     ]
    },
    {
     "name": "stdout",
     "output_type": "stream",
     "text": [
      "Epoch: 17, train_loss: 0.4624575972557068, valid_loss: 0.46767333149909973\n"
     ]
    },
    {
     "name": "stderr",
     "output_type": "stream",
     "text": [
      "100%|██████████| 115/115 [00:11<00:00, 10.09it/s]\n",
      "100%|██████████| 16/16 [00:00<00:00, 25.26it/s]\n",
      "  2%|▏         | 2/115 [00:00<00:10, 10.86it/s]"
     ]
    },
    {
     "name": "stdout",
     "output_type": "stream",
     "text": [
      "Epoch: 18, train_loss: 0.4617142081260681, valid_loss: 0.46615785360336304\n"
     ]
    },
    {
     "name": "stderr",
     "output_type": "stream",
     "text": [
      "100%|██████████| 115/115 [00:11<00:00, 10.17it/s]\n",
      "100%|██████████| 16/16 [00:00<00:00, 24.10it/s]\n",
      "  2%|▏         | 2/115 [00:00<00:10, 10.67it/s]"
     ]
    },
    {
     "name": "stdout",
     "output_type": "stream",
     "text": [
      "val loss increased, patience count:  1\n",
      "Epoch: 19, train_loss: 0.461012601852417, valid_loss: 0.46659260988235474\n"
     ]
    },
    {
     "name": "stderr",
     "output_type": "stream",
     "text": [
      "100%|██████████| 115/115 [00:10<00:00, 10.54it/s]\n",
      "100%|██████████| 16/16 [00:00<00:00, 25.92it/s]\n",
      "  2%|▏         | 2/115 [00:00<00:10, 10.53it/s]"
     ]
    },
    {
     "name": "stdout",
     "output_type": "stream",
     "text": [
      "val loss increased, patience count:  2\n",
      "Epoch: 20, train_loss: 0.4607629179954529, valid_loss: 0.4665377140045166\n"
     ]
    },
    {
     "name": "stderr",
     "output_type": "stream",
     "text": [
      "100%|██████████| 115/115 [00:11<00:00,  9.83it/s]\n",
      "100%|██████████| 16/16 [00:00<00:00, 25.46it/s]\n",
      "  2%|▏         | 2/115 [00:00<00:10, 10.61it/s]"
     ]
    },
    {
     "name": "stdout",
     "output_type": "stream",
     "text": [
      "val loss increased, patience count:  3\n",
      "Epoch: 21, train_loss: 0.46010756492614746, valid_loss: 0.46616142988204956\n"
     ]
    },
    {
     "name": "stderr",
     "output_type": "stream",
     "text": [
      "100%|██████████| 115/115 [00:10<00:00, 10.46it/s]\n",
      "100%|██████████| 16/16 [00:00<00:00, 25.72it/s]\n",
      "  2%|▏         | 2/115 [00:00<00:10, 10.49it/s]"
     ]
    },
    {
     "name": "stdout",
     "output_type": "stream",
     "text": [
      "Epoch: 22, train_loss: 0.45969775319099426, valid_loss: 0.46465080976486206\n"
     ]
    },
    {
     "name": "stderr",
     "output_type": "stream",
     "text": [
      "100%|██████████| 115/115 [00:12<00:00,  9.50it/s]\n",
      "100%|██████████| 16/16 [00:00<00:00, 25.09it/s]\n",
      "  2%|▏         | 2/115 [00:00<00:10, 10.87it/s]"
     ]
    },
    {
     "name": "stdout",
     "output_type": "stream",
     "text": [
      "val loss increased, patience count:  1\n",
      "Epoch: 23, train_loss: 0.45933276414871216, valid_loss: 0.4662255346775055\n"
     ]
    },
    {
     "name": "stderr",
     "output_type": "stream",
     "text": [
      "100%|██████████| 115/115 [00:10<00:00, 10.58it/s]\n",
      "100%|██████████| 16/16 [00:00<00:00, 24.33it/s]\n",
      "  2%|▏         | 2/115 [00:00<00:10, 10.64it/s]"
     ]
    },
    {
     "name": "stdout",
     "output_type": "stream",
     "text": [
      "val loss increased, patience count:  2\n",
      "Epoch: 24, train_loss: 0.458615243434906, valid_loss: 0.4651589095592499\n"
     ]
    },
    {
     "name": "stderr",
     "output_type": "stream",
     "text": [
      "100%|██████████| 115/115 [00:11<00:00, 10.03it/s]\n",
      "100%|██████████| 16/16 [00:00<00:00, 25.27it/s]\n",
      "  2%|▏         | 2/115 [00:00<00:10, 10.90it/s]"
     ]
    },
    {
     "name": "stdout",
     "output_type": "stream",
     "text": [
      "val loss increased, patience count:  3\n",
      "Epoch: 25, train_loss: 0.45877203345298767, valid_loss: 0.46595633029937744\n"
     ]
    },
    {
     "name": "stderr",
     "output_type": "stream",
     "text": [
      "100%|██████████| 115/115 [00:10<00:00, 10.50it/s]\n",
      "100%|██████████| 16/16 [00:00<00:00, 24.97it/s]\n",
      "  2%|▏         | 2/115 [00:00<00:09, 11.38it/s]"
     ]
    },
    {
     "name": "stdout",
     "output_type": "stream",
     "text": [
      "Epoch: 26, train_loss: 0.45837050676345825, valid_loss: 0.4642148017883301\n"
     ]
    },
    {
     "name": "stderr",
     "output_type": "stream",
     "text": [
      "100%|██████████| 115/115 [00:11<00:00, 10.42it/s]\n",
      "100%|██████████| 16/16 [00:00<00:00, 24.01it/s]\n",
      "  2%|▏         | 2/115 [00:00<00:10, 10.67it/s]"
     ]
    },
    {
     "name": "stdout",
     "output_type": "stream",
     "text": [
      "val loss increased, patience count:  1\n",
      "Epoch: 27, train_loss: 0.4577758312225342, valid_loss: 0.46431222558021545\n"
     ]
    },
    {
     "name": "stderr",
     "output_type": "stream",
     "text": [
      "100%|██████████| 115/115 [00:11<00:00, 10.34it/s]\n",
      "100%|██████████| 16/16 [00:00<00:00, 24.58it/s]\n",
      "  2%|▏         | 2/115 [00:00<00:10, 10.96it/s]"
     ]
    },
    {
     "name": "stdout",
     "output_type": "stream",
     "text": [
      "val loss increased, patience count:  2\n",
      "Epoch: 28, train_loss: 0.45773524045944214, valid_loss: 0.46430444717407227\n"
     ]
    },
    {
     "name": "stderr",
     "output_type": "stream",
     "text": [
      "100%|██████████| 115/115 [00:11<00:00, 10.31it/s]\n",
      "100%|██████████| 16/16 [00:00<00:00, 25.41it/s]\n",
      "  2%|▏         | 2/115 [00:00<00:09, 11.45it/s]"
     ]
    },
    {
     "name": "stdout",
     "output_type": "stream",
     "text": [
      "Epoch: 29, train_loss: 0.4573899209499359, valid_loss: 0.4631131887435913\n"
     ]
    },
    {
     "name": "stderr",
     "output_type": "stream",
     "text": [
      "100%|██████████| 115/115 [00:11<00:00, 10.30it/s]\n",
      "100%|██████████| 16/16 [00:00<00:00, 26.57it/s]\n",
      "  2%|▏         | 2/115 [00:00<00:10, 10.63it/s]"
     ]
    },
    {
     "name": "stdout",
     "output_type": "stream",
     "text": [
      "Epoch: 30, train_loss: 0.4568661153316498, valid_loss: 0.46278536319732666\n"
     ]
    },
    {
     "name": "stderr",
     "output_type": "stream",
     "text": [
      "100%|██████████| 115/115 [00:10<00:00, 10.49it/s]\n",
      "100%|██████████| 16/16 [00:00<00:00, 25.63it/s]\n",
      "  2%|▏         | 2/115 [00:00<00:10, 10.57it/s]"
     ]
    },
    {
     "name": "stdout",
     "output_type": "stream",
     "text": [
      "val loss increased, patience count:  1\n",
      "Epoch: 31, train_loss: 0.456746369600296, valid_loss: 0.4632444679737091\n"
     ]
    },
    {
     "name": "stderr",
     "output_type": "stream",
     "text": [
      "100%|██████████| 115/115 [00:11<00:00, 10.44it/s]\n",
      "100%|██████████| 16/16 [00:00<00:00, 25.84it/s]\n",
      "  2%|▏         | 2/115 [00:00<00:10, 10.69it/s]"
     ]
    },
    {
     "name": "stdout",
     "output_type": "stream",
     "text": [
      "Epoch: 32, train_loss: 0.4565548002719879, valid_loss: 0.4606931209564209\n"
     ]
    },
    {
     "name": "stderr",
     "output_type": "stream",
     "text": [
      "100%|██████████| 115/115 [00:11<00:00, 10.36it/s]\n",
      "100%|██████████| 16/16 [00:00<00:00, 25.45it/s]\n",
      "  2%|▏         | 2/115 [00:00<00:10, 10.88it/s]"
     ]
    },
    {
     "name": "stdout",
     "output_type": "stream",
     "text": [
      "val loss increased, patience count:  1\n",
      "Epoch: 33, train_loss: 0.4561269283294678, valid_loss: 0.4608162045478821\n"
     ]
    },
    {
     "name": "stderr",
     "output_type": "stream",
     "text": [
      "100%|██████████| 115/115 [00:11<00:00, 10.21it/s]\n",
      "100%|██████████| 16/16 [00:00<00:00, 25.26it/s]\n",
      "  2%|▏         | 2/115 [00:00<00:10, 10.45it/s]"
     ]
    },
    {
     "name": "stdout",
     "output_type": "stream",
     "text": [
      "val loss increased, patience count:  2\n",
      "Epoch: 34, train_loss: 0.4554894268512726, valid_loss: 0.46331045031547546\n"
     ]
    },
    {
     "name": "stderr",
     "output_type": "stream",
     "text": [
      "100%|██████████| 115/115 [00:11<00:00, 10.42it/s]\n",
      "100%|██████████| 16/16 [00:00<00:00, 23.65it/s]\n",
      "  2%|▏         | 2/115 [00:00<00:10, 10.78it/s]"
     ]
    },
    {
     "name": "stdout",
     "output_type": "stream",
     "text": [
      "val loss increased, patience count:  3\n",
      "Epoch: 35, train_loss: 0.4553138017654419, valid_loss: 0.4627828001976013\n"
     ]
    },
    {
     "name": "stderr",
     "output_type": "stream",
     "text": [
      "100%|██████████| 115/115 [00:11<00:00, 10.28it/s]\n",
      "100%|██████████| 16/16 [00:00<00:00, 25.70it/s]\n",
      "  2%|▏         | 2/115 [00:00<00:09, 11.45it/s]"
     ]
    },
    {
     "name": "stdout",
     "output_type": "stream",
     "text": [
      "Epoch: 36, train_loss: 0.4546131491661072, valid_loss: 0.45833590626716614\n"
     ]
    },
    {
     "name": "stderr",
     "output_type": "stream",
     "text": [
      "100%|██████████| 115/115 [00:10<00:00, 10.51it/s]\n",
      "100%|██████████| 16/16 [00:00<00:00, 24.80it/s]\n",
      "  1%|          | 1/115 [00:00<00:11,  9.81it/s]"
     ]
    },
    {
     "name": "stdout",
     "output_type": "stream",
     "text": [
      "val loss increased, patience count:  1\n",
      "Epoch: 37, train_loss: 0.45421260595321655, valid_loss: 0.4599091708660126\n"
     ]
    },
    {
     "name": "stderr",
     "output_type": "stream",
     "text": [
      "100%|██████████| 115/115 [00:11<00:00,  9.95it/s]\n",
      "100%|██████████| 16/16 [00:00<00:00, 24.19it/s]\n",
      "  2%|▏         | 2/115 [00:00<00:10, 11.18it/s]"
     ]
    },
    {
     "name": "stdout",
     "output_type": "stream",
     "text": [
      "val loss increased, patience count:  2\n",
      "Epoch: 38, train_loss: 0.45350149273872375, valid_loss: 0.4598183333873749\n"
     ]
    },
    {
     "name": "stderr",
     "output_type": "stream",
     "text": [
      "100%|██████████| 115/115 [00:11<00:00, 10.42it/s]\n",
      "100%|██████████| 16/16 [00:00<00:00, 25.37it/s]\n"
     ]
    },
    {
     "name": "stdout",
     "output_type": "stream",
     "text": [
      "Epoch: 39, train_loss: 0.45349442958831787, valid_loss: 0.45784130692481995\n"
     ]
    },
    {
     "name": "stderr",
     "output_type": "stream",
     "text": [
      "\r",
      "  0%|          | 0/28 [00:00<?, ?it/s]"
     ]
    },
    {
     "name": "stdout",
     "output_type": "stream",
     "text": [
      "{'BATCH_SIZE': 512, 'EPOCHS': 40, 'OPTIMIZER': <class 'torch.optim.adam.Adam'>, 'LEARNING_RATE': 5e-05, 'LOSS': protop_loss_0.5_0.5, 'EARLY_STOPPING': True, 'PATIENCE': 3, 'MIN_DELTA': 0.0005, 'MAXPOOL': 2, 'OBO_SIZES': array([256]), 'PROTOTYPE_NUM': 10, 'DROPOUT': 0.6, 'HIDDEN_SIZES': array([ 64, 128, 256]), 'KERNEL_SIZES': array([7, 7, 7])}\n"
     ]
    },
    {
     "name": "stderr",
     "output_type": "stream",
     "text": [
      "100%|██████████| 28/28 [00:09<00:00,  2.97it/s]\n",
      "100%|██████████| 4/4 [00:00<00:00,  7.78it/s]\n",
      "  0%|          | 0/28 [00:00<?, ?it/s]"
     ]
    },
    {
     "name": "stdout",
     "output_type": "stream",
     "text": [
      "Epoch: 0, train_loss: 0.4550589919090271, valid_loss: 0.17367087304592133\n"
     ]
    },
    {
     "name": "stderr",
     "output_type": "stream",
     "text": [
      "100%|██████████| 28/28 [00:09<00:00,  2.92it/s]\n",
      "100%|██████████| 4/4 [00:00<00:00,  7.33it/s]\n",
      "  0%|          | 0/28 [00:00<?, ?it/s]"
     ]
    },
    {
     "name": "stdout",
     "output_type": "stream",
     "text": [
      "Epoch: 1, train_loss: -0.1030079573392868, valid_loss: -0.3764864504337311\n"
     ]
    },
    {
     "name": "stderr",
     "output_type": "stream",
     "text": [
      "100%|██████████| 28/28 [00:09<00:00,  2.98it/s]\n",
      "100%|██████████| 4/4 [00:00<00:00,  7.51it/s]\n",
      "  0%|          | 0/28 [00:00<?, ?it/s]"
     ]
    },
    {
     "name": "stdout",
     "output_type": "stream",
     "text": [
      "Epoch: 2, train_loss: -0.5711381435394287, valid_loss: -0.6766306161880493\n"
     ]
    },
    {
     "name": "stderr",
     "output_type": "stream",
     "text": [
      "100%|██████████| 28/28 [00:09<00:00,  2.96it/s]\n",
      "100%|██████████| 4/4 [00:00<00:00,  7.26it/s]\n",
      "  0%|          | 0/28 [00:00<?, ?it/s]"
     ]
    },
    {
     "name": "stdout",
     "output_type": "stream",
     "text": [
      "Epoch: 3, train_loss: -0.7761212587356567, valid_loss: -0.8054778575897217\n"
     ]
    },
    {
     "name": "stderr",
     "output_type": "stream",
     "text": [
      "100%|██████████| 28/28 [00:09<00:00,  2.95it/s]\n",
      "100%|██████████| 4/4 [00:00<00:00,  7.36it/s]\n",
      "  0%|          | 0/28 [00:00<?, ?it/s]"
     ]
    },
    {
     "name": "stdout",
     "output_type": "stream",
     "text": [
      "Epoch: 4, train_loss: -0.8503457307815552, valid_loss: -0.839043378829956\n"
     ]
    },
    {
     "name": "stderr",
     "output_type": "stream",
     "text": [
      "100%|██████████| 28/28 [00:09<00:00,  2.92it/s]\n",
      "100%|██████████| 4/4 [00:00<00:00,  7.40it/s]\n",
      "  0%|          | 0/28 [00:00<?, ?it/s]"
     ]
    },
    {
     "name": "stdout",
     "output_type": "stream",
     "text": [
      "Epoch: 5, train_loss: -0.8693323731422424, valid_loss: -0.8417713642120361\n"
     ]
    },
    {
     "name": "stderr",
     "output_type": "stream",
     "text": [
      "100%|██████████| 28/28 [00:09<00:00,  2.99it/s]\n",
      "100%|██████████| 4/4 [00:00<00:00,  7.34it/s]\n",
      "  0%|          | 0/28 [00:00<?, ?it/s]"
     ]
    },
    {
     "name": "stdout",
     "output_type": "stream",
     "text": [
      "Epoch: 6, train_loss: -0.8752221465110779, valid_loss: -0.8488065004348755\n"
     ]
    },
    {
     "name": "stderr",
     "output_type": "stream",
     "text": [
      "100%|██████████| 28/28 [00:09<00:00,  2.97it/s]\n",
      "100%|██████████| 4/4 [00:00<00:00,  7.18it/s]\n",
      "  0%|          | 0/28 [00:00<?, ?it/s]"
     ]
    },
    {
     "name": "stdout",
     "output_type": "stream",
     "text": [
      "Epoch: 7, train_loss: -0.8885828256607056, valid_loss: -0.8542856574058533\n"
     ]
    },
    {
     "name": "stderr",
     "output_type": "stream",
     "text": [
      "100%|██████████| 28/28 [00:09<00:00,  2.97it/s]\n",
      "100%|██████████| 4/4 [00:00<00:00,  7.83it/s]\n",
      "  0%|          | 0/28 [00:00<?, ?it/s]"
     ]
    },
    {
     "name": "stdout",
     "output_type": "stream",
     "text": [
      "Epoch: 8, train_loss: -0.8879000544548035, valid_loss: -0.8575268983840942\n"
     ]
    },
    {
     "name": "stderr",
     "output_type": "stream",
     "text": [
      "100%|██████████| 28/28 [00:09<00:00,  2.98it/s]\n",
      "100%|██████████| 4/4 [00:00<00:00,  7.40it/s]\n",
      "  0%|          | 0/28 [00:00<?, ?it/s]"
     ]
    },
    {
     "name": "stdout",
     "output_type": "stream",
     "text": [
      "Epoch: 9, train_loss: -0.8936787843704224, valid_loss: -0.8635138273239136\n"
     ]
    },
    {
     "name": "stderr",
     "output_type": "stream",
     "text": [
      "100%|██████████| 28/28 [00:09<00:00,  2.96it/s]\n",
      "100%|██████████| 4/4 [00:00<00:00,  6.61it/s]\n",
      "  0%|          | 0/28 [00:00<?, ?it/s]"
     ]
    },
    {
     "name": "stdout",
     "output_type": "stream",
     "text": [
      "Epoch: 10, train_loss: -0.9034051299095154, valid_loss: -0.8795534372329712\n"
     ]
    },
    {
     "name": "stderr",
     "output_type": "stream",
     "text": [
      "100%|██████████| 28/28 [00:09<00:00,  2.98it/s]\n",
      "100%|██████████| 4/4 [00:00<00:00,  7.67it/s]\n",
      "  0%|          | 0/28 [00:00<?, ?it/s]"
     ]
    },
    {
     "name": "stdout",
     "output_type": "stream",
     "text": [
      "Epoch: 11, train_loss: -0.9128260016441345, valid_loss: -0.8843200206756592\n"
     ]
    },
    {
     "name": "stderr",
     "output_type": "stream",
     "text": [
      "100%|██████████| 28/28 [00:09<00:00,  2.98it/s]\n",
      "100%|██████████| 4/4 [00:00<00:00,  7.32it/s]\n",
      "  0%|          | 0/28 [00:00<?, ?it/s]"
     ]
    },
    {
     "name": "stdout",
     "output_type": "stream",
     "text": [
      "Epoch: 12, train_loss: -0.9315961003303528, valid_loss: -0.9110816717147827\n"
     ]
    },
    {
     "name": "stderr",
     "output_type": "stream",
     "text": [
      "100%|██████████| 28/28 [00:09<00:00,  2.98it/s]\n",
      "100%|██████████| 4/4 [00:00<00:00,  7.56it/s]\n",
      "  0%|          | 0/28 [00:00<?, ?it/s]"
     ]
    },
    {
     "name": "stdout",
     "output_type": "stream",
     "text": [
      "Epoch: 13, train_loss: -0.94565349817276, valid_loss: -0.9158295392990112\n"
     ]
    },
    {
     "name": "stderr",
     "output_type": "stream",
     "text": [
      "100%|██████████| 28/28 [00:09<00:00,  2.90it/s]\n",
      "100%|██████████| 4/4 [00:00<00:00,  7.24it/s]\n",
      "  0%|          | 0/28 [00:00<?, ?it/s]"
     ]
    },
    {
     "name": "stdout",
     "output_type": "stream",
     "text": [
      "Epoch: 14, train_loss: -0.9461517333984375, valid_loss: -0.9206580519676208\n"
     ]
    },
    {
     "name": "stderr",
     "output_type": "stream",
     "text": [
      "100%|██████████| 28/28 [00:09<00:00,  2.98it/s]\n",
      "100%|██████████| 4/4 [00:00<00:00,  7.15it/s]\n",
      "  0%|          | 0/28 [00:00<?, ?it/s]"
     ]
    },
    {
     "name": "stdout",
     "output_type": "stream",
     "text": [
      "Epoch: 15, train_loss: -0.9470464587211609, valid_loss: -0.9241647720336914\n"
     ]
    },
    {
     "name": "stderr",
     "output_type": "stream",
     "text": [
      "100%|██████████| 28/28 [00:09<00:00,  2.96it/s]\n",
      "100%|██████████| 4/4 [00:00<00:00,  7.26it/s]\n",
      "  0%|          | 0/28 [00:00<?, ?it/s]"
     ]
    },
    {
     "name": "stdout",
     "output_type": "stream",
     "text": [
      "val loss increased, patience count:  1\n",
      "Epoch: 16, train_loss: -0.9525538682937622, valid_loss: -0.9154038429260254\n"
     ]
    },
    {
     "name": "stderr",
     "output_type": "stream",
     "text": [
      "100%|██████████| 28/28 [00:09<00:00,  2.91it/s]\n",
      "100%|██████████| 4/4 [00:00<00:00,  6.17it/s]\n",
      "  0%|          | 0/28 [00:00<?, ?it/s]"
     ]
    },
    {
     "name": "stdout",
     "output_type": "stream",
     "text": [
      "Epoch: 17, train_loss: -0.9549326300621033, valid_loss: -0.9283220767974854\n"
     ]
    },
    {
     "name": "stderr",
     "output_type": "stream",
     "text": [
      "100%|██████████| 28/28 [00:09<00:00,  2.92it/s]\n",
      "100%|██████████| 4/4 [00:00<00:00,  7.23it/s]\n",
      "  0%|          | 0/28 [00:00<?, ?it/s]"
     ]
    },
    {
     "name": "stdout",
     "output_type": "stream",
     "text": [
      "val loss increased, patience count:  1\n",
      "Epoch: 18, train_loss: -0.9531704187393188, valid_loss: -0.9234923124313354\n"
     ]
    },
    {
     "name": "stderr",
     "output_type": "stream",
     "text": [
      "100%|██████████| 28/28 [00:09<00:00,  3.01it/s]\n",
      "100%|██████████| 4/4 [00:00<00:00,  7.56it/s]\n",
      "  0%|          | 0/28 [00:00<?, ?it/s]"
     ]
    },
    {
     "name": "stdout",
     "output_type": "stream",
     "text": [
      "val loss increased, patience count:  2\n",
      "Epoch: 19, train_loss: -0.9523884057998657, valid_loss: -0.9199098944664001\n"
     ]
    },
    {
     "name": "stderr",
     "output_type": "stream",
     "text": [
      "100%|██████████| 28/28 [00:09<00:00,  2.96it/s]\n",
      "100%|██████████| 4/4 [00:00<00:00,  7.59it/s]\n",
      "  0%|          | 0/28 [00:00<?, ?it/s]"
     ]
    },
    {
     "name": "stdout",
     "output_type": "stream",
     "text": [
      "val loss increased, patience count:  3\n",
      "Epoch: 20, train_loss: -0.9544513821601868, valid_loss: -0.9191244840621948\n"
     ]
    },
    {
     "name": "stderr",
     "output_type": "stream",
     "text": [
      "100%|██████████| 28/28 [00:09<00:00,  2.99it/s]\n",
      "100%|██████████| 4/4 [00:00<00:00,  7.16it/s]\n",
      "  0%|          | 0/28 [00:00<?, ?it/s]"
     ]
    },
    {
     "name": "stdout",
     "output_type": "stream",
     "text": [
      "Epoch: 21, train_loss: -0.9582691192626953, valid_loss: -0.9311503767967224\n"
     ]
    },
    {
     "name": "stderr",
     "output_type": "stream",
     "text": [
      "100%|██████████| 28/28 [00:09<00:00,  2.95it/s]\n",
      "100%|██████████| 4/4 [00:00<00:00,  7.43it/s]\n",
      "  0%|          | 0/28 [00:00<?, ?it/s]"
     ]
    },
    {
     "name": "stdout",
     "output_type": "stream",
     "text": [
      "Epoch: 22, train_loss: -0.9604704976081848, valid_loss: -0.9338904619216919\n"
     ]
    },
    {
     "name": "stderr",
     "output_type": "stream",
     "text": [
      "100%|██████████| 28/28 [00:09<00:00,  2.97it/s]\n",
      "100%|██████████| 4/4 [00:00<00:00,  7.57it/s]\n",
      "  0%|          | 0/28 [00:00<?, ?it/s]"
     ]
    },
    {
     "name": "stdout",
     "output_type": "stream",
     "text": [
      "Epoch: 23, train_loss: -0.9590302109718323, valid_loss: -0.9347680807113647\n"
     ]
    },
    {
     "name": "stderr",
     "output_type": "stream",
     "text": [
      "100%|██████████| 28/28 [00:09<00:00,  2.93it/s]\n",
      "100%|██████████| 4/4 [00:00<00:00,  7.15it/s]\n",
      "  0%|          | 0/28 [00:00<?, ?it/s]"
     ]
    },
    {
     "name": "stdout",
     "output_type": "stream",
     "text": [
      "val loss increased, patience count:  1\n",
      "Epoch: 24, train_loss: -0.9616934657096863, valid_loss: -0.921250581741333\n"
     ]
    },
    {
     "name": "stderr",
     "output_type": "stream",
     "text": [
      "100%|██████████| 28/28 [00:09<00:00,  2.97it/s]\n",
      "100%|██████████| 4/4 [00:00<00:00,  7.65it/s]\n",
      "  0%|          | 0/28 [00:00<?, ?it/s]"
     ]
    },
    {
     "name": "stdout",
     "output_type": "stream",
     "text": [
      "Epoch: 25, train_loss: -0.9582713842391968, valid_loss: -0.9413594603538513\n"
     ]
    },
    {
     "name": "stderr",
     "output_type": "stream",
     "text": [
      "100%|██████████| 28/28 [00:09<00:00,  2.96it/s]\n",
      "100%|██████████| 4/4 [00:00<00:00,  7.28it/s]\n",
      "  0%|          | 0/28 [00:00<?, ?it/s]"
     ]
    },
    {
     "name": "stdout",
     "output_type": "stream",
     "text": [
      "val loss increased, patience count:  1\n",
      "Epoch: 26, train_loss: -0.9619560837745667, valid_loss: -0.9374310970306396\n"
     ]
    },
    {
     "name": "stderr",
     "output_type": "stream",
     "text": [
      "100%|██████████| 28/28 [00:09<00:00,  2.93it/s]\n",
      "100%|██████████| 4/4 [00:00<00:00,  7.89it/s]\n",
      "  0%|          | 0/28 [00:00<?, ?it/s]"
     ]
    },
    {
     "name": "stdout",
     "output_type": "stream",
     "text": [
      "val loss increased, patience count:  2\n",
      "Epoch: 27, train_loss: -0.961039125919342, valid_loss: -0.9292962551116943\n"
     ]
    },
    {
     "name": "stderr",
     "output_type": "stream",
     "text": [
      "100%|██████████| 28/28 [00:09<00:00,  2.91it/s]\n",
      "100%|██████████| 4/4 [00:00<00:00,  7.62it/s]\n",
      "  0%|          | 0/28 [00:00<?, ?it/s]"
     ]
    },
    {
     "name": "stdout",
     "output_type": "stream",
     "text": [
      "Epoch: 28, train_loss: -0.9671057462692261, valid_loss: -0.9419704675674438\n"
     ]
    },
    {
     "name": "stderr",
     "output_type": "stream",
     "text": [
      "100%|██████████| 28/28 [00:09<00:00,  3.01it/s]\n",
      "100%|██████████| 4/4 [00:00<00:00,  7.58it/s]\n",
      "  0%|          | 0/28 [00:00<?, ?it/s]"
     ]
    },
    {
     "name": "stdout",
     "output_type": "stream",
     "text": [
      "val loss increased, patience count:  1\n",
      "Epoch: 29, train_loss: -0.9655893445014954, valid_loss: -0.9297611713409424\n"
     ]
    },
    {
     "name": "stderr",
     "output_type": "stream",
     "text": [
      "100%|██████████| 28/28 [00:09<00:00,  2.90it/s]\n",
      "100%|██████████| 4/4 [00:00<00:00,  7.46it/s]\n",
      "  0%|          | 0/28 [00:00<?, ?it/s]"
     ]
    },
    {
     "name": "stdout",
     "output_type": "stream",
     "text": [
      "val loss increased, patience count:  2\n",
      "Epoch: 30, train_loss: -0.9665254950523376, valid_loss: -0.9410256147384644\n"
     ]
    },
    {
     "name": "stderr",
     "output_type": "stream",
     "text": [
      "100%|██████████| 28/28 [00:09<00:00,  3.02it/s]\n",
      "100%|██████████| 4/4 [00:00<00:00,  7.36it/s]\n",
      "  0%|          | 0/28 [00:00<?, ?it/s]"
     ]
    },
    {
     "name": "stdout",
     "output_type": "stream",
     "text": [
      "val loss increased, patience count:  3\n",
      "Epoch: 31, train_loss: -0.9633951783180237, valid_loss: -0.9301243424415588\n"
     ]
    },
    {
     "name": "stderr",
     "output_type": "stream",
     "text": [
      "100%|██████████| 28/28 [00:10<00:00,  2.64it/s]\n",
      "100%|██████████| 4/4 [00:00<00:00,  7.40it/s]\n"
     ]
    },
    {
     "name": "stdout",
     "output_type": "stream",
     "text": [
      "Early stopped at Epoch:  32\n"
     ]
    },
    {
     "name": "stderr",
     "output_type": "stream",
     "text": [
      "\r",
      "  0%|          | 0/28 [00:00<?, ?it/s]"
     ]
    },
    {
     "name": "stdout",
     "output_type": "stream",
     "text": [
      "{'BATCH_SIZE': 512, 'EPOCHS': 50, 'OPTIMIZER': <class 'torch.optim.adam.Adam'>, 'LEARNING_RATE': 0.0001, 'LOSS': protop_loss_1_1, 'EARLY_STOPPING': True, 'PATIENCE': 2, 'MIN_DELTA': 0.0001, 'MAXPOOL': 2, 'OBO_SIZES': array([128,  64]), 'PROTOTYPE_NUM': 20, 'DROPOUT': 0.0, 'HIDDEN_SIZES': array([ 64, 128, 256]), 'KERNEL_SIZES': array([5, 5, 5])}\n"
     ]
    },
    {
     "name": "stderr",
     "output_type": "stream",
     "text": [
      "100%|██████████| 28/28 [00:07<00:00,  3.84it/s]\n",
      "100%|██████████| 4/4 [00:00<00:00,  9.85it/s]\n",
      "  0%|          | 0/28 [00:00<?, ?it/s]"
     ]
    },
    {
     "name": "stdout",
     "output_type": "stream",
     "text": [
      "Epoch: 0, train_loss: 0.16494496166706085, valid_loss: -0.23574577271938324\n"
     ]
    },
    {
     "name": "stderr",
     "output_type": "stream",
     "text": [
      "100%|██████████| 28/28 [00:07<00:00,  3.86it/s]\n",
      "100%|██████████| 4/4 [00:00<00:00,  9.31it/s]\n",
      "  0%|          | 0/28 [00:00<?, ?it/s]"
     ]
    },
    {
     "name": "stdout",
     "output_type": "stream",
     "text": [
      "Epoch: 1, train_loss: -0.4705120921134949, valid_loss: -0.6139003038406372\n"
     ]
    },
    {
     "name": "stderr",
     "output_type": "stream",
     "text": [
      "100%|██████████| 28/28 [00:07<00:00,  3.89it/s]\n",
      "100%|██████████| 4/4 [00:00<00:00,  9.86it/s]\n",
      "  0%|          | 0/28 [00:00<?, ?it/s]"
     ]
    },
    {
     "name": "stdout",
     "output_type": "stream",
     "text": [
      "Epoch: 2, train_loss: -0.7056728601455688, valid_loss: -0.7293358445167542\n"
     ]
    },
    {
     "name": "stderr",
     "output_type": "stream",
     "text": [
      "100%|██████████| 28/28 [00:07<00:00,  3.95it/s]\n",
      "100%|██████████| 4/4 [00:00<00:00,  9.49it/s]\n",
      "  0%|          | 0/28 [00:00<?, ?it/s]"
     ]
    },
    {
     "name": "stdout",
     "output_type": "stream",
     "text": [
      "Epoch: 3, train_loss: -0.7786450982093811, valid_loss: -0.7589624524116516\n"
     ]
    },
    {
     "name": "stderr",
     "output_type": "stream",
     "text": [
      "100%|██████████| 28/28 [00:07<00:00,  3.85it/s]\n",
      "100%|██████████| 4/4 [00:00<00:00,  9.58it/s]\n",
      "  0%|          | 0/28 [00:00<?, ?it/s]"
     ]
    },
    {
     "name": "stdout",
     "output_type": "stream",
     "text": [
      "Epoch: 4, train_loss: -0.8009244203567505, valid_loss: -0.7737777829170227\n"
     ]
    },
    {
     "name": "stderr",
     "output_type": "stream",
     "text": [
      "100%|██████████| 28/28 [00:07<00:00,  3.92it/s]\n",
      "100%|██████████| 4/4 [00:00<00:00,  9.71it/s]\n",
      "  0%|          | 0/28 [00:00<?, ?it/s]"
     ]
    },
    {
     "name": "stdout",
     "output_type": "stream",
     "text": [
      "Epoch: 5, train_loss: -0.8087479472160339, valid_loss: -0.7820505499839783\n"
     ]
    },
    {
     "name": "stderr",
     "output_type": "stream",
     "text": [
      "100%|██████████| 28/28 [00:07<00:00,  3.86it/s]\n",
      "100%|██████████| 4/4 [00:00<00:00,  8.27it/s]\n",
      "  0%|          | 0/28 [00:00<?, ?it/s]"
     ]
    },
    {
     "name": "stdout",
     "output_type": "stream",
     "text": [
      "Epoch: 6, train_loss: -0.8189281821250916, valid_loss: -0.7914980053901672\n"
     ]
    },
    {
     "name": "stderr",
     "output_type": "stream",
     "text": [
      "100%|██████████| 28/28 [00:07<00:00,  3.89it/s]\n",
      "100%|██████████| 4/4 [00:00<00:00,  9.48it/s]\n",
      "  0%|          | 0/28 [00:00<?, ?it/s]"
     ]
    },
    {
     "name": "stdout",
     "output_type": "stream",
     "text": [
      "Epoch: 7, train_loss: -0.8176385760307312, valid_loss: -0.8002694249153137\n"
     ]
    },
    {
     "name": "stderr",
     "output_type": "stream",
     "text": [
      "100%|██████████| 28/28 [00:07<00:00,  3.91it/s]\n",
      "100%|██████████| 4/4 [00:00<00:00,  9.44it/s]\n",
      "  0%|          | 0/28 [00:00<?, ?it/s]"
     ]
    },
    {
     "name": "stdout",
     "output_type": "stream",
     "text": [
      "Epoch: 8, train_loss: -0.8253579139709473, valid_loss: -0.8009241819381714\n"
     ]
    },
    {
     "name": "stderr",
     "output_type": "stream",
     "text": [
      "100%|██████████| 28/28 [00:07<00:00,  3.86it/s]\n",
      "100%|██████████| 4/4 [00:00<00:00,  9.67it/s]\n",
      "  0%|          | 0/28 [00:00<?, ?it/s]"
     ]
    },
    {
     "name": "stdout",
     "output_type": "stream",
     "text": [
      "Epoch: 9, train_loss: -0.8331587910652161, valid_loss: -0.8045946955680847\n"
     ]
    },
    {
     "name": "stderr",
     "output_type": "stream",
     "text": [
      "100%|██████████| 28/28 [00:07<00:00,  3.99it/s]\n",
      "100%|██████████| 4/4 [00:00<00:00, 10.06it/s]\n",
      "  0%|          | 0/28 [00:00<?, ?it/s]"
     ]
    },
    {
     "name": "stdout",
     "output_type": "stream",
     "text": [
      "val loss increased, patience count:  1\n",
      "Epoch: 10, train_loss: -0.8351249694824219, valid_loss: -0.799134373664856\n"
     ]
    },
    {
     "name": "stderr",
     "output_type": "stream",
     "text": [
      "100%|██████████| 28/28 [00:07<00:00,  3.94it/s]\n",
      "100%|██████████| 4/4 [00:00<00:00, 10.26it/s]\n",
      "  0%|          | 0/28 [00:00<?, ?it/s]"
     ]
    },
    {
     "name": "stdout",
     "output_type": "stream",
     "text": [
      "Epoch: 11, train_loss: -0.8383808135986328, valid_loss: -0.8113871812820435\n"
     ]
    },
    {
     "name": "stderr",
     "output_type": "stream",
     "text": [
      "100%|██████████| 28/28 [00:07<00:00,  3.91it/s]\n",
      "100%|██████████| 4/4 [00:00<00:00, 10.04it/s]\n",
      "  0%|          | 0/28 [00:00<?, ?it/s]"
     ]
    },
    {
     "name": "stdout",
     "output_type": "stream",
     "text": [
      "val loss increased, patience count:  1\n",
      "Epoch: 12, train_loss: -0.8393720984458923, valid_loss: -0.8028242588043213\n"
     ]
    },
    {
     "name": "stderr",
     "output_type": "stream",
     "text": [
      "100%|██████████| 28/28 [00:07<00:00,  3.93it/s]\n",
      "100%|██████████| 4/4 [00:00<00:00,  9.29it/s]\n",
      "  0%|          | 0/28 [00:00<?, ?it/s]"
     ]
    },
    {
     "name": "stdout",
     "output_type": "stream",
     "text": [
      "Epoch: 13, train_loss: -0.8449234962463379, valid_loss: -0.8119698166847229\n"
     ]
    },
    {
     "name": "stderr",
     "output_type": "stream",
     "text": [
      "100%|██████████| 28/28 [00:07<00:00,  3.96it/s]\n",
      "100%|██████████| 4/4 [00:00<00:00,  9.66it/s]\n",
      "  0%|          | 0/28 [00:00<?, ?it/s]"
     ]
    },
    {
     "name": "stdout",
     "output_type": "stream",
     "text": [
      "Epoch: 14, train_loss: -0.8498963117599487, valid_loss: -0.8192800283432007\n"
     ]
    },
    {
     "name": "stderr",
     "output_type": "stream",
     "text": [
      "100%|██████████| 28/28 [00:07<00:00,  3.95it/s]\n",
      "100%|██████████| 4/4 [00:00<00:00, 10.15it/s]\n",
      "  0%|          | 0/28 [00:00<?, ?it/s]"
     ]
    },
    {
     "name": "stdout",
     "output_type": "stream",
     "text": [
      "val loss increased, patience count:  1\n",
      "Epoch: 15, train_loss: -0.8501582145690918, valid_loss: -0.8119529485702515\n"
     ]
    },
    {
     "name": "stderr",
     "output_type": "stream",
     "text": [
      "100%|██████████| 28/28 [00:07<00:00,  3.72it/s]\n",
      "100%|██████████| 4/4 [00:00<00:00,  9.84it/s]\n",
      "  0%|          | 0/28 [00:00<?, ?it/s]"
     ]
    },
    {
     "name": "stdout",
     "output_type": "stream",
     "text": [
      "val loss increased, patience count:  2\n",
      "Epoch: 16, train_loss: -0.856715202331543, valid_loss: -0.8186946511268616\n"
     ]
    },
    {
     "name": "stderr",
     "output_type": "stream",
     "text": [
      "100%|██████████| 28/28 [00:07<00:00,  3.87it/s]\n",
      "100%|██████████| 4/4 [00:00<00:00,  9.81it/s]\n",
      "  0%|          | 0/28 [00:00<?, ?it/s]"
     ]
    },
    {
     "name": "stdout",
     "output_type": "stream",
     "text": [
      "Epoch: 17, train_loss: -0.8567123413085938, valid_loss: -0.8201675415039062\n"
     ]
    },
    {
     "name": "stderr",
     "output_type": "stream",
     "text": [
      "100%|██████████| 28/28 [00:07<00:00,  3.83it/s]\n",
      "100%|██████████| 4/4 [00:00<00:00,  9.74it/s]\n",
      "  0%|          | 0/28 [00:00<?, ?it/s]"
     ]
    },
    {
     "name": "stdout",
     "output_type": "stream",
     "text": [
      "val loss increased, patience count:  1\n",
      "Epoch: 18, train_loss: -0.8639798164367676, valid_loss: -0.8177120685577393\n"
     ]
    },
    {
     "name": "stderr",
     "output_type": "stream",
     "text": [
      "100%|██████████| 28/28 [00:07<00:00,  3.90it/s]\n",
      "100%|██████████| 4/4 [00:00<00:00,  9.89it/s]\n",
      "  0%|          | 0/28 [00:00<?, ?it/s]"
     ]
    },
    {
     "name": "stdout",
     "output_type": "stream",
     "text": [
      "Epoch: 19, train_loss: -0.8629484176635742, valid_loss: -0.8206357359886169\n"
     ]
    },
    {
     "name": "stderr",
     "output_type": "stream",
     "text": [
      "100%|██████████| 28/28 [00:07<00:00,  3.78it/s]\n",
      "100%|██████████| 4/4 [00:00<00:00, 10.00it/s]\n",
      "  0%|          | 0/28 [00:00<?, ?it/s]"
     ]
    },
    {
     "name": "stdout",
     "output_type": "stream",
     "text": [
      "Epoch: 20, train_loss: -0.8702038526535034, valid_loss: -0.8283740878105164\n"
     ]
    },
    {
     "name": "stderr",
     "output_type": "stream",
     "text": [
      "100%|██████████| 28/28 [00:07<00:00,  3.92it/s]\n",
      "100%|██████████| 4/4 [00:00<00:00,  9.90it/s]\n",
      "  0%|          | 0/28 [00:00<?, ?it/s]"
     ]
    },
    {
     "name": "stdout",
     "output_type": "stream",
     "text": [
      "val loss increased, patience count:  1\n",
      "Epoch: 21, train_loss: -0.8758422136306763, valid_loss: -0.8251299262046814\n"
     ]
    },
    {
     "name": "stderr",
     "output_type": "stream",
     "text": [
      "100%|██████████| 28/28 [00:07<00:00,  3.74it/s]\n",
      "100%|██████████| 4/4 [00:00<00:00,  8.81it/s]\n",
      "  0%|          | 0/28 [00:00<?, ?it/s]"
     ]
    },
    {
     "name": "stdout",
     "output_type": "stream",
     "text": [
      "val loss increased, patience count:  2\n",
      "Epoch: 22, train_loss: -0.8771339058876038, valid_loss: -0.8205361366271973\n"
     ]
    },
    {
     "name": "stderr",
     "output_type": "stream",
     "text": [
      "100%|██████████| 28/28 [00:08<00:00,  3.42it/s]\n",
      "100%|██████████| 4/4 [00:00<00:00,  9.05it/s]\n"
     ]
    },
    {
     "name": "stdout",
     "output_type": "stream",
     "text": [
      "Early stopped at Epoch:  23\n"
     ]
    },
    {
     "name": "stderr",
     "output_type": "stream",
     "text": [
      "  1%|          | 1/115 [00:00<00:20,  5.62it/s]"
     ]
    },
    {
     "name": "stdout",
     "output_type": "stream",
     "text": [
      "{'BATCH_SIZE': 128, 'EPOCHS': 50, 'OPTIMIZER': <class 'torch.optim.adam.Adam'>, 'LEARNING_RATE': 5e-05, 'LOSS': protop_loss_0.3_0.1, 'EARLY_STOPPING': True, 'PATIENCE': 2, 'MIN_DELTA': 0.001, 'MAXPOOL': 2, 'OBO_SIZES': array([512, 256]), 'PROTOTYPE_NUM': 20, 'DROPOUT': 0.1, 'HIDDEN_SIZES': array([ 64, 128, 256]), 'KERNEL_SIZES': array([9, 7, 5])}\n"
     ]
    },
    {
     "name": "stderr",
     "output_type": "stream",
     "text": [
      "100%|██████████| 115/115 [00:16<00:00,  6.89it/s]\n",
      "100%|██████████| 16/16 [00:00<00:00, 20.08it/s]\n",
      "  1%|          | 1/115 [00:00<00:17,  6.60it/s]"
     ]
    },
    {
     "name": "stdout",
     "output_type": "stream",
     "text": [
      "Epoch: 0, train_loss: 1.6024683713912964, valid_loss: 1.3593034744262695\n"
     ]
    },
    {
     "name": "stderr",
     "output_type": "stream",
     "text": [
      "100%|██████████| 115/115 [00:16<00:00,  7.02it/s]\n",
      "100%|██████████| 16/16 [00:00<00:00, 18.26it/s]\n",
      "  1%|          | 1/115 [00:00<00:16,  7.03it/s]"
     ]
    },
    {
     "name": "stdout",
     "output_type": "stream",
     "text": [
      "Epoch: 1, train_loss: 1.3081094026565552, valid_loss: 1.2948354482650757\n"
     ]
    },
    {
     "name": "stderr",
     "output_type": "stream",
     "text": [
      "100%|██████████| 115/115 [00:16<00:00,  7.06it/s]\n",
      "100%|██████████| 16/16 [00:00<00:00, 19.54it/s]\n",
      "  1%|          | 1/115 [00:00<00:15,  7.47it/s]"
     ]
    },
    {
     "name": "stdout",
     "output_type": "stream",
     "text": [
      "Epoch: 2, train_loss: 1.2580976486206055, valid_loss: 1.2438124418258667\n"
     ]
    },
    {
     "name": "stderr",
     "output_type": "stream",
     "text": [
      "100%|██████████| 115/115 [00:17<00:00,  6.76it/s]\n",
      "100%|██████████| 16/16 [00:00<00:00, 19.79it/s]\n",
      "  1%|          | 1/115 [00:00<00:15,  7.15it/s]"
     ]
    },
    {
     "name": "stdout",
     "output_type": "stream",
     "text": [
      "Epoch: 3, train_loss: 1.2115517854690552, valid_loss: 1.2066326141357422\n"
     ]
    },
    {
     "name": "stderr",
     "output_type": "stream",
     "text": [
      "100%|██████████| 115/115 [00:16<00:00,  7.14it/s]\n",
      "100%|██████████| 16/16 [00:00<00:00, 19.26it/s]\n",
      "  1%|          | 1/115 [00:00<00:15,  7.37it/s]"
     ]
    },
    {
     "name": "stdout",
     "output_type": "stream",
     "text": [
      "Epoch: 4, train_loss: 1.1834224462509155, valid_loss: 1.1888017654418945\n"
     ]
    },
    {
     "name": "stderr",
     "output_type": "stream",
     "text": [
      "100%|██████████| 115/115 [00:16<00:00,  6.95it/s]\n",
      "100%|██████████| 16/16 [00:00<00:00, 19.81it/s]\n",
      "  1%|          | 1/115 [00:00<00:17,  6.40it/s]"
     ]
    },
    {
     "name": "stdout",
     "output_type": "stream",
     "text": [
      "Epoch: 5, train_loss: 1.1460975408554077, valid_loss: 1.1393065452575684\n"
     ]
    },
    {
     "name": "stderr",
     "output_type": "stream",
     "text": [
      "100%|██████████| 115/115 [00:16<00:00,  7.12it/s]\n",
      "100%|██████████| 16/16 [00:00<00:00, 19.60it/s]\n",
      "  1%|          | 1/115 [00:00<00:15,  7.53it/s]"
     ]
    },
    {
     "name": "stdout",
     "output_type": "stream",
     "text": [
      "Epoch: 6, train_loss: 1.1191215515136719, valid_loss: 1.1287524700164795\n"
     ]
    },
    {
     "name": "stderr",
     "output_type": "stream",
     "text": [
      "100%|██████████| 115/115 [00:16<00:00,  7.08it/s]\n",
      "100%|██████████| 16/16 [00:00<00:00, 19.08it/s]\n",
      "  1%|          | 1/115 [00:00<00:15,  7.16it/s]"
     ]
    },
    {
     "name": "stdout",
     "output_type": "stream",
     "text": [
      "Epoch: 7, train_loss: 1.1141735315322876, valid_loss: 1.1276732683181763\n"
     ]
    },
    {
     "name": "stderr",
     "output_type": "stream",
     "text": [
      "100%|██████████| 115/115 [00:18<00:00,  6.22it/s]\n",
      "100%|██████████| 16/16 [00:00<00:00, 16.05it/s]\n",
      "  1%|          | 1/115 [00:00<00:19,  5.97it/s]"
     ]
    },
    {
     "name": "stdout",
     "output_type": "stream",
     "text": [
      "Epoch: 8, train_loss: 1.1119810342788696, valid_loss: 1.125362753868103\n"
     ]
    },
    {
     "name": "stderr",
     "output_type": "stream",
     "text": [
      "100%|██████████| 115/115 [00:18<00:00,  6.12it/s]\n",
      "100%|██████████| 16/16 [00:00<00:00, 18.71it/s]\n",
      "  1%|          | 1/115 [00:00<00:18,  6.31it/s]"
     ]
    },
    {
     "name": "stdout",
     "output_type": "stream",
     "text": [
      "Epoch: 9, train_loss: 1.1084250211715698, valid_loss: 1.1129801273345947\n"
     ]
    },
    {
     "name": "stderr",
     "output_type": "stream",
     "text": [
      "100%|██████████| 115/115 [00:19<00:00,  6.00it/s]\n",
      "100%|██████████| 16/16 [00:00<00:00, 19.17it/s]\n",
      "  1%|          | 1/115 [00:00<00:17,  6.54it/s]"
     ]
    },
    {
     "name": "stdout",
     "output_type": "stream",
     "text": [
      "Epoch: 10, train_loss: 1.092661738395691, valid_loss: 1.1039505004882812\n"
     ]
    },
    {
     "name": "stderr",
     "output_type": "stream",
     "text": [
      "100%|██████████| 115/115 [00:17<00:00,  6.43it/s]\n",
      "100%|██████████| 16/16 [00:00<00:00, 19.30it/s]\n",
      "  1%|          | 1/115 [00:00<00:16,  7.06it/s]"
     ]
    },
    {
     "name": "stdout",
     "output_type": "stream",
     "text": [
      "val loss increased, patience count:  1\n",
      "Epoch: 11, train_loss: 1.0897955894470215, valid_loss: 1.108669400215149\n"
     ]
    },
    {
     "name": "stderr",
     "output_type": "stream",
     "text": [
      "100%|██████████| 115/115 [00:16<00:00,  6.92it/s]\n",
      "100%|██████████| 16/16 [00:00<00:00, 19.79it/s]\n",
      "  1%|          | 1/115 [00:00<00:16,  7.04it/s]"
     ]
    },
    {
     "name": "stdout",
     "output_type": "stream",
     "text": [
      "val loss increased, patience count:  2\n",
      "Epoch: 12, train_loss: 1.0884268283843994, valid_loss: 1.1065970659255981\n"
     ]
    },
    {
     "name": "stderr",
     "output_type": "stream",
     "text": [
      "100%|██████████| 115/115 [00:16<00:00,  6.94it/s]\n",
      "100%|██████████| 16/16 [00:00<00:00, 19.28it/s]\n",
      "  1%|          | 1/115 [00:00<00:16,  6.92it/s]"
     ]
    },
    {
     "name": "stdout",
     "output_type": "stream",
     "text": [
      "Epoch: 13, train_loss: 1.0863343477249146, valid_loss: 1.1027109622955322\n"
     ]
    },
    {
     "name": "stderr",
     "output_type": "stream",
     "text": [
      "100%|██████████| 115/115 [00:16<00:00,  6.88it/s]\n",
      "100%|██████████| 16/16 [00:00<00:00, 18.86it/s]\n",
      "  1%|          | 1/115 [00:00<00:16,  6.99it/s]"
     ]
    },
    {
     "name": "stdout",
     "output_type": "stream",
     "text": [
      "val loss increased, patience count:  1\n",
      "Epoch: 14, train_loss: 1.0821820497512817, valid_loss: 1.10325026512146\n"
     ]
    },
    {
     "name": "stderr",
     "output_type": "stream",
     "text": [
      "100%|██████████| 115/115 [00:16<00:00,  6.86it/s]\n",
      "100%|██████████| 16/16 [00:00<00:00, 19.35it/s]\n",
      "  1%|          | 1/115 [00:00<00:21,  5.26it/s]"
     ]
    },
    {
     "name": "stdout",
     "output_type": "stream",
     "text": [
      "Epoch: 15, train_loss: 1.0797239542007446, valid_loss: 1.1000022888183594\n"
     ]
    },
    {
     "name": "stderr",
     "output_type": "stream",
     "text": [
      "100%|██████████| 115/115 [00:16<00:00,  6.97it/s]\n",
      "100%|██████████| 16/16 [00:00<00:00, 18.86it/s]\n",
      "  1%|          | 1/115 [00:00<00:17,  6.68it/s]"
     ]
    },
    {
     "name": "stdout",
     "output_type": "stream",
     "text": [
      "Epoch: 16, train_loss: 1.0744708776474, valid_loss: 1.0889270305633545\n"
     ]
    },
    {
     "name": "stderr",
     "output_type": "stream",
     "text": [
      "100%|██████████| 115/115 [00:16<00:00,  7.03it/s]\n",
      "100%|██████████| 16/16 [00:00<00:00, 19.33it/s]\n",
      "  1%|          | 1/115 [00:00<00:17,  6.52it/s]"
     ]
    },
    {
     "name": "stdout",
     "output_type": "stream",
     "text": [
      "Epoch: 17, train_loss: 1.0643067359924316, valid_loss: 1.0813778638839722\n"
     ]
    },
    {
     "name": "stderr",
     "output_type": "stream",
     "text": [
      "100%|██████████| 115/115 [00:16<00:00,  7.00it/s]\n",
      "100%|██████████| 16/16 [00:00<00:00, 18.21it/s]\n",
      "  1%|          | 1/115 [00:00<00:19,  5.81it/s]"
     ]
    },
    {
     "name": "stdout",
     "output_type": "stream",
     "text": [
      "val loss increased, patience count:  1\n",
      "Epoch: 18, train_loss: 1.059657335281372, valid_loss: 1.0819945335388184\n"
     ]
    },
    {
     "name": "stderr",
     "output_type": "stream",
     "text": [
      "100%|██████████| 115/115 [00:16<00:00,  6.97it/s]\n",
      "100%|██████████| 16/16 [00:00<00:00, 18.64it/s]\n",
      "  1%|          | 1/115 [00:00<00:16,  7.10it/s]"
     ]
    },
    {
     "name": "stdout",
     "output_type": "stream",
     "text": [
      "Epoch: 19, train_loss: 1.0558234453201294, valid_loss: 1.0784997940063477\n"
     ]
    },
    {
     "name": "stderr",
     "output_type": "stream",
     "text": [
      "100%|██████████| 115/115 [00:18<00:00,  6.23it/s]\n",
      "100%|██████████| 16/16 [00:01<00:00, 15.97it/s]\n",
      "  1%|          | 1/115 [00:00<00:21,  5.42it/s]"
     ]
    },
    {
     "name": "stdout",
     "output_type": "stream",
     "text": [
      "Epoch: 20, train_loss: 1.051019310951233, valid_loss: 1.074782133102417\n"
     ]
    },
    {
     "name": "stderr",
     "output_type": "stream",
     "text": [
      "100%|██████████| 115/115 [00:16<00:00,  6.77it/s]\n",
      "100%|██████████| 16/16 [00:00<00:00, 19.14it/s]\n",
      "  1%|          | 1/115 [00:00<00:16,  6.93it/s]"
     ]
    },
    {
     "name": "stdout",
     "output_type": "stream",
     "text": [
      "val loss increased, patience count:  1\n",
      "Epoch: 21, train_loss: 1.0489473342895508, valid_loss: 1.0762938261032104\n"
     ]
    },
    {
     "name": "stderr",
     "output_type": "stream",
     "text": [
      "100%|██████████| 115/115 [00:16<00:00,  6.86it/s]\n",
      "100%|██████████| 16/16 [00:00<00:00, 19.50it/s]\n",
      "  1%|          | 1/115 [00:00<00:17,  6.55it/s]"
     ]
    },
    {
     "name": "stdout",
     "output_type": "stream",
     "text": [
      "Epoch: 22, train_loss: 1.0410953760147095, valid_loss: 1.0586566925048828\n"
     ]
    },
    {
     "name": "stderr",
     "output_type": "stream",
     "text": [
      "100%|██████████| 115/115 [00:16<00:00,  6.85it/s]\n",
      "100%|██████████| 16/16 [00:00<00:00, 19.09it/s]\n",
      "  1%|          | 1/115 [00:00<00:17,  6.70it/s]"
     ]
    },
    {
     "name": "stdout",
     "output_type": "stream",
     "text": [
      "Epoch: 23, train_loss: 1.0260343551635742, valid_loss: 1.0574437379837036\n"
     ]
    },
    {
     "name": "stderr",
     "output_type": "stream",
     "text": [
      "100%|██████████| 115/115 [00:16<00:00,  6.97it/s]\n",
      "100%|██████████| 16/16 [00:00<00:00, 19.61it/s]\n",
      "  1%|          | 1/115 [00:00<00:17,  6.61it/s]"
     ]
    },
    {
     "name": "stdout",
     "output_type": "stream",
     "text": [
      "Epoch: 24, train_loss: 1.0236027240753174, valid_loss: 1.0531795024871826\n"
     ]
    },
    {
     "name": "stderr",
     "output_type": "stream",
     "text": [
      "100%|██████████| 115/115 [00:16<00:00,  6.88it/s]\n",
      "100%|██████████| 16/16 [00:01<00:00, 15.46it/s]\n",
      "  1%|          | 1/115 [00:00<00:19,  5.90it/s]"
     ]
    },
    {
     "name": "stdout",
     "output_type": "stream",
     "text": [
      "val loss increased, patience count:  1\n",
      "Epoch: 25, train_loss: 1.023290753364563, valid_loss: 1.0550072193145752\n"
     ]
    },
    {
     "name": "stderr",
     "output_type": "stream",
     "text": [
      "100%|██████████| 115/115 [00:16<00:00,  6.93it/s]\n",
      "100%|██████████| 16/16 [00:00<00:00, 19.08it/s]\n",
      "  1%|          | 1/115 [00:00<00:15,  7.18it/s]"
     ]
    },
    {
     "name": "stdout",
     "output_type": "stream",
     "text": [
      "val loss increased, patience count:  2\n",
      "Epoch: 26, train_loss: 1.0187216997146606, valid_loss: 1.0541216135025024\n"
     ]
    },
    {
     "name": "stderr",
     "output_type": "stream",
     "text": [
      "100%|██████████| 115/115 [00:17<00:00,  6.58it/s]\n",
      "100%|██████████| 16/16 [00:00<00:00, 19.03it/s]\n"
     ]
    },
    {
     "name": "stdout",
     "output_type": "stream",
     "text": [
      "Early stopped at Epoch:  27\n"
     ]
    },
    {
     "name": "stderr",
     "output_type": "stream",
     "text": [
      "\r",
      "  0%|          | 0/115 [00:00<?, ?it/s]"
     ]
    },
    {
     "name": "stdout",
     "output_type": "stream",
     "text": [
      "{'BATCH_SIZE': 128, 'EPOCHS': 40, 'OPTIMIZER': <class 'torch.optim.adam.Adam'>, 'LEARNING_RATE': 0.0005, 'LOSS': protop_loss_0.5_0.1, 'EARLY_STOPPING': True, 'PATIENCE': 2, 'MIN_DELTA': 0.0001, 'MAXPOOL': 2, 'OBO_SIZES': array([256, 128]), 'PROTOTYPE_NUM': 20, 'DROPOUT': 0.1, 'HIDDEN_SIZES': array([128, 256, 512]), 'KERNEL_SIZES': array([9, 7, 7])}\n"
     ]
    },
    {
     "name": "stderr",
     "output_type": "stream",
     "text": [
      "100%|██████████| 115/115 [00:28<00:00,  4.01it/s]\n",
      "100%|██████████| 16/16 [00:01<00:00, 11.97it/s]\n",
      "  0%|          | 0/115 [00:00<?, ?it/s]"
     ]
    },
    {
     "name": "stdout",
     "output_type": "stream",
     "text": [
      "Epoch: 0, train_loss: 1.696390986442566, valid_loss: 1.5848188400268555\n"
     ]
    },
    {
     "name": "stderr",
     "output_type": "stream",
     "text": [
      "100%|██████████| 115/115 [00:28<00:00,  4.06it/s]\n",
      "100%|██████████| 16/16 [00:01<00:00, 12.49it/s]\n",
      "  0%|          | 0/115 [00:00<?, ?it/s]"
     ]
    },
    {
     "name": "stdout",
     "output_type": "stream",
     "text": [
      "Epoch: 1, train_loss: 1.5272986888885498, valid_loss: 1.5169956684112549\n"
     ]
    },
    {
     "name": "stderr",
     "output_type": "stream",
     "text": [
      "100%|██████████| 115/115 [00:28<00:00,  4.02it/s]\n",
      "100%|██████████| 16/16 [00:01<00:00, 12.44it/s]\n",
      "  0%|          | 0/115 [00:00<?, ?it/s]"
     ]
    },
    {
     "name": "stdout",
     "output_type": "stream",
     "text": [
      "Epoch: 2, train_loss: 1.4114177227020264, valid_loss: 1.3208402395248413\n"
     ]
    },
    {
     "name": "stderr",
     "output_type": "stream",
     "text": [
      "100%|██████████| 115/115 [00:27<00:00,  4.11it/s]\n",
      "100%|██████████| 16/16 [00:01<00:00, 12.38it/s]\n",
      "  0%|          | 0/115 [00:00<?, ?it/s]"
     ]
    },
    {
     "name": "stdout",
     "output_type": "stream",
     "text": [
      "Epoch: 3, train_loss: 1.287537693977356, valid_loss: 1.3049066066741943\n"
     ]
    },
    {
     "name": "stderr",
     "output_type": "stream",
     "text": [
      "100%|██████████| 115/115 [00:27<00:00,  4.14it/s]\n",
      "100%|██████████| 16/16 [00:01<00:00, 12.01it/s]\n",
      "  0%|          | 0/115 [00:00<?, ?it/s]"
     ]
    },
    {
     "name": "stdout",
     "output_type": "stream",
     "text": [
      "Epoch: 4, train_loss: 1.2501401901245117, valid_loss: 1.2836145162582397\n"
     ]
    },
    {
     "name": "stderr",
     "output_type": "stream",
     "text": [
      "100%|██████████| 115/115 [00:28<00:00,  4.05it/s]\n",
      "100%|██████████| 16/16 [00:01<00:00, 12.63it/s]\n",
      "  0%|          | 0/115 [00:00<?, ?it/s]"
     ]
    },
    {
     "name": "stdout",
     "output_type": "stream",
     "text": [
      "Epoch: 5, train_loss: 1.2172044515609741, valid_loss: 1.18198823928833\n"
     ]
    },
    {
     "name": "stderr",
     "output_type": "stream",
     "text": [
      "100%|██████████| 115/115 [00:28<00:00,  4.09it/s]\n",
      "100%|██████████| 16/16 [00:01<00:00, 12.78it/s]\n",
      "  0%|          | 0/115 [00:00<?, ?it/s]"
     ]
    },
    {
     "name": "stdout",
     "output_type": "stream",
     "text": [
      "Epoch: 6, train_loss: 1.0969573259353638, valid_loss: 1.1287569999694824\n"
     ]
    },
    {
     "name": "stderr",
     "output_type": "stream",
     "text": [
      "100%|██████████| 115/115 [00:28<00:00,  4.07it/s]\n",
      "100%|██████████| 16/16 [00:01<00:00, 12.21it/s]\n",
      "  0%|          | 0/115 [00:00<?, ?it/s]"
     ]
    },
    {
     "name": "stdout",
     "output_type": "stream",
     "text": [
      "Epoch: 7, train_loss: 1.0768147706985474, valid_loss: 1.1153132915496826\n"
     ]
    },
    {
     "name": "stderr",
     "output_type": "stream",
     "text": [
      "100%|██████████| 115/115 [00:32<00:00,  3.52it/s]\n",
      "100%|██████████| 16/16 [00:01<00:00,  8.92it/s]\n",
      "  0%|          | 0/115 [00:00<?, ?it/s]"
     ]
    },
    {
     "name": "stdout",
     "output_type": "stream",
     "text": [
      "val loss increased, patience count:  1\n",
      "Epoch: 8, train_loss: 1.0542670488357544, valid_loss: 1.1279716491699219\n"
     ]
    },
    {
     "name": "stderr",
     "output_type": "stream",
     "text": [
      "100%|██████████| 115/115 [00:30<00:00,  3.73it/s]\n",
      "100%|██████████| 16/16 [00:01<00:00, 12.25it/s]\n",
      "  0%|          | 0/115 [00:00<?, ?it/s]"
     ]
    },
    {
     "name": "stdout",
     "output_type": "stream",
     "text": [
      "val loss increased, patience count:  2\n",
      "Epoch: 9, train_loss: 1.0358755588531494, valid_loss: 1.1202598810195923\n"
     ]
    },
    {
     "name": "stderr",
     "output_type": "stream",
     "text": [
      "100%|██████████| 115/115 [00:35<00:00,  3.28it/s]\n",
      "100%|██████████| 16/16 [00:01<00:00, 11.77it/s]\n",
      "  0%|          | 0/115 [00:00<?, ?it/s]"
     ]
    },
    {
     "name": "stdout",
     "output_type": "stream",
     "text": [
      "Epoch: 10, train_loss: 0.9919634461402893, valid_loss: 1.0342848300933838\n"
     ]
    },
    {
     "name": "stderr",
     "output_type": "stream",
     "text": [
      "100%|██████████| 115/115 [00:28<00:00,  4.10it/s]\n",
      "100%|██████████| 16/16 [00:01<00:00, 12.63it/s]\n",
      "  0%|          | 0/115 [00:00<?, ?it/s]"
     ]
    },
    {
     "name": "stdout",
     "output_type": "stream",
     "text": [
      "val loss increased, patience count:  1\n",
      "Epoch: 11, train_loss: 0.9204369783401489, valid_loss: 1.0363110303878784\n"
     ]
    },
    {
     "name": "stderr",
     "output_type": "stream",
     "text": [
      "100%|██████████| 115/115 [00:28<00:00,  4.08it/s]\n",
      "100%|██████████| 16/16 [00:01<00:00, 12.35it/s]\n",
      "  0%|          | 0/115 [00:00<?, ?it/s]"
     ]
    },
    {
     "name": "stdout",
     "output_type": "stream",
     "text": [
      "val loss increased, patience count:  2\n",
      "Epoch: 12, train_loss: 0.9092962145805359, valid_loss: 1.0368670225143433\n"
     ]
    },
    {
     "name": "stderr",
     "output_type": "stream",
     "text": [
      "100%|██████████| 115/115 [00:28<00:00,  4.03it/s]\n",
      "100%|██████████| 16/16 [00:01<00:00, 12.28it/s]\n"
     ]
    },
    {
     "name": "stdout",
     "output_type": "stream",
     "text": [
      "Early stopped at Epoch:  13\n"
     ]
    },
    {
     "name": "stderr",
     "output_type": "stream",
     "text": [
      "\r",
      "  0%|          | 0/57 [00:00<?, ?it/s]"
     ]
    },
    {
     "name": "stdout",
     "output_type": "stream",
     "text": [
      "{'BATCH_SIZE': 256, 'EPOCHS': 50, 'OPTIMIZER': <class 'torch.optim.adam.Adam'>, 'LEARNING_RATE': 0.0005, 'LOSS': protop_loss_0.5_0.1, 'EARLY_STOPPING': True, 'PATIENCE': 2, 'MIN_DELTA': 0.0001, 'MAXPOOL': 2, 'OBO_SIZES': array([512, 512]), 'PROTOTYPE_NUM': 20, 'DROPOUT': 0.4, 'HIDDEN_SIZES': array([ 64, 128, 256]), 'KERNEL_SIZES': array([9, 7, 7])}\n"
     ]
    },
    {
     "name": "stderr",
     "output_type": "stream",
     "text": [
      "100%|██████████| 57/57 [00:40<00:00,  1.40it/s]\n",
      "100%|██████████| 8/8 [00:02<00:00,  3.41it/s]\n",
      "  0%|          | 0/57 [00:00<?, ?it/s]"
     ]
    },
    {
     "name": "stdout",
     "output_type": "stream",
     "text": [
      "Epoch: 0, train_loss: 2.637594699859619, valid_loss: 2.1742069721221924\n"
     ]
    },
    {
     "name": "stderr",
     "output_type": "stream",
     "text": [
      "100%|██████████| 57/57 [00:40<00:00,  1.40it/s]\n",
      "100%|██████████| 8/8 [00:02<00:00,  3.49it/s]\n",
      "  0%|          | 0/57 [00:00<?, ?it/s]"
     ]
    },
    {
     "name": "stdout",
     "output_type": "stream",
     "text": [
      "Epoch: 1, train_loss: 2.0543715953826904, valid_loss: 1.9405567646026611\n"
     ]
    },
    {
     "name": "stderr",
     "output_type": "stream",
     "text": [
      "100%|██████████| 57/57 [00:41<00:00,  1.37it/s]\n",
      "100%|██████████| 8/8 [00:02<00:00,  3.37it/s]\n",
      "  0%|          | 0/57 [00:00<?, ?it/s]"
     ]
    },
    {
     "name": "stdout",
     "output_type": "stream",
     "text": [
      "Epoch: 2, train_loss: 1.846118450164795, valid_loss: 1.8333690166473389\n"
     ]
    },
    {
     "name": "stderr",
     "output_type": "stream",
     "text": [
      "100%|██████████| 57/57 [00:42<00:00,  1.35it/s]\n",
      "100%|██████████| 8/8 [00:02<00:00,  3.50it/s]\n",
      "  0%|          | 0/57 [00:00<?, ?it/s]"
     ]
    },
    {
     "name": "stdout",
     "output_type": "stream",
     "text": [
      "Epoch: 3, train_loss: 1.7880388498306274, valid_loss: 1.809516191482544\n"
     ]
    },
    {
     "name": "stderr",
     "output_type": "stream",
     "text": [
      "100%|██████████| 57/57 [00:40<00:00,  1.39it/s]\n",
      "100%|██████████| 8/8 [00:02<00:00,  3.43it/s]\n",
      "  0%|          | 0/57 [00:00<?, ?it/s]"
     ]
    },
    {
     "name": "stdout",
     "output_type": "stream",
     "text": [
      "Epoch: 4, train_loss: 1.762704849243164, valid_loss: 1.784680962562561\n"
     ]
    },
    {
     "name": "stderr",
     "output_type": "stream",
     "text": [
      "100%|██████████| 57/57 [00:42<00:00,  1.36it/s]\n",
      "100%|██████████| 8/8 [00:02<00:00,  3.16it/s]\n",
      "  0%|          | 0/57 [00:00<?, ?it/s]"
     ]
    },
    {
     "name": "stdout",
     "output_type": "stream",
     "text": [
      "Epoch: 5, train_loss: 1.7053996324539185, valid_loss: 1.702679991722107\n"
     ]
    },
    {
     "name": "stderr",
     "output_type": "stream",
     "text": [
      "100%|██████████| 57/57 [00:41<00:00,  1.38it/s]\n",
      "100%|██████████| 8/8 [00:02<00:00,  3.35it/s]\n",
      "  0%|          | 0/57 [00:00<?, ?it/s]"
     ]
    },
    {
     "name": "stdout",
     "output_type": "stream",
     "text": [
      "val loss increased, patience count:  1\n",
      "Epoch: 6, train_loss: 1.6585785150527954, valid_loss: 1.7040196657180786\n"
     ]
    },
    {
     "name": "stderr",
     "output_type": "stream",
     "text": [
      "100%|██████████| 57/57 [00:40<00:00,  1.39it/s]\n",
      "100%|██████████| 8/8 [00:02<00:00,  3.37it/s]\n",
      "  0%|          | 0/57 [00:00<?, ?it/s]"
     ]
    },
    {
     "name": "stdout",
     "output_type": "stream",
     "text": [
      "Epoch: 7, train_loss: 1.6010469198226929, valid_loss: 1.6047508716583252\n"
     ]
    },
    {
     "name": "stderr",
     "output_type": "stream",
     "text": [
      "100%|██████████| 57/57 [00:41<00:00,  1.39it/s]\n",
      "100%|██████████| 8/8 [00:02<00:00,  3.48it/s]\n",
      "  0%|          | 0/57 [00:00<?, ?it/s]"
     ]
    },
    {
     "name": "stdout",
     "output_type": "stream",
     "text": [
      "Epoch: 8, train_loss: 1.4737122058868408, valid_loss: 1.4729282855987549\n"
     ]
    },
    {
     "name": "stderr",
     "output_type": "stream",
     "text": [
      "100%|██████████| 57/57 [00:40<00:00,  1.40it/s]\n",
      "100%|██████████| 8/8 [00:02<00:00,  3.44it/s]\n",
      "  0%|          | 0/57 [00:00<?, ?it/s]"
     ]
    },
    {
     "name": "stdout",
     "output_type": "stream",
     "text": [
      "Epoch: 9, train_loss: 1.3824372291564941, valid_loss: 1.4396770000457764\n"
     ]
    },
    {
     "name": "stderr",
     "output_type": "stream",
     "text": [
      "100%|██████████| 57/57 [00:41<00:00,  1.36it/s]\n",
      "100%|██████████| 8/8 [00:02<00:00,  3.50it/s]\n",
      "  0%|          | 0/57 [00:00<?, ?it/s]"
     ]
    },
    {
     "name": "stdout",
     "output_type": "stream",
     "text": [
      "Epoch: 10, train_loss: 1.3568084239959717, valid_loss: 1.431548833847046\n"
     ]
    },
    {
     "name": "stderr",
     "output_type": "stream",
     "text": [
      "100%|██████████| 57/57 [00:40<00:00,  1.40it/s]\n",
      "100%|██████████| 8/8 [00:02<00:00,  3.38it/s]\n",
      "  0%|          | 0/57 [00:00<?, ?it/s]"
     ]
    },
    {
     "name": "stdout",
     "output_type": "stream",
     "text": [
      "val loss increased, patience count:  1\n",
      "Epoch: 11, train_loss: 1.338568091392517, valid_loss: 1.4358069896697998\n"
     ]
    },
    {
     "name": "stderr",
     "output_type": "stream",
     "text": [
      "100%|██████████| 57/57 [00:42<00:00,  1.35it/s]\n",
      "100%|██████████| 8/8 [00:02<00:00,  2.81it/s]\n",
      "  0%|          | 0/57 [00:00<?, ?it/s]"
     ]
    },
    {
     "name": "stdout",
     "output_type": "stream",
     "text": [
      "Epoch: 12, train_loss: 1.3317923545837402, valid_loss: 1.430434226989746\n"
     ]
    },
    {
     "name": "stderr",
     "output_type": "stream",
     "text": [
      "100%|██████████| 57/57 [00:41<00:00,  1.37it/s]\n",
      "100%|██████████| 8/8 [00:02<00:00,  3.53it/s]\n",
      "  0%|          | 0/57 [00:00<?, ?it/s]"
     ]
    },
    {
     "name": "stdout",
     "output_type": "stream",
     "text": [
      "Epoch: 13, train_loss: 1.3101367950439453, valid_loss: 1.4204504489898682\n"
     ]
    },
    {
     "name": "stderr",
     "output_type": "stream",
     "text": [
      "100%|██████████| 57/57 [00:40<00:00,  1.40it/s]\n",
      "100%|██████████| 8/8 [00:02<00:00,  3.47it/s]\n",
      "  0%|          | 0/57 [00:00<?, ?it/s]"
     ]
    },
    {
     "name": "stdout",
     "output_type": "stream",
     "text": [
      "Epoch: 14, train_loss: 1.2875628471374512, valid_loss: 1.4196293354034424\n"
     ]
    },
    {
     "name": "stderr",
     "output_type": "stream",
     "text": [
      "100%|██████████| 57/57 [00:40<00:00,  1.40it/s]\n",
      "100%|██████████| 8/8 [00:02<00:00,  3.48it/s]\n",
      "  0%|          | 0/57 [00:00<?, ?it/s]"
     ]
    },
    {
     "name": "stdout",
     "output_type": "stream",
     "text": [
      "Epoch: 15, train_loss: 1.2406541109085083, valid_loss: 1.3875539302825928\n"
     ]
    },
    {
     "name": "stderr",
     "output_type": "stream",
     "text": [
      "100%|██████████| 57/57 [00:42<00:00,  1.33it/s]\n",
      "100%|██████████| 8/8 [00:02<00:00,  3.27it/s]\n",
      "  0%|          | 0/57 [00:00<?, ?it/s]"
     ]
    },
    {
     "name": "stdout",
     "output_type": "stream",
     "text": [
      "Epoch: 16, train_loss: 1.2234312295913696, valid_loss: 1.3738046884536743\n"
     ]
    },
    {
     "name": "stderr",
     "output_type": "stream",
     "text": [
      "100%|██████████| 57/57 [00:41<00:00,  1.38it/s]\n",
      "100%|██████████| 8/8 [00:02<00:00,  3.45it/s]\n",
      "  0%|          | 0/57 [00:00<?, ?it/s]"
     ]
    },
    {
     "name": "stdout",
     "output_type": "stream",
     "text": [
      "Epoch: 17, train_loss: 1.2206791639328003, valid_loss: 1.3725039958953857\n"
     ]
    },
    {
     "name": "stderr",
     "output_type": "stream",
     "text": [
      "100%|██████████| 57/57 [00:40<00:00,  1.39it/s]\n",
      "100%|██████████| 8/8 [00:02<00:00,  3.44it/s]\n",
      "  0%|          | 0/57 [00:00<?, ?it/s]"
     ]
    },
    {
     "name": "stdout",
     "output_type": "stream",
     "text": [
      "val loss increased, patience count:  1\n",
      "Epoch: 18, train_loss: 1.2026163339614868, valid_loss: 1.3947548866271973\n"
     ]
    },
    {
     "name": "stderr",
     "output_type": "stream",
     "text": [
      "100%|██████████| 57/57 [00:48<00:00,  1.18it/s]\n",
      "100%|██████████| 8/8 [00:02<00:00,  3.47it/s]\n",
      "  0%|          | 0/57 [00:00<?, ?it/s]"
     ]
    },
    {
     "name": "stdout",
     "output_type": "stream",
     "text": [
      "val loss increased, patience count:  2\n",
      "Epoch: 19, train_loss: 1.197556734085083, valid_loss: 1.380492925643921\n"
     ]
    },
    {
     "name": "stderr",
     "output_type": "stream",
     "text": [
      "100%|██████████| 57/57 [00:40<00:00,  1.39it/s]\n",
      "100%|██████████| 8/8 [00:02<00:00,  3.42it/s]\n",
      "  0%|          | 0/57 [00:00<?, ?it/s]"
     ]
    },
    {
     "name": "stdout",
     "output_type": "stream",
     "text": [
      "Epoch: 20, train_loss: 1.1889046430587769, valid_loss: 1.3720910549163818\n"
     ]
    },
    {
     "name": "stderr",
     "output_type": "stream",
     "text": [
      "100%|██████████| 57/57 [00:41<00:00,  1.38it/s]\n",
      "100%|██████████| 8/8 [00:02<00:00,  3.35it/s]\n",
      "  0%|          | 0/57 [00:00<?, ?it/s]"
     ]
    },
    {
     "name": "stdout",
     "output_type": "stream",
     "text": [
      "val loss increased, patience count:  1\n",
      "Epoch: 21, train_loss: 1.1852189302444458, valid_loss: 1.3795011043548584\n"
     ]
    },
    {
     "name": "stderr",
     "output_type": "stream",
     "text": [
      "100%|██████████| 57/57 [00:40<00:00,  1.40it/s]\n",
      "100%|██████████| 8/8 [00:02<00:00,  3.43it/s]\n",
      "  0%|          | 0/57 [00:00<?, ?it/s]"
     ]
    },
    {
     "name": "stdout",
     "output_type": "stream",
     "text": [
      "val loss increased, patience count:  2\n",
      "Epoch: 22, train_loss: 1.1785352230072021, valid_loss: 1.383118987083435\n"
     ]
    },
    {
     "name": "stderr",
     "output_type": "stream",
     "text": [
      "100%|██████████| 57/57 [00:41<00:00,  1.38it/s]\n",
      "100%|██████████| 8/8 [00:02<00:00,  3.35it/s]\n",
      "  0%|          | 0/57 [00:00<?, ?it/s]"
     ]
    },
    {
     "name": "stdout",
     "output_type": "stream",
     "text": [
      "Epoch: 23, train_loss: 1.1668217182159424, valid_loss: 1.3697245121002197\n"
     ]
    },
    {
     "name": "stderr",
     "output_type": "stream",
     "text": [
      "100%|██████████| 57/57 [00:42<00:00,  1.35it/s]\n",
      "100%|██████████| 8/8 [00:02<00:00,  3.17it/s]\n",
      "  0%|          | 0/57 [00:00<?, ?it/s]"
     ]
    },
    {
     "name": "stdout",
     "output_type": "stream",
     "text": [
      "val loss increased, patience count:  1\n",
      "Epoch: 24, train_loss: 1.1607435941696167, valid_loss: 1.3993974924087524\n"
     ]
    },
    {
     "name": "stderr",
     "output_type": "stream",
     "text": [
      "100%|██████████| 57/57 [00:40<00:00,  1.40it/s]\n",
      "100%|██████████| 8/8 [00:02<00:00,  3.50it/s]\n",
      "  0%|          | 0/57 [00:00<?, ?it/s]"
     ]
    },
    {
     "name": "stdout",
     "output_type": "stream",
     "text": [
      "val loss increased, patience count:  2\n",
      "Epoch: 25, train_loss: 1.1530033349990845, valid_loss: 1.3749113082885742\n"
     ]
    },
    {
     "name": "stderr",
     "output_type": "stream",
     "text": [
      "100%|██████████| 57/57 [00:40<00:00,  1.39it/s]\n",
      "100%|██████████| 8/8 [00:02<00:00,  3.42it/s]\n"
     ]
    },
    {
     "name": "stdout",
     "output_type": "stream",
     "text": [
      "Early stopped at Epoch:  26\n"
     ]
    },
    {
     "name": "stderr",
     "output_type": "stream",
     "text": [
      "\r",
      "  0%|          | 0/115 [00:00<?, ?it/s]"
     ]
    },
    {
     "name": "stdout",
     "output_type": "stream",
     "text": [
      "{'BATCH_SIZE': 128, 'EPOCHS': 40, 'OPTIMIZER': <class 'torch.optim.adam.Adam'>, 'LEARNING_RATE': 0.0005, 'LOSS': protop_loss_0.1_0.1, 'EARLY_STOPPING': True, 'PATIENCE': 2, 'MIN_DELTA': 0.001, 'MAXPOOL': 2, 'OBO_SIZES': array([128,  64]), 'PROTOTYPE_NUM': 20, 'DROPOUT': 0.5, 'HIDDEN_SIZES': array([128, 256, 512]), 'KERNEL_SIZES': array([9, 9, 7])}\n"
     ]
    },
    {
     "name": "stderr",
     "output_type": "stream",
     "text": [
      "100%|██████████| 115/115 [00:28<00:00,  4.08it/s]\n",
      "100%|██████████| 16/16 [00:01<00:00, 11.08it/s]\n",
      "  0%|          | 0/115 [00:00<?, ?it/s]"
     ]
    },
    {
     "name": "stdout",
     "output_type": "stream",
     "text": [
      "Epoch: 0, train_loss: 0.5458374619483948, valid_loss: 0.5348615646362305\n"
     ]
    },
    {
     "name": "stderr",
     "output_type": "stream",
     "text": [
      "100%|██████████| 115/115 [00:28<00:00,  4.05it/s]\n",
      "100%|██████████| 16/16 [00:01<00:00, 11.12it/s]\n",
      "  0%|          | 0/115 [00:00<?, ?it/s]"
     ]
    },
    {
     "name": "stdout",
     "output_type": "stream",
     "text": [
      "Epoch: 1, train_loss: 0.5245211720466614, valid_loss: 0.5277359485626221\n"
     ]
    },
    {
     "name": "stderr",
     "output_type": "stream",
     "text": [
      "100%|██████████| 115/115 [00:28<00:00,  4.11it/s]\n",
      "100%|██████████| 16/16 [00:01<00:00, 11.62it/s]\n",
      "  0%|          | 0/115 [00:00<?, ?it/s]"
     ]
    },
    {
     "name": "stdout",
     "output_type": "stream",
     "text": [
      "Epoch: 2, train_loss: 0.5111833810806274, valid_loss: 0.5154861211776733\n"
     ]
    },
    {
     "name": "stderr",
     "output_type": "stream",
     "text": [
      "100%|██████████| 115/115 [00:28<00:00,  4.01it/s]\n",
      "100%|██████████| 16/16 [00:01<00:00, 11.24it/s]\n",
      "  0%|          | 0/115 [00:00<?, ?it/s]"
     ]
    },
    {
     "name": "stdout",
     "output_type": "stream",
     "text": [
      "Epoch: 3, train_loss: 0.4984050691127777, valid_loss: 0.510273814201355\n"
     ]
    },
    {
     "name": "stderr",
     "output_type": "stream",
     "text": [
      "100%|██████████| 115/115 [00:28<00:00,  4.06it/s]\n",
      "100%|██████████| 16/16 [00:01<00:00, 11.80it/s]\n",
      "  0%|          | 0/115 [00:00<?, ?it/s]"
     ]
    },
    {
     "name": "stdout",
     "output_type": "stream",
     "text": [
      "Epoch: 4, train_loss: 0.48753708600997925, valid_loss: 0.5054736733436584\n"
     ]
    },
    {
     "name": "stderr",
     "output_type": "stream",
     "text": [
      "100%|██████████| 115/115 [00:28<00:00,  4.05it/s]\n",
      "100%|██████████| 16/16 [00:01<00:00, 11.83it/s]\n",
      "  0%|          | 0/115 [00:00<?, ?it/s]"
     ]
    },
    {
     "name": "stdout",
     "output_type": "stream",
     "text": [
      "val loss increased, patience count:  1\n",
      "Epoch: 5, train_loss: 0.47946465015411377, valid_loss: 0.506406843662262\n"
     ]
    },
    {
     "name": "stderr",
     "output_type": "stream",
     "text": [
      "100%|██████████| 115/115 [00:28<00:00,  4.05it/s]\n",
      "100%|██████████| 16/16 [00:01<00:00, 10.86it/s]\n",
      "  0%|          | 0/115 [00:00<?, ?it/s]"
     ]
    },
    {
     "name": "stdout",
     "output_type": "stream",
     "text": [
      "Epoch: 6, train_loss: 0.4746730923652649, valid_loss: 0.4947318732738495\n"
     ]
    },
    {
     "name": "stderr",
     "output_type": "stream",
     "text": [
      "100%|██████████| 115/115 [00:33<00:00,  3.47it/s]\n",
      "100%|██████████| 16/16 [00:01<00:00, 11.45it/s]\n",
      "  0%|          | 0/115 [00:00<?, ?it/s]"
     ]
    },
    {
     "name": "stdout",
     "output_type": "stream",
     "text": [
      "Epoch: 7, train_loss: 0.4671114683151245, valid_loss: 0.49238404631614685\n"
     ]
    },
    {
     "name": "stderr",
     "output_type": "stream",
     "text": [
      "100%|██████████| 115/115 [00:29<00:00,  3.90it/s]\n",
      "100%|██████████| 16/16 [00:01<00:00, 11.25it/s]\n",
      "  0%|          | 0/115 [00:00<?, ?it/s]"
     ]
    },
    {
     "name": "stdout",
     "output_type": "stream",
     "text": [
      "Epoch: 8, train_loss: 0.46020030975341797, valid_loss: 0.4912046790122986\n"
     ]
    },
    {
     "name": "stderr",
     "output_type": "stream",
     "text": [
      "100%|██████████| 115/115 [00:28<00:00,  4.05it/s]\n",
      "100%|██████████| 16/16 [00:01<00:00, 11.77it/s]\n",
      "  0%|          | 0/115 [00:00<?, ?it/s]"
     ]
    },
    {
     "name": "stdout",
     "output_type": "stream",
     "text": [
      "Epoch: 9, train_loss: 0.45722684264183044, valid_loss: 0.4841574430465698\n"
     ]
    },
    {
     "name": "stderr",
     "output_type": "stream",
     "text": [
      "100%|██████████| 115/115 [00:28<00:00,  4.09it/s]\n",
      "100%|██████████| 16/16 [00:01<00:00, 11.68it/s]\n",
      "  0%|          | 0/115 [00:00<?, ?it/s]"
     ]
    },
    {
     "name": "stdout",
     "output_type": "stream",
     "text": [
      "Epoch: 10, train_loss: 0.4536798298358917, valid_loss: 0.4817159175872803\n"
     ]
    },
    {
     "name": "stderr",
     "output_type": "stream",
     "text": [
      "100%|██████████| 115/115 [00:28<00:00,  4.01it/s]\n",
      "100%|██████████| 16/16 [00:01<00:00, 11.20it/s]\n",
      "  0%|          | 0/115 [00:00<?, ?it/s]"
     ]
    },
    {
     "name": "stdout",
     "output_type": "stream",
     "text": [
      "val loss increased, patience count:  1\n",
      "Epoch: 11, train_loss: 0.4500383734703064, valid_loss: 0.494324654340744\n"
     ]
    },
    {
     "name": "stderr",
     "output_type": "stream",
     "text": [
      "100%|██████████| 115/115 [00:29<00:00,  3.95it/s]\n",
      "100%|██████████| 16/16 [00:01<00:00, 10.93it/s]\n",
      "  0%|          | 0/115 [00:00<?, ?it/s]"
     ]
    },
    {
     "name": "stdout",
     "output_type": "stream",
     "text": [
      "val loss increased, patience count:  2\n",
      "Epoch: 12, train_loss: 0.4465161859989166, valid_loss: 0.4827115535736084\n"
     ]
    },
    {
     "name": "stderr",
     "output_type": "stream",
     "text": [
      "100%|██████████| 115/115 [00:28<00:00,  4.09it/s]\n",
      "100%|██████████| 16/16 [00:01<00:00, 11.14it/s]\n",
      "  0%|          | 0/115 [00:00<?, ?it/s]"
     ]
    },
    {
     "name": "stdout",
     "output_type": "stream",
     "text": [
      "Epoch: 13, train_loss: 0.436676949262619, valid_loss: 0.4772223234176636\n"
     ]
    },
    {
     "name": "stderr",
     "output_type": "stream",
     "text": [
      "100%|██████████| 115/115 [00:28<00:00,  4.00it/s]\n",
      "100%|██████████| 16/16 [00:01<00:00, 11.65it/s]\n",
      "  0%|          | 0/115 [00:00<?, ?it/s]"
     ]
    },
    {
     "name": "stdout",
     "output_type": "stream",
     "text": [
      "Epoch: 14, train_loss: 0.42735132575035095, valid_loss: 0.47029900550842285\n"
     ]
    },
    {
     "name": "stderr",
     "output_type": "stream",
     "text": [
      "100%|██████████| 115/115 [00:28<00:00,  4.04it/s]\n",
      "100%|██████████| 16/16 [00:01<00:00, 11.56it/s]\n",
      "  0%|          | 0/115 [00:00<?, ?it/s]"
     ]
    },
    {
     "name": "stdout",
     "output_type": "stream",
     "text": [
      "val loss increased, patience count:  1\n",
      "Epoch: 15, train_loss: 0.42382484674453735, valid_loss: 0.4773222506046295\n"
     ]
    },
    {
     "name": "stderr",
     "output_type": "stream",
     "text": [
      "100%|██████████| 115/115 [00:28<00:00,  4.06it/s]\n",
      "100%|██████████| 16/16 [00:01<00:00, 11.87it/s]\n",
      "  0%|          | 0/115 [00:00<?, ?it/s]"
     ]
    },
    {
     "name": "stdout",
     "output_type": "stream",
     "text": [
      "Epoch: 16, train_loss: 0.42136722803115845, valid_loss: 0.4695826768875122\n"
     ]
    },
    {
     "name": "stderr",
     "output_type": "stream",
     "text": [
      "100%|██████████| 115/115 [00:28<00:00,  4.00it/s]\n",
      "100%|██████████| 16/16 [00:01<00:00, 11.43it/s]\n",
      "  0%|          | 0/115 [00:00<?, ?it/s]"
     ]
    },
    {
     "name": "stdout",
     "output_type": "stream",
     "text": [
      "val loss increased, patience count:  1\n",
      "Epoch: 17, train_loss: 0.42020708322525024, valid_loss: 0.47993114590644836\n"
     ]
    },
    {
     "name": "stderr",
     "output_type": "stream",
     "text": [
      "100%|██████████| 115/115 [00:28<00:00,  4.06it/s]\n",
      "100%|██████████| 16/16 [00:01<00:00, 11.80it/s]\n",
      "  0%|          | 0/115 [00:00<?, ?it/s]"
     ]
    },
    {
     "name": "stdout",
     "output_type": "stream",
     "text": [
      "val loss increased, patience count:  2\n",
      "Epoch: 18, train_loss: 0.41299009323120117, valid_loss: 0.4869754910469055\n"
     ]
    },
    {
     "name": "stderr",
     "output_type": "stream",
     "text": [
      "100%|██████████| 115/115 [00:28<00:00,  4.00it/s]\n",
      "100%|██████████| 16/16 [00:01<00:00, 11.24it/s]\n"
     ]
    },
    {
     "name": "stdout",
     "output_type": "stream",
     "text": [
      "Early stopped at Epoch:  19\n"
     ]
    },
    {
     "name": "stderr",
     "output_type": "stream",
     "text": [
      "\r",
      "  0%|          | 0/115 [00:00<?, ?it/s]"
     ]
    },
    {
     "name": "stdout",
     "output_type": "stream",
     "text": [
      "{'BATCH_SIZE': 128, 'EPOCHS': 40, 'OPTIMIZER': <class 'torch.optim.adam.Adam'>, 'LEARNING_RATE': 0.0001, 'LOSS': protop_loss_1_1, 'EARLY_STOPPING': True, 'PATIENCE': 2, 'MIN_DELTA': 5e-05, 'MAXPOOL': 2, 'OBO_SIZES': array([512,  64]), 'PROTOTYPE_NUM': 20, 'DROPOUT': 0.3, 'HIDDEN_SIZES': array([128, 256, 512]), 'KERNEL_SIZES': array([9, 7, 7])}\n"
     ]
    },
    {
     "name": "stderr",
     "output_type": "stream",
     "text": [
      "100%|██████████| 115/115 [00:27<00:00,  4.12it/s]\n",
      "100%|██████████| 16/16 [00:01<00:00, 12.41it/s]\n",
      "  0%|          | 0/115 [00:00<?, ?it/s]"
     ]
    },
    {
     "name": "stdout",
     "output_type": "stream",
     "text": [
      "Epoch: 0, train_loss: -0.38535627722740173, valid_loss: -0.44500866532325745\n"
     ]
    },
    {
     "name": "stderr",
     "output_type": "stream",
     "text": [
      "100%|██████████| 115/115 [00:27<00:00,  4.17it/s]\n",
      "100%|██████████| 16/16 [00:01<00:00, 12.53it/s]\n",
      "  0%|          | 0/115 [00:00<?, ?it/s]"
     ]
    },
    {
     "name": "stdout",
     "output_type": "stream",
     "text": [
      "Epoch: 1, train_loss: -0.4746848940849304, valid_loss: -0.4533373713493347\n"
     ]
    },
    {
     "name": "stderr",
     "output_type": "stream",
     "text": [
      "100%|██████████| 115/115 [00:27<00:00,  4.12it/s]\n",
      "100%|██████████| 16/16 [00:01<00:00, 10.95it/s]\n",
      "  0%|          | 0/115 [00:00<?, ?it/s]"
     ]
    },
    {
     "name": "stdout",
     "output_type": "stream",
     "text": [
      "Epoch: 2, train_loss: -0.4963096082210541, valid_loss: -0.49830925464630127\n"
     ]
    },
    {
     "name": "stderr",
     "output_type": "stream",
     "text": [
      "100%|██████████| 115/115 [00:28<00:00,  4.06it/s]\n",
      "100%|██████████| 16/16 [00:01<00:00, 12.62it/s]\n",
      "  0%|          | 0/115 [00:00<?, ?it/s]"
     ]
    },
    {
     "name": "stdout",
     "output_type": "stream",
     "text": [
      "Epoch: 3, train_loss: -0.5644092559814453, valid_loss: -0.5361226201057434\n"
     ]
    },
    {
     "name": "stderr",
     "output_type": "stream",
     "text": [
      "100%|██████████| 115/115 [00:28<00:00,  4.07it/s]\n",
      "100%|██████████| 16/16 [00:01<00:00, 12.71it/s]\n",
      "  0%|          | 0/115 [00:00<?, ?it/s]"
     ]
    },
    {
     "name": "stdout",
     "output_type": "stream",
     "text": [
      "Epoch: 4, train_loss: -0.5810520052909851, valid_loss: -0.5400209426879883\n"
     ]
    },
    {
     "name": "stderr",
     "output_type": "stream",
     "text": [
      "100%|██████████| 115/115 [00:27<00:00,  4.12it/s]\n",
      "100%|██████████| 16/16 [00:01<00:00, 12.34it/s]\n",
      "  0%|          | 0/115 [00:00<?, ?it/s]"
     ]
    },
    {
     "name": "stdout",
     "output_type": "stream",
     "text": [
      "Epoch: 5, train_loss: -0.5897331833839417, valid_loss: -0.5446536540985107\n"
     ]
    },
    {
     "name": "stderr",
     "output_type": "stream",
     "text": [
      "100%|██████████| 115/115 [00:28<00:00,  4.09it/s]\n",
      "100%|██████████| 16/16 [00:01<00:00, 12.76it/s]\n",
      "  0%|          | 0/115 [00:00<?, ?it/s]"
     ]
    },
    {
     "name": "stdout",
     "output_type": "stream",
     "text": [
      "Epoch: 6, train_loss: -0.5943468809127808, valid_loss: -0.5474145412445068\n"
     ]
    },
    {
     "name": "stderr",
     "output_type": "stream",
     "text": [
      "100%|██████████| 115/115 [00:28<00:00,  4.05it/s]\n",
      "100%|██████████| 16/16 [00:01<00:00, 11.04it/s]\n",
      "  0%|          | 0/115 [00:00<?, ?it/s]"
     ]
    },
    {
     "name": "stdout",
     "output_type": "stream",
     "text": [
      "Epoch: 7, train_loss: -0.6128489375114441, valid_loss: -0.5585827827453613\n"
     ]
    },
    {
     "name": "stderr",
     "output_type": "stream",
     "text": [
      "100%|██████████| 115/115 [00:28<00:00,  4.02it/s]\n",
      "100%|██████████| 16/16 [00:01<00:00, 12.66it/s]\n",
      "  0%|          | 0/115 [00:00<?, ?it/s]"
     ]
    },
    {
     "name": "stdout",
     "output_type": "stream",
     "text": [
      "Epoch: 8, train_loss: -0.6387031674385071, valid_loss: -0.5834488272666931\n"
     ]
    },
    {
     "name": "stderr",
     "output_type": "stream",
     "text": [
      "100%|██████████| 115/115 [00:27<00:00,  4.12it/s]\n",
      "100%|██████████| 16/16 [00:01<00:00, 12.25it/s]\n",
      "  0%|          | 0/115 [00:00<?, ?it/s]"
     ]
    },
    {
     "name": "stdout",
     "output_type": "stream",
     "text": [
      "Epoch: 9, train_loss: -0.6494050025939941, valid_loss: -0.5935836434364319\n"
     ]
    },
    {
     "name": "stderr",
     "output_type": "stream",
     "text": [
      "100%|██████████| 115/115 [00:28<00:00,  4.06it/s]\n",
      "100%|██████████| 16/16 [00:01<00:00, 10.76it/s]\n",
      "  0%|          | 0/115 [00:00<?, ?it/s]"
     ]
    },
    {
     "name": "stdout",
     "output_type": "stream",
     "text": [
      "Epoch: 10, train_loss: -0.6650248169898987, valid_loss: -0.6010758876800537\n"
     ]
    },
    {
     "name": "stderr",
     "output_type": "stream",
     "text": [
      "100%|██████████| 115/115 [00:27<00:00,  4.12it/s]\n",
      "100%|██████████| 16/16 [00:01<00:00, 12.98it/s]\n",
      "  0%|          | 0/115 [00:00<?, ?it/s]"
     ]
    },
    {
     "name": "stdout",
     "output_type": "stream",
     "text": [
      "Epoch: 11, train_loss: -0.6746357083320618, valid_loss: -0.612777054309845\n"
     ]
    },
    {
     "name": "stderr",
     "output_type": "stream",
     "text": [
      "100%|██████████| 115/115 [00:27<00:00,  4.17it/s]\n",
      "100%|██████████| 16/16 [00:01<00:00, 12.44it/s]\n",
      "  0%|          | 0/115 [00:00<?, ?it/s]"
     ]
    },
    {
     "name": "stdout",
     "output_type": "stream",
     "text": [
      "Epoch: 12, train_loss: -0.675373375415802, valid_loss: -0.614130973815918\n"
     ]
    },
    {
     "name": "stderr",
     "output_type": "stream",
     "text": [
      "100%|██████████| 115/115 [00:28<00:00,  4.08it/s]\n",
      "100%|██████████| 16/16 [00:01<00:00, 12.63it/s]\n",
      "  0%|          | 0/115 [00:00<?, ?it/s]"
     ]
    },
    {
     "name": "stdout",
     "output_type": "stream",
     "text": [
      "val loss increased, patience count:  1\n",
      "Epoch: 13, train_loss: -0.677011251449585, valid_loss: -0.6126891374588013\n"
     ]
    },
    {
     "name": "stderr",
     "output_type": "stream",
     "text": [
      "100%|██████████| 115/115 [00:27<00:00,  4.12it/s]\n",
      "100%|██████████| 16/16 [00:01<00:00, 12.69it/s]\n",
      "  0%|          | 0/115 [00:00<?, ?it/s]"
     ]
    },
    {
     "name": "stdout",
     "output_type": "stream",
     "text": [
      "Epoch: 14, train_loss: -0.6876267790794373, valid_loss: -0.6195315718650818\n"
     ]
    },
    {
     "name": "stderr",
     "output_type": "stream",
     "text": [
      "100%|██████████| 115/115 [00:28<00:00,  4.09it/s]\n",
      "100%|██████████| 16/16 [00:01<00:00, 12.66it/s]\n",
      "  0%|          | 0/115 [00:00<?, ?it/s]"
     ]
    },
    {
     "name": "stdout",
     "output_type": "stream",
     "text": [
      "val loss increased, patience count:  1\n",
      "Epoch: 15, train_loss: -0.7058301568031311, valid_loss: -0.6146029233932495\n"
     ]
    },
    {
     "name": "stderr",
     "output_type": "stream",
     "text": [
      "100%|██████████| 115/115 [00:27<00:00,  4.15it/s]\n",
      "100%|██████████| 16/16 [00:01<00:00, 12.87it/s]\n",
      "  0%|          | 0/115 [00:00<?, ?it/s]"
     ]
    },
    {
     "name": "stdout",
     "output_type": "stream",
     "text": [
      "val loss increased, patience count:  2\n",
      "Epoch: 16, train_loss: -0.7133415341377258, valid_loss: -0.6169539093971252\n"
     ]
    },
    {
     "name": "stderr",
     "output_type": "stream",
     "text": [
      "100%|██████████| 115/115 [00:27<00:00,  4.13it/s]\n",
      "100%|██████████| 16/16 [00:01<00:00, 11.60it/s]\n",
      "  0%|          | 0/115 [00:00<?, ?it/s]"
     ]
    },
    {
     "name": "stdout",
     "output_type": "stream",
     "text": [
      "Epoch: 17, train_loss: -0.7246715426445007, valid_loss: -0.6275730133056641\n"
     ]
    },
    {
     "name": "stderr",
     "output_type": "stream",
     "text": [
      "100%|██████████| 115/115 [00:28<00:00,  4.08it/s]\n",
      "100%|██████████| 16/16 [00:01<00:00, 12.91it/s]\n",
      "  0%|          | 0/115 [00:00<?, ?it/s]"
     ]
    },
    {
     "name": "stdout",
     "output_type": "stream",
     "text": [
      "val loss increased, patience count:  1\n",
      "Epoch: 18, train_loss: -0.7479073405265808, valid_loss: -0.6252470016479492\n"
     ]
    },
    {
     "name": "stderr",
     "output_type": "stream",
     "text": [
      "100%|██████████| 115/115 [00:28<00:00,  4.09it/s]\n",
      "100%|██████████| 16/16 [00:01<00:00, 12.97it/s]\n",
      "  0%|          | 0/115 [00:00<?, ?it/s]"
     ]
    },
    {
     "name": "stdout",
     "output_type": "stream",
     "text": [
      "val loss increased, patience count:  2\n",
      "Epoch: 19, train_loss: -0.7469858527183533, valid_loss: -0.6147851347923279\n"
     ]
    },
    {
     "name": "stderr",
     "output_type": "stream",
     "text": [
      "100%|██████████| 115/115 [00:27<00:00,  4.13it/s]\n",
      "100%|██████████| 16/16 [00:01<00:00, 12.44it/s]\n"
     ]
    },
    {
     "name": "stdout",
     "output_type": "stream",
     "text": [
      "Early stopped at Epoch:  20\n"
     ]
    },
    {
     "name": "stderr",
     "output_type": "stream",
     "text": [
      "\r",
      "  0%|          | 0/57 [00:00<?, ?it/s]"
     ]
    },
    {
     "name": "stdout",
     "output_type": "stream",
     "text": [
      "{'BATCH_SIZE': 256, 'EPOCHS': 20, 'OPTIMIZER': <class 'torch.optim.adam.Adam'>, 'LEARNING_RATE': 1e-05, 'LOSS': protop_loss_0.3_0.1, 'EARLY_STOPPING': True, 'PATIENCE': 2, 'MIN_DELTA': 0.0005, 'MAXPOOL': 2, 'OBO_SIZES': array([128,  64]), 'PROTOTYPE_NUM': 20, 'DROPOUT': 0.6, 'HIDDEN_SIZES': array([128, 256, 512]), 'KERNEL_SIZES': array([7, 5, 3])}\n"
     ]
    },
    {
     "name": "stderr",
     "output_type": "stream",
     "text": [
      "100%|██████████| 57/57 [00:16<00:00,  3.45it/s]\n",
      "100%|██████████| 8/8 [00:00<00:00,  9.61it/s]\n",
      "  0%|          | 0/57 [00:00<?, ?it/s]"
     ]
    },
    {
     "name": "stdout",
     "output_type": "stream",
     "text": [
      "Epoch: 0, train_loss: 1.3657366037368774, valid_loss: 1.28267502784729\n"
     ]
    },
    {
     "name": "stderr",
     "output_type": "stream",
     "text": [
      "100%|██████████| 57/57 [00:16<00:00,  3.45it/s]\n",
      "100%|██████████| 8/8 [00:00<00:00,  9.57it/s]\n",
      "  0%|          | 0/57 [00:00<?, ?it/s]"
     ]
    },
    {
     "name": "stdout",
     "output_type": "stream",
     "text": [
      "Epoch: 1, train_loss: 1.2493391036987305, valid_loss: 1.2175426483154297\n"
     ]
    },
    {
     "name": "stderr",
     "output_type": "stream",
     "text": [
      "100%|██████████| 57/57 [00:16<00:00,  3.39it/s]\n",
      "100%|██████████| 8/8 [00:00<00:00,  8.05it/s]\n",
      "  0%|          | 0/57 [00:00<?, ?it/s]"
     ]
    },
    {
     "name": "stdout",
     "output_type": "stream",
     "text": [
      "Epoch: 2, train_loss: 1.1976547241210938, valid_loss: 1.1887307167053223\n"
     ]
    },
    {
     "name": "stderr",
     "output_type": "stream",
     "text": [
      "100%|██████████| 57/57 [00:16<00:00,  3.40it/s]\n",
      "100%|██████████| 8/8 [00:00<00:00,  9.26it/s]\n",
      "  0%|          | 0/57 [00:00<?, ?it/s]"
     ]
    },
    {
     "name": "stdout",
     "output_type": "stream",
     "text": [
      "Epoch: 3, train_loss: 1.180827260017395, valid_loss: 1.1816482543945312\n"
     ]
    },
    {
     "name": "stderr",
     "output_type": "stream",
     "text": [
      "100%|██████████| 57/57 [00:16<00:00,  3.45it/s]\n",
      "100%|██████████| 8/8 [00:00<00:00,  9.69it/s]\n",
      "  0%|          | 0/57 [00:00<?, ?it/s]"
     ]
    },
    {
     "name": "stdout",
     "output_type": "stream",
     "text": [
      "Epoch: 4, train_loss: 1.1711684465408325, valid_loss: 1.1496230363845825\n"
     ]
    },
    {
     "name": "stderr",
     "output_type": "stream",
     "text": [
      "100%|██████████| 57/57 [00:16<00:00,  3.45it/s]\n",
      "100%|██████████| 8/8 [00:00<00:00,  9.30it/s]\n",
      "  0%|          | 0/57 [00:00<?, ?it/s]"
     ]
    },
    {
     "name": "stdout",
     "output_type": "stream",
     "text": [
      "Epoch: 5, train_loss: 1.1064058542251587, valid_loss: 1.0841069221496582\n"
     ]
    },
    {
     "name": "stderr",
     "output_type": "stream",
     "text": [
      "100%|██████████| 57/57 [00:17<00:00,  3.32it/s]\n",
      "100%|██████████| 8/8 [00:00<00:00,  9.35it/s]\n",
      "  0%|          | 0/57 [00:00<?, ?it/s]"
     ]
    },
    {
     "name": "stdout",
     "output_type": "stream",
     "text": [
      "Epoch: 6, train_loss: 1.0741971731185913, valid_loss: 1.0776935815811157\n"
     ]
    },
    {
     "name": "stderr",
     "output_type": "stream",
     "text": [
      "100%|██████████| 57/57 [00:16<00:00,  3.45it/s]\n",
      "100%|██████████| 8/8 [00:00<00:00,  9.50it/s]\n",
      "  0%|          | 0/57 [00:00<?, ?it/s]"
     ]
    },
    {
     "name": "stdout",
     "output_type": "stream",
     "text": [
      "Epoch: 7, train_loss: 1.0686198472976685, valid_loss: 1.0722620487213135\n"
     ]
    },
    {
     "name": "stderr",
     "output_type": "stream",
     "text": [
      "100%|██████████| 57/57 [00:16<00:00,  3.48it/s]\n",
      "100%|██████████| 8/8 [00:00<00:00,  9.45it/s]\n",
      "  0%|          | 0/57 [00:00<?, ?it/s]"
     ]
    },
    {
     "name": "stdout",
     "output_type": "stream",
     "text": [
      "Epoch: 8, train_loss: 1.0640658140182495, valid_loss: 1.0687826871871948\n"
     ]
    },
    {
     "name": "stderr",
     "output_type": "stream",
     "text": [
      "100%|██████████| 57/57 [00:16<00:00,  3.43it/s]\n",
      "100%|██████████| 8/8 [00:00<00:00,  9.25it/s]\n",
      "  0%|          | 0/57 [00:00<?, ?it/s]"
     ]
    },
    {
     "name": "stdout",
     "output_type": "stream",
     "text": [
      "Epoch: 9, train_loss: 1.060011863708496, valid_loss: 1.0667142868041992\n"
     ]
    },
    {
     "name": "stderr",
     "output_type": "stream",
     "text": [
      "100%|██████████| 57/57 [00:16<00:00,  3.43it/s]\n",
      "100%|██████████| 8/8 [00:00<00:00,  9.27it/s]\n",
      "  0%|          | 0/57 [00:00<?, ?it/s]"
     ]
    },
    {
     "name": "stdout",
     "output_type": "stream",
     "text": [
      "Epoch: 10, train_loss: 1.0559502840042114, valid_loss: 1.061725378036499\n"
     ]
    },
    {
     "name": "stderr",
     "output_type": "stream",
     "text": [
      "100%|██████████| 57/57 [00:16<00:00,  3.45it/s]\n",
      "100%|██████████| 8/8 [00:00<00:00,  9.42it/s]\n",
      "  0%|          | 0/57 [00:00<?, ?it/s]"
     ]
    },
    {
     "name": "stdout",
     "output_type": "stream",
     "text": [
      "Epoch: 11, train_loss: 1.053552508354187, valid_loss: 1.0579707622528076\n"
     ]
    },
    {
     "name": "stderr",
     "output_type": "stream",
     "text": [
      "100%|██████████| 57/57 [00:16<00:00,  3.36it/s]\n",
      "100%|██████████| 8/8 [00:00<00:00,  9.48it/s]\n",
      "  0%|          | 0/57 [00:00<?, ?it/s]"
     ]
    },
    {
     "name": "stdout",
     "output_type": "stream",
     "text": [
      "val loss increased, patience count:  1\n",
      "Epoch: 12, train_loss: 1.0505707263946533, valid_loss: 1.058607578277588\n"
     ]
    },
    {
     "name": "stderr",
     "output_type": "stream",
     "text": [
      "100%|██████████| 57/57 [00:17<00:00,  3.25it/s]\n",
      "100%|██████████| 8/8 [00:00<00:00,  9.00it/s]\n",
      "  0%|          | 0/57 [00:00<?, ?it/s]"
     ]
    },
    {
     "name": "stdout",
     "output_type": "stream",
     "text": [
      "Epoch: 13, train_loss: 1.048272967338562, valid_loss: 1.0560073852539062\n"
     ]
    },
    {
     "name": "stderr",
     "output_type": "stream",
     "text": [
      "100%|██████████| 57/57 [00:16<00:00,  3.41it/s]\n",
      "100%|██████████| 8/8 [00:00<00:00,  9.65it/s]\n",
      "  0%|          | 0/57 [00:00<?, ?it/s]"
     ]
    },
    {
     "name": "stdout",
     "output_type": "stream",
     "text": [
      "Epoch: 14, train_loss: 1.0461320877075195, valid_loss: 1.0542389154434204\n"
     ]
    },
    {
     "name": "stderr",
     "output_type": "stream",
     "text": [
      "100%|██████████| 57/57 [00:16<00:00,  3.38it/s]\n",
      "100%|██████████| 8/8 [00:00<00:00,  9.60it/s]\n",
      "  0%|          | 0/57 [00:00<?, ?it/s]"
     ]
    },
    {
     "name": "stdout",
     "output_type": "stream",
     "text": [
      "Epoch: 15, train_loss: 1.0433944463729858, valid_loss: 1.052681803703308\n"
     ]
    },
    {
     "name": "stderr",
     "output_type": "stream",
     "text": [
      "100%|██████████| 57/57 [00:16<00:00,  3.43it/s]\n",
      "100%|██████████| 8/8 [00:00<00:00,  9.19it/s]\n",
      "  0%|          | 0/57 [00:00<?, ?it/s]"
     ]
    },
    {
     "name": "stdout",
     "output_type": "stream",
     "text": [
      "Epoch: 16, train_loss: 1.0414310693740845, valid_loss: 1.0492029190063477\n"
     ]
    },
    {
     "name": "stderr",
     "output_type": "stream",
     "text": [
      "100%|██████████| 57/57 [00:16<00:00,  3.38it/s]\n",
      "100%|██████████| 8/8 [00:00<00:00,  9.17it/s]\n",
      "  0%|          | 0/57 [00:00<?, ?it/s]"
     ]
    },
    {
     "name": "stdout",
     "output_type": "stream",
     "text": [
      "Epoch: 17, train_loss: 1.038825511932373, valid_loss: 1.0479037761688232\n"
     ]
    },
    {
     "name": "stderr",
     "output_type": "stream",
     "text": [
      "100%|██████████| 57/57 [00:16<00:00,  3.36it/s]\n",
      "100%|██████████| 8/8 [00:00<00:00,  9.53it/s]\n",
      "  0%|          | 0/57 [00:00<?, ?it/s]"
     ]
    },
    {
     "name": "stdout",
     "output_type": "stream",
     "text": [
      "Epoch: 18, train_loss: 1.0360956192016602, valid_loss: 1.0477944612503052\n"
     ]
    },
    {
     "name": "stderr",
     "output_type": "stream",
     "text": [
      "100%|██████████| 57/57 [00:16<00:00,  3.47it/s]\n",
      "100%|██████████| 8/8 [00:00<00:00,  9.69it/s]\n"
     ]
    },
    {
     "name": "stdout",
     "output_type": "stream",
     "text": [
      "Epoch: 19, train_loss: 1.0341312885284424, valid_loss: 1.0449132919311523\n"
     ]
    },
    {
     "name": "stderr",
     "output_type": "stream",
     "text": [
      "\r",
      "  0%|          | 0/28 [00:00<?, ?it/s]"
     ]
    },
    {
     "name": "stdout",
     "output_type": "stream",
     "text": [
      "{'BATCH_SIZE': 512, 'EPOCHS': 20, 'OPTIMIZER': <class 'torch.optim.adam.Adam'>, 'LEARNING_RATE': 0.0001, 'LOSS': protop_loss_0.5_0.1, 'EARLY_STOPPING': True, 'PATIENCE': 3, 'MIN_DELTA': 0.005, 'MAXPOOL': 2, 'OBO_SIZES': array([256,  64]), 'PROTOTYPE_NUM': 10, 'DROPOUT': 0.5, 'HIDDEN_SIZES': array([ 64, 128, 256]), 'KERNEL_SIZES': array([9, 9, 3])}\n"
     ]
    },
    {
     "name": "stderr",
     "output_type": "stream",
     "text": [
      "100%|██████████| 28/28 [00:07<00:00,  3.52it/s]\n",
      "100%|██████████| 4/4 [00:00<00:00,  8.21it/s]\n",
      "  0%|          | 0/28 [00:00<?, ?it/s]"
     ]
    },
    {
     "name": "stdout",
     "output_type": "stream",
     "text": [
      "Epoch: 0, train_loss: 1.7731772661209106, valid_loss: 1.5467606782913208\n"
     ]
    },
    {
     "name": "stderr",
     "output_type": "stream",
     "text": [
      "100%|██████████| 28/28 [00:07<00:00,  3.51it/s]\n",
      "100%|██████████| 4/4 [00:00<00:00,  7.94it/s]\n",
      "  0%|          | 0/28 [00:00<?, ?it/s]"
     ]
    },
    {
     "name": "stdout",
     "output_type": "stream",
     "text": [
      "Epoch: 1, train_loss: 1.445916771888733, valid_loss: 1.4069491624832153\n"
     ]
    },
    {
     "name": "stderr",
     "output_type": "stream",
     "text": [
      "100%|██████████| 28/28 [00:07<00:00,  3.55it/s]\n",
      "100%|██████████| 4/4 [00:00<00:00,  7.58it/s]\n",
      "  0%|          | 0/28 [00:00<?, ?it/s]"
     ]
    },
    {
     "name": "stdout",
     "output_type": "stream",
     "text": [
      "Epoch: 2, train_loss: 1.379248857498169, valid_loss: 1.3716226816177368\n"
     ]
    },
    {
     "name": "stderr",
     "output_type": "stream",
     "text": [
      "100%|██████████| 28/28 [00:07<00:00,  3.59it/s]\n",
      "100%|██████████| 4/4 [00:00<00:00,  8.17it/s]\n",
      "  0%|          | 0/28 [00:00<?, ?it/s]"
     ]
    },
    {
     "name": "stdout",
     "output_type": "stream",
     "text": [
      "Epoch: 3, train_loss: 1.3548203706741333, valid_loss: 1.36002516746521\n"
     ]
    },
    {
     "name": "stderr",
     "output_type": "stream",
     "text": [
      "100%|██████████| 28/28 [00:07<00:00,  3.58it/s]\n",
      "100%|██████████| 4/4 [00:00<00:00,  8.35it/s]\n",
      "  0%|          | 0/28 [00:00<?, ?it/s]"
     ]
    },
    {
     "name": "stdout",
     "output_type": "stream",
     "text": [
      "Epoch: 4, train_loss: 1.3428165912628174, valid_loss: 1.349928617477417\n"
     ]
    },
    {
     "name": "stderr",
     "output_type": "stream",
     "text": [
      "100%|██████████| 28/28 [00:07<00:00,  3.61it/s]\n",
      "100%|██████████| 4/4 [00:00<00:00,  8.45it/s]\n",
      "  0%|          | 0/28 [00:00<?, ?it/s]"
     ]
    },
    {
     "name": "stdout",
     "output_type": "stream",
     "text": [
      "Epoch: 5, train_loss: 1.3324211835861206, valid_loss: 1.3402884006500244\n"
     ]
    },
    {
     "name": "stderr",
     "output_type": "stream",
     "text": [
      "100%|██████████| 28/28 [00:07<00:00,  3.55it/s]\n",
      "100%|██████████| 4/4 [00:00<00:00,  8.47it/s]\n",
      "  0%|          | 0/28 [00:00<?, ?it/s]"
     ]
    },
    {
     "name": "stdout",
     "output_type": "stream",
     "text": [
      "Epoch: 6, train_loss: 1.3247007131576538, valid_loss: 1.3322409391403198\n"
     ]
    },
    {
     "name": "stderr",
     "output_type": "stream",
     "text": [
      "100%|██████████| 28/28 [00:07<00:00,  3.52it/s]\n",
      "100%|██████████| 4/4 [00:00<00:00,  8.20it/s]\n",
      "  0%|          | 0/28 [00:00<?, ?it/s]"
     ]
    },
    {
     "name": "stdout",
     "output_type": "stream",
     "text": [
      "Epoch: 7, train_loss: 1.3114452362060547, valid_loss: 1.2983973026275635\n"
     ]
    },
    {
     "name": "stderr",
     "output_type": "stream",
     "text": [
      "100%|██████████| 28/28 [00:08<00:00,  3.39it/s]\n",
      "100%|██████████| 4/4 [00:00<00:00,  8.15it/s]\n",
      "  0%|          | 0/28 [00:00<?, ?it/s]"
     ]
    },
    {
     "name": "stdout",
     "output_type": "stream",
     "text": [
      "Epoch: 8, train_loss: 1.2735146284103394, valid_loss: 1.2676432132720947\n"
     ]
    },
    {
     "name": "stderr",
     "output_type": "stream",
     "text": [
      "100%|██████████| 28/28 [00:07<00:00,  3.59it/s]\n",
      "100%|██████████| 4/4 [00:00<00:00,  8.26it/s]\n",
      "  0%|          | 0/28 [00:00<?, ?it/s]"
     ]
    },
    {
     "name": "stdout",
     "output_type": "stream",
     "text": [
      "Epoch: 9, train_loss: 1.254241704940796, valid_loss: 1.2597893476486206\n"
     ]
    },
    {
     "name": "stderr",
     "output_type": "stream",
     "text": [
      "100%|██████████| 28/28 [00:07<00:00,  3.60it/s]\n",
      "100%|██████████| 4/4 [00:00<00:00,  8.30it/s]\n",
      "  0%|          | 0/28 [00:00<?, ?it/s]"
     ]
    },
    {
     "name": "stdout",
     "output_type": "stream",
     "text": [
      "Epoch: 10, train_loss: 1.2462040185928345, valid_loss: 1.2544599771499634\n"
     ]
    },
    {
     "name": "stderr",
     "output_type": "stream",
     "text": [
      "100%|██████████| 28/28 [00:07<00:00,  3.62it/s]\n",
      "100%|██████████| 4/4 [00:00<00:00,  8.52it/s]\n",
      "  0%|          | 0/28 [00:00<?, ?it/s]"
     ]
    },
    {
     "name": "stdout",
     "output_type": "stream",
     "text": [
      "Epoch: 11, train_loss: 1.2416269779205322, valid_loss: 1.248002052307129\n"
     ]
    },
    {
     "name": "stderr",
     "output_type": "stream",
     "text": [
      "100%|██████████| 28/28 [00:07<00:00,  3.64it/s]\n",
      "100%|██████████| 4/4 [00:00<00:00,  8.35it/s]\n",
      "  0%|          | 0/28 [00:00<?, ?it/s]"
     ]
    },
    {
     "name": "stdout",
     "output_type": "stream",
     "text": [
      "Epoch: 12, train_loss: 1.234488606452942, valid_loss: 1.2458878755569458\n"
     ]
    },
    {
     "name": "stderr",
     "output_type": "stream",
     "text": [
      "100%|██████████| 28/28 [00:07<00:00,  3.57it/s]\n",
      "100%|██████████| 4/4 [00:00<00:00,  8.24it/s]\n",
      "  0%|          | 0/28 [00:00<?, ?it/s]"
     ]
    },
    {
     "name": "stdout",
     "output_type": "stream",
     "text": [
      "Epoch: 13, train_loss: 1.229042887687683, valid_loss: 1.2380106449127197\n"
     ]
    },
    {
     "name": "stderr",
     "output_type": "stream",
     "text": [
      "100%|██████████| 28/28 [00:07<00:00,  3.57it/s]\n",
      "100%|██████████| 4/4 [00:00<00:00,  8.35it/s]\n",
      "  0%|          | 0/28 [00:00<?, ?it/s]"
     ]
    },
    {
     "name": "stdout",
     "output_type": "stream",
     "text": [
      "Epoch: 14, train_loss: 1.2222607135772705, valid_loss: 1.2350894212722778\n"
     ]
    },
    {
     "name": "stderr",
     "output_type": "stream",
     "text": [
      "100%|██████████| 28/28 [00:07<00:00,  3.58it/s]\n",
      "100%|██████████| 4/4 [00:00<00:00,  8.35it/s]\n",
      "  0%|          | 0/28 [00:00<?, ?it/s]"
     ]
    },
    {
     "name": "stdout",
     "output_type": "stream",
     "text": [
      "Epoch: 15, train_loss: 1.2200953960418701, valid_loss: 1.231319546699524\n"
     ]
    },
    {
     "name": "stderr",
     "output_type": "stream",
     "text": [
      "100%|██████████| 28/28 [00:07<00:00,  3.56it/s]\n",
      "100%|██████████| 4/4 [00:00<00:00,  8.25it/s]\n",
      "  0%|          | 0/28 [00:00<?, ?it/s]"
     ]
    },
    {
     "name": "stdout",
     "output_type": "stream",
     "text": [
      "val loss increased, patience count:  1\n",
      "Epoch: 16, train_loss: 1.2166101932525635, valid_loss: 1.2314125299453735\n"
     ]
    },
    {
     "name": "stderr",
     "output_type": "stream",
     "text": [
      "100%|██████████| 28/28 [00:07<00:00,  3.62it/s]\n",
      "100%|██████████| 4/4 [00:00<00:00,  8.17it/s]\n",
      "  0%|          | 0/28 [00:00<?, ?it/s]"
     ]
    },
    {
     "name": "stdout",
     "output_type": "stream",
     "text": [
      "Epoch: 17, train_loss: 1.2153394222259521, valid_loss: 1.2277287244796753\n"
     ]
    },
    {
     "name": "stderr",
     "output_type": "stream",
     "text": [
      "100%|██████████| 28/28 [00:07<00:00,  3.63it/s]\n",
      "100%|██████████| 4/4 [00:00<00:00,  8.45it/s]\n",
      "  0%|          | 0/28 [00:00<?, ?it/s]"
     ]
    },
    {
     "name": "stdout",
     "output_type": "stream",
     "text": [
      "val loss increased, patience count:  1\n",
      "Epoch: 18, train_loss: 1.213154673576355, valid_loss: 1.2288341522216797\n"
     ]
    },
    {
     "name": "stderr",
     "output_type": "stream",
     "text": [
      "100%|██████████| 28/28 [00:08<00:00,  3.38it/s]\n",
      "100%|██████████| 4/4 [00:00<00:00,  7.56it/s]\n"
     ]
    },
    {
     "name": "stdout",
     "output_type": "stream",
     "text": [
      "Epoch: 19, train_loss: 1.211353063583374, valid_loss: 1.2266051769256592\n"
     ]
    },
    {
     "name": "stderr",
     "output_type": "stream",
     "text": [
      "\r",
      "  0%|          | 0/28 [00:00<?, ?it/s]"
     ]
    },
    {
     "name": "stdout",
     "output_type": "stream",
     "text": [
      "{'BATCH_SIZE': 512, 'EPOCHS': 20, 'OPTIMIZER': <class 'torch.optim.adam.Adam'>, 'LEARNING_RATE': 5e-05, 'LOSS': protop_loss_1_0.5, 'EARLY_STOPPING': True, 'PATIENCE': 2, 'MIN_DELTA': 5e-05, 'MAXPOOL': 2, 'OBO_SIZES': array([512,  64]), 'PROTOTYPE_NUM': 20, 'DROPOUT': 0.1, 'HIDDEN_SIZES': array([ 64, 128, 256]), 'KERNEL_SIZES': array([3, 3, 3])}\n"
     ]
    },
    {
     "name": "stderr",
     "output_type": "stream",
     "text": [
      "100%|██████████| 28/28 [00:07<00:00,  3.97it/s]\n",
      "100%|██████████| 4/4 [00:00<00:00,  8.27it/s]\n",
      "  0%|          | 0/28 [00:00<?, ?it/s]"
     ]
    },
    {
     "name": "stdout",
     "output_type": "stream",
     "text": [
      "Epoch: 0, train_loss: 2.2195470333099365, valid_loss: 1.7307029962539673\n"
     ]
    },
    {
     "name": "stderr",
     "output_type": "stream",
     "text": [
      "100%|██████████| 28/28 [00:06<00:00,  4.01it/s]\n",
      "100%|██████████| 4/4 [00:00<00:00,  9.57it/s]\n",
      "  0%|          | 0/28 [00:00<?, ?it/s]"
     ]
    },
    {
     "name": "stdout",
     "output_type": "stream",
     "text": [
      "Epoch: 1, train_loss: 1.485239028930664, valid_loss: 1.3608862161636353\n"
     ]
    },
    {
     "name": "stderr",
     "output_type": "stream",
     "text": [
      "100%|██████████| 28/28 [00:07<00:00,  3.79it/s]\n",
      "100%|██████████| 4/4 [00:00<00:00,  9.66it/s]\n",
      "  0%|          | 0/28 [00:00<?, ?it/s]"
     ]
    },
    {
     "name": "stdout",
     "output_type": "stream",
     "text": [
      "Epoch: 2, train_loss: 1.3010505437850952, valid_loss: 1.2884705066680908\n"
     ]
    },
    {
     "name": "stderr",
     "output_type": "stream",
     "text": [
      "100%|██████████| 28/28 [00:07<00:00,  3.98it/s]\n",
      "100%|██████████| 4/4 [00:00<00:00, 10.44it/s]\n",
      "  0%|          | 0/28 [00:00<?, ?it/s]"
     ]
    },
    {
     "name": "stdout",
     "output_type": "stream",
     "text": [
      "Epoch: 3, train_loss: 1.2457307577133179, valid_loss: 1.2507591247558594\n"
     ]
    },
    {
     "name": "stderr",
     "output_type": "stream",
     "text": [
      "100%|██████████| 28/28 [00:07<00:00,  3.88it/s]\n",
      "100%|██████████| 4/4 [00:00<00:00,  9.77it/s]\n",
      "  0%|          | 0/28 [00:00<?, ?it/s]"
     ]
    },
    {
     "name": "stdout",
     "output_type": "stream",
     "text": [
      "Epoch: 4, train_loss: 1.2144907712936401, valid_loss: 1.2208476066589355\n"
     ]
    },
    {
     "name": "stderr",
     "output_type": "stream",
     "text": [
      "100%|██████████| 28/28 [00:07<00:00,  4.00it/s]\n",
      "100%|██████████| 4/4 [00:00<00:00, 10.44it/s]\n",
      "  0%|          | 0/28 [00:00<?, ?it/s]"
     ]
    },
    {
     "name": "stdout",
     "output_type": "stream",
     "text": [
      "Epoch: 5, train_loss: 1.1940252780914307, valid_loss: 1.211575984954834\n"
     ]
    },
    {
     "name": "stderr",
     "output_type": "stream",
     "text": [
      "100%|██████████| 28/28 [00:07<00:00,  3.97it/s]\n",
      "100%|██████████| 4/4 [00:00<00:00, 10.05it/s]\n",
      "  0%|          | 0/28 [00:00<?, ?it/s]"
     ]
    },
    {
     "name": "stdout",
     "output_type": "stream",
     "text": [
      "Epoch: 6, train_loss: 1.1773021221160889, valid_loss: 1.1895732879638672\n"
     ]
    },
    {
     "name": "stderr",
     "output_type": "stream",
     "text": [
      "100%|██████████| 28/28 [00:07<00:00,  3.96it/s]\n",
      "100%|██████████| 4/4 [00:00<00:00, 10.09it/s]\n",
      "  0%|          | 0/28 [00:00<?, ?it/s]"
     ]
    },
    {
     "name": "stdout",
     "output_type": "stream",
     "text": [
      "Epoch: 7, train_loss: 1.1652461290359497, valid_loss: 1.1806074380874634\n"
     ]
    },
    {
     "name": "stderr",
     "output_type": "stream",
     "text": [
      "100%|██████████| 28/28 [00:07<00:00,  3.74it/s]\n",
      "100%|██████████| 4/4 [00:00<00:00,  9.82it/s]\n",
      "  0%|          | 0/28 [00:00<?, ?it/s]"
     ]
    },
    {
     "name": "stdout",
     "output_type": "stream",
     "text": [
      "Epoch: 8, train_loss: 1.145094633102417, valid_loss: 1.1578508615493774\n"
     ]
    },
    {
     "name": "stderr",
     "output_type": "stream",
     "text": [
      "100%|██████████| 28/28 [00:06<00:00,  4.00it/s]\n",
      "100%|██████████| 4/4 [00:00<00:00,  9.91it/s]\n",
      "  0%|          | 0/28 [00:00<?, ?it/s]"
     ]
    },
    {
     "name": "stdout",
     "output_type": "stream",
     "text": [
      "Epoch: 9, train_loss: 1.1305415630340576, valid_loss: 1.1476755142211914\n"
     ]
    },
    {
     "name": "stderr",
     "output_type": "stream",
     "text": [
      "100%|██████████| 28/28 [00:07<00:00,  3.91it/s]\n",
      "100%|██████████| 4/4 [00:00<00:00,  9.93it/s]\n",
      "  0%|          | 0/28 [00:00<?, ?it/s]"
     ]
    },
    {
     "name": "stdout",
     "output_type": "stream",
     "text": [
      "Epoch: 10, train_loss: 1.1196829080581665, valid_loss: 1.1390525102615356\n"
     ]
    },
    {
     "name": "stderr",
     "output_type": "stream",
     "text": [
      "100%|██████████| 28/28 [00:08<00:00,  3.48it/s]\n",
      "100%|██████████| 4/4 [00:00<00:00,  7.02it/s]\n",
      "  0%|          | 0/28 [00:00<?, ?it/s]"
     ]
    },
    {
     "name": "stdout",
     "output_type": "stream",
     "text": [
      "Epoch: 11, train_loss: 1.1125191450119019, valid_loss: 1.1257803440093994\n"
     ]
    },
    {
     "name": "stderr",
     "output_type": "stream",
     "text": [
      "100%|██████████| 28/28 [00:08<00:00,  3.33it/s]\n",
      "100%|██████████| 4/4 [00:00<00:00,  9.97it/s]\n",
      "  0%|          | 0/28 [00:00<?, ?it/s]"
     ]
    },
    {
     "name": "stdout",
     "output_type": "stream",
     "text": [
      "Epoch: 12, train_loss: 1.0989344120025635, valid_loss: 1.1170467138290405\n"
     ]
    },
    {
     "name": "stderr",
     "output_type": "stream",
     "text": [
      "100%|██████████| 28/28 [00:07<00:00,  3.91it/s]\n",
      "100%|██████████| 4/4 [00:00<00:00,  9.82it/s]\n",
      "  0%|          | 0/28 [00:00<?, ?it/s]"
     ]
    },
    {
     "name": "stdout",
     "output_type": "stream",
     "text": [
      "Epoch: 13, train_loss: 1.0849117040634155, valid_loss: 1.1025328636169434\n"
     ]
    },
    {
     "name": "stderr",
     "output_type": "stream",
     "text": [
      "100%|██████████| 28/28 [00:07<00:00,  3.98it/s]\n",
      "100%|██████████| 4/4 [00:00<00:00,  9.32it/s]\n",
      "  0%|          | 0/28 [00:00<?, ?it/s]"
     ]
    },
    {
     "name": "stdout",
     "output_type": "stream",
     "text": [
      "Epoch: 14, train_loss: 1.0781465768814087, valid_loss: 1.0995030403137207\n"
     ]
    },
    {
     "name": "stderr",
     "output_type": "stream",
     "text": [
      "100%|██████████| 28/28 [00:07<00:00,  3.98it/s]\n",
      "100%|██████████| 4/4 [00:00<00:00, 10.34it/s]\n",
      "  0%|          | 0/28 [00:00<?, ?it/s]"
     ]
    },
    {
     "name": "stdout",
     "output_type": "stream",
     "text": [
      "Epoch: 15, train_loss: 1.0707675218582153, valid_loss: 1.0936663150787354\n"
     ]
    },
    {
     "name": "stderr",
     "output_type": "stream",
     "text": [
      "100%|██████████| 28/28 [00:07<00:00,  3.99it/s]\n",
      "100%|██████████| 4/4 [00:00<00:00, 10.32it/s]\n",
      "  0%|          | 0/28 [00:00<?, ?it/s]"
     ]
    },
    {
     "name": "stdout",
     "output_type": "stream",
     "text": [
      "Epoch: 16, train_loss: 1.0628694295883179, valid_loss: 1.088815689086914\n"
     ]
    },
    {
     "name": "stderr",
     "output_type": "stream",
     "text": [
      "100%|██████████| 28/28 [00:06<00:00,  4.04it/s]\n",
      "100%|██████████| 4/4 [00:00<00:00,  9.80it/s]\n",
      "  0%|          | 0/28 [00:00<?, ?it/s]"
     ]
    },
    {
     "name": "stdout",
     "output_type": "stream",
     "text": [
      "Epoch: 17, train_loss: 1.0589675903320312, valid_loss: 1.0826454162597656\n"
     ]
    },
    {
     "name": "stderr",
     "output_type": "stream",
     "text": [
      "100%|██████████| 28/28 [00:07<00:00,  3.92it/s]\n",
      "100%|██████████| 4/4 [00:00<00:00,  9.82it/s]\n",
      "  0%|          | 0/28 [00:00<?, ?it/s]"
     ]
    },
    {
     "name": "stdout",
     "output_type": "stream",
     "text": [
      "Epoch: 18, train_loss: 1.0550345182418823, valid_loss: 1.0766805410385132\n"
     ]
    },
    {
     "name": "stderr",
     "output_type": "stream",
     "text": [
      "100%|██████████| 28/28 [00:07<00:00,  3.92it/s]\n",
      "100%|██████████| 4/4 [00:00<00:00, 10.30it/s]\n"
     ]
    },
    {
     "name": "stdout",
     "output_type": "stream",
     "text": [
      "Epoch: 19, train_loss: 1.0509380102157593, valid_loss: 1.0679094791412354\n"
     ]
    },
    {
     "name": "stderr",
     "output_type": "stream",
     "text": [
      "  2%|▏         | 2/115 [00:00<00:09, 12.02it/s]"
     ]
    },
    {
     "name": "stdout",
     "output_type": "stream",
     "text": [
      "{'BATCH_SIZE': 128, 'EPOCHS': 40, 'OPTIMIZER': <class 'torch.optim.adam.Adam'>, 'LEARNING_RATE': 0.0001, 'LOSS': protop_loss_0.3_0.1, 'EARLY_STOPPING': True, 'PATIENCE': 2, 'MIN_DELTA': 0.001, 'MAXPOOL': 2, 'OBO_SIZES': array([64, 64]), 'PROTOTYPE_NUM': 20, 'DROPOUT': 0.5, 'HIDDEN_SIZES': array([256]), 'KERNEL_SIZES': array([3])}\n"
     ]
    },
    {
     "name": "stderr",
     "output_type": "stream",
     "text": [
      "100%|██████████| 115/115 [00:09<00:00, 12.61it/s]\n",
      "100%|██████████| 16/16 [00:00<00:00, 29.14it/s]\n",
      "  2%|▏         | 2/115 [00:00<00:08, 13.93it/s]"
     ]
    },
    {
     "name": "stdout",
     "output_type": "stream",
     "text": [
      "Epoch: 0, train_loss: 1.201009750366211, valid_loss: 1.0123722553253174\n"
     ]
    },
    {
     "name": "stderr",
     "output_type": "stream",
     "text": [
      "100%|██████████| 115/115 [00:09<00:00, 12.77it/s]\n",
      "100%|██████████| 16/16 [00:00<00:00, 30.18it/s]\n",
      "  2%|▏         | 2/115 [00:00<00:08, 12.65it/s]"
     ]
    },
    {
     "name": "stdout",
     "output_type": "stream",
     "text": [
      "Epoch: 1, train_loss: 0.9675531387329102, valid_loss: 0.9314053058624268\n"
     ]
    },
    {
     "name": "stderr",
     "output_type": "stream",
     "text": [
      "100%|██████████| 115/115 [00:08<00:00, 12.91it/s]\n",
      "100%|██████████| 16/16 [00:00<00:00, 30.13it/s]\n",
      "  2%|▏         | 2/115 [00:00<00:08, 13.50it/s]"
     ]
    },
    {
     "name": "stdout",
     "output_type": "stream",
     "text": [
      "Epoch: 2, train_loss: 0.8587741851806641, valid_loss: 0.8528685569763184\n"
     ]
    },
    {
     "name": "stderr",
     "output_type": "stream",
     "text": [
      "100%|██████████| 115/115 [00:08<00:00, 12.90it/s]\n",
      "100%|██████████| 16/16 [00:00<00:00, 30.75it/s]\n",
      "  2%|▏         | 2/115 [00:00<00:08, 13.10it/s]"
     ]
    },
    {
     "name": "stdout",
     "output_type": "stream",
     "text": [
      "Epoch: 3, train_loss: 0.8323159217834473, valid_loss: 0.8363233804702759\n"
     ]
    },
    {
     "name": "stderr",
     "output_type": "stream",
     "text": [
      "100%|██████████| 115/115 [00:09<00:00, 12.72it/s]\n",
      "100%|██████████| 16/16 [00:00<00:00, 30.70it/s]\n",
      "  2%|▏         | 2/115 [00:00<00:08, 13.06it/s]"
     ]
    },
    {
     "name": "stdout",
     "output_type": "stream",
     "text": [
      "Epoch: 4, train_loss: 0.8213276267051697, valid_loss: 0.8316487073898315\n"
     ]
    },
    {
     "name": "stderr",
     "output_type": "stream",
     "text": [
      "100%|██████████| 115/115 [00:08<00:00, 12.93it/s]\n",
      "100%|██████████| 16/16 [00:00<00:00, 30.37it/s]\n",
      "  2%|▏         | 2/115 [00:00<00:08, 12.83it/s]"
     ]
    },
    {
     "name": "stdout",
     "output_type": "stream",
     "text": [
      "Epoch: 5, train_loss: 0.8094112873077393, valid_loss: 0.8183432221412659\n"
     ]
    },
    {
     "name": "stderr",
     "output_type": "stream",
     "text": [
      "100%|██████████| 115/115 [00:09<00:00, 12.73it/s]\n",
      "100%|██████████| 16/16 [00:00<00:00, 28.55it/s]\n",
      "  2%|▏         | 2/115 [00:00<00:09, 11.68it/s]"
     ]
    },
    {
     "name": "stdout",
     "output_type": "stream",
     "text": [
      "Epoch: 6, train_loss: 0.8004233837127686, valid_loss: 0.8126454949378967\n"
     ]
    },
    {
     "name": "stderr",
     "output_type": "stream",
     "text": [
      "100%|██████████| 115/115 [00:09<00:00, 12.25it/s]\n",
      "100%|██████████| 16/16 [00:00<00:00, 31.03it/s]\n",
      "  2%|▏         | 2/115 [00:00<00:08, 13.44it/s]"
     ]
    },
    {
     "name": "stdout",
     "output_type": "stream",
     "text": [
      "Epoch: 7, train_loss: 0.793765127658844, valid_loss: 0.8069352507591248\n"
     ]
    },
    {
     "name": "stderr",
     "output_type": "stream",
     "text": [
      "100%|██████████| 115/115 [00:08<00:00, 12.79it/s]\n",
      "100%|██████████| 16/16 [00:00<00:00, 31.10it/s]\n",
      "  2%|▏         | 2/115 [00:00<00:08, 12.96it/s]"
     ]
    },
    {
     "name": "stdout",
     "output_type": "stream",
     "text": [
      "Epoch: 8, train_loss: 0.787212073802948, valid_loss: 0.7998949885368347\n"
     ]
    },
    {
     "name": "stderr",
     "output_type": "stream",
     "text": [
      "100%|██████████| 115/115 [00:08<00:00, 12.83it/s]\n",
      "100%|██████████| 16/16 [00:00<00:00, 29.67it/s]\n",
      "  2%|▏         | 2/115 [00:00<00:08, 13.21it/s]"
     ]
    },
    {
     "name": "stdout",
     "output_type": "stream",
     "text": [
      "Epoch: 9, train_loss: 0.7771283984184265, valid_loss: 0.7872418165206909\n"
     ]
    },
    {
     "name": "stderr",
     "output_type": "stream",
     "text": [
      "100%|██████████| 115/115 [00:08<00:00, 12.98it/s]\n",
      "100%|██████████| 16/16 [00:00<00:00, 29.81it/s]\n",
      "  2%|▏         | 2/115 [00:00<00:08, 13.81it/s]"
     ]
    },
    {
     "name": "stdout",
     "output_type": "stream",
     "text": [
      "Epoch: 10, train_loss: 0.7680022120475769, valid_loss: 0.7816814184188843\n"
     ]
    },
    {
     "name": "stderr",
     "output_type": "stream",
     "text": [
      "100%|██████████| 115/115 [00:09<00:00, 12.65it/s]\n",
      "100%|██████████| 16/16 [00:00<00:00, 30.28it/s]\n",
      "  2%|▏         | 2/115 [00:00<00:10, 11.24it/s]"
     ]
    },
    {
     "name": "stdout",
     "output_type": "stream",
     "text": [
      "Epoch: 11, train_loss: 0.7624073624610901, valid_loss: 0.7788577079772949\n"
     ]
    },
    {
     "name": "stderr",
     "output_type": "stream",
     "text": [
      "100%|██████████| 115/115 [00:09<00:00, 12.67it/s]\n",
      "100%|██████████| 16/16 [00:00<00:00, 31.02it/s]\n",
      "  2%|▏         | 2/115 [00:00<00:08, 14.06it/s]"
     ]
    },
    {
     "name": "stdout",
     "output_type": "stream",
     "text": [
      "Epoch: 12, train_loss: 0.755709171295166, valid_loss: 0.7709343433380127\n"
     ]
    },
    {
     "name": "stderr",
     "output_type": "stream",
     "text": [
      "100%|██████████| 115/115 [00:08<00:00, 12.91it/s]\n",
      "100%|██████████| 16/16 [00:00<00:00, 29.96it/s]\n",
      "  2%|▏         | 2/115 [00:00<00:08, 13.68it/s]"
     ]
    },
    {
     "name": "stdout",
     "output_type": "stream",
     "text": [
      "Epoch: 13, train_loss: 0.7480657696723938, valid_loss: 0.7646323442459106\n"
     ]
    },
    {
     "name": "stderr",
     "output_type": "stream",
     "text": [
      "100%|██████████| 115/115 [00:09<00:00, 12.63it/s]\n",
      "100%|██████████| 16/16 [00:00<00:00, 28.89it/s]\n",
      "  2%|▏         | 2/115 [00:00<00:09, 11.85it/s]"
     ]
    },
    {
     "name": "stdout",
     "output_type": "stream",
     "text": [
      "Epoch: 14, train_loss: 0.7389207482337952, valid_loss: 0.7399381399154663\n"
     ]
    },
    {
     "name": "stderr",
     "output_type": "stream",
     "text": [
      "100%|██████████| 115/115 [00:08<00:00, 12.82it/s]\n",
      "100%|██████████| 16/16 [00:00<00:00, 31.59it/s]\n",
      "  2%|▏         | 2/115 [00:00<00:08, 13.54it/s]"
     ]
    },
    {
     "name": "stdout",
     "output_type": "stream",
     "text": [
      "Epoch: 15, train_loss: 0.7165655493736267, valid_loss: 0.7395292520523071\n"
     ]
    },
    {
     "name": "stderr",
     "output_type": "stream",
     "text": [
      "100%|██████████| 115/115 [00:08<00:00, 12.85it/s]\n",
      "100%|██████████| 16/16 [00:00<00:00, 31.86it/s]\n",
      "  2%|▏         | 2/115 [00:00<00:08, 13.67it/s]"
     ]
    },
    {
     "name": "stdout",
     "output_type": "stream",
     "text": [
      "Epoch: 16, train_loss: 0.71190345287323, valid_loss: 0.7380234599113464\n"
     ]
    },
    {
     "name": "stderr",
     "output_type": "stream",
     "text": [
      "100%|██████████| 115/115 [00:09<00:00, 12.71it/s]\n",
      "100%|██████████| 16/16 [00:00<00:00, 29.88it/s]\n",
      "  2%|▏         | 2/115 [00:00<00:08, 13.05it/s]"
     ]
    },
    {
     "name": "stdout",
     "output_type": "stream",
     "text": [
      "Epoch: 17, train_loss: 0.7092449069023132, valid_loss: 0.7342158555984497\n"
     ]
    },
    {
     "name": "stderr",
     "output_type": "stream",
     "text": [
      "100%|██████████| 115/115 [00:08<00:00, 13.02it/s]\n",
      "100%|██████████| 16/16 [00:00<00:00, 31.88it/s]\n",
      "  2%|▏         | 2/115 [00:00<00:08, 14.00it/s]"
     ]
    },
    {
     "name": "stdout",
     "output_type": "stream",
     "text": [
      "Epoch: 18, train_loss: 0.7067599892616272, valid_loss: 0.7336006164550781\n"
     ]
    },
    {
     "name": "stderr",
     "output_type": "stream",
     "text": [
      "100%|██████████| 115/115 [00:08<00:00, 13.03it/s]\n",
      "100%|██████████| 16/16 [00:00<00:00, 28.70it/s]\n",
      "  2%|▏         | 2/115 [00:00<00:10, 10.54it/s]"
     ]
    },
    {
     "name": "stdout",
     "output_type": "stream",
     "text": [
      "Epoch: 19, train_loss: 0.7034478187561035, valid_loss: 0.733370304107666\n"
     ]
    },
    {
     "name": "stderr",
     "output_type": "stream",
     "text": [
      "100%|██████████| 115/115 [00:08<00:00, 12.87it/s]\n",
      "100%|██████████| 16/16 [00:00<00:00, 32.08it/s]\n",
      "  2%|▏         | 2/115 [00:00<00:08, 12.83it/s]"
     ]
    },
    {
     "name": "stdout",
     "output_type": "stream",
     "text": [
      "Epoch: 20, train_loss: 0.7017024159431458, valid_loss: 0.7264853715896606\n"
     ]
    },
    {
     "name": "stderr",
     "output_type": "stream",
     "text": [
      "100%|██████████| 115/115 [00:09<00:00, 12.67it/s]\n",
      "100%|██████████| 16/16 [00:00<00:00, 29.22it/s]\n",
      "  2%|▏         | 2/115 [00:00<00:08, 13.64it/s]"
     ]
    },
    {
     "name": "stdout",
     "output_type": "stream",
     "text": [
      "val loss increased, patience count:  1\n",
      "Epoch: 21, train_loss: 0.6995629072189331, valid_loss: 0.7291167378425598\n"
     ]
    },
    {
     "name": "stderr",
     "output_type": "stream",
     "text": [
      "100%|██████████| 115/115 [00:09<00:00, 12.78it/s]\n",
      "100%|██████████| 16/16 [00:00<00:00, 32.37it/s]\n",
      "  2%|▏         | 2/115 [00:00<00:08, 13.27it/s]"
     ]
    },
    {
     "name": "stdout",
     "output_type": "stream",
     "text": [
      "val loss increased, patience count:  2\n",
      "Epoch: 22, train_loss: 0.6977147459983826, valid_loss: 0.7287097573280334\n"
     ]
    },
    {
     "name": "stderr",
     "output_type": "stream",
     "text": [
      "100%|██████████| 115/115 [00:09<00:00, 12.13it/s]\n",
      "100%|██████████| 16/16 [00:00<00:00, 32.14it/s]\n"
     ]
    },
    {
     "name": "stdout",
     "output_type": "stream",
     "text": [
      "Early stopped at Epoch:  23\n"
     ]
    },
    {
     "name": "stderr",
     "output_type": "stream",
     "text": [
      "\r",
      "  0%|          | 0/115 [00:00<?, ?it/s]"
     ]
    },
    {
     "name": "stdout",
     "output_type": "stream",
     "text": [
      "{'BATCH_SIZE': 128, 'EPOCHS': 20, 'OPTIMIZER': <class 'torch.optim.adam.Adam'>, 'LEARNING_RATE': 0.0005, 'LOSS': protop_loss_0.3_0.1, 'EARLY_STOPPING': True, 'PATIENCE': 3, 'MIN_DELTA': 0.001, 'MAXPOOL': 2, 'OBO_SIZES': array([256, 128]), 'PROTOTYPE_NUM': 20, 'DROPOUT': 0.4, 'HIDDEN_SIZES': array([512]), 'KERNEL_SIZES': array([7])}\n"
     ]
    },
    {
     "name": "stderr",
     "output_type": "stream",
     "text": [
      "100%|██████████| 115/115 [00:21<00:00,  5.41it/s]\n",
      "100%|██████████| 16/16 [00:01<00:00, 13.73it/s]\n",
      "  1%|          | 1/115 [00:00<00:18,  6.31it/s]"
     ]
    },
    {
     "name": "stdout",
     "output_type": "stream",
     "text": [
      "Epoch: 0, train_loss: 1.0151057243347168, valid_loss: 0.8477910161018372\n"
     ]
    },
    {
     "name": "stderr",
     "output_type": "stream",
     "text": [
      "100%|██████████| 115/115 [00:21<00:00,  5.46it/s]\n",
      "100%|██████████| 16/16 [00:01<00:00, 13.47it/s]\n",
      "  1%|          | 1/115 [00:00<00:19,  5.89it/s]"
     ]
    },
    {
     "name": "stdout",
     "output_type": "stream",
     "text": [
      "Epoch: 1, train_loss: 0.6951470971107483, valid_loss: 0.5873767733573914\n"
     ]
    },
    {
     "name": "stderr",
     "output_type": "stream",
     "text": [
      "100%|██████████| 115/115 [00:21<00:00,  5.47it/s]\n",
      "100%|██████████| 16/16 [00:01<00:00, 13.89it/s]\n",
      "  1%|          | 1/115 [00:00<00:20,  5.68it/s]"
     ]
    },
    {
     "name": "stdout",
     "output_type": "stream",
     "text": [
      "Epoch: 2, train_loss: 0.5481290817260742, valid_loss: 0.5590610504150391\n"
     ]
    },
    {
     "name": "stderr",
     "output_type": "stream",
     "text": [
      "100%|██████████| 115/115 [00:20<00:00,  5.51it/s]\n",
      "100%|██████████| 16/16 [00:01<00:00, 13.45it/s]\n",
      "  1%|          | 1/115 [00:00<00:19,  5.81it/s]"
     ]
    },
    {
     "name": "stdout",
     "output_type": "stream",
     "text": [
      "Epoch: 3, train_loss: 0.5253949761390686, valid_loss: 0.5509613752365112\n"
     ]
    },
    {
     "name": "stderr",
     "output_type": "stream",
     "text": [
      "100%|██████████| 115/115 [00:21<00:00,  5.42it/s]\n",
      "100%|██████████| 16/16 [00:01<00:00, 13.31it/s]\n",
      "  1%|          | 1/115 [00:00<00:20,  5.59it/s]"
     ]
    },
    {
     "name": "stdout",
     "output_type": "stream",
     "text": [
      "Epoch: 4, train_loss: 0.5107825994491577, valid_loss: 0.5478651523590088\n"
     ]
    },
    {
     "name": "stderr",
     "output_type": "stream",
     "text": [
      "100%|██████████| 115/115 [00:21<00:00,  5.41it/s]\n",
      "100%|██████████| 16/16 [00:01<00:00, 13.54it/s]\n",
      "  1%|          | 1/115 [00:00<00:21,  5.41it/s]"
     ]
    },
    {
     "name": "stdout",
     "output_type": "stream",
     "text": [
      "Epoch: 5, train_loss: 0.4898677468299866, valid_loss: 0.5273607969284058\n"
     ]
    },
    {
     "name": "stderr",
     "output_type": "stream",
     "text": [
      "100%|██████████| 115/115 [00:21<00:00,  5.38it/s]\n",
      "100%|██████████| 16/16 [00:01<00:00, 13.48it/s]\n",
      "  1%|          | 1/115 [00:00<00:20,  5.49it/s]"
     ]
    },
    {
     "name": "stdout",
     "output_type": "stream",
     "text": [
      "Epoch: 6, train_loss: 0.4769129157066345, valid_loss: 0.5240888595581055\n"
     ]
    },
    {
     "name": "stderr",
     "output_type": "stream",
     "text": [
      "100%|██████████| 115/115 [00:21<00:00,  5.39it/s]\n",
      "100%|██████████| 16/16 [00:01<00:00, 13.76it/s]\n",
      "  1%|          | 1/115 [00:00<00:20,  5.54it/s]"
     ]
    },
    {
     "name": "stdout",
     "output_type": "stream",
     "text": [
      "Epoch: 7, train_loss: 0.46746736764907837, valid_loss: 0.5226764678955078\n"
     ]
    },
    {
     "name": "stderr",
     "output_type": "stream",
     "text": [
      "100%|██████████| 115/115 [00:20<00:00,  5.50it/s]\n",
      "100%|██████████| 16/16 [00:01<00:00, 13.18it/s]\n",
      "  1%|          | 1/115 [00:00<00:20,  5.57it/s]"
     ]
    },
    {
     "name": "stdout",
     "output_type": "stream",
     "text": [
      "Epoch: 8, train_loss: 0.45776093006134033, valid_loss: 0.5209559202194214\n"
     ]
    },
    {
     "name": "stderr",
     "output_type": "stream",
     "text": [
      "100%|██████████| 115/115 [00:20<00:00,  5.50it/s]\n",
      "100%|██████████| 16/16 [00:01<00:00, 13.53it/s]\n",
      "  1%|          | 1/115 [00:00<00:20,  5.64it/s]"
     ]
    },
    {
     "name": "stdout",
     "output_type": "stream",
     "text": [
      "Epoch: 9, train_loss: 0.44890427589416504, valid_loss: 0.5153573751449585\n"
     ]
    },
    {
     "name": "stderr",
     "output_type": "stream",
     "text": [
      "100%|██████████| 115/115 [00:21<00:00,  5.46it/s]\n",
      "100%|██████████| 16/16 [00:01<00:00, 13.72it/s]\n",
      "  1%|          | 1/115 [00:00<00:19,  5.91it/s]"
     ]
    },
    {
     "name": "stdout",
     "output_type": "stream",
     "text": [
      "Epoch: 10, train_loss: 0.4140574038028717, valid_loss: 0.4965786933898926\n"
     ]
    },
    {
     "name": "stderr",
     "output_type": "stream",
     "text": [
      "100%|██████████| 115/115 [00:21<00:00,  5.43it/s]\n",
      "100%|██████████| 16/16 [00:01<00:00, 13.54it/s]\n",
      "  1%|          | 1/115 [00:00<00:19,  5.93it/s]"
     ]
    },
    {
     "name": "stdout",
     "output_type": "stream",
     "text": [
      "Epoch: 11, train_loss: 0.393857479095459, valid_loss: 0.4770163595676422\n"
     ]
    },
    {
     "name": "stderr",
     "output_type": "stream",
     "text": [
      "100%|██████████| 115/115 [00:20<00:00,  5.52it/s]\n",
      "100%|██████████| 16/16 [00:01<00:00, 13.31it/s]\n",
      "  1%|          | 1/115 [00:00<00:20,  5.56it/s]"
     ]
    },
    {
     "name": "stdout",
     "output_type": "stream",
     "text": [
      "val loss increased, patience count:  1\n",
      "Epoch: 12, train_loss: 0.3760737478733063, valid_loss: 0.4772825241088867\n"
     ]
    },
    {
     "name": "stderr",
     "output_type": "stream",
     "text": [
      "100%|██████████| 115/115 [00:21<00:00,  5.43it/s]\n",
      "100%|██████████| 16/16 [00:01<00:00, 13.75it/s]\n",
      "  1%|          | 1/115 [00:00<00:20,  5.58it/s]"
     ]
    },
    {
     "name": "stdout",
     "output_type": "stream",
     "text": [
      "Epoch: 13, train_loss: 0.36342889070510864, valid_loss: 0.47478094696998596\n"
     ]
    },
    {
     "name": "stderr",
     "output_type": "stream",
     "text": [
      "100%|██████████| 115/115 [00:21<00:00,  5.41it/s]\n",
      "100%|██████████| 16/16 [00:01<00:00, 13.26it/s]\n",
      "  1%|          | 1/115 [00:00<00:19,  5.72it/s]"
     ]
    },
    {
     "name": "stdout",
     "output_type": "stream",
     "text": [
      "Epoch: 14, train_loss: 0.35223832726478577, valid_loss: 0.4726593494415283\n"
     ]
    },
    {
     "name": "stderr",
     "output_type": "stream",
     "text": [
      "100%|██████████| 115/115 [00:20<00:00,  5.48it/s]\n",
      "100%|██████████| 16/16 [00:01<00:00, 13.77it/s]\n",
      "  1%|          | 1/115 [00:00<00:20,  5.70it/s]"
     ]
    },
    {
     "name": "stdout",
     "output_type": "stream",
     "text": [
      "val loss increased, patience count:  1\n",
      "Epoch: 15, train_loss: 0.340472012758255, valid_loss: 0.47403615713119507\n"
     ]
    },
    {
     "name": "stderr",
     "output_type": "stream",
     "text": [
      "100%|██████████| 115/115 [00:21<00:00,  5.47it/s]\n",
      "100%|██████████| 16/16 [00:01<00:00, 13.87it/s]\n",
      "  1%|          | 1/115 [00:00<00:20,  5.59it/s]"
     ]
    },
    {
     "name": "stdout",
     "output_type": "stream",
     "text": [
      "Epoch: 16, train_loss: 0.32795825600624084, valid_loss: 0.46492141485214233\n"
     ]
    },
    {
     "name": "stderr",
     "output_type": "stream",
     "text": [
      "100%|██████████| 115/115 [00:21<00:00,  5.44it/s]\n",
      "100%|██████████| 16/16 [00:01<00:00, 13.57it/s]\n",
      "  1%|          | 1/115 [00:00<00:21,  5.24it/s]"
     ]
    },
    {
     "name": "stdout",
     "output_type": "stream",
     "text": [
      "val loss increased, patience count:  1\n",
      "Epoch: 17, train_loss: 0.323479562997818, valid_loss: 0.4733779728412628\n"
     ]
    },
    {
     "name": "stderr",
     "output_type": "stream",
     "text": [
      "100%|██████████| 115/115 [00:24<00:00,  4.77it/s]\n",
      "100%|██████████| 16/16 [00:01<00:00, 13.91it/s]\n",
      "  1%|          | 1/115 [00:00<00:20,  5.58it/s]"
     ]
    },
    {
     "name": "stdout",
     "output_type": "stream",
     "text": [
      "Epoch: 18, train_loss: 0.31315574049949646, valid_loss: 0.4629758298397064\n"
     ]
    },
    {
     "name": "stderr",
     "output_type": "stream",
     "text": [
      "100%|██████████| 115/115 [00:21<00:00,  5.41it/s]\n",
      "100%|██████████| 16/16 [00:01<00:00, 13.21it/s]\n"
     ]
    },
    {
     "name": "stdout",
     "output_type": "stream",
     "text": [
      "val loss increased, patience count:  1\n",
      "Epoch: 19, train_loss: 0.300758957862854, valid_loss: 0.470363050699234\n"
     ]
    },
    {
     "name": "stderr",
     "output_type": "stream",
     "text": [
      "\r",
      "  0%|          | 0/57 [00:00<?, ?it/s]"
     ]
    },
    {
     "name": "stdout",
     "output_type": "stream",
     "text": [
      "{'BATCH_SIZE': 256, 'EPOCHS': 50, 'OPTIMIZER': <class 'torch.optim.adam.Adam'>, 'LEARNING_RATE': 1e-05, 'LOSS': protop_loss_0.1_0.1, 'EARLY_STOPPING': True, 'PATIENCE': 3, 'MIN_DELTA': 0.0001, 'MAXPOOL': 2, 'OBO_SIZES': array([256, 256]), 'PROTOTYPE_NUM': 10, 'DROPOUT': 0.5, 'HIDDEN_SIZES': array([128]), 'KERNEL_SIZES': array([3])}\n"
     ]
    },
    {
     "name": "stderr",
     "output_type": "stream",
     "text": [
      "100%|██████████| 57/57 [00:37<00:00,  1.52it/s]\n",
      "100%|██████████| 8/8 [00:02<00:00,  3.79it/s]\n",
      "  0%|          | 0/57 [00:00<?, ?it/s]"
     ]
    },
    {
     "name": "stdout",
     "output_type": "stream",
     "text": [
      "Epoch: 0, train_loss: 0.6487420201301575, valid_loss: 0.6416587829589844\n"
     ]
    },
    {
     "name": "stderr",
     "output_type": "stream",
     "text": [
      "100%|██████████| 57/57 [00:37<00:00,  1.53it/s]\n",
      "100%|██████████| 8/8 [00:02<00:00,  3.68it/s]\n",
      "  0%|          | 0/57 [00:00<?, ?it/s]"
     ]
    },
    {
     "name": "stdout",
     "output_type": "stream",
     "text": [
      "Epoch: 1, train_loss: 0.6332907676696777, valid_loss: 0.6262348294258118\n"
     ]
    },
    {
     "name": "stderr",
     "output_type": "stream",
     "text": [
      "100%|██████████| 57/57 [00:40<00:00,  1.42it/s]\n",
      "100%|██████████| 8/8 [00:02<00:00,  3.90it/s]\n",
      "  0%|          | 0/57 [00:00<?, ?it/s]"
     ]
    },
    {
     "name": "stdout",
     "output_type": "stream",
     "text": [
      "Epoch: 2, train_loss: 0.6164990067481995, valid_loss: 0.6090583801269531\n"
     ]
    },
    {
     "name": "stderr",
     "output_type": "stream",
     "text": [
      "100%|██████████| 57/57 [00:36<00:00,  1.56it/s]\n",
      "100%|██████████| 8/8 [00:02<00:00,  3.57it/s]\n",
      "  0%|          | 0/57 [00:00<?, ?it/s]"
     ]
    },
    {
     "name": "stdout",
     "output_type": "stream",
     "text": [
      "Epoch: 3, train_loss: 0.598081648349762, valid_loss: 0.5912392139434814\n"
     ]
    },
    {
     "name": "stderr",
     "output_type": "stream",
     "text": [
      "100%|██████████| 57/57 [00:37<00:00,  1.53it/s]\n",
      "100%|██████████| 8/8 [00:02<00:00,  3.79it/s]\n",
      "  0%|          | 0/57 [00:00<?, ?it/s]"
     ]
    },
    {
     "name": "stdout",
     "output_type": "stream",
     "text": [
      "Epoch: 4, train_loss: 0.5796054601669312, valid_loss: 0.5725892782211304\n"
     ]
    },
    {
     "name": "stderr",
     "output_type": "stream",
     "text": [
      "100%|██████████| 57/57 [00:36<00:00,  1.55it/s]\n",
      "100%|██████████| 8/8 [00:02<00:00,  3.65it/s]\n",
      "  0%|          | 0/57 [00:00<?, ?it/s]"
     ]
    },
    {
     "name": "stdout",
     "output_type": "stream",
     "text": [
      "Epoch: 5, train_loss: 0.5612674951553345, valid_loss: 0.5544388294219971\n"
     ]
    },
    {
     "name": "stderr",
     "output_type": "stream",
     "text": [
      "100%|██████████| 57/57 [00:36<00:00,  1.55it/s]\n",
      "100%|██████████| 8/8 [00:02<00:00,  3.92it/s]\n",
      "  0%|          | 0/57 [00:00<?, ?it/s]"
     ]
    },
    {
     "name": "stdout",
     "output_type": "stream",
     "text": [
      "Epoch: 6, train_loss: 0.5436087250709534, valid_loss: 0.5387547016143799\n"
     ]
    },
    {
     "name": "stderr",
     "output_type": "stream",
     "text": [
      "100%|██████████| 57/57 [00:39<00:00,  1.45it/s]\n",
      "100%|██████████| 8/8 [00:02<00:00,  3.92it/s]\n",
      "  0%|          | 0/57 [00:00<?, ?it/s]"
     ]
    },
    {
     "name": "stdout",
     "output_type": "stream",
     "text": [
      "Epoch: 7, train_loss: 0.5276479125022888, valid_loss: 0.5224526524543762\n"
     ]
    },
    {
     "name": "stderr",
     "output_type": "stream",
     "text": [
      "100%|██████████| 57/57 [00:36<00:00,  1.55it/s]\n",
      "100%|██████████| 8/8 [00:02<00:00,  3.94it/s]\n",
      "  0%|          | 0/57 [00:00<?, ?it/s]"
     ]
    },
    {
     "name": "stdout",
     "output_type": "stream",
     "text": [
      "Epoch: 8, train_loss: 0.5129532814025879, valid_loss: 0.5100545883178711\n"
     ]
    },
    {
     "name": "stderr",
     "output_type": "stream",
     "text": [
      "100%|██████████| 57/57 [00:35<00:00,  1.60it/s]\n",
      "100%|██████████| 8/8 [00:02<00:00,  3.80it/s]\n",
      "  0%|          | 0/57 [00:00<?, ?it/s]"
     ]
    },
    {
     "name": "stdout",
     "output_type": "stream",
     "text": [
      "Epoch: 9, train_loss: 0.500393807888031, valid_loss: 0.5000563859939575\n"
     ]
    },
    {
     "name": "stderr",
     "output_type": "stream",
     "text": [
      "100%|██████████| 57/57 [00:36<00:00,  1.58it/s]\n",
      "100%|██████████| 8/8 [00:02<00:00,  3.74it/s]\n",
      "  0%|          | 0/57 [00:00<?, ?it/s]"
     ]
    },
    {
     "name": "stdout",
     "output_type": "stream",
     "text": [
      "Epoch: 10, train_loss: 0.4897521138191223, valid_loss: 0.4902428388595581\n"
     ]
    },
    {
     "name": "stderr",
     "output_type": "stream",
     "text": [
      "100%|██████████| 57/57 [00:35<00:00,  1.59it/s]\n",
      "100%|██████████| 8/8 [00:02<00:00,  3.89it/s]\n",
      "  0%|          | 0/57 [00:00<?, ?it/s]"
     ]
    },
    {
     "name": "stdout",
     "output_type": "stream",
     "text": [
      "Epoch: 11, train_loss: 0.48103344440460205, valid_loss: 0.48125922679901123\n"
     ]
    },
    {
     "name": "stderr",
     "output_type": "stream",
     "text": [
      "100%|██████████| 57/57 [00:37<00:00,  1.53it/s]\n",
      "100%|██████████| 8/8 [00:02<00:00,  2.71it/s]\n",
      "  0%|          | 0/57 [00:00<?, ?it/s]"
     ]
    },
    {
     "name": "stdout",
     "output_type": "stream",
     "text": [
      "Epoch: 12, train_loss: 0.47370827198028564, valid_loss: 0.47465139627456665\n"
     ]
    },
    {
     "name": "stderr",
     "output_type": "stream",
     "text": [
      "100%|██████████| 57/57 [00:46<00:00,  1.23it/s]\n",
      "100%|██████████| 8/8 [00:02<00:00,  3.68it/s]\n",
      "  0%|          | 0/57 [00:00<?, ?it/s]"
     ]
    },
    {
     "name": "stdout",
     "output_type": "stream",
     "text": [
      "Epoch: 13, train_loss: 0.46630868315696716, valid_loss: 0.4674062132835388\n"
     ]
    },
    {
     "name": "stderr",
     "output_type": "stream",
     "text": [
      "100%|██████████| 57/57 [00:36<00:00,  1.58it/s]\n",
      "100%|██████████| 8/8 [00:02<00:00,  3.73it/s]\n",
      "  0%|          | 0/57 [00:00<?, ?it/s]"
     ]
    },
    {
     "name": "stdout",
     "output_type": "stream",
     "text": [
      "Epoch: 14, train_loss: 0.46046677231788635, valid_loss: 0.4638209342956543\n"
     ]
    },
    {
     "name": "stderr",
     "output_type": "stream",
     "text": [
      "100%|██████████| 57/57 [00:36<00:00,  1.58it/s]\n",
      "100%|██████████| 8/8 [00:02<00:00,  3.69it/s]\n",
      "  0%|          | 0/57 [00:00<?, ?it/s]"
     ]
    },
    {
     "name": "stdout",
     "output_type": "stream",
     "text": [
      "Epoch: 15, train_loss: 0.45570245385169983, valid_loss: 0.4596463143825531\n"
     ]
    },
    {
     "name": "stderr",
     "output_type": "stream",
     "text": [
      "100%|██████████| 57/57 [00:36<00:00,  1.57it/s]\n",
      "100%|██████████| 8/8 [00:02<00:00,  3.46it/s]\n",
      "  0%|          | 0/57 [00:00<?, ?it/s]"
     ]
    },
    {
     "name": "stdout",
     "output_type": "stream",
     "text": [
      "Epoch: 16, train_loss: 0.4513571858406067, valid_loss: 0.4563359320163727\n"
     ]
    },
    {
     "name": "stderr",
     "output_type": "stream",
     "text": [
      "100%|██████████| 57/57 [00:36<00:00,  1.57it/s]\n",
      "100%|██████████| 8/8 [00:02<00:00,  3.92it/s]\n",
      "  0%|          | 0/57 [00:00<?, ?it/s]"
     ]
    },
    {
     "name": "stdout",
     "output_type": "stream",
     "text": [
      "Epoch: 17, train_loss: 0.44811317324638367, valid_loss: 0.45238444209098816\n"
     ]
    },
    {
     "name": "stderr",
     "output_type": "stream",
     "text": [
      "100%|██████████| 57/57 [00:35<00:00,  1.59it/s]\n",
      "100%|██████████| 8/8 [00:02<00:00,  3.76it/s]\n",
      "  0%|          | 0/57 [00:00<?, ?it/s]"
     ]
    },
    {
     "name": "stdout",
     "output_type": "stream",
     "text": [
      "Epoch: 18, train_loss: 0.44512447714805603, valid_loss: 0.450553834438324\n"
     ]
    },
    {
     "name": "stderr",
     "output_type": "stream",
     "text": [
      "100%|██████████| 57/57 [00:36<00:00,  1.58it/s]\n",
      "100%|██████████| 8/8 [00:02<00:00,  3.80it/s]\n",
      "  0%|          | 0/57 [00:00<?, ?it/s]"
     ]
    },
    {
     "name": "stdout",
     "output_type": "stream",
     "text": [
      "Epoch: 19, train_loss: 0.44198834896087646, valid_loss: 0.44538840651512146\n"
     ]
    },
    {
     "name": "stderr",
     "output_type": "stream",
     "text": [
      "100%|██████████| 57/57 [00:36<00:00,  1.55it/s]\n",
      "100%|██████████| 8/8 [00:02<00:00,  3.80it/s]\n",
      "  0%|          | 0/57 [00:00<?, ?it/s]"
     ]
    },
    {
     "name": "stdout",
     "output_type": "stream",
     "text": [
      "Epoch: 20, train_loss: 0.4386126399040222, valid_loss: 0.44494304060935974\n"
     ]
    },
    {
     "name": "stderr",
     "output_type": "stream",
     "text": [
      "100%|██████████| 57/57 [00:37<00:00,  1.54it/s]\n",
      "100%|██████████| 8/8 [00:02<00:00,  3.84it/s]\n",
      "  0%|          | 0/57 [00:00<?, ?it/s]"
     ]
    },
    {
     "name": "stdout",
     "output_type": "stream",
     "text": [
      "Epoch: 21, train_loss: 0.4368000328540802, valid_loss: 0.44169190526008606\n"
     ]
    },
    {
     "name": "stderr",
     "output_type": "stream",
     "text": [
      "100%|██████████| 57/57 [00:35<00:00,  1.58it/s]\n",
      "100%|██████████| 8/8 [00:02<00:00,  3.86it/s]\n",
      "  0%|          | 0/57 [00:00<?, ?it/s]"
     ]
    },
    {
     "name": "stdout",
     "output_type": "stream",
     "text": [
      "Epoch: 22, train_loss: 0.43458959460258484, valid_loss: 0.4405853748321533\n"
     ]
    },
    {
     "name": "stderr",
     "output_type": "stream",
     "text": [
      "100%|██████████| 57/57 [00:36<00:00,  1.57it/s]\n",
      "100%|██████████| 8/8 [00:02<00:00,  3.81it/s]\n",
      "  0%|          | 0/57 [00:00<?, ?it/s]"
     ]
    },
    {
     "name": "stdout",
     "output_type": "stream",
     "text": [
      "Epoch: 23, train_loss: 0.43321606516838074, valid_loss: 0.440432608127594\n"
     ]
    },
    {
     "name": "stderr",
     "output_type": "stream",
     "text": [
      "100%|██████████| 57/57 [00:36<00:00,  1.57it/s]\n",
      "100%|██████████| 8/8 [00:02<00:00,  3.84it/s]\n",
      "  0%|          | 0/57 [00:00<?, ?it/s]"
     ]
    },
    {
     "name": "stdout",
     "output_type": "stream",
     "text": [
      "Epoch: 24, train_loss: 0.43114912509918213, valid_loss: 0.43657857179641724\n"
     ]
    },
    {
     "name": "stderr",
     "output_type": "stream",
     "text": [
      "100%|██████████| 57/57 [00:35<00:00,  1.59it/s]\n",
      "100%|██████████| 8/8 [00:02<00:00,  3.58it/s]\n",
      "  0%|          | 0/57 [00:00<?, ?it/s]"
     ]
    },
    {
     "name": "stdout",
     "output_type": "stream",
     "text": [
      "Epoch: 25, train_loss: 0.42928779125213623, valid_loss: 0.434609591960907\n"
     ]
    },
    {
     "name": "stderr",
     "output_type": "stream",
     "text": [
      "100%|██████████| 57/57 [00:35<00:00,  1.60it/s]\n",
      "100%|██████████| 8/8 [00:02<00:00,  3.70it/s]\n",
      "  0%|          | 0/57 [00:00<?, ?it/s]"
     ]
    },
    {
     "name": "stdout",
     "output_type": "stream",
     "text": [
      "Epoch: 26, train_loss: 0.42839524149894714, valid_loss: 0.43236780166625977\n"
     ]
    },
    {
     "name": "stderr",
     "output_type": "stream",
     "text": [
      "100%|██████████| 57/57 [00:36<00:00,  1.56it/s]\n",
      "100%|██████████| 8/8 [00:02<00:00,  3.63it/s]\n",
      "  0%|          | 0/57 [00:00<?, ?it/s]"
     ]
    },
    {
     "name": "stdout",
     "output_type": "stream",
     "text": [
      "val loss increased, patience count:  1\n",
      "Epoch: 27, train_loss: 0.42687833309173584, valid_loss: 0.43381837010383606\n"
     ]
    },
    {
     "name": "stderr",
     "output_type": "stream",
     "text": [
      "100%|██████████| 57/57 [00:37<00:00,  1.54it/s]\n",
      "100%|██████████| 8/8 [00:02<00:00,  3.31it/s]\n",
      "  0%|          | 0/57 [00:00<?, ?it/s]"
     ]
    },
    {
     "name": "stdout",
     "output_type": "stream",
     "text": [
      "Epoch: 28, train_loss: 0.425334632396698, valid_loss: 0.43208539485931396\n"
     ]
    },
    {
     "name": "stderr",
     "output_type": "stream",
     "text": [
      "100%|██████████| 57/57 [00:36<00:00,  1.56it/s]\n",
      "100%|██████████| 8/8 [00:02<00:00,  3.84it/s]\n",
      "  0%|          | 0/57 [00:00<?, ?it/s]"
     ]
    },
    {
     "name": "stdout",
     "output_type": "stream",
     "text": [
      "Epoch: 29, train_loss: 0.4236774742603302, valid_loss: 0.42957085371017456\n"
     ]
    },
    {
     "name": "stderr",
     "output_type": "stream",
     "text": [
      "100%|██████████| 57/57 [00:37<00:00,  1.53it/s]\n",
      "100%|██████████| 8/8 [00:02<00:00,  3.93it/s]\n",
      "  0%|          | 0/57 [00:00<?, ?it/s]"
     ]
    },
    {
     "name": "stdout",
     "output_type": "stream",
     "text": [
      "Epoch: 30, train_loss: 0.42233842611312866, valid_loss: 0.42694804072380066\n"
     ]
    },
    {
     "name": "stderr",
     "output_type": "stream",
     "text": [
      "100%|██████████| 57/57 [00:36<00:00,  1.57it/s]\n",
      "100%|██████████| 8/8 [00:02<00:00,  4.00it/s]\n",
      "  0%|          | 0/57 [00:00<?, ?it/s]"
     ]
    },
    {
     "name": "stdout",
     "output_type": "stream",
     "text": [
      "val loss increased, patience count:  1\n",
      "Epoch: 31, train_loss: 0.4216808080673218, valid_loss: 0.42751649022102356\n"
     ]
    },
    {
     "name": "stderr",
     "output_type": "stream",
     "text": [
      "100%|██████████| 57/57 [00:36<00:00,  1.56it/s]\n",
      "100%|██████████| 8/8 [00:02<00:00,  3.93it/s]\n",
      "  0%|          | 0/57 [00:00<?, ?it/s]"
     ]
    },
    {
     "name": "stdout",
     "output_type": "stream",
     "text": [
      "val loss increased, patience count:  2\n",
      "Epoch: 32, train_loss: 0.42089492082595825, valid_loss: 0.4273260533809662\n"
     ]
    },
    {
     "name": "stderr",
     "output_type": "stream",
     "text": [
      "100%|██████████| 57/57 [00:36<00:00,  1.57it/s]\n",
      "100%|██████████| 8/8 [00:02<00:00,  3.90it/s]\n",
      "  0%|          | 0/57 [00:00<?, ?it/s]"
     ]
    },
    {
     "name": "stdout",
     "output_type": "stream",
     "text": [
      "Epoch: 33, train_loss: 0.4191499948501587, valid_loss: 0.4241900146007538\n"
     ]
    },
    {
     "name": "stderr",
     "output_type": "stream",
     "text": [
      "100%|██████████| 57/57 [00:35<00:00,  1.60it/s]\n",
      "100%|██████████| 8/8 [00:02<00:00,  3.83it/s]\n",
      "  0%|          | 0/57 [00:00<?, ?it/s]"
     ]
    },
    {
     "name": "stdout",
     "output_type": "stream",
     "text": [
      "val loss increased, patience count:  1\n",
      "Epoch: 34, train_loss: 0.4184967279434204, valid_loss: 0.4255078136920929\n"
     ]
    },
    {
     "name": "stderr",
     "output_type": "stream",
     "text": [
      "100%|██████████| 57/57 [00:35<00:00,  1.60it/s]\n",
      "100%|██████████| 8/8 [00:02<00:00,  3.87it/s]\n",
      "  0%|          | 0/57 [00:00<?, ?it/s]"
     ]
    },
    {
     "name": "stdout",
     "output_type": "stream",
     "text": [
      "val loss increased, patience count:  2\n",
      "Epoch: 35, train_loss: 0.4178049862384796, valid_loss: 0.4260129928588867\n"
     ]
    },
    {
     "name": "stderr",
     "output_type": "stream",
     "text": [
      "100%|██████████| 57/57 [00:35<00:00,  1.60it/s]\n",
      "100%|██████████| 8/8 [00:02<00:00,  3.93it/s]\n",
      "  0%|          | 0/57 [00:00<?, ?it/s]"
     ]
    },
    {
     "name": "stdout",
     "output_type": "stream",
     "text": [
      "val loss increased, patience count:  3\n",
      "Epoch: 36, train_loss: 0.41694188117980957, valid_loss: 0.4246535301208496\n"
     ]
    },
    {
     "name": "stderr",
     "output_type": "stream",
     "text": [
      "100%|██████████| 57/57 [00:36<00:00,  1.57it/s]\n",
      "100%|██████████| 8/8 [00:02<00:00,  3.85it/s]\n",
      "  0%|          | 0/57 [00:00<?, ?it/s]"
     ]
    },
    {
     "name": "stdout",
     "output_type": "stream",
     "text": [
      "Epoch: 37, train_loss: 0.41610080003738403, valid_loss: 0.4223661720752716\n"
     ]
    },
    {
     "name": "stderr",
     "output_type": "stream",
     "text": [
      "100%|██████████| 57/57 [00:35<00:00,  1.60it/s]\n",
      "100%|██████████| 8/8 [00:02<00:00,  3.80it/s]\n",
      "  0%|          | 0/57 [00:00<?, ?it/s]"
     ]
    },
    {
     "name": "stdout",
     "output_type": "stream",
     "text": [
      "Epoch: 38, train_loss: 0.41610953211784363, valid_loss: 0.422309011220932\n"
     ]
    },
    {
     "name": "stderr",
     "output_type": "stream",
     "text": [
      "100%|██████████| 57/57 [00:36<00:00,  1.57it/s]\n",
      "100%|██████████| 8/8 [00:02<00:00,  3.29it/s]\n",
      "  0%|          | 0/57 [00:00<?, ?it/s]"
     ]
    },
    {
     "name": "stdout",
     "output_type": "stream",
     "text": [
      "Epoch: 39, train_loss: 0.41551434993743896, valid_loss: 0.4209534525871277\n"
     ]
    },
    {
     "name": "stderr",
     "output_type": "stream",
     "text": [
      "100%|██████████| 57/57 [00:37<00:00,  1.50it/s]\n",
      "100%|██████████| 8/8 [00:02<00:00,  3.82it/s]\n",
      "  0%|          | 0/57 [00:00<?, ?it/s]"
     ]
    },
    {
     "name": "stdout",
     "output_type": "stream",
     "text": [
      "val loss increased, patience count:  1\n",
      "Epoch: 40, train_loss: 0.413943350315094, valid_loss: 0.4214786887168884\n"
     ]
    },
    {
     "name": "stderr",
     "output_type": "stream",
     "text": [
      "100%|██████████| 57/57 [00:35<00:00,  1.60it/s]\n",
      "100%|██████████| 8/8 [00:02<00:00,  3.84it/s]\n",
      "  0%|          | 0/57 [00:00<?, ?it/s]"
     ]
    },
    {
     "name": "stdout",
     "output_type": "stream",
     "text": [
      "Epoch: 41, train_loss: 0.4136559069156647, valid_loss: 0.42046788334846497\n"
     ]
    },
    {
     "name": "stderr",
     "output_type": "stream",
     "text": [
      "100%|██████████| 57/57 [00:35<00:00,  1.59it/s]\n",
      "100%|██████████| 8/8 [00:02<00:00,  3.88it/s]\n",
      "  0%|          | 0/57 [00:00<?, ?it/s]"
     ]
    },
    {
     "name": "stdout",
     "output_type": "stream",
     "text": [
      "Epoch: 42, train_loss: 0.4138266444206238, valid_loss: 0.4196452498435974\n"
     ]
    },
    {
     "name": "stderr",
     "output_type": "stream",
     "text": [
      "100%|██████████| 57/57 [00:35<00:00,  1.61it/s]\n",
      "100%|██████████| 8/8 [00:02<00:00,  3.90it/s]\n",
      "  0%|          | 0/57 [00:00<?, ?it/s]"
     ]
    },
    {
     "name": "stdout",
     "output_type": "stream",
     "text": [
      "Epoch: 43, train_loss: 0.41297805309295654, valid_loss: 0.4178994297981262\n"
     ]
    },
    {
     "name": "stderr",
     "output_type": "stream",
     "text": [
      "100%|██████████| 57/57 [00:35<00:00,  1.59it/s]\n",
      "100%|██████████| 8/8 [00:02<00:00,  3.73it/s]\n",
      "  0%|          | 0/57 [00:00<?, ?it/s]"
     ]
    },
    {
     "name": "stdout",
     "output_type": "stream",
     "text": [
      "val loss increased, patience count:  1\n",
      "Epoch: 44, train_loss: 0.4118393063545227, valid_loss: 0.41815993189811707\n"
     ]
    },
    {
     "name": "stderr",
     "output_type": "stream",
     "text": [
      "100%|██████████| 57/57 [00:36<00:00,  1.58it/s]\n",
      "100%|██████████| 8/8 [00:02<00:00,  3.78it/s]\n",
      "  0%|          | 0/57 [00:00<?, ?it/s]"
     ]
    },
    {
     "name": "stdout",
     "output_type": "stream",
     "text": [
      "val loss increased, patience count:  2\n",
      "Epoch: 45, train_loss: 0.4117850363254547, valid_loss: 0.41866761445999146\n"
     ]
    },
    {
     "name": "stderr",
     "output_type": "stream",
     "text": [
      "100%|██████████| 57/57 [00:35<00:00,  1.61it/s]\n",
      "100%|██████████| 8/8 [00:02<00:00,  3.87it/s]\n",
      "  0%|          | 0/57 [00:00<?, ?it/s]"
     ]
    },
    {
     "name": "stdout",
     "output_type": "stream",
     "text": [
      "Epoch: 46, train_loss: 0.4112779498100281, valid_loss: 0.4153655171394348\n"
     ]
    },
    {
     "name": "stderr",
     "output_type": "stream",
     "text": [
      "100%|██████████| 57/57 [00:35<00:00,  1.61it/s]\n",
      "100%|██████████| 8/8 [00:02<00:00,  3.89it/s]\n",
      "  0%|          | 0/57 [00:00<?, ?it/s]"
     ]
    },
    {
     "name": "stdout",
     "output_type": "stream",
     "text": [
      "val loss increased, patience count:  1\n",
      "Epoch: 47, train_loss: 0.41023609042167664, valid_loss: 0.4185781478881836\n"
     ]
    },
    {
     "name": "stderr",
     "output_type": "stream",
     "text": [
      "100%|██████████| 57/57 [00:36<00:00,  1.55it/s]\n",
      "100%|██████████| 8/8 [00:02<00:00,  3.77it/s]\n",
      "  0%|          | 0/57 [00:00<?, ?it/s]"
     ]
    },
    {
     "name": "stdout",
     "output_type": "stream",
     "text": [
      "val loss increased, patience count:  2\n",
      "Epoch: 48, train_loss: 0.41082537174224854, valid_loss: 0.4181239902973175\n"
     ]
    },
    {
     "name": "stderr",
     "output_type": "stream",
     "text": [
      "100%|██████████| 57/57 [00:35<00:00,  1.59it/s]\n",
      "100%|██████████| 8/8 [00:02<00:00,  3.77it/s]\n"
     ]
    },
    {
     "name": "stdout",
     "output_type": "stream",
     "text": [
      "val loss increased, patience count:  3\n",
      "Epoch: 49, train_loss: 0.409988671541214, valid_loss: 0.41703319549560547\n"
     ]
    },
    {
     "name": "stderr",
     "output_type": "stream",
     "text": [
      "  2%|▏         | 2/115 [00:00<00:09, 11.83it/s]"
     ]
    },
    {
     "name": "stdout",
     "output_type": "stream",
     "text": [
      "{'BATCH_SIZE': 128, 'EPOCHS': 50, 'OPTIMIZER': <class 'torch.optim.adam.Adam'>, 'LEARNING_RATE': 1e-05, 'LOSS': protop_loss_0.5_0.1, 'EARLY_STOPPING': True, 'PATIENCE': 3, 'MIN_DELTA': 0.001, 'MAXPOOL': 2, 'OBO_SIZES': array([256,  64]), 'PROTOTYPE_NUM': 10, 'DROPOUT': 0.5, 'HIDDEN_SIZES': array([128]), 'KERNEL_SIZES': array([9])}\n"
     ]
    },
    {
     "name": "stderr",
     "output_type": "stream",
     "text": [
      "100%|██████████| 115/115 [00:08<00:00, 12.99it/s]\n",
      "100%|██████████| 16/16 [00:00<00:00, 33.25it/s]\n",
      "  2%|▏         | 2/115 [00:00<00:08, 13.95it/s]"
     ]
    },
    {
     "name": "stdout",
     "output_type": "stream",
     "text": [
      "Epoch: 0, train_loss: 2.056844711303711, valid_loss: 1.9627946615219116\n"
     ]
    },
    {
     "name": "stderr",
     "output_type": "stream",
     "text": [
      "100%|██████████| 115/115 [00:08<00:00, 13.47it/s]\n",
      "100%|██████████| 16/16 [00:00<00:00, 34.11it/s]\n",
      "  2%|▏         | 2/115 [00:00<00:07, 14.63it/s]"
     ]
    },
    {
     "name": "stdout",
     "output_type": "stream",
     "text": [
      "Epoch: 1, train_loss: 1.8758829832077026, valid_loss: 1.8173702955245972\n"
     ]
    },
    {
     "name": "stderr",
     "output_type": "stream",
     "text": [
      "100%|██████████| 115/115 [00:08<00:00, 13.54it/s]\n",
      "100%|██████████| 16/16 [00:00<00:00, 32.51it/s]\n",
      "  2%|▏         | 2/115 [00:00<00:07, 14.79it/s]"
     ]
    },
    {
     "name": "stdout",
     "output_type": "stream",
     "text": [
      "Epoch: 2, train_loss: 1.7830724716186523, valid_loss: 1.763972282409668\n"
     ]
    },
    {
     "name": "stderr",
     "output_type": "stream",
     "text": [
      "100%|██████████| 115/115 [00:08<00:00, 13.32it/s]\n",
      "100%|██████████| 16/16 [00:00<00:00, 32.90it/s]\n",
      "  2%|▏         | 2/115 [00:00<00:08, 13.76it/s]"
     ]
    },
    {
     "name": "stdout",
     "output_type": "stream",
     "text": [
      "Epoch: 3, train_loss: 1.7300450801849365, valid_loss: 1.6961601972579956\n"
     ]
    },
    {
     "name": "stderr",
     "output_type": "stream",
     "text": [
      "100%|██████████| 115/115 [00:08<00:00, 13.40it/s]\n",
      "100%|██████████| 16/16 [00:00<00:00, 31.87it/s]\n",
      "  2%|▏         | 2/115 [00:00<00:08, 12.88it/s]"
     ]
    },
    {
     "name": "stdout",
     "output_type": "stream",
     "text": [
      "Epoch: 4, train_loss: 1.6711081266403198, valid_loss: 1.6524913311004639\n"
     ]
    },
    {
     "name": "stderr",
     "output_type": "stream",
     "text": [
      "100%|██████████| 115/115 [00:08<00:00, 13.24it/s]\n",
      "100%|██████████| 16/16 [00:00<00:00, 30.26it/s]\n",
      "  2%|▏         | 2/115 [00:00<00:08, 13.95it/s]"
     ]
    },
    {
     "name": "stdout",
     "output_type": "stream",
     "text": [
      "Epoch: 5, train_loss: 1.6106410026550293, valid_loss: 1.5881632566452026\n"
     ]
    },
    {
     "name": "stderr",
     "output_type": "stream",
     "text": [
      "100%|██████████| 115/115 [00:08<00:00, 13.19it/s]\n",
      "100%|██████████| 16/16 [00:00<00:00, 33.46it/s]\n",
      "  2%|▏         | 2/115 [00:00<00:07, 14.22it/s]"
     ]
    },
    {
     "name": "stdout",
     "output_type": "stream",
     "text": [
      "Epoch: 6, train_loss: 1.56891930103302, valid_loss: 1.568954348564148\n"
     ]
    },
    {
     "name": "stderr",
     "output_type": "stream",
     "text": [
      "100%|██████████| 115/115 [00:08<00:00, 13.53it/s]\n",
      "100%|██████████| 16/16 [00:00<00:00, 33.15it/s]\n",
      "  2%|▏         | 2/115 [00:00<00:08, 12.91it/s]"
     ]
    },
    {
     "name": "stdout",
     "output_type": "stream",
     "text": [
      "Epoch: 7, train_loss: 1.5557483434677124, valid_loss: 1.5574908256530762\n"
     ]
    },
    {
     "name": "stderr",
     "output_type": "stream",
     "text": [
      "100%|██████████| 115/115 [00:08<00:00, 13.45it/s]\n",
      "100%|██████████| 16/16 [00:00<00:00, 33.33it/s]\n",
      "  2%|▏         | 2/115 [00:00<00:08, 13.91it/s]"
     ]
    },
    {
     "name": "stdout",
     "output_type": "stream",
     "text": [
      "Epoch: 8, train_loss: 1.5476316213607788, valid_loss: 1.5501916408538818\n"
     ]
    },
    {
     "name": "stderr",
     "output_type": "stream",
     "text": [
      "100%|██████████| 115/115 [00:08<00:00, 13.47it/s]\n",
      "100%|██████████| 16/16 [00:00<00:00, 32.13it/s]\n",
      "  2%|▏         | 2/115 [00:00<00:07, 14.25it/s]"
     ]
    },
    {
     "name": "stdout",
     "output_type": "stream",
     "text": [
      "Epoch: 9, train_loss: 1.5400049686431885, valid_loss: 1.5444879531860352\n"
     ]
    },
    {
     "name": "stderr",
     "output_type": "stream",
     "text": [
      "100%|██████████| 115/115 [00:08<00:00, 13.45it/s]\n",
      "100%|██████████| 16/16 [00:00<00:00, 32.90it/s]\n",
      "  2%|▏         | 2/115 [00:00<00:09, 12.22it/s]"
     ]
    },
    {
     "name": "stdout",
     "output_type": "stream",
     "text": [
      "Epoch: 10, train_loss: 1.5349167585372925, valid_loss: 1.5379828214645386\n"
     ]
    },
    {
     "name": "stderr",
     "output_type": "stream",
     "text": [
      "100%|██████████| 115/115 [00:08<00:00, 13.06it/s]\n",
      "100%|██████████| 16/16 [00:00<00:00, 33.21it/s]\n",
      "  2%|▏         | 2/115 [00:00<00:08, 13.65it/s]"
     ]
    },
    {
     "name": "stdout",
     "output_type": "stream",
     "text": [
      "Epoch: 11, train_loss: 1.5297608375549316, valid_loss: 1.5345991849899292\n"
     ]
    },
    {
     "name": "stderr",
     "output_type": "stream",
     "text": [
      "100%|██████████| 115/115 [00:09<00:00, 12.63it/s]\n",
      "100%|██████████| 16/16 [00:00<00:00, 29.30it/s]\n",
      "  2%|▏         | 2/115 [00:00<00:09, 11.55it/s]"
     ]
    },
    {
     "name": "stdout",
     "output_type": "stream",
     "text": [
      "Epoch: 12, train_loss: 1.5253205299377441, valid_loss: 1.531158447265625\n"
     ]
    },
    {
     "name": "stderr",
     "output_type": "stream",
     "text": [
      "100%|██████████| 115/115 [00:08<00:00, 13.13it/s]\n",
      "100%|██████████| 16/16 [00:00<00:00, 33.71it/s]\n",
      "  2%|▏         | 2/115 [00:00<00:08, 12.84it/s]"
     ]
    },
    {
     "name": "stdout",
     "output_type": "stream",
     "text": [
      "Epoch: 13, train_loss: 1.5211024284362793, valid_loss: 1.5276122093200684\n"
     ]
    },
    {
     "name": "stderr",
     "output_type": "stream",
     "text": [
      "100%|██████████| 115/115 [00:08<00:00, 13.46it/s]\n",
      "100%|██████████| 16/16 [00:00<00:00, 33.08it/s]\n",
      "  2%|▏         | 2/115 [00:00<00:08, 12.78it/s]"
     ]
    },
    {
     "name": "stdout",
     "output_type": "stream",
     "text": [
      "Epoch: 14, train_loss: 1.5175681114196777, valid_loss: 1.5243533849716187\n"
     ]
    },
    {
     "name": "stderr",
     "output_type": "stream",
     "text": [
      "100%|██████████| 115/115 [00:08<00:00, 13.51it/s]\n",
      "100%|██████████| 16/16 [00:00<00:00, 32.64it/s]\n",
      "  2%|▏         | 2/115 [00:00<00:07, 14.73it/s]"
     ]
    },
    {
     "name": "stdout",
     "output_type": "stream",
     "text": [
      "Epoch: 15, train_loss: 1.5138190984725952, valid_loss: 1.5207103490829468\n"
     ]
    },
    {
     "name": "stderr",
     "output_type": "stream",
     "text": [
      "100%|██████████| 115/115 [00:09<00:00, 12.43it/s]\n",
      "100%|██████████| 16/16 [00:00<00:00, 33.27it/s]\n",
      "  1%|          | 1/115 [00:00<00:11,  9.76it/s]"
     ]
    },
    {
     "name": "stdout",
     "output_type": "stream",
     "text": [
      "Epoch: 16, train_loss: 1.507889747619629, valid_loss: 1.512811303138733\n"
     ]
    },
    {
     "name": "stderr",
     "output_type": "stream",
     "text": [
      "100%|██████████| 115/115 [00:08<00:00, 13.41it/s]\n",
      "100%|██████████| 16/16 [00:00<00:00, 31.78it/s]\n",
      "  2%|▏         | 2/115 [00:00<00:10, 11.14it/s]"
     ]
    },
    {
     "name": "stdout",
     "output_type": "stream",
     "text": [
      "Epoch: 17, train_loss: 1.5024820566177368, valid_loss: 1.5106475353240967\n"
     ]
    },
    {
     "name": "stderr",
     "output_type": "stream",
     "text": [
      "100%|██████████| 115/115 [00:08<00:00, 13.12it/s]\n",
      "100%|██████████| 16/16 [00:00<00:00, 32.16it/s]\n",
      "  2%|▏         | 2/115 [00:00<00:08, 13.35it/s]"
     ]
    },
    {
     "name": "stdout",
     "output_type": "stream",
     "text": [
      "Epoch: 18, train_loss: 1.4997806549072266, valid_loss: 1.5060330629348755\n"
     ]
    },
    {
     "name": "stderr",
     "output_type": "stream",
     "text": [
      "100%|██████████| 115/115 [00:08<00:00, 13.38it/s]\n",
      "100%|██████████| 16/16 [00:00<00:00, 32.56it/s]\n",
      "  2%|▏         | 2/115 [00:00<00:07, 14.45it/s]"
     ]
    },
    {
     "name": "stdout",
     "output_type": "stream",
     "text": [
      "Epoch: 19, train_loss: 1.4972742795944214, valid_loss: 1.5035359859466553\n"
     ]
    },
    {
     "name": "stderr",
     "output_type": "stream",
     "text": [
      "100%|██████████| 115/115 [00:08<00:00, 13.52it/s]\n",
      "100%|██████████| 16/16 [00:00<00:00, 33.03it/s]\n",
      "  2%|▏         | 2/115 [00:00<00:07, 14.19it/s]"
     ]
    },
    {
     "name": "stdout",
     "output_type": "stream",
     "text": [
      "Epoch: 20, train_loss: 1.4947872161865234, valid_loss: 1.5025596618652344\n"
     ]
    },
    {
     "name": "stderr",
     "output_type": "stream",
     "text": [
      "100%|██████████| 115/115 [00:09<00:00, 12.73it/s]\n",
      "100%|██████████| 16/16 [00:00<00:00, 32.79it/s]\n",
      "  2%|▏         | 2/115 [00:00<00:09, 12.30it/s]"
     ]
    },
    {
     "name": "stdout",
     "output_type": "stream",
     "text": [
      "Epoch: 21, train_loss: 1.4925389289855957, valid_loss: 1.5020766258239746\n"
     ]
    },
    {
     "name": "stderr",
     "output_type": "stream",
     "text": [
      "100%|██████████| 115/115 [00:08<00:00, 13.07it/s]\n",
      "100%|██████████| 16/16 [00:00<00:00, 33.18it/s]\n",
      "  2%|▏         | 2/115 [00:00<00:08, 13.40it/s]"
     ]
    },
    {
     "name": "stdout",
     "output_type": "stream",
     "text": [
      "Epoch: 22, train_loss: 1.4899280071258545, valid_loss: 1.4979978799819946\n"
     ]
    },
    {
     "name": "stderr",
     "output_type": "stream",
     "text": [
      "100%|██████████| 115/115 [00:08<00:00, 13.66it/s]\n",
      "100%|██████████| 16/16 [00:00<00:00, 33.48it/s]\n",
      "  2%|▏         | 2/115 [00:00<00:07, 14.63it/s]"
     ]
    },
    {
     "name": "stdout",
     "output_type": "stream",
     "text": [
      "Epoch: 23, train_loss: 1.4874141216278076, valid_loss: 1.4951467514038086\n"
     ]
    },
    {
     "name": "stderr",
     "output_type": "stream",
     "text": [
      "100%|██████████| 115/115 [00:08<00:00, 13.56it/s]\n",
      "100%|██████████| 16/16 [00:00<00:00, 33.52it/s]\n",
      "  2%|▏         | 2/115 [00:00<00:07, 14.67it/s]"
     ]
    },
    {
     "name": "stdout",
     "output_type": "stream",
     "text": [
      "Epoch: 24, train_loss: 1.4848966598510742, valid_loss: 1.4947172403335571\n"
     ]
    },
    {
     "name": "stderr",
     "output_type": "stream",
     "text": [
      "100%|██████████| 115/115 [00:08<00:00, 13.01it/s]\n",
      "100%|██████████| 16/16 [00:00<00:00, 32.28it/s]\n",
      "  2%|▏         | 2/115 [00:00<00:07, 14.41it/s]"
     ]
    },
    {
     "name": "stdout",
     "output_type": "stream",
     "text": [
      "Epoch: 25, train_loss: 1.4826246500015259, valid_loss: 1.4910608530044556\n"
     ]
    },
    {
     "name": "stderr",
     "output_type": "stream",
     "text": [
      "100%|██████████| 115/115 [00:08<00:00, 13.50it/s]\n",
      "100%|██████████| 16/16 [00:00<00:00, 32.21it/s]\n",
      "  2%|▏         | 2/115 [00:00<00:07, 14.35it/s]"
     ]
    },
    {
     "name": "stdout",
     "output_type": "stream",
     "text": [
      "Epoch: 26, train_loss: 1.4805091619491577, valid_loss: 1.4889674186706543\n"
     ]
    },
    {
     "name": "stderr",
     "output_type": "stream",
     "text": [
      "100%|██████████| 115/115 [00:08<00:00, 13.44it/s]\n",
      "100%|██████████| 16/16 [00:00<00:00, 33.16it/s]\n",
      "  2%|▏         | 2/115 [00:00<00:08, 13.85it/s]"
     ]
    },
    {
     "name": "stdout",
     "output_type": "stream",
     "text": [
      "Epoch: 27, train_loss: 1.4781396389007568, valid_loss: 1.4859082698822021\n"
     ]
    },
    {
     "name": "stderr",
     "output_type": "stream",
     "text": [
      "100%|██████████| 115/115 [00:08<00:00, 13.52it/s]\n",
      "100%|██████████| 16/16 [00:00<00:00, 33.35it/s]\n",
      "  2%|▏         | 2/115 [00:00<00:07, 14.39it/s]"
     ]
    },
    {
     "name": "stdout",
     "output_type": "stream",
     "text": [
      "Epoch: 28, train_loss: 1.4688513278961182, valid_loss: 1.4674464464187622\n"
     ]
    },
    {
     "name": "stderr",
     "output_type": "stream",
     "text": [
      "100%|██████████| 115/115 [00:08<00:00, 13.44it/s]\n",
      "100%|██████████| 16/16 [00:00<00:00, 32.93it/s]\n",
      "  2%|▏         | 2/115 [00:00<00:07, 14.60it/s]"
     ]
    },
    {
     "name": "stdout",
     "output_type": "stream",
     "text": [
      "Epoch: 29, train_loss: 1.4538474082946777, valid_loss: 1.464239239692688\n"
     ]
    },
    {
     "name": "stderr",
     "output_type": "stream",
     "text": [
      "100%|██████████| 115/115 [00:08<00:00, 13.59it/s]\n",
      "100%|██████████| 16/16 [00:00<00:00, 32.85it/s]\n",
      "  2%|▏         | 2/115 [00:00<00:07, 15.67it/s]"
     ]
    },
    {
     "name": "stdout",
     "output_type": "stream",
     "text": [
      "Epoch: 30, train_loss: 1.4509050846099854, valid_loss: 1.459589958190918\n"
     ]
    },
    {
     "name": "stderr",
     "output_type": "stream",
     "text": [
      "100%|██████████| 115/115 [00:08<00:00, 13.31it/s]\n",
      "100%|██████████| 16/16 [00:00<00:00, 33.36it/s]\n",
      "  2%|▏         | 2/115 [00:00<00:08, 14.00it/s]"
     ]
    },
    {
     "name": "stdout",
     "output_type": "stream",
     "text": [
      "Epoch: 31, train_loss: 1.4362149238586426, valid_loss: 1.41425621509552\n"
     ]
    },
    {
     "name": "stderr",
     "output_type": "stream",
     "text": [
      "100%|██████████| 115/115 [00:08<00:00, 13.23it/s]\n",
      "100%|██████████| 16/16 [00:00<00:00, 34.10it/s]\n",
      "  2%|▏         | 2/115 [00:00<00:08, 13.47it/s]"
     ]
    },
    {
     "name": "stdout",
     "output_type": "stream",
     "text": [
      "Epoch: 32, train_loss: 1.3956869840621948, valid_loss: 1.4064128398895264\n"
     ]
    },
    {
     "name": "stderr",
     "output_type": "stream",
     "text": [
      "100%|██████████| 115/115 [00:08<00:00, 13.32it/s]\n",
      "100%|██████████| 16/16 [00:00<00:00, 31.23it/s]\n",
      "  2%|▏         | 2/115 [00:00<00:09, 11.75it/s]"
     ]
    },
    {
     "name": "stdout",
     "output_type": "stream",
     "text": [
      "Epoch: 33, train_loss: 1.3917752504348755, valid_loss: 1.403207540512085\n"
     ]
    },
    {
     "name": "stderr",
     "output_type": "stream",
     "text": [
      "100%|██████████| 115/115 [00:08<00:00, 13.05it/s]\n",
      "100%|██████████| 16/16 [00:00<00:00, 32.96it/s]\n",
      "  2%|▏         | 2/115 [00:00<00:07, 14.87it/s]"
     ]
    },
    {
     "name": "stdout",
     "output_type": "stream",
     "text": [
      "Epoch: 34, train_loss: 1.3890304565429688, valid_loss: 1.4011868238449097\n"
     ]
    },
    {
     "name": "stderr",
     "output_type": "stream",
     "text": [
      "100%|██████████| 115/115 [00:08<00:00, 13.58it/s]\n",
      "100%|██████████| 16/16 [00:00<00:00, 33.89it/s]\n",
      "  2%|▏         | 2/115 [00:00<00:08, 13.48it/s]"
     ]
    },
    {
     "name": "stdout",
     "output_type": "stream",
     "text": [
      "Epoch: 35, train_loss: 1.3868800401687622, valid_loss: 1.4002864360809326\n"
     ]
    },
    {
     "name": "stderr",
     "output_type": "stream",
     "text": [
      "100%|██████████| 115/115 [00:08<00:00, 13.56it/s]\n",
      "100%|██████████| 16/16 [00:00<00:00, 33.63it/s]\n",
      "  2%|▏         | 2/115 [00:00<00:08, 13.88it/s]"
     ]
    },
    {
     "name": "stdout",
     "output_type": "stream",
     "text": [
      "Epoch: 36, train_loss: 1.3851748704910278, valid_loss: 1.3992184400558472\n"
     ]
    },
    {
     "name": "stderr",
     "output_type": "stream",
     "text": [
      "100%|██████████| 115/115 [00:08<00:00, 12.99it/s]\n",
      "100%|██████████| 16/16 [00:00<00:00, 32.78it/s]\n",
      "  2%|▏         | 2/115 [00:00<00:08, 13.95it/s]"
     ]
    },
    {
     "name": "stdout",
     "output_type": "stream",
     "text": [
      "Epoch: 37, train_loss: 1.383344054222107, valid_loss: 1.3973093032836914\n"
     ]
    },
    {
     "name": "stderr",
     "output_type": "stream",
     "text": [
      "100%|██████████| 115/115 [00:08<00:00, 13.29it/s]\n",
      "100%|██████████| 16/16 [00:00<00:00, 32.73it/s]\n",
      "  2%|▏         | 2/115 [00:00<00:07, 15.12it/s]"
     ]
    },
    {
     "name": "stdout",
     "output_type": "stream",
     "text": [
      "Epoch: 38, train_loss: 1.3815363645553589, valid_loss: 1.3948278427124023\n"
     ]
    },
    {
     "name": "stderr",
     "output_type": "stream",
     "text": [
      "100%|██████████| 115/115 [00:08<00:00, 12.87it/s]\n",
      "100%|██████████| 16/16 [00:00<00:00, 32.71it/s]\n",
      "  2%|▏         | 2/115 [00:00<00:07, 14.34it/s]"
     ]
    },
    {
     "name": "stdout",
     "output_type": "stream",
     "text": [
      "Epoch: 39, train_loss: 1.3800630569458008, valid_loss: 1.3940629959106445\n"
     ]
    },
    {
     "name": "stderr",
     "output_type": "stream",
     "text": [
      "100%|██████████| 115/115 [00:08<00:00, 13.46it/s]\n",
      "100%|██████████| 16/16 [00:00<00:00, 30.11it/s]\n",
      "  2%|▏         | 2/115 [00:00<00:08, 13.50it/s]"
     ]
    },
    {
     "name": "stdout",
     "output_type": "stream",
     "text": [
      "Epoch: 40, train_loss: 1.3782124519348145, valid_loss: 1.3905690908432007\n"
     ]
    },
    {
     "name": "stderr",
     "output_type": "stream",
     "text": [
      "100%|██████████| 115/115 [00:08<00:00, 13.19it/s]\n",
      "100%|██████████| 16/16 [00:00<00:00, 32.61it/s]\n",
      "  2%|▏         | 2/115 [00:00<00:07, 15.23it/s]"
     ]
    },
    {
     "name": "stdout",
     "output_type": "stream",
     "text": [
      "Epoch: 41, train_loss: 1.376710295677185, valid_loss: 1.3899743556976318\n"
     ]
    },
    {
     "name": "stderr",
     "output_type": "stream",
     "text": [
      "100%|██████████| 115/115 [00:08<00:00, 13.53it/s]\n",
      "100%|██████████| 16/16 [00:00<00:00, 31.67it/s]\n",
      "  2%|▏         | 2/115 [00:00<00:08, 14.05it/s]"
     ]
    },
    {
     "name": "stdout",
     "output_type": "stream",
     "text": [
      "val loss increased, patience count:  1\n",
      "Epoch: 42, train_loss: 1.3752377033233643, valid_loss: 1.3906210660934448\n"
     ]
    },
    {
     "name": "stderr",
     "output_type": "stream",
     "text": [
      "100%|██████████| 115/115 [00:08<00:00, 13.11it/s]\n",
      "100%|██████████| 16/16 [00:00<00:00, 31.42it/s]\n",
      "  2%|▏         | 2/115 [00:00<00:07, 14.67it/s]"
     ]
    },
    {
     "name": "stdout",
     "output_type": "stream",
     "text": [
      "Epoch: 43, train_loss: 1.3734767436981201, valid_loss: 1.387162208557129\n"
     ]
    },
    {
     "name": "stderr",
     "output_type": "stream",
     "text": [
      "100%|██████████| 115/115 [00:08<00:00, 13.28it/s]\n",
      "100%|██████████| 16/16 [00:00<00:00, 33.90it/s]\n",
      "  2%|▏         | 2/115 [00:00<00:07, 14.15it/s]"
     ]
    },
    {
     "name": "stdout",
     "output_type": "stream",
     "text": [
      "Epoch: 44, train_loss: 1.3721281290054321, valid_loss: 1.3866668939590454\n"
     ]
    },
    {
     "name": "stderr",
     "output_type": "stream",
     "text": [
      "100%|██████████| 115/115 [00:08<00:00, 13.58it/s]\n",
      "100%|██████████| 16/16 [00:00<00:00, 30.41it/s]\n",
      "  2%|▏         | 2/115 [00:00<00:08, 12.75it/s]"
     ]
    },
    {
     "name": "stdout",
     "output_type": "stream",
     "text": [
      "Epoch: 45, train_loss: 1.3703557252883911, valid_loss: 1.3858215808868408\n"
     ]
    },
    {
     "name": "stderr",
     "output_type": "stream",
     "text": [
      "100%|██████████| 115/115 [00:08<00:00, 12.91it/s]\n",
      "100%|██████████| 16/16 [00:00<00:00, 25.87it/s]\n",
      "  2%|▏         | 2/115 [00:00<00:10, 10.82it/s]"
     ]
    },
    {
     "name": "stdout",
     "output_type": "stream",
     "text": [
      "Epoch: 46, train_loss: 1.3689770698547363, valid_loss: 1.3818272352218628\n"
     ]
    },
    {
     "name": "stderr",
     "output_type": "stream",
     "text": [
      "100%|██████████| 115/115 [00:09<00:00, 11.83it/s]\n",
      "100%|██████████| 16/16 [00:00<00:00, 30.56it/s]\n",
      "  1%|          | 1/115 [00:00<00:11,  9.61it/s]"
     ]
    },
    {
     "name": "stdout",
     "output_type": "stream",
     "text": [
      "val loss increased, patience count:  1\n",
      "Epoch: 47, train_loss: 1.3673185110092163, valid_loss: 1.38206148147583\n"
     ]
    },
    {
     "name": "stderr",
     "output_type": "stream",
     "text": [
      "100%|██████████| 115/115 [00:08<00:00, 13.36it/s]\n",
      "100%|██████████| 16/16 [00:00<00:00, 34.11it/s]\n",
      "  2%|▏         | 2/115 [00:00<00:08, 13.16it/s]"
     ]
    },
    {
     "name": "stdout",
     "output_type": "stream",
     "text": [
      "Epoch: 48, train_loss: 1.3657934665679932, valid_loss: 1.3798835277557373\n"
     ]
    },
    {
     "name": "stderr",
     "output_type": "stream",
     "text": [
      "100%|██████████| 115/115 [00:08<00:00, 13.41it/s]\n",
      "100%|██████████| 16/16 [00:00<00:00, 32.06it/s]\n"
     ]
    },
    {
     "name": "stdout",
     "output_type": "stream",
     "text": [
      "Epoch: 49, train_loss: 1.3637925386428833, valid_loss: 1.3789886236190796\n"
     ]
    },
    {
     "name": "stderr",
     "output_type": "stream",
     "text": [
      "\r",
      "  0%|          | 0/57 [00:00<?, ?it/s]"
     ]
    },
    {
     "name": "stdout",
     "output_type": "stream",
     "text": [
      "{'BATCH_SIZE': 256, 'EPOCHS': 20, 'OPTIMIZER': <class 'torch.optim.adam.Adam'>, 'LEARNING_RATE': 5e-05, 'LOSS': protop_loss_0.3_0.1, 'EARLY_STOPPING': True, 'PATIENCE': 2, 'MIN_DELTA': 5e-05, 'MAXPOOL': 2, 'OBO_SIZES': array([256, 256]), 'PROTOTYPE_NUM': 10, 'DROPOUT': 0.6, 'HIDDEN_SIZES': array([128]), 'KERNEL_SIZES': array([9])}\n"
     ]
    },
    {
     "name": "stderr",
     "output_type": "stream",
     "text": [
      "100%|██████████| 57/57 [00:37<00:00,  1.51it/s]\n",
      "100%|██████████| 8/8 [00:02<00:00,  3.57it/s]\n",
      "  0%|          | 0/57 [00:00<?, ?it/s]"
     ]
    },
    {
     "name": "stdout",
     "output_type": "stream",
     "text": [
      "Epoch: 0, train_loss: 2.022331476211548, valid_loss: 1.787116289138794\n"
     ]
    },
    {
     "name": "stderr",
     "output_type": "stream",
     "text": [
      "100%|██████████| 57/57 [00:37<00:00,  1.52it/s]\n",
      "100%|██████████| 8/8 [00:02<00:00,  3.60it/s]\n",
      "  0%|          | 0/57 [00:00<?, ?it/s]"
     ]
    },
    {
     "name": "stdout",
     "output_type": "stream",
     "text": [
      "Epoch: 1, train_loss: 1.5872423648834229, valid_loss: 1.4355049133300781\n"
     ]
    },
    {
     "name": "stderr",
     "output_type": "stream",
     "text": [
      "100%|██████████| 57/57 [00:37<00:00,  1.54it/s]\n",
      "100%|██████████| 8/8 [00:02<00:00,  2.99it/s]\n",
      "  0%|          | 0/57 [00:00<?, ?it/s]"
     ]
    },
    {
     "name": "stdout",
     "output_type": "stream",
     "text": [
      "Epoch: 2, train_loss: 1.3515214920043945, valid_loss: 1.316002368927002\n"
     ]
    },
    {
     "name": "stderr",
     "output_type": "stream",
     "text": [
      "100%|██████████| 57/57 [00:38<00:00,  1.48it/s]\n",
      "100%|██████████| 8/8 [00:02<00:00,  3.52it/s]\n",
      "  0%|          | 0/57 [00:00<?, ?it/s]"
     ]
    },
    {
     "name": "stdout",
     "output_type": "stream",
     "text": [
      "Epoch: 3, train_loss: 1.2853728532791138, valid_loss: 1.2836631536483765\n"
     ]
    },
    {
     "name": "stderr",
     "output_type": "stream",
     "text": [
      "100%|██████████| 57/57 [00:39<00:00,  1.46it/s]\n",
      "100%|██████████| 8/8 [00:02<00:00,  3.77it/s]\n",
      "  0%|          | 0/57 [00:00<?, ?it/s]"
     ]
    },
    {
     "name": "stdout",
     "output_type": "stream",
     "text": [
      "Epoch: 4, train_loss: 1.2572983503341675, valid_loss: 1.2474231719970703\n"
     ]
    },
    {
     "name": "stderr",
     "output_type": "stream",
     "text": [
      "100%|██████████| 57/57 [00:37<00:00,  1.53it/s]\n",
      "100%|██████████| 8/8 [00:02<00:00,  3.77it/s]\n",
      "  0%|          | 0/57 [00:00<?, ?it/s]"
     ]
    },
    {
     "name": "stdout",
     "output_type": "stream",
     "text": [
      "Epoch: 5, train_loss: 1.231143832206726, valid_loss: 1.2363848686218262\n"
     ]
    },
    {
     "name": "stderr",
     "output_type": "stream",
     "text": [
      "100%|██████████| 57/57 [00:36<00:00,  1.56it/s]\n",
      "100%|██████████| 8/8 [00:02<00:00,  3.77it/s]\n",
      "  0%|          | 0/57 [00:00<?, ?it/s]"
     ]
    },
    {
     "name": "stdout",
     "output_type": "stream",
     "text": [
      "Epoch: 6, train_loss: 1.2235536575317383, valid_loss: 1.2362796068191528\n"
     ]
    },
    {
     "name": "stderr",
     "output_type": "stream",
     "text": [
      "100%|██████████| 57/57 [00:36<00:00,  1.55it/s]\n",
      "100%|██████████| 8/8 [00:02<00:00,  3.78it/s]\n",
      "  0%|          | 0/57 [00:00<?, ?it/s]"
     ]
    },
    {
     "name": "stdout",
     "output_type": "stream",
     "text": [
      "Epoch: 7, train_loss: 1.2129756212234497, valid_loss: 1.2194879055023193\n"
     ]
    },
    {
     "name": "stderr",
     "output_type": "stream",
     "text": [
      "100%|██████████| 57/57 [00:37<00:00,  1.51it/s]\n",
      "100%|██████████| 8/8 [00:02<00:00,  3.66it/s]\n",
      "  0%|          | 0/57 [00:00<?, ?it/s]"
     ]
    },
    {
     "name": "stdout",
     "output_type": "stream",
     "text": [
      "Epoch: 8, train_loss: 1.1733907461166382, valid_loss: 1.1523528099060059\n"
     ]
    },
    {
     "name": "stderr",
     "output_type": "stream",
     "text": [
      "100%|██████████| 57/57 [00:37<00:00,  1.53it/s]\n",
      "100%|██████████| 8/8 [00:02<00:00,  3.80it/s]\n",
      "  0%|          | 0/57 [00:00<?, ?it/s]"
     ]
    },
    {
     "name": "stdout",
     "output_type": "stream",
     "text": [
      "Epoch: 9, train_loss: 1.1238030195236206, valid_loss: 1.125893235206604\n"
     ]
    },
    {
     "name": "stderr",
     "output_type": "stream",
     "text": [
      "100%|██████████| 57/57 [00:36<00:00,  1.54it/s]\n",
      "100%|██████████| 8/8 [00:02<00:00,  2.68it/s]\n",
      "  0%|          | 0/57 [00:00<?, ?it/s]"
     ]
    },
    {
     "name": "stdout",
     "output_type": "stream",
     "text": [
      "Epoch: 10, train_loss: 1.113003134727478, valid_loss: 1.121355414390564\n"
     ]
    },
    {
     "name": "stderr",
     "output_type": "stream",
     "text": [
      "100%|██████████| 57/57 [00:38<00:00,  1.48it/s]\n",
      "100%|██████████| 8/8 [00:02<00:00,  3.52it/s]\n",
      "  0%|          | 0/57 [00:00<?, ?it/s]"
     ]
    },
    {
     "name": "stdout",
     "output_type": "stream",
     "text": [
      "Epoch: 11, train_loss: 1.090004801750183, valid_loss: 1.0831847190856934\n"
     ]
    },
    {
     "name": "stderr",
     "output_type": "stream",
     "text": [
      "100%|██████████| 57/57 [00:37<00:00,  1.52it/s]\n",
      "100%|██████████| 8/8 [00:02<00:00,  3.75it/s]\n",
      "  0%|          | 0/57 [00:00<?, ?it/s]"
     ]
    },
    {
     "name": "stdout",
     "output_type": "stream",
     "text": [
      "Epoch: 12, train_loss: 1.0636131763458252, valid_loss: 1.074035406112671\n"
     ]
    },
    {
     "name": "stderr",
     "output_type": "stream",
     "text": [
      "100%|██████████| 57/57 [00:36<00:00,  1.54it/s]\n",
      "100%|██████████| 8/8 [00:02<00:00,  3.79it/s]\n",
      "  0%|          | 0/57 [00:00<?, ?it/s]"
     ]
    },
    {
     "name": "stdout",
     "output_type": "stream",
     "text": [
      "Epoch: 13, train_loss: 1.0556973218917847, valid_loss: 1.0630379915237427\n"
     ]
    },
    {
     "name": "stderr",
     "output_type": "stream",
     "text": [
      "100%|██████████| 57/57 [00:36<00:00,  1.55it/s]\n",
      "100%|██████████| 8/8 [00:02<00:00,  3.67it/s]\n",
      "  0%|          | 0/57 [00:00<?, ?it/s]"
     ]
    },
    {
     "name": "stdout",
     "output_type": "stream",
     "text": [
      "Epoch: 14, train_loss: 1.0410752296447754, valid_loss: 1.0519983768463135\n"
     ]
    },
    {
     "name": "stderr",
     "output_type": "stream",
     "text": [
      "100%|██████████| 57/57 [00:37<00:00,  1.53it/s]\n",
      "100%|██████████| 8/8 [00:02<00:00,  3.77it/s]\n",
      "  0%|          | 0/57 [00:00<?, ?it/s]"
     ]
    },
    {
     "name": "stdout",
     "output_type": "stream",
     "text": [
      "Epoch: 15, train_loss: 1.0274850130081177, valid_loss: 1.0240278244018555\n"
     ]
    },
    {
     "name": "stderr",
     "output_type": "stream",
     "text": [
      "100%|██████████| 57/57 [00:38<00:00,  1.49it/s]\n",
      "100%|██████████| 8/8 [00:02<00:00,  3.77it/s]\n",
      "  0%|          | 0/57 [00:00<?, ?it/s]"
     ]
    },
    {
     "name": "stdout",
     "output_type": "stream",
     "text": [
      "Epoch: 16, train_loss: 1.0065805912017822, valid_loss: 1.0219600200653076\n"
     ]
    },
    {
     "name": "stderr",
     "output_type": "stream",
     "text": [
      "100%|██████████| 57/57 [00:37<00:00,  1.54it/s]\n",
      "100%|██████████| 8/8 [00:02<00:00,  3.69it/s]\n",
      "  0%|          | 0/57 [00:00<?, ?it/s]"
     ]
    },
    {
     "name": "stdout",
     "output_type": "stream",
     "text": [
      "Epoch: 17, train_loss: 1.0026682615280151, valid_loss: 1.0149030685424805\n"
     ]
    },
    {
     "name": "stderr",
     "output_type": "stream",
     "text": [
      "100%|██████████| 57/57 [00:37<00:00,  1.53it/s]\n",
      "100%|██████████| 8/8 [00:02<00:00,  3.51it/s]\n",
      "  0%|          | 0/57 [00:00<?, ?it/s]"
     ]
    },
    {
     "name": "stdout",
     "output_type": "stream",
     "text": [
      "Epoch: 18, train_loss: 0.9961273670196533, valid_loss: 1.0123313665390015\n"
     ]
    },
    {
     "name": "stderr",
     "output_type": "stream",
     "text": [
      "100%|██████████| 57/57 [00:36<00:00,  1.55it/s]\n",
      "100%|██████████| 8/8 [00:02<00:00,  3.73it/s]\n"
     ]
    },
    {
     "name": "stdout",
     "output_type": "stream",
     "text": [
      "Epoch: 19, train_loss: 0.9896456599235535, valid_loss: 0.9981120228767395\n"
     ]
    },
    {
     "name": "stderr",
     "output_type": "stream",
     "text": [
      "\r",
      "  0%|          | 0/28 [00:00<?, ?it/s]"
     ]
    },
    {
     "name": "stdout",
     "output_type": "stream",
     "text": [
      "{'BATCH_SIZE': 512, 'EPOCHS': 20, 'OPTIMIZER': <class 'torch.optim.adam.Adam'>, 'LEARNING_RATE': 1e-05, 'LOSS': protop_loss_1_0.5, 'EARLY_STOPPING': True, 'PATIENCE': 2, 'MIN_DELTA': 0.0005, 'MAXPOOL': 2, 'OBO_SIZES': array([512,  64]), 'PROTOTYPE_NUM': 10, 'DROPOUT': 0.6, 'HIDDEN_SIZES': array([128]), 'KERNEL_SIZES': array([9])}\n"
     ]
    },
    {
     "name": "stderr",
     "output_type": "stream",
     "text": [
      "100%|██████████| 28/28 [00:08<00:00,  3.29it/s]\n",
      "100%|██████████| 4/4 [00:00<00:00,  7.66it/s]\n",
      "  0%|          | 0/28 [00:00<?, ?it/s]"
     ]
    },
    {
     "name": "stdout",
     "output_type": "stream",
     "text": [
      "Epoch: 0, train_loss: 2.2462332248687744, valid_loss: 2.1749961376190186\n"
     ]
    },
    {
     "name": "stderr",
     "output_type": "stream",
     "text": [
      "100%|██████████| 28/28 [00:08<00:00,  3.29it/s]\n",
      "100%|██████████| 4/4 [00:00<00:00,  8.02it/s]\n",
      "  0%|          | 0/28 [00:00<?, ?it/s]"
     ]
    },
    {
     "name": "stdout",
     "output_type": "stream",
     "text": [
      "Epoch: 1, train_loss: 2.0956711769104004, valid_loss: 2.0118625164031982\n"
     ]
    },
    {
     "name": "stderr",
     "output_type": "stream",
     "text": [
      "100%|██████████| 28/28 [00:07<00:00,  3.50it/s]\n",
      "100%|██████████| 4/4 [00:00<00:00,  8.07it/s]\n",
      "  0%|          | 0/28 [00:00<?, ?it/s]"
     ]
    },
    {
     "name": "stdout",
     "output_type": "stream",
     "text": [
      "Epoch: 2, train_loss: 1.9185255765914917, valid_loss: 1.8254742622375488\n"
     ]
    },
    {
     "name": "stderr",
     "output_type": "stream",
     "text": [
      "100%|██████████| 28/28 [00:07<00:00,  3.54it/s]\n",
      "100%|██████████| 4/4 [00:00<00:00,  8.02it/s]\n",
      "  0%|          | 0/28 [00:00<?, ?it/s]"
     ]
    },
    {
     "name": "stdout",
     "output_type": "stream",
     "text": [
      "Epoch: 3, train_loss: 1.7320767641067505, valid_loss: 1.6536448001861572\n"
     ]
    },
    {
     "name": "stderr",
     "output_type": "stream",
     "text": [
      "100%|██████████| 28/28 [00:07<00:00,  3.52it/s]\n",
      "100%|██████████| 4/4 [00:00<00:00,  7.53it/s]\n",
      "  0%|          | 0/28 [00:00<?, ?it/s]"
     ]
    },
    {
     "name": "stdout",
     "output_type": "stream",
     "text": [
      "Epoch: 4, train_loss: 1.5538495779037476, valid_loss: 1.4725738763809204\n"
     ]
    },
    {
     "name": "stderr",
     "output_type": "stream",
     "text": [
      "100%|██████████| 28/28 [00:08<00:00,  3.42it/s]\n",
      "100%|██████████| 4/4 [00:00<00:00,  7.78it/s]\n",
      "  0%|          | 0/28 [00:00<?, ?it/s]"
     ]
    },
    {
     "name": "stdout",
     "output_type": "stream",
     "text": [
      "Epoch: 5, train_loss: 1.3826600313186646, valid_loss: 1.3236267566680908\n"
     ]
    },
    {
     "name": "stderr",
     "output_type": "stream",
     "text": [
      "100%|██████████| 28/28 [00:07<00:00,  3.53it/s]\n",
      "100%|██████████| 4/4 [00:00<00:00,  7.94it/s]\n",
      "  0%|          | 0/28 [00:00<?, ?it/s]"
     ]
    },
    {
     "name": "stdout",
     "output_type": "stream",
     "text": [
      "Epoch: 6, train_loss: 1.2518328428268433, valid_loss: 1.2154312133789062\n"
     ]
    },
    {
     "name": "stderr",
     "output_type": "stream",
     "text": [
      "100%|██████████| 28/28 [00:07<00:00,  3.57it/s]\n",
      "100%|██████████| 4/4 [00:00<00:00,  7.85it/s]\n",
      "  0%|          | 0/28 [00:00<?, ?it/s]"
     ]
    },
    {
     "name": "stdout",
     "output_type": "stream",
     "text": [
      "Epoch: 7, train_loss: 1.156036376953125, valid_loss: 1.1389260292053223\n"
     ]
    },
    {
     "name": "stderr",
     "output_type": "stream",
     "text": [
      "100%|██████████| 28/28 [00:08<00:00,  3.45it/s]\n",
      "100%|██████████| 4/4 [00:00<00:00,  7.39it/s]\n",
      "  0%|          | 0/28 [00:00<?, ?it/s]"
     ]
    },
    {
     "name": "stdout",
     "output_type": "stream",
     "text": [
      "Epoch: 8, train_loss: 1.0863288640975952, valid_loss: 1.088181734085083\n"
     ]
    },
    {
     "name": "stderr",
     "output_type": "stream",
     "text": [
      "100%|██████████| 28/28 [00:07<00:00,  3.53it/s]\n",
      "100%|██████████| 4/4 [00:00<00:00,  7.97it/s]\n",
      "  0%|          | 0/28 [00:00<?, ?it/s]"
     ]
    },
    {
     "name": "stdout",
     "output_type": "stream",
     "text": [
      "Epoch: 9, train_loss: 1.0546168088912964, valid_loss: 1.062125325202942\n"
     ]
    },
    {
     "name": "stderr",
     "output_type": "stream",
     "text": [
      "100%|██████████| 28/28 [00:07<00:00,  3.53it/s]\n",
      "100%|██████████| 4/4 [00:00<00:00,  7.83it/s]\n",
      "  0%|          | 0/28 [00:00<?, ?it/s]"
     ]
    },
    {
     "name": "stdout",
     "output_type": "stream",
     "text": [
      "Epoch: 10, train_loss: 1.031237006187439, valid_loss: 1.0399196147918701\n"
     ]
    },
    {
     "name": "stderr",
     "output_type": "stream",
     "text": [
      "100%|██████████| 28/28 [00:07<00:00,  3.54it/s]\n",
      "100%|██████████| 4/4 [00:00<00:00,  7.98it/s]\n",
      "  0%|          | 0/28 [00:00<?, ?it/s]"
     ]
    },
    {
     "name": "stdout",
     "output_type": "stream",
     "text": [
      "Epoch: 11, train_loss: 1.0118249654769897, valid_loss: 1.0253431797027588\n"
     ]
    },
    {
     "name": "stderr",
     "output_type": "stream",
     "text": [
      "100%|██████████| 28/28 [00:08<00:00,  3.46it/s]\n",
      "100%|██████████| 4/4 [00:00<00:00,  7.58it/s]\n",
      "  0%|          | 0/28 [00:00<?, ?it/s]"
     ]
    },
    {
     "name": "stdout",
     "output_type": "stream",
     "text": [
      "Epoch: 12, train_loss: 0.9957946538925171, valid_loss: 1.009209156036377\n"
     ]
    },
    {
     "name": "stderr",
     "output_type": "stream",
     "text": [
      "100%|██████████| 28/28 [00:07<00:00,  3.51it/s]\n",
      "100%|██████████| 4/4 [00:00<00:00,  7.95it/s]\n",
      "  0%|          | 0/28 [00:00<?, ?it/s]"
     ]
    },
    {
     "name": "stdout",
     "output_type": "stream",
     "text": [
      "Epoch: 13, train_loss: 0.9845857620239258, valid_loss: 1.004706859588623\n"
     ]
    },
    {
     "name": "stderr",
     "output_type": "stream",
     "text": [
      "100%|██████████| 28/28 [00:07<00:00,  3.54it/s]\n",
      "100%|██████████| 4/4 [00:00<00:00,  7.82it/s]\n",
      "  0%|          | 0/28 [00:00<?, ?it/s]"
     ]
    },
    {
     "name": "stdout",
     "output_type": "stream",
     "text": [
      "Epoch: 14, train_loss: 0.9690132141113281, valid_loss: 0.9869121313095093\n"
     ]
    },
    {
     "name": "stderr",
     "output_type": "stream",
     "text": [
      "100%|██████████| 28/28 [00:07<00:00,  3.54it/s]\n",
      "100%|██████████| 4/4 [00:00<00:00,  8.10it/s]\n",
      "  0%|          | 0/28 [00:00<?, ?it/s]"
     ]
    },
    {
     "name": "stdout",
     "output_type": "stream",
     "text": [
      "Epoch: 15, train_loss: 0.9571848511695862, valid_loss: 0.9785265326499939\n"
     ]
    },
    {
     "name": "stderr",
     "output_type": "stream",
     "text": [
      "100%|██████████| 28/28 [00:08<00:00,  3.47it/s]\n",
      "100%|██████████| 4/4 [00:00<00:00,  7.51it/s]\n",
      "  0%|          | 0/28 [00:00<?, ?it/s]"
     ]
    },
    {
     "name": "stdout",
     "output_type": "stream",
     "text": [
      "Epoch: 16, train_loss: 0.9473106265068054, valid_loss: 0.973180890083313\n"
     ]
    },
    {
     "name": "stderr",
     "output_type": "stream",
     "text": [
      "100%|██████████| 28/28 [00:08<00:00,  3.43it/s]\n",
      "100%|██████████| 4/4 [00:00<00:00,  8.05it/s]\n",
      "  0%|          | 0/28 [00:00<?, ?it/s]"
     ]
    },
    {
     "name": "stdout",
     "output_type": "stream",
     "text": [
      "Epoch: 17, train_loss: 0.9364207983016968, valid_loss: 0.953764021396637\n"
     ]
    },
    {
     "name": "stderr",
     "output_type": "stream",
     "text": [
      "100%|██████████| 28/28 [00:07<00:00,  3.51it/s]\n",
      "100%|██████████| 4/4 [00:00<00:00,  7.82it/s]\n",
      "  0%|          | 0/28 [00:00<?, ?it/s]"
     ]
    },
    {
     "name": "stdout",
     "output_type": "stream",
     "text": [
      "val loss increased, patience count:  1\n",
      "Epoch: 18, train_loss: 0.930306077003479, valid_loss: 0.9540197849273682\n"
     ]
    },
    {
     "name": "stderr",
     "output_type": "stream",
     "text": [
      "100%|██████████| 28/28 [00:08<00:00,  3.32it/s]\n",
      "100%|██████████| 4/4 [00:00<00:00,  6.78it/s]\n"
     ]
    },
    {
     "name": "stdout",
     "output_type": "stream",
     "text": [
      "Epoch: 19, train_loss: 0.9218802452087402, valid_loss: 0.9494039416313171\n"
     ]
    }
   ],
   "source": [
    "stats = []\n",
    "for i in np.arange(N):\n",
    "    print(param_samples[i])\n",
    "    run = TrainTest(ProtICU, (train, val, test), param_samples[i])\n",
    "    run.train()\n",
    "    stats.append(run.test())"
   ]
  },
  {
   "cell_type": "code",
   "execution_count": 13,
   "metadata": {
    "scrolled": false
   },
   "outputs": [],
   "source": [
    "import pandas as pd \n",
    "df = pd.DataFrame(param_samples)"
   ]
  },
  {
   "cell_type": "code",
   "execution_count": 16,
   "metadata": {
    "scrolled": true
   },
   "outputs": [
    {
     "data": {
      "text/html": [
       "<div>\n",
       "<style scoped>\n",
       "    .dataframe tbody tr th:only-of-type {\n",
       "        vertical-align: middle;\n",
       "    }\n",
       "\n",
       "    .dataframe tbody tr th {\n",
       "        vertical-align: top;\n",
       "    }\n",
       "\n",
       "    .dataframe thead th {\n",
       "        text-align: right;\n",
       "    }\n",
       "</style>\n",
       "<table border=\"1\" class=\"dataframe\">\n",
       "  <thead>\n",
       "    <tr style=\"text-align: right;\">\n",
       "      <th></th>\n",
       "      <th>BATCH_SIZE</th>\n",
       "      <th>EPOCHS</th>\n",
       "      <th>OPTIMIZER</th>\n",
       "      <th>LEARNING_RATE</th>\n",
       "      <th>LOSS</th>\n",
       "      <th>EARLY_STOPPING</th>\n",
       "      <th>PATIENCE</th>\n",
       "      <th>MIN_DELTA</th>\n",
       "      <th>MAXPOOL</th>\n",
       "      <th>OBO_SIZES</th>\n",
       "      <th>PROTOTYPE_NUM</th>\n",
       "      <th>DROPOUT</th>\n",
       "      <th>HIDDEN_SIZES</th>\n",
       "      <th>KERNEL_SIZES</th>\n",
       "      <th>epoch_stopped</th>\n",
       "      <th>auroc</th>\n",
       "      <th>auprc</th>\n",
       "      <th>acc</th>\n",
       "      <th>f1</th>\n",
       "    </tr>\n",
       "  </thead>\n",
       "  <tbody>\n",
       "    <tr>\n",
       "      <th>17</th>\n",
       "      <td>128</td>\n",
       "      <td>40</td>\n",
       "      <td>&lt;class 'torch.optim.adam.Adam'&gt;</td>\n",
       "      <td>0.00050</td>\n",
       "      <td>protop_loss_0.5_0.1</td>\n",
       "      <td>True</td>\n",
       "      <td>2</td>\n",
       "      <td>0.00010</td>\n",
       "      <td>2</td>\n",
       "      <td>[256, 128]</td>\n",
       "      <td>20</td>\n",
       "      <td>0.1</td>\n",
       "      <td>[128, 256, 512]</td>\n",
       "      <td>[9, 7, 7]</td>\n",
       "      <td>13.0</td>\n",
       "      <td>0.823037</td>\n",
       "      <td>0.471111</td>\n",
       "      <td>0.812441</td>\n",
       "      <td>0.495868</td>\n",
       "    </tr>\n",
       "    <tr>\n",
       "      <th>25</th>\n",
       "      <td>128</td>\n",
       "      <td>20</td>\n",
       "      <td>&lt;class 'torch.optim.adam.Adam'&gt;</td>\n",
       "      <td>0.00050</td>\n",
       "      <td>protop_loss_0.3_0.1</td>\n",
       "      <td>True</td>\n",
       "      <td>3</td>\n",
       "      <td>0.00100</td>\n",
       "      <td>2</td>\n",
       "      <td>[256, 128]</td>\n",
       "      <td>20</td>\n",
       "      <td>0.4</td>\n",
       "      <td>[512]</td>\n",
       "      <td>[7]</td>\n",
       "      <td>NaN</td>\n",
       "      <td>0.818798</td>\n",
       "      <td>0.455438</td>\n",
       "      <td>0.828761</td>\n",
       "      <td>0.482117</td>\n",
       "    </tr>\n",
       "    <tr>\n",
       "      <th>18</th>\n",
       "      <td>256</td>\n",
       "      <td>50</td>\n",
       "      <td>&lt;class 'torch.optim.adam.Adam'&gt;</td>\n",
       "      <td>0.00050</td>\n",
       "      <td>protop_loss_0.5_0.1</td>\n",
       "      <td>True</td>\n",
       "      <td>2</td>\n",
       "      <td>0.00010</td>\n",
       "      <td>2</td>\n",
       "      <td>[512, 512]</td>\n",
       "      <td>20</td>\n",
       "      <td>0.4</td>\n",
       "      <td>[64, 128, 256]</td>\n",
       "      <td>[9, 7, 7]</td>\n",
       "      <td>26.0</td>\n",
       "      <td>0.816870</td>\n",
       "      <td>0.477334</td>\n",
       "      <td>0.841296</td>\n",
       "      <td>0.495868</td>\n",
       "    </tr>\n",
       "    <tr>\n",
       "      <th>19</th>\n",
       "      <td>128</td>\n",
       "      <td>40</td>\n",
       "      <td>&lt;class 'torch.optim.adam.Adam'&gt;</td>\n",
       "      <td>0.00050</td>\n",
       "      <td>protop_loss_0.1_0.1</td>\n",
       "      <td>True</td>\n",
       "      <td>2</td>\n",
       "      <td>0.00100</td>\n",
       "      <td>2</td>\n",
       "      <td>[128, 64]</td>\n",
       "      <td>20</td>\n",
       "      <td>0.5</td>\n",
       "      <td>[128, 256, 512]</td>\n",
       "      <td>[9, 9, 7]</td>\n",
       "      <td>19.0</td>\n",
       "      <td>0.815677</td>\n",
       "      <td>0.459889</td>\n",
       "      <td>0.853832</td>\n",
       "      <td>0.000000</td>\n",
       "    </tr>\n",
       "    <tr>\n",
       "      <th>16</th>\n",
       "      <td>128</td>\n",
       "      <td>50</td>\n",
       "      <td>&lt;class 'torch.optim.adam.Adam'&gt;</td>\n",
       "      <td>0.00005</td>\n",
       "      <td>protop_loss_0.3_0.1</td>\n",
       "      <td>True</td>\n",
       "      <td>2</td>\n",
       "      <td>0.00100</td>\n",
       "      <td>2</td>\n",
       "      <td>[512, 256]</td>\n",
       "      <td>20</td>\n",
       "      <td>0.1</td>\n",
       "      <td>[64, 128, 256]</td>\n",
       "      <td>[9, 7, 5]</td>\n",
       "      <td>27.0</td>\n",
       "      <td>0.806797</td>\n",
       "      <td>0.448938</td>\n",
       "      <td>0.828997</td>\n",
       "      <td>0.489767</td>\n",
       "    </tr>\n",
       "    <tr>\n",
       "      <th>7</th>\n",
       "      <td>512</td>\n",
       "      <td>40</td>\n",
       "      <td>&lt;class 'torch.optim.adam.Adam'&gt;</td>\n",
       "      <td>0.00050</td>\n",
       "      <td>protop_loss_0.3_0.1</td>\n",
       "      <td>True</td>\n",
       "      <td>2</td>\n",
       "      <td>0.00100</td>\n",
       "      <td>2</td>\n",
       "      <td>[64]</td>\n",
       "      <td>20</td>\n",
       "      <td>0.3</td>\n",
       "      <td>[128, 256]</td>\n",
       "      <td>[7, 5]</td>\n",
       "      <td>23.0</td>\n",
       "      <td>0.806796</td>\n",
       "      <td>0.450588</td>\n",
       "      <td>0.847919</td>\n",
       "      <td>0.489277</td>\n",
       "    </tr>\n",
       "    <tr>\n",
       "      <th>10</th>\n",
       "      <td>128</td>\n",
       "      <td>20</td>\n",
       "      <td>&lt;class 'torch.optim.adam.Adam'&gt;</td>\n",
       "      <td>0.00010</td>\n",
       "      <td>protop_loss_0.3_0.1</td>\n",
       "      <td>True</td>\n",
       "      <td>3</td>\n",
       "      <td>0.00010</td>\n",
       "      <td>2</td>\n",
       "      <td>[256]</td>\n",
       "      <td>20</td>\n",
       "      <td>0.6</td>\n",
       "      <td>[256, 512]</td>\n",
       "      <td>[3, 3]</td>\n",
       "      <td>NaN</td>\n",
       "      <td>0.800144</td>\n",
       "      <td>0.423244</td>\n",
       "      <td>0.815043</td>\n",
       "      <td>0.461433</td>\n",
       "    </tr>\n",
       "    <tr>\n",
       "      <th>3</th>\n",
       "      <td>512</td>\n",
       "      <td>20</td>\n",
       "      <td>&lt;class 'torch.optim.adam.Adam'&gt;</td>\n",
       "      <td>0.00010</td>\n",
       "      <td>protop_loss_0.1_0.1</td>\n",
       "      <td>True</td>\n",
       "      <td>2</td>\n",
       "      <td>0.00500</td>\n",
       "      <td>2</td>\n",
       "      <td>[64]</td>\n",
       "      <td>20</td>\n",
       "      <td>0.5</td>\n",
       "      <td>[128, 256]</td>\n",
       "      <td>[7, 3]</td>\n",
       "      <td>NaN</td>\n",
       "      <td>0.788944</td>\n",
       "      <td>0.411182</td>\n",
       "      <td>0.855014</td>\n",
       "      <td>0.016051</td>\n",
       "    </tr>\n",
       "    <tr>\n",
       "      <th>22</th>\n",
       "      <td>512</td>\n",
       "      <td>20</td>\n",
       "      <td>&lt;class 'torch.optim.adam.Adam'&gt;</td>\n",
       "      <td>0.00010</td>\n",
       "      <td>protop_loss_0.5_0.1</td>\n",
       "      <td>True</td>\n",
       "      <td>3</td>\n",
       "      <td>0.00500</td>\n",
       "      <td>2</td>\n",
       "      <td>[256, 64]</td>\n",
       "      <td>10</td>\n",
       "      <td>0.5</td>\n",
       "      <td>[64, 128, 256]</td>\n",
       "      <td>[9, 9, 3]</td>\n",
       "      <td>NaN</td>\n",
       "      <td>0.785786</td>\n",
       "      <td>0.404155</td>\n",
       "      <td>0.852176</td>\n",
       "      <td>0.404194</td>\n",
       "    </tr>\n",
       "    <tr>\n",
       "      <th>24</th>\n",
       "      <td>128</td>\n",
       "      <td>40</td>\n",
       "      <td>&lt;class 'torch.optim.adam.Adam'&gt;</td>\n",
       "      <td>0.00010</td>\n",
       "      <td>protop_loss_0.3_0.1</td>\n",
       "      <td>True</td>\n",
       "      <td>2</td>\n",
       "      <td>0.00100</td>\n",
       "      <td>2</td>\n",
       "      <td>[64, 64]</td>\n",
       "      <td>20</td>\n",
       "      <td>0.5</td>\n",
       "      <td>[256]</td>\n",
       "      <td>[3]</td>\n",
       "      <td>23.0</td>\n",
       "      <td>0.781272</td>\n",
       "      <td>0.402170</td>\n",
       "      <td>0.782167</td>\n",
       "      <td>0.446847</td>\n",
       "    </tr>\n",
       "    <tr>\n",
       "      <th>20</th>\n",
       "      <td>128</td>\n",
       "      <td>40</td>\n",
       "      <td>&lt;class 'torch.optim.adam.Adam'&gt;</td>\n",
       "      <td>0.00010</td>\n",
       "      <td>protop_loss_1_1</td>\n",
       "      <td>True</td>\n",
       "      <td>2</td>\n",
       "      <td>0.00005</td>\n",
       "      <td>2</td>\n",
       "      <td>[512, 64]</td>\n",
       "      <td>20</td>\n",
       "      <td>0.3</td>\n",
       "      <td>[128, 256, 512]</td>\n",
       "      <td>[9, 7, 7]</td>\n",
       "      <td>20.0</td>\n",
       "      <td>0.780193</td>\n",
       "      <td>0.432741</td>\n",
       "      <td>0.853832</td>\n",
       "      <td>0.000000</td>\n",
       "    </tr>\n",
       "    <tr>\n",
       "      <th>12</th>\n",
       "      <td>256</td>\n",
       "      <td>40</td>\n",
       "      <td>&lt;class 'torch.optim.adam.Adam'&gt;</td>\n",
       "      <td>0.00005</td>\n",
       "      <td>protop_loss_0.3_0.1</td>\n",
       "      <td>True</td>\n",
       "      <td>2</td>\n",
       "      <td>0.00100</td>\n",
       "      <td>2</td>\n",
       "      <td>[512]</td>\n",
       "      <td>10</td>\n",
       "      <td>0.4</td>\n",
       "      <td>[256, 512]</td>\n",
       "      <td>[3, 3]</td>\n",
       "      <td>28.0</td>\n",
       "      <td>0.770911</td>\n",
       "      <td>0.379113</td>\n",
       "      <td>0.857616</td>\n",
       "      <td>0.224227</td>\n",
       "    </tr>\n",
       "    <tr>\n",
       "      <th>13</th>\n",
       "      <td>128</td>\n",
       "      <td>40</td>\n",
       "      <td>&lt;class 'torch.optim.adam.Adam'&gt;</td>\n",
       "      <td>0.00001</td>\n",
       "      <td>protop_loss_0.1_0.1</td>\n",
       "      <td>True</td>\n",
       "      <td>3</td>\n",
       "      <td>0.00500</td>\n",
       "      <td>2</td>\n",
       "      <td>[128]</td>\n",
       "      <td>10</td>\n",
       "      <td>0.1</td>\n",
       "      <td>[128, 256]</td>\n",
       "      <td>[9, 3]</td>\n",
       "      <td>NaN</td>\n",
       "      <td>0.764042</td>\n",
       "      <td>0.393395</td>\n",
       "      <td>0.853832</td>\n",
       "      <td>0.000000</td>\n",
       "    </tr>\n",
       "    <tr>\n",
       "      <th>27</th>\n",
       "      <td>128</td>\n",
       "      <td>50</td>\n",
       "      <td>&lt;class 'torch.optim.adam.Adam'&gt;</td>\n",
       "      <td>0.00001</td>\n",
       "      <td>protop_loss_0.5_0.1</td>\n",
       "      <td>True</td>\n",
       "      <td>3</td>\n",
       "      <td>0.00100</td>\n",
       "      <td>2</td>\n",
       "      <td>[256, 64]</td>\n",
       "      <td>10</td>\n",
       "      <td>0.5</td>\n",
       "      <td>[128]</td>\n",
       "      <td>[9]</td>\n",
       "      <td>NaN</td>\n",
       "      <td>0.760811</td>\n",
       "      <td>0.355634</td>\n",
       "      <td>0.826159</td>\n",
       "      <td>0.391052</td>\n",
       "    </tr>\n",
       "    <tr>\n",
       "      <th>21</th>\n",
       "      <td>256</td>\n",
       "      <td>20</td>\n",
       "      <td>&lt;class 'torch.optim.adam.Adam'&gt;</td>\n",
       "      <td>0.00001</td>\n",
       "      <td>protop_loss_0.3_0.1</td>\n",
       "      <td>True</td>\n",
       "      <td>2</td>\n",
       "      <td>0.00050</td>\n",
       "      <td>2</td>\n",
       "      <td>[128, 64]</td>\n",
       "      <td>20</td>\n",
       "      <td>0.6</td>\n",
       "      <td>[128, 256, 512]</td>\n",
       "      <td>[7, 5, 3]</td>\n",
       "      <td>NaN</td>\n",
       "      <td>0.758520</td>\n",
       "      <td>0.351497</td>\n",
       "      <td>0.823557</td>\n",
       "      <td>0.362393</td>\n",
       "    </tr>\n",
       "    <tr>\n",
       "      <th>28</th>\n",
       "      <td>256</td>\n",
       "      <td>20</td>\n",
       "      <td>&lt;class 'torch.optim.adam.Adam'&gt;</td>\n",
       "      <td>0.00005</td>\n",
       "      <td>protop_loss_0.3_0.1</td>\n",
       "      <td>True</td>\n",
       "      <td>2</td>\n",
       "      <td>0.00005</td>\n",
       "      <td>2</td>\n",
       "      <td>[256, 256]</td>\n",
       "      <td>10</td>\n",
       "      <td>0.6</td>\n",
       "      <td>[128]</td>\n",
       "      <td>[9]</td>\n",
       "      <td>NaN</td>\n",
       "      <td>0.753440</td>\n",
       "      <td>0.347019</td>\n",
       "      <td>0.853832</td>\n",
       "      <td>0.012780</td>\n",
       "    </tr>\n",
       "    <tr>\n",
       "      <th>11</th>\n",
       "      <td>256</td>\n",
       "      <td>40</td>\n",
       "      <td>&lt;class 'torch.optim.adam.Adam'&gt;</td>\n",
       "      <td>0.00001</td>\n",
       "      <td>protop_loss_0.1_0.1</td>\n",
       "      <td>True</td>\n",
       "      <td>2</td>\n",
       "      <td>0.00500</td>\n",
       "      <td>2</td>\n",
       "      <td>[256]</td>\n",
       "      <td>10</td>\n",
       "      <td>0.1</td>\n",
       "      <td>[256, 512]</td>\n",
       "      <td>[7, 5]</td>\n",
       "      <td>27.0</td>\n",
       "      <td>0.747314</td>\n",
       "      <td>0.365938</td>\n",
       "      <td>0.853832</td>\n",
       "      <td>0.000000</td>\n",
       "    </tr>\n",
       "    <tr>\n",
       "      <th>8</th>\n",
       "      <td>512</td>\n",
       "      <td>50</td>\n",
       "      <td>&lt;class 'torch.optim.adam.Adam'&gt;</td>\n",
       "      <td>0.00010</td>\n",
       "      <td>protop_loss_0.5_0.5</td>\n",
       "      <td>True</td>\n",
       "      <td>3</td>\n",
       "      <td>0.00010</td>\n",
       "      <td>2</td>\n",
       "      <td>[256]</td>\n",
       "      <td>20</td>\n",
       "      <td>0.3</td>\n",
       "      <td>[256, 512]</td>\n",
       "      <td>[9, 5]</td>\n",
       "      <td>11.0</td>\n",
       "      <td>0.742994</td>\n",
       "      <td>0.360329</td>\n",
       "      <td>0.853832</td>\n",
       "      <td>0.000000</td>\n",
       "    </tr>\n",
       "    <tr>\n",
       "      <th>15</th>\n",
       "      <td>512</td>\n",
       "      <td>50</td>\n",
       "      <td>&lt;class 'torch.optim.adam.Adam'&gt;</td>\n",
       "      <td>0.00010</td>\n",
       "      <td>protop_loss_1_1</td>\n",
       "      <td>True</td>\n",
       "      <td>2</td>\n",
       "      <td>0.00010</td>\n",
       "      <td>2</td>\n",
       "      <td>[128, 64]</td>\n",
       "      <td>20</td>\n",
       "      <td>0.0</td>\n",
       "      <td>[64, 128, 256]</td>\n",
       "      <td>[5, 5, 5]</td>\n",
       "      <td>23.0</td>\n",
       "      <td>0.734265</td>\n",
       "      <td>0.384465</td>\n",
       "      <td>0.859745</td>\n",
       "      <td>0.126657</td>\n",
       "    </tr>\n",
       "    <tr>\n",
       "      <th>1</th>\n",
       "      <td>512</td>\n",
       "      <td>50</td>\n",
       "      <td>&lt;class 'torch.optim.adam.Adam'&gt;</td>\n",
       "      <td>0.00005</td>\n",
       "      <td>protop_loss_0.5_0.5</td>\n",
       "      <td>True</td>\n",
       "      <td>2</td>\n",
       "      <td>0.00050</td>\n",
       "      <td>2</td>\n",
       "      <td>[512]</td>\n",
       "      <td>10</td>\n",
       "      <td>0.7</td>\n",
       "      <td>[256, 512]</td>\n",
       "      <td>[9, 9]</td>\n",
       "      <td>18.0</td>\n",
       "      <td>0.732654</td>\n",
       "      <td>0.367906</td>\n",
       "      <td>0.853832</td>\n",
       "      <td>0.000000</td>\n",
       "    </tr>\n",
       "    <tr>\n",
       "      <th>0</th>\n",
       "      <td>256</td>\n",
       "      <td>40</td>\n",
       "      <td>&lt;class 'torch.optim.adam.Adam'&gt;</td>\n",
       "      <td>0.00001</td>\n",
       "      <td>protop_loss_1_1</td>\n",
       "      <td>True</td>\n",
       "      <td>3</td>\n",
       "      <td>0.00500</td>\n",
       "      <td>2</td>\n",
       "      <td>[64]</td>\n",
       "      <td>10</td>\n",
       "      <td>0.2</td>\n",
       "      <td>[256, 512]</td>\n",
       "      <td>[5, 3]</td>\n",
       "      <td>26.0</td>\n",
       "      <td>0.720126</td>\n",
       "      <td>0.343490</td>\n",
       "      <td>0.853832</td>\n",
       "      <td>0.000000</td>\n",
       "    </tr>\n",
       "    <tr>\n",
       "      <th>23</th>\n",
       "      <td>512</td>\n",
       "      <td>20</td>\n",
       "      <td>&lt;class 'torch.optim.adam.Adam'&gt;</td>\n",
       "      <td>0.00005</td>\n",
       "      <td>protop_loss_1_0.5</td>\n",
       "      <td>True</td>\n",
       "      <td>2</td>\n",
       "      <td>0.00005</td>\n",
       "      <td>2</td>\n",
       "      <td>[512, 64]</td>\n",
       "      <td>20</td>\n",
       "      <td>0.1</td>\n",
       "      <td>[64, 128, 256]</td>\n",
       "      <td>[3, 3, 3]</td>\n",
       "      <td>NaN</td>\n",
       "      <td>0.717609</td>\n",
       "      <td>0.325951</td>\n",
       "      <td>0.850757</td>\n",
       "      <td>0.200253</td>\n",
       "    </tr>\n",
       "    <tr>\n",
       "      <th>4</th>\n",
       "      <td>512</td>\n",
       "      <td>20</td>\n",
       "      <td>&lt;class 'torch.optim.adam.Adam'&gt;</td>\n",
       "      <td>0.00010</td>\n",
       "      <td>protop_loss_0.3_0.1</td>\n",
       "      <td>True</td>\n",
       "      <td>2</td>\n",
       "      <td>0.00005</td>\n",
       "      <td>2</td>\n",
       "      <td>[512]</td>\n",
       "      <td>20</td>\n",
       "      <td>0.1</td>\n",
       "      <td>[128, 256]</td>\n",
       "      <td>[5, 3]</td>\n",
       "      <td>NaN</td>\n",
       "      <td>0.711038</td>\n",
       "      <td>0.304873</td>\n",
       "      <td>0.853832</td>\n",
       "      <td>0.000000</td>\n",
       "    </tr>\n",
       "    <tr>\n",
       "      <th>9</th>\n",
       "      <td>512</td>\n",
       "      <td>20</td>\n",
       "      <td>&lt;class 'torch.optim.adam.Adam'&gt;</td>\n",
       "      <td>0.00050</td>\n",
       "      <td>protop_loss_1_0.5</td>\n",
       "      <td>True</td>\n",
       "      <td>3</td>\n",
       "      <td>0.00500</td>\n",
       "      <td>2</td>\n",
       "      <td>[128]</td>\n",
       "      <td>20</td>\n",
       "      <td>0.1</td>\n",
       "      <td>[128, 256]</td>\n",
       "      <td>[9, 3]</td>\n",
       "      <td>NaN</td>\n",
       "      <td>0.705892</td>\n",
       "      <td>0.380370</td>\n",
       "      <td>0.841296</td>\n",
       "      <td>0.432798</td>\n",
       "    </tr>\n",
       "    <tr>\n",
       "      <th>26</th>\n",
       "      <td>256</td>\n",
       "      <td>50</td>\n",
       "      <td>&lt;class 'torch.optim.adam.Adam'&gt;</td>\n",
       "      <td>0.00001</td>\n",
       "      <td>protop_loss_0.1_0.1</td>\n",
       "      <td>True</td>\n",
       "      <td>3</td>\n",
       "      <td>0.00010</td>\n",
       "      <td>2</td>\n",
       "      <td>[256, 256]</td>\n",
       "      <td>10</td>\n",
       "      <td>0.5</td>\n",
       "      <td>[128]</td>\n",
       "      <td>[3]</td>\n",
       "      <td>NaN</td>\n",
       "      <td>0.703554</td>\n",
       "      <td>0.273700</td>\n",
       "      <td>0.853832</td>\n",
       "      <td>0.000000</td>\n",
       "    </tr>\n",
       "    <tr>\n",
       "      <th>2</th>\n",
       "      <td>128</td>\n",
       "      <td>20</td>\n",
       "      <td>&lt;class 'torch.optim.adam.Adam'&gt;</td>\n",
       "      <td>0.00001</td>\n",
       "      <td>protop_loss_0.5_0.5</td>\n",
       "      <td>True</td>\n",
       "      <td>2</td>\n",
       "      <td>0.00050</td>\n",
       "      <td>2</td>\n",
       "      <td>[512]</td>\n",
       "      <td>20</td>\n",
       "      <td>0.1</td>\n",
       "      <td>[128, 256]</td>\n",
       "      <td>[9, 5]</td>\n",
       "      <td>19.0</td>\n",
       "      <td>0.664934</td>\n",
       "      <td>0.277149</td>\n",
       "      <td>0.853832</td>\n",
       "      <td>0.000000</td>\n",
       "    </tr>\n",
       "    <tr>\n",
       "      <th>5</th>\n",
       "      <td>128</td>\n",
       "      <td>50</td>\n",
       "      <td>&lt;class 'torch.optim.adam.Adam'&gt;</td>\n",
       "      <td>0.00001</td>\n",
       "      <td>protop_loss_1_1</td>\n",
       "      <td>True</td>\n",
       "      <td>3</td>\n",
       "      <td>0.00050</td>\n",
       "      <td>2</td>\n",
       "      <td>[256]</td>\n",
       "      <td>20</td>\n",
       "      <td>0.5</td>\n",
       "      <td>[64, 128]</td>\n",
       "      <td>[5, 3]</td>\n",
       "      <td>NaN</td>\n",
       "      <td>0.664297</td>\n",
       "      <td>0.296672</td>\n",
       "      <td>0.853832</td>\n",
       "      <td>0.000000</td>\n",
       "    </tr>\n",
       "    <tr>\n",
       "      <th>14</th>\n",
       "      <td>512</td>\n",
       "      <td>40</td>\n",
       "      <td>&lt;class 'torch.optim.adam.Adam'&gt;</td>\n",
       "      <td>0.00005</td>\n",
       "      <td>protop_loss_0.5_0.5</td>\n",
       "      <td>True</td>\n",
       "      <td>3</td>\n",
       "      <td>0.00050</td>\n",
       "      <td>2</td>\n",
       "      <td>[256]</td>\n",
       "      <td>10</td>\n",
       "      <td>0.6</td>\n",
       "      <td>[64, 128, 256]</td>\n",
       "      <td>[7, 7, 7]</td>\n",
       "      <td>32.0</td>\n",
       "      <td>0.647607</td>\n",
       "      <td>0.238784</td>\n",
       "      <td>0.853832</td>\n",
       "      <td>0.000000</td>\n",
       "    </tr>\n",
       "    <tr>\n",
       "      <th>29</th>\n",
       "      <td>512</td>\n",
       "      <td>20</td>\n",
       "      <td>&lt;class 'torch.optim.adam.Adam'&gt;</td>\n",
       "      <td>0.00001</td>\n",
       "      <td>protop_loss_1_0.5</td>\n",
       "      <td>True</td>\n",
       "      <td>2</td>\n",
       "      <td>0.00050</td>\n",
       "      <td>2</td>\n",
       "      <td>[512, 64]</td>\n",
       "      <td>10</td>\n",
       "      <td>0.6</td>\n",
       "      <td>[128]</td>\n",
       "      <td>[9]</td>\n",
       "      <td>NaN</td>\n",
       "      <td>0.645448</td>\n",
       "      <td>0.229029</td>\n",
       "      <td>0.853832</td>\n",
       "      <td>0.000000</td>\n",
       "    </tr>\n",
       "    <tr>\n",
       "      <th>6</th>\n",
       "      <td>512</td>\n",
       "      <td>50</td>\n",
       "      <td>&lt;class 'torch.optim.adam.Adam'&gt;</td>\n",
       "      <td>0.00005</td>\n",
       "      <td>protop_loss_0.5_0.5</td>\n",
       "      <td>True</td>\n",
       "      <td>3</td>\n",
       "      <td>0.00010</td>\n",
       "      <td>2</td>\n",
       "      <td>[512]</td>\n",
       "      <td>20</td>\n",
       "      <td>0.7</td>\n",
       "      <td>[128, 256]</td>\n",
       "      <td>[9, 3]</td>\n",
       "      <td>19.0</td>\n",
       "      <td>0.632039</td>\n",
       "      <td>0.266438</td>\n",
       "      <td>0.853832</td>\n",
       "      <td>0.000000</td>\n",
       "    </tr>\n",
       "  </tbody>\n",
       "</table>\n",
       "</div>"
      ],
      "text/plain": [
       "    BATCH_SIZE  EPOCHS                        OPTIMIZER  LEARNING_RATE  ...     auroc     auprc       acc        f1\n",
       "17         128      40  <class 'torch.optim.adam.Adam'>        0.00050  ...  0.823037  0.471111  0.812441  0.495868\n",
       "25         128      20  <class 'torch.optim.adam.Adam'>        0.00050  ...  0.818798  0.455438  0.828761  0.482117\n",
       "18         256      50  <class 'torch.optim.adam.Adam'>        0.00050  ...  0.816870  0.477334  0.841296  0.495868\n",
       "19         128      40  <class 'torch.optim.adam.Adam'>        0.00050  ...  0.815677  0.459889  0.853832  0.000000\n",
       "16         128      50  <class 'torch.optim.adam.Adam'>        0.00005  ...  0.806797  0.448938  0.828997  0.489767\n",
       "7          512      40  <class 'torch.optim.adam.Adam'>        0.00050  ...  0.806796  0.450588  0.847919  0.489277\n",
       "10         128      20  <class 'torch.optim.adam.Adam'>        0.00010  ...  0.800144  0.423244  0.815043  0.461433\n",
       "3          512      20  <class 'torch.optim.adam.Adam'>        0.00010  ...  0.788944  0.411182  0.855014  0.016051\n",
       "22         512      20  <class 'torch.optim.adam.Adam'>        0.00010  ...  0.785786  0.404155  0.852176  0.404194\n",
       "24         128      40  <class 'torch.optim.adam.Adam'>        0.00010  ...  0.781272  0.402170  0.782167  0.446847\n",
       "20         128      40  <class 'torch.optim.adam.Adam'>        0.00010  ...  0.780193  0.432741  0.853832  0.000000\n",
       "12         256      40  <class 'torch.optim.adam.Adam'>        0.00005  ...  0.770911  0.379113  0.857616  0.224227\n",
       "13         128      40  <class 'torch.optim.adam.Adam'>        0.00001  ...  0.764042  0.393395  0.853832  0.000000\n",
       "27         128      50  <class 'torch.optim.adam.Adam'>        0.00001  ...  0.760811  0.355634  0.826159  0.391052\n",
       "21         256      20  <class 'torch.optim.adam.Adam'>        0.00001  ...  0.758520  0.351497  0.823557  0.362393\n",
       "28         256      20  <class 'torch.optim.adam.Adam'>        0.00005  ...  0.753440  0.347019  0.853832  0.012780\n",
       "11         256      40  <class 'torch.optim.adam.Adam'>        0.00001  ...  0.747314  0.365938  0.853832  0.000000\n",
       "8          512      50  <class 'torch.optim.adam.Adam'>        0.00010  ...  0.742994  0.360329  0.853832  0.000000\n",
       "15         512      50  <class 'torch.optim.adam.Adam'>        0.00010  ...  0.734265  0.384465  0.859745  0.126657\n",
       "1          512      50  <class 'torch.optim.adam.Adam'>        0.00005  ...  0.732654  0.367906  0.853832  0.000000\n",
       "0          256      40  <class 'torch.optim.adam.Adam'>        0.00001  ...  0.720126  0.343490  0.853832  0.000000\n",
       "23         512      20  <class 'torch.optim.adam.Adam'>        0.00005  ...  0.717609  0.325951  0.850757  0.200253\n",
       "4          512      20  <class 'torch.optim.adam.Adam'>        0.00010  ...  0.711038  0.304873  0.853832  0.000000\n",
       "9          512      20  <class 'torch.optim.adam.Adam'>        0.00050  ...  0.705892  0.380370  0.841296  0.432798\n",
       "26         256      50  <class 'torch.optim.adam.Adam'>        0.00001  ...  0.703554  0.273700  0.853832  0.000000\n",
       "2          128      20  <class 'torch.optim.adam.Adam'>        0.00001  ...  0.664934  0.277149  0.853832  0.000000\n",
       "5          128      50  <class 'torch.optim.adam.Adam'>        0.00001  ...  0.664297  0.296672  0.853832  0.000000\n",
       "14         512      40  <class 'torch.optim.adam.Adam'>        0.00005  ...  0.647607  0.238784  0.853832  0.000000\n",
       "29         512      20  <class 'torch.optim.adam.Adam'>        0.00001  ...  0.645448  0.229029  0.853832  0.000000\n",
       "6          512      50  <class 'torch.optim.adam.Adam'>        0.00005  ...  0.632039  0.266438  0.853832  0.000000\n",
       "\n",
       "[30 rows x 19 columns]"
      ]
     },
     "execution_count": 16,
     "metadata": {},
     "output_type": "execute_result"
    }
   ],
   "source": [
    "df.sort_values('auroc', ascending=False) "
   ]
  },
  {
   "cell_type": "code",
   "execution_count": 9,
   "metadata": {},
   "outputs": [],
   "source": [
    "for i in np.arange(N):\n",
    "    for key,val in stats[i].items():\n",
    "        param_samples[i][key] = val"
   ]
  },
  {
   "cell_type": "code",
   "execution_count": 10,
   "metadata": {},
   "outputs": [],
   "source": [
    "torch.save(param_samples, 'results/Proto_experiment_nopush_N'+str(N)+'.pkl')"
   ]
  },
  {
   "cell_type": "code",
   "execution_count": null,
   "metadata": {},
   "outputs": [],
   "source": []
  },
  {
   "cell_type": "code",
   "execution_count": 20,
   "metadata": {},
   "outputs": [],
   "source": [
    "model = ProtICU(test[0].shape, 2, [64, 128], [5,3], 2, [256, 128], [0,0,0,0,0,1,1,1,1,1], .2)\n",
    "out, min_dis = model(test[0][:14])"
   ]
  },
  {
   "cell_type": "code",
   "execution_count": 23,
   "metadata": {},
   "outputs": [
    {
     "data": {
      "text/plain": [
       "'ProtICU'"
      ]
     },
     "execution_count": 23,
     "metadata": {},
     "output_type": "execute_result"
    }
   ],
   "source": []
  },
  {
   "cell_type": "code",
   "execution_count": 18,
   "metadata": {},
   "outputs": [],
   "source": [
    "check = torch.load('results/Proto_experiment_nopush_N30.pkl')"
   ]
  },
  {
   "cell_type": "code",
   "execution_count": null,
   "metadata": {},
   "outputs": [],
   "source": []
  }
 ],
 "metadata": {
  "kernelspec": {
   "display_name": "deeplearning",
   "language": "python",
   "name": "deeplearning"
  },
  "language_info": {
   "codemirror_mode": {
    "name": "ipython",
    "version": 3
   },
   "file_extension": ".py",
   "mimetype": "text/x-python",
   "name": "python",
   "nbconvert_exporter": "python",
   "pygments_lexer": "ipython3",
   "version": "3.8.3"
  }
 },
 "nbformat": 4,
 "nbformat_minor": 2
}
