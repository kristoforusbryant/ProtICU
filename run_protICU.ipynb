{
 "cells": [
  {
   "cell_type": "code",
   "execution_count": 1,
   "metadata": {},
   "outputs": [],
   "source": [
    "import torch \n",
    "import torch.nn as nn \n",
    "import numpy as np\n",
    "from collections import OrderedDict\n",
    "\n",
    "from utils.losses import protop_loss\n",
    "from utils.sample_parameters import SingleGenerator, HiddenAndKernelGenerator, MonotonicGenerator\n",
    "from utils.sample_parameters import ParamGenerators\n",
    "from models.ProtICU import ProtICU\n",
    "from utils.train_n_test import TrainTest"
   ]
  },
  {
   "cell_type": "code",
   "execution_count": 2,
   "metadata": {},
   "outputs": [],
   "source": [
    "train, val, test = torch.load('data/in-hospital-mortality/tensors.pkl')"
   ]
  },
  {
   "cell_type": "code",
   "execution_count": 3,
   "metadata": {},
   "outputs": [],
   "source": [
    "# Calculating class weights\n",
    "perc_mort = np.concatenate((train[1], val[1], test[1])).mean()\n",
    "class_weights = torch.Tensor([perc_mort, 1-perc_mort])"
   ]
  },
  {
   "cell_type": "code",
   "execution_count": 514,
   "metadata": {},
   "outputs": [],
   "source": [
    "generators_dict = {\n",
    "    # HYPERMARAMETER RANGES\n",
    "    'BATCH_SIZE': SingleGenerator([128, 256, 512]),\n",
    "    'EPOCHS': SingleGenerator([20, 40, 50]),\n",
    "    'OPTIMIZER': SingleGenerator([torch.optim.Adam]),\n",
    "    'LEARNING_RATE': SingleGenerator([1e-5, 5e-5, 1e-4, 5e-4]),\n",
    "    'LOSS': SingleGenerator([protop_loss(class_weights, .5 , .5), protop_loss(class_weights, 1, 1),\n",
    "                             protop_loss(class_weights, 1 , .5),  protop_loss(class_weights, 2, 1)]),\n",
    "    'EARLY_STOPPING': SingleGenerator([True, False]),\n",
    "    'PATIENCE': SingleGenerator(list(range(2,4))),\n",
    "    'MIN_DELTA': SingleGenerator([5e-5, 1e-4, 5e-4, 1e-3, 5e-3]), \n",
    "\n",
    "    # NETWORK PARAMETER RANGES\n",
    "    'HIDDEN_AND_KERNEL_SIZES': HiddenAndKernelGenerator(range(2,5), [64, 128, 256, 512], [3, 5, 7, 9], \n",
    "                               ascending=(True, False)),\n",
    "    'MAXPOOL': SingleGenerator([2]),\n",
    "    'OBO_SIZES': MonotonicGenerator(range(1,3), [256, 512], ascending=False),\n",
    "    'PROTOTYPE_NUM': SingleGenerator([10,20,30]),\n",
    "    'DROPOUT': SingleGenerator(np.arange(2)/10), \n",
    "    'PROTO_ACTIVATION': SingleGenerator(['log'])\n",
    "} # each of these params are sampled INDEPENDENTLY of one another"
   ]
  },
  {
   "cell_type": "code",
   "execution_count": 538,
   "metadata": {},
   "outputs": [
    {
     "data": {
      "text/plain": [
       "tensor(2797.)"
      ]
     },
     "execution_count": 538,
     "metadata": {},
     "output_type": "execute_result"
    }
   ],
   "source": [
    "class_weights[0] * 21139"
   ]
  },
  {
   "cell_type": "code",
   "execution_count": 541,
   "metadata": {},
   "outputs": [
    {
     "data": {
      "text/plain": [
       "torch.Size([2114, 48, 46])"
      ]
     },
     "execution_count": 541,
     "metadata": {},
     "output_type": "execute_result"
    }
   ],
   "source": [
    "val[0].shape"
   ]
  },
  {
   "cell_type": "code",
   "execution_count": 535,
   "metadata": {},
   "outputs": [
    {
     "data": {
      "text/plain": [
       "21139"
      ]
     },
     "execution_count": 535,
     "metadata": {},
     "output_type": "execute_result"
    }
   ],
   "source": [
    "train[0].shape[0] + val[0].shape[0] + test[0].shape[0]"
   ]
  },
  {
   "cell_type": "code",
   "execution_count": 515,
   "metadata": {},
   "outputs": [],
   "source": [
    "fixed_gen = {\n",
    "    # HYPERMARAMETER RANGES\n",
    "    'BATCH_SIZE': SingleGenerator([256]),\n",
    "    'EPOCHS': SingleGenerator([20]),\n",
    "    'OPTIMIZER': SingleGenerator([torch.optim.Adam]),\n",
    "    'LEARNING_RATE': SingleGenerator([1e-5]),\n",
    "    'LOSS': SingleGenerator([protop_loss(class_weights, 1, 1)]),\n",
    "    'EARLY_STOPPING': SingleGenerator([True]),\n",
    "    'PATIENCE': SingleGenerator(list(range(1,2))),\n",
    "    'MIN_DELTA': SingleGenerator([1e-4]), \n",
    "\n",
    "    # NETWORK PARAMETER RANGES\n",
    "    'HIDDEN_AND_KERNEL_SIZES': HiddenAndKernelGenerator(range(1,2), [256], [5], \n",
    "                               ascending=(True, False)),\n",
    "    'MAXPOOL': SingleGenerator([2]),\n",
    "    'OBO_SIZES': MonotonicGenerator(range(1,2), [128], ascending=False),\n",
    "    'PROTOTYPE_NUM': SingleGenerator([20]),\n",
    "    'DROPOUT': SingleGenerator([0.2]),\n",
    "    'PROTO_ACTIVATION': SingleGenerator(['log'])\n",
    "}"
   ]
  },
  {
   "cell_type": "code",
   "execution_count": 516,
   "metadata": {},
   "outputs": [],
   "source": [
    "N = 12\n",
    "gen = ParamGenerators(generators_dict)\n",
    "#gen = ParamGenerators(fixed_gen)\n",
    "param_samples = gen.sample(N)"
   ]
  },
  {
   "cell_type": "code",
   "execution_count": 517,
   "metadata": {
    "scrolled": true
   },
   "outputs": [
    {
     "name": "stderr",
     "output_type": "stream",
     "text": [
      "\r",
      "  0%|          | 0/115 [00:00<?, ?it/s]"
     ]
    },
    {
     "name": "stdout",
     "output_type": "stream",
     "text": [
      "{'BATCH_SIZE': 128, 'EPOCHS': 50, 'OPTIMIZER': <class 'torch.optim.adam.Adam'>, 'LEARNING_RATE': 5e-05, 'LOSS': protop_loss_0.5_0.5, 'EARLY_STOPPING': False, 'PATIENCE': 2, 'MIN_DELTA': 0.001, 'MAXPOOL': 2, 'OBO_SIZES': array([256]), 'PROTOTYPE_NUM': 20, 'DROPOUT': 0.1, 'PROTO_ACTIVATION': 'log', 'HIDDEN_SIZES': array([256, 512]), 'KERNEL_SIZES': array([5, 3])}\n"
     ]
    },
    {
     "name": "stderr",
     "output_type": "stream",
     "text": [
      "100%|██████████| 115/115 [00:40<00:00,  2.87it/s]\n",
      "100%|██████████| 16/16 [00:01<00:00, 10.40it/s]\n",
      "  0%|          | 0/115 [00:00<?, ?it/s]"
     ]
    },
    {
     "name": "stdout",
     "output_type": "stream",
     "text": [
      "Epoch: 0, train_loss: -0.2549084722995758, valid_loss: -0.678093433380127\n"
     ]
    },
    {
     "name": "stderr",
     "output_type": "stream",
     "text": [
      "100%|██████████| 115/115 [00:38<00:00,  2.99it/s]\n",
      "100%|██████████| 16/16 [00:01<00:00,  9.78it/s]\n",
      "  0%|          | 0/115 [00:00<?, ?it/s]"
     ]
    },
    {
     "name": "stdout",
     "output_type": "stream",
     "text": [
      "Epoch: 1, train_loss: -0.7936327457427979, valid_loss: -0.8229077458381653\n"
     ]
    },
    {
     "name": "stderr",
     "output_type": "stream",
     "text": [
      "100%|██████████| 115/115 [00:38<00:00,  2.97it/s]\n",
      "100%|██████████| 16/16 [00:01<00:00, 12.29it/s]\n",
      "  0%|          | 0/115 [00:00<?, ?it/s]"
     ]
    },
    {
     "name": "stdout",
     "output_type": "stream",
     "text": [
      "Epoch: 2, train_loss: -0.8722873330116272, valid_loss: -0.8540691137313843\n"
     ]
    },
    {
     "name": "stderr",
     "output_type": "stream",
     "text": [
      "100%|██████████| 115/115 [00:32<00:00,  3.55it/s]\n",
      "100%|██████████| 16/16 [00:01<00:00, 12.89it/s]\n",
      "  0%|          | 0/115 [00:00<?, ?it/s]"
     ]
    },
    {
     "name": "stdout",
     "output_type": "stream",
     "text": [
      "Epoch: 3, train_loss: -0.8967512249946594, valid_loss: -0.8718682527542114\n"
     ]
    },
    {
     "name": "stderr",
     "output_type": "stream",
     "text": [
      "100%|██████████| 115/115 [00:44<00:00,  2.58it/s]\n",
      "100%|██████████| 16/16 [00:01<00:00, 11.55it/s]\n",
      "  0%|          | 0/115 [00:00<?, ?it/s]"
     ]
    },
    {
     "name": "stdout",
     "output_type": "stream",
     "text": [
      "Epoch: 4, train_loss: -0.9058466553688049, valid_loss: -0.8889685869216919\n"
     ]
    },
    {
     "name": "stderr",
     "output_type": "stream",
     "text": [
      "100%|██████████| 115/115 [00:36<00:00,  3.17it/s]\n",
      "100%|██████████| 16/16 [00:01<00:00, 11.32it/s]\n",
      "  0%|          | 0/115 [00:00<?, ?it/s]"
     ]
    },
    {
     "name": "stdout",
     "output_type": "stream",
     "text": [
      "Epoch: 5, train_loss: -0.9125549793243408, valid_loss: -0.8952563405036926\n"
     ]
    },
    {
     "name": "stderr",
     "output_type": "stream",
     "text": [
      "100%|██████████| 115/115 [00:36<00:00,  3.16it/s]\n",
      "100%|██████████| 16/16 [00:01<00:00, 11.72it/s]\n",
      "  0%|          | 0/115 [00:00<?, ?it/s]"
     ]
    },
    {
     "name": "stdout",
     "output_type": "stream",
     "text": [
      "Epoch: 6, train_loss: -0.9154779314994812, valid_loss: -0.8941410183906555\n"
     ]
    },
    {
     "name": "stderr",
     "output_type": "stream",
     "text": [
      "100%|██████████| 115/115 [00:39<00:00,  2.90it/s]\n",
      "100%|██████████| 16/16 [00:01<00:00, 11.05it/s]\n",
      "  0%|          | 0/115 [00:00<?, ?it/s]"
     ]
    },
    {
     "name": "stdout",
     "output_type": "stream",
     "text": [
      "Epoch: 7, train_loss: -0.9204509854316711, valid_loss: -0.8995247483253479\n"
     ]
    },
    {
     "name": "stderr",
     "output_type": "stream",
     "text": [
      "100%|██████████| 115/115 [00:42<00:00,  2.69it/s]\n",
      "100%|██████████| 16/16 [00:02<00:00,  6.83it/s]\n",
      "  0%|          | 0/115 [00:00<?, ?it/s]"
     ]
    },
    {
     "name": "stdout",
     "output_type": "stream",
     "text": [
      "Epoch: 8, train_loss: -0.9226533770561218, valid_loss: -0.899461030960083\n"
     ]
    },
    {
     "name": "stderr",
     "output_type": "stream",
     "text": [
      "100%|██████████| 115/115 [00:42<00:00,  2.70it/s]\n",
      "100%|██████████| 16/16 [00:01<00:00, 11.44it/s]\n",
      "  0%|          | 0/115 [00:00<?, ?it/s]"
     ]
    },
    {
     "name": "stdout",
     "output_type": "stream",
     "text": [
      "Epoch: 9, train_loss: -0.9243802428245544, valid_loss: -0.9055960774421692\n"
     ]
    },
    {
     "name": "stderr",
     "output_type": "stream",
     "text": [
      "100%|██████████| 115/115 [00:37<00:00,  3.06it/s]\n",
      "100%|██████████| 16/16 [00:01<00:00, 11.09it/s]\n",
      "  0%|          | 0/115 [00:00<?, ?it/s]"
     ]
    },
    {
     "name": "stdout",
     "output_type": "stream",
     "text": [
      "Epoch: 10, train_loss: -0.9244592189788818, valid_loss: -0.8985099792480469\n"
     ]
    },
    {
     "name": "stderr",
     "output_type": "stream",
     "text": [
      "100%|██████████| 115/115 [00:38<00:00,  2.99it/s]\n",
      "100%|██████████| 16/16 [00:01<00:00, 11.55it/s]\n",
      "  0%|          | 0/115 [00:00<?, ?it/s]"
     ]
    },
    {
     "name": "stdout",
     "output_type": "stream",
     "text": [
      "Epoch: 11, train_loss: -0.9275647401809692, valid_loss: -0.8975206613540649\n"
     ]
    },
    {
     "name": "stderr",
     "output_type": "stream",
     "text": [
      "100%|██████████| 115/115 [00:40<00:00,  2.82it/s]\n",
      "100%|██████████| 16/16 [00:01<00:00, 10.05it/s]\n",
      "  0%|          | 0/115 [00:00<?, ?it/s]"
     ]
    },
    {
     "name": "stdout",
     "output_type": "stream",
     "text": [
      "Epoch: 12, train_loss: -0.9291530251502991, valid_loss: -0.903363823890686\n"
     ]
    },
    {
     "name": "stderr",
     "output_type": "stream",
     "text": [
      "100%|██████████| 115/115 [00:38<00:00,  2.97it/s]\n",
      "100%|██████████| 16/16 [00:01<00:00, 11.48it/s]\n",
      "  0%|          | 0/115 [00:00<?, ?it/s]"
     ]
    },
    {
     "name": "stdout",
     "output_type": "stream",
     "text": [
      "Epoch: 13, train_loss: -0.9309790134429932, valid_loss: -0.9038306474685669\n"
     ]
    },
    {
     "name": "stderr",
     "output_type": "stream",
     "text": [
      "100%|██████████| 115/115 [00:38<00:00,  2.99it/s]\n",
      "100%|██████████| 16/16 [00:01<00:00, 11.02it/s]\n",
      "  0%|          | 0/115 [00:00<?, ?it/s]"
     ]
    },
    {
     "name": "stdout",
     "output_type": "stream",
     "text": [
      "Epoch: 14, train_loss: -0.9313746690750122, valid_loss: -0.9076847434043884\n"
     ]
    },
    {
     "name": "stderr",
     "output_type": "stream",
     "text": [
      "100%|██████████| 115/115 [00:38<00:00,  3.01it/s]\n",
      "100%|██████████| 16/16 [00:01<00:00, 11.03it/s]\n",
      "  0%|          | 0/115 [00:00<?, ?it/s]"
     ]
    },
    {
     "name": "stdout",
     "output_type": "stream",
     "text": [
      "Epoch: 15, train_loss: -0.9310476183891296, valid_loss: -0.8994534611701965\n"
     ]
    },
    {
     "name": "stderr",
     "output_type": "stream",
     "text": [
      "100%|██████████| 115/115 [00:38<00:00,  2.97it/s]\n",
      "100%|██████████| 16/16 [00:01<00:00, 11.28it/s]\n",
      "  0%|          | 0/115 [00:00<?, ?it/s]"
     ]
    },
    {
     "name": "stdout",
     "output_type": "stream",
     "text": [
      "Epoch: 16, train_loss: -0.9332876205444336, valid_loss: -0.8980112075805664\n"
     ]
    },
    {
     "name": "stderr",
     "output_type": "stream",
     "text": [
      "100%|██████████| 115/115 [00:38<00:00,  2.98it/s]\n",
      "100%|██████████| 16/16 [00:01<00:00, 11.27it/s]\n",
      "  0%|          | 0/115 [00:00<?, ?it/s]"
     ]
    },
    {
     "name": "stdout",
     "output_type": "stream",
     "text": [
      "Epoch: 17, train_loss: -0.9337403178215027, valid_loss: -0.8987424969673157\n"
     ]
    },
    {
     "name": "stderr",
     "output_type": "stream",
     "text": [
      "100%|██████████| 115/115 [00:38<00:00,  2.98it/s]\n",
      "100%|██████████| 16/16 [00:01<00:00, 11.54it/s]\n",
      "  0%|          | 0/115 [00:00<?, ?it/s]"
     ]
    },
    {
     "name": "stdout",
     "output_type": "stream",
     "text": [
      "Epoch: 18, train_loss: -0.9348154664039612, valid_loss: -0.8927422165870667\n"
     ]
    },
    {
     "name": "stderr",
     "output_type": "stream",
     "text": [
      "100%|██████████| 115/115 [00:39<00:00,  2.92it/s]\n",
      "100%|██████████| 16/16 [00:01<00:00, 11.40it/s]\n",
      "  0%|          | 0/115 [00:00<?, ?it/s]"
     ]
    },
    {
     "name": "stdout",
     "output_type": "stream",
     "text": [
      "Epoch: 19, train_loss: -0.9351999759674072, valid_loss: -0.9188207387924194\n"
     ]
    },
    {
     "name": "stderr",
     "output_type": "stream",
     "text": [
      "100%|██████████| 115/115 [00:46<00:00,  2.47it/s]\n",
      "100%|██████████| 16/16 [00:02<00:00,  7.94it/s]\n",
      "  0%|          | 0/115 [00:00<?, ?it/s]"
     ]
    },
    {
     "name": "stdout",
     "output_type": "stream",
     "text": [
      "Epoch: 20, train_loss: -0.9366152286529541, valid_loss: -0.9098511338233948\n"
     ]
    },
    {
     "name": "stderr",
     "output_type": "stream",
     "text": [
      "100%|██████████| 115/115 [00:38<00:00,  3.01it/s]\n",
      "100%|██████████| 16/16 [00:01<00:00, 11.71it/s]\n",
      "  0%|          | 0/115 [00:00<?, ?it/s]"
     ]
    },
    {
     "name": "stdout",
     "output_type": "stream",
     "text": [
      "Epoch: 21, train_loss: -0.9352921843528748, valid_loss: -0.9104408025741577\n"
     ]
    },
    {
     "name": "stderr",
     "output_type": "stream",
     "text": [
      "100%|██████████| 115/115 [00:39<00:00,  2.89it/s]\n",
      "100%|██████████| 16/16 [00:01<00:00, 10.69it/s]\n",
      "  0%|          | 0/115 [00:00<?, ?it/s]"
     ]
    },
    {
     "name": "stdout",
     "output_type": "stream",
     "text": [
      "Epoch: 22, train_loss: -0.9387936592102051, valid_loss: -0.9281026124954224\n"
     ]
    },
    {
     "name": "stderr",
     "output_type": "stream",
     "text": [
      "100%|██████████| 115/115 [00:40<00:00,  2.84it/s]\n",
      "100%|██████████| 16/16 [00:01<00:00, 10.39it/s]\n",
      "  0%|          | 0/115 [00:00<?, ?it/s]"
     ]
    },
    {
     "name": "stdout",
     "output_type": "stream",
     "text": [
      "Epoch: 23, train_loss: -0.9407117366790771, valid_loss: -0.9063884615898132\n"
     ]
    },
    {
     "name": "stderr",
     "output_type": "stream",
     "text": [
      "100%|██████████| 115/115 [00:42<00:00,  2.67it/s]\n",
      "100%|██████████| 16/16 [00:01<00:00, 10.10it/s]\n",
      "  0%|          | 0/115 [00:00<?, ?it/s]"
     ]
    },
    {
     "name": "stdout",
     "output_type": "stream",
     "text": [
      "Epoch: 24, train_loss: -0.9402598142623901, valid_loss: -0.9061943888664246\n"
     ]
    },
    {
     "name": "stderr",
     "output_type": "stream",
     "text": [
      "100%|██████████| 115/115 [00:42<00:00,  2.69it/s]\n",
      "100%|██████████| 16/16 [00:01<00:00, 11.57it/s]\n",
      "  0%|          | 0/115 [00:00<?, ?it/s]"
     ]
    },
    {
     "name": "stdout",
     "output_type": "stream",
     "text": [
      "Epoch: 25, train_loss: -0.9424558281898499, valid_loss: -0.913790225982666\n"
     ]
    },
    {
     "name": "stderr",
     "output_type": "stream",
     "text": [
      "100%|██████████| 115/115 [00:39<00:00,  2.91it/s]\n",
      "100%|██████████| 16/16 [00:01<00:00,  8.88it/s]\n",
      "  0%|          | 0/115 [00:00<?, ?it/s]"
     ]
    },
    {
     "name": "stdout",
     "output_type": "stream",
     "text": [
      "Epoch: 26, train_loss: -0.9441757798194885, valid_loss: -0.9108129739761353\n"
     ]
    },
    {
     "name": "stderr",
     "output_type": "stream",
     "text": [
      "100%|██████████| 115/115 [00:41<00:00,  2.77it/s]\n",
      "100%|██████████| 16/16 [00:01<00:00,  9.54it/s]\n",
      "  0%|          | 0/115 [00:00<?, ?it/s]"
     ]
    },
    {
     "name": "stdout",
     "output_type": "stream",
     "text": [
      "Epoch: 27, train_loss: -0.945561945438385, valid_loss: -0.9190257787704468\n"
     ]
    },
    {
     "name": "stderr",
     "output_type": "stream",
     "text": [
      "100%|██████████| 115/115 [00:49<00:00,  2.33it/s]\n",
      "100%|██████████| 16/16 [00:01<00:00, 11.35it/s]\n",
      "  0%|          | 0/115 [00:00<?, ?it/s]"
     ]
    },
    {
     "name": "stdout",
     "output_type": "stream",
     "text": [
      "Epoch: 28, train_loss: -0.946423351764679, valid_loss: -0.9126764535903931\n"
     ]
    },
    {
     "name": "stderr",
     "output_type": "stream",
     "text": [
      "100%|██████████| 115/115 [00:39<00:00,  2.88it/s]\n",
      "100%|██████████| 16/16 [00:01<00:00,  9.22it/s]\n",
      "  0%|          | 0/115 [00:00<?, ?it/s]"
     ]
    },
    {
     "name": "stdout",
     "output_type": "stream",
     "text": [
      "Epoch: 29, train_loss: -0.9498341083526611, valid_loss: -0.917551577091217\n"
     ]
    },
    {
     "name": "stderr",
     "output_type": "stream",
     "text": [
      "100%|██████████| 115/115 [00:38<00:00,  2.95it/s]\n",
      "100%|██████████| 16/16 [00:01<00:00, 11.55it/s]\n",
      "  0%|          | 0/115 [00:00<?, ?it/s]"
     ]
    },
    {
     "name": "stdout",
     "output_type": "stream",
     "text": [
      "Epoch: 30, train_loss: -0.950761616230011, valid_loss: -0.9242527484893799\n"
     ]
    },
    {
     "name": "stderr",
     "output_type": "stream",
     "text": [
      "100%|██████████| 115/115 [00:38<00:00,  3.03it/s]\n",
      "100%|██████████| 16/16 [00:01<00:00, 10.93it/s]\n",
      "  0%|          | 0/115 [00:00<?, ?it/s]"
     ]
    },
    {
     "name": "stdout",
     "output_type": "stream",
     "text": [
      "Epoch: 31, train_loss: -0.9560106992721558, valid_loss: -0.9237510561943054\n"
     ]
    },
    {
     "name": "stderr",
     "output_type": "stream",
     "text": [
      "100%|██████████| 115/115 [00:42<00:00,  2.70it/s]\n",
      "100%|██████████| 16/16 [00:01<00:00, 10.36it/s]\n",
      "  0%|          | 0/115 [00:00<?, ?it/s]"
     ]
    },
    {
     "name": "stdout",
     "output_type": "stream",
     "text": [
      "Epoch: 32, train_loss: -0.962791383266449, valid_loss: -0.9463058114051819\n"
     ]
    },
    {
     "name": "stderr",
     "output_type": "stream",
     "text": [
      "100%|██████████| 115/115 [00:39<00:00,  2.95it/s]\n",
      "100%|██████████| 16/16 [00:01<00:00, 11.48it/s]\n",
      "  0%|          | 0/115 [00:00<?, ?it/s]"
     ]
    },
    {
     "name": "stdout",
     "output_type": "stream",
     "text": [
      "Epoch: 33, train_loss: -0.9808554649353027, valid_loss: -0.9378563165664673\n"
     ]
    },
    {
     "name": "stderr",
     "output_type": "stream",
     "text": [
      "100%|██████████| 115/115 [00:44<00:00,  2.58it/s]\n",
      "100%|██████████| 16/16 [00:02<00:00,  6.78it/s]\n",
      "  0%|          | 0/115 [00:00<?, ?it/s]"
     ]
    },
    {
     "name": "stdout",
     "output_type": "stream",
     "text": [
      "Epoch: 34, train_loss: -0.9839068055152893, valid_loss: -0.9448029398918152\n"
     ]
    },
    {
     "name": "stderr",
     "output_type": "stream",
     "text": [
      "100%|██████████| 115/115 [00:48<00:00,  2.37it/s]\n",
      "100%|██████████| 16/16 [00:01<00:00, 10.79it/s]\n",
      "  0%|          | 0/115 [00:00<?, ?it/s]"
     ]
    },
    {
     "name": "stdout",
     "output_type": "stream",
     "text": [
      "Epoch: 35, train_loss: -0.9850716590881348, valid_loss: -0.944717526435852\n"
     ]
    },
    {
     "name": "stderr",
     "output_type": "stream",
     "text": [
      "100%|██████████| 115/115 [00:45<00:00,  2.52it/s]\n",
      "100%|██████████| 16/16 [00:01<00:00,  8.44it/s]\n",
      "  0%|          | 0/115 [00:00<?, ?it/s]"
     ]
    },
    {
     "name": "stdout",
     "output_type": "stream",
     "text": [
      "Epoch: 36, train_loss: -0.988463282585144, valid_loss: -0.952395498752594\n"
     ]
    },
    {
     "name": "stderr",
     "output_type": "stream",
     "text": [
      "100%|██████████| 115/115 [00:42<00:00,  2.71it/s]\n",
      "100%|██████████| 16/16 [00:01<00:00, 11.11it/s]\n",
      "  0%|          | 0/115 [00:00<?, ?it/s]"
     ]
    },
    {
     "name": "stdout",
     "output_type": "stream",
     "text": [
      "Epoch: 37, train_loss: -0.9902305006980896, valid_loss: -0.947666585445404\n"
     ]
    },
    {
     "name": "stderr",
     "output_type": "stream",
     "text": [
      "100%|██████████| 115/115 [00:40<00:00,  2.84it/s]\n",
      "100%|██████████| 16/16 [00:01<00:00, 10.65it/s]\n",
      "  0%|          | 0/115 [00:00<?, ?it/s]"
     ]
    },
    {
     "name": "stdout",
     "output_type": "stream",
     "text": [
      "Epoch: 38, train_loss: -0.9926006197929382, valid_loss: -0.9477773308753967\n"
     ]
    },
    {
     "name": "stderr",
     "output_type": "stream",
     "text": [
      "100%|██████████| 115/115 [00:38<00:00,  2.96it/s]\n",
      "100%|██████████| 16/16 [00:01<00:00,  9.75it/s]\n",
      "  0%|          | 0/115 [00:00<?, ?it/s]"
     ]
    },
    {
     "name": "stdout",
     "output_type": "stream",
     "text": [
      "Epoch: 39, train_loss: -0.9949448108673096, valid_loss: -0.9442614912986755\n"
     ]
    },
    {
     "name": "stderr",
     "output_type": "stream",
     "text": [
      "100%|██████████| 115/115 [00:38<00:00,  2.98it/s]\n",
      "100%|██████████| 16/16 [00:01<00:00, 10.73it/s]\n",
      "  0%|          | 0/115 [00:00<?, ?it/s]"
     ]
    },
    {
     "name": "stdout",
     "output_type": "stream",
     "text": [
      "Epoch: 40, train_loss: -0.9952622652053833, valid_loss: -0.9400131702423096\n"
     ]
    },
    {
     "name": "stderr",
     "output_type": "stream",
     "text": [
      "100%|██████████| 115/115 [00:38<00:00,  3.00it/s]\n",
      "100%|██████████| 16/16 [00:01<00:00, 11.50it/s]\n",
      "  0%|          | 0/115 [00:00<?, ?it/s]"
     ]
    },
    {
     "name": "stdout",
     "output_type": "stream",
     "text": [
      "Epoch: 41, train_loss: -0.9965984225273132, valid_loss: -0.9428226351737976\n"
     ]
    },
    {
     "name": "stderr",
     "output_type": "stream",
     "text": [
      "100%|██████████| 115/115 [00:38<00:00,  2.95it/s]\n",
      "100%|██████████| 16/16 [00:01<00:00, 11.21it/s]\n",
      "  0%|          | 0/115 [00:00<?, ?it/s]"
     ]
    },
    {
     "name": "stdout",
     "output_type": "stream",
     "text": [
      "Epoch: 42, train_loss: -0.9989586472511292, valid_loss: -0.9498910307884216\n"
     ]
    },
    {
     "name": "stderr",
     "output_type": "stream",
     "text": [
      "100%|██████████| 115/115 [00:38<00:00,  2.96it/s]\n",
      "100%|██████████| 16/16 [00:01<00:00, 11.60it/s]\n",
      "  0%|          | 0/115 [00:00<?, ?it/s]"
     ]
    },
    {
     "name": "stdout",
     "output_type": "stream",
     "text": [
      "Epoch: 43, train_loss: -1.0034798383712769, valid_loss: -0.9467227458953857\n"
     ]
    },
    {
     "name": "stderr",
     "output_type": "stream",
     "text": [
      "100%|██████████| 115/115 [00:40<00:00,  2.83it/s]\n",
      "100%|██████████| 16/16 [00:01<00:00, 10.86it/s]\n",
      "  0%|          | 0/115 [00:00<?, ?it/s]"
     ]
    },
    {
     "name": "stdout",
     "output_type": "stream",
     "text": [
      "Epoch: 44, train_loss: -1.006526231765747, valid_loss: -0.9504883289337158\n"
     ]
    },
    {
     "name": "stderr",
     "output_type": "stream",
     "text": [
      "100%|██████████| 115/115 [00:39<00:00,  2.88it/s]\n",
      "100%|██████████| 16/16 [00:01<00:00, 10.80it/s]\n",
      "  0%|          | 0/115 [00:00<?, ?it/s]"
     ]
    },
    {
     "name": "stdout",
     "output_type": "stream",
     "text": [
      "Epoch: 45, train_loss: -1.0042434930801392, valid_loss: -0.9497265815734863\n"
     ]
    },
    {
     "name": "stderr",
     "output_type": "stream",
     "text": [
      "100%|██████████| 115/115 [00:39<00:00,  2.91it/s]\n",
      "100%|██████████| 16/16 [00:01<00:00, 10.16it/s]\n",
      "  0%|          | 0/115 [00:00<?, ?it/s]"
     ]
    },
    {
     "name": "stdout",
     "output_type": "stream",
     "text": [
      "Epoch: 46, train_loss: -1.0075602531433105, valid_loss: -0.9516515731811523\n"
     ]
    },
    {
     "name": "stderr",
     "output_type": "stream",
     "text": [
      "100%|██████████| 115/115 [00:40<00:00,  2.85it/s]\n",
      "100%|██████████| 16/16 [00:01<00:00,  8.63it/s]\n",
      "  0%|          | 0/115 [00:00<?, ?it/s]"
     ]
    },
    {
     "name": "stdout",
     "output_type": "stream",
     "text": [
      "Epoch: 47, train_loss: -1.009774088859558, valid_loss: -0.9478561878204346\n"
     ]
    },
    {
     "name": "stderr",
     "output_type": "stream",
     "text": [
      "100%|██████████| 115/115 [00:39<00:00,  2.88it/s]\n",
      "100%|██████████| 16/16 [00:01<00:00,  8.34it/s]\n",
      "  0%|          | 0/115 [00:00<?, ?it/s]"
     ]
    },
    {
     "name": "stdout",
     "output_type": "stream",
     "text": [
      "Epoch: 48, train_loss: -1.012447476387024, valid_loss: -0.943169355392456\n"
     ]
    },
    {
     "name": "stderr",
     "output_type": "stream",
     "text": [
      "100%|██████████| 115/115 [00:42<00:00,  2.69it/s]\n",
      "100%|██████████| 16/16 [00:01<00:00,  8.45it/s]\n",
      "  1%|          | 1/115 [00:00<00:18,  6.04it/s]"
     ]
    },
    {
     "name": "stdout",
     "output_type": "stream",
     "text": [
      "Updating prototype representation\n"
     ]
    },
    {
     "name": "stderr",
     "output_type": "stream",
     "text": [
      "100%|██████████| 115/115 [00:11<00:00,  9.79it/s]\n"
     ]
    },
    {
     "name": "stdout",
     "output_type": "stream",
     "text": [
      "Epoch: 49, train_loss: -1.0115094184875488, valid_loss: -0.9497058987617493\n"
     ]
    },
    {
     "name": "stderr",
     "output_type": "stream",
     "text": [
      "\r",
      "  0%|          | 0/115 [00:00<?, ?it/s]"
     ]
    },
    {
     "name": "stdout",
     "output_type": "stream",
     "text": [
      "{'BATCH_SIZE': 128, 'EPOCHS': 50, 'OPTIMIZER': <class 'torch.optim.adam.Adam'>, 'LEARNING_RATE': 0.0005, 'LOSS': protop_loss_2_1, 'EARLY_STOPPING': True, 'PATIENCE': 3, 'MIN_DELTA': 5e-05, 'MAXPOOL': 2, 'OBO_SIZES': array([256]), 'PROTOTYPE_NUM': 10, 'DROPOUT': 0.1, 'PROTO_ACTIVATION': 'log', 'HIDDEN_SIZES': array([ 64, 128]), 'KERNEL_SIZES': array([9, 3])}\n"
     ]
    },
    {
     "name": "stderr",
     "output_type": "stream",
     "text": [
      "100%|██████████| 115/115 [00:09<00:00, 11.59it/s]\n",
      "100%|██████████| 16/16 [00:00<00:00, 27.93it/s]\n",
      "  2%|▏         | 2/115 [00:00<00:09, 12.31it/s]"
     ]
    },
    {
     "name": "stdout",
     "output_type": "stream",
     "text": [
      "Epoch: 0, train_loss: 2.472609043121338, valid_loss: 1.406539797782898\n"
     ]
    },
    {
     "name": "stderr",
     "output_type": "stream",
     "text": [
      "100%|██████████| 115/115 [00:09<00:00, 11.97it/s]\n",
      "100%|██████████| 16/16 [00:00<00:00, 30.34it/s]\n",
      "  2%|▏         | 2/115 [00:00<00:08, 12.79it/s]"
     ]
    },
    {
     "name": "stdout",
     "output_type": "stream",
     "text": [
      "Epoch: 1, train_loss: 1.247594952583313, valid_loss: 1.2179111242294312\n"
     ]
    },
    {
     "name": "stderr",
     "output_type": "stream",
     "text": [
      "100%|██████████| 115/115 [00:10<00:00, 11.26it/s]\n",
      "100%|██████████| 16/16 [00:00<00:00, 27.88it/s]\n",
      "  2%|▏         | 2/115 [00:00<00:08, 12.93it/s]"
     ]
    },
    {
     "name": "stdout",
     "output_type": "stream",
     "text": [
      "Epoch: 2, train_loss: 1.0855411291122437, valid_loss: 1.090456247329712\n"
     ]
    },
    {
     "name": "stderr",
     "output_type": "stream",
     "text": [
      "100%|██████████| 115/115 [00:11<00:00, 10.25it/s]\n",
      "100%|██████████| 16/16 [00:00<00:00, 21.04it/s]\n",
      "  1%|          | 1/115 [00:00<00:14,  7.86it/s]"
     ]
    },
    {
     "name": "stdout",
     "output_type": "stream",
     "text": [
      "Epoch: 3, train_loss: 0.7379591464996338, valid_loss: 0.6688576340675354\n"
     ]
    },
    {
     "name": "stderr",
     "output_type": "stream",
     "text": [
      "100%|██████████| 115/115 [00:12<00:00,  8.94it/s]\n",
      "100%|██████████| 16/16 [00:00<00:00, 25.92it/s]\n",
      "  0%|          | 0/115 [00:00<?, ?it/s]"
     ]
    },
    {
     "name": "stdout",
     "output_type": "stream",
     "text": [
      "Epoch: 4, train_loss: 0.4023841321468353, valid_loss: 0.410332053899765\n"
     ]
    },
    {
     "name": "stderr",
     "output_type": "stream",
     "text": [
      "100%|██████████| 115/115 [00:10<00:00, 11.17it/s]\n",
      "100%|██████████| 16/16 [00:00<00:00, 28.38it/s]\n",
      "  2%|▏         | 2/115 [00:00<00:08, 13.22it/s]"
     ]
    },
    {
     "name": "stdout",
     "output_type": "stream",
     "text": [
      "Epoch: 5, train_loss: 0.20545439422130585, valid_loss: 0.31405749917030334\n"
     ]
    },
    {
     "name": "stderr",
     "output_type": "stream",
     "text": [
      "100%|██████████| 115/115 [00:09<00:00, 12.10it/s]\n",
      "100%|██████████| 16/16 [00:00<00:00, 27.59it/s]\n",
      "  2%|▏         | 2/115 [00:00<00:08, 13.01it/s]"
     ]
    },
    {
     "name": "stdout",
     "output_type": "stream",
     "text": [
      "Epoch: 6, train_loss: 0.15812112390995026, valid_loss: 0.27710384130477905\n"
     ]
    },
    {
     "name": "stderr",
     "output_type": "stream",
     "text": [
      "100%|██████████| 115/115 [00:09<00:00, 11.79it/s]\n",
      "100%|██████████| 16/16 [00:00<00:00, 27.89it/s]\n",
      "  2%|▏         | 2/115 [00:00<00:09, 12.43it/s]"
     ]
    },
    {
     "name": "stdout",
     "output_type": "stream",
     "text": [
      "Epoch: 7, train_loss: 0.00897516030818224, valid_loss: 0.0034555199090391397\n"
     ]
    },
    {
     "name": "stderr",
     "output_type": "stream",
     "text": [
      "100%|██████████| 115/115 [00:09<00:00, 11.77it/s]\n",
      "100%|██████████| 16/16 [00:00<00:00, 28.18it/s]\n",
      "  2%|▏         | 2/115 [00:00<00:09, 11.48it/s]"
     ]
    },
    {
     "name": "stdout",
     "output_type": "stream",
     "text": [
      "Epoch: 8, train_loss: -0.1619633585214615, valid_loss: -0.08871669322252274\n"
     ]
    },
    {
     "name": "stderr",
     "output_type": "stream",
     "text": [
      "100%|██████████| 115/115 [00:10<00:00, 11.02it/s]\n",
      "100%|██████████| 16/16 [00:00<00:00, 26.59it/s]\n",
      "  3%|▎         | 3/115 [00:00<00:04, 27.24it/s]"
     ]
    },
    {
     "name": "stdout",
     "output_type": "stream",
     "text": [
      "Updating prototype representation\n"
     ]
    },
    {
     "name": "stderr",
     "output_type": "stream",
     "text": [
      "100%|██████████| 115/115 [00:04<00:00, 26.79it/s]\n",
      "  2%|▏         | 2/115 [00:00<00:09, 12.30it/s]"
     ]
    },
    {
     "name": "stdout",
     "output_type": "stream",
     "text": [
      "val loss increased, patience count:  1\n",
      "Epoch: 9, train_loss: -0.24195066094398499, valid_loss: -0.07063242793083191\n"
     ]
    },
    {
     "name": "stderr",
     "output_type": "stream",
     "text": [
      "100%|██████████| 115/115 [00:10<00:00, 11.23it/s]\n",
      "100%|██████████| 16/16 [00:00<00:00, 29.67it/s]\n",
      "  2%|▏         | 2/115 [00:00<00:09, 11.54it/s]"
     ]
    },
    {
     "name": "stdout",
     "output_type": "stream",
     "text": [
      "Epoch: 10, train_loss: -0.6080369353294373, valid_loss: -0.6044974327087402\n"
     ]
    },
    {
     "name": "stderr",
     "output_type": "stream",
     "text": [
      "100%|██████████| 115/115 [00:10<00:00, 10.99it/s]\n",
      "100%|██████████| 16/16 [00:00<00:00, 29.43it/s]\n",
      "  2%|▏         | 2/115 [00:00<00:09, 11.51it/s]"
     ]
    },
    {
     "name": "stdout",
     "output_type": "stream",
     "text": [
      "Epoch: 11, train_loss: -0.7305840253829956, valid_loss: -0.6366776823997498\n"
     ]
    },
    {
     "name": "stderr",
     "output_type": "stream",
     "text": [
      "100%|██████████| 115/115 [00:10<00:00, 11.30it/s]\n",
      "100%|██████████| 16/16 [00:00<00:00, 27.24it/s]\n",
      "  3%|▎         | 3/115 [00:00<00:04, 26.87it/s]"
     ]
    },
    {
     "name": "stdout",
     "output_type": "stream",
     "text": [
      "Updating prototype representation\n"
     ]
    },
    {
     "name": "stderr",
     "output_type": "stream",
     "text": [
      "100%|██████████| 115/115 [00:04<00:00, 24.28it/s]\n",
      "  0%|          | 0/115 [00:00<?, ?it/s]"
     ]
    },
    {
     "name": "stdout",
     "output_type": "stream",
     "text": [
      "val loss increased, patience count:  1\n",
      "Epoch: 12, train_loss: -0.7826578617095947, valid_loss: -0.6063874959945679\n"
     ]
    },
    {
     "name": "stderr",
     "output_type": "stream",
     "text": [
      "100%|██████████| 115/115 [00:10<00:00, 10.61it/s]\n",
      "100%|██████████| 16/16 [00:00<00:00, 26.43it/s]\n",
      "  2%|▏         | 2/115 [00:00<00:10, 10.92it/s]"
     ]
    },
    {
     "name": "stdout",
     "output_type": "stream",
     "text": [
      "Epoch: 13, train_loss: -0.8403501510620117, valid_loss: -0.7129057049751282\n"
     ]
    },
    {
     "name": "stderr",
     "output_type": "stream",
     "text": [
      "100%|██████████| 115/115 [00:11<00:00, 10.14it/s]\n",
      "100%|██████████| 16/16 [00:00<00:00, 26.99it/s]\n",
      "  3%|▎         | 3/115 [00:00<00:04, 26.97it/s]"
     ]
    },
    {
     "name": "stdout",
     "output_type": "stream",
     "text": [
      "Updating prototype representation\n"
     ]
    },
    {
     "name": "stderr",
     "output_type": "stream",
     "text": [
      "100%|██████████| 115/115 [00:04<00:00, 25.08it/s]\n",
      "  1%|          | 1/115 [00:00<00:19,  5.91it/s]"
     ]
    },
    {
     "name": "stdout",
     "output_type": "stream",
     "text": [
      "val loss increased, patience count:  1\n",
      "Epoch: 14, train_loss: -0.8472626209259033, valid_loss: -0.6775551438331604\n"
     ]
    },
    {
     "name": "stderr",
     "output_type": "stream",
     "text": [
      "100%|██████████| 115/115 [00:12<00:00,  9.53it/s]\n",
      "100%|██████████| 16/16 [00:00<00:00, 28.12it/s]\n",
      "  3%|▎         | 3/115 [00:00<00:04, 27.02it/s]"
     ]
    },
    {
     "name": "stdout",
     "output_type": "stream",
     "text": [
      "Updating prototype representation\n"
     ]
    },
    {
     "name": "stderr",
     "output_type": "stream",
     "text": [
      "100%|██████████| 115/115 [00:04<00:00, 25.96it/s]\n",
      "  2%|▏         | 2/115 [00:00<00:09, 12.02it/s]"
     ]
    },
    {
     "name": "stdout",
     "output_type": "stream",
     "text": [
      "val loss increased, patience count:  2\n",
      "Epoch: 15, train_loss: -0.8525949716567993, valid_loss: -0.6976351737976074\n"
     ]
    },
    {
     "name": "stderr",
     "output_type": "stream",
     "text": [
      "100%|██████████| 115/115 [00:09<00:00, 12.02it/s]\n",
      "100%|██████████| 16/16 [00:00<00:00, 28.97it/s]\n",
      "  3%|▎         | 3/115 [00:00<00:04, 27.97it/s]"
     ]
    },
    {
     "name": "stdout",
     "output_type": "stream",
     "text": [
      "Updating prototype representation\n"
     ]
    },
    {
     "name": "stderr",
     "output_type": "stream",
     "text": [
      "100%|██████████| 115/115 [00:04<00:00, 27.70it/s]\n",
      "  2%|▏         | 2/115 [00:00<00:09, 12.31it/s]"
     ]
    },
    {
     "name": "stdout",
     "output_type": "stream",
     "text": [
      "val loss increased, patience count:  3\n",
      "Epoch: 16, train_loss: -0.8830922245979309, valid_loss: -0.684746265411377\n"
     ]
    },
    {
     "name": "stderr",
     "output_type": "stream",
     "text": [
      "100%|██████████| 115/115 [00:10<00:00, 11.15it/s]\n",
      "100%|██████████| 16/16 [00:00<00:00, 26.39it/s]\n",
      "  3%|▎         | 3/115 [00:00<00:04, 26.21it/s]"
     ]
    },
    {
     "name": "stdout",
     "output_type": "stream",
     "text": [
      "Updating prototype representation\n"
     ]
    },
    {
     "name": "stderr",
     "output_type": "stream",
     "text": [
      "100%|██████████| 115/115 [00:04<00:00, 26.66it/s]\n"
     ]
    },
    {
     "name": "stdout",
     "output_type": "stream",
     "text": [
      "Early stopped at Epoch:  17\n"
     ]
    },
    {
     "name": "stderr",
     "output_type": "stream",
     "text": [
      "\r",
      "  0%|          | 0/115 [00:00<?, ?it/s]"
     ]
    },
    {
     "name": "stdout",
     "output_type": "stream",
     "text": [
      "{'BATCH_SIZE': 128, 'EPOCHS': 50, 'OPTIMIZER': <class 'torch.optim.adam.Adam'>, 'LEARNING_RATE': 1e-05, 'LOSS': protop_loss_2_1, 'EARLY_STOPPING': False, 'PATIENCE': 2, 'MIN_DELTA': 0.0001, 'MAXPOOL': 2, 'OBO_SIZES': array([512]), 'PROTOTYPE_NUM': 10, 'DROPOUT': 0.0, 'PROTO_ACTIVATION': 'log', 'HIDDEN_SIZES': array([ 64, 128]), 'KERNEL_SIZES': array([9, 9])}\n"
     ]
    },
    {
     "name": "stderr",
     "output_type": "stream",
     "text": [
      "100%|██████████| 115/115 [00:26<00:00,  4.40it/s]\n",
      "100%|██████████| 16/16 [00:00<00:00, 16.49it/s]\n",
      "  0%|          | 0/115 [00:00<?, ?it/s]"
     ]
    },
    {
     "name": "stdout",
     "output_type": "stream",
     "text": [
      "Epoch: 0, train_loss: 11.093196868896484, valid_loss: 10.364593505859375\n"
     ]
    },
    {
     "name": "stderr",
     "output_type": "stream",
     "text": [
      "100%|██████████| 115/115 [00:26<00:00,  4.30it/s]\n",
      "100%|██████████| 16/16 [00:00<00:00, 17.41it/s]\n",
      "  0%|          | 0/115 [00:00<?, ?it/s]"
     ]
    },
    {
     "name": "stdout",
     "output_type": "stream",
     "text": [
      "Epoch: 1, train_loss: 9.256580352783203, valid_loss: 8.01024055480957\n"
     ]
    },
    {
     "name": "stderr",
     "output_type": "stream",
     "text": [
      "100%|██████████| 115/115 [00:27<00:00,  4.13it/s]\n",
      "100%|██████████| 16/16 [00:01<00:00, 15.96it/s]\n",
      "  0%|          | 0/115 [00:00<?, ?it/s]"
     ]
    },
    {
     "name": "stdout",
     "output_type": "stream",
     "text": [
      "Epoch: 2, train_loss: 6.738220691680908, valid_loss: 5.756079196929932\n"
     ]
    },
    {
     "name": "stderr",
     "output_type": "stream",
     "text": [
      "100%|██████████| 115/115 [00:26<00:00,  4.27it/s]\n",
      "100%|██████████| 16/16 [00:00<00:00, 17.08it/s]\n",
      "  0%|          | 0/115 [00:00<?, ?it/s]"
     ]
    },
    {
     "name": "stdout",
     "output_type": "stream",
     "text": [
      "Epoch: 3, train_loss: 4.9381632804870605, valid_loss: 4.445613861083984\n"
     ]
    },
    {
     "name": "stderr",
     "output_type": "stream",
     "text": [
      "100%|██████████| 115/115 [00:26<00:00,  4.29it/s]\n",
      "100%|██████████| 16/16 [00:00<00:00, 17.88it/s]\n",
      "  0%|          | 0/115 [00:00<?, ?it/s]"
     ]
    },
    {
     "name": "stdout",
     "output_type": "stream",
     "text": [
      "Epoch: 4, train_loss: 4.022449016571045, valid_loss: 3.921323776245117\n"
     ]
    },
    {
     "name": "stderr",
     "output_type": "stream",
     "text": [
      "100%|██████████| 115/115 [00:25<00:00,  4.44it/s]\n",
      "100%|██████████| 16/16 [00:00<00:00, 17.49it/s]\n",
      "  0%|          | 0/115 [00:00<?, ?it/s]"
     ]
    },
    {
     "name": "stdout",
     "output_type": "stream",
     "text": [
      "Epoch: 5, train_loss: 3.695735454559326, valid_loss: 3.7121214866638184\n"
     ]
    },
    {
     "name": "stderr",
     "output_type": "stream",
     "text": [
      "100%|██████████| 115/115 [00:26<00:00,  4.42it/s]\n",
      "100%|██████████| 16/16 [00:00<00:00, 18.06it/s]\n",
      "  0%|          | 0/115 [00:00<?, ?it/s]"
     ]
    },
    {
     "name": "stdout",
     "output_type": "stream",
     "text": [
      "Epoch: 6, train_loss: 3.555140256881714, valid_loss: 3.6118907928466797\n"
     ]
    },
    {
     "name": "stderr",
     "output_type": "stream",
     "text": [
      "100%|██████████| 115/115 [00:25<00:00,  4.46it/s]\n",
      "100%|██████████| 16/16 [00:00<00:00, 17.73it/s]\n",
      "  0%|          | 0/115 [00:00<?, ?it/s]"
     ]
    },
    {
     "name": "stdout",
     "output_type": "stream",
     "text": [
      "Epoch: 7, train_loss: 3.4856839179992676, valid_loss: 3.552609920501709\n"
     ]
    },
    {
     "name": "stderr",
     "output_type": "stream",
     "text": [
      "100%|██████████| 115/115 [00:26<00:00,  4.31it/s]\n",
      "100%|██████████| 16/16 [00:01<00:00, 14.20it/s]\n",
      "  0%|          | 0/115 [00:00<?, ?it/s]"
     ]
    },
    {
     "name": "stdout",
     "output_type": "stream",
     "text": [
      "Epoch: 8, train_loss: 3.4462642669677734, valid_loss: 3.5337002277374268\n"
     ]
    },
    {
     "name": "stderr",
     "output_type": "stream",
     "text": [
      "100%|██████████| 115/115 [00:28<00:00,  4.05it/s]\n",
      "100%|██████████| 16/16 [00:00<00:00, 16.55it/s]\n",
      "  0%|          | 0/115 [00:00<?, ?it/s]"
     ]
    },
    {
     "name": "stdout",
     "output_type": "stream",
     "text": [
      "Epoch: 9, train_loss: 3.408566951751709, valid_loss: 3.536313056945801\n"
     ]
    },
    {
     "name": "stderr",
     "output_type": "stream",
     "text": [
      "100%|██████████| 115/115 [00:28<00:00,  4.08it/s]\n",
      "100%|██████████| 16/16 [00:00<00:00, 17.95it/s]\n",
      "  0%|          | 0/115 [00:00<?, ?it/s]"
     ]
    },
    {
     "name": "stdout",
     "output_type": "stream",
     "text": [
      "Epoch: 10, train_loss: 3.3872361183166504, valid_loss: 3.5106287002563477\n"
     ]
    },
    {
     "name": "stderr",
     "output_type": "stream",
     "text": [
      "100%|██████████| 115/115 [00:25<00:00,  4.46it/s]\n",
      "100%|██████████| 16/16 [00:00<00:00, 17.97it/s]\n",
      "  0%|          | 0/115 [00:00<?, ?it/s]"
     ]
    },
    {
     "name": "stdout",
     "output_type": "stream",
     "text": [
      "Epoch: 11, train_loss: 3.3647940158843994, valid_loss: 3.4614250659942627\n"
     ]
    },
    {
     "name": "stderr",
     "output_type": "stream",
     "text": [
      "100%|██████████| 115/115 [00:26<00:00,  4.33it/s]\n",
      "100%|██████████| 16/16 [00:00<00:00, 16.94it/s]\n",
      "  0%|          | 0/115 [00:00<?, ?it/s]"
     ]
    },
    {
     "name": "stdout",
     "output_type": "stream",
     "text": [
      "Epoch: 12, train_loss: 3.3469722270965576, valid_loss: 3.426701545715332\n"
     ]
    },
    {
     "name": "stderr",
     "output_type": "stream",
     "text": [
      "100%|██████████| 115/115 [00:31<00:00,  3.62it/s]\n",
      "100%|██████████| 16/16 [00:01<00:00, 15.36it/s]\n",
      "  0%|          | 0/115 [00:00<?, ?it/s]"
     ]
    },
    {
     "name": "stdout",
     "output_type": "stream",
     "text": [
      "Epoch: 13, train_loss: 3.3273472785949707, valid_loss: 3.4447784423828125\n"
     ]
    },
    {
     "name": "stderr",
     "output_type": "stream",
     "text": [
      "100%|██████████| 115/115 [00:28<00:00,  4.03it/s]\n",
      "100%|██████████| 16/16 [00:00<00:00, 17.09it/s]\n",
      "  0%|          | 0/115 [00:00<?, ?it/s]"
     ]
    },
    {
     "name": "stdout",
     "output_type": "stream",
     "text": [
      "Epoch: 14, train_loss: 3.3144431114196777, valid_loss: 3.3694088459014893\n"
     ]
    },
    {
     "name": "stderr",
     "output_type": "stream",
     "text": [
      "100%|██████████| 115/115 [00:26<00:00,  4.26it/s]\n",
      "100%|██████████| 16/16 [00:00<00:00, 16.84it/s]\n",
      "  0%|          | 0/115 [00:00<?, ?it/s]"
     ]
    },
    {
     "name": "stdout",
     "output_type": "stream",
     "text": [
      "Epoch: 15, train_loss: 3.303194522857666, valid_loss: 3.428586959838867\n"
     ]
    },
    {
     "name": "stderr",
     "output_type": "stream",
     "text": [
      "100%|██████████| 115/115 [00:26<00:00,  4.29it/s]\n",
      "100%|██████████| 16/16 [00:00<00:00, 18.16it/s]\n",
      "  0%|          | 0/115 [00:00<?, ?it/s]"
     ]
    },
    {
     "name": "stdout",
     "output_type": "stream",
     "text": [
      "Epoch: 16, train_loss: 3.2555627822875977, valid_loss: 3.380554676055908\n"
     ]
    },
    {
     "name": "stderr",
     "output_type": "stream",
     "text": [
      "100%|██████████| 115/115 [00:26<00:00,  4.27it/s]\n",
      "100%|██████████| 16/16 [00:00<00:00, 17.53it/s]\n",
      "  0%|          | 0/115 [00:00<?, ?it/s]"
     ]
    },
    {
     "name": "stdout",
     "output_type": "stream",
     "text": [
      "Epoch: 17, train_loss: 3.159442186355591, valid_loss: 3.2041947841644287\n"
     ]
    },
    {
     "name": "stderr",
     "output_type": "stream",
     "text": [
      "100%|██████████| 115/115 [00:27<00:00,  4.18it/s]\n",
      "100%|██████████| 16/16 [00:01<00:00, 15.30it/s]\n",
      "  0%|          | 0/115 [00:00<?, ?it/s]"
     ]
    },
    {
     "name": "stdout",
     "output_type": "stream",
     "text": [
      "Epoch: 18, train_loss: 3.0848066806793213, valid_loss: 3.1741976737976074\n"
     ]
    },
    {
     "name": "stderr",
     "output_type": "stream",
     "text": [
      "100%|██████████| 115/115 [00:28<00:00,  4.07it/s]\n",
      "100%|██████████| 16/16 [00:00<00:00, 17.62it/s]\n",
      "  0%|          | 0/115 [00:00<?, ?it/s]"
     ]
    },
    {
     "name": "stdout",
     "output_type": "stream",
     "text": [
      "Epoch: 19, train_loss: 3.0673015117645264, valid_loss: 3.1479859352111816\n"
     ]
    },
    {
     "name": "stderr",
     "output_type": "stream",
     "text": [
      "100%|██████████| 115/115 [00:26<00:00,  4.32it/s]\n",
      "100%|██████████| 16/16 [00:00<00:00, 16.21it/s]\n",
      "  0%|          | 0/115 [00:00<?, ?it/s]"
     ]
    },
    {
     "name": "stdout",
     "output_type": "stream",
     "text": [
      "Epoch: 20, train_loss: 3.0555527210235596, valid_loss: 3.177288293838501\n"
     ]
    },
    {
     "name": "stderr",
     "output_type": "stream",
     "text": [
      "100%|██████████| 115/115 [00:28<00:00,  4.07it/s]\n",
      "100%|██████████| 16/16 [00:01<00:00, 15.26it/s]\n",
      "  0%|          | 0/115 [00:00<?, ?it/s]"
     ]
    },
    {
     "name": "stdout",
     "output_type": "stream",
     "text": [
      "Epoch: 21, train_loss: 3.04557204246521, valid_loss: 3.186910629272461\n"
     ]
    },
    {
     "name": "stderr",
     "output_type": "stream",
     "text": [
      "100%|██████████| 115/115 [00:26<00:00,  4.30it/s]\n",
      "100%|██████████| 16/16 [00:00<00:00, 16.07it/s]\n",
      "  0%|          | 0/115 [00:00<?, ?it/s]"
     ]
    },
    {
     "name": "stdout",
     "output_type": "stream",
     "text": [
      "Epoch: 22, train_loss: 3.031097173690796, valid_loss: 3.1727700233459473\n"
     ]
    },
    {
     "name": "stderr",
     "output_type": "stream",
     "text": [
      "100%|██████████| 115/115 [00:26<00:00,  4.32it/s]\n",
      "100%|██████████| 16/16 [00:00<00:00, 16.93it/s]\n",
      "  0%|          | 0/115 [00:00<?, ?it/s]"
     ]
    },
    {
     "name": "stdout",
     "output_type": "stream",
     "text": [
      "Epoch: 23, train_loss: 3.0311942100524902, valid_loss: 3.1339168548583984\n"
     ]
    },
    {
     "name": "stderr",
     "output_type": "stream",
     "text": [
      "100%|██████████| 115/115 [00:27<00:00,  4.23it/s]\n",
      "100%|██████████| 16/16 [00:00<00:00, 16.51it/s]\n",
      "  0%|          | 0/115 [00:00<?, ?it/s]"
     ]
    },
    {
     "name": "stdout",
     "output_type": "stream",
     "text": [
      "Epoch: 24, train_loss: 3.024165391921997, valid_loss: 3.125797986984253\n"
     ]
    },
    {
     "name": "stderr",
     "output_type": "stream",
     "text": [
      "100%|██████████| 115/115 [00:26<00:00,  4.30it/s]\n",
      "100%|██████████| 16/16 [00:00<00:00, 17.75it/s]\n",
      "  0%|          | 0/115 [00:00<?, ?it/s]"
     ]
    },
    {
     "name": "stdout",
     "output_type": "stream",
     "text": [
      "Epoch: 25, train_loss: 3.012751579284668, valid_loss: 3.1473779678344727\n"
     ]
    },
    {
     "name": "stderr",
     "output_type": "stream",
     "text": [
      "100%|██████████| 115/115 [00:31<00:00,  3.67it/s]\n",
      "100%|██████████| 16/16 [00:01<00:00, 15.25it/s]\n",
      "  0%|          | 0/115 [00:00<?, ?it/s]"
     ]
    },
    {
     "name": "stdout",
     "output_type": "stream",
     "text": [
      "Epoch: 26, train_loss: 3.0031321048736572, valid_loss: 3.0698678493499756\n"
     ]
    },
    {
     "name": "stderr",
     "output_type": "stream",
     "text": [
      "100%|██████████| 115/115 [00:26<00:00,  4.27it/s]\n",
      "100%|██████████| 16/16 [00:00<00:00, 17.63it/s]\n",
      "  0%|          | 0/115 [00:00<?, ?it/s]"
     ]
    },
    {
     "name": "stdout",
     "output_type": "stream",
     "text": [
      "Epoch: 27, train_loss: 2.991342306137085, valid_loss: 3.08115816116333\n"
     ]
    },
    {
     "name": "stderr",
     "output_type": "stream",
     "text": [
      "100%|██████████| 115/115 [00:27<00:00,  4.18it/s]\n",
      "100%|██████████| 16/16 [00:00<00:00, 16.75it/s]\n",
      "  0%|          | 0/115 [00:00<?, ?it/s]"
     ]
    },
    {
     "name": "stdout",
     "output_type": "stream",
     "text": [
      "Epoch: 28, train_loss: 2.9894230365753174, valid_loss: 3.137835741043091\n"
     ]
    },
    {
     "name": "stderr",
     "output_type": "stream",
     "text": [
      "100%|██████████| 115/115 [00:27<00:00,  4.19it/s]\n",
      "100%|██████████| 16/16 [00:00<00:00, 17.18it/s]\n",
      "  0%|          | 0/115 [00:00<?, ?it/s]"
     ]
    },
    {
     "name": "stdout",
     "output_type": "stream",
     "text": [
      "Epoch: 29, train_loss: 2.975982189178467, valid_loss: 3.0851359367370605\n"
     ]
    },
    {
     "name": "stderr",
     "output_type": "stream",
     "text": [
      "100%|██████████| 115/115 [00:26<00:00,  4.29it/s]\n",
      "100%|██████████| 16/16 [00:00<00:00, 17.06it/s]\n",
      "  0%|          | 0/115 [00:00<?, ?it/s]"
     ]
    },
    {
     "name": "stdout",
     "output_type": "stream",
     "text": [
      "Epoch: 30, train_loss: 2.9682765007019043, valid_loss: 3.116896867752075\n"
     ]
    },
    {
     "name": "stderr",
     "output_type": "stream",
     "text": [
      "100%|██████████| 115/115 [00:28<00:00,  3.99it/s]\n",
      "100%|██████████| 16/16 [00:01<00:00, 12.53it/s]\n",
      "  0%|          | 0/115 [00:00<?, ?it/s]"
     ]
    },
    {
     "name": "stdout",
     "output_type": "stream",
     "text": [
      "Epoch: 31, train_loss: 2.9681344032287598, valid_loss: 3.0696234703063965\n"
     ]
    },
    {
     "name": "stderr",
     "output_type": "stream",
     "text": [
      "100%|██████████| 115/115 [00:27<00:00,  4.24it/s]\n",
      "100%|██████████| 16/16 [00:00<00:00, 16.88it/s]\n",
      "  0%|          | 0/115 [00:00<?, ?it/s]"
     ]
    },
    {
     "name": "stdout",
     "output_type": "stream",
     "text": [
      "Epoch: 32, train_loss: 2.959930181503296, valid_loss: 3.084357976913452\n"
     ]
    },
    {
     "name": "stderr",
     "output_type": "stream",
     "text": [
      "100%|██████████| 115/115 [00:28<00:00,  3.97it/s]\n",
      "100%|██████████| 16/16 [00:00<00:00, 17.31it/s]\n",
      "  0%|          | 0/115 [00:00<?, ?it/s]"
     ]
    },
    {
     "name": "stdout",
     "output_type": "stream",
     "text": [
      "Epoch: 33, train_loss: 2.9499244689941406, valid_loss: 3.0550575256347656\n"
     ]
    },
    {
     "name": "stderr",
     "output_type": "stream",
     "text": [
      "100%|██████████| 115/115 [00:30<00:00,  3.74it/s]\n",
      "100%|██████████| 16/16 [00:01<00:00, 13.72it/s]\n",
      "  0%|          | 0/115 [00:00<?, ?it/s]"
     ]
    },
    {
     "name": "stdout",
     "output_type": "stream",
     "text": [
      "Epoch: 34, train_loss: 2.9513986110687256, valid_loss: 3.0680553913116455\n"
     ]
    },
    {
     "name": "stderr",
     "output_type": "stream",
     "text": [
      "100%|██████████| 115/115 [00:32<00:00,  3.51it/s]\n",
      "100%|██████████| 16/16 [00:01<00:00, 15.04it/s]\n",
      "  0%|          | 0/115 [00:00<?, ?it/s]"
     ]
    },
    {
     "name": "stdout",
     "output_type": "stream",
     "text": [
      "Epoch: 35, train_loss: 2.942290782928467, valid_loss: 3.065441370010376\n"
     ]
    },
    {
     "name": "stderr",
     "output_type": "stream",
     "text": [
      "100%|██████████| 115/115 [00:26<00:00,  4.32it/s]\n",
      "100%|██████████| 16/16 [00:00<00:00, 16.64it/s]\n",
      "  0%|          | 0/115 [00:00<?, ?it/s]"
     ]
    },
    {
     "name": "stdout",
     "output_type": "stream",
     "text": [
      "Epoch: 36, train_loss: 2.9398677349090576, valid_loss: 3.054910182952881\n"
     ]
    },
    {
     "name": "stderr",
     "output_type": "stream",
     "text": [
      "100%|██████████| 115/115 [00:27<00:00,  4.16it/s]\n",
      "100%|██████████| 16/16 [00:01<00:00, 15.31it/s]\n",
      "  0%|          | 0/115 [00:00<?, ?it/s]"
     ]
    },
    {
     "name": "stdout",
     "output_type": "stream",
     "text": [
      "Epoch: 37, train_loss: 2.9296629428863525, valid_loss: 3.0347914695739746\n"
     ]
    },
    {
     "name": "stderr",
     "output_type": "stream",
     "text": [
      "100%|██████████| 115/115 [00:28<00:00,  4.10it/s]\n",
      "100%|██████████| 16/16 [00:00<00:00, 17.36it/s]\n",
      "  0%|          | 0/115 [00:00<?, ?it/s]"
     ]
    },
    {
     "name": "stdout",
     "output_type": "stream",
     "text": [
      "Epoch: 38, train_loss: 2.925938129425049, valid_loss: 3.033498764038086\n"
     ]
    },
    {
     "name": "stderr",
     "output_type": "stream",
     "text": [
      "100%|██████████| 115/115 [00:27<00:00,  4.24it/s]\n",
      "100%|██████████| 16/16 [00:00<00:00, 17.89it/s]\n",
      "  0%|          | 0/115 [00:00<?, ?it/s]"
     ]
    },
    {
     "name": "stdout",
     "output_type": "stream",
     "text": [
      "Epoch: 39, train_loss: 2.9230871200561523, valid_loss: 3.0203967094421387\n"
     ]
    },
    {
     "name": "stderr",
     "output_type": "stream",
     "text": [
      "100%|██████████| 115/115 [00:29<00:00,  3.95it/s]\n",
      "100%|██████████| 16/16 [00:00<00:00, 18.15it/s]\n",
      "  0%|          | 0/115 [00:00<?, ?it/s]"
     ]
    },
    {
     "name": "stdout",
     "output_type": "stream",
     "text": [
      "Epoch: 40, train_loss: 2.9133176803588867, valid_loss: 3.0616514682769775\n"
     ]
    },
    {
     "name": "stderr",
     "output_type": "stream",
     "text": [
      "100%|██████████| 115/115 [00:28<00:00,  4.01it/s]\n",
      "100%|██████████| 16/16 [00:00<00:00, 16.84it/s]\n",
      "  0%|          | 0/115 [00:00<?, ?it/s]"
     ]
    },
    {
     "name": "stdout",
     "output_type": "stream",
     "text": [
      "Epoch: 41, train_loss: 2.9039461612701416, valid_loss: 3.0623281002044678\n"
     ]
    },
    {
     "name": "stderr",
     "output_type": "stream",
     "text": [
      "100%|██████████| 115/115 [00:29<00:00,  3.84it/s]\n",
      "100%|██████████| 16/16 [00:00<00:00, 17.44it/s]\n",
      "  0%|          | 0/115 [00:00<?, ?it/s]"
     ]
    },
    {
     "name": "stdout",
     "output_type": "stream",
     "text": [
      "Epoch: 42, train_loss: 2.9077374935150146, valid_loss: 2.9844021797180176\n"
     ]
    },
    {
     "name": "stderr",
     "output_type": "stream",
     "text": [
      "100%|██████████| 115/115 [00:27<00:00,  4.18it/s]\n",
      "100%|██████████| 16/16 [00:01<00:00, 13.87it/s]\n",
      "  0%|          | 0/115 [00:00<?, ?it/s]"
     ]
    },
    {
     "name": "stdout",
     "output_type": "stream",
     "text": [
      "Epoch: 43, train_loss: 2.8983983993530273, valid_loss: 2.9846014976501465\n"
     ]
    },
    {
     "name": "stderr",
     "output_type": "stream",
     "text": [
      "100%|██████████| 115/115 [00:27<00:00,  4.19it/s]\n",
      "100%|██████████| 16/16 [00:00<00:00, 17.43it/s]\n",
      "  0%|          | 0/115 [00:00<?, ?it/s]"
     ]
    },
    {
     "name": "stdout",
     "output_type": "stream",
     "text": [
      "Epoch: 44, train_loss: 2.8929882049560547, valid_loss: 3.0098724365234375\n"
     ]
    },
    {
     "name": "stderr",
     "output_type": "stream",
     "text": [
      "100%|██████████| 115/115 [00:26<00:00,  4.32it/s]\n",
      "100%|██████████| 16/16 [00:00<00:00, 16.08it/s]\n",
      "  0%|          | 0/115 [00:00<?, ?it/s]"
     ]
    },
    {
     "name": "stdout",
     "output_type": "stream",
     "text": [
      "Epoch: 45, train_loss: 2.894176959991455, valid_loss: 2.9727084636688232\n"
     ]
    },
    {
     "name": "stderr",
     "output_type": "stream",
     "text": [
      "100%|██████████| 115/115 [00:26<00:00,  4.30it/s]\n",
      "100%|██████████| 16/16 [00:00<00:00, 16.25it/s]\n",
      "  0%|          | 0/115 [00:00<?, ?it/s]"
     ]
    },
    {
     "name": "stdout",
     "output_type": "stream",
     "text": [
      "Epoch: 46, train_loss: 2.8792176246643066, valid_loss: 2.9745092391967773\n"
     ]
    },
    {
     "name": "stderr",
     "output_type": "stream",
     "text": [
      "100%|██████████| 115/115 [00:27<00:00,  4.21it/s]\n",
      "100%|██████████| 16/16 [00:00<00:00, 16.81it/s]\n",
      "  0%|          | 0/115 [00:00<?, ?it/s]"
     ]
    },
    {
     "name": "stdout",
     "output_type": "stream",
     "text": [
      "Epoch: 47, train_loss: 2.8298778533935547, valid_loss: 2.9285364151000977\n"
     ]
    },
    {
     "name": "stderr",
     "output_type": "stream",
     "text": [
      "100%|██████████| 115/115 [00:26<00:00,  4.28it/s]\n",
      "100%|██████████| 16/16 [00:00<00:00, 16.03it/s]\n",
      "  0%|          | 0/115 [00:00<?, ?it/s]"
     ]
    },
    {
     "name": "stdout",
     "output_type": "stream",
     "text": [
      "Epoch: 48, train_loss: 2.8225910663604736, valid_loss: 2.9254872798919678\n"
     ]
    },
    {
     "name": "stderr",
     "output_type": "stream",
     "text": [
      "100%|██████████| 115/115 [00:27<00:00,  4.22it/s]\n",
      "100%|██████████| 16/16 [00:00<00:00, 17.21it/s]\n",
      "  2%|▏         | 2/115 [00:00<00:07, 14.98it/s]"
     ]
    },
    {
     "name": "stdout",
     "output_type": "stream",
     "text": [
      "Updating prototype representation\n"
     ]
    },
    {
     "name": "stderr",
     "output_type": "stream",
     "text": [
      "100%|██████████| 115/115 [00:07<00:00, 15.88it/s]\n"
     ]
    },
    {
     "name": "stdout",
     "output_type": "stream",
     "text": [
      "Epoch: 49, train_loss: 2.8094711303710938, valid_loss: 2.9063034057617188\n"
     ]
    },
    {
     "name": "stderr",
     "output_type": "stream",
     "text": [
      "\r",
      "  0%|          | 0/57 [00:00<?, ?it/s]"
     ]
    },
    {
     "name": "stdout",
     "output_type": "stream",
     "text": [
      "{'BATCH_SIZE': 256, 'EPOCHS': 50, 'OPTIMIZER': <class 'torch.optim.adam.Adam'>, 'LEARNING_RATE': 0.0005, 'LOSS': protop_loss_2_1, 'EARLY_STOPPING': False, 'PATIENCE': 2, 'MIN_DELTA': 0.005, 'MAXPOOL': 2, 'OBO_SIZES': array([512]), 'PROTOTYPE_NUM': 30, 'DROPOUT': 0.0, 'PROTO_ACTIVATION': 'log', 'HIDDEN_SIZES': array([128, 256]), 'KERNEL_SIZES': array([3, 3])}\n"
     ]
    },
    {
     "name": "stderr",
     "output_type": "stream",
     "text": [
      "100%|██████████| 57/57 [01:45<00:00,  1.85s/it]\n",
      "100%|██████████| 8/8 [00:05<00:00,  1.33it/s]\n",
      "  0%|          | 0/57 [00:00<?, ?it/s]"
     ]
    },
    {
     "name": "stdout",
     "output_type": "stream",
     "text": [
      "Epoch: 0, train_loss: 3.888702154159546, valid_loss: 1.6905574798583984\n"
     ]
    },
    {
     "name": "stderr",
     "output_type": "stream",
     "text": [
      "100%|██████████| 57/57 [01:44<00:00,  1.84s/it]\n",
      "100%|██████████| 8/8 [00:06<00:00,  1.32it/s]\n",
      "  0%|          | 0/57 [00:00<?, ?it/s]"
     ]
    },
    {
     "name": "stdout",
     "output_type": "stream",
     "text": [
      "Epoch: 1, train_loss: 1.3640612363815308, valid_loss: 1.3697751760482788\n"
     ]
    },
    {
     "name": "stderr",
     "output_type": "stream",
     "text": [
      "100%|██████████| 57/57 [01:45<00:00,  1.85s/it]\n",
      "100%|██████████| 8/8 [00:05<00:00,  1.34it/s]\n",
      "  0%|          | 0/57 [00:00<?, ?it/s]"
     ]
    },
    {
     "name": "stdout",
     "output_type": "stream",
     "text": [
      "Epoch: 2, train_loss: 1.21011483669281, valid_loss: 1.2898043394088745\n"
     ]
    },
    {
     "name": "stderr",
     "output_type": "stream",
     "text": [
      "100%|██████████| 57/57 [01:47<00:00,  1.88s/it]\n",
      "100%|██████████| 8/8 [00:06<00:00,  1.29it/s]\n",
      "  0%|          | 0/57 [00:00<?, ?it/s]"
     ]
    },
    {
     "name": "stdout",
     "output_type": "stream",
     "text": [
      "Epoch: 3, train_loss: 1.1645997762680054, valid_loss: 1.2710416316986084\n"
     ]
    },
    {
     "name": "stderr",
     "output_type": "stream",
     "text": [
      "100%|██████████| 57/57 [01:42<00:00,  1.81s/it]\n",
      "100%|██████████| 8/8 [00:05<00:00,  1.40it/s]\n",
      "  0%|          | 0/57 [00:00<?, ?it/s]"
     ]
    },
    {
     "name": "stdout",
     "output_type": "stream",
     "text": [
      "Epoch: 4, train_loss: 1.1301172971725464, valid_loss: 1.2230195999145508\n"
     ]
    },
    {
     "name": "stderr",
     "output_type": "stream",
     "text": [
      "100%|██████████| 57/57 [01:45<00:00,  1.85s/it]\n",
      "100%|██████████| 8/8 [00:06<00:00,  1.30it/s]\n",
      "  0%|          | 0/57 [00:00<?, ?it/s]"
     ]
    },
    {
     "name": "stdout",
     "output_type": "stream",
     "text": [
      "Epoch: 5, train_loss: 1.0790791511535645, valid_loss: 1.1189056634902954\n"
     ]
    },
    {
     "name": "stderr",
     "output_type": "stream",
     "text": [
      "100%|██████████| 57/57 [01:46<00:00,  1.88s/it]\n",
      "100%|██████████| 8/8 [00:06<00:00,  1.24it/s]\n",
      "  0%|          | 0/57 [00:00<?, ?it/s]"
     ]
    },
    {
     "name": "stdout",
     "output_type": "stream",
     "text": [
      "Epoch: 6, train_loss: 0.9843064546585083, valid_loss: 1.0218816995620728\n"
     ]
    },
    {
     "name": "stderr",
     "output_type": "stream",
     "text": [
      "100%|██████████| 57/57 [01:50<00:00,  1.94s/it]\n",
      "100%|██████████| 8/8 [00:06<00:00,  1.30it/s]\n",
      "  0%|          | 0/57 [00:00<?, ?it/s]"
     ]
    },
    {
     "name": "stdout",
     "output_type": "stream",
     "text": [
      "Epoch: 7, train_loss: 0.8652544617652893, valid_loss: 1.0000889301300049\n"
     ]
    },
    {
     "name": "stderr",
     "output_type": "stream",
     "text": [
      "100%|██████████| 57/57 [01:45<00:00,  1.86s/it]\n",
      "100%|██████████| 8/8 [00:06<00:00,  1.28it/s]\n",
      "  0%|          | 0/57 [00:00<?, ?it/s]"
     ]
    },
    {
     "name": "stdout",
     "output_type": "stream",
     "text": [
      "Epoch: 8, train_loss: 0.8158681392669678, valid_loss: 0.9498112201690674\n"
     ]
    },
    {
     "name": "stderr",
     "output_type": "stream",
     "text": [
      "100%|██████████| 57/57 [01:45<00:00,  1.84s/it]\n",
      "100%|██████████| 8/8 [00:06<00:00,  1.24it/s]\n",
      "  0%|          | 0/57 [00:00<?, ?it/s]"
     ]
    },
    {
     "name": "stdout",
     "output_type": "stream",
     "text": [
      "Epoch: 9, train_loss: 0.7917788028717041, valid_loss: 0.9635406136512756\n"
     ]
    },
    {
     "name": "stderr",
     "output_type": "stream",
     "text": [
      "100%|██████████| 57/57 [01:44<00:00,  1.83s/it]\n",
      "100%|██████████| 8/8 [00:06<00:00,  1.32it/s]\n",
      "  0%|          | 0/57 [00:00<?, ?it/s]"
     ]
    },
    {
     "name": "stdout",
     "output_type": "stream",
     "text": [
      "Epoch: 10, train_loss: 0.7592906951904297, valid_loss: 0.9168658256530762\n"
     ]
    },
    {
     "name": "stderr",
     "output_type": "stream",
     "text": [
      "100%|██████████| 57/57 [01:43<00:00,  1.81s/it]\n",
      "100%|██████████| 8/8 [00:05<00:00,  1.39it/s]\n",
      "  0%|          | 0/57 [00:00<?, ?it/s]"
     ]
    },
    {
     "name": "stdout",
     "output_type": "stream",
     "text": [
      "Epoch: 11, train_loss: 0.7388277053833008, valid_loss: 0.9305934906005859\n"
     ]
    },
    {
     "name": "stderr",
     "output_type": "stream",
     "text": [
      "100%|██████████| 57/57 [01:43<00:00,  1.81s/it]\n",
      "100%|██████████| 8/8 [00:05<00:00,  1.36it/s]\n",
      "  0%|          | 0/57 [00:00<?, ?it/s]"
     ]
    },
    {
     "name": "stdout",
     "output_type": "stream",
     "text": [
      "Epoch: 12, train_loss: 0.7178099751472473, valid_loss: 0.914183497428894\n"
     ]
    },
    {
     "name": "stderr",
     "output_type": "stream",
     "text": [
      "100%|██████████| 57/57 [01:42<00:00,  1.80s/it]\n",
      "100%|██████████| 8/8 [00:05<00:00,  1.34it/s]\n",
      "  0%|          | 0/57 [00:00<?, ?it/s]"
     ]
    },
    {
     "name": "stdout",
     "output_type": "stream",
     "text": [
      "Epoch: 13, train_loss: 0.6927942633628845, valid_loss: 0.8596538305282593\n"
     ]
    },
    {
     "name": "stderr",
     "output_type": "stream",
     "text": [
      "100%|██████████| 57/57 [01:42<00:00,  1.79s/it]\n",
      "100%|██████████| 8/8 [00:05<00:00,  1.34it/s]\n",
      "  0%|          | 0/57 [00:00<?, ?it/s]"
     ]
    },
    {
     "name": "stdout",
     "output_type": "stream",
     "text": [
      "Epoch: 14, train_loss: 0.675427258014679, valid_loss: 0.9165608882904053\n"
     ]
    },
    {
     "name": "stderr",
     "output_type": "stream",
     "text": [
      "100%|██████████| 57/57 [01:43<00:00,  1.81s/it]\n",
      "100%|██████████| 8/8 [00:05<00:00,  1.40it/s]\n",
      "  0%|          | 0/57 [00:00<?, ?it/s]"
     ]
    },
    {
     "name": "stdout",
     "output_type": "stream",
     "text": [
      "Epoch: 15, train_loss: 0.6720583438873291, valid_loss: 0.9237110614776611\n"
     ]
    },
    {
     "name": "stderr",
     "output_type": "stream",
     "text": [
      "100%|██████████| 57/57 [01:43<00:00,  1.81s/it]\n",
      "100%|██████████| 8/8 [00:05<00:00,  1.34it/s]\n",
      "  0%|          | 0/57 [00:00<?, ?it/s]"
     ]
    },
    {
     "name": "stdout",
     "output_type": "stream",
     "text": [
      "Epoch: 16, train_loss: 0.6411554217338562, valid_loss: 0.8645429611206055\n"
     ]
    },
    {
     "name": "stderr",
     "output_type": "stream",
     "text": [
      "100%|██████████| 57/57 [01:42<00:00,  1.80s/it]\n",
      "100%|██████████| 8/8 [00:05<00:00,  1.34it/s]\n",
      "  0%|          | 0/57 [00:00<?, ?it/s]"
     ]
    },
    {
     "name": "stdout",
     "output_type": "stream",
     "text": [
      "Epoch: 17, train_loss: 0.6146105527877808, valid_loss: 0.8847881555557251\n"
     ]
    },
    {
     "name": "stderr",
     "output_type": "stream",
     "text": [
      "100%|██████████| 57/57 [01:41<00:00,  1.79s/it]\n",
      "100%|██████████| 8/8 [00:05<00:00,  1.42it/s]\n",
      "  0%|          | 0/57 [00:00<?, ?it/s]"
     ]
    },
    {
     "name": "stdout",
     "output_type": "stream",
     "text": [
      "Epoch: 18, train_loss: 0.6102826595306396, valid_loss: 0.8706247806549072\n"
     ]
    },
    {
     "name": "stderr",
     "output_type": "stream",
     "text": [
      "100%|██████████| 57/57 [01:42<00:00,  1.80s/it]\n",
      "100%|██████████| 8/8 [00:05<00:00,  1.40it/s]\n",
      "  0%|          | 0/57 [00:00<?, ?it/s]"
     ]
    },
    {
     "name": "stdout",
     "output_type": "stream",
     "text": [
      "Epoch: 19, train_loss: 0.5640409588813782, valid_loss: 0.8183012008666992\n"
     ]
    },
    {
     "name": "stderr",
     "output_type": "stream",
     "text": [
      "100%|██████████| 57/57 [01:42<00:00,  1.81s/it]\n",
      "100%|██████████| 8/8 [00:05<00:00,  1.38it/s]\n",
      "  0%|          | 0/57 [00:00<?, ?it/s]"
     ]
    },
    {
     "name": "stdout",
     "output_type": "stream",
     "text": [
      "Epoch: 20, train_loss: 0.5021600723266602, valid_loss: 0.8174484968185425\n"
     ]
    },
    {
     "name": "stderr",
     "output_type": "stream",
     "text": [
      "100%|██████████| 57/57 [01:42<00:00,  1.79s/it]\n",
      "100%|██████████| 8/8 [00:05<00:00,  1.36it/s]\n",
      "  0%|          | 0/57 [00:00<?, ?it/s]"
     ]
    },
    {
     "name": "stdout",
     "output_type": "stream",
     "text": [
      "Epoch: 21, train_loss: 0.4906154274940491, valid_loss: 0.8045221567153931\n"
     ]
    },
    {
     "name": "stderr",
     "output_type": "stream",
     "text": [
      "100%|██████████| 57/57 [01:42<00:00,  1.81s/it]\n",
      "100%|██████████| 8/8 [00:06<00:00,  1.31it/s]\n",
      "  0%|          | 0/57 [00:00<?, ?it/s]"
     ]
    },
    {
     "name": "stdout",
     "output_type": "stream",
     "text": [
      "Epoch: 22, train_loss: 0.4683701992034912, valid_loss: 0.8454977869987488\n"
     ]
    },
    {
     "name": "stderr",
     "output_type": "stream",
     "text": [
      "100%|██████████| 57/57 [01:42<00:00,  1.81s/it]\n",
      "100%|██████████| 8/8 [00:05<00:00,  1.39it/s]\n",
      "  0%|          | 0/57 [00:00<?, ?it/s]"
     ]
    },
    {
     "name": "stdout",
     "output_type": "stream",
     "text": [
      "Epoch: 23, train_loss: 0.4642530083656311, valid_loss: 0.8353630304336548\n"
     ]
    },
    {
     "name": "stderr",
     "output_type": "stream",
     "text": [
      "100%|██████████| 57/57 [01:42<00:00,  1.80s/it]\n",
      "100%|██████████| 8/8 [00:06<00:00,  1.29it/s]\n",
      "  0%|          | 0/57 [00:00<?, ?it/s]"
     ]
    },
    {
     "name": "stdout",
     "output_type": "stream",
     "text": [
      "Epoch: 24, train_loss: 0.43601682782173157, valid_loss: 0.7812649011611938\n"
     ]
    },
    {
     "name": "stderr",
     "output_type": "stream",
     "text": [
      "100%|██████████| 57/57 [01:42<00:00,  1.79s/it]\n",
      "100%|██████████| 8/8 [00:06<00:00,  1.32it/s]\n",
      "  0%|          | 0/57 [00:00<?, ?it/s]"
     ]
    },
    {
     "name": "stdout",
     "output_type": "stream",
     "text": [
      "Epoch: 25, train_loss: 0.42725908756256104, valid_loss: 0.8092305064201355\n"
     ]
    },
    {
     "name": "stderr",
     "output_type": "stream",
     "text": [
      "100%|██████████| 57/57 [01:43<00:00,  1.82s/it]\n",
      "100%|██████████| 8/8 [00:05<00:00,  1.36it/s]\n",
      "  0%|          | 0/57 [00:00<?, ?it/s]"
     ]
    },
    {
     "name": "stdout",
     "output_type": "stream",
     "text": [
      "Epoch: 26, train_loss: 0.4278217852115631, valid_loss: 0.8129392266273499\n"
     ]
    },
    {
     "name": "stderr",
     "output_type": "stream",
     "text": [
      "100%|██████████| 57/57 [01:44<00:00,  1.83s/it]\n",
      "100%|██████████| 8/8 [00:06<00:00,  1.27it/s]\n",
      "  0%|          | 0/57 [00:00<?, ?it/s]"
     ]
    },
    {
     "name": "stdout",
     "output_type": "stream",
     "text": [
      "Epoch: 27, train_loss: 0.38657987117767334, valid_loss: 0.7571860551834106\n"
     ]
    },
    {
     "name": "stderr",
     "output_type": "stream",
     "text": [
      "100%|██████████| 57/57 [01:41<00:00,  1.79s/it]\n",
      "100%|██████████| 8/8 [00:05<00:00,  1.36it/s]\n",
      "  0%|          | 0/57 [00:00<?, ?it/s]"
     ]
    },
    {
     "name": "stdout",
     "output_type": "stream",
     "text": [
      "Epoch: 28, train_loss: 0.3643043637275696, valid_loss: 0.755043625831604\n"
     ]
    },
    {
     "name": "stderr",
     "output_type": "stream",
     "text": [
      "100%|██████████| 57/57 [01:43<00:00,  1.81s/it]\n",
      "100%|██████████| 8/8 [00:05<00:00,  1.34it/s]\n",
      "  0%|          | 0/57 [00:00<?, ?it/s]"
     ]
    },
    {
     "name": "stdout",
     "output_type": "stream",
     "text": [
      "Epoch: 29, train_loss: 0.35238856077194214, valid_loss: 0.7502671480178833\n"
     ]
    },
    {
     "name": "stderr",
     "output_type": "stream",
     "text": [
      "100%|██████████| 57/57 [01:43<00:00,  1.81s/it]\n",
      "100%|██████████| 8/8 [00:06<00:00,  1.33it/s]\n",
      "  0%|          | 0/57 [00:00<?, ?it/s]"
     ]
    },
    {
     "name": "stdout",
     "output_type": "stream",
     "text": [
      "Epoch: 30, train_loss: 0.33989694714546204, valid_loss: 0.7883205413818359\n"
     ]
    },
    {
     "name": "stderr",
     "output_type": "stream",
     "text": [
      "100%|██████████| 57/57 [01:44<00:00,  1.83s/it]\n",
      "100%|██████████| 8/8 [00:05<00:00,  1.39it/s]\n",
      "  0%|          | 0/57 [00:00<?, ?it/s]"
     ]
    },
    {
     "name": "stdout",
     "output_type": "stream",
     "text": [
      "Epoch: 31, train_loss: 0.3262946903705597, valid_loss: 0.7702746391296387\n"
     ]
    },
    {
     "name": "stderr",
     "output_type": "stream",
     "text": [
      "100%|██████████| 57/57 [01:42<00:00,  1.81s/it]\n",
      "100%|██████████| 8/8 [00:05<00:00,  1.37it/s]\n",
      "  0%|          | 0/57 [00:00<?, ?it/s]"
     ]
    },
    {
     "name": "stdout",
     "output_type": "stream",
     "text": [
      "Epoch: 32, train_loss: 0.31337377429008484, valid_loss: 0.797464907169342\n"
     ]
    },
    {
     "name": "stderr",
     "output_type": "stream",
     "text": [
      "100%|██████████| 57/57 [01:42<00:00,  1.80s/it]\n",
      "100%|██████████| 8/8 [00:05<00:00,  1.35it/s]\n",
      "  0%|          | 0/57 [00:00<?, ?it/s]"
     ]
    },
    {
     "name": "stdout",
     "output_type": "stream",
     "text": [
      "Epoch: 33, train_loss: 0.30218827724456787, valid_loss: 0.7746950387954712\n"
     ]
    },
    {
     "name": "stderr",
     "output_type": "stream",
     "text": [
      "100%|██████████| 57/57 [01:42<00:00,  1.80s/it]\n",
      "100%|██████████| 8/8 [00:05<00:00,  1.38it/s]\n",
      "  0%|          | 0/57 [00:00<?, ?it/s]"
     ]
    },
    {
     "name": "stdout",
     "output_type": "stream",
     "text": [
      "Epoch: 34, train_loss: 0.2903844714164734, valid_loss: 0.7587103843688965\n"
     ]
    },
    {
     "name": "stderr",
     "output_type": "stream",
     "text": [
      "100%|██████████| 57/57 [01:41<00:00,  1.78s/it]\n",
      "100%|██████████| 8/8 [00:06<00:00,  1.28it/s]\n",
      "  0%|          | 0/57 [00:00<?, ?it/s]"
     ]
    },
    {
     "name": "stdout",
     "output_type": "stream",
     "text": [
      "Epoch: 35, train_loss: 0.27005842328071594, valid_loss: 0.7072614431381226\n"
     ]
    },
    {
     "name": "stderr",
     "output_type": "stream",
     "text": [
      "100%|██████████| 57/57 [01:42<00:00,  1.81s/it]\n",
      "100%|██████████| 8/8 [00:05<00:00,  1.40it/s]\n",
      "  0%|          | 0/57 [00:00<?, ?it/s]"
     ]
    },
    {
     "name": "stdout",
     "output_type": "stream",
     "text": [
      "Epoch: 36, train_loss: 0.26868265867233276, valid_loss: 0.8113446235656738\n"
     ]
    },
    {
     "name": "stderr",
     "output_type": "stream",
     "text": [
      "100%|██████████| 57/57 [01:43<00:00,  1.82s/it]\n",
      "100%|██████████| 8/8 [00:06<00:00,  1.32it/s]\n",
      "  0%|          | 0/57 [00:00<?, ?it/s]"
     ]
    },
    {
     "name": "stdout",
     "output_type": "stream",
     "text": [
      "Epoch: 37, train_loss: 0.26539915800094604, valid_loss: 0.7920107841491699\n"
     ]
    },
    {
     "name": "stderr",
     "output_type": "stream",
     "text": [
      "100%|██████████| 57/57 [01:42<00:00,  1.79s/it]\n",
      "100%|██████████| 8/8 [00:05<00:00,  1.35it/s]\n",
      "  0%|          | 0/57 [00:00<?, ?it/s]"
     ]
    },
    {
     "name": "stdout",
     "output_type": "stream",
     "text": [
      "Epoch: 38, train_loss: 0.24647369980812073, valid_loss: 0.7496545314788818\n"
     ]
    },
    {
     "name": "stderr",
     "output_type": "stream",
     "text": [
      "100%|██████████| 57/57 [01:42<00:00,  1.80s/it]\n",
      "100%|██████████| 8/8 [00:06<00:00,  1.32it/s]\n",
      "  0%|          | 0/57 [00:00<?, ?it/s]"
     ]
    },
    {
     "name": "stdout",
     "output_type": "stream",
     "text": [
      "Epoch: 39, train_loss: 0.227439746260643, valid_loss: 0.812518298625946\n"
     ]
    },
    {
     "name": "stderr",
     "output_type": "stream",
     "text": [
      "100%|██████████| 57/57 [01:46<00:00,  1.86s/it]\n",
      "100%|██████████| 8/8 [00:05<00:00,  1.36it/s]\n",
      "  0%|          | 0/57 [00:00<?, ?it/s]"
     ]
    },
    {
     "name": "stdout",
     "output_type": "stream",
     "text": [
      "Epoch: 40, train_loss: 0.23014110326766968, valid_loss: 0.8044654130935669\n"
     ]
    },
    {
     "name": "stderr",
     "output_type": "stream",
     "text": [
      "100%|██████████| 57/57 [01:43<00:00,  1.81s/it]\n",
      "100%|██████████| 8/8 [00:05<00:00,  1.37it/s]\n",
      "  0%|          | 0/57 [00:00<?, ?it/s]"
     ]
    },
    {
     "name": "stdout",
     "output_type": "stream",
     "text": [
      "Epoch: 41, train_loss: 0.20091533660888672, valid_loss: 0.7516318559646606\n"
     ]
    },
    {
     "name": "stderr",
     "output_type": "stream",
     "text": [
      "100%|██████████| 57/57 [01:43<00:00,  1.82s/it]\n",
      "100%|██████████| 8/8 [00:05<00:00,  1.35it/s]\n",
      "  0%|          | 0/57 [00:00<?, ?it/s]"
     ]
    },
    {
     "name": "stdout",
     "output_type": "stream",
     "text": [
      "Epoch: 42, train_loss: 0.1738481968641281, valid_loss: 0.7610548734664917\n"
     ]
    },
    {
     "name": "stderr",
     "output_type": "stream",
     "text": [
      "100%|██████████| 57/57 [01:43<00:00,  1.81s/it]\n",
      "100%|██████████| 8/8 [00:06<00:00,  1.31it/s]\n",
      "  0%|          | 0/57 [00:00<?, ?it/s]"
     ]
    },
    {
     "name": "stdout",
     "output_type": "stream",
     "text": [
      "Epoch: 43, train_loss: 0.15715830028057098, valid_loss: 0.7590904235839844\n"
     ]
    },
    {
     "name": "stderr",
     "output_type": "stream",
     "text": [
      "100%|██████████| 57/57 [01:43<00:00,  1.81s/it]\n",
      "100%|██████████| 8/8 [00:05<00:00,  1.42it/s]\n",
      "  0%|          | 0/57 [00:00<?, ?it/s]"
     ]
    },
    {
     "name": "stdout",
     "output_type": "stream",
     "text": [
      "Epoch: 44, train_loss: 0.1518833190202713, valid_loss: 0.7626932263374329\n"
     ]
    },
    {
     "name": "stderr",
     "output_type": "stream",
     "text": [
      "100%|██████████| 57/57 [01:43<00:00,  1.82s/it]\n",
      "100%|██████████| 8/8 [00:05<00:00,  1.37it/s]\n",
      "  0%|          | 0/57 [00:00<?, ?it/s]"
     ]
    },
    {
     "name": "stdout",
     "output_type": "stream",
     "text": [
      "Epoch: 45, train_loss: 0.10071170330047607, valid_loss: 0.6688891649246216\n"
     ]
    },
    {
     "name": "stderr",
     "output_type": "stream",
     "text": [
      "100%|██████████| 57/57 [01:42<00:00,  1.79s/it]\n",
      "100%|██████████| 8/8 [00:05<00:00,  1.39it/s]\n",
      "  0%|          | 0/57 [00:00<?, ?it/s]"
     ]
    },
    {
     "name": "stdout",
     "output_type": "stream",
     "text": [
      "Epoch: 46, train_loss: 0.09235987812280655, valid_loss: 0.714666485786438\n"
     ]
    },
    {
     "name": "stderr",
     "output_type": "stream",
     "text": [
      "100%|██████████| 57/57 [01:41<00:00,  1.79s/it]\n",
      "100%|██████████| 8/8 [00:06<00:00,  1.33it/s]\n",
      "  0%|          | 0/57 [00:00<?, ?it/s]"
     ]
    },
    {
     "name": "stdout",
     "output_type": "stream",
     "text": [
      "Epoch: 47, train_loss: 0.08346196264028549, valid_loss: 0.6818600296974182\n"
     ]
    },
    {
     "name": "stderr",
     "output_type": "stream",
     "text": [
      "100%|██████████| 57/57 [01:42<00:00,  1.80s/it]\n",
      "100%|██████████| 8/8 [00:05<00:00,  1.41it/s]\n",
      "  0%|          | 0/57 [00:00<?, ?it/s]"
     ]
    },
    {
     "name": "stdout",
     "output_type": "stream",
     "text": [
      "Epoch: 48, train_loss: 0.07894714176654816, valid_loss: 0.6976978182792664\n"
     ]
    },
    {
     "name": "stderr",
     "output_type": "stream",
     "text": [
      "100%|██████████| 57/57 [01:43<00:00,  1.81s/it]\n",
      "100%|██████████| 8/8 [00:05<00:00,  1.37it/s]\n",
      "  0%|          | 0/57 [00:00<?, ?it/s]"
     ]
    },
    {
     "name": "stdout",
     "output_type": "stream",
     "text": [
      "Updating prototype representation\n"
     ]
    },
    {
     "name": "stderr",
     "output_type": "stream",
     "text": [
      "100%|██████████| 57/57 [00:42<00:00,  1.33it/s]\n"
     ]
    },
    {
     "name": "stdout",
     "output_type": "stream",
     "text": [
      "Epoch: 49, train_loss: -0.014821560122072697, valid_loss: 0.5443990230560303\n"
     ]
    },
    {
     "name": "stderr",
     "output_type": "stream",
     "text": [
      "\r",
      "  0%|          | 0/28 [00:00<?, ?it/s]"
     ]
    },
    {
     "name": "stdout",
     "output_type": "stream",
     "text": [
      "{'BATCH_SIZE': 512, 'EPOCHS': 40, 'OPTIMIZER': <class 'torch.optim.adam.Adam'>, 'LEARNING_RATE': 0.0001, 'LOSS': protop_loss_1_1, 'EARLY_STOPPING': True, 'PATIENCE': 2, 'MIN_DELTA': 5e-05, 'MAXPOOL': 2, 'OBO_SIZES': array([256]), 'PROTOTYPE_NUM': 10, 'DROPOUT': 0.1, 'PROTO_ACTIVATION': 'log', 'HIDDEN_SIZES': array([ 64, 128]), 'KERNEL_SIZES': array([5, 5])}\n"
     ]
    },
    {
     "name": "stderr",
     "output_type": "stream",
     "text": [
      "100%|██████████| 28/28 [01:57<00:00,  4.20s/it]\n",
      "100%|██████████| 4/4 [00:01<00:00,  2.27it/s]\n",
      "  0%|          | 0/28 [00:00<?, ?it/s]"
     ]
    },
    {
     "name": "stdout",
     "output_type": "stream",
     "text": [
      "Epoch: 0, train_loss: 0.3109714686870575, valid_loss: -0.013182519935071468\n"
     ]
    },
    {
     "name": "stderr",
     "output_type": "stream",
     "text": [
      "100%|██████████| 28/28 [00:22<00:00,  1.23it/s]\n",
      "100%|██████████| 4/4 [00:01<00:00,  3.10it/s]\n",
      "  0%|          | 0/28 [00:00<?, ?it/s]"
     ]
    },
    {
     "name": "stdout",
     "output_type": "stream",
     "text": [
      "Epoch: 1, train_loss: -0.2946225702762604, valid_loss: -0.5666705369949341\n"
     ]
    },
    {
     "name": "stderr",
     "output_type": "stream",
     "text": [
      "100%|██████████| 28/28 [00:19<00:00,  1.41it/s]\n",
      "100%|██████████| 4/4 [00:01<00:00,  3.33it/s]\n",
      "  0%|          | 0/28 [00:00<?, ?it/s]"
     ]
    },
    {
     "name": "stdout",
     "output_type": "stream",
     "text": [
      "Epoch: 2, train_loss: -0.8528687357902527, valid_loss: -1.0555059909820557\n"
     ]
    },
    {
     "name": "stderr",
     "output_type": "stream",
     "text": [
      "100%|██████████| 28/28 [00:20<00:00,  1.37it/s]\n",
      "100%|██████████| 4/4 [00:01<00:00,  3.55it/s]\n",
      "  0%|          | 0/28 [00:00<?, ?it/s]"
     ]
    },
    {
     "name": "stdout",
     "output_type": "stream",
     "text": [
      "Epoch: 3, train_loss: -1.2567131519317627, valid_loss: -1.350499153137207\n"
     ]
    },
    {
     "name": "stderr",
     "output_type": "stream",
     "text": [
      "100%|██████████| 28/28 [00:19<00:00,  1.42it/s]\n",
      "100%|██████████| 4/4 [00:01<00:00,  3.43it/s]\n",
      "  0%|          | 0/28 [00:00<?, ?it/s]"
     ]
    },
    {
     "name": "stdout",
     "output_type": "stream",
     "text": [
      "Epoch: 4, train_loss: -1.4788408279418945, valid_loss: -1.5120316743850708\n"
     ]
    },
    {
     "name": "stderr",
     "output_type": "stream",
     "text": [
      "100%|██████████| 28/28 [00:19<00:00,  1.41it/s]\n",
      "100%|██████████| 4/4 [00:01<00:00,  2.68it/s]\n",
      "  0%|          | 0/28 [00:00<?, ?it/s]"
     ]
    },
    {
     "name": "stdout",
     "output_type": "stream",
     "text": [
      "Epoch: 5, train_loss: -1.5691823959350586, valid_loss: -1.546248435974121\n"
     ]
    },
    {
     "name": "stderr",
     "output_type": "stream",
     "text": [
      "100%|██████████| 28/28 [00:20<00:00,  1.39it/s]\n",
      "100%|██████████| 4/4 [00:01<00:00,  3.34it/s]\n",
      "  0%|          | 0/28 [00:00<?, ?it/s]"
     ]
    },
    {
     "name": "stdout",
     "output_type": "stream",
     "text": [
      "Epoch: 6, train_loss: -1.6257497072219849, valid_loss: -1.6122617721557617\n"
     ]
    },
    {
     "name": "stderr",
     "output_type": "stream",
     "text": [
      "100%|██████████| 28/28 [00:19<00:00,  1.43it/s]\n",
      "100%|██████████| 4/4 [00:01<00:00,  3.09it/s]\n",
      "  0%|          | 0/28 [00:00<?, ?it/s]"
     ]
    },
    {
     "name": "stdout",
     "output_type": "stream",
     "text": [
      "Epoch: 7, train_loss: -1.6669914722442627, valid_loss: -1.6391479969024658\n"
     ]
    },
    {
     "name": "stderr",
     "output_type": "stream",
     "text": [
      "100%|██████████| 28/28 [00:19<00:00,  1.42it/s]\n",
      "100%|██████████| 4/4 [00:01<00:00,  3.37it/s]\n",
      "  0%|          | 0/28 [00:00<?, ?it/s]"
     ]
    },
    {
     "name": "stdout",
     "output_type": "stream",
     "text": [
      "Updating prototype representation\n"
     ]
    },
    {
     "name": "stderr",
     "output_type": "stream",
     "text": [
      "100%|██████████| 28/28 [00:09<00:00,  2.87it/s]\n",
      "  0%|          | 0/28 [00:00<?, ?it/s]"
     ]
    },
    {
     "name": "stdout",
     "output_type": "stream",
     "text": [
      "val loss increased, patience count:  1\n",
      "Epoch: 8, train_loss: -1.6908025741577148, valid_loss: -1.638409972190857\n"
     ]
    },
    {
     "name": "stderr",
     "output_type": "stream",
     "text": [
      "100%|██████████| 28/28 [00:19<00:00,  1.40it/s]\n",
      "100%|██████████| 4/4 [00:01<00:00,  3.16it/s]\n",
      "  0%|          | 0/28 [00:00<?, ?it/s]"
     ]
    },
    {
     "name": "stdout",
     "output_type": "stream",
     "text": [
      "Updating prototype representation\n"
     ]
    },
    {
     "name": "stderr",
     "output_type": "stream",
     "text": [
      "100%|██████████| 28/28 [00:08<00:00,  3.31it/s]\n",
      "  0%|          | 0/28 [00:00<?, ?it/s]"
     ]
    },
    {
     "name": "stdout",
     "output_type": "stream",
     "text": [
      "val loss increased, patience count:  2\n",
      "Epoch: 9, train_loss: -0.6861451268196106, valid_loss: -0.7240170240402222\n"
     ]
    },
    {
     "name": "stderr",
     "output_type": "stream",
     "text": [
      "100%|██████████| 28/28 [00:19<00:00,  1.44it/s]\n",
      "100%|██████████| 4/4 [00:01<00:00,  3.46it/s]\n",
      "  0%|          | 0/28 [00:00<?, ?it/s]"
     ]
    },
    {
     "name": "stdout",
     "output_type": "stream",
     "text": [
      "Updating prototype representation\n"
     ]
    },
    {
     "name": "stderr",
     "output_type": "stream",
     "text": [
      "100%|██████████| 28/28 [00:08<00:00,  3.34it/s]\n"
     ]
    },
    {
     "name": "stdout",
     "output_type": "stream",
     "text": [
      "Early stopped at Epoch:  10\n"
     ]
    },
    {
     "name": "stderr",
     "output_type": "stream",
     "text": [
      "\r",
      "  0%|          | 0/28 [00:00<?, ?it/s]"
     ]
    },
    {
     "name": "stdout",
     "output_type": "stream",
     "text": [
      "{'BATCH_SIZE': 512, 'EPOCHS': 50, 'OPTIMIZER': <class 'torch.optim.adam.Adam'>, 'LEARNING_RATE': 0.0001, 'LOSS': protop_loss_1_1, 'EARLY_STOPPING': True, 'PATIENCE': 2, 'MIN_DELTA': 0.001, 'MAXPOOL': 2, 'OBO_SIZES': array([256]), 'PROTOTYPE_NUM': 20, 'DROPOUT': 0.1, 'PROTO_ACTIVATION': 'log', 'HIDDEN_SIZES': array([128, 256]), 'KERNEL_SIZES': array([7, 3])}\n"
     ]
    },
    {
     "name": "stderr",
     "output_type": "stream",
     "text": [
      "100%|██████████| 28/28 [00:40<00:00,  1.45s/it]\n",
      "100%|██████████| 4/4 [00:02<00:00,  1.73it/s]\n",
      "  0%|          | 0/28 [00:00<?, ?it/s]"
     ]
    },
    {
     "name": "stdout",
     "output_type": "stream",
     "text": [
      "Epoch: 0, train_loss: -0.0298711396753788, valid_loss: -0.5832463502883911\n"
     ]
    },
    {
     "name": "stderr",
     "output_type": "stream",
     "text": [
      "100%|██████████| 28/28 [00:39<00:00,  1.40s/it]\n",
      "100%|██████████| 4/4 [00:02<00:00,  1.59it/s]\n",
      "  0%|          | 0/28 [00:00<?, ?it/s]"
     ]
    },
    {
     "name": "stdout",
     "output_type": "stream",
     "text": [
      "Epoch: 1, train_loss: -1.0235296487808228, valid_loss: -1.3369511365890503\n"
     ]
    },
    {
     "name": "stderr",
     "output_type": "stream",
     "text": [
      "100%|██████████| 28/28 [00:38<00:00,  1.37s/it]\n",
      "100%|██████████| 4/4 [00:03<00:00,  1.33it/s]\n",
      "  0%|          | 0/28 [00:00<?, ?it/s]"
     ]
    },
    {
     "name": "stdout",
     "output_type": "stream",
     "text": [
      "Epoch: 2, train_loss: -1.6002111434936523, valid_loss: -1.7328182458877563\n"
     ]
    },
    {
     "name": "stderr",
     "output_type": "stream",
     "text": [
      "100%|██████████| 28/28 [00:38<00:00,  1.36s/it]\n",
      "100%|██████████| 4/4 [00:02<00:00,  1.78it/s]\n",
      "  0%|          | 0/28 [00:00<?, ?it/s]"
     ]
    },
    {
     "name": "stdout",
     "output_type": "stream",
     "text": [
      "Epoch: 3, train_loss: -1.8509842157363892, valid_loss: -1.8658759593963623\n"
     ]
    },
    {
     "name": "stderr",
     "output_type": "stream",
     "text": [
      "100%|██████████| 28/28 [00:38<00:00,  1.38s/it]\n",
      "100%|██████████| 4/4 [00:02<00:00,  1.65it/s]\n",
      "  0%|          | 0/28 [00:00<?, ?it/s]"
     ]
    },
    {
     "name": "stdout",
     "output_type": "stream",
     "text": [
      "Epoch: 4, train_loss: -1.9516308307647705, valid_loss: -1.9373345375061035\n"
     ]
    },
    {
     "name": "stderr",
     "output_type": "stream",
     "text": [
      "100%|██████████| 28/28 [00:38<00:00,  1.38s/it]\n",
      "100%|██████████| 4/4 [00:02<00:00,  1.75it/s]\n",
      "  0%|          | 0/28 [00:00<?, ?it/s]"
     ]
    },
    {
     "name": "stdout",
     "output_type": "stream",
     "text": [
      "Epoch: 5, train_loss: -1.9884898662567139, valid_loss: -1.9588849544525146\n"
     ]
    },
    {
     "name": "stderr",
     "output_type": "stream",
     "text": [
      "100%|██████████| 28/28 [00:38<00:00,  1.37s/it]\n",
      "100%|██████████| 4/4 [00:02<00:00,  1.75it/s]\n",
      "  0%|          | 0/28 [00:00<?, ?it/s]"
     ]
    },
    {
     "name": "stdout",
     "output_type": "stream",
     "text": [
      "Epoch: 6, train_loss: -2.0115013122558594, valid_loss: -2.002897262573242\n"
     ]
    },
    {
     "name": "stderr",
     "output_type": "stream",
     "text": [
      "100%|██████████| 28/28 [00:39<00:00,  1.39s/it]\n",
      "100%|██████████| 4/4 [00:02<00:00,  1.64it/s]\n",
      "  0%|          | 0/28 [00:00<?, ?it/s]"
     ]
    },
    {
     "name": "stdout",
     "output_type": "stream",
     "text": [
      "Epoch: 7, train_loss: -2.04785418510437, valid_loss: -2.026418685913086\n"
     ]
    },
    {
     "name": "stderr",
     "output_type": "stream",
     "text": [
      "100%|██████████| 28/28 [00:38<00:00,  1.38s/it]\n",
      "100%|██████████| 4/4 [00:02<00:00,  1.80it/s]\n",
      "  0%|          | 0/28 [00:00<?, ?it/s]"
     ]
    },
    {
     "name": "stdout",
     "output_type": "stream",
     "text": [
      "Epoch: 8, train_loss: -2.117025136947632, valid_loss: -2.1349339485168457\n"
     ]
    },
    {
     "name": "stderr",
     "output_type": "stream",
     "text": [
      "100%|██████████| 28/28 [00:38<00:00,  1.38s/it]\n",
      "100%|██████████| 4/4 [00:02<00:00,  1.82it/s]\n",
      "  0%|          | 0/28 [00:00<?, ?it/s]"
     ]
    },
    {
     "name": "stdout",
     "output_type": "stream",
     "text": [
      "Epoch: 9, train_loss: -2.1946499347686768, valid_loss: -2.156623125076294\n"
     ]
    },
    {
     "name": "stderr",
     "output_type": "stream",
     "text": [
      "100%|██████████| 28/28 [00:38<00:00,  1.38s/it]\n",
      "100%|██████████| 4/4 [00:02<00:00,  1.77it/s]\n",
      "  0%|          | 0/28 [00:00<?, ?it/s]"
     ]
    },
    {
     "name": "stdout",
     "output_type": "stream",
     "text": [
      "Epoch: 10, train_loss: -2.204529047012329, valid_loss: -2.1584208011627197\n"
     ]
    },
    {
     "name": "stderr",
     "output_type": "stream",
     "text": [
      "100%|██████████| 28/28 [00:38<00:00,  1.36s/it]\n",
      "100%|██████████| 4/4 [00:02<00:00,  1.82it/s]\n",
      "  0%|          | 0/28 [00:00<?, ?it/s]"
     ]
    },
    {
     "name": "stdout",
     "output_type": "stream",
     "text": [
      "Epoch: 11, train_loss: -2.2123005390167236, valid_loss: -2.1639883518218994\n"
     ]
    },
    {
     "name": "stderr",
     "output_type": "stream",
     "text": [
      "100%|██████████| 28/28 [00:38<00:00,  1.38s/it]\n",
      "100%|██████████| 4/4 [00:02<00:00,  1.69it/s]\n",
      "  0%|          | 0/28 [00:00<?, ?it/s]"
     ]
    },
    {
     "name": "stdout",
     "output_type": "stream",
     "text": [
      "Updating prototype representation\n"
     ]
    },
    {
     "name": "stderr",
     "output_type": "stream",
     "text": [
      "100%|██████████| 28/28 [00:16<00:00,  1.71it/s]\n",
      "  0%|          | 0/28 [00:00<?, ?it/s]"
     ]
    },
    {
     "name": "stdout",
     "output_type": "stream",
     "text": [
      "val loss increased, patience count:  1\n",
      "Epoch: 12, train_loss: -2.2144320011138916, valid_loss: -2.16117525100708\n"
     ]
    },
    {
     "name": "stderr",
     "output_type": "stream",
     "text": [
      "100%|██████████| 28/28 [00:38<00:00,  1.38s/it]\n",
      "100%|██████████| 4/4 [00:02<00:00,  1.72it/s]\n",
      "  0%|          | 0/28 [00:00<?, ?it/s]"
     ]
    },
    {
     "name": "stdout",
     "output_type": "stream",
     "text": [
      "Updating prototype representation\n"
     ]
    },
    {
     "name": "stderr",
     "output_type": "stream",
     "text": [
      "100%|██████████| 28/28 [00:16<00:00,  1.74it/s]\n",
      "  0%|          | 0/28 [00:00<?, ?it/s]"
     ]
    },
    {
     "name": "stdout",
     "output_type": "stream",
     "text": [
      "val loss increased, patience count:  2\n",
      "Epoch: 13, train_loss: -1.3045541048049927, valid_loss: -1.3086748123168945\n"
     ]
    },
    {
     "name": "stderr",
     "output_type": "stream",
     "text": [
      "100%|██████████| 28/28 [00:38<00:00,  1.39s/it]\n",
      "100%|██████████| 4/4 [00:02<00:00,  1.61it/s]\n",
      "  0%|          | 0/28 [00:00<?, ?it/s]"
     ]
    },
    {
     "name": "stdout",
     "output_type": "stream",
     "text": [
      "Updating prototype representation\n"
     ]
    },
    {
     "name": "stderr",
     "output_type": "stream",
     "text": [
      "100%|██████████| 28/28 [00:16<00:00,  1.70it/s]\n"
     ]
    },
    {
     "name": "stdout",
     "output_type": "stream",
     "text": [
      "Early stopped at Epoch:  14\n"
     ]
    },
    {
     "name": "stderr",
     "output_type": "stream",
     "text": [
      "\r",
      "  0%|          | 0/57 [00:00<?, ?it/s]"
     ]
    },
    {
     "name": "stdout",
     "output_type": "stream",
     "text": [
      "{'BATCH_SIZE': 256, 'EPOCHS': 20, 'OPTIMIZER': <class 'torch.optim.adam.Adam'>, 'LEARNING_RATE': 1e-05, 'LOSS': protop_loss_2_1, 'EARLY_STOPPING': False, 'PATIENCE': 2, 'MIN_DELTA': 0.0005, 'MAXPOOL': 2, 'OBO_SIZES': array([512]), 'PROTOTYPE_NUM': 30, 'DROPOUT': 0.1, 'PROTO_ACTIVATION': 'log', 'HIDDEN_SIZES': array([ 64, 128, 256, 512]), 'KERNEL_SIZES': array([9, 9, 3, 3])}\n"
     ]
    },
    {
     "name": "stderr",
     "output_type": "stream",
     "text": [
      "100%|██████████| 57/57 [00:40<00:00,  1.39it/s]\n",
      "100%|██████████| 8/8 [00:02<00:00,  3.34it/s]\n",
      "  0%|          | 0/57 [00:00<?, ?it/s]"
     ]
    },
    {
     "name": "stdout",
     "output_type": "stream",
     "text": [
      "Epoch: 0, train_loss: 10.76673698425293, valid_loss: 9.347158432006836\n"
     ]
    },
    {
     "name": "stderr",
     "output_type": "stream",
     "text": [
      "100%|██████████| 57/57 [00:39<00:00,  1.45it/s]\n",
      "100%|██████████| 8/8 [00:02<00:00,  3.49it/s]\n",
      "  0%|          | 0/57 [00:00<?, ?it/s]"
     ]
    },
    {
     "name": "stdout",
     "output_type": "stream",
     "text": [
      "Epoch: 1, train_loss: 8.048663139343262, valid_loss: 6.948427677154541\n"
     ]
    },
    {
     "name": "stderr",
     "output_type": "stream",
     "text": [
      "100%|██████████| 57/57 [00:39<00:00,  1.43it/s]\n",
      "100%|██████████| 8/8 [00:02<00:00,  3.24it/s]\n",
      "  0%|          | 0/57 [00:00<?, ?it/s]"
     ]
    },
    {
     "name": "stdout",
     "output_type": "stream",
     "text": [
      "Epoch: 2, train_loss: 6.211338043212891, valid_loss: 5.711933612823486\n"
     ]
    },
    {
     "name": "stderr",
     "output_type": "stream",
     "text": [
      "100%|██████████| 57/57 [00:39<00:00,  1.44it/s]\n",
      "100%|██████████| 8/8 [00:02<00:00,  3.73it/s]\n",
      "  0%|          | 0/57 [00:00<?, ?it/s]"
     ]
    },
    {
     "name": "stdout",
     "output_type": "stream",
     "text": [
      "Epoch: 3, train_loss: 5.408569812774658, valid_loss: 5.220702648162842\n"
     ]
    },
    {
     "name": "stderr",
     "output_type": "stream",
     "text": [
      "100%|██████████| 57/57 [00:38<00:00,  1.47it/s]\n",
      "100%|██████████| 8/8 [00:02<00:00,  3.78it/s]\n",
      "  0%|          | 0/57 [00:00<?, ?it/s]"
     ]
    },
    {
     "name": "stdout",
     "output_type": "stream",
     "text": [
      "Epoch: 4, train_loss: 5.012191295623779, valid_loss: 4.931933403015137\n"
     ]
    },
    {
     "name": "stderr",
     "output_type": "stream",
     "text": [
      "100%|██████████| 57/57 [00:40<00:00,  1.40it/s]\n",
      "100%|██████████| 8/8 [00:02<00:00,  3.35it/s]\n",
      "  0%|          | 0/57 [00:00<?, ?it/s]"
     ]
    },
    {
     "name": "stdout",
     "output_type": "stream",
     "text": [
      "Epoch: 5, train_loss: 4.806451320648193, valid_loss: 4.7872514724731445\n"
     ]
    },
    {
     "name": "stderr",
     "output_type": "stream",
     "text": [
      "100%|██████████| 57/57 [00:39<00:00,  1.44it/s]\n",
      "100%|██████████| 8/8 [00:02<00:00,  3.65it/s]\n",
      "  0%|          | 0/57 [00:00<?, ?it/s]"
     ]
    },
    {
     "name": "stdout",
     "output_type": "stream",
     "text": [
      "Epoch: 6, train_loss: 4.750480651855469, valid_loss: 4.7865519523620605\n"
     ]
    },
    {
     "name": "stderr",
     "output_type": "stream",
     "text": [
      "100%|██████████| 57/57 [00:42<00:00,  1.34it/s]\n",
      "100%|██████████| 8/8 [00:02<00:00,  3.27it/s]\n",
      "  0%|          | 0/57 [00:00<?, ?it/s]"
     ]
    },
    {
     "name": "stdout",
     "output_type": "stream",
     "text": [
      "Epoch: 7, train_loss: 4.7272748947143555, valid_loss: 4.784388542175293\n"
     ]
    },
    {
     "name": "stderr",
     "output_type": "stream",
     "text": [
      "100%|██████████| 57/57 [00:40<00:00,  1.41it/s]\n",
      "100%|██████████| 8/8 [00:02<00:00,  3.53it/s]\n",
      "  0%|          | 0/57 [00:00<?, ?it/s]"
     ]
    },
    {
     "name": "stdout",
     "output_type": "stream",
     "text": [
      "Epoch: 8, train_loss: 4.656164169311523, valid_loss: 4.583080291748047\n"
     ]
    },
    {
     "name": "stderr",
     "output_type": "stream",
     "text": [
      "100%|██████████| 57/57 [00:39<00:00,  1.44it/s]\n",
      "100%|██████████| 8/8 [00:02<00:00,  3.77it/s]\n",
      "  0%|          | 0/57 [00:00<?, ?it/s]"
     ]
    },
    {
     "name": "stdout",
     "output_type": "stream",
     "text": [
      "Epoch: 9, train_loss: 4.404445648193359, valid_loss: 4.390535354614258\n"
     ]
    },
    {
     "name": "stderr",
     "output_type": "stream",
     "text": [
      "100%|██████████| 57/57 [00:39<00:00,  1.45it/s]\n",
      "100%|██████████| 8/8 [00:02<00:00,  3.66it/s]\n",
      "  0%|          | 0/57 [00:00<?, ?it/s]"
     ]
    },
    {
     "name": "stdout",
     "output_type": "stream",
     "text": [
      "Epoch: 10, train_loss: 4.326585292816162, valid_loss: 4.36406135559082\n"
     ]
    },
    {
     "name": "stderr",
     "output_type": "stream",
     "text": [
      "100%|██████████| 57/57 [00:39<00:00,  1.43it/s]\n",
      "100%|██████████| 8/8 [00:02<00:00,  3.72it/s]\n",
      "  0%|          | 0/57 [00:00<?, ?it/s]"
     ]
    },
    {
     "name": "stdout",
     "output_type": "stream",
     "text": [
      "Epoch: 11, train_loss: 4.243316173553467, valid_loss: 4.246199131011963\n"
     ]
    },
    {
     "name": "stderr",
     "output_type": "stream",
     "text": [
      "100%|██████████| 57/57 [00:39<00:00,  1.43it/s]\n",
      "100%|██████████| 8/8 [00:02<00:00,  3.47it/s]\n",
      "  0%|          | 0/57 [00:00<?, ?it/s]"
     ]
    },
    {
     "name": "stdout",
     "output_type": "stream",
     "text": [
      "Epoch: 12, train_loss: 4.1648101806640625, valid_loss: 4.249094486236572\n"
     ]
    },
    {
     "name": "stderr",
     "output_type": "stream",
     "text": [
      "100%|██████████| 57/57 [00:39<00:00,  1.45it/s]\n",
      "100%|██████████| 8/8 [00:02<00:00,  3.51it/s]\n",
      "  0%|          | 0/57 [00:00<?, ?it/s]"
     ]
    },
    {
     "name": "stdout",
     "output_type": "stream",
     "text": [
      "Epoch: 13, train_loss: 4.149292469024658, valid_loss: 4.199244976043701\n"
     ]
    },
    {
     "name": "stderr",
     "output_type": "stream",
     "text": [
      "100%|██████████| 57/57 [00:39<00:00,  1.45it/s]\n",
      "100%|██████████| 8/8 [00:02<00:00,  3.49it/s]\n",
      "  0%|          | 0/57 [00:00<?, ?it/s]"
     ]
    },
    {
     "name": "stdout",
     "output_type": "stream",
     "text": [
      "Epoch: 14, train_loss: 4.137928009033203, valid_loss: 4.1982855796813965\n"
     ]
    },
    {
     "name": "stderr",
     "output_type": "stream",
     "text": [
      "100%|██████████| 57/57 [00:39<00:00,  1.46it/s]\n",
      "100%|██████████| 8/8 [00:02<00:00,  3.56it/s]\n",
      "  0%|          | 0/57 [00:00<?, ?it/s]"
     ]
    },
    {
     "name": "stdout",
     "output_type": "stream",
     "text": [
      "Epoch: 15, train_loss: 4.130406856536865, valid_loss: 4.190199375152588\n"
     ]
    },
    {
     "name": "stderr",
     "output_type": "stream",
     "text": [
      "100%|██████████| 57/57 [00:39<00:00,  1.43it/s]\n",
      "100%|██████████| 8/8 [00:02<00:00,  3.49it/s]\n",
      "  0%|          | 0/57 [00:00<?, ?it/s]"
     ]
    },
    {
     "name": "stdout",
     "output_type": "stream",
     "text": [
      "Epoch: 16, train_loss: 4.12022590637207, valid_loss: 4.150890827178955\n"
     ]
    },
    {
     "name": "stderr",
     "output_type": "stream",
     "text": [
      "100%|██████████| 57/57 [00:39<00:00,  1.43it/s]\n",
      "100%|██████████| 8/8 [00:02<00:00,  3.65it/s]\n",
      "  0%|          | 0/57 [00:00<?, ?it/s]"
     ]
    },
    {
     "name": "stdout",
     "output_type": "stream",
     "text": [
      "Epoch: 17, train_loss: 4.105930328369141, valid_loss: 4.1370320320129395\n"
     ]
    },
    {
     "name": "stderr",
     "output_type": "stream",
     "text": [
      "100%|██████████| 57/57 [00:39<00:00,  1.46it/s]\n",
      "100%|██████████| 8/8 [00:02<00:00,  3.49it/s]\n",
      "  0%|          | 0/57 [00:00<?, ?it/s]"
     ]
    },
    {
     "name": "stdout",
     "output_type": "stream",
     "text": [
      "Epoch: 18, train_loss: 4.0877556800842285, valid_loss: 4.1908650398254395\n"
     ]
    },
    {
     "name": "stderr",
     "output_type": "stream",
     "text": [
      "100%|██████████| 57/57 [00:39<00:00,  1.45it/s]\n",
      "100%|██████████| 8/8 [00:02<00:00,  3.36it/s]\n"
     ]
    },
    {
     "name": "stdout",
     "output_type": "stream",
     "text": [
      "Epoch: 19, train_loss: 4.086007595062256, valid_loss: 4.161087989807129\n"
     ]
    },
    {
     "name": "stderr",
     "output_type": "stream",
     "text": [
      "\r",
      "  0%|          | 0/28 [00:00<?, ?it/s]"
     ]
    },
    {
     "name": "stdout",
     "output_type": "stream",
     "text": [
      "{'BATCH_SIZE': 512, 'EPOCHS': 40, 'OPTIMIZER': <class 'torch.optim.adam.Adam'>, 'LEARNING_RATE': 0.0001, 'LOSS': protop_loss_2_1, 'EARLY_STOPPING': True, 'PATIENCE': 3, 'MIN_DELTA': 0.005, 'MAXPOOL': 2, 'OBO_SIZES': array([256]), 'PROTOTYPE_NUM': 30, 'DROPOUT': 0.0, 'PROTO_ACTIVATION': 'log', 'HIDDEN_SIZES': array([ 64, 128, 256, 512]), 'KERNEL_SIZES': array([9, 9, 5, 3])}\n"
     ]
    },
    {
     "name": "stderr",
     "output_type": "stream",
     "text": [
      "100%|██████████| 28/28 [00:25<00:00,  1.11it/s]\n",
      "100%|██████████| 4/4 [00:01<00:00,  2.34it/s]\n",
      "  0%|          | 0/28 [00:00<?, ?it/s]"
     ]
    },
    {
     "name": "stdout",
     "output_type": "stream",
     "text": [
      "Epoch: 0, train_loss: 4.991028785705566, valid_loss: 3.1928391456604004\n"
     ]
    },
    {
     "name": "stderr",
     "output_type": "stream",
     "text": [
      "100%|██████████| 28/28 [00:24<00:00,  1.12it/s]\n",
      "100%|██████████| 4/4 [00:01<00:00,  2.57it/s]\n",
      "  0%|          | 0/28 [00:00<?, ?it/s]"
     ]
    },
    {
     "name": "stdout",
     "output_type": "stream",
     "text": [
      "Epoch: 1, train_loss: 2.708928108215332, valid_loss: 2.4017086029052734\n"
     ]
    },
    {
     "name": "stderr",
     "output_type": "stream",
     "text": [
      "100%|██████████| 28/28 [00:24<00:00,  1.15it/s]\n",
      "100%|██████████| 4/4 [00:01<00:00,  2.64it/s]\n",
      "  0%|          | 0/28 [00:00<?, ?it/s]"
     ]
    },
    {
     "name": "stdout",
     "output_type": "stream",
     "text": [
      "Epoch: 2, train_loss: 2.17033052444458, valid_loss: 2.073319911956787\n"
     ]
    },
    {
     "name": "stderr",
     "output_type": "stream",
     "text": [
      "100%|██████████| 28/28 [00:24<00:00,  1.13it/s]\n",
      "100%|██████████| 4/4 [00:01<00:00,  2.91it/s]\n",
      "  0%|          | 0/28 [00:00<?, ?it/s]"
     ]
    },
    {
     "name": "stdout",
     "output_type": "stream",
     "text": [
      "Epoch: 3, train_loss: 1.9968702793121338, valid_loss: 2.0252904891967773\n"
     ]
    },
    {
     "name": "stderr",
     "output_type": "stream",
     "text": [
      "100%|██████████| 28/28 [00:24<00:00,  1.12it/s]\n",
      "100%|██████████| 4/4 [00:01<00:00,  2.80it/s]\n",
      "  0%|          | 0/28 [00:00<?, ?it/s]"
     ]
    },
    {
     "name": "stdout",
     "output_type": "stream",
     "text": [
      "Epoch: 4, train_loss: 1.9436569213867188, valid_loss: 1.9728251695632935\n"
     ]
    },
    {
     "name": "stderr",
     "output_type": "stream",
     "text": [
      "100%|██████████| 28/28 [00:24<00:00,  1.12it/s]\n",
      "100%|██████████| 4/4 [00:01<00:00,  2.71it/s]\n",
      "  0%|          | 0/28 [00:00<?, ?it/s]"
     ]
    },
    {
     "name": "stdout",
     "output_type": "stream",
     "text": [
      "Epoch: 5, train_loss: 1.8957293033599854, valid_loss: 1.9357318878173828\n"
     ]
    },
    {
     "name": "stderr",
     "output_type": "stream",
     "text": [
      "100%|██████████| 28/28 [00:25<00:00,  1.11it/s]\n",
      "100%|██████████| 4/4 [00:01<00:00,  2.86it/s]\n",
      "  0%|          | 0/28 [00:00<?, ?it/s]"
     ]
    },
    {
     "name": "stdout",
     "output_type": "stream",
     "text": [
      "Updating prototype representation\n"
     ]
    },
    {
     "name": "stderr",
     "output_type": "stream",
     "text": [
      "100%|██████████| 28/28 [00:09<00:00,  2.80it/s]\n",
      "  0%|          | 0/28 [00:00<?, ?it/s]"
     ]
    },
    {
     "name": "stdout",
     "output_type": "stream",
     "text": [
      "val loss increased, patience count:  1\n",
      "Epoch: 6, train_loss: 1.8713711500167847, valid_loss: 1.9516799449920654\n"
     ]
    },
    {
     "name": "stderr",
     "output_type": "stream",
     "text": [
      "100%|██████████| 28/28 [00:25<00:00,  1.12it/s]\n",
      "100%|██████████| 4/4 [00:01<00:00,  2.77it/s]\n",
      "  0%|          | 0/28 [00:00<?, ?it/s]"
     ]
    },
    {
     "name": "stdout",
     "output_type": "stream",
     "text": [
      "Epoch: 7, train_loss: 0.06018349155783653, valid_loss: 0.02119494043290615\n"
     ]
    },
    {
     "name": "stderr",
     "output_type": "stream",
     "text": [
      "100%|██████████| 28/28 [00:25<00:00,  1.11it/s]\n",
      "100%|██████████| 4/4 [00:01<00:00,  2.78it/s]\n",
      "  0%|          | 0/28 [00:00<?, ?it/s]"
     ]
    },
    {
     "name": "stdout",
     "output_type": "stream",
     "text": [
      "Epoch: 8, train_loss: -0.10473255813121796, valid_loss: -0.08643025159835815\n"
     ]
    },
    {
     "name": "stderr",
     "output_type": "stream",
     "text": [
      "100%|██████████| 28/28 [00:24<00:00,  1.13it/s]\n",
      "100%|██████████| 4/4 [00:01<00:00,  2.78it/s]\n",
      "  0%|          | 0/28 [00:00<?, ?it/s]"
     ]
    },
    {
     "name": "stdout",
     "output_type": "stream",
     "text": [
      "Epoch: 9, train_loss: -0.18654905259609222, valid_loss: -0.14321368932724\n"
     ]
    },
    {
     "name": "stderr",
     "output_type": "stream",
     "text": [
      "100%|██████████| 28/28 [00:25<00:00,  1.12it/s]\n",
      "100%|██████████| 4/4 [00:01<00:00,  2.70it/s]\n",
      "  0%|          | 0/28 [00:00<?, ?it/s]"
     ]
    },
    {
     "name": "stdout",
     "output_type": "stream",
     "text": [
      "Epoch: 10, train_loss: -0.24887660145759583, valid_loss: -0.1814156174659729\n"
     ]
    },
    {
     "name": "stderr",
     "output_type": "stream",
     "text": [
      "100%|██████████| 28/28 [00:24<00:00,  1.13it/s]\n",
      "100%|██████████| 4/4 [00:01<00:00,  2.98it/s]\n",
      "  0%|          | 0/28 [00:00<?, ?it/s]"
     ]
    },
    {
     "name": "stdout",
     "output_type": "stream",
     "text": [
      "Epoch: 11, train_loss: -0.2732371687889099, valid_loss: -0.19689470529556274\n"
     ]
    },
    {
     "name": "stderr",
     "output_type": "stream",
     "text": [
      "100%|██████████| 28/28 [00:24<00:00,  1.13it/s]\n",
      "100%|██████████| 4/4 [00:01<00:00,  2.80it/s]\n",
      "  0%|          | 0/28 [00:00<?, ?it/s]"
     ]
    },
    {
     "name": "stdout",
     "output_type": "stream",
     "text": [
      "Updating prototype representation\n"
     ]
    },
    {
     "name": "stderr",
     "output_type": "stream",
     "text": [
      "100%|██████████| 28/28 [00:10<00:00,  2.69it/s]\n",
      "  0%|          | 0/28 [00:00<?, ?it/s]"
     ]
    },
    {
     "name": "stdout",
     "output_type": "stream",
     "text": [
      "val loss increased, patience count:  1\n",
      "Epoch: 12, train_loss: -0.30071374773979187, valid_loss: -0.1943814754486084\n"
     ]
    },
    {
     "name": "stderr",
     "output_type": "stream",
     "text": [
      "100%|██████████| 28/28 [00:24<00:00,  1.12it/s]\n",
      "100%|██████████| 4/4 [00:01<00:00,  2.88it/s]\n",
      "  0%|          | 0/28 [00:00<?, ?it/s]"
     ]
    },
    {
     "name": "stdout",
     "output_type": "stream",
     "text": [
      "Updating prototype representation\n"
     ]
    },
    {
     "name": "stderr",
     "output_type": "stream",
     "text": [
      "100%|██████████| 28/28 [00:10<00:00,  2.77it/s]\n",
      "  0%|          | 0/28 [00:00<?, ?it/s]"
     ]
    },
    {
     "name": "stdout",
     "output_type": "stream",
     "text": [
      "val loss increased, patience count:  2\n",
      "Epoch: 13, train_loss: -0.22928202152252197, valid_loss: -0.1556190550327301\n"
     ]
    },
    {
     "name": "stderr",
     "output_type": "stream",
     "text": [
      "100%|██████████| 28/28 [00:25<00:00,  1.12it/s]\n",
      "100%|██████████| 4/4 [00:01<00:00,  2.93it/s]\n",
      "  0%|          | 0/28 [00:00<?, ?it/s]"
     ]
    },
    {
     "name": "stdout",
     "output_type": "stream",
     "text": [
      "Updating prototype representation\n"
     ]
    },
    {
     "name": "stderr",
     "output_type": "stream",
     "text": [
      "100%|██████████| 28/28 [00:09<00:00,  2.81it/s]\n",
      "  0%|          | 0/28 [00:00<?, ?it/s]"
     ]
    },
    {
     "name": "stdout",
     "output_type": "stream",
     "text": [
      "val loss increased, patience count:  3\n",
      "Epoch: 14, train_loss: -0.2590150535106659, valid_loss: -0.17749522626399994\n"
     ]
    },
    {
     "name": "stderr",
     "output_type": "stream",
     "text": [
      "100%|██████████| 28/28 [00:25<00:00,  1.10it/s]\n",
      "100%|██████████| 4/4 [00:01<00:00,  2.84it/s]\n",
      "  0%|          | 0/28 [00:00<?, ?it/s]"
     ]
    },
    {
     "name": "stdout",
     "output_type": "stream",
     "text": [
      "Updating prototype representation\n"
     ]
    },
    {
     "name": "stderr",
     "output_type": "stream",
     "text": [
      "100%|██████████| 28/28 [00:10<00:00,  2.71it/s]\n"
     ]
    },
    {
     "name": "stdout",
     "output_type": "stream",
     "text": [
      "Early stopped at Epoch:  15\n"
     ]
    },
    {
     "name": "stderr",
     "output_type": "stream",
     "text": [
      "\r",
      "  0%|          | 0/115 [00:00<?, ?it/s]"
     ]
    },
    {
     "name": "stdout",
     "output_type": "stream",
     "text": [
      "{'BATCH_SIZE': 128, 'EPOCHS': 50, 'OPTIMIZER': <class 'torch.optim.adam.Adam'>, 'LEARNING_RATE': 5e-05, 'LOSS': protop_loss_1_1, 'EARLY_STOPPING': False, 'PATIENCE': 3, 'MIN_DELTA': 0.005, 'MAXPOOL': 2, 'OBO_SIZES': array([512]), 'PROTOTYPE_NUM': 30, 'DROPOUT': 0.1, 'PROTO_ACTIVATION': 'log', 'HIDDEN_SIZES': array([ 64, 128, 256, 512]), 'KERNEL_SIZES': array([9, 9, 7, 3])}\n"
     ]
    },
    {
     "name": "stderr",
     "output_type": "stream",
     "text": [
      "100%|██████████| 115/115 [00:28<00:00,  3.98it/s]\n",
      "100%|██████████| 16/16 [00:01<00:00, 11.16it/s]\n",
      "  0%|          | 0/115 [00:00<?, ?it/s]"
     ]
    },
    {
     "name": "stdout",
     "output_type": "stream",
     "text": [
      "Epoch: 0, train_loss: -2.32651948928833, valid_loss: -3.387901544570923\n"
     ]
    },
    {
     "name": "stderr",
     "output_type": "stream",
     "text": [
      "100%|██████████| 115/115 [00:27<00:00,  4.19it/s]\n",
      "100%|██████████| 16/16 [00:01<00:00, 11.96it/s]\n",
      "  0%|          | 0/115 [00:00<?, ?it/s]"
     ]
    },
    {
     "name": "stdout",
     "output_type": "stream",
     "text": [
      "Epoch: 1, train_loss: -3.500701665878296, valid_loss: -3.4576077461242676\n"
     ]
    },
    {
     "name": "stderr",
     "output_type": "stream",
     "text": [
      "100%|██████████| 115/115 [00:32<00:00,  3.55it/s]\n",
      "100%|██████████| 16/16 [00:01<00:00, 11.95it/s]\n",
      "  0%|          | 0/115 [00:00<?, ?it/s]"
     ]
    },
    {
     "name": "stdout",
     "output_type": "stream",
     "text": [
      "Epoch: 2, train_loss: -3.5661158561706543, valid_loss: -3.5311620235443115\n"
     ]
    },
    {
     "name": "stderr",
     "output_type": "stream",
     "text": [
      "100%|██████████| 115/115 [00:29<00:00,  3.91it/s]\n",
      "100%|██████████| 16/16 [00:01<00:00, 11.51it/s]\n",
      "  0%|          | 0/115 [00:00<?, ?it/s]"
     ]
    },
    {
     "name": "stdout",
     "output_type": "stream",
     "text": [
      "Epoch: 3, train_loss: -3.6218814849853516, valid_loss: -3.5426924228668213\n"
     ]
    },
    {
     "name": "stderr",
     "output_type": "stream",
     "text": [
      "100%|██████████| 115/115 [00:28<00:00,  4.11it/s]\n",
      "100%|██████████| 16/16 [00:01<00:00, 11.43it/s]\n",
      "  0%|          | 0/115 [00:00<?, ?it/s]"
     ]
    },
    {
     "name": "stdout",
     "output_type": "stream",
     "text": [
      "Epoch: 4, train_loss: -3.649326801300049, valid_loss: -3.5858523845672607\n"
     ]
    },
    {
     "name": "stderr",
     "output_type": "stream",
     "text": [
      "100%|██████████| 115/115 [00:27<00:00,  4.14it/s]\n",
      "100%|██████████| 16/16 [00:01<00:00, 11.29it/s]\n",
      "  0%|          | 0/115 [00:00<?, ?it/s]"
     ]
    },
    {
     "name": "stdout",
     "output_type": "stream",
     "text": [
      "Epoch: 5, train_loss: -3.6639740467071533, valid_loss: -3.592957019805908\n"
     ]
    },
    {
     "name": "stderr",
     "output_type": "stream",
     "text": [
      "100%|██████████| 115/115 [00:27<00:00,  4.14it/s]\n",
      "100%|██████████| 16/16 [00:01<00:00, 10.46it/s]\n",
      "  0%|          | 0/115 [00:00<?, ?it/s]"
     ]
    },
    {
     "name": "stdout",
     "output_type": "stream",
     "text": [
      "Epoch: 6, train_loss: -3.676184892654419, valid_loss: -3.6063222885131836\n"
     ]
    },
    {
     "name": "stderr",
     "output_type": "stream",
     "text": [
      "100%|██████████| 115/115 [00:28<00:00,  4.08it/s]\n",
      "100%|██████████| 16/16 [00:01<00:00, 11.80it/s]\n",
      "  0%|          | 0/115 [00:00<?, ?it/s]"
     ]
    },
    {
     "name": "stdout",
     "output_type": "stream",
     "text": [
      "Epoch: 7, train_loss: -3.685405731201172, valid_loss: -3.6257946491241455\n"
     ]
    },
    {
     "name": "stderr",
     "output_type": "stream",
     "text": [
      "100%|██████████| 115/115 [00:28<00:00,  4.10it/s]\n",
      "100%|██████████| 16/16 [00:01<00:00, 11.34it/s]\n",
      "  0%|          | 0/115 [00:00<?, ?it/s]"
     ]
    },
    {
     "name": "stdout",
     "output_type": "stream",
     "text": [
      "Epoch: 8, train_loss: -3.6876778602600098, valid_loss: -3.6106300354003906\n"
     ]
    },
    {
     "name": "stderr",
     "output_type": "stream",
     "text": [
      "100%|██████████| 115/115 [00:28<00:00,  4.09it/s]\n",
      "100%|██████████| 16/16 [00:01<00:00, 11.28it/s]\n",
      "  0%|          | 0/115 [00:00<?, ?it/s]"
     ]
    },
    {
     "name": "stdout",
     "output_type": "stream",
     "text": [
      "Epoch: 9, train_loss: -3.691879987716675, valid_loss: -3.612837791442871\n"
     ]
    },
    {
     "name": "stderr",
     "output_type": "stream",
     "text": [
      "100%|██████████| 115/115 [00:27<00:00,  4.18it/s]\n",
      "100%|██████████| 16/16 [00:01<00:00, 11.94it/s]\n",
      "  0%|          | 0/115 [00:00<?, ?it/s]"
     ]
    },
    {
     "name": "stdout",
     "output_type": "stream",
     "text": [
      "Epoch: 10, train_loss: -3.6968917846679688, valid_loss: -3.67313814163208\n"
     ]
    },
    {
     "name": "stderr",
     "output_type": "stream",
     "text": [
      "100%|██████████| 115/115 [00:27<00:00,  4.11it/s]\n",
      "100%|██████████| 16/16 [00:01<00:00, 11.28it/s]\n",
      "  0%|          | 0/115 [00:00<?, ?it/s]"
     ]
    },
    {
     "name": "stdout",
     "output_type": "stream",
     "text": [
      "Epoch: 11, train_loss: -3.7335939407348633, valid_loss: -3.637387752532959\n"
     ]
    },
    {
     "name": "stderr",
     "output_type": "stream",
     "text": [
      "100%|██████████| 115/115 [00:27<00:00,  4.13it/s]\n",
      "100%|██████████| 16/16 [00:01<00:00, 11.81it/s]\n",
      "  0%|          | 0/115 [00:00<?, ?it/s]"
     ]
    },
    {
     "name": "stdout",
     "output_type": "stream",
     "text": [
      "Epoch: 12, train_loss: -3.7342140674591064, valid_loss: -3.6390089988708496\n"
     ]
    },
    {
     "name": "stderr",
     "output_type": "stream",
     "text": [
      "100%|██████████| 115/115 [00:28<00:00,  4.10it/s]\n",
      "100%|██████████| 16/16 [00:01<00:00, 10.88it/s]\n",
      "  0%|          | 0/115 [00:00<?, ?it/s]"
     ]
    },
    {
     "name": "stdout",
     "output_type": "stream",
     "text": [
      "Epoch: 13, train_loss: -3.7296674251556396, valid_loss: -3.6635584831237793\n"
     ]
    },
    {
     "name": "stderr",
     "output_type": "stream",
     "text": [
      "100%|██████████| 115/115 [00:27<00:00,  4.20it/s]\n",
      "100%|██████████| 16/16 [00:01<00:00, 11.88it/s]\n",
      "  0%|          | 0/115 [00:00<?, ?it/s]"
     ]
    },
    {
     "name": "stdout",
     "output_type": "stream",
     "text": [
      "Epoch: 14, train_loss: -3.732975959777832, valid_loss: -3.6646909713745117\n"
     ]
    },
    {
     "name": "stderr",
     "output_type": "stream",
     "text": [
      "100%|██████████| 115/115 [00:27<00:00,  4.20it/s]\n",
      "100%|██████████| 16/16 [00:01<00:00, 12.00it/s]\n",
      "  0%|          | 0/115 [00:00<?, ?it/s]"
     ]
    },
    {
     "name": "stdout",
     "output_type": "stream",
     "text": [
      "Epoch: 15, train_loss: -3.7350549697875977, valid_loss: -3.634627103805542\n"
     ]
    },
    {
     "name": "stderr",
     "output_type": "stream",
     "text": [
      "100%|██████████| 115/115 [00:28<00:00,  4.06it/s]\n",
      "100%|██████████| 16/16 [00:01<00:00, 12.14it/s]\n",
      "  0%|          | 0/115 [00:00<?, ?it/s]"
     ]
    },
    {
     "name": "stdout",
     "output_type": "stream",
     "text": [
      "Epoch: 16, train_loss: -3.7360332012176514, valid_loss: -3.6790575981140137\n"
     ]
    },
    {
     "name": "stderr",
     "output_type": "stream",
     "text": [
      "100%|██████████| 115/115 [00:27<00:00,  4.13it/s]\n",
      "100%|██████████| 16/16 [00:01<00:00, 11.38it/s]\n",
      "  0%|          | 0/115 [00:00<?, ?it/s]"
     ]
    },
    {
     "name": "stdout",
     "output_type": "stream",
     "text": [
      "Epoch: 17, train_loss: -3.739365339279175, valid_loss: -3.6558122634887695\n"
     ]
    },
    {
     "name": "stderr",
     "output_type": "stream",
     "text": [
      "100%|██████████| 115/115 [00:27<00:00,  4.13it/s]\n",
      "100%|██████████| 16/16 [00:01<00:00, 11.89it/s]\n",
      "  0%|          | 0/115 [00:00<?, ?it/s]"
     ]
    },
    {
     "name": "stdout",
     "output_type": "stream",
     "text": [
      "Epoch: 18, train_loss: -3.7408981323242188, valid_loss: -3.6684370040893555\n"
     ]
    },
    {
     "name": "stderr",
     "output_type": "stream",
     "text": [
      "100%|██████████| 115/115 [00:27<00:00,  4.15it/s]\n",
      "100%|██████████| 16/16 [00:01<00:00, 12.07it/s]\n",
      "  0%|          | 0/115 [00:00<?, ?it/s]"
     ]
    },
    {
     "name": "stdout",
     "output_type": "stream",
     "text": [
      "Epoch: 19, train_loss: -3.7408275604248047, valid_loss: -3.6751315593719482\n"
     ]
    },
    {
     "name": "stderr",
     "output_type": "stream",
     "text": [
      "100%|██████████| 115/115 [00:28<00:00,  4.06it/s]\n",
      "100%|██████████| 16/16 [00:01<00:00, 11.69it/s]\n",
      "  0%|          | 0/115 [00:00<?, ?it/s]"
     ]
    },
    {
     "name": "stdout",
     "output_type": "stream",
     "text": [
      "Epoch: 20, train_loss: -3.746232271194458, valid_loss: -3.6765897274017334\n"
     ]
    },
    {
     "name": "stderr",
     "output_type": "stream",
     "text": [
      "100%|██████████| 115/115 [00:27<00:00,  4.16it/s]\n",
      "100%|██████████| 16/16 [00:01<00:00, 11.99it/s]\n",
      "  0%|          | 0/115 [00:00<?, ?it/s]"
     ]
    },
    {
     "name": "stdout",
     "output_type": "stream",
     "text": [
      "Epoch: 21, train_loss: -3.7564151287078857, valid_loss: -3.669553518295288\n"
     ]
    },
    {
     "name": "stderr",
     "output_type": "stream",
     "text": [
      "100%|██████████| 115/115 [00:27<00:00,  4.16it/s]\n",
      "100%|██████████| 16/16 [00:01<00:00, 11.92it/s]\n",
      "  0%|          | 0/115 [00:00<?, ?it/s]"
     ]
    },
    {
     "name": "stdout",
     "output_type": "stream",
     "text": [
      "Epoch: 22, train_loss: -3.7745511531829834, valid_loss: -3.671112537384033\n"
     ]
    },
    {
     "name": "stderr",
     "output_type": "stream",
     "text": [
      "100%|██████████| 115/115 [00:27<00:00,  4.16it/s]\n",
      "100%|██████████| 16/16 [00:01<00:00, 10.93it/s]\n",
      "  0%|          | 0/115 [00:00<?, ?it/s]"
     ]
    },
    {
     "name": "stdout",
     "output_type": "stream",
     "text": [
      "Epoch: 23, train_loss: -3.8093395233154297, valid_loss: -3.7523200511932373\n"
     ]
    },
    {
     "name": "stderr",
     "output_type": "stream",
     "text": [
      "100%|██████████| 115/115 [00:27<00:00,  4.21it/s]\n",
      "100%|██████████| 16/16 [00:01<00:00, 12.13it/s]\n",
      "  0%|          | 0/115 [00:00<?, ?it/s]"
     ]
    },
    {
     "name": "stdout",
     "output_type": "stream",
     "text": [
      "Epoch: 24, train_loss: -3.837282180786133, valid_loss: -3.71737003326416\n"
     ]
    },
    {
     "name": "stderr",
     "output_type": "stream",
     "text": [
      "100%|██████████| 115/115 [00:27<00:00,  4.18it/s]\n",
      "100%|██████████| 16/16 [00:01<00:00, 11.63it/s]\n",
      "  0%|          | 0/115 [00:00<?, ?it/s]"
     ]
    },
    {
     "name": "stdout",
     "output_type": "stream",
     "text": [
      "Epoch: 25, train_loss: -3.879869222640991, valid_loss: -3.766145706176758\n"
     ]
    },
    {
     "name": "stderr",
     "output_type": "stream",
     "text": [
      "100%|██████████| 115/115 [00:27<00:00,  4.21it/s]\n",
      "100%|██████████| 16/16 [00:01<00:00, 12.03it/s]\n",
      "  0%|          | 0/115 [00:00<?, ?it/s]"
     ]
    },
    {
     "name": "stdout",
     "output_type": "stream",
     "text": [
      "Epoch: 26, train_loss: -3.922569990158081, valid_loss: -3.762687921524048\n"
     ]
    },
    {
     "name": "stderr",
     "output_type": "stream",
     "text": [
      "100%|██████████| 115/115 [00:28<00:00,  4.05it/s]\n",
      "100%|██████████| 16/16 [00:01<00:00, 11.45it/s]\n",
      "  0%|          | 0/115 [00:00<?, ?it/s]"
     ]
    },
    {
     "name": "stdout",
     "output_type": "stream",
     "text": [
      "Epoch: 27, train_loss: -3.981816530227661, valid_loss: -3.858229875564575\n"
     ]
    },
    {
     "name": "stderr",
     "output_type": "stream",
     "text": [
      "100%|██████████| 115/115 [00:27<00:00,  4.20it/s]\n",
      "100%|██████████| 16/16 [00:01<00:00, 11.02it/s]\n",
      "  0%|          | 0/115 [00:00<?, ?it/s]"
     ]
    },
    {
     "name": "stdout",
     "output_type": "stream",
     "text": [
      "Epoch: 28, train_loss: -4.002847194671631, valid_loss: -3.8504440784454346\n"
     ]
    },
    {
     "name": "stderr",
     "output_type": "stream",
     "text": [
      "100%|██████████| 115/115 [00:27<00:00,  4.11it/s]\n",
      "100%|██████████| 16/16 [00:01<00:00, 12.02it/s]\n",
      "  0%|          | 0/115 [00:00<?, ?it/s]"
     ]
    },
    {
     "name": "stdout",
     "output_type": "stream",
     "text": [
      "Epoch: 29, train_loss: -4.005776405334473, valid_loss: -3.854475498199463\n"
     ]
    },
    {
     "name": "stderr",
     "output_type": "stream",
     "text": [
      "100%|██████████| 115/115 [00:27<00:00,  4.22it/s]\n",
      "100%|██████████| 16/16 [00:01<00:00, 11.07it/s]\n",
      "  0%|          | 0/115 [00:00<?, ?it/s]"
     ]
    },
    {
     "name": "stdout",
     "output_type": "stream",
     "text": [
      "Epoch: 30, train_loss: -4.061300277709961, valid_loss: -3.96402645111084\n"
     ]
    },
    {
     "name": "stderr",
     "output_type": "stream",
     "text": [
      "100%|██████████| 115/115 [00:27<00:00,  4.14it/s]\n",
      "100%|██████████| 16/16 [00:01<00:00, 11.05it/s]\n",
      "  0%|          | 0/115 [00:00<?, ?it/s]"
     ]
    },
    {
     "name": "stdout",
     "output_type": "stream",
     "text": [
      "Epoch: 31, train_loss: -4.128635406494141, valid_loss: -3.9315237998962402\n"
     ]
    },
    {
     "name": "stderr",
     "output_type": "stream",
     "text": [
      "100%|██████████| 115/115 [00:27<00:00,  4.20it/s]\n",
      "100%|██████████| 16/16 [00:01<00:00, 11.73it/s]\n",
      "  0%|          | 0/115 [00:00<?, ?it/s]"
     ]
    },
    {
     "name": "stdout",
     "output_type": "stream",
     "text": [
      "Epoch: 32, train_loss: -4.140083312988281, valid_loss: -3.943437099456787\n"
     ]
    },
    {
     "name": "stderr",
     "output_type": "stream",
     "text": [
      "100%|██████████| 115/115 [00:27<00:00,  4.14it/s]\n",
      "100%|██████████| 16/16 [00:01<00:00, 10.97it/s]\n",
      "  0%|          | 0/115 [00:00<?, ?it/s]"
     ]
    },
    {
     "name": "stdout",
     "output_type": "stream",
     "text": [
      "Epoch: 33, train_loss: -4.150333881378174, valid_loss: -3.9825921058654785\n"
     ]
    },
    {
     "name": "stderr",
     "output_type": "stream",
     "text": [
      "100%|██████████| 115/115 [00:29<00:00,  3.96it/s]\n",
      "100%|██████████| 16/16 [00:01<00:00, 11.92it/s]\n",
      "  0%|          | 0/115 [00:00<?, ?it/s]"
     ]
    },
    {
     "name": "stdout",
     "output_type": "stream",
     "text": [
      "Epoch: 34, train_loss: -4.159148693084717, valid_loss: -3.9973480701446533\n"
     ]
    },
    {
     "name": "stderr",
     "output_type": "stream",
     "text": [
      "100%|██████████| 115/115 [00:27<00:00,  4.17it/s]\n",
      "100%|██████████| 16/16 [00:01<00:00, 12.29it/s]\n",
      "  0%|          | 0/115 [00:00<?, ?it/s]"
     ]
    },
    {
     "name": "stdout",
     "output_type": "stream",
     "text": [
      "Epoch: 35, train_loss: -4.178574562072754, valid_loss: -3.9811360836029053\n"
     ]
    },
    {
     "name": "stderr",
     "output_type": "stream",
     "text": [
      "100%|██████████| 115/115 [00:28<00:00,  4.08it/s]\n",
      "100%|██████████| 16/16 [00:01<00:00, 12.02it/s]\n",
      "  0%|          | 0/115 [00:00<?, ?it/s]"
     ]
    },
    {
     "name": "stdout",
     "output_type": "stream",
     "text": [
      "Epoch: 36, train_loss: -4.185674667358398, valid_loss: -3.938448905944824\n"
     ]
    },
    {
     "name": "stderr",
     "output_type": "stream",
     "text": [
      "100%|██████████| 115/115 [00:29<00:00,  3.94it/s]\n",
      "100%|██████████| 16/16 [00:01<00:00, 10.58it/s]\n",
      "  0%|          | 0/115 [00:00<?, ?it/s]"
     ]
    },
    {
     "name": "stdout",
     "output_type": "stream",
     "text": [
      "Epoch: 37, train_loss: -4.1812663078308105, valid_loss: -4.014739990234375\n"
     ]
    },
    {
     "name": "stderr",
     "output_type": "stream",
     "text": [
      "100%|██████████| 115/115 [00:28<00:00,  3.98it/s]\n",
      "100%|██████████| 16/16 [00:01<00:00, 12.02it/s]\n",
      "  0%|          | 0/115 [00:00<?, ?it/s]"
     ]
    },
    {
     "name": "stdout",
     "output_type": "stream",
     "text": [
      "Epoch: 38, train_loss: -4.222760200500488, valid_loss: -4.031595706939697\n"
     ]
    },
    {
     "name": "stderr",
     "output_type": "stream",
     "text": [
      "100%|██████████| 115/115 [00:27<00:00,  4.16it/s]\n",
      "100%|██████████| 16/16 [00:01<00:00, 11.36it/s]\n",
      "  0%|          | 0/115 [00:00<?, ?it/s]"
     ]
    },
    {
     "name": "stdout",
     "output_type": "stream",
     "text": [
      "Epoch: 39, train_loss: -4.2408905029296875, valid_loss: -3.995100259780884\n"
     ]
    },
    {
     "name": "stderr",
     "output_type": "stream",
     "text": [
      "100%|██████████| 115/115 [00:27<00:00,  4.18it/s]\n",
      "100%|██████████| 16/16 [00:01<00:00, 11.78it/s]\n",
      "  0%|          | 0/115 [00:00<?, ?it/s]"
     ]
    },
    {
     "name": "stdout",
     "output_type": "stream",
     "text": [
      "Epoch: 40, train_loss: -4.245078086853027, valid_loss: -4.061858177185059\n"
     ]
    },
    {
     "name": "stderr",
     "output_type": "stream",
     "text": [
      "100%|██████████| 115/115 [00:28<00:00,  4.06it/s]\n",
      "100%|██████████| 16/16 [00:01<00:00, 10.40it/s]\n",
      "  0%|          | 0/115 [00:00<?, ?it/s]"
     ]
    },
    {
     "name": "stdout",
     "output_type": "stream",
     "text": [
      "Epoch: 41, train_loss: -4.256781578063965, valid_loss: -3.995326042175293\n"
     ]
    },
    {
     "name": "stderr",
     "output_type": "stream",
     "text": [
      "100%|██████████| 115/115 [00:27<00:00,  4.21it/s]\n",
      "100%|██████████| 16/16 [00:01<00:00, 12.14it/s]\n",
      "  0%|          | 0/115 [00:00<?, ?it/s]"
     ]
    },
    {
     "name": "stdout",
     "output_type": "stream",
     "text": [
      "Epoch: 42, train_loss: -4.259768962860107, valid_loss: -4.009984016418457\n"
     ]
    },
    {
     "name": "stderr",
     "output_type": "stream",
     "text": [
      "100%|██████████| 115/115 [00:27<00:00,  4.13it/s]\n",
      "100%|██████████| 16/16 [00:01<00:00, 12.13it/s]\n",
      "  0%|          | 0/115 [00:00<?, ?it/s]"
     ]
    },
    {
     "name": "stdout",
     "output_type": "stream",
     "text": [
      "Epoch: 43, train_loss: -4.273994445800781, valid_loss: -4.00588321685791\n"
     ]
    },
    {
     "name": "stderr",
     "output_type": "stream",
     "text": [
      "100%|██████████| 115/115 [00:28<00:00,  4.09it/s]\n",
      "100%|██████████| 16/16 [00:01<00:00, 11.24it/s]\n",
      "  0%|          | 0/115 [00:00<?, ?it/s]"
     ]
    },
    {
     "name": "stdout",
     "output_type": "stream",
     "text": [
      "Epoch: 44, train_loss: -4.281802177429199, valid_loss: -4.055632591247559\n"
     ]
    },
    {
     "name": "stderr",
     "output_type": "stream",
     "text": [
      "100%|██████████| 115/115 [00:28<00:00,  4.07it/s]\n",
      "100%|██████████| 16/16 [00:01<00:00, 11.93it/s]\n",
      "  0%|          | 0/115 [00:00<?, ?it/s]"
     ]
    },
    {
     "name": "stdout",
     "output_type": "stream",
     "text": [
      "Epoch: 45, train_loss: -4.283269882202148, valid_loss: -4.016319751739502\n"
     ]
    },
    {
     "name": "stderr",
     "output_type": "stream",
     "text": [
      "100%|██████████| 115/115 [00:27<00:00,  4.16it/s]\n",
      "100%|██████████| 16/16 [00:01<00:00, 10.71it/s]\n",
      "  0%|          | 0/115 [00:00<?, ?it/s]"
     ]
    },
    {
     "name": "stdout",
     "output_type": "stream",
     "text": [
      "Epoch: 46, train_loss: -4.286209583282471, valid_loss: -4.036808967590332\n"
     ]
    },
    {
     "name": "stderr",
     "output_type": "stream",
     "text": [
      "100%|██████████| 115/115 [00:27<00:00,  4.13it/s]\n",
      "100%|██████████| 16/16 [00:01<00:00, 11.96it/s]\n",
      "  0%|          | 0/115 [00:00<?, ?it/s]"
     ]
    },
    {
     "name": "stdout",
     "output_type": "stream",
     "text": [
      "Epoch: 47, train_loss: -4.3052754402160645, valid_loss: -4.022005081176758\n"
     ]
    },
    {
     "name": "stderr",
     "output_type": "stream",
     "text": [
      "100%|██████████| 115/115 [00:27<00:00,  4.20it/s]\n",
      "100%|██████████| 16/16 [00:01<00:00, 11.54it/s]\n",
      "  0%|          | 0/115 [00:00<?, ?it/s]"
     ]
    },
    {
     "name": "stdout",
     "output_type": "stream",
     "text": [
      "Epoch: 48, train_loss: -4.3155059814453125, valid_loss: -4.028861045837402\n"
     ]
    },
    {
     "name": "stderr",
     "output_type": "stream",
     "text": [
      "100%|██████████| 115/115 [00:28<00:00,  4.10it/s]\n",
      "100%|██████████| 16/16 [00:01<00:00, 11.73it/s]\n",
      "  2%|▏         | 2/115 [00:00<00:10, 11.05it/s]"
     ]
    },
    {
     "name": "stdout",
     "output_type": "stream",
     "text": [
      "Updating prototype representation\n"
     ]
    },
    {
     "name": "stderr",
     "output_type": "stream",
     "text": [
      "100%|██████████| 115/115 [00:12<00:00,  9.55it/s]\n"
     ]
    },
    {
     "name": "stdout",
     "output_type": "stream",
     "text": [
      "Epoch: 49, train_loss: -4.348409175872803, valid_loss: -4.008545398712158\n"
     ]
    },
    {
     "name": "stderr",
     "output_type": "stream",
     "text": [
      "  1%|          | 1/115 [00:00<00:18,  6.27it/s]"
     ]
    },
    {
     "name": "stdout",
     "output_type": "stream",
     "text": [
      "{'BATCH_SIZE': 128, 'EPOCHS': 40, 'OPTIMIZER': <class 'torch.optim.adam.Adam'>, 'LEARNING_RATE': 0.0001, 'LOSS': protop_loss_1_0.5, 'EARLY_STOPPING': False, 'PATIENCE': 2, 'MIN_DELTA': 0.005, 'MAXPOOL': 2, 'OBO_SIZES': array([512, 256]), 'PROTOTYPE_NUM': 10, 'DROPOUT': 0.1, 'PROTO_ACTIVATION': 'log', 'HIDDEN_SIZES': array([ 64, 128, 256, 512]), 'KERNEL_SIZES': array([9, 9, 5, 3])}\n"
     ]
    },
    {
     "name": "stderr",
     "output_type": "stream",
     "text": [
      "100%|██████████| 115/115 [00:19<00:00,  5.80it/s]\n",
      "100%|██████████| 16/16 [00:00<00:00, 16.63it/s]\n",
      "  0%|          | 0/115 [00:00<?, ?it/s]"
     ]
    },
    {
     "name": "stdout",
     "output_type": "stream",
     "text": [
      "Epoch: 0, train_loss: 2.0554041862487793, valid_loss: 1.6126341819763184\n"
     ]
    },
    {
     "name": "stderr",
     "output_type": "stream",
     "text": [
      "100%|██████████| 115/115 [00:20<00:00,  5.75it/s]\n",
      "100%|██████████| 16/16 [00:00<00:00, 16.92it/s]\n",
      "  1%|          | 1/115 [00:00<00:18,  6.02it/s]"
     ]
    },
    {
     "name": "stdout",
     "output_type": "stream",
     "text": [
      "Epoch: 1, train_loss: 1.5356109142303467, valid_loss: 1.5377990007400513\n"
     ]
    },
    {
     "name": "stderr",
     "output_type": "stream",
     "text": [
      "100%|██████████| 115/115 [00:19<00:00,  5.77it/s]\n",
      "100%|██████████| 16/16 [00:00<00:00, 17.65it/s]\n",
      "  1%|          | 1/115 [00:00<00:17,  6.42it/s]"
     ]
    },
    {
     "name": "stdout",
     "output_type": "stream",
     "text": [
      "Epoch: 2, train_loss: 1.493353009223938, valid_loss: 1.517167568206787\n"
     ]
    },
    {
     "name": "stderr",
     "output_type": "stream",
     "text": [
      "100%|██████████| 115/115 [00:19<00:00,  5.93it/s]\n",
      "100%|██████████| 16/16 [00:00<00:00, 16.62it/s]\n",
      "  1%|          | 1/115 [00:00<00:21,  5.25it/s]"
     ]
    },
    {
     "name": "stdout",
     "output_type": "stream",
     "text": [
      "Epoch: 3, train_loss: 1.358017921447754, valid_loss: 1.331467866897583\n"
     ]
    },
    {
     "name": "stderr",
     "output_type": "stream",
     "text": [
      "100%|██████████| 115/115 [00:20<00:00,  5.75it/s]\n",
      "100%|██████████| 16/16 [00:01<00:00, 15.98it/s]\n",
      "  1%|          | 1/115 [00:00<00:19,  5.80it/s]"
     ]
    },
    {
     "name": "stdout",
     "output_type": "stream",
     "text": [
      "Epoch: 4, train_loss: 1.2682615518569946, valid_loss: 1.2326505184173584\n"
     ]
    },
    {
     "name": "stderr",
     "output_type": "stream",
     "text": [
      "100%|██████████| 115/115 [00:19<00:00,  5.85it/s]\n",
      "100%|██████████| 16/16 [00:00<00:00, 16.21it/s]\n",
      "  1%|          | 1/115 [00:00<00:20,  5.64it/s]"
     ]
    },
    {
     "name": "stdout",
     "output_type": "stream",
     "text": [
      "Epoch: 5, train_loss: 1.1196503639221191, valid_loss: 1.1033791303634644\n"
     ]
    },
    {
     "name": "stderr",
     "output_type": "stream",
     "text": [
      "100%|██████████| 115/115 [00:19<00:00,  5.89it/s]\n",
      "100%|██████████| 16/16 [00:00<00:00, 17.84it/s]\n",
      "  1%|          | 1/115 [00:00<00:17,  6.49it/s]"
     ]
    },
    {
     "name": "stdout",
     "output_type": "stream",
     "text": [
      "Epoch: 6, train_loss: 1.0295007228851318, valid_loss: 1.0605700016021729\n"
     ]
    },
    {
     "name": "stderr",
     "output_type": "stream",
     "text": [
      "100%|██████████| 115/115 [00:19<00:00,  5.82it/s]\n",
      "100%|██████████| 16/16 [00:00<00:00, 17.16it/s]\n",
      "  1%|          | 1/115 [00:00<00:20,  5.58it/s]"
     ]
    },
    {
     "name": "stdout",
     "output_type": "stream",
     "text": [
      "Epoch: 7, train_loss: 0.94963538646698, valid_loss: 0.926010251045227\n"
     ]
    },
    {
     "name": "stderr",
     "output_type": "stream",
     "text": [
      "100%|██████████| 115/115 [00:20<00:00,  5.67it/s]\n",
      "100%|██████████| 16/16 [00:00<00:00, 17.71it/s]\n",
      "  1%|          | 1/115 [00:00<00:18,  6.06it/s]"
     ]
    },
    {
     "name": "stdout",
     "output_type": "stream",
     "text": [
      "Epoch: 8, train_loss: 0.8518228530883789, valid_loss: 0.911593496799469\n"
     ]
    },
    {
     "name": "stderr",
     "output_type": "stream",
     "text": [
      "100%|██████████| 115/115 [00:19<00:00,  5.97it/s]\n",
      "100%|██████████| 16/16 [00:00<00:00, 17.89it/s]\n",
      "  1%|          | 1/115 [00:00<00:18,  6.14it/s]"
     ]
    },
    {
     "name": "stdout",
     "output_type": "stream",
     "text": [
      "Epoch: 9, train_loss: 0.7557422518730164, valid_loss: 0.6804472208023071\n"
     ]
    },
    {
     "name": "stderr",
     "output_type": "stream",
     "text": [
      "100%|██████████| 115/115 [00:19<00:00,  5.77it/s]\n",
      "100%|██████████| 16/16 [00:00<00:00, 17.94it/s]\n",
      "  1%|          | 1/115 [00:00<00:18,  6.07it/s]"
     ]
    },
    {
     "name": "stdout",
     "output_type": "stream",
     "text": [
      "Epoch: 10, train_loss: 0.5853065252304077, valid_loss: 0.6567951440811157\n"
     ]
    },
    {
     "name": "stderr",
     "output_type": "stream",
     "text": [
      "100%|██████████| 115/115 [00:20<00:00,  5.70it/s]\n",
      "100%|██████████| 16/16 [00:00<00:00, 16.01it/s]\n",
      "  1%|          | 1/115 [00:00<00:18,  6.13it/s]"
     ]
    },
    {
     "name": "stdout",
     "output_type": "stream",
     "text": [
      "Epoch: 11, train_loss: 0.5655829310417175, valid_loss: 0.6643664836883545\n"
     ]
    },
    {
     "name": "stderr",
     "output_type": "stream",
     "text": [
      "100%|██████████| 115/115 [00:19<00:00,  5.93it/s]\n",
      "100%|██████████| 16/16 [00:00<00:00, 17.96it/s]\n",
      "  1%|          | 1/115 [00:00<00:19,  5.78it/s]"
     ]
    },
    {
     "name": "stdout",
     "output_type": "stream",
     "text": [
      "Epoch: 12, train_loss: 0.435375839471817, valid_loss: 0.5227662920951843\n"
     ]
    },
    {
     "name": "stderr",
     "output_type": "stream",
     "text": [
      "100%|██████████| 115/115 [00:19<00:00,  5.90it/s]\n",
      "100%|██████████| 16/16 [00:00<00:00, 17.74it/s]\n",
      "  1%|          | 1/115 [00:00<00:17,  6.40it/s]"
     ]
    },
    {
     "name": "stdout",
     "output_type": "stream",
     "text": [
      "Epoch: 13, train_loss: 0.3502478003501892, valid_loss: 0.44612547755241394\n"
     ]
    },
    {
     "name": "stderr",
     "output_type": "stream",
     "text": [
      "100%|██████████| 115/115 [00:19<00:00,  5.77it/s]\n",
      "100%|██████████| 16/16 [00:00<00:00, 16.89it/s]\n",
      "  1%|          | 1/115 [00:00<00:19,  5.77it/s]"
     ]
    },
    {
     "name": "stdout",
     "output_type": "stream",
     "text": [
      "Epoch: 14, train_loss: 0.304977685213089, valid_loss: 0.4200569689273834\n"
     ]
    },
    {
     "name": "stderr",
     "output_type": "stream",
     "text": [
      "100%|██████████| 115/115 [00:19<00:00,  5.82it/s]\n",
      "100%|██████████| 16/16 [00:00<00:00, 16.56it/s]\n",
      "  1%|          | 1/115 [00:00<00:18,  6.10it/s]"
     ]
    },
    {
     "name": "stdout",
     "output_type": "stream",
     "text": [
      "Epoch: 15, train_loss: 0.2452884465456009, valid_loss: 0.3601522147655487\n"
     ]
    },
    {
     "name": "stderr",
     "output_type": "stream",
     "text": [
      "100%|██████████| 115/115 [00:19<00:00,  5.80it/s]\n",
      "100%|██████████| 16/16 [00:00<00:00, 17.24it/s]\n",
      "  1%|          | 1/115 [00:00<00:19,  5.93it/s]"
     ]
    },
    {
     "name": "stdout",
     "output_type": "stream",
     "text": [
      "Epoch: 16, train_loss: 0.226004958152771, valid_loss: 0.3768075704574585\n"
     ]
    },
    {
     "name": "stderr",
     "output_type": "stream",
     "text": [
      "100%|██████████| 115/115 [00:20<00:00,  5.72it/s]\n",
      "100%|██████████| 16/16 [00:01<00:00, 15.81it/s]\n",
      "  0%|          | 0/115 [00:00<?, ?it/s]"
     ]
    },
    {
     "name": "stdout",
     "output_type": "stream",
     "text": [
      "Epoch: 17, train_loss: 0.21406586468219757, valid_loss: 0.3747033476829529\n"
     ]
    },
    {
     "name": "stderr",
     "output_type": "stream",
     "text": [
      "100%|██████████| 115/115 [00:20<00:00,  5.72it/s]\n",
      "100%|██████████| 16/16 [00:00<00:00, 18.12it/s]\n",
      "  1%|          | 1/115 [00:00<00:18,  6.17it/s]"
     ]
    },
    {
     "name": "stdout",
     "output_type": "stream",
     "text": [
      "Epoch: 18, train_loss: 0.16710087656974792, valid_loss: 0.322005957365036\n"
     ]
    },
    {
     "name": "stderr",
     "output_type": "stream",
     "text": [
      "100%|██████████| 115/115 [00:19<00:00,  5.88it/s]\n",
      "100%|██████████| 16/16 [00:00<00:00, 17.96it/s]\n",
      "  1%|          | 1/115 [00:00<00:19,  5.77it/s]"
     ]
    },
    {
     "name": "stdout",
     "output_type": "stream",
     "text": [
      "Epoch: 19, train_loss: 0.03403779864311218, valid_loss: 0.05718822032213211\n"
     ]
    },
    {
     "name": "stderr",
     "output_type": "stream",
     "text": [
      "100%|██████████| 115/115 [00:28<00:00,  4.10it/s]\n",
      "100%|██████████| 16/16 [00:00<00:00, 17.63it/s]\n",
      "  1%|          | 1/115 [00:00<00:18,  6.28it/s]"
     ]
    },
    {
     "name": "stdout",
     "output_type": "stream",
     "text": [
      "Epoch: 20, train_loss: -0.18853269517421722, valid_loss: 0.0038386599626392126\n"
     ]
    },
    {
     "name": "stderr",
     "output_type": "stream",
     "text": [
      "100%|██████████| 115/115 [00:19<00:00,  5.76it/s]\n",
      "100%|██████████| 16/16 [00:00<00:00, 17.77it/s]\n",
      "  0%|          | 0/115 [00:00<?, ?it/s]"
     ]
    },
    {
     "name": "stdout",
     "output_type": "stream",
     "text": [
      "Epoch: 21, train_loss: -0.22037512063980103, valid_loss: -0.008368079550564289\n"
     ]
    },
    {
     "name": "stderr",
     "output_type": "stream",
     "text": [
      "100%|██████████| 115/115 [00:19<00:00,  5.83it/s]\n",
      "100%|██████████| 16/16 [00:01<00:00, 15.94it/s]\n",
      "  1%|          | 1/115 [00:00<00:18,  6.16it/s]"
     ]
    },
    {
     "name": "stdout",
     "output_type": "stream",
     "text": [
      "Epoch: 22, train_loss: -0.23930293321609497, valid_loss: -0.007802379783242941\n"
     ]
    },
    {
     "name": "stderr",
     "output_type": "stream",
     "text": [
      "100%|██████████| 115/115 [00:19<00:00,  5.83it/s]\n",
      "100%|██████████| 16/16 [00:00<00:00, 16.92it/s]\n",
      "  1%|          | 1/115 [00:00<00:21,  5.25it/s]"
     ]
    },
    {
     "name": "stdout",
     "output_type": "stream",
     "text": [
      "Epoch: 23, train_loss: -0.384660005569458, valid_loss: -0.25856587290763855\n"
     ]
    },
    {
     "name": "stderr",
     "output_type": "stream",
     "text": [
      "100%|██████████| 115/115 [00:19<00:00,  5.79it/s]\n",
      "100%|██████████| 16/16 [00:00<00:00, 16.98it/s]\n",
      "  1%|          | 1/115 [00:00<00:21,  5.22it/s]"
     ]
    },
    {
     "name": "stdout",
     "output_type": "stream",
     "text": [
      "Epoch: 24, train_loss: -0.5215187668800354, valid_loss: -0.24484586715698242\n"
     ]
    },
    {
     "name": "stderr",
     "output_type": "stream",
     "text": [
      "100%|██████████| 115/115 [00:19<00:00,  5.95it/s]\n",
      "100%|██████████| 16/16 [00:00<00:00, 18.38it/s]\n",
      "  1%|          | 1/115 [00:00<00:18,  6.17it/s]"
     ]
    },
    {
     "name": "stdout",
     "output_type": "stream",
     "text": [
      "Epoch: 25, train_loss: -0.5572914481163025, valid_loss: -0.291510671377182\n"
     ]
    },
    {
     "name": "stderr",
     "output_type": "stream",
     "text": [
      "100%|██████████| 115/115 [00:19<00:00,  5.83it/s]\n",
      "100%|██████████| 16/16 [00:00<00:00, 17.72it/s]\n",
      "  1%|          | 1/115 [00:00<00:18,  6.28it/s]"
     ]
    },
    {
     "name": "stdout",
     "output_type": "stream",
     "text": [
      "Epoch: 26, train_loss: -0.5671945214271545, valid_loss: -0.29266130924224854\n"
     ]
    },
    {
     "name": "stderr",
     "output_type": "stream",
     "text": [
      "100%|██████████| 115/115 [00:21<00:00,  5.46it/s]\n",
      "100%|██████████| 16/16 [00:00<00:00, 16.11it/s]\n",
      "  1%|          | 1/115 [00:00<00:19,  5.97it/s]"
     ]
    },
    {
     "name": "stdout",
     "output_type": "stream",
     "text": [
      "Epoch: 27, train_loss: -0.6016926765441895, valid_loss: -0.4287494421005249\n"
     ]
    },
    {
     "name": "stderr",
     "output_type": "stream",
     "text": [
      "100%|██████████| 115/115 [00:19<00:00,  5.86it/s]\n",
      "100%|██████████| 16/16 [00:00<00:00, 18.15it/s]\n",
      "  1%|          | 1/115 [00:00<00:18,  6.16it/s]"
     ]
    },
    {
     "name": "stdout",
     "output_type": "stream",
     "text": [
      "Epoch: 28, train_loss: -0.7473461031913757, valid_loss: -0.4361267685890198\n"
     ]
    },
    {
     "name": "stderr",
     "output_type": "stream",
     "text": [
      "100%|██████████| 115/115 [00:19<00:00,  5.95it/s]\n",
      "100%|██████████| 16/16 [00:00<00:00, 18.01it/s]\n",
      "  1%|          | 1/115 [00:00<00:19,  6.00it/s]"
     ]
    },
    {
     "name": "stdout",
     "output_type": "stream",
     "text": [
      "Epoch: 29, train_loss: -0.759540319442749, valid_loss: -0.48381108045578003\n"
     ]
    },
    {
     "name": "stderr",
     "output_type": "stream",
     "text": [
      "100%|██████████| 115/115 [00:20<00:00,  5.68it/s]\n",
      "100%|██████████| 16/16 [00:00<00:00, 18.13it/s]\n",
      "  1%|          | 1/115 [00:00<00:18,  6.02it/s]"
     ]
    },
    {
     "name": "stdout",
     "output_type": "stream",
     "text": [
      "Epoch: 30, train_loss: -0.7653478384017944, valid_loss: -0.4251270294189453\n"
     ]
    },
    {
     "name": "stderr",
     "output_type": "stream",
     "text": [
      "100%|██████████| 115/115 [00:19<00:00,  5.92it/s]\n",
      "100%|██████████| 16/16 [00:00<00:00, 16.78it/s]\n",
      "  0%|          | 0/115 [00:00<?, ?it/s]"
     ]
    },
    {
     "name": "stdout",
     "output_type": "stream",
     "text": [
      "Epoch: 31, train_loss: -0.7781502604484558, valid_loss: -0.45278626680374146\n"
     ]
    },
    {
     "name": "stderr",
     "output_type": "stream",
     "text": [
      "100%|██████████| 115/115 [00:19<00:00,  5.87it/s]\n",
      "100%|██████████| 16/16 [00:00<00:00, 17.57it/s]\n",
      "  1%|          | 1/115 [00:00<00:19,  5.83it/s]"
     ]
    },
    {
     "name": "stdout",
     "output_type": "stream",
     "text": [
      "Epoch: 32, train_loss: -0.8441570997238159, valid_loss: -0.4875764846801758\n"
     ]
    },
    {
     "name": "stderr",
     "output_type": "stream",
     "text": [
      "100%|██████████| 115/115 [00:20<00:00,  5.61it/s]\n",
      "100%|██████████| 16/16 [00:00<00:00, 17.96it/s]\n",
      "  1%|          | 1/115 [00:00<00:21,  5.37it/s]"
     ]
    },
    {
     "name": "stdout",
     "output_type": "stream",
     "text": [
      "Epoch: 33, train_loss: -0.9085561633110046, valid_loss: -0.5990175008773804\n"
     ]
    },
    {
     "name": "stderr",
     "output_type": "stream",
     "text": [
      "100%|██████████| 115/115 [00:19<00:00,  5.94it/s]\n",
      "100%|██████████| 16/16 [00:00<00:00, 18.04it/s]\n",
      "  1%|          | 1/115 [00:00<00:18,  6.28it/s]"
     ]
    },
    {
     "name": "stdout",
     "output_type": "stream",
     "text": [
      "Epoch: 34, train_loss: -0.9764800071716309, valid_loss: -0.596099853515625\n"
     ]
    },
    {
     "name": "stderr",
     "output_type": "stream",
     "text": [
      "100%|██████████| 115/115 [00:19<00:00,  5.94it/s]\n",
      "100%|██████████| 16/16 [00:00<00:00, 17.39it/s]\n",
      "  1%|          | 1/115 [00:00<00:21,  5.30it/s]"
     ]
    },
    {
     "name": "stdout",
     "output_type": "stream",
     "text": [
      "Epoch: 35, train_loss: -1.0071617364883423, valid_loss: -0.6175711154937744\n"
     ]
    },
    {
     "name": "stderr",
     "output_type": "stream",
     "text": [
      "100%|██████████| 115/115 [00:20<00:00,  5.64it/s]\n",
      "100%|██████████| 16/16 [00:01<00:00, 15.29it/s]\n",
      "  1%|          | 1/115 [00:00<00:23,  4.90it/s]"
     ]
    },
    {
     "name": "stdout",
     "output_type": "stream",
     "text": [
      "Epoch: 36, train_loss: -1.0203816890716553, valid_loss: -0.599685549736023\n"
     ]
    },
    {
     "name": "stderr",
     "output_type": "stream",
     "text": [
      "100%|██████████| 115/115 [00:24<00:00,  4.61it/s]\n",
      "100%|██████████| 16/16 [00:00<00:00, 17.35it/s]\n",
      "  0%|          | 0/115 [00:00<?, ?it/s]"
     ]
    },
    {
     "name": "stdout",
     "output_type": "stream",
     "text": [
      "Epoch: 37, train_loss: -1.0711393356323242, valid_loss: -0.6621230840682983\n"
     ]
    },
    {
     "name": "stderr",
     "output_type": "stream",
     "text": [
      "100%|██████████| 115/115 [00:23<00:00,  4.86it/s]\n",
      "100%|██████████| 16/16 [00:00<00:00, 16.80it/s]\n",
      "  0%|          | 0/115 [00:00<?, ?it/s]"
     ]
    },
    {
     "name": "stdout",
     "output_type": "stream",
     "text": [
      "Epoch: 38, train_loss: -1.0887802839279175, valid_loss: -0.6286999583244324\n"
     ]
    },
    {
     "name": "stderr",
     "output_type": "stream",
     "text": [
      "100%|██████████| 115/115 [00:20<00:00,  5.54it/s]\n",
      "100%|██████████| 16/16 [00:00<00:00, 17.08it/s]\n"
     ]
    },
    {
     "name": "stdout",
     "output_type": "stream",
     "text": [
      "Epoch: 39, train_loss: -1.0800338983535767, valid_loss: -0.6353963017463684\n"
     ]
    },
    {
     "name": "stderr",
     "output_type": "stream",
     "text": [
      "\r",
      "  0%|          | 0/28 [00:00<?, ?it/s]"
     ]
    },
    {
     "name": "stdout",
     "output_type": "stream",
     "text": [
      "{'BATCH_SIZE': 512, 'EPOCHS': 40, 'OPTIMIZER': <class 'torch.optim.adam.Adam'>, 'LEARNING_RATE': 1e-05, 'LOSS': protop_loss_2_1, 'EARLY_STOPPING': False, 'PATIENCE': 3, 'MIN_DELTA': 0.005, 'MAXPOOL': 2, 'OBO_SIZES': array([512, 512]), 'PROTOTYPE_NUM': 30, 'DROPOUT': 0.0, 'PROTO_ACTIVATION': 'log', 'HIDDEN_SIZES': array([128, 256, 512]), 'KERNEL_SIZES': array([5, 5, 3])}\n"
     ]
    },
    {
     "name": "stderr",
     "output_type": "stream",
     "text": [
      "100%|██████████| 28/28 [01:05<00:00,  2.33s/it]\n",
      "100%|██████████| 4/4 [00:03<00:00,  1.08it/s]\n",
      "  0%|          | 0/28 [00:00<?, ?it/s]"
     ]
    },
    {
     "name": "stdout",
     "output_type": "stream",
     "text": [
      "Epoch: 0, train_loss: 11.139409065246582, valid_loss: 10.651265144348145\n"
     ]
    },
    {
     "name": "stderr",
     "output_type": "stream",
     "text": [
      "100%|██████████| 28/28 [01:04<00:00,  2.31s/it]\n",
      "100%|██████████| 4/4 [00:03<00:00,  1.14it/s]\n",
      "  0%|          | 0/28 [00:00<?, ?it/s]"
     ]
    },
    {
     "name": "stdout",
     "output_type": "stream",
     "text": [
      "Epoch: 1, train_loss: 10.098917007446289, valid_loss: 9.485382080078125\n"
     ]
    },
    {
     "name": "stderr",
     "output_type": "stream",
     "text": [
      "100%|██████████| 28/28 [01:05<00:00,  2.33s/it]\n",
      "100%|██████████| 4/4 [00:03<00:00,  1.04it/s]\n",
      "  0%|          | 0/28 [00:00<?, ?it/s]"
     ]
    },
    {
     "name": "stdout",
     "output_type": "stream",
     "text": [
      "Epoch: 2, train_loss: 8.848811149597168, valid_loss: 8.229118347167969\n"
     ]
    },
    {
     "name": "stderr",
     "output_type": "stream",
     "text": [
      "100%|██████████| 28/28 [01:04<00:00,  2.31s/it]\n",
      "100%|██████████| 4/4 [00:03<00:00,  1.11it/s]\n",
      "  0%|          | 0/28 [00:00<?, ?it/s]"
     ]
    },
    {
     "name": "stdout",
     "output_type": "stream",
     "text": [
      "Epoch: 3, train_loss: 7.646435260772705, valid_loss: 7.1619439125061035\n"
     ]
    },
    {
     "name": "stderr",
     "output_type": "stream",
     "text": [
      "100%|██████████| 28/28 [01:04<00:00,  2.31s/it]\n",
      "100%|██████████| 4/4 [00:03<00:00,  1.07it/s]\n",
      "  0%|          | 0/28 [00:00<?, ?it/s]"
     ]
    },
    {
     "name": "stdout",
     "output_type": "stream",
     "text": [
      "Epoch: 4, train_loss: 6.678832054138184, valid_loss: 6.345096111297607\n"
     ]
    },
    {
     "name": "stderr",
     "output_type": "stream",
     "text": [
      "100%|██████████| 28/28 [01:04<00:00,  2.31s/it]\n",
      "100%|██████████| 4/4 [00:03<00:00,  1.06it/s]\n",
      "  0%|          | 0/28 [00:00<?, ?it/s]"
     ]
    },
    {
     "name": "stdout",
     "output_type": "stream",
     "text": [
      "Epoch: 5, train_loss: 5.968101978302002, valid_loss: 5.770380020141602\n"
     ]
    },
    {
     "name": "stderr",
     "output_type": "stream",
     "text": [
      "100%|██████████| 28/28 [01:04<00:00,  2.31s/it]\n",
      "100%|██████████| 4/4 [00:03<00:00,  1.13it/s]\n",
      "  0%|          | 0/28 [00:00<?, ?it/s]"
     ]
    },
    {
     "name": "stdout",
     "output_type": "stream",
     "text": [
      "Epoch: 6, train_loss: 5.443405628204346, valid_loss: 5.339312553405762\n"
     ]
    },
    {
     "name": "stderr",
     "output_type": "stream",
     "text": [
      "100%|██████████| 28/28 [01:05<00:00,  2.32s/it]\n",
      "100%|██████████| 4/4 [00:04<00:00,  1.04s/it]\n",
      "  0%|          | 0/28 [00:00<?, ?it/s]"
     ]
    },
    {
     "name": "stdout",
     "output_type": "stream",
     "text": [
      "Epoch: 7, train_loss: 5.065608978271484, valid_loss: 4.987281799316406\n"
     ]
    },
    {
     "name": "stderr",
     "output_type": "stream",
     "text": [
      "100%|██████████| 28/28 [01:03<00:00,  2.28s/it]\n",
      "100%|██████████| 4/4 [00:03<00:00,  1.05it/s]\n",
      "  0%|          | 0/28 [00:00<?, ?it/s]"
     ]
    },
    {
     "name": "stdout",
     "output_type": "stream",
     "text": [
      "Epoch: 8, train_loss: 4.791491985321045, valid_loss: 4.777431488037109\n"
     ]
    },
    {
     "name": "stderr",
     "output_type": "stream",
     "text": [
      "100%|██████████| 28/28 [01:04<00:00,  2.29s/it]\n",
      "100%|██████████| 4/4 [00:03<00:00,  1.10it/s]\n",
      "  0%|          | 0/28 [00:00<?, ?it/s]"
     ]
    },
    {
     "name": "stdout",
     "output_type": "stream",
     "text": [
      "Epoch: 9, train_loss: 4.6190032958984375, valid_loss: 4.620589256286621\n"
     ]
    },
    {
     "name": "stderr",
     "output_type": "stream",
     "text": [
      "100%|██████████| 28/28 [01:03<00:00,  2.28s/it]\n",
      "100%|██████████| 4/4 [00:03<00:00,  1.11it/s]\n",
      "  0%|          | 0/28 [00:00<?, ?it/s]"
     ]
    },
    {
     "name": "stdout",
     "output_type": "stream",
     "text": [
      "Epoch: 10, train_loss: 4.490969657897949, valid_loss: 4.569086074829102\n"
     ]
    },
    {
     "name": "stderr",
     "output_type": "stream",
     "text": [
      "100%|██████████| 28/28 [01:05<00:00,  2.32s/it]\n",
      "100%|██████████| 4/4 [00:03<00:00,  1.05it/s]\n",
      "  0%|          | 0/28 [00:00<?, ?it/s]"
     ]
    },
    {
     "name": "stdout",
     "output_type": "stream",
     "text": [
      "Epoch: 11, train_loss: 4.439527988433838, valid_loss: 4.501644134521484\n"
     ]
    },
    {
     "name": "stderr",
     "output_type": "stream",
     "text": [
      "100%|██████████| 28/28 [01:06<00:00,  2.37s/it]\n",
      "100%|██████████| 4/4 [00:03<00:00,  1.05it/s]\n",
      "  0%|          | 0/28 [00:00<?, ?it/s]"
     ]
    },
    {
     "name": "stdout",
     "output_type": "stream",
     "text": [
      "Epoch: 12, train_loss: 4.315991401672363, valid_loss: 4.330747604370117\n"
     ]
    },
    {
     "name": "stderr",
     "output_type": "stream",
     "text": [
      "100%|██████████| 28/28 [01:07<00:00,  2.39s/it]\n",
      "100%|██████████| 4/4 [00:03<00:00,  1.12it/s]\n",
      "  0%|          | 0/28 [00:00<?, ?it/s]"
     ]
    },
    {
     "name": "stdout",
     "output_type": "stream",
     "text": [
      "Epoch: 13, train_loss: 4.207160949707031, valid_loss: 4.281760215759277\n"
     ]
    },
    {
     "name": "stderr",
     "output_type": "stream",
     "text": [
      "100%|██████████| 28/28 [01:04<00:00,  2.30s/it]\n",
      "100%|██████████| 4/4 [00:03<00:00,  1.06it/s]\n",
      "  0%|          | 0/28 [00:00<?, ?it/s]"
     ]
    },
    {
     "name": "stdout",
     "output_type": "stream",
     "text": [
      "Epoch: 14, train_loss: 4.162769794464111, valid_loss: 4.245697498321533\n"
     ]
    },
    {
     "name": "stderr",
     "output_type": "stream",
     "text": [
      "100%|██████████| 28/28 [01:04<00:00,  2.32s/it]\n",
      "100%|██████████| 4/4 [00:03<00:00,  1.08it/s]\n",
      "  0%|          | 0/28 [00:00<?, ?it/s]"
     ]
    },
    {
     "name": "stdout",
     "output_type": "stream",
     "text": [
      "Epoch: 15, train_loss: 4.1317057609558105, valid_loss: 4.2179975509643555\n"
     ]
    },
    {
     "name": "stderr",
     "output_type": "stream",
     "text": [
      "100%|██████████| 28/28 [01:06<00:00,  2.37s/it]\n",
      "100%|██████████| 4/4 [00:03<00:00,  1.04it/s]\n",
      "  0%|          | 0/28 [00:00<?, ?it/s]"
     ]
    },
    {
     "name": "stdout",
     "output_type": "stream",
     "text": [
      "Epoch: 16, train_loss: 4.131654262542725, valid_loss: 4.251282691955566\n"
     ]
    },
    {
     "name": "stderr",
     "output_type": "stream",
     "text": [
      "100%|██████████| 28/28 [01:06<00:00,  2.37s/it]\n",
      "100%|██████████| 4/4 [00:03<00:00,  1.01it/s]\n",
      "  0%|          | 0/28 [00:00<?, ?it/s]"
     ]
    },
    {
     "name": "stdout",
     "output_type": "stream",
     "text": [
      "Epoch: 17, train_loss: 4.119368076324463, valid_loss: 4.202173709869385\n"
     ]
    },
    {
     "name": "stderr",
     "output_type": "stream",
     "text": [
      "100%|██████████| 28/28 [01:05<00:00,  2.32s/it]\n",
      "100%|██████████| 4/4 [00:03<00:00,  1.12it/s]\n",
      "  0%|          | 0/28 [00:00<?, ?it/s]"
     ]
    },
    {
     "name": "stdout",
     "output_type": "stream",
     "text": [
      "Epoch: 18, train_loss: 4.1086626052856445, valid_loss: 4.172904968261719\n"
     ]
    },
    {
     "name": "stderr",
     "output_type": "stream",
     "text": [
      "100%|██████████| 28/28 [01:08<00:00,  2.44s/it]\n",
      "100%|██████████| 4/4 [00:03<00:00,  1.07it/s]\n",
      "  0%|          | 0/28 [00:00<?, ?it/s]"
     ]
    },
    {
     "name": "stdout",
     "output_type": "stream",
     "text": [
      "Epoch: 19, train_loss: 4.068686008453369, valid_loss: 4.153168201446533\n"
     ]
    },
    {
     "name": "stderr",
     "output_type": "stream",
     "text": [
      "100%|██████████| 28/28 [01:06<00:00,  2.36s/it]\n",
      "100%|██████████| 4/4 [00:03<00:00,  1.05it/s]\n",
      "  0%|          | 0/28 [00:00<?, ?it/s]"
     ]
    },
    {
     "name": "stdout",
     "output_type": "stream",
     "text": [
      "Epoch: 20, train_loss: 4.055257320404053, valid_loss: 4.151242733001709\n"
     ]
    },
    {
     "name": "stderr",
     "output_type": "stream",
     "text": [
      "100%|██████████| 28/28 [01:06<00:00,  2.36s/it]\n",
      "100%|██████████| 4/4 [00:03<00:00,  1.04it/s]\n",
      "  0%|          | 0/28 [00:00<?, ?it/s]"
     ]
    },
    {
     "name": "stdout",
     "output_type": "stream",
     "text": [
      "Epoch: 21, train_loss: 4.030745506286621, valid_loss: 4.097373008728027\n"
     ]
    },
    {
     "name": "stderr",
     "output_type": "stream",
     "text": [
      "100%|██████████| 28/28 [01:05<00:00,  2.33s/it]\n",
      "100%|██████████| 4/4 [00:03<00:00,  1.04it/s]\n",
      "  0%|          | 0/28 [00:00<?, ?it/s]"
     ]
    },
    {
     "name": "stdout",
     "output_type": "stream",
     "text": [
      "Epoch: 22, train_loss: 4.014980316162109, valid_loss: 4.05830192565918\n"
     ]
    },
    {
     "name": "stderr",
     "output_type": "stream",
     "text": [
      "100%|██████████| 28/28 [01:05<00:00,  2.35s/it]\n",
      "100%|██████████| 4/4 [00:03<00:00,  1.09it/s]\n",
      "  0%|          | 0/28 [00:00<?, ?it/s]"
     ]
    },
    {
     "name": "stdout",
     "output_type": "stream",
     "text": [
      "Epoch: 23, train_loss: 3.9669394493103027, valid_loss: 4.081186294555664\n"
     ]
    },
    {
     "name": "stderr",
     "output_type": "stream",
     "text": [
      "100%|██████████| 28/28 [01:04<00:00,  2.31s/it]\n",
      "100%|██████████| 4/4 [00:03<00:00,  1.08it/s]\n",
      "  0%|          | 0/28 [00:00<?, ?it/s]"
     ]
    },
    {
     "name": "stdout",
     "output_type": "stream",
     "text": [
      "Epoch: 24, train_loss: 3.9540581703186035, valid_loss: 4.057964324951172\n"
     ]
    },
    {
     "name": "stderr",
     "output_type": "stream",
     "text": [
      "100%|██████████| 28/28 [01:05<00:00,  2.33s/it]\n",
      "100%|██████████| 4/4 [00:03<00:00,  1.08it/s]\n",
      "  0%|          | 0/28 [00:00<?, ?it/s]"
     ]
    },
    {
     "name": "stdout",
     "output_type": "stream",
     "text": [
      "Epoch: 25, train_loss: 3.931685209274292, valid_loss: 4.006891250610352\n"
     ]
    },
    {
     "name": "stderr",
     "output_type": "stream",
     "text": [
      "100%|██████████| 28/28 [01:06<00:00,  2.37s/it]\n",
      "100%|██████████| 4/4 [00:03<00:00,  1.14it/s]\n",
      "  0%|          | 0/28 [00:00<?, ?it/s]"
     ]
    },
    {
     "name": "stdout",
     "output_type": "stream",
     "text": [
      "Epoch: 26, train_loss: 3.9042704105377197, valid_loss: 3.9796736240386963\n"
     ]
    },
    {
     "name": "stderr",
     "output_type": "stream",
     "text": [
      "100%|██████████| 28/28 [01:04<00:00,  2.32s/it]\n",
      "100%|██████████| 4/4 [00:03<00:00,  1.07it/s]\n",
      "  0%|          | 0/28 [00:00<?, ?it/s]"
     ]
    },
    {
     "name": "stdout",
     "output_type": "stream",
     "text": [
      "Epoch: 27, train_loss: 3.8834941387176514, valid_loss: 3.973562002182007\n"
     ]
    },
    {
     "name": "stderr",
     "output_type": "stream",
     "text": [
      "100%|██████████| 28/28 [01:04<00:00,  2.30s/it]\n",
      "100%|██████████| 4/4 [00:03<00:00,  1.08it/s]\n",
      "  0%|          | 0/28 [00:00<?, ?it/s]"
     ]
    },
    {
     "name": "stdout",
     "output_type": "stream",
     "text": [
      "Epoch: 28, train_loss: 3.8816111087799072, valid_loss: 3.972454786300659\n"
     ]
    },
    {
     "name": "stderr",
     "output_type": "stream",
     "text": [
      "100%|██████████| 28/28 [01:05<00:00,  2.32s/it]\n",
      "100%|██████████| 4/4 [00:03<00:00,  1.01it/s]\n",
      "  0%|          | 0/28 [00:00<?, ?it/s]"
     ]
    },
    {
     "name": "stdout",
     "output_type": "stream",
     "text": [
      "Epoch: 29, train_loss: 3.87634015083313, valid_loss: 3.9497570991516113\n"
     ]
    },
    {
     "name": "stderr",
     "output_type": "stream",
     "text": [
      "100%|██████████| 28/28 [01:04<00:00,  2.31s/it]\n",
      "100%|██████████| 4/4 [00:03<00:00,  1.10it/s]\n",
      "  0%|          | 0/28 [00:00<?, ?it/s]"
     ]
    },
    {
     "name": "stdout",
     "output_type": "stream",
     "text": [
      "Epoch: 30, train_loss: 3.8545191287994385, valid_loss: 3.990194320678711\n"
     ]
    },
    {
     "name": "stderr",
     "output_type": "stream",
     "text": [
      "100%|██████████| 28/28 [01:04<00:00,  2.31s/it]\n",
      "100%|██████████| 4/4 [00:03<00:00,  1.10it/s]\n",
      "  0%|          | 0/28 [00:00<?, ?it/s]"
     ]
    },
    {
     "name": "stdout",
     "output_type": "stream",
     "text": [
      "Epoch: 31, train_loss: 3.853438138961792, valid_loss: 3.9450953006744385\n"
     ]
    },
    {
     "name": "stderr",
     "output_type": "stream",
     "text": [
      "100%|██████████| 28/28 [01:04<00:00,  2.30s/it]\n",
      "100%|██████████| 4/4 [00:03<00:00,  1.05it/s]\n",
      "  0%|          | 0/28 [00:00<?, ?it/s]"
     ]
    },
    {
     "name": "stdout",
     "output_type": "stream",
     "text": [
      "Epoch: 32, train_loss: 3.8467650413513184, valid_loss: 3.956756591796875\n"
     ]
    },
    {
     "name": "stderr",
     "output_type": "stream",
     "text": [
      "100%|██████████| 28/28 [01:04<00:00,  2.31s/it]\n",
      "100%|██████████| 4/4 [00:03<00:00,  1.09it/s]\n",
      "  0%|          | 0/28 [00:00<?, ?it/s]"
     ]
    },
    {
     "name": "stdout",
     "output_type": "stream",
     "text": [
      "Epoch: 33, train_loss: 3.85526442527771, valid_loss: 3.9166629314422607\n"
     ]
    },
    {
     "name": "stderr",
     "output_type": "stream",
     "text": [
      "100%|██████████| 28/28 [01:08<00:00,  2.44s/it]\n",
      "100%|██████████| 4/4 [00:03<00:00,  1.01it/s]\n",
      "  0%|          | 0/28 [00:00<?, ?it/s]"
     ]
    },
    {
     "name": "stdout",
     "output_type": "stream",
     "text": [
      "Epoch: 34, train_loss: 3.8341917991638184, valid_loss: 3.9314157962799072\n"
     ]
    },
    {
     "name": "stderr",
     "output_type": "stream",
     "text": [
      "100%|██████████| 28/28 [01:03<00:00,  2.28s/it]\n",
      "100%|██████████| 4/4 [00:03<00:00,  1.05it/s]\n",
      "  0%|          | 0/28 [00:00<?, ?it/s]"
     ]
    },
    {
     "name": "stdout",
     "output_type": "stream",
     "text": [
      "Epoch: 35, train_loss: 3.8247694969177246, valid_loss: 3.8866488933563232\n"
     ]
    },
    {
     "name": "stderr",
     "output_type": "stream",
     "text": [
      "100%|██████████| 28/28 [01:03<00:00,  2.28s/it]\n",
      "100%|██████████| 4/4 [00:03<00:00,  1.04it/s]\n",
      "  0%|          | 0/28 [00:00<?, ?it/s]"
     ]
    },
    {
     "name": "stdout",
     "output_type": "stream",
     "text": [
      "Epoch: 36, train_loss: 3.779599666595459, valid_loss: 3.852928876876831\n"
     ]
    },
    {
     "name": "stderr",
     "output_type": "stream",
     "text": [
      "100%|██████████| 28/28 [01:02<00:00,  2.24s/it]\n",
      "100%|██████████| 4/4 [00:03<00:00,  1.03it/s]\n",
      "  0%|          | 0/28 [00:00<?, ?it/s]"
     ]
    },
    {
     "name": "stdout",
     "output_type": "stream",
     "text": [
      "Epoch: 37, train_loss: 3.7705140113830566, valid_loss: 3.836618661880493\n"
     ]
    },
    {
     "name": "stderr",
     "output_type": "stream",
     "text": [
      "100%|██████████| 28/28 [01:03<00:00,  2.27s/it]\n",
      "100%|██████████| 4/4 [00:03<00:00,  1.09it/s]\n",
      "  0%|          | 0/28 [00:00<?, ?it/s]"
     ]
    },
    {
     "name": "stdout",
     "output_type": "stream",
     "text": [
      "Epoch: 38, train_loss: 3.7577948570251465, valid_loss: 3.831380844116211\n"
     ]
    },
    {
     "name": "stderr",
     "output_type": "stream",
     "text": [
      "100%|██████████| 28/28 [01:03<00:00,  2.28s/it]\n",
      "100%|██████████| 4/4 [00:03<00:00,  1.14it/s]\n"
     ]
    },
    {
     "name": "stdout",
     "output_type": "stream",
     "text": [
      "Epoch: 39, train_loss: 3.7470831871032715, valid_loss: 3.853616237640381\n"
     ]
    },
    {
     "name": "stderr",
     "output_type": "stream",
     "text": [
      "\r",
      "  0%|          | 0/57 [00:00<?, ?it/s]"
     ]
    },
    {
     "name": "stdout",
     "output_type": "stream",
     "text": [
      "{'BATCH_SIZE': 256, 'EPOCHS': 20, 'OPTIMIZER': <class 'torch.optim.adam.Adam'>, 'LEARNING_RATE': 0.0001, 'LOSS': protop_loss_1_1, 'EARLY_STOPPING': False, 'PATIENCE': 3, 'MIN_DELTA': 0.0001, 'MAXPOOL': 2, 'OBO_SIZES': array([512, 256]), 'PROTOTYPE_NUM': 10, 'DROPOUT': 0.1, 'PROTO_ACTIVATION': 'log', 'HIDDEN_SIZES': array([128, 256, 512]), 'KERNEL_SIZES': array([5, 3, 3])}\n"
     ]
    },
    {
     "name": "stderr",
     "output_type": "stream",
     "text": [
      "100%|██████████| 57/57 [00:19<00:00,  2.87it/s]\n",
      "100%|██████████| 8/8 [00:01<00:00,  7.99it/s]\n",
      "  0%|          | 0/57 [00:00<?, ?it/s]"
     ]
    },
    {
     "name": "stdout",
     "output_type": "stream",
     "text": [
      "Epoch: 0, train_loss: -1.3419040441513062, valid_loss: -1.9515918493270874\n"
     ]
    },
    {
     "name": "stderr",
     "output_type": "stream",
     "text": [
      "100%|██████████| 57/57 [00:19<00:00,  2.93it/s]\n",
      "100%|██████████| 8/8 [00:01<00:00,  7.84it/s]\n",
      "  0%|          | 0/57 [00:00<?, ?it/s]"
     ]
    },
    {
     "name": "stdout",
     "output_type": "stream",
     "text": [
      "Epoch: 1, train_loss: -2.146091938018799, valid_loss: -2.1680471897125244\n"
     ]
    },
    {
     "name": "stderr",
     "output_type": "stream",
     "text": [
      "100%|██████████| 57/57 [00:19<00:00,  2.93it/s]\n",
      "100%|██████████| 8/8 [00:00<00:00,  8.50it/s]\n",
      "  0%|          | 0/57 [00:00<?, ?it/s]"
     ]
    },
    {
     "name": "stdout",
     "output_type": "stream",
     "text": [
      "Epoch: 2, train_loss: -2.2204880714416504, valid_loss: -2.225900888442993\n"
     ]
    },
    {
     "name": "stderr",
     "output_type": "stream",
     "text": [
      "100%|██████████| 57/57 [00:19<00:00,  2.93it/s]\n",
      "100%|██████████| 8/8 [00:00<00:00,  8.01it/s]\n",
      "  0%|          | 0/57 [00:00<?, ?it/s]"
     ]
    },
    {
     "name": "stdout",
     "output_type": "stream",
     "text": [
      "Epoch: 3, train_loss: -2.2756471633911133, valid_loss: -2.236362934112549\n"
     ]
    },
    {
     "name": "stderr",
     "output_type": "stream",
     "text": [
      "100%|██████████| 57/57 [00:19<00:00,  2.95it/s]\n",
      "100%|██████████| 8/8 [00:00<00:00,  8.16it/s]\n",
      "  0%|          | 0/57 [00:00<?, ?it/s]"
     ]
    },
    {
     "name": "stdout",
     "output_type": "stream",
     "text": [
      "Epoch: 4, train_loss: -2.2862141132354736, valid_loss: -2.241018772125244\n"
     ]
    },
    {
     "name": "stderr",
     "output_type": "stream",
     "text": [
      "100%|██████████| 57/57 [00:19<00:00,  2.87it/s]\n",
      "100%|██████████| 8/8 [00:00<00:00,  8.21it/s]\n",
      "  0%|          | 0/57 [00:00<?, ?it/s]"
     ]
    },
    {
     "name": "stdout",
     "output_type": "stream",
     "text": [
      "Epoch: 5, train_loss: -2.295407772064209, valid_loss: -2.266160488128662\n"
     ]
    },
    {
     "name": "stderr",
     "output_type": "stream",
     "text": [
      "100%|██████████| 57/57 [00:19<00:00,  2.98it/s]\n",
      "100%|██████████| 8/8 [00:00<00:00,  8.06it/s]\n",
      "  0%|          | 0/57 [00:00<?, ?it/s]"
     ]
    },
    {
     "name": "stdout",
     "output_type": "stream",
     "text": [
      "Epoch: 6, train_loss: -2.300894021987915, valid_loss: -2.2721197605133057\n"
     ]
    },
    {
     "name": "stderr",
     "output_type": "stream",
     "text": [
      "100%|██████████| 57/57 [00:19<00:00,  2.97it/s]\n",
      "100%|██████████| 8/8 [00:00<00:00,  8.23it/s]\n",
      "  0%|          | 0/57 [00:00<?, ?it/s]"
     ]
    },
    {
     "name": "stdout",
     "output_type": "stream",
     "text": [
      "Epoch: 7, train_loss: -2.3043620586395264, valid_loss: -2.265650510787964\n"
     ]
    },
    {
     "name": "stderr",
     "output_type": "stream",
     "text": [
      "100%|██████████| 57/57 [00:19<00:00,  2.95it/s]\n",
      "100%|██████████| 8/8 [00:00<00:00,  8.49it/s]\n",
      "  0%|          | 0/57 [00:00<?, ?it/s]"
     ]
    },
    {
     "name": "stdout",
     "output_type": "stream",
     "text": [
      "Epoch: 8, train_loss: -2.311422824859619, valid_loss: -2.2670323848724365\n"
     ]
    },
    {
     "name": "stderr",
     "output_type": "stream",
     "text": [
      "100%|██████████| 57/57 [00:19<00:00,  2.97it/s]\n",
      "100%|██████████| 8/8 [00:01<00:00,  7.82it/s]\n",
      "  0%|          | 0/57 [00:00<?, ?it/s]"
     ]
    },
    {
     "name": "stdout",
     "output_type": "stream",
     "text": [
      "Epoch: 9, train_loss: -2.3079311847686768, valid_loss: -2.2592549324035645\n"
     ]
    },
    {
     "name": "stderr",
     "output_type": "stream",
     "text": [
      "100%|██████████| 57/57 [00:19<00:00,  2.93it/s]\n",
      "100%|██████████| 8/8 [00:01<00:00,  7.77it/s]\n",
      "  0%|          | 0/57 [00:00<?, ?it/s]"
     ]
    },
    {
     "name": "stdout",
     "output_type": "stream",
     "text": [
      "Epoch: 10, train_loss: -2.319582462310791, valid_loss: -2.2857565879821777\n"
     ]
    },
    {
     "name": "stderr",
     "output_type": "stream",
     "text": [
      "100%|██████████| 57/57 [00:19<00:00,  2.98it/s]\n",
      "100%|██████████| 8/8 [00:01<00:00,  7.78it/s]\n",
      "  0%|          | 0/57 [00:00<?, ?it/s]"
     ]
    },
    {
     "name": "stdout",
     "output_type": "stream",
     "text": [
      "Epoch: 11, train_loss: -2.335073709487915, valid_loss: -2.2913918495178223\n"
     ]
    },
    {
     "name": "stderr",
     "output_type": "stream",
     "text": [
      "100%|██████████| 57/57 [00:19<00:00,  2.94it/s]\n",
      "100%|██████████| 8/8 [00:00<00:00,  8.24it/s]\n",
      "  0%|          | 0/57 [00:00<?, ?it/s]"
     ]
    },
    {
     "name": "stdout",
     "output_type": "stream",
     "text": [
      "Epoch: 12, train_loss: -2.338109016418457, valid_loss: -2.268953800201416\n"
     ]
    },
    {
     "name": "stderr",
     "output_type": "stream",
     "text": [
      "100%|██████████| 57/57 [00:19<00:00,  2.95it/s]\n",
      "100%|██████████| 8/8 [00:00<00:00,  8.42it/s]\n",
      "  0%|          | 0/57 [00:00<?, ?it/s]"
     ]
    },
    {
     "name": "stdout",
     "output_type": "stream",
     "text": [
      "Epoch: 13, train_loss: -2.337897300720215, valid_loss: -2.276580333709717\n"
     ]
    },
    {
     "name": "stderr",
     "output_type": "stream",
     "text": [
      "100%|██████████| 57/57 [00:18<00:00,  3.02it/s]\n",
      "100%|██████████| 8/8 [00:00<00:00,  8.05it/s]\n",
      "  0%|          | 0/57 [00:00<?, ?it/s]"
     ]
    },
    {
     "name": "stdout",
     "output_type": "stream",
     "text": [
      "Epoch: 14, train_loss: -2.3433725833892822, valid_loss: -2.276688575744629\n"
     ]
    },
    {
     "name": "stderr",
     "output_type": "stream",
     "text": [
      "100%|██████████| 57/57 [00:19<00:00,  2.89it/s]\n",
      "100%|██████████| 8/8 [00:01<00:00,  7.64it/s]\n",
      "  0%|          | 0/57 [00:00<?, ?it/s]"
     ]
    },
    {
     "name": "stdout",
     "output_type": "stream",
     "text": [
      "Epoch: 15, train_loss: -2.340261936187744, valid_loss: -2.3071846961975098\n"
     ]
    },
    {
     "name": "stderr",
     "output_type": "stream",
     "text": [
      "100%|██████████| 57/57 [00:19<00:00,  2.91it/s]\n",
      "100%|██████████| 8/8 [00:00<00:00,  8.26it/s]\n",
      "  0%|          | 0/57 [00:00<?, ?it/s]"
     ]
    },
    {
     "name": "stdout",
     "output_type": "stream",
     "text": [
      "Epoch: 16, train_loss: -2.3395497798919678, valid_loss: -2.277970314025879\n"
     ]
    },
    {
     "name": "stderr",
     "output_type": "stream",
     "text": [
      "100%|██████████| 57/57 [00:19<00:00,  2.98it/s]\n",
      "100%|██████████| 8/8 [00:00<00:00,  8.43it/s]\n",
      "  0%|          | 0/57 [00:00<?, ?it/s]"
     ]
    },
    {
     "name": "stdout",
     "output_type": "stream",
     "text": [
      "Epoch: 17, train_loss: -2.3471434116363525, valid_loss: -2.2942981719970703\n"
     ]
    },
    {
     "name": "stderr",
     "output_type": "stream",
     "text": [
      "100%|██████████| 57/57 [00:19<00:00,  2.88it/s]\n",
      "100%|██████████| 8/8 [00:00<00:00,  8.39it/s]\n",
      "  0%|          | 0/57 [00:00<?, ?it/s]"
     ]
    },
    {
     "name": "stdout",
     "output_type": "stream",
     "text": [
      "Epoch: 18, train_loss: -2.3525094985961914, valid_loss: -2.3035287857055664\n"
     ]
    },
    {
     "name": "stderr",
     "output_type": "stream",
     "text": [
      "100%|██████████| 57/57 [00:19<00:00,  2.92it/s]\n",
      "100%|██████████| 8/8 [00:00<00:00,  8.52it/s]\n"
     ]
    },
    {
     "name": "stdout",
     "output_type": "stream",
     "text": [
      "Epoch: 19, train_loss: -2.367727279663086, valid_loss: -2.330211639404297\n",
      "CPU times: user 12h 29min 20s, sys: 6h 47min 9s, total: 19h 16min 30s\n",
      "Wall time: 4h 47min 33s\n"
     ]
    }
   ],
   "source": [
    "%%time\n",
    "stats = []\n",
    "for i in np.arange(N):\n",
    "    print(param_samples[i])\n",
    "    param_samples[i]['EPOCHS']\n",
    "    push_epochs = [param_samples[0]['EPOCHS'] -1] #list(range(5,param_samples[0]['EPOCHS'],2))\n",
    "    run = TrainTest(ProtICU, (train, val, test), param_samples[i], push_epochs=push_epochs)\n",
    "    run.train()\n",
    "    stats.append(run.test())\n",
    "    stats[i]['prototype_raw'] = run.prototype_raw\n",
    "    stats[i]['model'] = run.model"
   ]
  },
  {
   "cell_type": "code",
   "execution_count": 518,
   "metadata": {
    "scrolled": false
   },
   "outputs": [],
   "source": [
    "# make params_sample\n",
    "for i in np.arange(N):\n",
    "    for key,val in stats[i].items():\n",
    "        param_samples[i][key] = val\n",
    "        \n",
    "# saving \n",
    "torch.save(param_samples, 'results/Proto_experiment_push_last_N'+str(N)+'.pkl')\n",
    "\n",
    "# getting pd \n",
    "import pandas as pd \n",
    "df = pd.DataFrame(param_samples)"
   ]
  },
  {
   "cell_type": "markdown",
   "metadata": {},
   "source": [
    "## Visualising Tensors "
   ]
  },
  {
   "cell_type": "code",
   "execution_count": 520,
   "metadata": {},
   "outputs": [],
   "source": [
    "selected = [d for d in param_samples if d['PROTO_ACTIVATION'] == 'log' and \n",
    "              not d['EARLY_STOPPING'] and \n",
    "              d['auroc'] > 0.75]"
   ]
  },
  {
   "cell_type": "code",
   "execution_count": 369,
   "metadata": {},
   "outputs": [
    {
     "name": "stdout",
     "output_type": "stream",
     "text": [
      "The autoreload extension is already loaded. To reload it, use:\n",
      "  %reload_ext autoreload\n"
     ]
    }
   ],
   "source": [
    "%load_ext autoreload\n",
    "%autoreload 2\n",
    "from utils.visuals import compare_with_prototypes"
   ]
  },
  {
   "cell_type": "code",
   "execution_count": 370,
   "metadata": {},
   "outputs": [],
   "source": [
    "train, val, test = torch.load('data/in-hospital-mortality/tensors.pkl')\n",
    "cols = torch.load('data/in-hospital-mortality/tensor_features.pkl')\n",
    "\n",
    "# INDEXES \n",
    "idx_dict = {\n",
    "    'CONT': np.arange(14), \n",
    "    'CONT_MASK': np.arange(29, 43), \n",
    "    'DISC': [np.arange(14, 18), np.arange(18, 24), np.arange(24, 29)],\n",
    "    'DISC_MASK': np.arange(43, 46)\n",
    "}\n",
    "# DISCRETE MAPPING\n",
    "disc_orders = [\n",
    "    ['no_response', 'to_pain', 'to_speech', 'spontaneously'], # eyes\n",
    "    ['no_response', 'abnormal_extension', 'abnormal_flexion', \n",
    "              'flex-withdraws', 'localizes_pain', 'obeys_commands'], # motor \n",
    "    ['no_response', 'incomprehensible_sounds', \n",
    "               'inappropriate_words', 'confused', 'oriented']] # verbal\n",
    "\n",
    "# SORT DISC ACCORDING TO DISC_ORDERS\n",
    "import re \n",
    "cols = np.array([re.sub('^[^_]*_', '', s) for s in list(cols)] )\n",
    "new_disc = []\n",
    "for i,r in enumerate(idx_dict['DISC']): \n",
    "    d = dict(zip(list(cols[r]), r))\n",
    "    temp = [d[j] for j in disc_orders[i]]\n",
    "    new_disc.append(np.array(temp))\n",
    "idx_dict['DISC'] = new_disc"
   ]
  },
  {
   "cell_type": "code",
   "execution_count": 523,
   "metadata": {},
   "outputs": [
    {
     "name": "stdout",
     "output_type": "stream",
     "text": [
      "0.75093389452169\n",
      "protop_loss_0.5_0.5\n"
     ]
    }
   ],
   "source": [
    "model_idx = 0\n",
    "model = selected[model_idx]['model']\n",
    "patch_size = np.power(2, len(selected[model_idx]['HIDDEN_SIZES']))\n",
    "print(selected[model_idx]['auroc'])\n",
    "print(selected[model_idx]['LOSS'])\n",
    "\n",
    "check = model(test[0][:200], get_patch=True)\n",
    "dead = np.arange(200)[(check[0] > .5)[:,1]]\n",
    "j = 0 "
   ]
  },
  {
   "cell_type": "code",
   "execution_count": null,
   "metadata": {},
   "outputs": [],
   "source": [
    "%%time\n",
    "j += 1\n",
    "i = dead[j]\n",
    "prot_num = 3\n",
    "print(i)\n",
    "\n",
    "# DATA \n",
    "data = test[0][i:i+1]\n",
    "result = model(data, get_patch=True)\n",
    "most_activated_proto = torch.topk(result[1], prot_num, largest=False).indices.squeeze().numpy()\n",
    "print(most_activated_proto)\n",
    "patch_idx = result[2].squeeze()[most_activated_proto].numpy()\n",
    "highlight_data = [(pi * patch_size, (pi + 1) * patch_size) for pi in patch_idx]\n",
    "\n",
    "# PROTOTYPE\n",
    "prototypes = [selected[model_idx]['prototype_raw'][0][i] for i in most_activated_proto]\n",
    "patch_idx = [int(selected[model_idx]['prototype_raw'][1][i]) for i in most_activated_proto]\n",
    "highlight_proto = [(pi * patch_size, (pi + 1) * patch_size) for pi in patch_idx]\n",
    "\n",
    "highlights = [[highlight_data[i], highlight_proto[i]] for i in range(len(highlight_data))]\n",
    "\n",
    "compare_with_prototypes(data.squeeze(), prototypes, highlights, cols, idx_dict, \n",
    "                        exclude=['Height', 'Weight', 'Capillary refill rate',\n",
    "                                 'Fraction inspired oxygen', 'Glascow coma scale eye opening',\n",
    "                                 'pH']) #, save='results/visuals/model_0_stroke.jpg')"
   ]
  }
 ],
 "metadata": {
  "kernelspec": {
   "display_name": "deeplearning",
   "language": "python",
   "name": "deeplearning"
  },
  "language_info": {
   "codemirror_mode": {
    "name": "ipython",
    "version": 3
   },
   "file_extension": ".py",
   "mimetype": "text/x-python",
   "name": "python",
   "nbconvert_exporter": "python",
   "pygments_lexer": "ipython3",
   "version": "3.8.3"
  }
 },
 "nbformat": 4,
 "nbformat_minor": 2
}
